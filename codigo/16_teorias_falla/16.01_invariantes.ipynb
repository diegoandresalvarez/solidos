{
 "cells": [
  {
   "cell_type": "markdown",
   "metadata": {
    "id": "xEQ5HB9L2mC1"
   },
   "source": [
    "# Cálculo de invariantes de los tensores de esfuerzos medios (hidrostáticos) y desviadores\n",
    "\n",
    "\n"
   ]
  },
  {
   "cell_type": "markdown",
   "metadata": {
    "id": "ltwLnQSu2Jqz"
   },
   "source": [
    "Cuaderno realizado con la ayuda de:\n",
    "* Nathalie Pineda Pardo"
   ]
  },
  {
   "cell_type": "markdown",
   "metadata": {
    "id": "VhCT4uTTfiIv"
   },
   "source": [
    "## Importamos librerías y funciones"
   ]
  },
  {
   "cell_type": "code",
   "execution_count": 1,
   "metadata": {
    "id": "xCYwFmDWebGF"
   },
   "outputs": [],
   "source": [
    "from sympy import symbols, init_printing, latex, expand, diag, det, trace, Matrix, factor, simplify\n",
    "\n",
    "#Para imprimir bonito\n",
    "init_printing()\n",
    "from IPython.display import Math\n",
    "def imprimir (texto1, variable, texto2=\"\"):\n",
    "    return Math(texto1 +  rf'{latex(variable)}' + texto2)"
   ]
  },
  {
   "cell_type": "markdown",
   "metadata": {
    "id": "qdOJ3-WcfwLi"
   },
   "source": [
    "## Definimos las variables"
   ]
  },
  {
   "cell_type": "code",
   "execution_count": 2,
   "metadata": {
    "id": "Uoj-med3f0Tw"
   },
   "outputs": [],
   "source": [
    "sigmax, sigmay, sigmaz,txy, txz, tyz = symbols('sigma_x, sigma_y, sigma_z, tau_xy, tau_xz, tau_yz')\n",
    "E, nu                                = symbols('E, nu')"
   ]
  },
  {
   "cell_type": "markdown",
   "metadata": {},
   "source": [
    "## Se define el tensor de esfuerzos hidrostáticos y se calculan sus invariantes"
   ]
  },
  {
   "cell_type": "code",
   "execution_count": 3,
   "metadata": {
    "colab": {
     "base_uri": "https://localhost:8080/",
     "height": 79
    },
    "id": "FxBDhTDUpwCB",
    "outputId": "1f7ea48d-ebf4-4bdb-d3d9-2717f61ed048"
   },
   "outputs": [],
   "source": [
    "sM = symbols('sigma_M')\n",
    "\n",
    "sigma_hidr = diag(sM, sM, sM)"
   ]
  },
  {
   "cell_type": "markdown",
   "metadata": {},
   "source": [
    "\\begin{align}\n",
    "I_1 &:= \\sigma_x +\\sigma_y +\\sigma_z = \\operatorname{tr}(\\boldsymbol{\\sigma}) \\label{eq:invar_esf_I1a}\\\\\n",
    "I_2 &:= \\sigma_x \\sigma_y + \\sigma_x \\sigma_z + \\sigma_y \\sigma_z - \\tau_{xy}^2 - \\tau_{xz}^2 - \\tau_{yz}^2 = \\frac{1}{2}\\left((\\operatorname{tr}(\\boldsymbol{\\sigma}))^2 - \\operatorname{tr}(\\boldsymbol{\\sigma}^2)\\right) \\label{eq:invar_esf_I2a}\\\\\n",
    "%   &= \n",
    "% \\det\\left(\\begin{bmatrix}\n",
    "%      \\sigma_x & \\tau_{xy}\\\\ \\tau_{xy} & \\sigma_y\n",
    "%      \\end{bmatrix}\\right)\n",
    "%+\\det\\left(\\begin{bmatrix}\n",
    "%   \\sigma_x & \\tau_{xz}\\\\ \\tau_{xz} & \\sigma_z\n",
    "%\\end{bmatrix}\\right)\n",
    "%+\\det\\left(\\begin{bmatrix}\n",
    "%   \\sigma_y & \\tau_{yz}\\\\ \\tau_{yz} & \\sigma_z\n",
    "%\\end{bmatrix}\\right)\\\\\n",
    "I_3 &:= \\sigma_x \\sigma_y \\sigma_z + 2 \\tau_{xy} \\tau_{xz} \\tau_{yz} - \\sigma_x \\tau_{yz}^{\\phantom{yz}2} - \\sigma_y \\tau_{xz}^{\\phantom{xz}2} - \\sigma_z \\tau_{xy}^{\\phantom{xy}2}  = \\det(\\boldsymbol{\\sigma}). \\label{eq:invar_esf_I3a}\n",
    "\\end{align}"
   ]
  },
  {
   "cell_type": "markdown",
   "metadata": {
    "id": "Ewx1khWTqpXV"
   },
   "source": [
    "Se calculan los invariantes de esfuerzos hidrostáticos:"
   ]
  },
  {
   "cell_type": "code",
   "execution_count": 4,
   "metadata": {
    "id": "vMifna5uqo4Q"
   },
   "outputs": [],
   "source": [
    "I1 = trace(sigma_hidr)\n",
    "I2 = (trace(sigma_hidr)**2 - trace((sigma_hidr)**2))/2\n",
    "I3 = det(sigma_hidr)"
   ]
  },
  {
   "cell_type": "code",
   "execution_count": 5,
   "metadata": {},
   "outputs": [
    {
     "data": {
      "text/latex": [
       "$\\displaystyle I_1 = 3 \\sigma_{M}$"
      ],
      "text/plain": [
       "<IPython.core.display.Math object>"
      ]
     },
     "execution_count": 5,
     "metadata": {},
     "output_type": "execute_result"
    }
   ],
   "source": [
    "imprimir(\"I_1 = \", I1)"
   ]
  },
  {
   "cell_type": "code",
   "execution_count": 6,
   "metadata": {},
   "outputs": [
    {
     "data": {
      "text/latex": [
       "$\\displaystyle I_2 = 3 \\sigma_{M}^{2}$"
      ],
      "text/plain": [
       "<IPython.core.display.Math object>"
      ]
     },
     "execution_count": 6,
     "metadata": {},
     "output_type": "execute_result"
    }
   ],
   "source": [
    "imprimir(\"I_2 = \", I2)"
   ]
  },
  {
   "cell_type": "code",
   "execution_count": 7,
   "metadata": {
    "tags": []
   },
   "outputs": [
    {
     "data": {
      "text/latex": [
       "$\\displaystyle I_3 = \\sigma_{M}^{3}$"
      ],
      "text/plain": [
       "<IPython.core.display.Math object>"
      ]
     },
     "execution_count": 7,
     "metadata": {},
     "output_type": "execute_result"
    }
   ],
   "source": [
    "imprimir(\"I_3 = \", I3)"
   ]
  },
  {
   "cell_type": "markdown",
   "metadata": {},
   "source": [
    "Se define el tensor de esfuerzos desviadores:"
   ]
  },
  {
   "cell_type": "markdown",
   "metadata": {
    "id": "sftyfoHRgzGJ"
   },
   "source": [
    "## Se definen los esfuerzos medios y los esfuerzos desviadores"
   ]
  },
  {
   "cell_type": "code",
   "execution_count": 8,
   "metadata": {
    "id": "C2urL4wOfO8P"
   },
   "outputs": [],
   "source": [
    "# esfuerzos hidrostáticos\n",
    "sM = (sigmax + sigmay + sigmaz)/3\n",
    "\n",
    "# esfuerzos desviadores\n",
    "sx = sigmax - sM\n",
    "sy = sigmay - sM\n",
    "sz = sigmaz - sM"
   ]
  },
  {
   "cell_type": "markdown",
   "metadata": {},
   "source": [
    "## Se calculan las deformaciones asociadas a los esfuerzos desviadores"
   ]
  },
  {
   "cell_type": "markdown",
   "metadata": {},
   "source": [
    "\\begin{align*}\n",
    "  \\varepsilon_x & = \\frac{1}{E} \\left(\\sigma_x - \\nu\\left(\\sigma_y + \\sigma_z\\right)\\right)\\\\\n",
    "  \\varepsilon_y & = \\frac{1}{E} \\left(\\sigma_y - \\nu\\left(\\sigma_x + \\sigma_z\\right)\\right)\\\\ \n",
    "  \\varepsilon_z & = \\frac{1}{E} \\left(\\sigma_z - \\nu\\left(\\sigma_x + \\sigma_y\\right)\\right)\n",
    "\\end{align*}"
   ]
  },
  {
   "cell_type": "code",
   "execution_count": 9,
   "metadata": {
    "id": "CUMiHJdAiNjr"
   },
   "outputs": [],
   "source": [
    "ex = (1/E) * (sx - nu*(sy + sz))\n",
    "ey = (1/E) * (sy - nu*(sx + sz))\n",
    "ez = (1/E) * (sz - nu*(sx + sy))"
   ]
  },
  {
   "cell_type": "markdown",
   "metadata": {},
   "source": [
    "Y se calcula la dilatación cúbica correspondiente:"
   ]
  },
  {
   "cell_type": "code",
   "execution_count": 10,
   "metadata": {
    "id": "TlxnyUDYpWO1"
   },
   "outputs": [
    {
     "data": {
      "text/latex": [
       "$\\displaystyle e(x,y,z) = 0$"
      ],
      "text/plain": [
       "<IPython.core.display.Math object>"
      ]
     },
     "execution_count": 10,
     "metadata": {},
     "output_type": "execute_result"
    }
   ],
   "source": [
    "e = expand(ex + ey + ez)\n",
    "\n",
    "imprimir(\"e(x,y,z) = \", e)"
   ]
  },
  {
   "cell_type": "markdown",
   "metadata": {
    "id": "sZyYvptfpw-Z"
   },
   "source": [
    "## Se definen los tensores"
   ]
  },
  {
   "cell_type": "markdown",
   "metadata": {},
   "source": [
    "\\begin{equation}\n",
    "\\underbrace{\n",
    " \\begin{bmatrix}\n",
    "\t\\sigma_x  & \\tau_{xy} & \\tau_{xz} \\\\\n",
    "\t\\tau_{xy} & \\sigma_y  & \\tau_{yz} \\\\\n",
    "\t\\tau_{xz} & \\tau_{yz} & \\sigma_z\n",
    " \\end{bmatrix}}_{\\boldsymbol{\\sigma}} =\n",
    "\\underbrace{%\n",
    " \\begin{bmatrix}\n",
    "\t\\sigma_M  & 0         & 0 \\\\\n",
    "\t0         & \\sigma_M  & 0 \\\\\n",
    "\t0         & 0         & \\sigma_M\n",
    "\\end{bmatrix}}_{\\boldsymbol{\\sigma}_{\\text{hidr}}}\n",
    "+\n",
    "\\underbrace{%\n",
    " \\begin{bmatrix}\n",
    "        s_x & \\tau_{xy} & \\tau_{xz} \\\\\n",
    "        \\tau_{xy} & s_y & \\tau_{yz} \\\\\n",
    "        \\tau_{xz} & \\tau_{yz} & s_z\n",
    " \\end{bmatrix}}_{\\boldsymbol{\\sigma}_{\\text{desv}}}\n",
    "\\end{equation}"
   ]
  },
  {
   "cell_type": "markdown",
   "metadata": {
    "id": "mB6ritLKqAZT"
   },
   "source": [
    "Se define el tensor de esfuerzos hidrostáticos:"
   ]
  },
  {
   "cell_type": "code",
   "execution_count": 11,
   "metadata": {
    "colab": {
     "base_uri": "https://localhost:8080/",
     "height": 79
    },
    "id": "FxBDhTDUpwCB",
    "outputId": "1f7ea48d-ebf4-4bdb-d3d9-2717f61ed048"
   },
   "outputs": [],
   "source": [
    "sigma_hidr = diag(sM, sM, sM)"
   ]
  },
  {
   "cell_type": "markdown",
   "metadata": {},
   "source": [
    "Se define el tensor de esfuerzos desviadores:"
   ]
  },
  {
   "cell_type": "code",
   "execution_count": 12,
   "metadata": {},
   "outputs": [],
   "source": [
    "sigma_desv = Matrix([[sx, txy, txz],[txy, sy, tyz],[txz, tyz, sz]])"
   ]
  },
  {
   "cell_type": "markdown",
   "metadata": {},
   "source": [
    "Se define el tensor de esfuerzos:"
   ]
  },
  {
   "cell_type": "code",
   "execution_count": 13,
   "metadata": {},
   "outputs": [],
   "source": [
    "sigma = sigma_hidr + sigma_desv"
   ]
  },
  {
   "cell_type": "markdown",
   "metadata": {},
   "source": [
    "## Se calculan los invariantes"
   ]
  },
  {
   "cell_type": "markdown",
   "metadata": {},
   "source": [
    "Se calculan los invariantes del tensor de esfuerzos:"
   ]
  },
  {
   "cell_type": "markdown",
   "metadata": {},
   "source": [
    "\\begin{align}\n",
    "I_1 &:= \\sigma_x +\\sigma_y +\\sigma_z = \\operatorname{tr}(\\boldsymbol{\\sigma}) \\\\\n",
    "I_2 &:= \\sigma_x \\sigma_y + \\sigma_x \\sigma_z + \\sigma_y \\sigma_z - \\tau_{xy}^2 - \\tau_{xz}^2 - \\tau_{yz}^2 = \\frac{1}{2}\\left((\\operatorname{tr}(\\boldsymbol{\\sigma}))^2 - \\operatorname{tr}(\\boldsymbol{\\sigma}^2)\\right) \\\\\n",
    "%   &= \n",
    "% \\det\\left(\\begin{bmatrix}\n",
    "%      \\sigma_x & \\tau_{xy}\\\\ \\tau_{xy} & \\sigma_y\n",
    "%      \\end{bmatrix}\\right)\n",
    "%+\\det\\left(\\begin{bmatrix}\n",
    "%   \\sigma_x & \\tau_{xz}\\\\ \\tau_{xz} & \\sigma_z\n",
    "%\\end{bmatrix}\\right)\n",
    "%+\\det\\left(\\begin{bmatrix}\n",
    "%   \\sigma_y & \\tau_{yz}\\\\ \\tau_{yz} & \\sigma_z\n",
    "%\\end{bmatrix}\\right)\\\\\n",
    "I_3 &:= \\sigma_x \\sigma_y \\sigma_z + 2 \\tau_{xy} \\tau_{xz} \\tau_{yz} - \\sigma_x \\tau_{yz}^{\\phantom{yz}2} - \\sigma_y \\tau_{xz}^{\\phantom{xz}2} - \\sigma_z \\tau_{xy}^{\\phantom{xy}2}  = \\det(\\boldsymbol{\\sigma}).\n",
    "\\end{align}"
   ]
  },
  {
   "cell_type": "code",
   "execution_count": 14,
   "metadata": {},
   "outputs": [],
   "source": [
    "I1 = trace(sigma)\n",
    "I2 = (trace(sigma)**2 - trace((sigma)**2))/2\n",
    "I3 = det(sigma)"
   ]
  },
  {
   "cell_type": "markdown",
   "metadata": {
    "id": "Ewx1khWTqpXV"
   },
   "source": [
    "Se calculan los invariantes de esfuerzos hidrostáticos:"
   ]
  },
  {
   "cell_type": "code",
   "execution_count": 15,
   "metadata": {
    "id": "vMifna5uqo4Q"
   },
   "outputs": [],
   "source": [
    "Itilde1 = trace(sigma_hidr)\n",
    "Itilde2 = (trace(sigma_hidr)**2 - trace((sigma_hidr)**2))/2\n",
    "Itilde3 = det(sigma_hidr)"
   ]
  },
  {
   "cell_type": "code",
   "execution_count": 16,
   "metadata": {},
   "outputs": [
    {
     "data": {
      "text/latex": [
       "$\\displaystyle \\tilde{I}_1 = \\sigma_{x} + \\sigma_{y} + \\sigma_{z}$"
      ],
      "text/plain": [
       "<IPython.core.display.Math object>"
      ]
     },
     "execution_count": 16,
     "metadata": {},
     "output_type": "execute_result"
    }
   ],
   "source": [
    "imprimir(r\"\\tilde{I}_1 = \", Itilde1)"
   ]
  },
  {
   "cell_type": "code",
   "execution_count": 17,
   "metadata": {},
   "outputs": [
    {
     "data": {
      "text/latex": [
       "$\\displaystyle \\tilde{I}_2 = - \\frac{3 \\left(\\frac{\\sigma_{x}}{3} + \\frac{\\sigma_{y}}{3} + \\frac{\\sigma_{z}}{3}\\right)^{2}}{2} + \\frac{\\left(\\sigma_{x} + \\sigma_{y} + \\sigma_{z}\\right)^{2}}{2}$"
      ],
      "text/plain": [
       "<IPython.core.display.Math object>"
      ]
     },
     "execution_count": 17,
     "metadata": {},
     "output_type": "execute_result"
    }
   ],
   "source": [
    "imprimir(r\"\\tilde{I}_2 = \", Itilde2)"
   ]
  },
  {
   "cell_type": "code",
   "execution_count": 18,
   "metadata": {
    "tags": []
   },
   "outputs": [
    {
     "data": {
      "text/latex": [
       "$\\displaystyle \\tilde{I}_3 = \\frac{\\sigma_{x}^{3}}{27} + \\frac{\\sigma_{x}^{2} \\sigma_{y}}{9} + \\frac{\\sigma_{x}^{2} \\sigma_{z}}{9} + \\frac{\\sigma_{x} \\sigma_{y}^{2}}{9} + \\frac{2 \\sigma_{x} \\sigma_{y} \\sigma_{z}}{9} + \\frac{\\sigma_{x} \\sigma_{z}^{2}}{9} + \\frac{\\sigma_{y}^{3}}{27} + \\frac{\\sigma_{y}^{2} \\sigma_{z}}{9} + \\frac{\\sigma_{y} \\sigma_{z}^{2}}{9} + \\frac{\\sigma_{z}^{3}}{27}$"
      ],
      "text/plain": [
       "<IPython.core.display.Math object>"
      ]
     },
     "execution_count": 18,
     "metadata": {},
     "output_type": "execute_result"
    }
   ],
   "source": [
    "imprimir(r\"\\tilde{I}_3 = \", Itilde3)"
   ]
  },
  {
   "cell_type": "markdown",
   "metadata": {},
   "source": [
    "Se calculan los invariantes de esfuerzos desviadores:"
   ]
  },
  {
   "cell_type": "code",
   "execution_count": 19,
   "metadata": {},
   "outputs": [],
   "source": [
    "J1 = trace(sigma_desv)\n",
    "J2 = -(trace(sigma_desv)**2 - trace((sigma_desv)**2))/2  # OJO con el signo menos al principio\n",
    "J3 = det(sigma_desv)"
   ]
  },
  {
   "cell_type": "code",
   "execution_count": 20,
   "metadata": {},
   "outputs": [
    {
     "data": {
      "text/latex": [
       "$\\displaystyle J_1 = 0$"
      ],
      "text/plain": [
       "<IPython.core.display.Math object>"
      ]
     },
     "execution_count": 20,
     "metadata": {},
     "output_type": "execute_result"
    }
   ],
   "source": [
    "imprimir(\"J_1 = \", J1)"
   ]
  },
  {
   "cell_type": "code",
   "execution_count": 21,
   "metadata": {},
   "outputs": [
    {
     "data": {
      "text/latex": [
       "$\\displaystyle J_2 = \\frac{\\sigma_{x}^{2}}{3} - \\frac{\\sigma_{x} \\sigma_{y}}{3} - \\frac{\\sigma_{x} \\sigma_{z}}{3} + \\frac{\\sigma_{y}^{2}}{3} - \\frac{\\sigma_{y} \\sigma_{z}}{3} + \\frac{\\sigma_{z}^{2}}{3} + \\tau_{xy}^{2} + \\tau_{xz}^{2} + \\tau_{yz}^{2}$"
      ],
      "text/plain": [
       "<IPython.core.display.Math object>"
      ]
     },
     "execution_count": 21,
     "metadata": {},
     "output_type": "execute_result"
    }
   ],
   "source": [
    "imprimir(\"J_2 = \", J2)"
   ]
  },
  {
   "cell_type": "code",
   "execution_count": 22,
   "metadata": {
    "tags": []
   },
   "outputs": [
    {
     "data": {
      "text/latex": [
       "$\\displaystyle J_3 = \\frac{2 \\sigma_{x}^{3}}{27} - \\frac{\\sigma_{x}^{2} \\sigma_{y}}{9} - \\frac{\\sigma_{x}^{2} \\sigma_{z}}{9} - \\frac{\\sigma_{x} \\sigma_{y}^{2}}{9} + \\frac{4 \\sigma_{x} \\sigma_{y} \\sigma_{z}}{9} - \\frac{\\sigma_{x} \\sigma_{z}^{2}}{9} + \\frac{\\sigma_{x} \\tau_{xy}^{2}}{3} + \\frac{\\sigma_{x} \\tau_{xz}^{2}}{3} - \\frac{2 \\sigma_{x} \\tau_{yz}^{2}}{3} + \\frac{2 \\sigma_{y}^{3}}{27} - \\frac{\\sigma_{y}^{2} \\sigma_{z}}{9} - \\frac{\\sigma_{y} \\sigma_{z}^{2}}{9} + \\frac{\\sigma_{y} \\tau_{xy}^{2}}{3} - \\frac{2 \\sigma_{y} \\tau_{xz}^{2}}{3} + \\frac{\\sigma_{y} \\tau_{yz}^{2}}{3} + \\frac{2 \\sigma_{z}^{3}}{27} - \\frac{2 \\sigma_{z} \\tau_{xy}^{2}}{3} + \\frac{\\sigma_{z} \\tau_{xz}^{2}}{3} + \\frac{\\sigma_{z} \\tau_{yz}^{2}}{3} + 2 \\tau_{xy} \\tau_{xz} \\tau_{yz}$"
      ],
      "text/plain": [
       "<IPython.core.display.Math object>"
      ]
     },
     "execution_count": 22,
     "metadata": {},
     "output_type": "execute_result"
    }
   ],
   "source": [
    "imprimir(\"J_3 = \", J3)"
   ]
  },
  {
   "cell_type": "markdown",
   "metadata": {},
   "source": [
    "Se verifican las siguientes expresiones:"
   ]
  },
  {
   "cell_type": "code",
   "execution_count": 23,
   "metadata": {},
   "outputs": [
    {
     "data": {
      "image/png": "[encoded data removed]",
      "text/latex": [
       "$\\displaystyle 0$"
      ],
      "text/plain": [
       "0"
      ]
     },
     "execution_count": 23,
     "metadata": {},
     "output_type": "execute_result"
    }
   ],
   "source": [
    "expr_J2 = ((sigmax - sigmay)**2 + (sigmay - sigmaz)**2 + (sigmaz - sigmax)**2)/6 + txy**2 + txz**2 + tyz**2\n",
    "simplify(J2 - expr_J2)"
   ]
  },
  {
   "cell_type": "code",
   "execution_count": 24,
   "metadata": {},
   "outputs": [
    {
     "data": {
      "image/png": "[encoded data removed]",
      "text/latex": [
       "$\\displaystyle 0$"
      ],
      "text/plain": [
       "0"
      ]
     },
     "execution_count": 24,
     "metadata": {},
     "output_type": "execute_result"
    }
   ],
   "source": [
    "expr_J2 = I1**2/3 - I2\n",
    "simplify(J2 - expr_J2)"
   ]
  },
  {
   "cell_type": "code",
   "execution_count": 25,
   "metadata": {},
   "outputs": [
    {
     "data": {
      "image/png": "[encoded data removed]",
      "text/latex": [
       "$\\displaystyle 0$"
      ],
      "text/plain": [
       "0"
      ]
     },
     "execution_count": 25,
     "metadata": {},
     "output_type": "execute_result"
    }
   ],
   "source": [
    "expr_J2 = (trace(sigma**2) - trace(sigma)**2/3)/2\n",
    "simplify(J2 - expr_J2)"
   ]
  },
  {
   "cell_type": "code",
   "execution_count": 26,
   "metadata": {},
   "outputs": [
    {
     "data": {
      "image/png": "[encoded data removed]",
      "text/latex": [
       "$\\displaystyle 0$"
      ],
      "text/plain": [
       "0"
      ]
     },
     "execution_count": 26,
     "metadata": {},
     "output_type": "execute_result"
    }
   ],
   "source": [
    "expr_J2 = trace(sigma_desv**2)/2\n",
    "simplify(J2 - expr_J2)"
   ]
  },
  {
   "cell_type": "code",
   "execution_count": 27,
   "metadata": {},
   "outputs": [
    {
     "data": {
      "image/png": "[encoded data removed]",
      "text/latex": [
       "$\\displaystyle 0$"
      ],
      "text/plain": [
       "0"
      ]
     },
     "execution_count": 27,
     "metadata": {},
     "output_type": "execute_result"
    }
   ],
   "source": [
    "# se calcula la norma de Frobenius\n",
    "expr_J2 = sum(sigma_desv[i,j]**2 for i in range(3) for j in range(3))/2\n",
    "simplify(J2 - expr_J2)"
   ]
  },
  {
   "cell_type": "code",
   "execution_count": 28,
   "metadata": {},
   "outputs": [
    {
     "data": {
      "image/png": "[encoded data removed]",
      "text/latex": [
       "$\\displaystyle 0$"
      ],
      "text/plain": [
       "0"
      ]
     },
     "execution_count": 28,
     "metadata": {},
     "output_type": "execute_result"
    }
   ],
   "source": [
    "expr_J3 = I3 - I1*I2/3 + 2*I1**3/27\n",
    "simplify(J3 - expr_J3)"
   ]
  },
  {
   "cell_type": "code",
   "execution_count": 29,
   "metadata": {
    "colab": {
     "base_uri": "https://localhost:8080/",
     "height": 37
    },
    "id": "Ih9xlpFGvT3m",
    "outputId": "d87d7982-30be-423e-c504-7c1dbd2c52a2"
   },
   "outputs": [
    {
     "data": {
      "image/png": "[encoded data removed]",
      "text/latex": [
       "$\\displaystyle 0$"
      ],
      "text/plain": [
       "0"
      ]
     },
     "execution_count": 29,
     "metadata": {},
     "output_type": "execute_result"
    }
   ],
   "source": [
    "expr_J3 = det(sigma_desv)\n",
    "simplify(J3 - expr_J3)"
   ]
  },
  {
   "cell_type": "code",
   "execution_count": 30,
   "metadata": {},
   "outputs": [
    {
     "data": {
      "image/png": "[encoded data removed]",
      "text/latex": [
       "$\\displaystyle 0$"
      ],
      "text/plain": [
       "0"
      ]
     },
     "execution_count": 30,
     "metadata": {},
     "output_type": "execute_result"
    }
   ],
   "source": [
    "expr_J3 = trace(sigma_desv**3)/3\n",
    "simplify(J3 - expr_J3)"
   ]
  },
  {
   "cell_type": "markdown",
   "metadata": {},
   "source": [
    "## Se definen los esfuerzos desviadores"
   ]
  },
  {
   "cell_type": "code",
   "execution_count": 31,
   "metadata": {},
   "outputs": [],
   "source": [
    "sigma1, sigma2, sigma3 = symbols('sigma_1, sigma_2, sigma_3')"
   ]
  },
  {
   "cell_type": "code",
   "execution_count": 32,
   "metadata": {},
   "outputs": [],
   "source": [
    "# esfuerzos hidrostáticos\n",
    "sM = (sigma1 + sigma2 + sigma3)/3\n",
    "\n",
    "# esfuerzos desviadores\n",
    "s1 = sigma1 - sM\n",
    "s2 = sigma2 - sM\n",
    "s3 = sigma3 - sM"
   ]
  },
  {
   "cell_type": "markdown",
   "metadata": {},
   "source": [
    "Se define el tensor de esfuerzos desviadores:"
   ]
  },
  {
   "cell_type": "code",
   "execution_count": 33,
   "metadata": {},
   "outputs": [],
   "source": [
    "sigma_desv = diag(s1, s2, s3)"
   ]
  },
  {
   "cell_type": "markdown",
   "metadata": {},
   "source": [
    "## Se calculan los invariantes de esfuerzos desviadores"
   ]
  },
  {
   "cell_type": "code",
   "execution_count": 34,
   "metadata": {},
   "outputs": [],
   "source": [
    "J1 = trace(sigma_desv)\n",
    "J2 = -(trace(sigma_desv)**2 - trace((sigma_desv)**2))/2  # OJO con el signo menos al principio\n",
    "J3 = det(sigma_desv)"
   ]
  },
  {
   "cell_type": "code",
   "execution_count": 35,
   "metadata": {},
   "outputs": [
    {
     "data": {
      "text/latex": [
       "$\\displaystyle J_1 = 0$"
      ],
      "text/plain": [
       "<IPython.core.display.Math object>"
      ]
     },
     "execution_count": 35,
     "metadata": {},
     "output_type": "execute_result"
    }
   ],
   "source": [
    "imprimir(\"J_1 = \", J1)"
   ]
  },
  {
   "cell_type": "code",
   "execution_count": 36,
   "metadata": {},
   "outputs": [
    {
     "data": {
      "text/latex": [
       "$\\displaystyle J_2 = \\frac{\\left(- \\frac{\\sigma_{1}}{3} - \\frac{\\sigma_{2}}{3} + \\frac{2 \\sigma_{3}}{3}\\right)^{2}}{2} + \\frac{\\left(- \\frac{\\sigma_{1}}{3} + \\frac{2 \\sigma_{2}}{3} - \\frac{\\sigma_{3}}{3}\\right)^{2}}{2} + \\frac{\\left(\\frac{2 \\sigma_{1}}{3} - \\frac{\\sigma_{2}}{3} - \\frac{\\sigma_{3}}{3}\\right)^{2}}{2}$"
      ],
      "text/plain": [
       "<IPython.core.display.Math object>"
      ]
     },
     "execution_count": 36,
     "metadata": {},
     "output_type": "execute_result"
    }
   ],
   "source": [
    "imprimir(\"J_2 = \", J2)"
   ]
  },
  {
   "cell_type": "code",
   "execution_count": 37,
   "metadata": {
    "tags": []
   },
   "outputs": [
    {
     "data": {
      "text/latex": [
       "$\\displaystyle J_3 = \\frac{2 \\sigma_{1}^{3}}{27} - \\frac{\\sigma_{1}^{2} \\sigma_{2}}{9} - \\frac{\\sigma_{1}^{2} \\sigma_{3}}{9} - \\frac{\\sigma_{1} \\sigma_{2}^{2}}{9} + \\frac{4 \\sigma_{1} \\sigma_{2} \\sigma_{3}}{9} - \\frac{\\sigma_{1} \\sigma_{3}^{2}}{9} + \\frac{2 \\sigma_{2}^{3}}{27} - \\frac{\\sigma_{2}^{2} \\sigma_{3}}{9} - \\frac{\\sigma_{2} \\sigma_{3}^{2}}{9} + \\frac{2 \\sigma_{3}^{3}}{27}$"
      ],
      "text/plain": [
       "<IPython.core.display.Math object>"
      ]
     },
     "execution_count": 37,
     "metadata": {},
     "output_type": "execute_result"
    }
   ],
   "source": [
    "imprimir(\"J_3 = \", J3)"
   ]
  },
  {
   "cell_type": "markdown",
   "metadata": {},
   "source": [
    "Se verifican las siguientes expresiones:"
   ]
  },
  {
   "cell_type": "code",
   "execution_count": 38,
   "metadata": {},
   "outputs": [
    {
     "data": {
      "image/png": "[encoded data removed]",
      "text/latex": [
       "$\\displaystyle 0$"
      ],
      "text/plain": [
       "0"
      ]
     },
     "execution_count": 38,
     "metadata": {},
     "output_type": "execute_result"
    }
   ],
   "source": [
    "expr_J2 = ((sigma1 - sigma2)**2 + (sigma2 - sigma3)**2 + (sigma1 - sigma3)**2)/6\n",
    "simplify(J2 - expr_J2)"
   ]
  },
  {
   "cell_type": "code",
   "execution_count": 39,
   "metadata": {},
   "outputs": [
    {
     "data": {
      "image/png": "[encoded data removed]",
      "text/latex": [
       "$\\displaystyle 0$"
      ],
      "text/plain": [
       "0"
      ]
     },
     "execution_count": 39,
     "metadata": {},
     "output_type": "execute_result"
    }
   ],
   "source": [
    "expr_J2 = -s1*s2 - s2*s3 - s1*s3\n",
    "simplify(J2 - expr_J2)"
   ]
  },
  {
   "cell_type": "code",
   "execution_count": 40,
   "metadata": {},
   "outputs": [
    {
     "data": {
      "image/png": "[encoded data removed]",
      "text/latex": [
       "$\\displaystyle 0$"
      ],
      "text/plain": [
       "0"
      ]
     },
     "execution_count": 40,
     "metadata": {},
     "output_type": "execute_result"
    }
   ],
   "source": [
    "expr_J2 = (s1**2 + s2**2 + s3**2)/2\n",
    "simplify(J2 - expr_J2)"
   ]
  },
  {
   "cell_type": "code",
   "execution_count": 41,
   "metadata": {},
   "outputs": [
    {
     "data": {
      "image/png": "[encoded data removed]",
      "text/latex": [
       "$\\displaystyle 0$"
      ],
      "text/plain": [
       "0"
      ]
     },
     "execution_count": 41,
     "metadata": {},
     "output_type": "execute_result"
    }
   ],
   "source": [
    "expr_J3 = (2*sigma1 - sigma2 - sigma3)*(2*sigma2 - sigma1 - sigma3)*(2*sigma3 - sigma1 - sigma2)/27\n",
    "simplify(J3 - expr_J3)"
   ]
  },
  {
   "cell_type": "code",
   "execution_count": 42,
   "metadata": {},
   "outputs": [
    {
     "data": {
      "image/png": "[encoded data removed]",
      "text/latex": [
       "$\\displaystyle 0$"
      ],
      "text/plain": [
       "0"
      ]
     },
     "execution_count": 42,
     "metadata": {},
     "output_type": "execute_result"
    }
   ],
   "source": [
    "expr_J3 = s1*s2*s3\n",
    "simplify(J3 - expr_J3)"
   ]
  }
 ],
 "metadata": {
  "colab": {
   "provenance": []
  },
  "kernelspec": {
   "display_name": "Python 3 (ipykernel)",
   "language": "python",
   "name": "python3"
  },
  "language_info": {
   "codemirror_mode": {
    "name": "ipython",
    "version": 3
   },
   "file_extension": ".py",
   "mimetype": "text/x-python",
   "name": "python",
   "nbconvert_exporter": "python",
   "pygments_lexer": "ipython3",
   "version": "3.11.7"
  }
 },
 "nbformat": 4,
 "nbformat_minor": 4
}
