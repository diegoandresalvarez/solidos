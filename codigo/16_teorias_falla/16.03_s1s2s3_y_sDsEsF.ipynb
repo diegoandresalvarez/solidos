{
 "cells": [
  {
   "cell_type": "markdown",
   "id": "f9399bc4-1119-4b00-a504-ebd93fc5ce56",
   "metadata": {
    "id": "ltwLnQSu2Jqz"
   },
   "source": [
    "$$\n",
    "\\newcommand{\\ve}[1]{{\\boldsymbol{#1}}}\n",
    "\\newcommand{\\ma}[1]{{\\boldsymbol{#1}}}\n",
    "\\newcommand{\\hati}{\\ve{\\hat i}}\n",
    "\\newcommand{\\hatj}{\\ve{\\hat j}}\n",
    "\\newcommand{\\hatk}{\\ve{\\hat k}}\n",
    "\\newcommand{\\hatr}{\\ve{\\hat r}}\n",
    "\\newcommand{\\hatt}{\\ve{\\hat \\theta}}\n",
    "\\newcommand{\\hatp}{\\ve{\\hat \\varphi}}\n",
    "$$"
   ]
  },
  {
   "cell_type": "markdown",
   "id": "6f89dbc4-561b-4979-b0e0-8b5dca4e352e",
   "metadata": {
    "id": "xEQ5HB9L2mC1"
   },
   "source": [
    "# Cálculo de los vectores $\\hat{\\ve{n}}_D$, $\\hat{\\ve{n}}_E$ y $\\hat{\\ve{n}}_F$\n",
    "\n",
    "|Quién | Fecha | Qué hizo |\n",
    "| ---  | ---   | ---      |\n",
    "|Diego Andrés Alvarez Marín, <daalvarez@unal.edu.co> | Año 2023  | Adaptando el código de MAXIMA a Python  | "
   ]
  },
  {
   "cell_type": "code",
   "execution_count": 1,
   "id": "8cf6bfe3-70e9-4eec-a57c-074ffa6e8f81",
   "metadata": {
    "id": "xCYwFmDWebGF"
   },
   "outputs": [],
   "source": [
    "from sympy import symbols, init_printing, latex, sqrt, Matrix, symbols\n",
    "\n",
    "#Para imprimir bonito\n",
    "init_printing()\n",
    "from IPython.display import Math\n",
    "def imprimir (texto1, variable, texto2=\"\"):\n",
    "    return Math(texto1 +  rf'{latex(variable)}' + texto2)"
   ]
  },
  {
   "cell_type": "markdown",
   "id": "ab19f9ff-0cc9-407f-a948-452f07b6118f",
   "metadata": {},
   "source": [
    "Se crea la función para medir la norma euclidiana de un vector en Sympy:"
   ]
  },
  {
   "cell_type": "code",
   "execution_count": 2,
   "id": "3a969958-4cb4-4730-a58b-811ef815597e",
   "metadata": {},
   "outputs": [],
   "source": [
    "norm = lambda v : sqrt(v.dot(v))"
   ]
  },
  {
   "cell_type": "markdown",
   "id": "3963bb72-336b-418c-940f-3eb84d8a536c",
   "metadata": {},
   "source": [
    "Se define el vector $\\hat{\\ve{n}}_D$:"
   ]
  },
  {
   "cell_type": "code",
   "execution_count": 3,
   "id": "f54ac9ec-180f-4a29-a9b5-cec9a7a9a7ae",
   "metadata": {},
   "outputs": [
    {
     "data": {
      "text/latex": [
       "$\\displaystyle \\hat{\\ve{n}}_D = \\left[\\begin{matrix}\\frac{\\sqrt{3}}{3}\\\\\\frac{\\sqrt{3}}{3}\\\\\\frac{\\sqrt{3}}{3}\\end{matrix}\\right]$"
      ],
      "text/plain": [
       "<IPython.core.display.Math object>"
      ]
     },
     "execution_count": 3,
     "metadata": {},
     "output_type": "execute_result"
    }
   ],
   "source": [
    "nDg = Matrix([ 1/sqrt(3), 1/sqrt(3), 1/sqrt(3) ])\n",
    "\n",
    "imprimir(r\"\\hat{\\ve{n}}_D = \", nDg)"
   ]
  },
  {
   "cell_type": "markdown",
   "id": "0f40ecd8-fade-48ec-985f-4975792b7e3f",
   "metadata": {},
   "source": [
    "Se calcula el producto cruz entre $\\hat{\\ve{i}}$ y $\\hat{\\ve{n}}_D$ y se normaliza:"
   ]
  },
  {
   "cell_type": "code",
   "execution_count": 4,
   "id": "4a84df23-f42b-4180-b862-11b0fb1ecec3",
   "metadata": {},
   "outputs": [
    {
     "data": {
      "text/latex": [
       "$\\displaystyle \\hat{\\ve{n}}_E = \\left[\\begin{matrix}0\\\\- \\frac{\\sqrt{2}}{2}\\\\\\frac{\\sqrt{2}}{2}\\end{matrix}\\right]$"
      ],
      "text/plain": [
       "<IPython.core.display.Math object>"
      ]
     },
     "execution_count": 4,
     "metadata": {},
     "output_type": "execute_result"
    }
   ],
   "source": [
    "ig  = Matrix([ 1, 0, 0 ])\n",
    "nE  = ig.cross(nDg)\n",
    "nEg = nE/norm(nE)\n",
    "\n",
    "imprimir(r\"\\hat{\\ve{n}}_E = \", nEg)"
   ]
  },
  {
   "cell_type": "markdown",
   "id": "5bf6b475-a9fe-4838-b2d8-5200457f56e8",
   "metadata": {},
   "source": [
    "Se calcula el producto cruz entre $\\hat{\\ve{n}}_D$ y $\\hat{\\ve{n}}_E$. En este caso no es necesario normalizar ya que al ser $\\hat{\\ve{n}}_D$ y $\\hat{\\ve{n}}_E$ dos vectores mutuamente ortonormales, su producto cruz es unitario:"
   ]
  },
  {
   "cell_type": "code",
   "execution_count": 5,
   "id": "8dbf0e0d-30eb-4cdd-b1fa-2f50779c2624",
   "metadata": {},
   "outputs": [
    {
     "data": {
      "text/latex": [
       "$\\displaystyle \\hat{\\ve{n}}_F = \\left[\\begin{matrix}\\frac{\\sqrt{6}}{3}\\\\- \\frac{\\sqrt{6}}{6}\\\\- \\frac{\\sqrt{6}}{6}\\end{matrix}\\right]$"
      ],
      "text/plain": [
       "<IPython.core.display.Math object>"
      ]
     },
     "execution_count": 5,
     "metadata": {},
     "output_type": "execute_result"
    }
   ],
   "source": [
    "nFg  = nDg.cross(nEg)\n",
    "\n",
    "imprimir(r\"\\hat{\\ve{n}}_F = \", nFg)"
   ]
  },
  {
   "cell_type": "markdown",
   "id": "b014ea5e-dbe2-4870-a004-d136957460b6",
   "metadata": {},
   "source": [
    "Se define la matriz de transformación $\\ma{T} = \\big[\\hat{\\ve{n}}_D,\\ \\hat{\\ve{n}}_E,\\ \\hat{\\ve{n}}_F\\big]$:"
   ]
  },
  {
   "cell_type": "code",
   "execution_count": 6,
   "id": "5882abcb-7ddd-43df-aa54-6f86ac23e753",
   "metadata": {},
   "outputs": [
    {
     "data": {
      "text/latex": [
       "$\\displaystyle \\ma{T} = \\left[\\begin{matrix}\\frac{\\sqrt{3}}{3} & 0 & \\frac{\\sqrt{6}}{3}\\\\\\frac{\\sqrt{3}}{3} & - \\frac{\\sqrt{2}}{2} & - \\frac{\\sqrt{6}}{6}\\\\\\frac{\\sqrt{3}}{3} & \\frac{\\sqrt{2}}{2} & - \\frac{\\sqrt{6}}{6}\\end{matrix}\\right]$"
      ],
      "text/plain": [
       "<IPython.core.display.Math object>"
      ]
     },
     "execution_count": 6,
     "metadata": {},
     "output_type": "execute_result"
    }
   ],
   "source": [
    "T = Matrix.hstack(nDg, nEg, nFg)\n",
    "\n",
    "imprimir(r\"\\ma{T} = \", T)"
   ]
  },
  {
   "cell_type": "code",
   "execution_count": 7,
   "id": "0aeff089-581f-4911-ae44-d9d2195e2c84",
   "metadata": {},
   "outputs": [],
   "source": [
    "s1, s2, s3, sD, sE, sF = symbols('sigma_1, sigma_2, sigma_3, sigma_D, sigma_E, sigma_F')"
   ]
  },
  {
   "cell_type": "code",
   "execution_count": 8,
   "id": "540ee301-badd-430a-a6cc-246ef96477a2",
   "metadata": {},
   "outputs": [],
   "source": [
    "s1s2s3 = T * Matrix([sD, sE, sF])"
   ]
  },
  {
   "cell_type": "code",
   "execution_count": 9,
   "id": "80db7ebb-f1a6-4497-ac72-f6e96f09513e",
   "metadata": {},
   "outputs": [
    {
     "data": {
      "text/latex": [
       "$\\displaystyle \\sigma_1 = \\frac{\\sqrt{3} \\sigma_{D}}{3} + \\frac{\\sqrt{6} \\sigma_{F}}{3}$"
      ],
      "text/plain": [
       "<IPython.core.display.Math object>"
      ]
     },
     "execution_count": 9,
     "metadata": {},
     "output_type": "execute_result"
    }
   ],
   "source": [
    "imprimir(r\"\\sigma_1 = \", s1s2s3[0])"
   ]
  },
  {
   "cell_type": "code",
   "execution_count": 10,
   "id": "3b9356e2-335d-4bd3-b822-e0a5bdd42531",
   "metadata": {},
   "outputs": [
    {
     "data": {
      "text/latex": [
       "$\\displaystyle \\sigma_2 = \\frac{\\sqrt{3} \\sigma_{D}}{3} - \\frac{\\sqrt{2} \\sigma_{E}}{2} - \\frac{\\sqrt{6} \\sigma_{F}}{6}$"
      ],
      "text/plain": [
       "<IPython.core.display.Math object>"
      ]
     },
     "execution_count": 10,
     "metadata": {},
     "output_type": "execute_result"
    }
   ],
   "source": [
    "imprimir(r\"\\sigma_2 = \", s1s2s3[1])"
   ]
  },
  {
   "cell_type": "code",
   "execution_count": 11,
   "id": "ff75190d-aa43-4b56-b62a-2213a738ace4",
   "metadata": {},
   "outputs": [
    {
     "data": {
      "text/latex": [
       "$\\displaystyle \\sigma_3 = \\frac{\\sqrt{3} \\sigma_{D}}{3} + \\frac{\\sqrt{2} \\sigma_{E}}{2} - \\frac{\\sqrt{6} \\sigma_{F}}{6}$"
      ],
      "text/plain": [
       "<IPython.core.display.Math object>"
      ]
     },
     "execution_count": 11,
     "metadata": {},
     "output_type": "execute_result"
    }
   ],
   "source": [
    "imprimir(r\"\\sigma_3 = \", s1s2s3[2])"
   ]
  },
  {
   "cell_type": "code",
   "execution_count": 12,
   "id": "23e0b2c0-2a10-4dec-98b1-b2dff926147c",
   "metadata": {},
   "outputs": [],
   "source": [
    "sDsEsF = T.T * Matrix([s1, s2, s3])"
   ]
  },
  {
   "cell_type": "code",
   "execution_count": 13,
   "id": "80782d4c-1bb8-47e8-a7f1-042092ead572",
   "metadata": {},
   "outputs": [
    {
     "data": {
      "text/latex": [
       "$\\displaystyle \\sigma_D = \\frac{\\sqrt{3} \\sigma_{1}}{3} + \\frac{\\sqrt{3} \\sigma_{2}}{3} + \\frac{\\sqrt{3} \\sigma_{3}}{3}$"
      ],
      "text/plain": [
       "<IPython.core.display.Math object>"
      ]
     },
     "execution_count": 13,
     "metadata": {},
     "output_type": "execute_result"
    }
   ],
   "source": [
    "imprimir(r\"\\sigma_D = \", sDsEsF[0])"
   ]
  },
  {
   "cell_type": "code",
   "execution_count": 14,
   "id": "3e9ae292-9771-42cb-8d8c-017f584e7f11",
   "metadata": {},
   "outputs": [
    {
     "data": {
      "text/latex": [
       "$\\displaystyle \\sigma_E = - \\frac{\\sqrt{2} \\sigma_{2}}{2} + \\frac{\\sqrt{2} \\sigma_{3}}{2}$"
      ],
      "text/plain": [
       "<IPython.core.display.Math object>"
      ]
     },
     "execution_count": 14,
     "metadata": {},
     "output_type": "execute_result"
    }
   ],
   "source": [
    "imprimir(r\"\\sigma_E = \", sDsEsF[1])"
   ]
  },
  {
   "cell_type": "code",
   "execution_count": 15,
   "id": "acc85372-e1e8-4a0b-90da-3dd202cdb98f",
   "metadata": {},
   "outputs": [
    {
     "data": {
      "text/latex": [
       "$\\displaystyle \\sigma_F = \\frac{\\sqrt{6} \\sigma_{1}}{3} - \\frac{\\sqrt{6} \\sigma_{2}}{6} - \\frac{\\sqrt{6} \\sigma_{3}}{6}$"
      ],
      "text/plain": [
       "<IPython.core.display.Math object>"
      ]
     },
     "execution_count": 15,
     "metadata": {},
     "output_type": "execute_result"
    }
   ],
   "source": [
    "imprimir(r\"\\sigma_F = \", sDsEsF[2])"
   ]
  }
 ],
 "metadata": {
  "kernelspec": {
   "display_name": "Python 3 (ipykernel)",
   "language": "python",
   "name": "python3"
  },
  "language_info": {
   "codemirror_mode": {
    "name": "ipython",
    "version": 3
   },
   "file_extension": ".py",
   "mimetype": "text/x-python",
   "name": "python",
   "nbconvert_exporter": "python",
   "pygments_lexer": "ipython3",
   "version": "3.11.7"
  }
 },
 "nbformat": 4,
 "nbformat_minor": 5
}
