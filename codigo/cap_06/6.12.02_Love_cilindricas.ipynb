{
 "cells": [
  {
   "cell_type": "markdown",
   "metadata": {
    "tags": []
   },
   "source": [
    "# 6.12.2. Función de tensión de Love en coordenadas cilíndricas\n",
    "\n",
    "|Quién | Fecha | Qué hizo |\n",
    "| ---  | ---   | ---      |\n",
    "|Diego Andrés Alvarez Marín, <daalvarez@unal.edu.co>  | Diciembre 11, 2023      | Código inicial |"
   ]
  },
  {
   "cell_type": "markdown",
   "metadata": {},
   "source": [
    "## Función de tensión de Love en coordenadas cilíndricas"
   ]
  },
  {
   "cell_type": "markdown",
   "metadata": {},
   "source": [
    "A continuación se definirá la función de tensión de Love para el caso de coordenadas cilíndricas a partir del vector de Galerkin."
   ]
  },
  {
   "cell_type": "code",
   "execution_count": 1,
   "metadata": {
    "id": "_z9Y3oI2XaTn"
   },
   "outputs": [],
   "source": [
    "from sympy import diff, Function, simplify, symbols, factor, Eq, init_printing, trigsimp, expand, latex, Matrix, zeros\n",
    "\n",
    "# Para imprimir bonito\n",
    "init_printing()\n",
    "from IPython.display import Math                 \n",
    "def imprimir (texto1, variable, texto2=\"\"):\n",
    "    return Math(texto1 +  rf'{latex(variable)}' + texto2)"
   ]
  },
  {
   "cell_type": "markdown",
   "metadata": {},
   "source": [
    "Inicialmente definiremos algunas constantes y variables que necesitaremos para la definición de nuestro problema:"
   ]
  },
  {
   "cell_type": "code",
   "execution_count": 2,
   "metadata": {
    "id": "w9U-4QV-Xfn9"
   },
   "outputs": [],
   "source": [
    "# constantes y variables\n",
    "E, G,   = symbols(\"E, G\")\n",
    "r, t, z = symbols(\"r, theta, z\")\n",
    "\n",
    "# coeficiente de Poisson\n",
    "nu = E/(2*G) - 1\n",
    "\n",
    "# constante de Lamé\n",
    "lamda = (nu*E)/((1 + nu)*(1 - 2*nu))\n",
    "\n",
    "# vector de fuerzas másicas\n",
    "b = zeros(3,1)"
   ]
  },
  {
   "cell_type": "markdown",
   "metadata": {},
   "source": [
    "Definimos ahora los operadores básicos del cálculo vectorial en coordenadas cilíndricas:"
   ]
  },
  {
   "cell_type": "code",
   "execution_count": 3,
   "metadata": {},
   "outputs": [],
   "source": [
    "# laplaciano de un campo escalar\n",
    "lapl     = lambda f : (1/r)*diff(r*diff(f,r),r) + (1/(r**2))*diff(f,t,2) + diff(f,z,2)\n",
    "\n",
    "# laplaciano vectorial en coordenadas cilíndricas\n",
    "lapl_vec = lambda v : Matrix([ lapl(v[0]) - v[0]/(r**2) - (2/(r**2))*diff(v[1],t),\n",
    "                               lapl(v[1]) - v[1]/(r**2) + (2/(r**2))*diff(v[0],t),\n",
    "                               lapl(v[2])                                         ])"
   ]
  },
  {
   "cell_type": "code",
   "execution_count": 4,
   "metadata": {},
   "outputs": [],
   "source": [
    "# gradiente de un campo escalar\n",
    "grad = lambda f : Matrix([       diff(f,r),\n",
    "                           (1/r)*diff(f,t),\n",
    "                                 diff(f,z) ])"
   ]
  },
  {
   "cell_type": "code",
   "execution_count": 5,
   "metadata": {},
   "outputs": [],
   "source": [
    "# divergencia de un campo vectorial\n",
    "div = lambda v : (1/r)*diff(r*v[0],r) + (1/r)*diff(v[1],t) + diff(v[2],z)"
   ]
  },
  {
   "cell_type": "markdown",
   "metadata": {},
   "source": [
    "Para definir la función de tensión de Love, haremos uso de un vector de Galerkin $\\boldsymbol{p}$ de la forma:\n",
    "\\begin{equation*}\n",
    "\\boldsymbol{p}(r,\\theta,z) = \n",
    "   \\begin{pmatrix}\n",
    "            0 \\\\\n",
    "            0 \\\\\n",
    "            \\phi(r,\\theta,z)\n",
    "   \\end{pmatrix}\n",
    "\\end{equation*}"
   ]
  },
  {
   "cell_type": "code",
   "execution_count": 6,
   "metadata": {},
   "outputs": [],
   "source": [
    "phi = Function(\"phi\")(r, t, z)\n",
    "p   = Matrix([ 0, 0, phi ])"
   ]
  },
  {
   "cell_type": "markdown",
   "metadata": {},
   "source": [
    "y con este definiremos el campo vectorial de desplazamientos $\\boldsymbol{u}$ como:\n",
    "\\begin{equation*}\n",
    "    \\boldsymbol{u}(r,\\theta,z) = \n",
    "    \\begin{bmatrix} \n",
    "        u_r(r,\\theta,z) \\\\ v_\\theta(r,\\theta,z) \\\\ w(r,\\theta,z)\n",
    "    \\end{bmatrix}\n",
    " = \\frac{2(1 - \\nu)\\nabla^2 \\boldsymbol{p}(r,\\theta,z) - \\nabla(\\nabla \\cdot \\boldsymbol{p}(r,\\theta,z))}{2G}\n",
    "\\end{equation*}"
   ]
  },
  {
   "cell_type": "code",
   "execution_count": 7,
   "metadata": {},
   "outputs": [],
   "source": [
    "# definición del campo vectorial de desplazamientos a partir del vector de Galerkin\n",
    "vec_u = (2*(1 - nu)*lapl_vec(p) - grad(div(p)))/(2*G)\n",
    "ur, vt, w = vec_u"
   ]
  },
  {
   "cell_type": "markdown",
   "metadata": {},
   "source": [
    "Obteniendo así los desplazamientos:\n",
    "\\begin{align*}\n",
    "    u_r(r,\\theta, z)      &= - \\frac{1}{2 G}   \\frac{\\partial^2 \\phi(r,\\theta,z)}{\\partial r\\partial z}\\\\\n",
    "    v_\\theta(r,\\theta, z) &= - \\frac{1}{2 G r} \\frac{\\partial^2 \\phi(r,\\theta,z)}{\\partial \\theta\\partial z} \\label{eq:urvtw_Galerkin}\\\\\n",
    "    w(r,\\theta, z)        &= \\phantom{-}\\frac{1}{2 G} \\left(2(1 - \\nu)\\nabla^2 \\phi(r,\\theta, z) - \\frac{\\partial^2 \\phi(r,\\theta, z)}{\\partial z^2}\\right)\n",
    "\\end{align*}   "
   ]
  },
  {
   "cell_type": "code",
   "execution_count": 8,
   "metadata": {},
   "outputs": [],
   "source": [
    "ur2 = -diff(phi, r, z)/(2*G)\n",
    "vt2 = -diff(phi, t, z)/(2*G*r)\n",
    "w2  =  (2*(1 - nu)*lapl(phi) - diff(phi, z, 2))/(2*G)"
   ]
  },
  {
   "cell_type": "code",
   "execution_count": 9,
   "metadata": {},
   "outputs": [
    {
     "data": {
      "image/png": "[encoded data removed]",
      "text/latex": [
       "$\\displaystyle \\left[\\begin{matrix}0\\\\0\\\\0\\end{matrix}\\right]$"
      ],
      "text/plain": [
       "⎡0⎤\n",
       "⎢ ⎥\n",
       "⎢0⎥\n",
       "⎢ ⎥\n",
       "⎣0⎦"
      ]
     },
     "execution_count": 9,
     "metadata": {},
     "output_type": "execute_result"
    }
   ],
   "source": [
    "# Se verifica la equivalencia de las expresiones; imprime [0,0,0]\n",
    "simplify(Matrix([ ur-ur2, vt-vt2, w-w2 ]))"
   ]
  },
  {
   "cell_type": "markdown",
   "metadata": {},
   "source": [
    "Al reemplazar los desplazamientos en las ecuaciones:\n",
    "\\begin{align*}\n",
    " \\varepsilon_r &= \\frac{\\partial u_r}{\\partial r}                                            &  \\gamma_{r\\theta} &= \\frac{1}{r}\\frac{\\partial u_r}{\\partial \\theta} + \\frac{\\partial v_\\theta}{\\partial r} - \\frac{v_\\theta}{r}  \\\\\n",
    " \\varepsilon_\\theta &= \\frac{u_r}{r}  + \\frac{1}{r}\\frac{\\partial v_\\theta}{\\partial \\theta} & \\gamma_{r z} &= \\frac{\\partial w}{\\partial r} + \\frac{\\partial u_r}{\\partial z} \\\\ \n",
    " \\varepsilon_z &= \\frac{\\partial w}{\\partial z}                                              & \\gamma_{\\theta z} &= \\frac{\\partial v_\\theta}{\\partial z} + \\frac{1}{r}\\frac{\\partial w}{\\partial \\theta}.\n",
    "\\end{align*}"
   ]
  },
  {
   "cell_type": "code",
   "execution_count": 10,
   "metadata": {},
   "outputs": [],
   "source": [
    "er  = diff(ur, r)\n",
    "et  = ur/r + (1/r)*diff(vt, t)\n",
    "ez  = diff(w, z)\n",
    "grt = (1/r)*diff(ur, t) + diff(vt, r) - vt/r\n",
    "grz = diff(w, r) + diff(ur, z)\n",
    "gtz = diff(vt, z) + (1/r)*diff(w, t)"
   ]
  },
  {
   "cell_type": "markdown",
   "metadata": {},
   "source": [
    "se obtienen las deformaciones longitudinales:\n",
    "\\begin{alignat*}{2}\n",
    "    \\varepsilon_r      &= \\frac{\\partial u_r}{\\partial r}                                                                             &&= - \\frac{1}{2G}\\frac{\\partial^3 \\phi}{\\partial r^2\\partial z} \\\\\n",
    "    \\varepsilon_\\theta &= \\frac{u_r}{r}  + \\frac{1}{r}\\frac{\\partial v_\\theta}{\\partial \\theta}                                       &&= - \\frac{1}{2G}\\frac{\\partial}{\\partial z}\\left(\\frac{1}{r}\\frac{\\partial\\phi}{\\partial r} + \\frac{1}{r^2}\\frac{\\partial^2\\phi}{\\partial \\theta^2}\\right)\\\\\n",
    "    \\varepsilon_z      &= \\frac{\\partial w}{\\partial z}                                                                               &&= \\phantom{-}\\frac{1}{2G}\\frac{\\partial}{\\partial z}\\left(2(1 - \\nu)\\nabla^2 \\phi - \\frac{\\partial^2\\phi}{\\partial z^2}\\right)\n",
    "\\end{alignat*}"
   ]
  },
  {
   "cell_type": "code",
   "execution_count": 11,
   "metadata": {},
   "outputs": [],
   "source": [
    "er2 = -(1/(2*G))*diff(phi, r,r,z)\n",
    "et2 = -(1/(2*G))*diff((1/r)*diff(phi, r) + (1/r**2)*diff(phi, t,2), z)\n",
    "ez2 =  (1/(2*G))*diff(2*(1 - nu)*lapl(phi) - diff(phi, z,2), z)"
   ]
  },
  {
   "cell_type": "code",
   "execution_count": 12,
   "metadata": {},
   "outputs": [
    {
     "data": {
      "image/png": "[encoded data removed]",
      "text/latex": [
       "$\\displaystyle \\left[\\begin{matrix}0\\\\0\\\\0\\end{matrix}\\right]$"
      ],
      "text/plain": [
       "⎡0⎤\n",
       "⎢ ⎥\n",
       "⎢0⎥\n",
       "⎢ ⎥\n",
       "⎣0⎦"
      ]
     },
     "execution_count": 12,
     "metadata": {},
     "output_type": "execute_result"
    }
   ],
   "source": [
    "# Se verifica la equivalencia de las expresiones; imprime [0,0,0]\n",
    "simplify(Matrix([ er-er2, et-et2, ez-ez2 ]))"
   ]
  },
  {
   "cell_type": "markdown",
   "metadata": {},
   "source": [
    "y las angulares:\n",
    "\\begin{alignat*}{2}\n",
    "    \\gamma_{r\\theta}   &= \\frac{1}{r}\\frac{\\partial u_r}{\\partial \\theta} + \\frac{\\partial v_\\theta}{\\partial r} - \\frac{v_\\theta}{r} &&= -\\frac{1}{G}\\frac{\\partial^3}{\\partial r \\partial \\theta \\partial z}\\left(\\frac{\\phi}{r}\\right) \\\\\n",
    "    \\gamma_{rz}        &= \\frac{\\partial w}{\\partial r} + \\frac{\\partial u_r}{\\partial z}                                             &&= \\phantom{-}\\frac{1}{G} \\frac{\\partial}{\\partial r}\\left((1 - \\nu) \\nabla^2\\phi - \\frac{\\partial^2 \\phi}{\\partial z^2} \\right)\\\\    \n",
    "    \\gamma_{\\theta z}  &= \\frac{\\partial v_\\theta}{\\partial z} + \\frac{1}{r}\\frac{\\partial w}{\\partial \\theta}                        &&= \\phantom{-}\\frac{1}{G r} \\frac{\\partial}{\\partial \\theta}\\left((1 - \\nu) \\nabla^2\\phi - \\frac{\\partial^2 \\phi}{\\partial z^2}\\right)\n",
    "\\end{alignat*}"
   ]
  },
  {
   "cell_type": "code",
   "execution_count": 13,
   "metadata": {},
   "outputs": [],
   "source": [
    "grt2 = -(1/G)*diff(phi/r, r,t,z)\n",
    "grz2 =  (1/G)*diff((1 - nu)*lapl(phi) - diff(phi, z,2), r)\n",
    "gtz2 =  (1/(G*r))*diff((1 - nu)*lapl(phi) - diff(phi, z,2), t)"
   ]
  },
  {
   "cell_type": "code",
   "execution_count": 14,
   "metadata": {},
   "outputs": [
    {
     "data": {
      "image/png": "[encoded data removed]",
      "text/latex": [
       "$\\displaystyle \\left[\\begin{matrix}0\\\\0\\\\0\\end{matrix}\\right]$"
      ],
      "text/plain": [
       "⎡0⎤\n",
       "⎢ ⎥\n",
       "⎢0⎥\n",
       "⎢ ⎥\n",
       "⎣0⎦"
      ]
     },
     "execution_count": 14,
     "metadata": {},
     "output_type": "execute_result"
    }
   ],
   "source": [
    "# Se verifica la equivalencia de las expresiones; imprime [0,0,0]\n",
    "simplify(Matrix([ grt-grt2, grz-grz2, gtz-gtz2 ]))"
   ]
  },
  {
   "cell_type": "markdown",
   "metadata": {},
   "source": [
    "Calculemos ahora la dilatación cúbica:"
   ]
  },
  {
   "cell_type": "code",
   "execution_count": 15,
   "metadata": {},
   "outputs": [],
   "source": [
    "e = er + et + ez"
   ]
  },
  {
   "cell_type": "markdown",
   "metadata": {},
   "source": [
    "para verificar que es:\n",
    "\\begin{equation*}\n",
    "e = \\varepsilon_r + \\varepsilon_\\theta + \\varepsilon_z =\\frac{1}{2 G} \\frac{\\partial}{\\partial z}\\left((1 - 2\\nu) \\nabla^2\\phi\\right)\n",
    "\\end{equation*}"
   ]
  },
  {
   "cell_type": "code",
   "execution_count": 16,
   "metadata": {},
   "outputs": [
    {
     "data": {
      "image/png": "[encoded data removed]",
      "text/latex": [
       "$\\displaystyle 0$"
      ],
      "text/plain": [
       "0"
      ]
     },
     "execution_count": 16,
     "metadata": {},
     "output_type": "execute_result"
    }
   ],
   "source": [
    "e2 = (1/(2*G))*diff((1 - 2*nu)*lapl(phi),z)\n",
    "expand(e - e2)"
   ]
  },
  {
   "cell_type": "markdown",
   "metadata": {},
   "source": [
    "Aplicando las ecuaciones de Lamé:\n",
    "\\begin{align*}\n",
    "   \\sigma_r      &= \\lambda e + 2 G \\varepsilon_r        &   \\tau_{r\\theta} = G\\gamma_{r\\theta} \\\\\n",
    "   \\sigma_\\theta &= \\lambda e + 2 G \\varepsilon_\\theta   &   \\tau_{rz} = G\\gamma_{rz} \\\\\n",
    "   \\sigma_z      &= \\lambda e + 2 G \\varepsilon_z        &   \\tau_{\\theta z} = G\\gamma_{\\theta z}\n",
    "\\end{align*}"
   ]
  },
  {
   "cell_type": "code",
   "execution_count": 17,
   "metadata": {},
   "outputs": [],
   "source": [
    "sr  = lamda*e + 2*G*er\n",
    "st  = lamda*e + 2*G*et\n",
    "sz  = lamda*e + 2*G*ez\n",
    "trt = G*grt\n",
    "trz = G*grz\n",
    "ttz = G*gtz"
   ]
  },
  {
   "cell_type": "markdown",
   "metadata": {},
   "source": [
    "obtenemos los esfuerzos son:\n",
    "\\begin{alignat*}{2}\n",
    "    \\sigma_r        &= \\lambda e + 2 G \\varepsilon_r      &&= \\phantom{-}\\frac{\\partial}{\\partial z}\\left(\\nu\\nabla^2\\phi - \\frac{\\partial^2 \\phi}{\\partial r^2}\\right)\\\\\n",
    "    \\sigma_\\theta   &= \\lambda e + 2 G \\varepsilon_\\theta &&= \\phantom{-}\\frac{\\partial}{\\partial z}\\left(\\nu\\nabla^2\\phi - \\frac{1}{r}\\frac{\\partial\\phi}{\\partial r} - \\frac{1}{r^2}\\frac{\\partial^2\\phi}{\\partial \\theta^2}\\right)\\\\\n",
    "    \\sigma_z        &= \\lambda e + 2 G \\varepsilon_z      &&= \\phantom{-}\\frac{\\partial}{\\partial z}\\left((2 - \\nu) \\nabla^2\\phi - \\frac{\\partial^2 \\phi}{\\partial z^2}\\right)\\\\\n",
    "    \\tau_{r\\theta}  &= G\\gamma_{r\\theta}                  &&= -\\frac{\\partial^3}{\\partial r \\partial \\theta \\partial z}\\left(\\frac{\\phi}{r}\\right)\\\\\n",
    "    \\tau_{rz}       &= G\\gamma_{rz}                       &&= \\phantom{-}\\frac{\\partial}{\\partial r}\\left((1 - \\nu) \\nabla^2\\phi - \\frac{\\partial^2 \\phi}{\\partial z^2} \\right)\\\\\n",
    "    \\tau_{\\theta z} &= G\\gamma_{\\theta z}                 &&= \\phantom{-}\\frac{1}{r} \\frac{\\partial}{\\partial \\theta}\\left((1 - \\nu) \\nabla^2\\phi - \\frac{\\partial^2 \\phi}{\\partial z^2} \\right).\n",
    "\\end{alignat*}"
   ]
  },
  {
   "cell_type": "code",
   "execution_count": 18,
   "metadata": {},
   "outputs": [],
   "source": [
    "sr2  =  diff(nu*lapl(phi) - diff(phi, r,2), z)\n",
    "st2  =  diff(nu*lapl(phi) - (1/r)*diff(phi,r) - (1/r**2)*diff(phi, t,2), z)\n",
    "sz2  =  diff((2 - nu)*lapl(phi) - diff(phi, z,2), z)\n",
    "trt2 = -diff(phi/r, r,t,z)\n",
    "trz2 =  diff((1 - nu)*lapl(phi) - diff(phi, z,2), r)\n",
    "ttz2 =  (1/r)*diff((1 - nu)*lapl(phi) - diff(phi, z,2), t)"
   ]
  },
  {
   "cell_type": "code",
   "execution_count": 19,
   "metadata": {},
   "outputs": [
    {
     "data": {
      "image/png": "[encoded data removed]",
      "text/latex": [
       "$\\displaystyle \\left[\\begin{matrix}0\\\\0\\\\0\\\\0\\\\0\\\\0\\end{matrix}\\right]$"
      ],
      "text/plain": [
       "⎡0⎤\n",
       "⎢ ⎥\n",
       "⎢0⎥\n",
       "⎢ ⎥\n",
       "⎢0⎥\n",
       "⎢ ⎥\n",
       "⎢0⎥\n",
       "⎢ ⎥\n",
       "⎢0⎥\n",
       "⎢ ⎥\n",
       "⎣0⎦"
      ]
     },
     "execution_count": 19,
     "metadata": {},
     "output_type": "execute_result"
    }
   ],
   "source": [
    "# Se verifica la equivalencia de las expresiones, imprime [0,0,0,0,0,0] */\n",
    "simplify(Matrix([ sr-sr2, st-st2, sz-sz2, trt-trt2, trz-trz2, ttz-ttz2 ]))"
   ]
  },
  {
   "cell_type": "markdown",
   "metadata": {},
   "source": [
    "## Función de tensión de Love en el caso axisimétrico"
   ]
  },
  {
   "cell_type": "markdown",
   "metadata": {},
   "source": [
    "Observe que cuando $\\phi$ es independiente de $\\theta$, como en el caso de coordenadas axisimétricas, se tiene que los desplazamientos se simplifican a:"
   ]
  },
  {
   "cell_type": "markdown",
   "metadata": {},
   "source": [
    "\\begin{align*}\n",
    "u_r(r,\\theta, z)      &= - \\frac{1}{2 G}   \\frac{\\partial^2 \\phi(r,\\theta,z)}{\\partial r\\partial z}\\\\\n",
    "v_\\theta(r,\\theta, z) &= 0\\\\\n",
    "w(r,\\theta, z)        &= \\frac{1}{2 G} \\left(2(1 - \\nu)\\nabla^2 \\phi(r,\\theta, z) - \\frac{\\partial^2 \\phi(r,\\theta, z)}{\\partial z^2}\\right)\n",
    "\\end{align*}   "
   ]
  },
  {
   "cell_type": "markdown",
   "metadata": {},
   "source": [
    "y los esfuerzos a:\n",
    "\\begin{align*}\n",
    "\\sigma_r        &= \\frac{\\partial}{\\partial z}\\left[\\nu\\nabla^2\\phi - \\frac{\\partial^2 \\phi}{\\partial r^2}\\right]\\\\\n",
    "\\sigma_\\theta   &= \\frac{\\partial}{\\partial z}\\left[\\nu\\nabla^2\\phi - \\frac{1}{r}\\frac{\\partial\\phi}{\\partial r}\\right]\\\\\n",
    "\\sigma_z        &= \\frac{\\partial}{\\partial z}\\left[(2 - \\nu) \\nabla^2\\phi - \\frac{\\partial^2 \\phi}{\\partial z^2}\\right]\\\\\n",
    "\\tau_{r \\theta} &= 0 \\\\\n",
    "\\tau_{r z}      &= \\frac{\\partial}{\\partial r}\\left[(1 - \\nu) \\nabla^2\\phi - \\frac{\\partial^2 \\phi}{\\partial z^2} \\right]\\\\\n",
    "\\tau_{\\theta z} &= 0\n",
    "\\end{align*}"
   ]
  }
 ],
 "metadata": {
  "colab": {
   "provenance": []
  },
  "kernelspec": {
   "display_name": "Python 3 (ipykernel)",
   "language": "python",
   "name": "python3"
  },
  "language_info": {
   "codemirror_mode": {
    "name": "ipython",
    "version": 3
   },
   "file_extension": ".py",
   "mimetype": "text/x-python",
   "name": "python",
   "nbconvert_exporter": "python",
   "pygments_lexer": "ipython3",
   "version": "3.10.9"
  }
 },
 "nbformat": 4,
 "nbformat_minor": 4
}
