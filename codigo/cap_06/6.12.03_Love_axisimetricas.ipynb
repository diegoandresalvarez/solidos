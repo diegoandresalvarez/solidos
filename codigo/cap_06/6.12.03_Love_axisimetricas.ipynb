{
 "cells": [
  {
   "cell_type": "markdown",
   "id": "099f7286-9212-4916-ba1c-af715c75fec1",
   "metadata": {},
   "source": [
    "# 6.12.3. Función de tensión de Love en coordenadas axisimétricas\n",
    "\n",
    "|Quién | Fecha | Qué hizo |\n",
    "| ---  | ---   | ---      |\n",
    "|Diego Andrés Alvarez Marín, <daalvarez@unal.edu.co>  | Marzo 25, 2023      | Adaptando el código de MAXIMA a PYTHON |"
   ]
  },
  {
   "cell_type": "code",
   "execution_count": 1,
   "id": "b4c85e70-2268-42ff-a06e-5e608dd6f45c",
   "metadata": {
    "id": "API5h85VrvWX"
   },
   "outputs": [],
   "source": [
    "from sympy import init_printing, latex, symbols, diff, Function, solve, expand, simplify, factor\n",
    "\n",
    "# Para imprimir bonito\n",
    "init_printing()\n",
    "from IPython.display import Math                 \n",
    "def imprimir (texto1, variable, texto2=\"\"):\n",
    "    return Math(texto1 +  rf'{latex(variable)}' + texto2)"
   ]
  },
  {
   "cell_type": "markdown",
   "id": "4d280551-c02c-466d-9aa4-0427ddf3f96e",
   "metadata": {
    "id": "L66opn_C5Tr_"
   },
   "source": [
    "Se definen las variables y funciones simbólicas necesarias:"
   ]
  },
  {
   "cell_type": "code",
   "execution_count": 2,
   "id": "2c460130-d16d-4c0d-9182-acf70b9473b2",
   "metadata": {},
   "outputs": [],
   "source": [
    "r, z, E, nu = symbols('r, z, E, nu')\n",
    "phi         = Function('phi')(r, z)    # función de tensión de Love"
   ]
  },
  {
   "cell_type": "markdown",
   "id": "3aa0d71a-aaaa-45c8-93cb-1b2d03cc9d0b",
   "metadata": {},
   "source": [
    "Se define el laplaciano en coordenadas axisimétricas:\n",
    "\\begin{equation}\n",
    "\\nabla^2\\phi = \\frac{1}{r}\\frac{\\partial}{\\partial r}\\left(r\\frac{\\partial\\phi}{\\partial r}\\right) + \\frac{\\partial^2\\phi}{\\partial z^2} = \\frac{\\partial^2 \\phi}{\\partial r^2} + \\frac{1}{r}\\frac{\\partial \\phi}{\\partial r} + \\frac{\\partial^2\\phi}{\\partial z^2}\n",
    "\\end{equation}"
   ]
  },
  {
   "cell_type": "code",
   "execution_count": 3,
   "id": "4dc9d831-098f-4580-b14b-eae6c8b9d091",
   "metadata": {},
   "outputs": [],
   "source": [
    "lapl = lambda f : (1/r)*diff(r*diff(f,r),r) + diff(f,z,2)"
   ]
  },
  {
   "cell_type": "markdown",
   "id": "a5847f7e-0c55-4a9f-9002-6908d728fc3d",
   "metadata": {},
   "source": [
    "Se calcula el biarmónico $\\nabla^4\\phi$ de la función de tensión de Love:"
   ]
  },
  {
   "cell_type": "code",
   "execution_count": 4,
   "id": "a6b251fe-a259-43b8-aaaa-b940357c0bc1",
   "metadata": {},
   "outputs": [],
   "source": [
    "bphi = expand(lapl(lapl(phi)))"
   ]
  },
  {
   "cell_type": "markdown",
   "id": "7f7c29bc-0b77-40bc-b6ac-8e2f194d389c",
   "metadata": {},
   "source": [
    "Se definen los esfuerzos utilizando la función de tensión de Love:\n",
    "\\begin{align}    \n",
    "    \\sigma_r(r,z)      &= \\frac{\\partial}{\\partial z}\\left(\\nu\\nabla^2\\phi(r,z) - \\frac{\\partial^2 \\phi(r,z)}{\\partial r^2}\\right)\\\\\n",
    "    \\sigma_\\theta(r,z) &= \\frac{\\partial}{\\partial z}\\left(\\nu\\nabla^2\\phi(r,z) - \\frac{1}{r}\\frac{\\partial \\phi(r,z)}{\\partial r}\\right)\\\\\n",
    "    \\sigma_z(r,z)      &= \\frac{\\partial}{\\partial z}\\left((2-\\nu)\\nabla^2\\phi(r,z) - \\frac{\\partial^2 \\phi(r,z)}{\\partial z^2}\\right)\\\\\n",
    "    \\tau_{rz}(r,z)     &= \\frac{\\partial}{\\partial r}\\left((1-\\nu)\\nabla^2\\phi(r,z) - \\frac{\\partial^2 \\phi(r,z)}{\\partial z^2}\\right)\n",
    "\\end{align}"
   ]
  },
  {
   "cell_type": "code",
   "execution_count": 5,
   "id": "b2fd8772-7423-42e5-b54d-c6d0377ba0b3",
   "metadata": {},
   "outputs": [],
   "source": [
    "sr  = diff(nu*lapl(phi) - diff(phi,r,2),     z)\n",
    "st  = diff(nu*lapl(phi) - (1/r)*diff(phi,r), z)\n",
    "sz  = diff((2-nu)*lapl(phi) - diff(phi,z,2), z)\n",
    "trz = diff((1-nu)*lapl(phi) - diff(phi,z,2), r)"
   ]
  },
  {
   "cell_type": "markdown",
   "id": "84953a4d-b8e8-4207-910c-c5a318a57731",
   "metadata": {},
   "source": [
    "Se definen los desplazamientos utilizando la función de tensión de Love:\n",
    "\\begin{align}\n",
    "u_r(r,z) &= -\\frac{1+\\nu}{E}\\frac{\\partial^2 \\phi(r,z)}{\\partial r \\partial z}\\\\\n",
    "w(r,z) &= \\frac{1+\\nu}{E}\\left[2(1-\\nu)\\nabla^2\\phi(r,z) - \\frac{\\partial^2 \\phi(r,z)}{\\partial z^2}\\right].\n",
    "\\end{align}"
   ]
  },
  {
   "cell_type": "code",
   "execution_count": 6,
   "id": "ec8dfd42-5dda-4076-a3f4-2816e1be02c8",
   "metadata": {},
   "outputs": [],
   "source": [
    "ur = -((1+nu)/E)*diff(phi, r,1, z,1)\n",
    "w  =  ((1+nu)/E)*(2*(1-nu)*lapl(phi) - diff(phi,z,2))"
   ]
  },
  {
   "cell_type": "markdown",
   "id": "f0b73dc6-aaed-467f-bf34-9e177f842cc4",
   "metadata": {},
   "source": [
    "Se reemplazan los esfuerzos en las ecuaciones de equilibrio, para el caso axisimétrico, haciendo la fuerza másica constante ($b_r = b_\\theta = 0$):\n",
    "\\begin{align}\n",
    "    \\frac{\\partial \\sigma_r}{\\partial r} +  \\frac{\\partial \\tau_{rz}}{\\partial z} + \\frac{\\sigma_r - \\sigma_\\theta}{r} + b_r &= 0 \\\\\n",
    "    \\frac{\\partial \\tau_{rz}}{\\partial r} + \\frac{\\partial \\sigma_z}{\\partial z} + \\frac{\\tau_{rz}}{r} + b_z &= 0\n",
    "\\end{align}\n",
    "para verificar que estas ecuaciones se convierten respectivamente en:\n",
    "\\begin{align}\n",
    "    0 &= 0 \\\\\n",
    "    (1 - \\nu)\\nabla^4\\phi(r,z) &= 0\n",
    "\\end{align}"
   ]
  },
  {
   "cell_type": "code",
   "execution_count": 7,
   "id": "15a34623-e783-4e68-8d80-00c6ad0b796c",
   "metadata": {},
   "outputs": [
    {
     "data": {
      "text/latex": [
       "$\\displaystyle 0 = 0$"
      ],
      "text/plain": [
       "<IPython.core.display.Math object>"
      ]
     },
     "execution_count": 7,
     "metadata": {},
     "output_type": "execute_result"
    }
   ],
   "source": [
    "# Primera ecuación de equilibrio:\n",
    "eq1 = expand(diff(sr,r) + diff(trz,z) + (sr - st)/r) # == 0\n",
    "imprimir(\"\", eq1, \" = 0\")"
   ]
  },
  {
   "cell_type": "code",
   "execution_count": 8,
   "id": "7680aeed-e870-4fba-8067-283483be7821",
   "metadata": {
    "tags": []
   },
   "outputs": [
    {
     "data": {
      "text/latex": [
       "$\\displaystyle 0 = 0$"
      ],
      "text/plain": [
       "<IPython.core.display.Math object>"
      ]
     },
     "execution_count": 8,
     "metadata": {},
     "output_type": "execute_result"
    }
   ],
   "source": [
    "# Segunda ecuación de equilibrio:\n",
    "eq2 = diff(trz,r) + diff(sz,z) + trz/r # == 0\n",
    "imprimir(\"\", expand(eq2 - (1-nu)*bphi), \" = 0\")"
   ]
  },
  {
   "cell_type": "markdown",
   "id": "88d27daf-9135-4409-bed6-55f401ff68b7",
   "metadata": {},
   "source": [
    "Se reemplazan los esfuerzos en las ecuaciones de compatibilidad bidimensionales en términos de esfuerzos, asumiendo que las fuerzas másicas son constantes, para el caso axisimétrico:\n",
    "\\begin{align}\n",
    "\\nabla^2 \\sigma_r - \\frac{2}{r^2}(\\sigma_r - \\sigma_\\theta) + \\frac{1}{1+\\nu}\\frac{\\partial^2 \\Theta}{\\partial r^2} &= 0\\\\\n",
    "\\nabla^2 \\sigma_\\theta + \\frac{2}{r^2}(\\sigma_r - \\sigma_\\theta) + \\frac{1}{1+\\nu}\\frac{1}{r}\\frac{\\partial \\Theta}{\\partial r} &= 0\\\\\n",
    "\\nabla^2 \\sigma_z + \\frac{1}{1+\\nu}\\frac{\\partial ^2\\Theta}{\\partial z^2} &= 0\\\\\n",
    "\\nabla^2 \\tau_{rz} - \\frac{1}{r^2}\\tau_{rz} + \\frac{1}{1+\\nu}\\frac{\\partial^2 \\Theta}{\\partial r \\partial z} &= 0\n",
    "\\end{align}"
   ]
  },
  {
   "cell_type": "code",
   "execution_count": 9,
   "id": "1aaeccf8-e0bb-4064-8419-a67747a169af",
   "metadata": {},
   "outputs": [],
   "source": [
    "Theta = sr + st + sz\n",
    "co1 = lapl(sr) - (2/r**2)*(sr - st) + (1/(1+nu))*diff(Theta,r,2)\n",
    "co2 = lapl(st) + (2/r**2)*(sr - st) + (1/(1+nu))*(1/r)*diff(Theta,r)\n",
    "co3 = lapl(sz) + (1/(1+nu))*diff(Theta,z,2)\n",
    "co4 = lapl(trz) - (1/r**2)*trz + (1/(1+nu))*diff(Theta,r,1,z,1)"
   ]
  },
  {
   "cell_type": "markdown",
   "id": "678a5702-2452-428e-ae84-79fc8776715f",
   "metadata": {},
   "source": [
    "Se verifica que las ecuaciones de compatibilidad anteriores se convierten en:\n",
    "\\begin{align}\n",
    "    \\nu \\frac{\\partial}{\\partial z}\\left(\\nabla^4 \\phi(r,z) \\right)     &= 0\\\\\n",
    "    \\nu \\frac{\\partial}{\\partial z}\\left(\\nabla^4 \\phi(r,z) \\right)     &= 0\\\\\n",
    "    (2-\\nu) \\frac{\\partial}{\\partial z}\\left(\\nabla^4 \\phi(r,z) \\right) &= 0\\\\\n",
    "    (1-\\nu) \\frac{\\partial}{\\partial r}\\left(\\nabla^4 \\phi(r,z) \\right) &= 0\n",
    "\\end{align}"
   ]
  },
  {
   "cell_type": "code",
   "execution_count": 10,
   "id": "82941db5-7d60-4911-a754-8e9e549e5969",
   "metadata": {},
   "outputs": [
    {
     "data": {
      "text/latex": [
       "$\\displaystyle 0 = 0$"
      ],
      "text/plain": [
       "<IPython.core.display.Math object>"
      ]
     },
     "execution_count": 10,
     "metadata": {},
     "output_type": "execute_result"
    }
   ],
   "source": [
    "imprimir(\"\", simplify(co1 - nu*diff(bphi,z)), \" = 0\")"
   ]
  },
  {
   "cell_type": "code",
   "execution_count": 11,
   "id": "e502ca88-1ca8-4b7f-80f0-f65c56d99654",
   "metadata": {},
   "outputs": [
    {
     "data": {
      "text/latex": [
       "$\\displaystyle 0 = 0$"
      ],
      "text/plain": [
       "<IPython.core.display.Math object>"
      ]
     },
     "execution_count": 11,
     "metadata": {},
     "output_type": "execute_result"
    }
   ],
   "source": [
    "imprimir(\"\", simplify(co2 - nu*diff(bphi,z)), \" = 0\")"
   ]
  },
  {
   "cell_type": "code",
   "execution_count": 12,
   "id": "037fd907-6338-4ce7-9567-8457aa9966ce",
   "metadata": {},
   "outputs": [
    {
     "data": {
      "text/latex": [
       "$\\displaystyle 0 = 0$"
      ],
      "text/plain": [
       "<IPython.core.display.Math object>"
      ]
     },
     "execution_count": 12,
     "metadata": {},
     "output_type": "execute_result"
    }
   ],
   "source": [
    "imprimir(\"\", simplify(co3 - (2-nu)*diff(bphi,z)), \" = 0\")"
   ]
  },
  {
   "cell_type": "code",
   "execution_count": 13,
   "id": "ff2888cb-bd8e-438c-ae93-dec42f9fb07d",
   "metadata": {},
   "outputs": [
    {
     "data": {
      "text/latex": [
       "$\\displaystyle 0 = 0$"
      ],
      "text/plain": [
       "<IPython.core.display.Math object>"
      ]
     },
     "execution_count": 13,
     "metadata": {},
     "output_type": "execute_result"
    }
   ],
   "source": [
    "imprimir(\"\", simplify(co4 - (1-nu)*diff(bphi,r)), \" = 0\")"
   ]
  },
  {
   "cell_type": "markdown",
   "id": "7a27cf22-2a87-4587-b45f-de3b08b4895d",
   "metadata": {
    "tags": []
   },
   "source": [
    "Se escriben las ecuaciones de Cauchy-Navier para el caso axisimétrico\n",
    "\\begin{align}\n",
    "    (\\lambda+G) \\frac{\\partial e}{\\partial r} + G\\left(\\nabla^2 u_r - \\frac{u_r}{r^2} \\right) + b_r &= 0 \\\\\n",
    "    (\\lambda+G) \\frac{\\partial e}{\\partial z} + G \\nabla^2 w  + b_z &= 0\n",
    "\\end{align}\n",
    "en términos de la función de tensión de Love:"
   ]
  },
  {
   "cell_type": "code",
   "execution_count": 14,
   "id": "da5e5494-959a-4261-ba46-edecced4fee3",
   "metadata": {
    "tags": []
   },
   "outputs": [],
   "source": [
    "# Las constantes de Lamé:\n",
    "lamda = E*nu/((1 + nu)*(1 - 2*nu))\n",
    "G     = E/(2*(1 + nu))\n",
    "\n",
    "# Dilatación cúbica para el caso axisimétrico:\n",
    "e = diff(ur,r) + ur/r + diff(w,z)\n",
    "\n",
    "# Se reemplazan los desplazamientos en las ecuaciones de Cauchy-Navier, para el caso axisimétrico, asumiendo que las fuerzas másicas son nulas: $b_r = b_z = 0$:\n",
    "cn1 = (lamda + G)*diff(e,r) + G*(lapl(ur) - ur/r**2)\n",
    "cn2 = (lamda + G)*diff(e,z) + G*lapl(w)"
   ]
  },
  {
   "cell_type": "markdown",
   "id": "3ef285d4-b14b-4294-b354-8a6da4364a03",
   "metadata": {},
   "source": [
    "para verificar que estas ecuaciones se convierten respectivamente en:\n",
    "\\begin{align}\n",
    "    0 &= 0 \\\\\n",
    "    (1 - \\nu)\\nabla^4\\phi(r,z) &= 0\n",
    "\\end{align}"
   ]
  },
  {
   "cell_type": "code",
   "execution_count": 15,
   "id": "c0831a5e-03b0-4349-8b93-1003dfc82a49",
   "metadata": {
    "tags": []
   },
   "outputs": [
    {
     "data": {
      "text/latex": [
       "$\\displaystyle 0 = 0$"
      ],
      "text/plain": [
       "<IPython.core.display.Math object>"
      ]
     },
     "execution_count": 15,
     "metadata": {},
     "output_type": "execute_result"
    }
   ],
   "source": [
    "imprimir(\"\", factor(cn1 - 0), \" = 0\")"
   ]
  },
  {
   "cell_type": "code",
   "execution_count": 16,
   "id": "d42555e7-4a79-4f08-b04e-71174eff5f51",
   "metadata": {
    "tags": []
   },
   "outputs": [
    {
     "data": {
      "text/latex": [
       "$\\displaystyle 0 = 0$"
      ],
      "text/plain": [
       "<IPython.core.display.Math object>"
      ]
     },
     "execution_count": 16,
     "metadata": {},
     "output_type": "execute_result"
    }
   ],
   "source": [
    "imprimir(\"\", factor(cn2 - (1-nu)*bphi), \" = 0\")"
   ]
  }
 ],
 "metadata": {
  "kernelspec": {
   "display_name": "Python 3 (ipykernel)",
   "language": "python",
   "name": "python3"
  },
  "language_info": {
   "codemirror_mode": {
    "name": "ipython",
    "version": 3
   },
   "file_extension": ".py",
   "mimetype": "text/x-python",
   "name": "python",
   "nbconvert_exporter": "python",
   "pygments_lexer": "ipython3",
   "version": "3.10.9"
  }
 },
 "nbformat": 4,
 "nbformat_minor": 5
}
