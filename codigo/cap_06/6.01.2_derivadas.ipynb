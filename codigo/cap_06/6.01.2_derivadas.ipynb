{
 "cells": [
  {
   "cell_type": "markdown",
   "id": "fd1dde02-2492-42a0-bd31-a137fb226a45",
   "metadata": {},
   "source": [
    "# 6.1.2. Método alterno para el cálculo de las derivadas $\\frac{\\partial r}{\\partial x}$, $\\frac{\\partial r}{\\partial y}$, $\\frac{\\partial \\theta}{\\partial x}$ y $\\frac{\\partial \\theta}{\\partial y}$"
   ]
  },
  {
   "cell_type": "code",
   "execution_count": 1,
   "id": "919f5165-aad0-4a99-9b22-98ba40050ed6",
   "metadata": {},
   "outputs": [],
   "source": [
    "from sympy import init_printing, latex, symbols, Function, sin, cos, diff, simplify, Matrix, trigsimp\n",
    "\n",
    "# Para imprimir bonito\n",
    "init_printing()\n",
    "from IPython.display import Math                 \n",
    "def imprimir (texto1, variable, texto2=\"\"):\n",
    "    return Math(texto1 +  rf'{latex(variable)}' + texto2)"
   ]
  },
  {
   "cell_type": "code",
   "execution_count": 2,
   "id": "4a493163-b600-4609-8218-f6fea804675f",
   "metadata": {},
   "outputs": [],
   "source": [
    "r, t, z = symbols('r, theta, z')"
   ]
  },
  {
   "cell_type": "markdown",
   "id": "ebd61d01-99b8-460f-ab90-e38dff93a372",
   "metadata": {},
   "source": [
    "Forma alterna de definir la regla de la cadena (por virtual del teorema de la transformada inversa):"
   ]
  },
  {
   "cell_type": "code",
   "execution_count": 3,
   "id": "e774b15e-e869-4abd-a885-d16b2ac7a1b3",
   "metadata": {},
   "outputs": [],
   "source": [
    "x = r*cos(t)\n",
    "y = r*sin(t)\n",
    "\n",
    "# matriz Jacobiana\n",
    "J = Matrix([[ diff(x,r), diff(x,t), diff(x,z) ],\n",
    "            [ diff(y,r), diff(y,t), diff(y,z) ],\n",
    "            [ diff(z,r), diff(z,t), diff(z,z) ]])"
   ]
  },
  {
   "cell_type": "code",
   "execution_count": 4,
   "id": "7df8e2ce-5988-4344-9c23-62db7b4efdb8",
   "metadata": {},
   "outputs": [
    {
     "data": {
      "text/latex": [
       "$\\displaystyle \n",
       "\\begin{bmatrix}\n",
       "\\frac{\\partial x}{\\partial r} & \\frac{\\partial x}{\\partial \\theta} & \\frac{\\partial x}{\\partial z} \\\\\n",
       "\\frac{\\partial y}{\\partial r} & \\frac{\\partial y}{\\partial \\theta} & \\frac{\\partial y}{\\partial z} \\\\\n",
       "\\frac{\\partial z}{\\partial r} & \\frac{\\partial z}{\\partial \\theta} & \\frac{\\partial z}{\\partial z}\n",
       "\\end{bmatrix} = \\left[\\begin{matrix}\\cos{\\left(\\theta \\right)} & - r \\sin{\\left(\\theta \\right)} & 0\\\\\\sin{\\left(\\theta \\right)} & r \\cos{\\left(\\theta \\right)} & 0\\\\0 & 0 & 1\\end{matrix}\\right]$"
      ],
      "text/plain": [
       "<IPython.core.display.Math object>"
      ]
     },
     "execution_count": 4,
     "metadata": {},
     "output_type": "execute_result"
    }
   ],
   "source": [
    "imprimir(r\"\"\"\n",
    "\\begin{bmatrix}\n",
    "\\frac{\\partial x}{\\partial r} & \\frac{\\partial x}{\\partial \\theta} & \\frac{\\partial x}{\\partial z} \\\\\n",
    "\\frac{\\partial y}{\\partial r} & \\frac{\\partial y}{\\partial \\theta} & \\frac{\\partial y}{\\partial z} \\\\\n",
    "\\frac{\\partial z}{\\partial r} & \\frac{\\partial z}{\\partial \\theta} & \\frac{\\partial z}{\\partial z}\n",
    "\\end{bmatrix} = \"\"\", J)"
   ]
  },
  {
   "cell_type": "code",
   "execution_count": 5,
   "id": "3aeda809-ae74-4d89-9705-1a65cd424a60",
   "metadata": {},
   "outputs": [],
   "source": [
    "JinvT = trigsimp(J.inv()).T"
   ]
  },
  {
   "cell_type": "code",
   "execution_count": 6,
   "id": "70940df9-8b97-488c-a1af-a8110acdfa0a",
   "metadata": {},
   "outputs": [
    {
     "data": {
      "text/latex": [
       "$\\displaystyle \n",
       "\\begin{bmatrix}\n",
       "\\frac{\\partial r}{\\partial x} & \\frac{\\partial \\theta}{\\partial x} & \\frac{\\partial z}{\\partial x} \\\\\n",
       "\\frac{\\partial r}{\\partial y} & \\frac{\\partial \\theta}{\\partial y} & \\frac{\\partial z}{\\partial y} \\\\\n",
       "\\frac{\\partial r}{\\partial z} & \\frac{\\partial \\theta}{\\partial z} & \\frac{\\partial z}{\\partial z}\n",
       "\\end{bmatrix} = \\left[\\begin{matrix}\\cos{\\left(\\theta \\right)} & - \\frac{\\sin{\\left(\\theta \\right)}}{r} & 0\\\\\\sin{\\left(\\theta \\right)} & \\frac{\\cos{\\left(\\theta \\right)}}{r} & 0\\\\0 & 0 & 1\\end{matrix}\\right]$"
      ],
      "text/plain": [
       "<IPython.core.display.Math object>"
      ]
     },
     "execution_count": 6,
     "metadata": {},
     "output_type": "execute_result"
    }
   ],
   "source": [
    "imprimir(r\"\"\"\n",
    "\\begin{bmatrix}\n",
    "\\frac{\\partial r}{\\partial x} & \\frac{\\partial \\theta}{\\partial x} & \\frac{\\partial z}{\\partial x} \\\\\n",
    "\\frac{\\partial r}{\\partial y} & \\frac{\\partial \\theta}{\\partial y} & \\frac{\\partial z}{\\partial y} \\\\\n",
    "\\frac{\\partial r}{\\partial z} & \\frac{\\partial \\theta}{\\partial z} & \\frac{\\partial z}{\\partial z}\n",
    "\\end{bmatrix} = \"\"\", JinvT)"
   ]
  }
 ],
 "metadata": {
  "kernelspec": {
   "display_name": "Python 3 (ipykernel)",
   "language": "python",
   "name": "python3"
  },
  "language_info": {
   "codemirror_mode": {
    "name": "ipython",
    "version": 3
   },
   "file_extension": ".py",
   "mimetype": "text/x-python",
   "name": "python",
   "nbconvert_exporter": "python",
   "pygments_lexer": "ipython3",
   "version": "3.11.5"
  }
 },
 "nbformat": 4,
 "nbformat_minor": 5
}
