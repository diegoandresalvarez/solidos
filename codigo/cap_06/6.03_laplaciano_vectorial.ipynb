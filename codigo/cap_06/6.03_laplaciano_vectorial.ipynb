{
 "cells": [
  {
   "cell_type": "markdown",
   "id": "8685156b-d921-48a8-9676-d60de594c12d",
   "metadata": {},
   "source": [
    "# 6.3. El laplaciano vectorial en coordenadas intrínsecas, rectangulares y cilíndricas"
   ]
  },
  {
   "cell_type": "code",
   "execution_count": 1,
   "id": "75edd0e8-b72e-4702-b54c-407de6bbec2b",
   "metadata": {},
   "outputs": [],
   "source": [
    "from sympy import init_printing, latex, symbols, diff, simplify, Function, Matrix, expand, sin, cos, trigsimp\n",
    "\n",
    "# Para imprimir bonito\n",
    "init_printing()\n",
    "from IPython.display import Math                 \n",
    "def imprimir (texto1, variable, texto2=\"\"):\n",
    "    return Math(texto1 +  rf'{latex(variable)}' + texto2)"
   ]
  },
  {
   "cell_type": "code",
   "execution_count": 2,
   "id": "d9dfc027-ed66-4dca-8af8-5cd753e35a80",
   "metadata": {},
   "outputs": [],
   "source": [
    "x, y, z = symbols('x, y, z')\n",
    "r, t    = symbols('r, theta')"
   ]
  },
  {
   "cell_type": "markdown",
   "id": "0072548b-72a7-4e78-af53-602633040343",
   "metadata": {},
   "source": [
    "## Ejemplo 6.2. Conversión del laplaciano vectorial de coordenadas intrínsecas a coordenadas rectangulares"
   ]
  },
  {
   "cell_type": "markdown",
   "id": "42b2e432-b6a8-4e5f-b3d3-d664d5936af8",
   "metadata": {},
   "source": [
    "Se define el laplaciano en coordenadas rectangulares:"
   ]
  },
  {
   "cell_type": "code",
   "execution_count": 3,
   "id": "e8e38843-8bd5-47e0-ab80-c9f9a177cc9c",
   "metadata": {
    "tags": []
   },
   "outputs": [],
   "source": [
    "laplr = lambda g : diff(g,x,2) + diff(g,y,2) + diff(g,z,2)"
   ]
  },
  {
   "cell_type": "markdown",
   "id": "d64ba301-cb14-4809-806b-688ae0002a37",
   "metadata": {
    "tags": []
   },
   "source": [
    "Se define el gradiente en coordenadas rectangulares:"
   ]
  },
  {
   "cell_type": "code",
   "execution_count": 4,
   "id": "f45c22a9-faeb-4fde-91bf-3b23c3eee8cf",
   "metadata": {
    "tags": []
   },
   "outputs": [],
   "source": [
    "grad = lambda g : Matrix([ diff(g,x),\n",
    "                           diff(g,y),\n",
    "                           diff(g,z) ])"
   ]
  },
  {
   "cell_type": "markdown",
   "id": "bb20416c-b43d-4872-9134-9872b8620eab",
   "metadata": {
    "tags": []
   },
   "source": [
    "Se define la divergencia en coordenadas rectangulares:"
   ]
  },
  {
   "cell_type": "code",
   "execution_count": 5,
   "id": "192b7463-9978-46ac-a387-b287218f6073",
   "metadata": {
    "tags": []
   },
   "outputs": [],
   "source": [
    "div = lambda v : diff(v[0],x) + diff(v[1],y) + diff(v[2],z)"
   ]
  },
  {
   "cell_type": "markdown",
   "id": "847dd2dc-8748-40be-b9ca-0361b89176dc",
   "metadata": {
    "tags": []
   },
   "source": [
    "Se define el rotacional en coordenadas rectangulares:"
   ]
  },
  {
   "cell_type": "code",
   "execution_count": 6,
   "id": "a3c08723-dfe7-4bdd-a6ba-d260a305d2bb",
   "metadata": {
    "tags": []
   },
   "outputs": [],
   "source": [
    "rot = lambda v : Matrix([ diff(v[2],y) - diff(v[1],z),\n",
    "                          diff(v[0],z) - diff(v[2],x),\n",
    "                          diff(v[1],x) - diff(v[0],y)  ])"
   ]
  },
  {
   "cell_type": "markdown",
   "id": "e4e45f26-aa15-45a7-8d60-03bad3b5f6d9",
   "metadata": {
    "tags": []
   },
   "source": [
    "Se define el laplaciano vectorial en coordenadas rectangulares:"
   ]
  },
  {
   "cell_type": "code",
   "execution_count": 7,
   "id": "58761073-bab0-4732-a4e7-2ee1414392f6",
   "metadata": {
    "tags": []
   },
   "outputs": [],
   "source": [
    "lapl_vec_r = lambda v : Matrix([ laplr(v[0]),\n",
    "                                 laplr(v[1]),\n",
    "                                 laplr(v[2]) ])"
   ]
  },
  {
   "cell_type": "code",
   "execution_count": 8,
   "id": "8d78a50d-e071-47e9-85b2-8904bc761f7b",
   "metadata": {
    "tags": []
   },
   "outputs": [],
   "source": [
    "# se especifica que fx, fy y fz son funciones de x, y y z\n",
    "fx = Function('f_x')(x, y, z)\n",
    "fy = Function('f_y')(x, y, z)\n",
    "fz = Function('f_z')(x, y, z)\n",
    "\n",
    "f_r = Matrix([fx, fy, fz])"
   ]
  },
  {
   "cell_type": "code",
   "execution_count": 9,
   "id": "aa7ad10d-45ff-425c-9be7-8391e93b4361",
   "metadata": {
    "tags": []
   },
   "outputs": [
    {
     "data": {
      "image/png": "[encoded data removed]",
      "text/latex": [
       "$\\displaystyle \\left[\\begin{matrix}0\\\\0\\\\0\\end{matrix}\\right]$"
      ],
      "text/plain": [
       "⎡0⎤\n",
       "⎢ ⎥\n",
       "⎢0⎥\n",
       "⎢ ⎥\n",
       "⎣0⎦"
      ]
     },
     "execution_count": 9,
     "metadata": {},
     "output_type": "execute_result"
    }
   ],
   "source": [
    "eq1 = lapl_vec_r(f_r)\n",
    "eq2 = grad(div(f_r)) - rot(rot(f_r))\n",
    "expand(eq1 - eq2)"
   ]
  },
  {
   "cell_type": "markdown",
   "id": "efd832b3-5b09-4bd5-a19d-be6e0faaeddd",
   "metadata": {
    "tags": []
   },
   "source": [
    "## Ejemplo 6.2. Conversión del laplaciano vectorial de coordenadas intrínsecas a coordenadas cilíndricas"
   ]
  },
  {
   "cell_type": "markdown",
   "id": "3144c09b-9cc5-45a5-baa7-bace3f2c8c51",
   "metadata": {},
   "source": [
    "Se define el laplaciano en coordenadas cilíndricas:"
   ]
  },
  {
   "cell_type": "code",
   "execution_count": 10,
   "id": "d2e7092d-f839-44f9-b7f7-87596cbc85ea",
   "metadata": {
    "tags": []
   },
   "outputs": [],
   "source": [
    "laplc = lambda g : (1/r)*diff(r*diff(g,r),r) + (1/(r**2))*diff(g,t,2) + diff(g,z,2)"
   ]
  },
  {
   "cell_type": "markdown",
   "id": "439ad889-cd4b-42f6-8a21-6deadf65399d",
   "metadata": {
    "tags": []
   },
   "source": [
    "Se define el gradiente en coordenadas cilíndricas:"
   ]
  },
  {
   "cell_type": "code",
   "execution_count": 11,
   "id": "e6af4f2d-cf9e-4235-bef9-b3f74fdec5f0",
   "metadata": {
    "tags": []
   },
   "outputs": [],
   "source": [
    "grad = lambda g : Matrix([       diff(g,r),\n",
    "                           (1/r)*diff(g,t),\n",
    "                                 diff(g,z) ])"
   ]
  },
  {
   "cell_type": "markdown",
   "id": "eaed165f-624c-4fb3-ae66-311ef409a2fd",
   "metadata": {
    "tags": []
   },
   "source": [
    "Se define la divergencia en coordenadas cilíndricas:"
   ]
  },
  {
   "cell_type": "code",
   "execution_count": 12,
   "id": "4608faf7-2ebb-40d6-abfa-6379f04d648e",
   "metadata": {
    "tags": []
   },
   "outputs": [],
   "source": [
    "div = lambda v : (1/r)*diff(r*v[0],r) + (1/r)*diff(v[1],t) + diff(v[2],z)"
   ]
  },
  {
   "cell_type": "markdown",
   "id": "d23ccd48-b5e7-450b-8649-421b7ea6f7d5",
   "metadata": {
    "tags": []
   },
   "source": [
    "Se define el rotacional en coordenadas cilíndricas:"
   ]
  },
  {
   "cell_type": "code",
   "execution_count": 13,
   "id": "a23dc901-86ea-4c22-934f-391acb09b9a7",
   "metadata": {
    "tags": []
   },
   "outputs": [],
   "source": [
    "rot = lambda v : Matrix([ (1/r)*diff(v[2],t)   - diff(v[1],z),\n",
    "                                diff(v[0],z)   - diff(v[2],r),\n",
    "                         (1/r)*(diff(r*v[1],r) - diff(v[0],t)) ])"
   ]
  },
  {
   "cell_type": "markdown",
   "id": "8fc9de8c-aea3-4bb7-ba85-30b2f4dc7733",
   "metadata": {
    "tags": []
   },
   "source": [
    "Se define el laplaciano vectorial en coordenadas cilíndricas:"
   ]
  },
  {
   "cell_type": "code",
   "execution_count": 14,
   "id": "e21d06af-7711-413f-a861-5febb6ab2598",
   "metadata": {
    "tags": []
   },
   "outputs": [],
   "source": [
    "lapl_vec_c = lambda v : Matrix([ laplc(v[0]) - v[0]/(r**2) - (2/(r**2))*diff(v[1],t),\n",
    "                                 laplc(v[1]) - v[1]/(r**2) + (2/(r**2))*diff(v[0],t),\n",
    "                                 laplc(v[2]) ])"
   ]
  },
  {
   "cell_type": "code",
   "execution_count": 15,
   "id": "b0b36309-0c2e-4e0b-b579-4c4f9889791c",
   "metadata": {
    "tags": []
   },
   "outputs": [],
   "source": [
    "# se especifica que fr, ft y fz son funciones de r, t y z\n",
    "fr = Function('f_r')(r, t, z)\n",
    "ft = Function('f_theta')(r, t, z)\n",
    "fz = Function('f_z')(r, t, z)\n",
    "\n",
    "f_c = Matrix([fr, ft, fz])"
   ]
  },
  {
   "cell_type": "code",
   "execution_count": 16,
   "id": "485bf94d-d04c-4334-87e6-f7b5d7ecf542",
   "metadata": {
    "tags": []
   },
   "outputs": [
    {
     "data": {
      "image/png": "[encoded data removed]",
      "text/latex": [
       "$\\displaystyle \\left[\\begin{matrix}0\\\\0\\\\0\\end{matrix}\\right]$"
      ],
      "text/plain": [
       "⎡0⎤\n",
       "⎢ ⎥\n",
       "⎢0⎥\n",
       "⎢ ⎥\n",
       "⎣0⎦"
      ]
     },
     "execution_count": 16,
     "metadata": {},
     "output_type": "execute_result"
    }
   ],
   "source": [
    "eq1 = lapl_vec_c(f_c)\n",
    "eq2 = grad(div(f_c)) - rot(rot(f_c))\n",
    "expand(eq1 - eq2)"
   ]
  },
  {
   "cell_type": "markdown",
   "id": "80d5147e-1bb7-4f7f-8e60-4abd4bd5fc45",
   "metadata": {
    "tags": []
   },
   "source": [
    "## Se convierte el laplaciano vectorial de coordenadas rectangulares a coordenadas cilíndricas"
   ]
  },
  {
   "cell_type": "markdown",
   "id": "63482d71-5848-4c9c-ab0e-3fc8d54dcb78",
   "metadata": {
    "tags": []
   },
   "source": [
    "Se define la matriz de transformación $\\boldsymbol{T}$:"
   ]
  },
  {
   "cell_type": "code",
   "execution_count": 17,
   "id": "048c552c-d6a5-417a-8132-028b0a462714",
   "metadata": {
    "tags": []
   },
   "outputs": [],
   "source": [
    "T = Matrix([[ cos(t), -sin(t),   0 ],\n",
    "            [ sin(t),  cos(t),   0 ],\n",
    "            [      0,       0,   1 ]]) "
   ]
  },
  {
   "cell_type": "markdown",
   "id": "5fc2200f-b8e0-489d-a5f4-d228fbfe2640",
   "metadata": {},
   "source": [
    "Se definen las derivadas:"
   ]
  },
  {
   "cell_type": "code",
   "execution_count": 18,
   "id": "b0fc9810-a35d-4173-865a-b6d4c129566f",
   "metadata": {},
   "outputs": [],
   "source": [
    "# se definen las primeras derivadas utilizando la regla de la cadena\n",
    "d_dx = lambda f: diff(f,r)*cos(t) - diff(f,t)*sin(t)/r\n",
    "d_dy = lambda f: diff(f,r)*sin(t) + diff(f,t)*cos(t)/r\n",
    "d_dz = lambda f: diff(f,z)"
   ]
  },
  {
   "cell_type": "markdown",
   "id": "a13fd53f-f410-4cd9-877b-478e48b557b0",
   "metadata": {},
   "source": [
    "Se definen la segundas derivadas:"
   ]
  },
  {
   "cell_type": "code",
   "execution_count": 19,
   "id": "57db6969-8ab4-4007-b214-21fd4cbbdf5d",
   "metadata": {},
   "outputs": [],
   "source": [
    "d2_dx2 = lambda f: d_dx(d_dx(f))\n",
    "d2_dy2 = lambda f: d_dy(d_dy(f))\n",
    "d2_dz2 = lambda f: d_dz(d_dz(f))"
   ]
  },
  {
   "cell_type": "code",
   "execution_count": 20,
   "id": "eefc1731-296c-4cf8-9895-7b14bc1c7996",
   "metadata": {},
   "outputs": [],
   "source": [
    "# se escribe la fórmula del laplaciano en coordenadas rectangulares\n",
    "laplr = lambda g : simplify(d2_dx2(g) + d2_dy2(g) + d2_dz2(g))"
   ]
  },
  {
   "cell_type": "markdown",
   "id": "b51f6ed2-7151-4db0-9b20-659f79a26d57",
   "metadata": {
    "tags": []
   },
   "source": [
    "Se define el laplaciano vectorial en coordenadas rectangulares:"
   ]
  },
  {
   "cell_type": "code",
   "execution_count": 21,
   "id": "32ca0df3-234e-4884-910a-085a99995848",
   "metadata": {
    "tags": []
   },
   "outputs": [],
   "source": [
    "lapl_vec_r = lambda v : Matrix([ laplr(v[0]),\n",
    "                                 laplr(v[1]),\n",
    "                                 laplr(v[2]) ])"
   ]
  },
  {
   "cell_type": "code",
   "execution_count": 22,
   "id": "a7322525-3d4e-44de-8e3b-a464be6dcf6e",
   "metadata": {
    "tags": []
   },
   "outputs": [],
   "source": [
    "f_r2 = T*f_c"
   ]
  },
  {
   "cell_type": "code",
   "execution_count": 24,
   "id": "030f29f4-8d32-4b2a-90a3-523b50e0062b",
   "metadata": {
    "tags": []
   },
   "outputs": [
    {
     "data": {
      "image/png": "[encoded data removed]",
      "text/latex": [
       "$\\displaystyle \\left[\\begin{matrix}0\\\\0\\\\0\\end{matrix}\\right]$"
      ],
      "text/plain": [
       "⎡0⎤\n",
       "⎢ ⎥\n",
       "⎢0⎥\n",
       "⎢ ⎥\n",
       "⎣0⎦"
      ]
     },
     "execution_count": 24,
     "metadata": {},
     "output_type": "execute_result"
    }
   ],
   "source": [
    "vlr = simplify(lapl_vec_r(f_r2))\n",
    "vlc = simplify(lapl_vec_c(f_c))\n",
    "\n",
    "trigsimp(simplify(vlr - T*vlc))"
   ]
  }
 ],
 "metadata": {
  "kernelspec": {
   "display_name": "Python 3 (ipykernel)",
   "language": "python",
   "name": "python3"
  },
  "language_info": {
   "codemirror_mode": {
    "name": "ipython",
    "version": 3
   },
   "file_extension": ".py",
   "mimetype": "text/x-python",
   "name": "python",
   "nbconvert_exporter": "python",
   "pygments_lexer": "ipython3",
   "version": "3.11.5"
  }
 },
 "nbformat": 4,
 "nbformat_minor": 5
}
