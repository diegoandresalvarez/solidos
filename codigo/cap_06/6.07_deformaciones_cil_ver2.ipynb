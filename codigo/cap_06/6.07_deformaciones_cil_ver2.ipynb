{
 "cells": [
  {
   "cell_type": "markdown",
   "metadata": {
    "id": "UyAhKeEIsEqh"
   },
   "source": [
    "# 6.7. Componentes de la deformación en coordenadas cilíndricas\n",
    "\n",
    "|Quién | Fecha | Qué hizo |\n",
    "| ---  | ---   | ---      |\n",
    "|Diego Andrés Alvarez, <daalvarez@unal.edu.co>  | Marzo 15, 2023 | Código inicial |\n",
    "\n",
    "Las ecuaciones que transforman las deformaciones de coordenas rectangulares a coordenadas cilíndricas se pueden calcular con el siguiente programa:"
   ]
  },
  {
   "cell_type": "code",
   "execution_count": 1,
   "metadata": {
    "id": "API5h85VrvWX"
   },
   "outputs": [],
   "source": [
    "from sympy import sin, cos, diff, Function, simplify, symbols, factor, Eq, init_printing, latex, Matrix\n",
    "\n",
    "# Para imprimir bonito\n",
    "init_printing()\n",
    "from IPython.display import Math                 \n",
    "def imprimir (texto1, variable, texto2=\"\"):\n",
    "    return Math(texto1 +  rf'{latex(variable)}' + texto2)"
   ]
  },
  {
   "cell_type": "markdown",
   "metadata": {
    "id": "L66opn_C5Tr_"
   },
   "source": [
    "Se definen las variables y funciones simbólicas necesarias:"
   ]
  },
  {
   "cell_type": "code",
   "execution_count": 2,
   "metadata": {
    "id": "S7-I1WarsUgw"
   },
   "outputs": [],
   "source": [
    "r, t, z = symbols(\"r, theta, z\")\n",
    "\n",
    "# se especifica que er, et, ez, ert, erz y etz son funciones de r, t y z\n",
    "er  = Function('varepsilon_r')(r, t, z)\n",
    "et  = Function('varepsilon_θ')(r, t, z)\n",
    "ez  = Function('varepsilon_z')(r, t, z)\n",
    "grt = Function('gamma_rθ')(r, t, z);        ert = grt/2\n",
    "grz = Function('gamma_rz')(r, t, z);        erz = grz/2\n",
    "gtz = Function('gamma_θz')(r, t, z);        etz = gtz/2"
   ]
  },
  {
   "cell_type": "markdown",
   "metadata": {
    "id": "gUyQP-4l5Z5y"
   },
   "source": [
    "Se define el tensor de deformaciones en coordenadas cilíndricas $\\underline{\\underline{\\boldsymbol{\\sigma}}}_{\\text{cil}}$ con respecto a la base $\\{\\hat{\\boldsymbol{r}}, \\hat{\\boldsymbol{\\theta}}, \\hat{\\boldsymbol{z}}\\}$:"
   ]
  },
  {
   "cell_type": "code",
   "execution_count": 3,
   "metadata": {
    "colab": {
     "base_uri": "https://localhost:8080/",
     "height": 78
    },
    "id": "GOVDxdkOtb4j",
    "outputId": "9a07c997-e29d-490a-d17a-a2a5146f8466"
   },
   "outputs": [],
   "source": [
    "eps_cil = Matrix([[  er, ert, erz ],\n",
    "                  [ ert,  et, etz ],                       \n",
    "                  [ erz, etz,  ez ]])"
   ]
  },
  {
   "cell_type": "markdown",
   "metadata": {
    "id": "vLtLDIWz5q_9"
   },
   "source": [
    "Se define la matriz de transformación $\\boldsymbol{T}$:"
   ]
  },
  {
   "cell_type": "code",
   "execution_count": 4,
   "metadata": {
    "colab": {
     "base_uri": "https://localhost:8080/",
     "height": 78
    },
    "id": "I5V1Uk_Rub9O",
    "outputId": "d858d132-fa45-4ac6-edf6-0856349e6c74"
   },
   "outputs": [],
   "source": [
    "T = Matrix([[ cos(t), -sin(t),       0 ],     \n",
    "            [ sin(t),  cos(t),       0 ],      \n",
    "            [      0,       0,       1 ]])"
   ]
  },
  {
   "cell_type": "markdown",
   "metadata": {
    "id": "9du7Qzz07wKz"
   },
   "source": [
    "Se calcula el tensor de deformaciones $\\underline{\\underline{\\boldsymbol{\\varepsilon}}}$ con respecto a la base $\\{\\hat{\\boldsymbol{i}}, \\hat{\\boldsymbol{j}}, \\hat{\\boldsymbol{k}}\\}$. Recuerde que $$\\underline{\\underline{\\boldsymbol{\\varepsilon}}} = \\boldsymbol{T} \\underline{\\underline{\\boldsymbol{\\varepsilon}}}_{\\text{cil}} \\boldsymbol{T}^T.$$"
   ]
  },
  {
   "cell_type": "code",
   "execution_count": 5,
   "metadata": {
    "id": "YLhi9ppBu7h8"
   },
   "outputs": [],
   "source": [
    "eps = T*eps_cil*T.T"
   ]
  },
  {
   "cell_type": "markdown",
   "metadata": {
    "id": "wI_VbHIb8NMn"
   },
   "source": [
    "Se extraen los términos de la matriz de deformaciones $\\underline{\\underline{\\boldsymbol{\\varepsilon}}}$:"
   ]
  },
  {
   "cell_type": "code",
   "execution_count": 6,
   "metadata": {
    "id": "WGpqR1I17g73"
   },
   "outputs": [],
   "source": [
    "ex  = eps[0,0]\n",
    "ey  = eps[1,1]\n",
    "ez  = eps[2,2]\n",
    "gxy = 2*eps[0,1]\n",
    "gxz = 2*eps[0,2]\n",
    "gyz = 2*eps[1,2]"
   ]
  },
  {
   "cell_type": "markdown",
   "metadata": {},
   "source": [
    "Se definen los desplazamientos:"
   ]
  },
  {
   "cell_type": "code",
   "execution_count": 7,
   "metadata": {},
   "outputs": [],
   "source": [
    "ur = Function(\"u_r\")(r, t, z)\n",
    "vt = Function(\"v_θ\")(r, t, z)\n",
    "w  = Function(\"w\")(r, t, z)\n",
    "\n",
    "# Vector de fuerzas másicas con respecto a la base {r,t,z}\n",
    "des_cil = Matrix([[ ur ],\n",
    "                  [ vt ],\n",
    "                  [ w  ]])\n",
    "\n",
    "# Se expresa el vector de fuerzas másicas con respecto a la base {i,j,k}\n",
    "des = T * des_cil\n",
    "\n",
    "# Se hace la asignación respectiva de los desplazamientos\n",
    "u, v = des[0], des[1]"
   ]
  },
  {
   "cell_type": "code",
   "execution_count": 8,
   "metadata": {},
   "outputs": [],
   "source": [
    "# se definen las primeras derivadas utilizando la regla de la cadena\n",
    "d_dx = lambda f: diff(f,r)*cos(t) - diff(f,t)*sin(t)/r\n",
    "d_dy = lambda f: diff(f,r)*sin(t) + diff(f,t)*cos(t)/r\n",
    "d_dz = lambda f: diff(f,z)"
   ]
  },
  {
   "cell_type": "markdown",
   "metadata": {},
   "source": [
    "Inicialmente, exploremos las ecuaciones que definen las deformaciones en coordenadas rectangulares:\n",
    "\\begin{alignat}{3}\n",
    "\\varepsilon_x &= \\frac{\\partial u}{\\partial x} && \\quad \\implies \\quad & \\varepsilon_x - \\frac{\\partial u}{\\partial x} &= 0\\\\\n",
    "\\varepsilon_y &= \\frac{\\partial v}{\\partial y} && \\quad \\implies \\quad & \\varepsilon_y - \\frac{\\partial v}{\\partial y} &= 0\\\\\n",
    "\\varepsilon_z &= \\frac{\\partial w}{\\partial z} && \\quad \\implies \\quad & \\varepsilon_z - \\frac{\\partial w}{\\partial z} &= 0\\\\\n",
    "\\gamma_{xy} &= \\frac{\\partial u}{\\partial x} + \\frac{\\partial u}{\\partial y} && \\quad \\implies \\quad & \\gamma_{xy} - \\left(\\frac{\\partial u}{\\partial x} + \\frac{\\partial u}{\\partial y}\\right) &= 0\\\\\n",
    "\\gamma_{xz} &= \\frac{\\partial w}{\\partial x} + \\frac{\\partial u}{\\partial z} && \\quad \\implies \\quad & \\gamma_{xz} - \\left(\\frac{\\partial w}{\\partial x} + \\frac{\\partial u}{\\partial z}\\right) &= 0\\\\\n",
    "\\gamma_{yz} &= \\frac{\\partial w}{\\partial z} + \\frac{\\partial v}{\\partial z} && \\quad \\implies \\quad & \\gamma_{yz} - \\left(\\frac{\\partial w}{\\partial z} + \\frac{\\partial v}{\\partial z}\\right) &= 0\n",
    "\\end{alignat}"
   ]
  },
  {
   "cell_type": "code",
   "execution_count": 9,
   "metadata": {
    "tags": []
   },
   "outputs": [
    {
     "data": {
      "text/latex": [
       "$\\displaystyle \\left(\\varepsilon_{r}{\\left(r,\\theta,z \\right)} - \\frac{\\partial}{\\partial r} u_{r}{\\left(r,\\theta,z \\right)}\\right) \\cos^{2}{\\left(\\theta \\right)} + \\left(\\varepsilon_{θ}{\\left(r,\\theta,z \\right)} - \\frac{u_{r}{\\left(r,\\theta,z \\right)}}{r} - \\frac{\\frac{\\partial}{\\partial \\theta} v_{θ}{\\left(r,\\theta,z \\right)}}{r}\\right) \\sin^{2}{\\left(\\theta \\right)} + \\left(- \\gamma_{rθ}{\\left(r,\\theta,z \\right)} + \\frac{\\partial}{\\partial r} v_{θ}{\\left(r,\\theta,z \\right)} - \\frac{v_{θ}{\\left(r,\\theta,z \\right)}}{r} + \\frac{\\frac{\\partial}{\\partial \\theta} u_{r}{\\left(r,\\theta,z \\right)}}{r}\\right) \\sin{\\left(\\theta \\right)} \\cos{\\left(\\theta \\right)} = 0$"
      ],
      "text/plain": [
       "<IPython.core.display.Math object>"
      ]
     },
     "execution_count": 9,
     "metadata": {},
     "output_type": "execute_result"
    }
   ],
   "source": [
    "imprimir(\"\", (ex - d_dx(u)).expand().collect([sin(t)**2, cos(t)**2, sin(t)*cos(t)]), \" = 0\")"
   ]
  },
  {
   "cell_type": "code",
   "execution_count": 10,
   "metadata": {},
   "outputs": [
    {
     "data": {
      "text/latex": [
       "$\\displaystyle \\left(\\varepsilon_{r}{\\left(r,\\theta,z \\right)} - \\frac{\\partial}{\\partial r} u_{r}{\\left(r,\\theta,z \\right)}\\right) \\sin^{2}{\\left(\\theta \\right)} + \\left(\\varepsilon_{θ}{\\left(r,\\theta,z \\right)} - \\frac{u_{r}{\\left(r,\\theta,z \\right)}}{r} - \\frac{\\frac{\\partial}{\\partial \\theta} v_{θ}{\\left(r,\\theta,z \\right)}}{r}\\right) \\cos^{2}{\\left(\\theta \\right)} + \\left(\\gamma_{rθ}{\\left(r,\\theta,z \\right)} - \\frac{\\partial}{\\partial r} v_{θ}{\\left(r,\\theta,z \\right)} + \\frac{v_{θ}{\\left(r,\\theta,z \\right)}}{r} - \\frac{\\frac{\\partial}{\\partial \\theta} u_{r}{\\left(r,\\theta,z \\right)}}{r}\\right) \\sin{\\left(\\theta \\right)} \\cos{\\left(\\theta \\right)} = 0$"
      ],
      "text/plain": [
       "<IPython.core.display.Math object>"
      ]
     },
     "execution_count": 10,
     "metadata": {},
     "output_type": "execute_result"
    }
   ],
   "source": [
    "imprimir(\"\", (ey - d_dy(v)).expand().collect([sin(t)**2, cos(t)**2, sin(t)*cos(t)]), \" = 0\")"
   ]
  },
  {
   "cell_type": "code",
   "execution_count": 11,
   "metadata": {},
   "outputs": [
    {
     "data": {
      "text/latex": [
       "$\\displaystyle \\varepsilon_{z}{\\left(r,\\theta,z \\right)} - \\frac{\\partial}{\\partial z} w{\\left(r,\\theta,z \\right)} = 0$"
      ],
      "text/plain": [
       "<IPython.core.display.Math object>"
      ]
     },
     "execution_count": 11,
     "metadata": {},
     "output_type": "execute_result"
    }
   ],
   "source": [
    "imprimir(\"\", (ez - d_dz(w)).expand().collect([sin(t)**2, cos(t)**2, sin(t)*cos(t)]), \" = 0\")"
   ]
  },
  {
   "cell_type": "code",
   "execution_count": 12,
   "metadata": {},
   "outputs": [
    {
     "data": {
      "text/latex": [
       "$\\displaystyle \\left(- \\gamma_{rθ}{\\left(r,\\theta,z \\right)} + \\frac{\\partial}{\\partial r} v_{θ}{\\left(r,\\theta,z \\right)} - \\frac{v_{θ}{\\left(r,\\theta,z \\right)}}{r} + \\frac{\\frac{\\partial}{\\partial \\theta} u_{r}{\\left(r,\\theta,z \\right)}}{r}\\right) \\sin^{2}{\\left(\\theta \\right)} + \\left(\\gamma_{rθ}{\\left(r,\\theta,z \\right)} - \\frac{\\partial}{\\partial r} v_{θ}{\\left(r,\\theta,z \\right)} + \\frac{v_{θ}{\\left(r,\\theta,z \\right)}}{r} - \\frac{\\frac{\\partial}{\\partial \\theta} u_{r}{\\left(r,\\theta,z \\right)}}{r}\\right) \\cos^{2}{\\left(\\theta \\right)} + 2 \\left(\\varepsilon_{r}{\\left(r,\\theta,z \\right)} - \\varepsilon_{θ}{\\left(r,\\theta,z \\right)} - \\frac{\\partial}{\\partial r} u_{r}{\\left(r,\\theta,z \\right)} + \\frac{u_{r}{\\left(r,\\theta,z \\right)}}{r} + \\frac{\\frac{\\partial}{\\partial \\theta} v_{θ}{\\left(r,\\theta,z \\right)}}{r}\\right) \\sin{\\left(\\theta \\right)} \\cos{\\left(\\theta \\right)} = 0$"
      ],
      "text/plain": [
       "<IPython.core.display.Math object>"
      ]
     },
     "execution_count": 12,
     "metadata": {},
     "output_type": "execute_result"
    }
   ],
   "source": [
    "imprimir(\"\", (gxy - (d_dy(u) + d_dx(v))).expand().collect([sin(t)**2, cos(t)**2, 2*sin(t)*cos(t)]), \" = 0\")"
   ]
  },
  {
   "cell_type": "code",
   "execution_count": 13,
   "metadata": {},
   "outputs": [
    {
     "data": {
      "text/latex": [
       "$\\displaystyle \\left(\\gamma_{rz}{\\left(r,\\theta,z \\right)} - \\frac{\\partial}{\\partial z} u_{r}{\\left(r,\\theta,z \\right)} - \\frac{\\partial}{\\partial r} w{\\left(r,\\theta,z \\right)}\\right) \\sin{\\left(\\theta \\right)} + \\left(\\gamma_{θz}{\\left(r,\\theta,z \\right)} - \\frac{\\partial}{\\partial z} v_{θ}{\\left(r,\\theta,z \\right)} - \\frac{\\frac{\\partial}{\\partial \\theta} w{\\left(r,\\theta,z \\right)}}{r}\\right) \\cos{\\left(\\theta \\right)} = 0$"
      ],
      "text/plain": [
       "<IPython.core.display.Math object>"
      ]
     },
     "execution_count": 13,
     "metadata": {},
     "output_type": "execute_result"
    }
   ],
   "source": [
    "imprimir(\"\", (gyz - (d_dz(v) + d_dy(w))).expand().collect([sin(t), cos(t)]), \" = 0\")"
   ]
  },
  {
   "cell_type": "code",
   "execution_count": 14,
   "metadata": {},
   "outputs": [
    {
     "data": {
      "text/latex": [
       "$\\displaystyle \\left(\\gamma_{rz}{\\left(r,\\theta,z \\right)} - \\frac{\\partial}{\\partial z} u_{r}{\\left(r,\\theta,z \\right)} - \\frac{\\partial}{\\partial r} w{\\left(r,\\theta,z \\right)}\\right) \\cos{\\left(\\theta \\right)} + \\left(- \\gamma_{θz}{\\left(r,\\theta,z \\right)} + \\frac{\\partial}{\\partial z} v_{θ}{\\left(r,\\theta,z \\right)} + \\frac{\\frac{\\partial}{\\partial \\theta} w{\\left(r,\\theta,z \\right)}}{r}\\right) \\sin{\\left(\\theta \\right)} = 0$"
      ],
      "text/plain": [
       "<IPython.core.display.Math object>"
      ]
     },
     "execution_count": 14,
     "metadata": {},
     "output_type": "execute_result"
    }
   ],
   "source": [
    "imprimir(\"\", (gxz - (d_dz(u) + d_dx(w))).expand().collect([sin(t), cos(t)]), \" = 0\")"
   ]
  },
  {
   "cell_type": "markdown",
   "metadata": {},
   "source": [
    "Y ahora escribamos las ecuaciones que definen la deformación en coordenadas \"rectangulares\":"
   ]
  },
  {
   "cell_type": "code",
   "execution_count": 15,
   "metadata": {},
   "outputs": [],
   "source": [
    "eq1 = Eq(ex,  d_dx(u))\n",
    "eq2 = Eq(ey,  d_dy(v))\n",
    "eq3 = Eq(ez,  d_dz(w))\n",
    "eq4 = Eq(gxy, d_dy(u) + d_dx(v))\n",
    "eq5 = Eq(gyz, d_dz(v) + d_dy(w))\n",
    "eq6 = Eq(gxz, d_dz(u) + d_dx(w))"
   ]
  },
  {
   "cell_type": "markdown",
   "metadata": {},
   "source": [
    "Para despejar los términos comunes entre paréntesis de las ecuaciones anteriores basta evaluar las igualdades en $\\sin(\\theta)=0$ y $\\cos(\\theta)=1$:"
   ]
  },
  {
   "cell_type": "code",
   "execution_count": 16,
   "metadata": {},
   "outputs": [],
   "source": [
    "eq1 =  eq1.subs({sin(t): 0, cos(t): 1})\n",
    "eq2 = (eq2.subs({sin(t): 0, cos(t): 1})).expand()\n",
    "eq3 =  eq3.subs({sin(t): 0, cos(t): 1})           # aunque en la ecuación 3 no es necesario ...\n",
    "eq4 = (eq4.subs({sin(t): 0, cos(t): 1})).expand()\n",
    "eq5 =  eq5.subs({sin(t): 0, cos(t): 1})\n",
    "eq6 =  eq6.subs({sin(t): 0, cos(t): 1})"
   ]
  },
  {
   "cell_type": "code",
   "execution_count": 17,
   "metadata": {},
   "outputs": [
    {
     "data": {
      "image/png": "[encoded data removed]",
      "text/latex": [
       "$\\displaystyle \\varepsilon_{r}{\\left(r,\\theta,z \\right)} = \\frac{\\partial}{\\partial r} u_{r}{\\left(r,\\theta,z \\right)}$"
      ],
      "text/plain": [
       "                       ∂              \n",
       "varepsilonᵣ(r, θ, z) = ──(uᵣ(r, θ, z))\n",
       "                       ∂r             "
      ]
     },
     "execution_count": 17,
     "metadata": {},
     "output_type": "execute_result"
    }
   ],
   "source": [
    "eq1"
   ]
  },
  {
   "cell_type": "code",
   "execution_count": 18,
   "metadata": {},
   "outputs": [
    {
     "data": {
      "image/png": "[encoded data removed]",
      "text/latex": [
       "$\\displaystyle \\varepsilon_{θ}{\\left(r,\\theta,z \\right)} = \\frac{u_{r}{\\left(r,\\theta,z \\right)}}{r} + \\frac{\\frac{\\partial}{\\partial \\theta} v_{θ}{\\left(r,\\theta,z \\right)}}{r}$"
      ],
      "text/plain": [
       "                                      ∂               \n",
       "                                      ──(v_θ(r, θ, z))\n",
       "                        uᵣ(r, θ, z)   ∂θ              \n",
       "varepsilon_θ(r, θ, z) = ─────────── + ────────────────\n",
       "                             r               r        "
      ]
     },
     "execution_count": 18,
     "metadata": {},
     "output_type": "execute_result"
    }
   ],
   "source": [
    "eq2"
   ]
  },
  {
   "cell_type": "code",
   "execution_count": 19,
   "metadata": {},
   "outputs": [
    {
     "data": {
      "image/png": "[encoded data removed]",
      "text/latex": [
       "$\\displaystyle \\varepsilon_{z}{\\left(r,\\theta,z \\right)} = \\frac{\\partial}{\\partial z} w{\\left(r,\\theta,z \\right)}$"
      ],
      "text/plain": [
       "                        ∂             \n",
       "varepsilon_z(r, θ, z) = ──(w(r, θ, z))\n",
       "                        ∂z            "
      ]
     },
     "execution_count": 19,
     "metadata": {},
     "output_type": "execute_result"
    }
   ],
   "source": [
    "eq3"
   ]
  },
  {
   "cell_type": "code",
   "execution_count": 20,
   "metadata": {},
   "outputs": [
    {
     "data": {
      "image/png": "[encoded data removed]",
      "text/latex": [
       "$\\displaystyle \\gamma_{rθ}{\\left(r,\\theta,z \\right)} = \\frac{\\partial}{\\partial r} v_{θ}{\\left(r,\\theta,z \\right)} - \\frac{v_{θ}{\\left(r,\\theta,z \\right)}}{r} + \\frac{\\frac{\\partial}{\\partial \\theta} u_{r}{\\left(r,\\theta,z \\right)}}{r}$"
      ],
      "text/plain": [
       "                                                  ∂              \n",
       "                                                  ──(uᵣ(r, θ, z))\n",
       "                ∂                  v_θ(r, θ, z)   ∂θ             \n",
       "γ_rθ(r, θ, z) = ──(v_θ(r, θ, z)) - ──────────── + ───────────────\n",
       "                ∂r                      r                r       "
      ]
     },
     "execution_count": 20,
     "metadata": {},
     "output_type": "execute_result"
    }
   ],
   "source": [
    "eq4"
   ]
  },
  {
   "cell_type": "code",
   "execution_count": 21,
   "metadata": {},
   "outputs": [
    {
     "data": {
      "image/png": "[encoded data removed]",
      "text/latex": [
       "$\\displaystyle \\gamma_{θz}{\\left(r,\\theta,z \\right)} = \\frac{\\partial}{\\partial z} v_{θ}{\\left(r,\\theta,z \\right)} + \\frac{\\frac{\\partial}{\\partial \\theta} w{\\left(r,\\theta,z \\right)}}{r}$"
      ],
      "text/plain": [
       "                                   ∂             \n",
       "                                   ──(w(r, θ, z))\n",
       "                ∂                  ∂θ            \n",
       "γ_θz(r, θ, z) = ──(v_θ(r, θ, z)) + ──────────────\n",
       "                ∂z                       r       "
      ]
     },
     "execution_count": 21,
     "metadata": {},
     "output_type": "execute_result"
    }
   ],
   "source": [
    "eq5"
   ]
  },
  {
   "cell_type": "code",
   "execution_count": 22,
   "metadata": {
    "tags": []
   },
   "outputs": [
    {
     "data": {
      "image/png": "[encoded data removed]",
      "text/latex": [
       "$\\displaystyle \\gamma_{rz}{\\left(r,\\theta,z \\right)} = \\frac{\\partial}{\\partial z} u_{r}{\\left(r,\\theta,z \\right)} + \\frac{\\partial}{\\partial r} w{\\left(r,\\theta,z \\right)}$"
      ],
      "text/plain": [
       "                ∂                 ∂             \n",
       "γ_rz(r, θ, z) = ──(uᵣ(r, θ, z)) + ──(w(r, θ, z))\n",
       "                ∂z                ∂r            "
      ]
     },
     "execution_count": 22,
     "metadata": {},
     "output_type": "execute_result"
    }
   ],
   "source": [
    "eq6"
   ]
  }
 ],
 "metadata": {
  "colab": {
   "collapsed_sections": [],
   "include_colab_link": true,
   "provenance": []
  },
  "kernelspec": {
   "display_name": "Python 3 (ipykernel)",
   "language": "python",
   "name": "python3"
  },
  "language_info": {
   "codemirror_mode": {
    "name": "ipython",
    "version": 3
   },
   "file_extension": ".py",
   "mimetype": "text/x-python",
   "name": "python",
   "nbconvert_exporter": "python",
   "pygments_lexer": "ipython3",
   "version": "3.11.5"
  },
  "vscode": {
   "interpreter": {
    "hash": "916dbcbb3f70747c44a77c7bcd40155683ae19c65e1c03b4aa3499c5328201f1"
   }
  }
 },
 "nbformat": 4,
 "nbformat_minor": 4
}
