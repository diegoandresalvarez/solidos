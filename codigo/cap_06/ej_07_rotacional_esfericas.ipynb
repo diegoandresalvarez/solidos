{
 "cells": [
  {
   "cell_type": "markdown",
   "id": "6c9678cd",
   "metadata": {},
   "source": [
    "# Ejercicio propuesto 7. Deducción del rotacional en coordenadas esféricas\n",
    "\n",
    "|Quién | Fecha | Qué hizo |\n",
    "| ---  | ---   | ---      |\n",
    "|Diego Andrés Alvarez, <daalvarez@unal.edu.co>  | Octubre 3, 2023      | Primer código |"
   ]
  },
  {
   "cell_type": "code",
   "execution_count": 1,
   "id": "d5337154",
   "metadata": {},
   "outputs": [],
   "source": [
    "from sympy import init_printing, latex, symbols, sin, cos, diff, simplify, Function, Matrix, expand, trigsimp\n",
    "import sympy as sp\n",
    "\n",
    "# Para imprimir bonito\n",
    "init_printing()\n",
    "from IPython.display import Math                 \n",
    "def imprimir (texto1, variable, texto2=\"\"):\n",
    "    return Math(texto1 +  rf'{latex(variable)}' + texto2)"
   ]
  },
  {
   "cell_type": "code",
   "execution_count": 2,
   "id": "b2335d8f-c0c5-49db-9710-0a977ddefc73",
   "metadata": {},
   "outputs": [],
   "source": [
    "r, t, p = symbols('r, theta, phi')\n",
    "\n",
    "x = r*sin(t)*cos(p)\n",
    "y = r*sin(t)*sin(p)\n",
    "z = r*cos(t)\n",
    "\n",
    "J = Matrix([[ diff(x,r), diff(x,t), diff(x,p) ],\n",
    "            [ diff(y,r), diff(y,t), diff(y,p) ],\n",
    "            [ diff(z,r), diff(z,t), diff(z,p) ]])"
   ]
  },
  {
   "cell_type": "markdown",
   "id": "69468036-c2c3-4662-99ba-d5139fb0cd0b",
   "metadata": {},
   "source": [
    "De acuerdo al [teorema de la función inversa](https://es.wikipedia.org/wiki/Matriz_y_determinante_jacobianos), la matriz inversa de la matriz Jacobiana de una función invertible es la matriz Jacobiana de la función inversa:"
   ]
  },
  {
   "cell_type": "code",
   "execution_count": 3,
   "id": "ca9d4111-49fa-4580-9a7f-48299e6570ad",
   "metadata": {},
   "outputs": [
    {
     "data": {
      "image/png": "[encoded data removed]",
      "text/latex": [
       "$\\displaystyle \\left[\\begin{matrix}\\sin{\\left(\\theta \\right)} \\cos{\\left(\\phi \\right)} & \\frac{\\cos{\\left(\\phi \\right)} \\cos{\\left(\\theta \\right)}}{r} & - \\frac{\\sin{\\left(\\phi \\right)}}{r \\sin{\\left(\\theta \\right)}}\\\\\\sin{\\left(\\phi \\right)} \\sin{\\left(\\theta \\right)} & \\frac{\\sin{\\left(\\phi \\right)} \\cos{\\left(\\theta \\right)}}{r} & \\frac{\\cos{\\left(\\phi \\right)}}{r \\sin{\\left(\\theta \\right)}}\\\\\\cos{\\left(\\theta \\right)} & - \\frac{\\sin{\\left(\\theta \\right)}}{r} & 0\\end{matrix}\\right]$"
      ],
      "text/plain": [
       "⎡               cos(φ)⋅cos(θ)  -sin(φ) ⎤\n",
       "⎢sin(θ)⋅cos(φ)  ─────────────  ────────⎥\n",
       "⎢                     r        r⋅sin(θ)⎥\n",
       "⎢                                      ⎥\n",
       "⎢               sin(φ)⋅cos(θ)   cos(φ) ⎥\n",
       "⎢sin(φ)⋅sin(θ)  ─────────────  ────────⎥\n",
       "⎢                     r        r⋅sin(θ)⎥\n",
       "⎢                                      ⎥\n",
       "⎢                 -sin(θ)              ⎥\n",
       "⎢   cos(θ)        ────────        0    ⎥\n",
       "⎣                    r                 ⎦"
      ]
     },
     "execution_count": 3,
     "metadata": {},
     "output_type": "execute_result"
    }
   ],
   "source": [
    "JinvT = trigsimp(J.inv()).T\n",
    "JinvT"
   ]
  },
  {
   "cell_type": "code",
   "execution_count": 5,
   "id": "7039c69f-3346-42ea-9101-09fef262f0c7",
   "metadata": {},
   "outputs": [],
   "source": [
    "dr_dx, dt_dx, dp_dx = JinvT[0,:]\n",
    "dr_dy, dt_dy, dp_dy = JinvT[1,:]\n",
    "dr_dz, dt_dz, dp_dz = JinvT[2,:]\n",
    "\n",
    "# se definen las primeras derivadas utilizando la regla de la cadena\n",
    "d_dx = lambda f: diff(f,r)*dr_dx + diff(f,t)*dt_dx + diff(f,p)*dp_dx\n",
    "d_dy = lambda f: diff(f,r)*dr_dy + diff(f,t)*dt_dy + diff(f,p)*dp_dy\n",
    "d_dz = lambda f: diff(f,r)*dr_dz + diff(f,t)*dt_dz + diff(f,p)*dp_dz"
   ]
  },
  {
   "cell_type": "code",
   "execution_count": 6,
   "id": "3e68d282-4a7f-452d-aea2-1b8bf7538ef2",
   "metadata": {},
   "outputs": [],
   "source": [
    "# se especifica que fr, ft y fp son funciones de r, t y p\n",
    "fr = Function('f_r')(r, t, p)\n",
    "ft = Function('f_θ')(r, t, p)\n",
    "fp = Function('f_ϕ')(r, t, p)"
   ]
  },
  {
   "cell_type": "code",
   "execution_count": 7,
   "id": "ffe44863-4c83-45de-ae78-afebfac2a1d8",
   "metadata": {},
   "outputs": [],
   "source": [
    "# Matriz de transformación de la base {r,t,p} a la base {i,j,k}\n",
    "T = Matrix([[ sin(t)*cos(p),  cos(t)*cos(p),  -sin(p) ],     \n",
    "            [ sin(t)*sin(p),  cos(t)*sin(p),   cos(p) ],      \n",
    "            [        cos(t),        -sin(t),        0 ]])"
   ]
  },
  {
   "cell_type": "code",
   "execution_count": 8,
   "id": "bed149b8-a6f8-44dc-873b-08ea62f6180b",
   "metadata": {},
   "outputs": [],
   "source": [
    "# campo vectorial en coordenadas esféricas (con respecto a la base {r,t,p})\n",
    "f_esf = Matrix([ fr,     \n",
    "                 ft,      \n",
    "                 fp  ])"
   ]
  },
  {
   "cell_type": "code",
   "execution_count": 9,
   "id": "9814f3e5-8f2e-462a-86a4-7a03aa500853",
   "metadata": {},
   "outputs": [],
   "source": [
    "# se convierte el campo vectorial f_esf a su correspondiente en coordenadas rectangulares\n",
    "# (con respecto a la base {i,j,k})\n",
    "f_rec = T * f_esf"
   ]
  },
  {
   "cell_type": "code",
   "execution_count": 10,
   "id": "cb879036-1a30-472c-9c27-9becad32c4e2",
   "metadata": {},
   "outputs": [],
   "source": [
    "# se extraen las componentes de f_rec\n",
    "fx, fy, fz = f_rec"
   ]
  },
  {
   "cell_type": "code",
   "execution_count": 11,
   "id": "5eb00257-8c23-48f0-a8c6-0b619ce8483d",
   "metadata": {},
   "outputs": [],
   "source": [
    "# se especifica el rotacional en coordenadas rectangulares\n",
    "rot_f_ijk = trigsimp(Matrix([[ d_dy(fz) - d_dz(fy) ],\n",
    "                             [ d_dz(fx) - d_dx(fz) ],\n",
    "                             [ d_dx(fy) - d_dy(fx) ]]))"
   ]
  },
  {
   "cell_type": "markdown",
   "id": "cd0159dc-ba76-44ee-bf7d-44809eccc32c",
   "metadata": {},
   "source": [
    "Se imprime el rotacional en coordenadas cilíndricas con respecto a la base $\\{\\hat{\\boldsymbol{i}}, \\hat{\\boldsymbol{j}}, \\hat{\\boldsymbol{k}}\\}$:"
   ]
  },
  {
   "cell_type": "code",
   "execution_count": 12,
   "id": "98079023-fc8e-444c-a9ff-b1bfc9f07a07",
   "metadata": {},
   "outputs": [
    {
     "data": {
      "text/latex": [
       "$\\displaystyle \\boldsymbol{\\nabla} \\times \\phi = \\left[\\begin{matrix}- \\sin{\\left(\\phi \\right)} \\frac{\\partial}{\\partial r} f_{θ}{\\left(r,\\theta,\\phi \\right)} - \\cos{\\left(\\phi \\right)} \\cos{\\left(\\theta \\right)} \\frac{\\partial}{\\partial r} f_{ϕ}{\\left(r,\\theta,\\phi \\right)} - \\frac{f_{θ}{\\left(r,\\theta,\\phi \\right)} \\sin{\\left(\\phi \\right)}}{r} + \\frac{\\sin{\\left(\\phi \\right)} \\frac{\\partial}{\\partial \\theta} f_{r}{\\left(r,\\theta,\\phi \\right)}}{r} + \\frac{\\sin{\\left(\\theta \\right)} \\cos{\\left(\\phi \\right)} \\frac{\\partial}{\\partial \\theta} f_{ϕ}{\\left(r,\\theta,\\phi \\right)}}{r} - \\frac{\\cos{\\left(\\phi \\right)} \\frac{\\partial}{\\partial \\phi} f_{θ}{\\left(r,\\theta,\\phi \\right)}}{r} + \\frac{\\cos{\\left(\\phi \\right)} \\frac{\\partial}{\\partial \\phi} f_{r}{\\left(r,\\theta,\\phi \\right)}}{r \\tan{\\left(\\theta \\right)}}\\\\- \\sin{\\left(\\phi \\right)} \\cos{\\left(\\theta \\right)} \\frac{\\partial}{\\partial r} f_{ϕ}{\\left(r,\\theta,\\phi \\right)} + \\cos{\\left(\\phi \\right)} \\frac{\\partial}{\\partial r} f_{θ}{\\left(r,\\theta,\\phi \\right)} + \\frac{f_{θ}{\\left(r,\\theta,\\phi \\right)} \\cos{\\left(\\phi \\right)}}{r} + \\frac{\\sin{\\left(\\phi \\right)} \\sin{\\left(\\theta \\right)} \\frac{\\partial}{\\partial \\theta} f_{ϕ}{\\left(r,\\theta,\\phi \\right)}}{r} - \\frac{\\sin{\\left(\\phi \\right)} \\frac{\\partial}{\\partial \\phi} f_{θ}{\\left(r,\\theta,\\phi \\right)}}{r} + \\frac{\\sin{\\left(\\phi \\right)} \\frac{\\partial}{\\partial \\phi} f_{r}{\\left(r,\\theta,\\phi \\right)}}{r \\tan{\\left(\\theta \\right)}} - \\frac{\\cos{\\left(\\phi \\right)} \\frac{\\partial}{\\partial \\theta} f_{r}{\\left(r,\\theta,\\phi \\right)}}{r}\\\\\\sin{\\left(\\theta \\right)} \\frac{\\partial}{\\partial r} f_{ϕ}{\\left(r,\\theta,\\phi \\right)} + \\frac{f_{ϕ}{\\left(r,\\theta,\\phi \\right)}}{r \\sin{\\left(\\theta \\right)}} + \\frac{\\cos{\\left(\\theta \\right)} \\frac{\\partial}{\\partial \\theta} f_{ϕ}{\\left(r,\\theta,\\phi \\right)}}{r} - \\frac{\\frac{\\partial}{\\partial \\phi} f_{r}{\\left(r,\\theta,\\phi \\right)}}{r} - \\frac{\\frac{\\partial}{\\partial \\phi} f_{θ}{\\left(r,\\theta,\\phi \\right)}}{r \\tan{\\left(\\theta \\right)}}\\end{matrix}\\right]$"
      ],
      "text/plain": [
       "<IPython.core.display.Math object>"
      ]
     },
     "execution_count": 12,
     "metadata": {},
     "output_type": "execute_result"
    }
   ],
   "source": [
    "imprimir(r\"\\boldsymbol{\\nabla} \\times \\phi = \", rot_f_ijk)"
   ]
  },
  {
   "cell_type": "markdown",
   "id": "059dc01c-ab9d-42af-b961-9514757416ee",
   "metadata": {},
   "source": [
    "Se imprime el rotacional en coordenadas esféricas con respecto a la base $\\{\\hat{\\boldsymbol{r}}, \\hat{\\boldsymbol{\\theta}}, \\hat{\\boldsymbol{\\phi}}\\}$:"
   ]
  },
  {
   "cell_type": "code",
   "execution_count": 13,
   "id": "dfcfac3d-9eb9-4be7-9e4e-4f6e75cd966f",
   "metadata": {},
   "outputs": [
    {
     "data": {
      "text/latex": [
       "$\\displaystyle \\boldsymbol{\\nabla} \\times \\phi(r, \\theta, \\phi) = \\left[\\begin{matrix}\\frac{f_{ϕ}{\\left(r,\\theta,\\phi \\right)}}{r \\tan{\\left(\\theta \\right)}} + \\frac{\\frac{\\partial}{\\partial \\theta} f_{ϕ}{\\left(r,\\theta,\\phi \\right)}}{r} - \\frac{\\frac{\\partial}{\\partial \\phi} f_{θ}{\\left(r,\\theta,\\phi \\right)}}{r \\sin{\\left(\\theta \\right)}}\\\\- \\frac{\\partial}{\\partial r} f_{ϕ}{\\left(r,\\theta,\\phi \\right)} - \\frac{f_{ϕ}{\\left(r,\\theta,\\phi \\right)}}{r} + \\frac{\\frac{\\partial}{\\partial \\phi} f_{r}{\\left(r,\\theta,\\phi \\right)}}{r \\sin{\\left(\\theta \\right)}}\\\\\\frac{\\partial}{\\partial r} f_{θ}{\\left(r,\\theta,\\phi \\right)} + \\frac{f_{θ}{\\left(r,\\theta,\\phi \\right)}}{r} - \\frac{\\frac{\\partial}{\\partial \\theta} f_{r}{\\left(r,\\theta,\\phi \\right)}}{r}\\end{matrix}\\right]$"
      ],
      "text/plain": [
       "<IPython.core.display.Math object>"
      ]
     },
     "execution_count": 13,
     "metadata": {},
     "output_type": "execute_result"
    }
   ],
   "source": [
    "rot_f_rtp = expand(trigsimp(T.T * rot_f_ijk))\n",
    "\n",
    "imprimir(r\"\\boldsymbol{\\nabla} \\times \\phi(r, \\theta, \\phi) = \", rot_f_rtp)"
   ]
  },
  {
   "cell_type": "markdown",
   "id": "e3e2282e-f4bf-4cdb-b9dc-ef8eba5f2017",
   "metadata": {},
   "source": [
    "Versión que figura en Wikipedia https://en.wikipedia.org/wiki/Spherical_coordinate_system:"
   ]
  },
  {
   "cell_type": "code",
   "execution_count": 14,
   "id": "019802dc-2ac6-4b2e-8e93-f1432da52765",
   "metadata": {},
   "outputs": [
    {
     "data": {
      "text/latex": [
       "$\\displaystyle \\boldsymbol{\\nabla} \\times \\phi(r, \\theta, \\phi) = \\left[\\begin{matrix}\\frac{f_{ϕ}{\\left(r,\\theta,\\phi \\right)}}{r \\tan{\\left(\\theta \\right)}} + \\frac{\\frac{\\partial}{\\partial \\theta} f_{ϕ}{\\left(r,\\theta,\\phi \\right)}}{r} - \\frac{\\frac{\\partial}{\\partial \\phi} f_{θ}{\\left(r,\\theta,\\phi \\right)}}{r \\sin{\\left(\\theta \\right)}}\\\\- \\frac{\\partial}{\\partial r} f_{ϕ}{\\left(r,\\theta,\\phi \\right)} - \\frac{f_{ϕ}{\\left(r,\\theta,\\phi \\right)}}{r} + \\frac{\\frac{\\partial}{\\partial \\phi} f_{r}{\\left(r,\\theta,\\phi \\right)}}{r \\sin{\\left(\\theta \\right)}}\\\\\\frac{\\partial}{\\partial r} f_{θ}{\\left(r,\\theta,\\phi \\right)} + \\frac{f_{θ}{\\left(r,\\theta,\\phi \\right)}}{r} - \\frac{\\frac{\\partial}{\\partial \\theta} f_{r}{\\left(r,\\theta,\\phi \\right)}}{r}\\end{matrix}\\right]$"
      ],
      "text/plain": [
       "<IPython.core.display.Math object>"
      ]
     },
     "execution_count": 14,
     "metadata": {},
     "output_type": "execute_result"
    }
   ],
   "source": [
    "rot_f_rtp2 = Matrix([[ (1/(r*sin(t)))*(diff(fp*sin(t), t) - diff(ft, p)) ],\n",
    "                     [ (1/r)*((1/sin(t))*diff(fr, p) - diff(r*fp, r))    ],\n",
    "                     [ (1/r)*(diff(r*ft, r) - diff(fr, t))               ]])\n",
    "\n",
    "rot_f_rtp2 = expand(trigsimp(rot_f_rtp2))\n",
    "\n",
    "imprimir(r\"\\boldsymbol{\\nabla} \\times \\phi(r, \\theta, \\phi) = \", rot_f_rtp2)"
   ]
  },
  {
   "cell_type": "code",
   "execution_count": 15,
   "id": "7638f4ca-105b-49a6-89dc-ed442ca53f00",
   "metadata": {},
   "outputs": [
    {
     "data": {
      "image/png": "[encoded data removed]",
      "text/latex": [
       "$\\displaystyle \\left[\\begin{matrix}0\\\\0\\\\0\\end{matrix}\\right]$"
      ],
      "text/plain": [
       "⎡0⎤\n",
       "⎢ ⎥\n",
       "⎢0⎥\n",
       "⎢ ⎥\n",
       "⎣0⎦"
      ]
     },
     "execution_count": 15,
     "metadata": {},
     "output_type": "execute_result"
    }
   ],
   "source": [
    "trigsimp(rot_f_rtp - rot_f_rtp2)"
   ]
  }
 ],
 "metadata": {
  "kernelspec": {
   "display_name": "Python 3 (ipykernel)",
   "language": "python",
   "name": "python3"
  },
  "language_info": {
   "codemirror_mode": {
    "name": "ipython",
    "version": 3
   },
   "file_extension": ".py",
   "mimetype": "text/x-python",
   "name": "python",
   "nbconvert_exporter": "python",
   "pygments_lexer": "ipython3",
   "version": "3.10.9"
  }
 },
 "nbformat": 4,
 "nbformat_minor": 5
}
