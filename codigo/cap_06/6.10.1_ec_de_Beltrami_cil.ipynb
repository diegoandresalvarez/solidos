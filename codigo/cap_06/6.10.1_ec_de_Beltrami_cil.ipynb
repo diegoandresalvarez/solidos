{
 "cells": [
  {
   "cell_type": "markdown",
   "id": "6add568b-4c95-4964-a57f-6c3fa36f58be",
   "metadata": {},
   "source": [
    "# 6.10.1 Ecuaciones diferenciales de compatibilidad tridimensionales\n",
    "\n",
    "|Quién | Fecha | Qué hizo |\n",
    "| ---  | ---   | ---      |\n",
    "|Santiago Pérez Londoño <sperezlo@unal.edu.co> | Octubre 4, 2023 | Código inicial                   |\n",
    "|Diego Andrés Alvarez <daalvarez@unal.edu.co>  | Octubre 5, 2023 | Mejorando la claridad del código |"
   ]
  },
  {
   "cell_type": "markdown",
   "id": "cb23f650-a665-45da-970c-ed7c626ef783",
   "metadata": {},
   "source": [
    "## Ecuaciones de compatibilidad de Beltrami\n",
    "\n",
    "Las ecuaciones de Beltrami son las ecuaciones diferenciales de compatibilidad tridimensionales en términos de esfuerzos que asumen que las fuerzas másicas son constantes. Estas resultan al reemplazar en las ecuaciones diferenciales de Saint-Venant la ley de Hooke y asumir que las fuerzas másicas son constantes.\n",
    "\n",
    "A continuación, se calcularán dichas ecuaciones en coordenadas cilíndricas:"
   ]
  },
  {
   "cell_type": "code",
   "execution_count": 1,
   "id": "44099b2a-29fe-4e9d-aab6-24ed6c692613",
   "metadata": {},
   "outputs": [],
   "source": [
    "from sympy import sin, cos, diff, Function, simplify, symbols, Matrix, expand"
   ]
  },
  {
   "cell_type": "markdown",
   "id": "93131f02-b654-4645-9fc5-981442fd3686",
   "metadata": {},
   "source": [
    "Se definen las variables y funciones de interés:"
   ]
  },
  {
   "cell_type": "code",
   "execution_count": 2,
   "id": "0c942e95-2434-4a7b-8695-48f3295f4fb8",
   "metadata": {},
   "outputs": [],
   "source": [
    "r, t, z, nu = symbols(\"r, theta, z, nu\")\n",
    "\n",
    "sr  = Function('sigma_r')(r, t, z)\n",
    "st  = Function('sigma_θ')(r, t, z)\n",
    "sz  = Function('sigma_z')(r, t, z)\n",
    "trt = Function('tau_rθ')(r, t, z)\n",
    "trz = Function('tau_rz')(r, t, z)\n",
    "ttz = Function('tau_θz')(r, t, z)"
   ]
  },
  {
   "cell_type": "markdown",
   "id": "1a2d303b-518f-4a9e-9e14-17112e1552b8",
   "metadata": {},
   "source": [
    "Se define la matriz de transformación $\\boldsymbol{T}$:"
   ]
  },
  {
   "cell_type": "code",
   "execution_count": 3,
   "id": "f6c56f98-297c-4a22-bfec-316191eb0cac",
   "metadata": {},
   "outputs": [],
   "source": [
    "# Definimos la matriz de transformación\n",
    "T = Matrix([[ cos(t), -sin(t),     0 ],     \n",
    "            [ sin(t),  cos(t),     0 ],      \n",
    "            [      0,       0,     1 ]])"
   ]
  },
  {
   "cell_type": "markdown",
   "id": "6cec76f0-409a-4ad9-b8c7-91cc26250083",
   "metadata": {},
   "source": [
    "Se define el tensor de esfuerzos en coordenadas cilíndricas $\\underline{\\underline{\\boldsymbol{\\sigma}_{\\text{cil}}}}$:"
   ]
  },
  {
   "cell_type": "code",
   "execution_count": 4,
   "id": "00c15d6c-0e37-4264-912d-13f423a58485",
   "metadata": {},
   "outputs": [],
   "source": [
    "sigma_cil = Matrix([[  sr,  trt,  trz ],     \n",
    "                    [ trt,   st,  ttz ],      \n",
    "                    [ trz,  ttz,   sz ]])"
   ]
  },
  {
   "cell_type": "markdown",
   "id": "c72a719f-ebe5-476b-b5c7-a72711619734",
   "metadata": {},
   "source": [
    "Se convierte el tensor de esfuerzos $\\underline{\\underline{\\boldsymbol{\\sigma}_{\\text{cil}}}}$ de la base $\\{\\hat{\\boldsymbol{r}}, \\hat{\\boldsymbol{\\theta}}, \\hat{\\boldsymbol{z}}\\}$ a la base $\\{\\hat{\\boldsymbol{i}}, \\hat{\\boldsymbol{j}}, \\hat{\\boldsymbol{k}}\\}$ utilizando la ecuación\n",
    "\\begin{equation*}\n",
    "\\underline{\\underline{\\boldsymbol{\\sigma}}} =\n",
    "\\boldsymbol{T} \\underline{\\underline{\\boldsymbol{\\sigma}_{\\text{cil}}}}\n",
    "\\boldsymbol{T}^T\n",
    "\\end{equation*}"
   ]
  },
  {
   "cell_type": "code",
   "execution_count": 5,
   "id": "6eedb3fb-8985-47d2-a6de-2ec29e4fc0d9",
   "metadata": {},
   "outputs": [],
   "source": [
    "sigma = T*sigma_cil*T.T"
   ]
  },
  {
   "cell_type": "markdown",
   "id": "5348a8eb-61a0-46fc-b236-6edc3af69827",
   "metadata": {},
   "source": [
    "Extraemos las componentes de los esfuerzos del tensor $\\underline{\\underline{\\boldsymbol{\\sigma}}}$:"
   ]
  },
  {
   "cell_type": "code",
   "execution_count": 6,
   "id": "1ea2b2a5-16c6-40ee-a05a-73f667983efa",
   "metadata": {},
   "outputs": [],
   "source": [
    "sx  = sigma[0,0]\n",
    "sy  = sigma[1,1]\n",
    "sz  = sigma[2,2]\n",
    "txy = sigma[0,1]\n",
    "txz = sigma[0,2]\n",
    "tyz = sigma[1,2]"
   ]
  },
  {
   "cell_type": "markdown",
   "id": "0f5dd0ac-eed1-49b0-9277-d4bdc7f817b9",
   "metadata": {},
   "source": [
    "Se define el primer invariante de esfuerzos en coordenadas cilíndricas:"
   ]
  },
  {
   "cell_type": "code",
   "execution_count": 7,
   "id": "066029c8-91ac-4f5c-b2e3-47f3d8a0fefc",
   "metadata": {},
   "outputs": [],
   "source": [
    "Theta = sr + st + sz"
   ]
  },
  {
   "cell_type": "markdown",
   "id": "ede24269-68bd-47c0-a764-1a43ae221195",
   "metadata": {},
   "source": [
    " Definimos las derivadas en coordenadas rectangulares:"
   ]
  },
  {
   "cell_type": "code",
   "execution_count": 8,
   "id": "581d3db0-a60b-4531-a589-0db8879d22a1",
   "metadata": {},
   "outputs": [],
   "source": [
    "dr_dx =    cos(t);   dr_dy = sin(t)\n",
    "dt_dx = -sin(t)/r;   dt_dy = cos(t)/r\n",
    "\n",
    "# se definen las primeras derivadas utilizando la regla de la cadena\n",
    "d_dx = lambda f: diff(f,r)*dr_dx + diff(f,t)*dt_dx\n",
    "d_dy = lambda f: diff(f,r)*dr_dy + diff(f,t)*dt_dy\n",
    "d_dz = lambda f: diff(f,z)\n",
    "\n",
    "# se definen las segundas derivadas\n",
    "d2_dx2  = lambda f: d_dx(d_dx(f))\n",
    "d2_dy2  = lambda f: d_dy(d_dy(f))\n",
    "d2_dz2  = lambda f: d_dz(d_dz(f))\n",
    "d2_dxdy = lambda f: d_dx(d_dy(f))\n",
    "d2_dydz = lambda f: d_dy(d_dz(f))\n",
    "d2_dxdz = lambda f: d_dx(d_dz(f))"
   ]
  },
  {
   "cell_type": "markdown",
   "id": "5c4c6fb7-1620-4499-95f6-89c85cf3a784",
   "metadata": {},
   "source": [
    "Definimos el laplaciano en coordenadas cilindricas:"
   ]
  },
  {
   "cell_type": "code",
   "execution_count": 9,
   "id": "26e85e13-2495-4da3-98cf-dab68e9b336b",
   "metadata": {},
   "outputs": [],
   "source": [
    "lapl = lambda f: diff(f,r,2) + diff(f,r)/r + diff(f,t,2)/r**2 + diff(f,z,2)"
   ]
  },
  {
   "cell_type": "markdown",
   "id": "7e9d4ae8-6936-457d-b64a-ae00d6ef9c33",
   "metadata": {},
   "source": [
    "Escribimos las ecuaciones de Beltrami en coordenadas rectangulares:\n",
    "\\begin{align*}\n",
    "\\left(1+\\nu\\right) \\nabla^2 \\sigma_x + \\frac{\\partial^2\\Theta}{\\partial x^2} &= 0 & \\left(1+\\nu\\right)\\nabla^2 \\tau_{yz} + \\frac{\\partial^2\\Theta}{\\partial y\\partial z} &= 0 \\\\\n",
    "\\left(1+\\nu\\right) \\nabla^2 \\sigma_y + \\frac{\\partial^2\\Theta}{\\partial y^2} &= 0 & \\left(1+\\nu\\right)\\nabla^2 \\tau_{xz} + \\frac{\\partial^2\\Theta}{\\partial x\\partial z} &= 0 \\label{eq:beltrami} \\\\\n",
    "\\left(1+\\nu\\right) \\nabla^2 \\sigma_z + \\frac{\\partial^2\\Theta}{\\partial z^2} &= 0 & \\left(1+\\nu\\right)\\nabla^2 \\tau_{xy} + \\frac{\\partial^2\\Theta}{\\partial x\\partial y} &= 0\n",
    "\\end{align*}"
   ]
  },
  {
   "cell_type": "code",
   "execution_count": 10,
   "id": "0c16c9ba-757f-4d8b-a0d1-0aaa8d5942dc",
   "metadata": {},
   "outputs": [],
   "source": [
    "e1a = (1+nu)*lapl(sx)  + d2_dx2(Theta)  # == 0\n",
    "e2a = (1+nu)*lapl(sy)  + d2_dy2(Theta)  # == 0\n",
    "e3a = (1+nu)*lapl(sz)  + d2_dz2(Theta)  # == 0\n",
    "e4a = (1+nu)*lapl(tyz) + d2_dydz(Theta) # == 0\n",
    "e5a = (1+nu)*lapl(txz) + d2_dxdz(Theta) # == 0\n",
    "e6a = (1+nu)*lapl(txy) + d2_dxdy(Theta) # == 0"
   ]
  },
  {
   "cell_type": "markdown",
   "id": "d81d3be0-5f20-44f8-978c-1fa91a33dfaf",
   "metadata": {},
   "source": [
    "Se hace $\\sin(\\theta)=0$ y $\\cos(\\theta)=1$, como en ocasiones anteriores:"
   ]
  },
  {
   "cell_type": "code",
   "execution_count": 11,
   "id": "9d0422bc-eaac-4611-b0c6-d7e2c347a050",
   "metadata": {},
   "outputs": [],
   "source": [
    "e1a = simplify(e1a.subs({sin(t): 0, cos(t): 1}))\n",
    "e2a = simplify(e2a.subs({sin(t): 0, cos(t): 1}))\n",
    "e3a = simplify(e3a.subs({sin(t): 0, cos(t): 1}))\n",
    "e4a = simplify(e4a.subs({sin(t): 0, cos(t): 1}))\n",
    "e5a = simplify(e5a.subs({sin(t): 0, cos(t): 1}))\n",
    "e6a = simplify(e6a.subs({sin(t): 0, cos(t): 1}))"
   ]
  },
  {
   "cell_type": "markdown",
   "id": "4b598a0f-21f7-44d4-bdc1-ea615dc8586a",
   "metadata": {},
   "source": [
    "Compararemos las ecuaciones obtenidas con las ecuaciones de Beltrami que aparecen en la literatura:\n",
    "    \\begin{align*}\n",
    "        (1+\\nu)\\left(\\nabla^2 \\sigma_r - \\frac{4}{r^2}\\frac{\\partial \\tau_{r\\theta}}{\\partial \\theta} - \\frac{2}{r^2}(\\sigma_r-\\sigma_\\theta)\\right) + \\frac{\\partial^2 \\Theta}{\\partial r^2} &= 0\\\\\n",
    "        (1+\\nu)\\left(\\nabla^2 \\sigma_\\theta + \\frac{4}{r^2}\\frac{\\partial \\tau_{r\\theta}}{\\partial \\theta} + \\frac{2}{r^2}(\\sigma_r-\\sigma_\\theta)\\right) + \\frac{1}{r}\\frac{\\partial \\Theta}{\\partial r} + \\frac{1}{r^2}\\frac{\\partial^2 \\Theta}{\\partial \\theta^2} &= 0\\\\\n",
    "        %\n",
    "        (1+\\nu)\\nabla^2 \\sigma_z + \\frac{\\partial^2 \\Theta}{\\partial z^2} &= 0\\\\\n",
    "        %\n",
    "        (1+\\nu)\\left(\\nabla^2 \\tau_{\\theta z} + \\frac{2}{r^2}\\frac{\\partial \\tau_{rz}}{\\partial \\theta} - \\frac{1}{r^2}\\tau_{\\theta z}\\right) + \\frac{1}{r}\\frac{\\partial^2 \\Theta}{\\partial \\theta \\partial z} &= 0\\\\\n",
    "        %\n",
    "        (1+\\nu)\\left(\\nabla^2 \\tau_{rz} - \\frac{2}{r^2}\\frac{\\partial  \\tau_{\\theta z}}{\\partial \\theta} - \\frac{1}{r^2}\\tau_{rz}\\right) + \\frac{\\partial^2 \\Theta}{\\partial r \\partial z} &= 0\\\\ \n",
    "        %\n",
    "        (1+\\nu)\\left(\\nabla^2 \\tau_{r\\theta} + \\frac{2}{r^2}\\frac{\\partial}{\\partial \\theta}\\left(\\sigma_r-\\sigma_\\theta\\right) - \\frac{4}{r^2}\\tau_{r\\theta}\\right) + \\frac{\\partial}{\\partial r}\\left(\\frac{1}{r}\\frac{\\partial \\Theta}{\\partial \\theta}\\right) &= 0\n",
    "    \\end{align*}"
   ]
  },
  {
   "cell_type": "code",
   "execution_count": 12,
   "id": "8ecb2dcb-5676-4935-b099-a7d3bac70855",
   "metadata": {},
   "outputs": [],
   "source": [
    "e1b = (1 + nu)*(lapl(sr)  - (4/r**2)*diff(trt,t) - (2*(sr-st))/r**2) + diff(Theta,r,2)\n",
    "e2b = (1 + nu)*(lapl(st)  + (4/r**2)*diff(trt,t) + (2*(sr-st))/r**2) + diff(Theta,r)/r + diff(Theta,t,2)/r**2\n",
    "e3b = (1 + nu)*lapl(sz)   + diff(Theta,z,2)\n",
    "e4b = (1 + nu)*(lapl(ttz) + (2*diff(trz,t)/r**2) - ttz/r**2) + diff(diff(Theta,z),t)/r\n",
    "e5b = (1 + nu)*(lapl(trz) - (2*diff(ttz,t)/r**2) - trz/r**2) + (diff(diff(Theta,z),r))\n",
    "e6b = (1 + nu)*(lapl(trt) + (2*diff((sr-st),t)/r**2) - (4*trt/r**2)) + diff((diff(Theta,t)/r),r)"
   ]
  },
  {
   "cell_type": "markdown",
   "id": "a01b0789-8efe-4f96-adeb-8fa19c87b229",
   "metadata": {},
   "source": [
    "Observamos que se obtuvo el vector de ceros, lo que confirma que acabamos de calcular las ecuaciones de Beltrami en coordenadas cilindricas:"
   ]
  },
  {
   "cell_type": "code",
   "execution_count": 13,
   "id": "69dbe590-cc4e-4933-b48c-3f24d629490c",
   "metadata": {},
   "outputs": [
    {
     "data": {
      "text/latex": [
       "$\\displaystyle \\left[\\begin{matrix}0\\\\0\\\\0\\\\0\\\\0\\\\0\\end{matrix}\\right]$"
      ],
      "text/plain": [
       "Matrix([\n",
       "[0],\n",
       "[0],\n",
       "[0],\n",
       "[0],\n",
       "[0],\n",
       "[0]])"
      ]
     },
     "execution_count": 13,
     "metadata": {},
     "output_type": "execute_result"
    }
   ],
   "source": [
    "expand(Matrix([ e1a - e1b,\n",
    "                e2a - e2b,\n",
    "                e3a - e3b,\n",
    "                e4a - e4b,\n",
    "                e5a - e5b,\n",
    "                e6a - e6b ]))"
   ]
  }
 ],
 "metadata": {
  "kernelspec": {
   "display_name": "Python 3 (ipykernel)",
   "language": "python",
   "name": "python3"
  },
  "language_info": {
   "codemirror_mode": {
    "name": "ipython",
    "version": 3
   },
   "file_extension": ".py",
   "mimetype": "text/x-python",
   "name": "python",
   "nbconvert_exporter": "python",
   "pygments_lexer": "ipython3",
   "version": "3.10.9"
  }
 },
 "nbformat": 4,
 "nbformat_minor": 5
}
