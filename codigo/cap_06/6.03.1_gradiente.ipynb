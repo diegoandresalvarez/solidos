{
 "cells": [
  {
   "cell_type": "markdown",
   "id": "e42d93bc",
   "metadata": {},
   "source": [
    "# 6.3.1. Deducción del gradiente en coordenadas cilíndricas"
   ]
  },
  {
   "cell_type": "code",
   "execution_count": 1,
   "id": "d771220e",
   "metadata": {},
   "outputs": [],
   "source": [
    "from sympy import init_printing, latex, symbols, sin, cos, diff, simplify, Function, Matrix\n",
    "\n",
    "# Para imprimir bonito\n",
    "init_printing()\n",
    "from IPython.display import Math                 \n",
    "def imprimir (texto1, variable, texto2=\"\"):\n",
    "    return Math(texto1 +  rf'{latex(variable)}' + texto2)"
   ]
  },
  {
   "cell_type": "code",
   "execution_count": 2,
   "id": "0b6c4744",
   "metadata": {},
   "outputs": [],
   "source": [
    "r, t, z = symbols('r, theta, z')\n",
    "\n",
    "# se especifican \"manualmente\" las derivadas\n",
    "dr_dx =  cos(t);     dr_dy =  sin(t)\n",
    "dt_dx = -sin(t)/r;   dt_dy =  cos(t)/r\n",
    "\n",
    "# se definen las primeras derivadas utilizando la regla de la cadena\n",
    "d_dx = lambda f: diff(f,r)*dr_dx + diff(f,t)*dt_dx # + diff(f,z)*dz_dx (dz_dx = 0)\n",
    "d_dy = lambda f: diff(f,r)*dr_dy + diff(f,t)*dt_dy # + diff(f,z)*dz_dy (dz_dy = 0)\n",
    "d_dz = lambda f: diff(f,z)"
   ]
  },
  {
   "cell_type": "code",
   "execution_count": 3,
   "id": "1cb828f3-f66d-4924-93db-1e7b555a58fc",
   "metadata": {},
   "outputs": [],
   "source": [
    "# se define la matriz de transformación T\n",
    "T = Matrix([[ cos(t), -sin(t), 0 ],\n",
    "            [ sin(t),  cos(t), 0 ],\n",
    "            [      0,       0, 1 ]])\n",
    "\n",
    "# se especifica que phi es función de r y de t\n",
    "phi = Function('phi')(r, t, z)\n",
    "\n",
    "# laplaciano en coordenadas rectangulares\n",
    "grad_phi_rect = Matrix([ d_dx(phi),\n",
    "                         d_dy(phi),\n",
    "                         d_dz(phi)  ])\n",
    "\n",
    "# se convierte el laplaciano de coordenadas rectangulares a coordenadas cilíndricas\n",
    "grad_phi_cil = simplify(T.T * grad_phi_rect)"
   ]
  },
  {
   "cell_type": "markdown",
   "id": "96667fd7-f577-486f-bb00-9a921673dc9e",
   "metadata": {},
   "source": [
    "Se imprime el gradiente en coordenadas cilíndricas:"
   ]
  },
  {
   "cell_type": "code",
   "execution_count": 4,
   "id": "5d74bc3a-abc3-4fc2-8bc3-2b646ab17e6e",
   "metadata": {},
   "outputs": [
    {
     "data": {
      "text/latex": [
       "$\\displaystyle \\boldsymbol{\\nabla} \\phi(r, \\theta, z) = \\left[\\begin{matrix}\\frac{\\partial}{\\partial r} \\phi{\\left(r,\\theta,z \\right)}\\\\\\frac{\\frac{\\partial}{\\partial \\theta} \\phi{\\left(r,\\theta,z \\right)}}{r}\\\\\\frac{\\partial}{\\partial z} \\phi{\\left(r,\\theta,z \\right)}\\end{matrix}\\right]$"
      ],
      "text/plain": [
       "<IPython.core.display.Math object>"
      ]
     },
     "execution_count": 4,
     "metadata": {},
     "output_type": "execute_result"
    }
   ],
   "source": [
    "imprimir(r\"\\boldsymbol{\\nabla} \\phi(r, \\theta, z) = \", grad_phi_cil)"
   ]
  }
 ],
 "metadata": {
  "kernelspec": {
   "display_name": "Python 3 (ipykernel)",
   "language": "python",
   "name": "python3"
  },
  "language_info": {
   "codemirror_mode": {
    "name": "ipython",
    "version": 3
   },
   "file_extension": ".py",
   "mimetype": "text/x-python",
   "name": "python",
   "nbconvert_exporter": "python",
   "pygments_lexer": "ipython3",
   "version": "3.10.9"
  }
 },
 "nbformat": 4,
 "nbformat_minor": 5
}
