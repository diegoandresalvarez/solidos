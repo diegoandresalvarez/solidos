{
 "cells": [
  {
   "cell_type": "markdown",
   "id": "e42d93bc",
   "metadata": {},
   "source": [
    "# Capítulo 6, ejercicio propuesto 8. Deducción del gradiente y del laplaciano en coordenadas esféricas"
   ]
  },
  {
   "cell_type": "markdown",
   "id": "a545ae4f-db5b-4619-9f3c-08d41abedfd9",
   "metadata": {},
   "source": [
    "$$\n",
    "\\newcommand{\\ve}[1]{{\\boldsymbol{#1}}}\n",
    "\\newcommand{\\ma}[1]{{\\boldsymbol{#1}}}\n",
    "\\newcommand{\\hati}{\\ve{\\hat i}}\n",
    "\\newcommand{\\hatj}{\\ve{\\hat j}}\n",
    "\\newcommand{\\hatk}{\\ve{\\hat k}}\n",
    "\\newcommand{\\hatr}{\\ve{\\hat r}}\n",
    "\\newcommand{\\hatt}{\\ve{\\hat \\theta}}\n",
    "\\newcommand{\\hatp}{\\ve{\\hat \\varphi}}\n",
    "$$"
   ]
  },
  {
   "cell_type": "code",
   "execution_count": 3,
   "id": "d771220e",
   "metadata": {},
   "outputs": [],
   "source": [
    "from sympy import init_printing, latex, symbols, sin, cos, diff, simplify, Function, Matrix, trigsimp,  expand\n",
    "\n",
    "# Para imprimir bonito\n",
    "init_printing()\n",
    "from IPython.display import Math                 \n",
    "def imprimir (texto1, variable, texto2=\"\"):\n",
    "    return Math(texto1 +  rf'{latex(variable)}' + texto2)"
   ]
  },
  {
   "cell_type": "code",
   "execution_count": 4,
   "id": "ca646cca-3459-464e-a557-3d9ac0b38d15",
   "metadata": {},
   "outputs": [
    {
     "data": {
      "text/latex": [
       "$\\displaystyle \\frac{\\partial(x,y,z)}{\\partial(r,\\theta,\\varphi)}^T = \\left[\\begin{matrix}\\sin{\\left(\\theta \\right)} \\cos{\\left(\\varphi \\right)} & \\sin{\\left(\\theta \\right)} \\sin{\\left(\\varphi \\right)} & \\cos{\\left(\\theta \\right)}\\\\r \\cos{\\left(\\theta \\right)} \\cos{\\left(\\varphi \\right)} & r \\sin{\\left(\\varphi \\right)} \\cos{\\left(\\theta \\right)} & - r \\sin{\\left(\\theta \\right)}\\\\- r \\sin{\\left(\\theta \\right)} \\sin{\\left(\\varphi \\right)} & r \\sin{\\left(\\theta \\right)} \\cos{\\left(\\varphi \\right)} & 0\\end{matrix}\\right]$"
      ],
      "text/plain": [
       "<IPython.core.display.Math object>"
      ]
     },
     "execution_count": 4,
     "metadata": {},
     "output_type": "execute_result"
    }
   ],
   "source": [
    "r, t, p = symbols('r, theta, varphi')\n",
    "x = r*sin(t)*cos(p)\n",
    "y = r*sin(t)*sin(p)\n",
    "z = r*cos(t)\n",
    "\n",
    "# se define la transpuesta de la matriz Jacobiana\n",
    "dxyz_drtp_T = Matrix([[diff(x,r),  diff(y,r),  diff(z,r)],\n",
    "                      [diff(x,t),  diff(y,t),  diff(z,t)],\n",
    "                      [diff(x,p),  diff(y,p),  diff(z,p)]])\n",
    "\n",
    "imprimir(r\"\\frac{\\partial(x,y,z)}{\\partial(r,\\theta,\\varphi)}^T = \", dxyz_drtp_T)"
   ]
  },
  {
   "cell_type": "code",
   "execution_count": 5,
   "id": "0d21cf75-4fd4-4e83-8f35-71905e765ed0",
   "metadata": {},
   "outputs": [
    {
     "data": {
      "text/latex": [
       "$\\displaystyle \\frac{\\partial(r,\\theta,\\varphi)}{\\partial(x,y,z)}^T = \\left[\\begin{matrix}\\sin{\\left(\\theta \\right)} \\cos{\\left(\\varphi \\right)} & \\frac{\\cos{\\left(\\theta \\right)} \\cos{\\left(\\varphi \\right)}}{r} & - \\frac{\\sin{\\left(\\varphi \\right)}}{r \\sin{\\left(\\theta \\right)}}\\\\\\sin{\\left(\\theta \\right)} \\sin{\\left(\\varphi \\right)} & \\frac{\\sin{\\left(\\varphi \\right)} \\cos{\\left(\\theta \\right)}}{r} & \\frac{\\cos{\\left(\\varphi \\right)}}{r \\sin{\\left(\\theta \\right)}}\\\\\\cos{\\left(\\theta \\right)} & - \\frac{\\sin{\\left(\\theta \\right)}}{r} & 0\\end{matrix}\\right]$"
      ],
      "text/plain": [
       "<IPython.core.display.Math object>"
      ]
     },
     "execution_count": 5,
     "metadata": {},
     "output_type": "execute_result"
    }
   ],
   "source": [
    "# se invierte la transpuesta de la matriz Jacobiana\n",
    "drtp_dxyz_T = simplify(dxyz_drtp_T**-1)\n",
    "\n",
    "imprimir(r\"\\frac{\\partial(r,\\theta,\\varphi)}{\\partial(x,y,z)}^T = \", drtp_dxyz_T)"
   ]
  },
  {
   "cell_type": "code",
   "execution_count": 6,
   "id": "6c8bd9f7-fe85-4fdb-9c29-08cf56968506",
   "metadata": {},
   "outputs": [],
   "source": [
    "# se especifican las derivadas a partir de la matriz Jacobiana calculada anteriormente\n",
    "dr_dx, dt_dx, dp_dx = drtp_dxyz_T[0,:]\n",
    "dr_dy, dt_dy, dp_dy = drtp_dxyz_T[1,:]\n",
    "dr_dz, dt_dz, dp_dz = drtp_dxyz_T[2,:]"
   ]
  },
  {
   "cell_type": "markdown",
   "id": "879e8da4-d57c-4de7-b59a-7d46581384f7",
   "metadata": {},
   "source": [
    "Se especifican \"manualmente\" las primeras derivadas utilizando la regla de la cadena para derivar una función $f(r,\\theta,\\phi)$ teniendo en cuenta que $r$, $\\theta$ y $\\phi$ son funciones de $x$, $y$ y $z$:\n",
    "\\begin{align*}\n",
    "\\frac{\\partial f}{\\partial x} &= \\frac{\\partial f}{\\partial r}\\frac{\\partial r}{\\partial x} + \\frac{\\partial f}{\\partial \\theta} \\frac{\\partial \\theta}{\\partial x} + \\frac{\\partial f}{\\partial \\varphi} \\frac{\\partial \\varphi}{\\partial x}\\\\\n",
    "\\frac{\\partial f}{\\partial y} &= \\frac{\\partial f}{\\partial r}\\frac{\\partial r}{\\partial y} + \\frac{\\partial f}{\\partial \\theta} \\frac{\\partial \\theta}{\\partial y} + \\frac{\\partial f}{\\partial \\varphi} \\frac{\\partial \\varphi}{\\partial y} \\\\\n",
    "\\frac{\\partial f}{\\partial z} &= \\frac{\\partial f}{\\partial r}\\frac{\\partial r}{\\partial z} + \\frac{\\partial f}{\\partial \\theta} \\frac{\\partial \\theta}{\\partial z} + \\frac{\\partial f}{\\partial \\varphi} \\frac{\\partial \\varphi}{\\partial z}\n",
    "\\end{align*}    "
   ]
  },
  {
   "cell_type": "code",
   "execution_count": 8,
   "id": "540f4d4a-18ff-4d23-bd41-d6836157bd90",
   "metadata": {},
   "outputs": [],
   "source": [
    "d_dx = lambda f: diff(f,r)*dr_dx + diff(f,t)*dt_dx + diff(f,p)*dp_dx\n",
    "d_dy = lambda f: diff(f,r)*dr_dy + diff(f,t)*dt_dy + diff(f,p)*dp_dy\n",
    "d_dz = lambda f: diff(f,r)*dr_dz + diff(f,t)*dt_dz + diff(f,p)*dp_dz"
   ]
  },
  {
   "cell_type": "markdown",
   "id": "f1842b6b-ed51-482b-86f6-1817c02094f3",
   "metadata": {},
   "source": [
    "Se definen las segundas derivadas:"
   ]
  },
  {
   "cell_type": "code",
   "execution_count": 10,
   "id": "6e2d383a-bbe4-4f30-b552-3d8c36e1d17b",
   "metadata": {},
   "outputs": [],
   "source": [
    "d2_dx2 = lambda f: d_dx(d_dx(f))\n",
    "d2_dy2 = lambda f: d_dy(d_dy(f))\n",
    "d2_dz2 = lambda f: d_dz(d_dz(f))"
   ]
  },
  {
   "cell_type": "markdown",
   "id": "96171dce-bb05-48c4-bbd4-81c841de6080",
   "metadata": {},
   "source": [
    "Se definen los vectores unitarios:\n",
    "\\begin{align*}\n",
    "    \\ve{\\hat{r}}       &= \\sin\\theta \\cos\\varphi \\hati + \\sin\\theta \\sin\\varphi \\hatj + \\cos\\theta \\hatk \\\\\n",
    "    \\ve{\\hat{\\theta}}  &= \\cos\\theta \\cos\\varphi \\hati + \\cos\\theta \\sin\\varphi \\hatj - \\sin\\theta \\hatk \\\\\n",
    "    \\ve{\\hat{\\varphi}} &= -\\sin\\varphi \\hati + \\cos \\varphi \\hatj.\n",
    "\\end{align*}"
   ]
  },
  {
   "cell_type": "code",
   "execution_count": 12,
   "id": "63f37710-ea51-4728-a649-e834c01ced6b",
   "metadata": {},
   "outputs": [],
   "source": [
    "rg = Matrix([ sin(t)*cos(p), sin(t)*sin(p),  cos(t) ])\n",
    "tg = Matrix([ cos(t)*cos(p), cos(t)*sin(p), -sin(t) ])\n",
    "pg = Matrix([       -sin(p),        cos(p),       0 ])"
   ]
  },
  {
   "cell_type": "markdown",
   "id": "946c9fe6-9f79-42e3-ab6b-2905b1c89cb6",
   "metadata": {},
   "source": [
    "Y luego se define la matriz de transformación como $\\ma{T} = \\left[\\ve{\\hat{r}},\\ \\ve{\\hat{\\theta}},\\ \\ve{\\hat{\\varphi}}  \\right]$"
   ]
  },
  {
   "cell_type": "code",
   "execution_count": 14,
   "id": "f6d24c82-8a68-4534-8806-181a7a0cf7b7",
   "metadata": {},
   "outputs": [
    {
     "data": {
      "text/latex": [
       "$\\displaystyle \\boldsymbol{T} = \\left[\\begin{matrix}\\sin{\\left(\\theta \\right)} \\cos{\\left(\\varphi \\right)} & \\cos{\\left(\\theta \\right)} \\cos{\\left(\\varphi \\right)} & - \\sin{\\left(\\varphi \\right)}\\\\\\sin{\\left(\\theta \\right)} \\sin{\\left(\\varphi \\right)} & \\sin{\\left(\\varphi \\right)} \\cos{\\left(\\theta \\right)} & \\cos{\\left(\\varphi \\right)}\\\\\\cos{\\left(\\theta \\right)} & - \\sin{\\left(\\theta \\right)} & 0\\end{matrix}\\right]$"
      ],
      "text/plain": [
       "<IPython.core.display.Math object>"
      ]
     },
     "execution_count": 14,
     "metadata": {},
     "output_type": "execute_result"
    }
   ],
   "source": [
    "T = Matrix.hstack(rg, tg, pg)\n",
    "\n",
    "imprimir(r\"\\boldsymbol{T} = \", T)"
   ]
  },
  {
   "cell_type": "code",
   "execution_count": 15,
   "id": "a4490a36-cd7f-4bcf-a1f4-25ac23efdf8f",
   "metadata": {},
   "outputs": [],
   "source": [
    "# se especifica que f es función de r, t y p\n",
    "f = Function('f')(r, t, p)"
   ]
  },
  {
   "cell_type": "markdown",
   "id": "44bed882-cbd3-4c31-b800-1e81ca56b364",
   "metadata": {},
   "source": [
    "## Caĺculo del laplaciano en coordenadas esféricas"
   ]
  },
  {
   "cell_type": "markdown",
   "id": "1bd77706-7146-46a9-8d10-8b9ce92e4aaf",
   "metadata": {},
   "source": [
    "Se especifica el laplaciano en coordenadas rectangulares:"
   ]
  },
  {
   "cell_type": "code",
   "execution_count": 18,
   "id": "e5d95df0-7073-4584-868b-7e600833a113",
   "metadata": {},
   "outputs": [],
   "source": [
    "lapl1 = simplify(d2_dx2(f) + d2_dy2(f) + d2_dz2(f))"
   ]
  },
  {
   "cell_type": "markdown",
   "id": "6d350729-7000-446a-aa1b-c9ec4a34c165",
   "metadata": {},
   "source": [
    "Se imprime el laplaciano en coordenadas esféricas:"
   ]
  },
  {
   "cell_type": "code",
   "execution_count": 20,
   "id": "0d646415-c2d1-48b5-a6be-cfd26fa4d39e",
   "metadata": {},
   "outputs": [
    {
     "data": {
      "text/latex": [
       "$\\displaystyle \\nabla^2 \\phi(r, \\theta) = \\frac{r^{2} \\frac{\\partial^{2}}{\\partial r^{2}} f{\\left(r,\\theta,\\varphi \\right)} + 2 r \\frac{\\partial}{\\partial r} f{\\left(r,\\theta,\\varphi \\right)} + \\frac{\\partial^{2}}{\\partial \\theta^{2}} f{\\left(r,\\theta,\\varphi \\right)} + \\frac{\\frac{\\partial}{\\partial \\theta} f{\\left(r,\\theta,\\varphi \\right)}}{\\tan{\\left(\\theta \\right)}} + \\frac{\\frac{\\partial^{2}}{\\partial \\varphi^{2}} f{\\left(r,\\theta,\\varphi \\right)}}{\\sin^{2}{\\left(\\theta \\right)}}}{r^{2}}$"
      ],
      "text/plain": [
       "<IPython.core.display.Math object>"
      ]
     },
     "execution_count": 20,
     "metadata": {},
     "output_type": "execute_result"
    }
   ],
   "source": [
    "imprimir(r\"\\nabla^2 \\phi(r, \\theta) = \", lapl1)"
   ]
  },
  {
   "cell_type": "markdown",
   "id": "030ce8fd-84ac-4ba9-97cd-a319fad96be9",
   "metadata": {},
   "source": [
    "y se compara contra la fórmula que está en el libro:\n",
    "$$\n",
    "\\nabla^2 f = \\frac{1}{r^2}\\frac{\\partial}{\\partial r}\\left(r^2 \\frac{\\partial f}{\\partial r}\\right) + \\frac{1}{r^2\\sin\\theta}\\frac{\\partial}{\\partial \\theta}\\left(\\sin\\theta \\frac{\\partial f}{\\partial \\theta}\\right) + \\frac{1}{r^2\\sin^2\\theta}\\frac{\\partial^2 f}{\\partial \\varphi^2}\n",
    "$$"
   ]
  },
  {
   "cell_type": "code",
   "execution_count": 22,
   "id": "7709e2c2-76b6-43d3-81af-538a655a87ff",
   "metadata": {},
   "outputs": [],
   "source": [
    "lapl2 = (1/(r**2))*diff(r**2 * diff(f,r), r) + (1/(r**2 * sin(t)))*diff(sin(t) * diff(f,t), t) + (1/(r**2 * sin(t)**2))*diff(f,p,2)"
   ]
  },
  {
   "cell_type": "markdown",
   "id": "43d3cec1-4903-4da1-a70a-3a7950fc52b6",
   "metadata": {},
   "source": [
    "Si `lapl1 - lapl2 == 0` es porque ambas expresiones son matemáticamente equivalentes:"
   ]
  },
  {
   "cell_type": "code",
   "execution_count": 24,
   "id": "f073b539-6d15-4c77-bab2-b3ef4be576c3",
   "metadata": {},
   "outputs": [
    {
     "data": {
      "image/png": "[encoded data removed]",
      "text/latex": [
       "$\\displaystyle 0$"
      ],
      "text/plain": [
       "0"
      ]
     },
     "execution_count": 24,
     "metadata": {},
     "output_type": "execute_result"
    }
   ],
   "source": [
    "simplify(lapl1 - lapl2)"
   ]
  },
  {
   "cell_type": "markdown",
   "id": "09428b41-3d9a-4981-adbc-2f80a8f5f7c0",
   "metadata": {},
   "source": [
    "## Cálculo del gradiente en coordenadas esféricas:"
   ]
  },
  {
   "cell_type": "markdown",
   "id": "cae2aa3c-b874-4480-b943-c6a6c4f758a1",
   "metadata": {},
   "source": [
    "Se especifica el gradiente en coordenadas rectangulares, el cual está definido con respecto a la base $\\left\\{\\hati,\\ \\hatj, \\hatk \\right\\}$:"
   ]
  },
  {
   "cell_type": "code",
   "execution_count": 27,
   "id": "041c085a-aa75-473f-af0e-29547f0d4781",
   "metadata": {},
   "outputs": [],
   "source": [
    "grad_f_ijk = Matrix([ d_dx(f),\n",
    "                      d_dy(f),\n",
    "                      d_dz(f)  ])"
   ]
  },
  {
   "cell_type": "markdown",
   "id": "9b49cd15-a672-4746-be7a-3141a1211b3d",
   "metadata": {},
   "source": [
    "Se convierte el gradiente de la base $\\left\\{\\hati,\\ \\hatj, \\hatk \\right\\}$ a la base $\\left\\{\\hatr,\\ \\hatt, \\hatp \\right\\}$:"
   ]
  },
  {
   "cell_type": "code",
   "execution_count": 29,
   "id": "c99b113d-9bac-4610-8883-3921bf1b4efa",
   "metadata": {},
   "outputs": [],
   "source": [
    "grad_f_rtp = trigsimp(T.T * grad_f_ijk)"
   ]
  },
  {
   "cell_type": "markdown",
   "id": "96667fd7-f577-486f-bb00-9a921673dc9e",
   "metadata": {},
   "source": [
    "Se imprime el gradiente en coordenadas esféricas:"
   ]
  },
  {
   "cell_type": "code",
   "execution_count": 31,
   "id": "5d74bc3a-abc3-4fc2-8bc3-2b646ab17e6e",
   "metadata": {},
   "outputs": [
    {
     "data": {
      "text/latex": [
       "$\\displaystyle \\boldsymbol{\\nabla} f(r, \\theta, \\varphi) = \\left[\\begin{matrix}\\frac{\\partial}{\\partial r} f{\\left(r,\\theta,\\varphi \\right)}\\\\\\frac{\\frac{\\partial}{\\partial \\theta} f{\\left(r,\\theta,\\varphi \\right)}}{r}\\\\\\frac{\\frac{\\partial}{\\partial \\varphi} f{\\left(r,\\theta,\\varphi \\right)}}{r \\sin{\\left(\\theta \\right)}}\\end{matrix}\\right]$"
      ],
      "text/plain": [
       "<IPython.core.display.Math object>"
      ]
     },
     "execution_count": 31,
     "metadata": {},
     "output_type": "execute_result"
    }
   ],
   "source": [
    "imprimir(r\"\\boldsymbol{\\nabla} f(r, \\theta, \\varphi) = \", grad_f_rtp)"
   ]
  }
 ],
 "metadata": {
  "kernelspec": {
   "display_name": "anaconda-panel-2023.05-py310",
   "language": "python",
   "name": "conda-env-anaconda-panel-2023.05-py310-py"
  },
  "language_info": {
   "codemirror_mode": {
    "name": "ipython",
    "version": 3
   },
   "file_extension": ".py",
   "mimetype": "text/x-python",
   "name": "python",
   "nbconvert_exporter": "python",
   "pygments_lexer": "ipython3",
   "version": "3.11.5"
  }
 },
 "nbformat": 4,
 "nbformat_minor": 5
}
