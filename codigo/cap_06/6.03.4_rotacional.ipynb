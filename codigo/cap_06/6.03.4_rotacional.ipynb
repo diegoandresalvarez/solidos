{
 "cells": [
  {
   "cell_type": "markdown",
   "id": "6c9678cd",
   "metadata": {},
   "source": [
    "# 6.3.4. Deducción del rotacional en coordenadas cilíndricas"
   ]
  },
  {
   "cell_type": "code",
   "execution_count": 1,
   "id": "d5337154",
   "metadata": {},
   "outputs": [],
   "source": [
    "from sympy import init_printing, latex, symbols, sin, cos, diff, simplify, Function, Matrix\n",
    "\n",
    "# Para imprimir bonito\n",
    "from IPython.display import Math\n",
    "init_printing()                  \n",
    "def imprimir (texto, variable):\n",
    "    return Math(texto +  rf'{latex(variable)}')"
   ]
  },
  {
   "cell_type": "code",
   "execution_count": 2,
   "id": "e458751e",
   "metadata": {},
   "outputs": [],
   "source": [
    "r, t, z = symbols('r, theta, z')\n",
    "\n",
    "# se definen las primeras derivadas utilizando la regla de la cadena\n",
    "d_dx = lambda f: diff(f,r)*cos(t) - diff(f,t)*sin(t)/r\n",
    "d_dy = lambda f: diff(f,r)*sin(t) + diff(f,t)*cos(t)/r\n",
    "d_dz = lambda f: diff(f,z)"
   ]
  },
  {
   "cell_type": "code",
   "execution_count": 3,
   "id": "f733e344-bc6c-4c98-88ab-eff972a0c154",
   "metadata": {},
   "outputs": [],
   "source": [
    "# se especifica que fr, ft y fz son funciones de r, t y z\n",
    "fr = Function('f_r')(r, t, z)\n",
    "ft = Function('f_theta')(r, t, z)\n",
    "fz = Function('f_z')(r, t, z)\n",
    "\n",
    "# se definen las funciones fx y fy\n",
    "fx = fr*cos(t) - ft*sin(t)\n",
    "fy = fr*sin(t) + ft*cos(t)\n",
    "\n",
    "# se especifica el rotacional en coordenadas rectangulares\n",
    "rot_f_ijk = simplify(Matrix([[ d_dy(fz) - d_dz(fy) ],\n",
    "                             [ d_dz(fx) - d_dx(fz) ],\n",
    "                             [ d_dx(fy) - d_dy(fx) ]]))"
   ]
  },
  {
   "cell_type": "markdown",
   "id": "cd0159dc-ba76-44ee-bf7d-44809eccc32c",
   "metadata": {},
   "source": [
    "Se imprime el rotacional en coordenadas cilíndricas con respecto a la base $\\{\\hat{\\boldsymbol{i}}, \\hat{\\boldsymbol{j}}, \\hat{\\boldsymbol{k}}\\}$:"
   ]
  },
  {
   "cell_type": "code",
   "execution_count": 4,
   "id": "98079023-fc8e-444c-a9ff-b1bfc9f07a07",
   "metadata": {},
   "outputs": [
    {
     "data": {
      "text/latex": [
       "$\\displaystyle \\boldsymbol{\\nabla} \\times \\phi = \\left[\\begin{matrix}- \\sin{\\left(\\theta \\right)} \\frac{\\partial}{\\partial z} \\operatorname{f_{r}}{\\left(r,\\theta,z \\right)} + \\sin{\\left(\\theta \\right)} \\frac{\\partial}{\\partial r} \\operatorname{f_{z}}{\\left(r,\\theta,z \\right)} - \\cos{\\left(\\theta \\right)} \\frac{\\partial}{\\partial z} \\operatorname{f_{\\theta}}{\\left(r,\\theta,z \\right)} + \\frac{\\cos{\\left(\\theta \\right)} \\frac{\\partial}{\\partial \\theta} \\operatorname{f_{z}}{\\left(r,\\theta,z \\right)}}{r}\\\\- \\sin{\\left(\\theta \\right)} \\frac{\\partial}{\\partial z} \\operatorname{f_{\\theta}}{\\left(r,\\theta,z \\right)} + \\cos{\\left(\\theta \\right)} \\frac{\\partial}{\\partial z} \\operatorname{f_{r}}{\\left(r,\\theta,z \\right)} - \\cos{\\left(\\theta \\right)} \\frac{\\partial}{\\partial r} \\operatorname{f_{z}}{\\left(r,\\theta,z \\right)} + \\frac{\\sin{\\left(\\theta \\right)} \\frac{\\partial}{\\partial \\theta} \\operatorname{f_{z}}{\\left(r,\\theta,z \\right)}}{r}\\\\\\frac{r \\frac{\\partial}{\\partial r} \\operatorname{f_{\\theta}}{\\left(r,\\theta,z \\right)} + \\operatorname{f_{\\theta}}{\\left(r,\\theta,z \\right)} - \\frac{\\partial}{\\partial \\theta} \\operatorname{f_{r}}{\\left(r,\\theta,z \\right)}}{r}\\end{matrix}\\right]$"
      ],
      "text/plain": [
       "<IPython.core.display.Math object>"
      ]
     },
     "execution_count": 4,
     "metadata": {},
     "output_type": "execute_result"
    }
   ],
   "source": [
    "imprimir(r\"\\boldsymbol{\\nabla} \\times \\phi = \", rot_f_ijk)"
   ]
  },
  {
   "cell_type": "code",
   "execution_count": 5,
   "id": "f2d47892-7ce7-4201-85ff-d23e38d3f8d8",
   "metadata": {},
   "outputs": [],
   "source": [
    "# se define la matriz de transformación T\n",
    "T = Matrix([[ cos(t), -sin(t), 0 ],\n",
    "            [ sin(t),  cos(t), 0 ],\n",
    "            [      0,       0, 1 ]])"
   ]
  },
  {
   "cell_type": "markdown",
   "id": "059dc01c-ab9d-42af-b961-9514757416ee",
   "metadata": {},
   "source": [
    "Se imprime el rotacional en coordenadas cilíndricas con respecto a la base $\\{\\hat{\\boldsymbol{r}}_P, \\hat{\\boldsymbol{\\theta}}_P, \\hat{\\boldsymbol{z}}_P\\}$:"
   ]
  },
  {
   "cell_type": "code",
   "execution_count": 6,
   "id": "dfcfac3d-9eb9-4be7-9e4e-4f6e75cd966f",
   "metadata": {},
   "outputs": [
    {
     "data": {
      "text/latex": [
       "$\\displaystyle \\boldsymbol{\\nabla} \\times \\phi(r, \\theta, z) = \\left[\\begin{matrix}- \\frac{\\partial}{\\partial z} \\operatorname{f_{\\theta}}{\\left(r,\\theta,z \\right)} + \\frac{\\frac{\\partial}{\\partial \\theta} \\operatorname{f_{z}}{\\left(r,\\theta,z \\right)}}{r}\\\\\\frac{\\partial}{\\partial z} \\operatorname{f_{r}}{\\left(r,\\theta,z \\right)} - \\frac{\\partial}{\\partial r} \\operatorname{f_{z}}{\\left(r,\\theta,z \\right)}\\\\\\frac{r \\frac{\\partial}{\\partial r} \\operatorname{f_{\\theta}}{\\left(r,\\theta,z \\right)} + \\operatorname{f_{\\theta}}{\\left(r,\\theta,z \\right)} - \\frac{\\partial}{\\partial \\theta} \\operatorname{f_{r}}{\\left(r,\\theta,z \\right)}}{r}\\end{matrix}\\right]$"
      ],
      "text/plain": [
       "<IPython.core.display.Math object>"
      ]
     },
     "execution_count": 6,
     "metadata": {},
     "output_type": "execute_result"
    }
   ],
   "source": [
    "rot_f_rPtPzP = simplify(T.T * rot_f_ijk)\n",
    "\n",
    "imprimir(r\"\\boldsymbol{\\nabla} \\times \\phi(r, \\theta, z) = \", rot_f_rPtPzP)"
   ]
  }
 ],
 "metadata": {
  "kernelspec": {
   "display_name": "Python 3 (ipykernel)",
   "language": "python",
   "name": "python3"
  },
  "language_info": {
   "codemirror_mode": {
    "name": "ipython",
    "version": 3
   },
   "file_extension": ".py",
   "mimetype": "text/x-python",
   "name": "python",
   "nbconvert_exporter": "python",
   "pygments_lexer": "ipython3",
   "version": "3.9.13"
  }
 },
 "nbformat": 4,
 "nbformat_minor": 5
}
