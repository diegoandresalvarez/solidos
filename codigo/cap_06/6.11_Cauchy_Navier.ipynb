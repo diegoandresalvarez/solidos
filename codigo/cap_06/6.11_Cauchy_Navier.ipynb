{
 "cells": [
  {
   "cell_type": "markdown",
   "metadata": {},
   "source": [
    "# Deducción de las ecuaciones diferenciales parciales de Cauchy-Navier en coordenadas cilíndricas"
   ]
  },
  {
   "cell_type": "markdown",
   "metadata": {},
   "source": [
    "A continuación se presentarán dos verificaciones independientes de las ecuaciones de Cauchy-Navier en coordenadas cilíndricas:"
   ]
  },
  {
   "cell_type": "code",
   "execution_count": 1,
   "metadata": {
    "id": "_z9Y3oI2XaTn"
   },
   "outputs": [],
   "source": [
    "from sympy import sin, cos, diff, Function, simplify, symbols, factor, Eq, init_printing, trigsimp, expand, latex, Matrix\n",
    "\n",
    "# Para imprimir bonito\n",
    "init_printing()\n",
    "from IPython.display import Math                 \n",
    "def imprimir (texto1, variable, texto2=\"\"):\n",
    "    return Math(texto1 +  rf'{latex(variable)}' + texto2)"
   ]
  },
  {
   "cell_type": "code",
   "execution_count": 2,
   "metadata": {
    "id": "w9U-4QV-Xfn9"
   },
   "outputs": [],
   "source": [
    "r, t, z, x, y, lamda, G = symbols(\"r, theta, z, x, y, lamda, G\")\n",
    "\n",
    "# Se definen los desplazamientos en coordenadas cilíndricas\n",
    "ur = Function(\"u_r\")(r, t, z)\n",
    "vt = Function(\"v_θ\")(r, t, z)\n",
    "w  = Function(\"w\")(r, t, z)\n",
    "\n",
    "# Se definen las fuerzas másicas en coordenadas cilíndricas\n",
    "br = Function(\"b_r\")(r, t, z)\n",
    "bt = Function(\"b_θ\")(r, t, z)\n",
    "bz = Function(\"b_z\")(r, t, z)"
   ]
  },
  {
   "cell_type": "code",
   "execution_count": 3,
   "metadata": {
    "id": "w9U-4QV-Xfn9"
   },
   "outputs": [],
   "source": [
    "# Matriz de transformación de la base {r,t,z} a la base {i,j,k}\n",
    "T = Matrix([[ cos(t), -sin(t),       0 ],     \n",
    "            [ sin(t),  cos(t),       0 ],      \n",
    "            [      0,       0,       1 ]])"
   ]
  },
  {
   "cell_type": "markdown",
   "metadata": {},
   "source": [
    "Se definen los desplazamientos en coordenadas rectangulares y cilíndricas:"
   ]
  },
  {
   "cell_type": "code",
   "execution_count": 4,
   "metadata": {
    "id": "w9U-4QV-Xfn9"
   },
   "outputs": [],
   "source": [
    "# vector de desplazamientos con respecto a la base {r,t,z}\n",
    "u_cil = Matrix([ ur,\n",
    "                 vt,\n",
    "                 w   ])\n",
    "\n",
    "# vector de desplazamientos con respecto a la base {i,j,k}\n",
    "u_rec = T * u_cil\n",
    "\n",
    "# componentes de los desplazamientos en coordenadas rectangulares\n",
    "u, v = u_rec[0], u_rec[1]"
   ]
  },
  {
   "cell_type": "markdown",
   "metadata": {},
   "source": [
    "Se definen las fuerzas másicas en coordenadas rectangulares y cilíndricas:"
   ]
  },
  {
   "cell_type": "code",
   "execution_count": 5,
   "metadata": {
    "id": "w9U-4QV-Xfn9"
   },
   "outputs": [],
   "source": [
    "# vector de fuerzas másicas con respecto a la base {r,t,z}\n",
    "b_cil = Matrix([ br,     \n",
    "                 bt,      \n",
    "                 bz  ])\n",
    "\n",
    "# vector de fuerzas másicas con respecto a la base {i,j,k}\n",
    "b_rec = T * b_cil\n",
    "\n",
    "# componentes de la fuerza másica en coordenadas rectangulares\n",
    "X, Y, Z = b_rec"
   ]
  },
  {
   "cell_type": "code",
   "execution_count": 6,
   "metadata": {
    "id": "w9U-4QV-Xfn9"
   },
   "outputs": [],
   "source": [
    "# se definen las primeras derivadas\n",
    "d_dx   = lambda f: diff(f,r)*cos(t) - diff(f,t)*sin(t)/r\n",
    "d_dy   = lambda f: diff(f,r)*sin(t) + diff(f,t)*cos(t)/r\n",
    "d_dz   = lambda f: diff(f,z)\n",
    "\n",
    "# se definen las segundas derivadas\n",
    "d2_dx2 = lambda f: d_dx(d_dx(f))\n",
    "d2_dy2 = lambda f: d_dy(d_dy(f))\n",
    "d2_dz2 = lambda f: d_dz(d_dz(f))"
   ]
  },
  {
   "cell_type": "markdown",
   "metadata": {},
   "source": [
    "Se define la divergencia de un campo vectorial en coordenadas rectangulares y cilíndricas:"
   ]
  },
  {
   "cell_type": "code",
   "execution_count": 7,
   "metadata": {
    "id": "w9U-4QV-Xfn9"
   },
   "outputs": [],
   "source": [
    "# divergencia de un campo vectorial en coordenadas rectangulares y cilíndricas\n",
    "div_rec = lambda v: d_dx(v[0]) + d_dy(v[1]) + d_dz(v[2])\n",
    "\n",
    "div_cil = lambda v: diff(v[0],r) + v[0]/r + (1/r)*diff(v[1],t) + diff(v[2],z)"
   ]
  },
  {
   "cell_type": "markdown",
   "metadata": {},
   "source": [
    "Se define el laplaciano de una función en coordenadas rectangulares y cilíndricas:"
   ]
  },
  {
   "cell_type": "code",
   "execution_count": 8,
   "metadata": {
    "id": "w9U-4QV-Xfn9"
   },
   "outputs": [],
   "source": [
    "# laplaciano en coordenadas rectangulares y cilíndricas\n",
    "lapl_rec = lambda f : simplify(d2_dx2(f) + d2_dy2(f) + d2_dz2(f))\n",
    "\n",
    "lapl_cil = lambda f : simplify((1/r)*diff(r*diff(f,r),r) + (1/(r**2))*diff(f,t,2) + diff(f,z,2))"
   ]
  },
  {
   "cell_type": "markdown",
   "metadata": {},
   "source": [
    "Se define el laplaciano vectorial en coordenadas rectangulares y cilíndricas:"
   ]
  },
  {
   "cell_type": "code",
   "execution_count": 9,
   "metadata": {},
   "outputs": [],
   "source": [
    "# laplaciano de un campo vectorial rectangular (laplaciano vectorial) en coordenadas rectangulares y cilíndricas\n",
    "lapl_vec_rec = lambda v : Matrix([ lapl_rec(v[0]),\n",
    "                                   lapl_rec(v[1]),\n",
    "                                   lapl_rec(v[2]) ])\n",
    "\n",
    "lapl_vec_cil = lambda v : Matrix([ lapl_cil(v[0]) - v[0]/(r**2) - (2/(r**2))*diff(v[1],t),\n",
    "                                   lapl_cil(v[1]) - v[1]/(r**2) + (2/(r**2))*diff(v[0],t),\n",
    "                                   lapl_cil(v[2])                                         ])"
   ]
  },
  {
   "cell_type": "markdown",
   "metadata": {},
   "source": [
    "Se define el gradiente de una función en coordenadas rectangulares y cilíndricas:"
   ]
  },
  {
   "cell_type": "code",
   "execution_count": 10,
   "metadata": {
    "id": "w9U-4QV-Xfn9"
   },
   "outputs": [],
   "source": [
    "# gradiente en coordenadas rectangulares y cilíndricas\n",
    "grad_rec = lambda f : Matrix([ d_dx(f),\n",
    "                               d_dy(f),\n",
    "                               d_dz(f) ])\n",
    "\n",
    "grad_cil = lambda f : Matrix([       diff(f,r),\n",
    "                               (1/r)*diff(f,t),\n",
    "                                     diff(f,z) ])"
   ]
  },
  {
   "cell_type": "markdown",
   "metadata": {},
   "source": [
    "Se calcula la dilatación cúbica usando las fórmulas en coordenadas rectangulares y cilíndricas:"
   ]
  },
  {
   "cell_type": "code",
   "execution_count": 11,
   "metadata": {},
   "outputs": [
    {
     "data": {
      "image/png": "[encoded data removed]",
      "text/latex": [
       "$\\displaystyle 0$"
      ],
      "text/plain": [
       "0"
      ]
     },
     "execution_count": 11,
     "metadata": {},
     "output_type": "execute_result"
    }
   ],
   "source": [
    "# se calcula la dilatación cúbica\n",
    "e_rec = expand(div_rec(u_rec).subs({sin(t): 0, cos(t): 1}))\n",
    "e_cil = expand(div_cil(u_cil).subs({sin(t): 0, cos(t): 1}))\n",
    "\n",
    "# y se verifica que ambas expresiones sean iguales\n",
    "e_rec - e_cil"
   ]
  },
  {
   "cell_type": "markdown",
   "metadata": {},
   "source": [
    "## Método 1: Comparando las ecuaciones en notación extendida"
   ]
  },
  {
   "cell_type": "markdown",
   "metadata": {},
   "source": [
    "Se escriben las ecuaciones de Cauchy-Navier en coordenadas rectangulares y cilíndricas:"
   ]
  },
  {
   "cell_type": "code",
   "execution_count": 12,
   "metadata": {
    "id": "w9U-4QV-Xfn9"
   },
   "outputs": [],
   "source": [
    "# Ecuaciones de Cauchy-Navier en coordenadas rectangulares:\n",
    "eqCN1_rec = [ (lamda + G)*d_dx(e_rec) + G*(lapl_rec(u)) + X,\n",
    "              (lamda + G)*d_dy(e_rec) + G*(lapl_rec(v)) + Y,\n",
    "              (lamda + G)*d_dz(e_rec) + G*(lapl_rec(w)) + Z ]"
   ]
  },
  {
   "cell_type": "code",
   "execution_count": 13,
   "metadata": {
    "id": "w9U-4QV-Xfn9"
   },
   "outputs": [],
   "source": [
    "# Ecuaciones de Cauchy-Navier en coordenadas cilíndricas:\n",
    "eqCN1_cil = [ (lamda + G)*diff(e_cil,r)   + G*(lapl_cil(ur) - (ur/(r*r)) - (2/(r*r))*diff(vt, t)) + br,\n",
    "              (lamda + G)*diff(e_cil,t)/r + G*(lapl_cil(vt) - (vt/(r*r)) + (2/(r*r))*diff(ur, t)) + bt,\n",
    "              (lamda + G)*diff(e_cil,z)   + G*lapl_cil(w) + bz ]"
   ]
  },
  {
   "cell_type": "code",
   "execution_count": 14,
   "metadata": {
    "id": "w9U-4QV-Xfn9"
   },
   "outputs": [],
   "source": [
    "eqCN1_rec = Matrix(eqCN1_rec).subs({sin(t): 0, cos(t): 1})\n",
    "eqCN1_cil = Matrix(eqCN1_cil).subs({sin(t): 0, cos(t): 1})"
   ]
  },
  {
   "cell_type": "markdown",
   "metadata": {},
   "source": [
    "Se verifica que ambos conjuntos de ecuaciones sean equivalentes:"
   ]
  },
  {
   "cell_type": "code",
   "execution_count": 15,
   "metadata": {
    "colab": {
     "base_uri": "https://localhost:8080/"
    },
    "id": "tKyTV9hkhFiF",
    "outputId": "e7919054-2ab5-4685-fa6a-5cb705da181b"
   },
   "outputs": [
    {
     "data": {
      "image/png": "[encoded data removed]",
      "text/latex": [
       "$\\displaystyle \\left[\\begin{matrix}0\\\\0\\\\0\\end{matrix}\\right]$"
      ],
      "text/plain": [
       "⎡0⎤\n",
       "⎢ ⎥\n",
       "⎢0⎥\n",
       "⎢ ⎥\n",
       "⎣0⎦"
      ]
     },
     "execution_count": 15,
     "metadata": {},
     "output_type": "execute_result"
    }
   ],
   "source": [
    "simplify(eqCN1_rec - eqCN1_cil)"
   ]
  },
  {
   "cell_type": "markdown",
   "metadata": {},
   "source": [
    "## Método 2: Comparando las ecuaciones en notación vectorial compacta"
   ]
  },
  {
   "cell_type": "markdown",
   "metadata": {},
   "source": [
    "Se escriben las ecuaciones de Cauchy-Navier en coordenadas rectangulares y cilíndricas, en su notación vectorial compacta:"
   ]
  },
  {
   "cell_type": "code",
   "execution_count": 16,
   "metadata": {},
   "outputs": [],
   "source": [
    "# ecuación de Cauchy-Navier en términos de desplazamientos\n",
    "eqCN2_rec = (lamda + G)*grad_rec(e_rec) + G*lapl_vec_rec(u_rec) + b_rec\n",
    "eqCN2_cil = (lamda + G)*grad_cil(e_cil) + G*lapl_vec_cil(u_cil) + b_cil"
   ]
  },
  {
   "cell_type": "code",
   "execution_count": 17,
   "metadata": {},
   "outputs": [],
   "source": [
    "eqCN2_rec = eqCN2_rec.subs({sin(t): 0, cos(t): 1})\n",
    "eqCN2_cil = eqCN2_cil.subs({sin(t): 0, cos(t): 1})"
   ]
  },
  {
   "cell_type": "markdown",
   "metadata": {},
   "source": [
    "Se verifica que ambos conjuntos de ecuaciones sean equivalentes:"
   ]
  },
  {
   "cell_type": "code",
   "execution_count": 18,
   "metadata": {},
   "outputs": [
    {
     "data": {
      "image/png": "[encoded data removed]",
      "text/latex": [
       "$\\displaystyle \\left[\\begin{matrix}0\\\\0\\\\0\\end{matrix}\\right]$"
      ],
      "text/plain": [
       "⎡0⎤\n",
       "⎢ ⎥\n",
       "⎢0⎥\n",
       "⎢ ⎥\n",
       "⎣0⎦"
      ]
     },
     "execution_count": 18,
     "metadata": {},
     "output_type": "execute_result"
    }
   ],
   "source": [
    "simplify(eqCN2_rec - eqCN2_cil)"
   ]
  },
  {
   "cell_type": "markdown",
   "metadata": {},
   "source": [
    "Se verifica que las ecuaciones obtenidas con ambos métodos sean equivalentes:"
   ]
  },
  {
   "cell_type": "code",
   "execution_count": 19,
   "metadata": {},
   "outputs": [
    {
     "data": {
      "image/png": "[encoded data removed]",
      "text/latex": [
       "$\\displaystyle \\left[\\begin{matrix}0\\\\0\\\\0\\end{matrix}\\right]$"
      ],
      "text/plain": [
       "⎡0⎤\n",
       "⎢ ⎥\n",
       "⎢0⎥\n",
       "⎢ ⎥\n",
       "⎣0⎦"
      ]
     },
     "execution_count": 19,
     "metadata": {},
     "output_type": "execute_result"
    }
   ],
   "source": [
    "simplify(eqCN1_rec - eqCN2_rec)"
   ]
  }
 ],
 "metadata": {
  "colab": {
   "provenance": []
  },
  "kernelspec": {
   "display_name": "Python 3 (ipykernel)",
   "language": "python",
   "name": "python3"
  },
  "language_info": {
   "codemirror_mode": {
    "name": "ipython",
    "version": 3
   },
   "file_extension": ".py",
   "mimetype": "text/x-python",
   "name": "python",
   "nbconvert_exporter": "python",
   "pygments_lexer": "ipython3",
   "version": "3.10.9"
  }
 },
 "nbformat": 4,
 "nbformat_minor": 4
}
