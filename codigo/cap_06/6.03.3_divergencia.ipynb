{
 "cells": [
  {
   "cell_type": "markdown",
   "id": "5b07fb5b",
   "metadata": {},
   "source": [
    "# 6.3.3. Deducción de la divergencia en coordenadas cilíndricas"
   ]
  },
  {
   "cell_type": "code",
   "execution_count": 1,
   "id": "d5337154",
   "metadata": {},
   "outputs": [],
   "source": [
    "from sympy import init_printing, latex, symbols, Function, sin, cos, diff, simplify, Matrix, trigsimp\n",
    "\n",
    "# Para imprimir bonito\n",
    "init_printing()\n",
    "from IPython.display import Math                 \n",
    "def imprimir (texto1, variable, texto2=\"\"):\n",
    "    return Math(texto1 +  rf'{latex(variable)}' + texto2)"
   ]
  },
  {
   "cell_type": "code",
   "execution_count": 2,
   "id": "4f9c0132-9dba-4de1-87a4-2d726e6552df",
   "metadata": {},
   "outputs": [],
   "source": [
    "r, t, z = symbols('r, theta, z')"
   ]
  },
  {
   "cell_type": "markdown",
   "id": "6ef190d3-3a20-41c7-91ef-1471725b386a",
   "metadata": {},
   "source": [
    "Forma alterna de definir la regla de la cadena (por virtual del teorema de la transformada inversa):"
   ]
  },
  {
   "cell_type": "code",
   "execution_count": 8,
   "id": "18bd6345-7b0b-4b1d-b269-b680dc7eec88",
   "metadata": {},
   "outputs": [
    {
     "data": {
      "image/png": "[encoded data removed]",
      "text/latex": [
       "$\\displaystyle \\left[\\begin{matrix}\\cos{\\left(\\theta \\right)} & - r \\sin{\\left(\\theta \\right)} & 0\\\\\\sin{\\left(\\theta \\right)} & r \\cos{\\left(\\theta \\right)} & 0\\\\0 & 0 & 1\\end{matrix}\\right]$"
      ],
      "text/plain": [
       "⎡cos(θ)  -r⋅sin(θ)  0⎤\n",
       "⎢                    ⎥\n",
       "⎢sin(θ)  r⋅cos(θ)   0⎥\n",
       "⎢                    ⎥\n",
       "⎣  0         0      1⎦"
      ]
     },
     "execution_count": 8,
     "metadata": {},
     "output_type": "execute_result"
    }
   ],
   "source": [
    "x = r*cos(t)\n",
    "y = r*sin(t)\n",
    "\n",
    "# matriz Jacobiana\n",
    "J = Matrix([[ diff(x,r), diff(x,t), diff(x,z) ],\n",
    "            [ diff(y,r), diff(y,t), diff(y,z) ],\n",
    "            [ diff(z,r), diff(z,t), diff(z,z) ]])\n",
    "J"
   ]
  },
  {
   "cell_type": "code",
   "execution_count": 4,
   "id": "5cf76661-fb2c-4341-826e-11ddd9b368eb",
   "metadata": {},
   "outputs": [
    {
     "data": {
      "image/png": "[encoded data removed]",
      "text/latex": [
       "$\\displaystyle \\left[\\begin{matrix}\\cos{\\left(\\theta \\right)} & - \\frac{\\sin{\\left(\\theta \\right)}}{r} & 0\\\\\\sin{\\left(\\theta \\right)} & \\frac{\\cos{\\left(\\theta \\right)}}{r} & 0\\\\0 & 0 & 1\\end{matrix}\\right]$"
      ],
      "text/plain": [
       "⎡        -sin(θ)    ⎤\n",
       "⎢cos(θ)  ────────  0⎥\n",
       "⎢           r       ⎥\n",
       "⎢                   ⎥\n",
       "⎢         cos(θ)    ⎥\n",
       "⎢sin(θ)   ──────   0⎥\n",
       "⎢           r       ⎥\n",
       "⎢                   ⎥\n",
       "⎣  0        0      1⎦"
      ]
     },
     "execution_count": 4,
     "metadata": {},
     "output_type": "execute_result"
    }
   ],
   "source": [
    "JinvT = trigsimp(J.inv()).T\n",
    "JinvT"
   ]
  },
  {
   "cell_type": "code",
   "execution_count": 5,
   "id": "4f6b1571-36dc-457f-b0db-4ba7b47a6cd1",
   "metadata": {},
   "outputs": [],
   "source": [
    "# se definen las primeras derivadas utilizando la regla de la cadena\n",
    "d_dx = lambda f: diff(f,r)*cos(t) - diff(f,t)*sin(t)/r\n",
    "d_dy = lambda f: diff(f,r)*sin(t) + diff(f,t)*cos(t)/r\n",
    "d_dz = lambda f: diff(f,z)"
   ]
  },
  {
   "cell_type": "code",
   "execution_count": 6,
   "id": "0174d3fe-05c5-4f9f-9a04-b765a5514c6c",
   "metadata": {},
   "outputs": [],
   "source": [
    "# se especifica que fr, ft y fz son funciones de r, t y z\n",
    "fr = Function('f_r')(r, t, z)\n",
    "ft = Function('f_theta')(r, t, z)\n",
    "fz = Function('f_z')(r, t, z)\n",
    "\n",
    "# se definen las funciones fx y fy\n",
    "fx = fr*cos(t) - ft*sin(t)\n",
    "fy = fr*sin(t) + ft*cos(t)\n",
    "\n",
    "# se especifica la divergencia en coordenadas rectangulares\n",
    "div = simplify(d_dx(fx) + d_dy(fy) + d_dz(fz))"
   ]
  },
  {
   "cell_type": "markdown",
   "id": "f54f8e8f-2a97-4519-939f-645b0d4ad6e5",
   "metadata": {},
   "source": [
    "Se imprime la divergencia en coordenadas cilíndricas:"
   ]
  },
  {
   "cell_type": "code",
   "execution_count": 7,
   "id": "4a6c7f59-8b7b-454f-b45d-fd34b73e532c",
   "metadata": {},
   "outputs": [
    {
     "data": {
      "text/latex": [
       "$\\displaystyle \\nabla \\cdot \\phi(r, \\theta, z) = \\frac{\\partial}{\\partial r} f_{r}{\\left(r,\\theta,z \\right)} + \\frac{\\partial}{\\partial z} f_{z}{\\left(r,\\theta,z \\right)} + \\frac{f_{r}{\\left(r,\\theta,z \\right)}}{r} + \\frac{\\frac{\\partial}{\\partial \\theta} f_{\\theta}{\\left(r,\\theta,z \\right)}}{r}$"
      ],
      "text/plain": [
       "<IPython.core.display.Math object>"
      ]
     },
     "execution_count": 7,
     "metadata": {},
     "output_type": "execute_result"
    }
   ],
   "source": [
    "imprimir(r\"\\nabla \\cdot \\phi(r, \\theta, z) = \", div)"
   ]
  }
 ],
 "metadata": {
  "kernelspec": {
   "display_name": "Python 3 (ipykernel)",
   "language": "python",
   "name": "python3"
  },
  "language_info": {
   "codemirror_mode": {
    "name": "ipython",
    "version": 3
   },
   "file_extension": ".py",
   "mimetype": "text/x-python",
   "name": "python",
   "nbconvert_exporter": "python",
   "pygments_lexer": "ipython3",
   "version": "3.10.9"
  }
 },
 "nbformat": 4,
 "nbformat_minor": 5
}
