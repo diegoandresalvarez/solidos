{
 "cells": [
  {
   "cell_type": "markdown",
   "metadata": {
    "id": "QBV18zDQNfet",
    "tags": []
   },
   "source": [
    "# 3.4. Especificación de la deformación en otras direcciones (2D)\n",
    "\n",
    "|Quién | Fecha | Qué hizo |\n",
    "| ---  | ---   | ---      |\n",
    "|Michael Heredia Pérez, <mherediap@unal.edu.co> | Julio 16, 2022 | Conversión de código de MAXIMA a Python |\n",
    "|Juan Nicolás Ramírez, <jnramirezg@unal.edu.co> | Septiembre 24, 2022 | Simplificando y adecuando código |\n",
    "|Michael Heredia Pérez, <mherediap@unal.edu.co> | Octubre 7, 2022 | Añadiendo sistemas matriciales |\n",
    "|Diego Andrés Alvarez Marín, <daalvarez@unal.edu.co> | Marzo 7, 2024 | Mejorando los comentarios |"
   ]
  },
  {
   "cell_type": "markdown",
   "metadata": {},
   "source": [
    "$$\n",
    "\\newcommand{\\ve}[1]{{\\vec{\\boldsymbol{#1}}}}\n",
    "\\newcommand{\\ma}[1]{{\\boldsymbol{#1}}}\n",
    "\\newcommand{\\hve}[1]{{\\,\\hat{\\!\\boldsymbol{#1}}}}\n",
    "\\newcommand{\\tr}{\\operatorname{tr}}\n",
    "$$"
   ]
  },
  {
   "cell_type": "code",
   "execution_count": 1,
   "metadata": {
    "id": "NDrDBmbjKu1s",
    "tags": []
   },
   "outputs": [],
   "source": [
    "from sympy import sin, cos, init_printing, latex, symbols, Matrix, trigsimp, expand, linear_eq_to_matrix, expand_trig\n",
    "\n",
    "# Para imprimir bonito\n",
    "init_printing()\n",
    "from IPython.display import Math                 \n",
    "def imprimir (texto1, variable, texto2=\"\"):\n",
    "    return Math(texto1 +  rf'{latex(variable)}' + texto2)"
   ]
  },
  {
   "cell_type": "markdown",
   "metadata": {
    "id": "jLBwiUAgNsoe"
   },
   "source": [
    "Se definen las variables simbólicas necesarias:\n"
   ]
  },
  {
   "cell_type": "code",
   "execution_count": 2,
   "metadata": {
    "id": "GlZJvLPQNsMQ",
    "tags": []
   },
   "outputs": [],
   "source": [
    "ex, ey, exy, t = symbols(\"varepsilon_x, varepsilon_y, varepsilon_xy, theta\")"
   ]
  },
  {
   "cell_type": "markdown",
   "metadata": {
    "id": "vOmVoKl-N2eu"
   },
   "source": [
    "Se especifica la matriz de transformación, $\\ma{T}$:"
   ]
  },
  {
   "cell_type": "code",
   "execution_count": 3,
   "metadata": {
    "colab": {
     "base_uri": "https://localhost:8080/",
     "height": 78
    },
    "id": "Wq_GAlH0NxAI",
    "outputId": "95545484-bd55-4e43-be9f-d014e8a0fdfd",
    "tags": []
   },
   "outputs": [
    {
     "data": {
      "text/latex": [
       "$\\displaystyle \\ma{T} = \\left[\\begin{matrix}\\cos{\\left(\\theta \\right)} & - \\sin{\\left(\\theta \\right)} & 0\\\\\\sin{\\left(\\theta \\right)} & \\cos{\\left(\\theta \\right)} & 0\\\\0 & 0 & 1\\end{matrix}\\right]$"
      ],
      "text/plain": [
       "<IPython.core.display.Math object>"
      ]
     },
     "execution_count": 3,
     "metadata": {},
     "output_type": "execute_result"
    }
   ],
   "source": [
    "T = Matrix([[cos(t), -sin(t),   0],\n",
    "            [sin(t),  cos(t),   0],\n",
    "            [     0,       0,   1]])\n",
    "imprimir(r\"\\ma{T} = \", T)"
   ]
  },
  {
   "cell_type": "markdown",
   "metadata": {
    "id": "_7OvPMpnO-S-"
   },
   "source": [
    "Se especifica la matriz de deformaciones $\\ma{\\varepsilon}$ definida con respecto a la base dada por $\\big\\{\\hve{i}, \\hve{j}, \\hve{k}\\big\\} = \\big\\{\\hve{e}_1, \\hve{e}_2, \\hve{e}_3\\big\\}$:"
   ]
  },
  {
   "cell_type": "code",
   "execution_count": 4,
   "metadata": {
    "colab": {
     "base_uri": "https://localhost:8080/",
     "height": 78
    },
    "id": "Wh58g7PeOdN4",
    "outputId": "78aa0e29-80cc-48eb-fc7e-81fb6da42ed5",
    "tags": []
   },
   "outputs": [
    {
     "data": {
      "text/latex": [
       "$\\displaystyle \\ma{\\varepsilon} = \\left[\\begin{matrix}\\varepsilon_{x} & \\varepsilon_{xy} & 0\\\\\\varepsilon_{xy} & \\varepsilon_{y} & 0\\\\0 & 0 & 0\\end{matrix}\\right]$"
      ],
      "text/plain": [
       "<IPython.core.display.Math object>"
      ]
     },
     "execution_count": 4,
     "metadata": {},
     "output_type": "execute_result"
    }
   ],
   "source": [
    "epsilon = Matrix([[ ex, exy,  0],\n",
    "                  [exy,  ey,  0],\n",
    "                  [  0,   0,  0]])\n",
    "\n",
    "imprimir(r\"\\ma{\\varepsilon} = \", epsilon)"
   ]
  },
  {
   "cell_type": "markdown",
   "metadata": {
    "id": "t_o8NAt1PYX2"
   },
   "source": [
    "Se calcula la matriz de deformaciones $\\ma{\\varepsilon}'$ definida con respecto a la base dada por $\\big\\{\\hve{e}_1, \\hve{e}_2, \\hve{e}_3\\big\\}$, utilizando la ecuación $$\\ma{\\varepsilon}' = \\ma{T}^T\\ma{\\varepsilon}\\ma{T}$$ así:"
   ]
  },
  {
   "cell_type": "code",
   "execution_count": 5,
   "metadata": {
    "colab": {
     "base_uri": "https://localhost:8080/",
     "height": 84
    },
    "id": "y79TKBoQPbR8",
    "outputId": "02d8f958-1039-44f2-db72-21d1864285b6",
    "tags": []
   },
   "outputs": [
    {
     "data": {
      "text/latex": [
       "$\\displaystyle \\ma{\\varepsilon}' = \\left[\\begin{matrix}\\frac{\\varepsilon_{x} \\cos{\\left(2 \\theta \\right)}}{2} + \\frac{\\varepsilon_{x}}{2} + \\varepsilon_{xy} \\sin{\\left(2 \\theta \\right)} - \\frac{\\varepsilon_{y} \\cos{\\left(2 \\theta \\right)}}{2} + \\frac{\\varepsilon_{y}}{2} & - \\frac{\\varepsilon_{x} \\sin{\\left(2 \\theta \\right)}}{2} + \\varepsilon_{xy} \\cos{\\left(2 \\theta \\right)} + \\frac{\\varepsilon_{y} \\sin{\\left(2 \\theta \\right)}}{2} & 0\\\\- \\frac{\\varepsilon_{x} \\sin{\\left(2 \\theta \\right)}}{2} + \\varepsilon_{xy} \\cos{\\left(2 \\theta \\right)} + \\frac{\\varepsilon_{y} \\sin{\\left(2 \\theta \\right)}}{2} & - \\frac{\\varepsilon_{x} \\cos{\\left(2 \\theta \\right)}}{2} + \\frac{\\varepsilon_{x}}{2} - \\varepsilon_{xy} \\sin{\\left(2 \\theta \\right)} + \\frac{\\varepsilon_{y} \\cos{\\left(2 \\theta \\right)}}{2} + \\frac{\\varepsilon_{y}}{2} & 0\\\\0 & 0 & 0\\end{matrix}\\right]$"
      ],
      "text/plain": [
       "<IPython.core.display.Math object>"
      ]
     },
     "execution_count": 5,
     "metadata": {},
     "output_type": "execute_result"
    }
   ],
   "source": [
    "epsilonP = trigsimp(T.T*epsilon*T)\n",
    "\n",
    "imprimir(r\"\\ma{\\varepsilon}' = \", epsilonP)"
   ]
  },
  {
   "cell_type": "markdown",
   "metadata": {
    "id": "k0v70LSxQOIn"
   },
   "source": [
    "Se extraen las expresiones de interés de la matriz $\\ma{\\varepsilon}'$:"
   ]
  },
  {
   "cell_type": "code",
   "execution_count": 6,
   "metadata": {},
   "outputs": [],
   "source": [
    "exp   = expand(epsilonP[0,0])\n",
    "eyp   = expand(epsilonP[1,1])\n",
    "expyp = expand(epsilonP[0,1])"
   ]
  },
  {
   "cell_type": "code",
   "execution_count": 7,
   "metadata": {
    "colab": {
     "base_uri": "https://localhost:8080/",
     "height": 53
    },
    "id": "-TcFblrkQLvA",
    "outputId": "a8ce1f0d-8eff-44f1-f639-453202135adb"
   },
   "outputs": [
    {
     "data": {
      "text/latex": [
       "$\\displaystyle \\varepsilon_{x'}(\\theta) = \\frac{\\varepsilon_{x} \\cos{\\left(2 \\theta \\right)}}{2} + \\frac{\\varepsilon_{x}}{2} + \\varepsilon_{xy} \\sin{\\left(2 \\theta \\right)} - \\frac{\\varepsilon_{y} \\cos{\\left(2 \\theta \\right)}}{2} + \\frac{\\varepsilon_{y}}{2}$"
      ],
      "text/plain": [
       "<IPython.core.display.Math object>"
      ]
     },
     "execution_count": 7,
     "metadata": {},
     "output_type": "execute_result"
    }
   ],
   "source": [
    "imprimir(r\"\\varepsilon_{x'}(\\theta) = \", exp)"
   ]
  },
  {
   "cell_type": "code",
   "execution_count": 8,
   "metadata": {
    "colab": {
     "base_uri": "https://localhost:8080/",
     "height": 53
    },
    "id": "A75YK-hPQscn",
    "outputId": "006afa42-2c1c-4ee5-f05e-d4f98915d253"
   },
   "outputs": [
    {
     "data": {
      "text/latex": [
       "$\\displaystyle \\varepsilon_{y'}(\\theta) = - \\frac{\\varepsilon_{x} \\cos{\\left(2 \\theta \\right)}}{2} + \\frac{\\varepsilon_{x}}{2} - \\varepsilon_{xy} \\sin{\\left(2 \\theta \\right)} + \\frac{\\varepsilon_{y} \\cos{\\left(2 \\theta \\right)}}{2} + \\frac{\\varepsilon_{y}}{2}$"
      ],
      "text/plain": [
       "<IPython.core.display.Math object>"
      ]
     },
     "execution_count": 8,
     "metadata": {},
     "output_type": "execute_result"
    }
   ],
   "source": [
    "imprimir(r\"\\varepsilon_{y'}(\\theta) = \", eyp)"
   ]
  },
  {
   "cell_type": "code",
   "execution_count": 9,
   "metadata": {
    "colab": {
     "base_uri": "https://localhost:8080/",
     "height": 53
    },
    "id": "Nn214j4cRHbo",
    "outputId": "077ca6bd-5854-48d3-96c8-93b253752eaa"
   },
   "outputs": [
    {
     "data": {
      "text/latex": [
       "$\\displaystyle \\varepsilon_{x'y'}(\\theta) = - \\frac{\\varepsilon_{x} \\sin{\\left(2 \\theta \\right)}}{2} + \\varepsilon_{xy} \\cos{\\left(2 \\theta \\right)} + \\frac{\\varepsilon_{y} \\sin{\\left(2 \\theta \\right)}}{2}$"
      ],
      "text/plain": [
       "<IPython.core.display.Math object>"
      ]
     },
     "execution_count": 9,
     "metadata": {},
     "output_type": "execute_result"
    }
   ],
   "source": [
    "imprimir(r\"\\varepsilon_{x'y'}(\\theta) = \", expyp)"
   ]
  },
  {
   "cell_type": "markdown",
   "metadata": {},
   "source": [
    "## Representación matricial\n",
    "\n",
    "### Deformaciones matemáticas\n",
    "\n",
    "Las ecuaciones obtenidas anteriormente, esto es $\\varepsilon_{x'}$, $\\varepsilon_{y'}$ y $\\varepsilon_{x'y'}$, definen las deformaciones longitudinales en los ejes $x'$, $y'$ y angulares en los planos $x'y'$, desde la perspectiva matemática. Estas se pueden reorganizar en un sistema matricial de la forma:\n",
    "\n",
    "$$\\begin{bmatrix}\n",
    "\\varepsilon_{x'} \\\\ \n",
    "\\varepsilon_{y'}\\\\ \n",
    "\\varepsilon_{x'y'} \n",
    "\\end{bmatrix} = \n",
    "\\ma{T}_{\\ma{\\sigma},2D} \n",
    "\\begin{bmatrix}\n",
    "\\varepsilon_{x} \\\\ \\varepsilon_{y}\\\\ \\varepsilon_{xy} \n",
    "\\end{bmatrix}$$"
   ]
  },
  {
   "cell_type": "code",
   "execution_count": 10,
   "metadata": {},
   "outputs": [
    {
     "data": {
      "text/latex": [
       "$\\displaystyle \\ma{T}_{\\ma{\\sigma},2D} = \\left[\\begin{matrix}\\frac{\\cos{\\left(2 \\theta \\right)}}{2} + \\frac{1}{2} & \\frac{1}{2} - \\frac{\\cos{\\left(2 \\theta \\right)}}{2} & \\sin{\\left(2 \\theta \\right)}\\\\\\frac{1}{2} - \\frac{\\cos{\\left(2 \\theta \\right)}}{2} & \\frac{\\cos{\\left(2 \\theta \\right)}}{2} + \\frac{1}{2} & - \\sin{\\left(2 \\theta \\right)}\\\\- \\frac{\\sin{\\left(2 \\theta \\right)}}{2} & \\frac{\\sin{\\left(2 \\theta \\right)}}{2} & \\cos{\\left(2 \\theta \\right)}\\end{matrix}\\right]$"
      ],
      "text/plain": [
       "<IPython.core.display.Math object>"
      ]
     },
     "execution_count": 10,
     "metadata": {},
     "output_type": "execute_result"
    }
   ],
   "source": [
    "Tsigma_2d = linear_eq_to_matrix([exp, eyp, expyp], (ex, ey, exy))[0]\n",
    "\n",
    "imprimir(r\"\\ma{T}_{\\ma{\\sigma},2D} = \", Tsigma_2d)"
   ]
  },
  {
   "cell_type": "markdown",
   "metadata": {},
   "source": [
    "Para que esta matriz de transformación conincida con la vista en clase, debemos aplicar simplificaciones a las relaciones trigonométricas de ángulos dobles con la función ```expand_trig()``` y simplificando trigonométricamente con la función ```trigsimp()```:"
   ]
  },
  {
   "cell_type": "code",
   "execution_count": 11,
   "metadata": {},
   "outputs": [
    {
     "data": {
      "text/latex": [
       "$\\displaystyle \\ma{T}_{\\ma{\\sigma},2D} = \\left[\\begin{matrix}\\cos^{2}{\\left(\\theta \\right)} & \\sin^{2}{\\left(\\theta \\right)} & 2 \\sin{\\left(\\theta \\right)} \\cos{\\left(\\theta \\right)}\\\\\\sin^{2}{\\left(\\theta \\right)} & \\cos^{2}{\\left(\\theta \\right)} & - 2 \\sin{\\left(\\theta \\right)} \\cos{\\left(\\theta \\right)}\\\\- \\sin{\\left(\\theta \\right)} \\cos{\\left(\\theta \\right)} & \\sin{\\left(\\theta \\right)} \\cos{\\left(\\theta \\right)} & 2 \\cos^{2}{\\left(\\theta \\right)} - 1\\end{matrix}\\right]$"
      ],
      "text/plain": [
       "<IPython.core.display.Math object>"
      ]
     },
     "execution_count": 11,
     "metadata": {},
     "output_type": "execute_result"
    }
   ],
   "source": [
    "Tsigma_2d = expand_trig(trigsimp(Tsigma_2d))\n",
    "imprimir(r\"\\ma{T}_{\\ma{\\sigma},2D} = \", Tsigma_2d)"
   ]
  },
  {
   "cell_type": "markdown",
   "metadata": {},
   "source": [
    "Sabiendo que\n",
    "\n",
    "$$2\\text{cos}^2\\theta-1 = \\text{cos}^2\\theta-\\text{sin}^2\\theta$$\n",
    "\n",
    "### Deformaciones ingenieriles\n",
    "\n",
    "Recordando la relación que existe entre las deformaciones matemáticas $\\varepsilon_{xy}$ e ingenieriles $\\gamma_{xy}$\n",
    "\n",
    "$$\\varepsilon_{xy} = \\frac{1}{2}\\gamma_{xy}$$\n",
    "\n",
    "procedemos a calcular el siguiente sistema matricial:\n",
    "\n",
    "$$\n",
    "\\begin{bmatrix}\n",
    "\\varepsilon_{x'} \\\\ \n",
    "\\varepsilon_{y'}\\\\ \n",
    "\\gamma_{x'y'} \n",
    "\\end{bmatrix} = \n",
    "\\ma{T}_{\\ma{\\varepsilon},2D} \n",
    "\\begin{bmatrix}\n",
    "\\varepsilon_{x} \\\\ \\varepsilon_{y}\\\\ \\gamma_{xy} \n",
    "\\end{bmatrix}.\n",
    "$$\n",
    "\n",
    "Para ello, definimos simbólicamente a $\\gamma_{xy}$ y aplicamos el método ```.subs()``` para reemplazar la igualdad anterior."
   ]
  },
  {
   "cell_type": "code",
   "execution_count": 12,
   "metadata": {},
   "outputs": [],
   "source": [
    "gxy = symbols(\"gamma_xy\")\n",
    "\n",
    "# i de deformaciones ingenieriles\n",
    "exp_i =     exp.subs(exy, gxy/2)\n",
    "eyp_i =     eyp.subs(exy, gxy/2)\n",
    "gxpyp = 2*expyp.subs(exy, gxy/2)"
   ]
  },
  {
   "cell_type": "code",
   "execution_count": 13,
   "metadata": {},
   "outputs": [
    {
     "data": {
      "text/latex": [
       "$\\displaystyle \\varepsilon_{x'}(\\theta) = \\frac{\\gamma_{xy} \\sin{\\left(2 \\theta \\right)}}{2} + \\frac{\\varepsilon_{x} \\cos{\\left(2 \\theta \\right)}}{2} + \\frac{\\varepsilon_{x}}{2} - \\frac{\\varepsilon_{y} \\cos{\\left(2 \\theta \\right)}}{2} + \\frac{\\varepsilon_{y}}{2}$"
      ],
      "text/plain": [
       "<IPython.core.display.Math object>"
      ]
     },
     "execution_count": 13,
     "metadata": {},
     "output_type": "execute_result"
    }
   ],
   "source": [
    "imprimir(r\"\\varepsilon_{x'}(\\theta) = \", exp_i)"
   ]
  },
  {
   "cell_type": "code",
   "execution_count": 14,
   "metadata": {},
   "outputs": [
    {
     "data": {
      "text/latex": [
       "$\\displaystyle \\varepsilon_{y'}(\\theta) = - \\frac{\\gamma_{xy} \\sin{\\left(2 \\theta \\right)}}{2} - \\frac{\\varepsilon_{x} \\cos{\\left(2 \\theta \\right)}}{2} + \\frac{\\varepsilon_{x}}{2} + \\frac{\\varepsilon_{y} \\cos{\\left(2 \\theta \\right)}}{2} + \\frac{\\varepsilon_{y}}{2}$"
      ],
      "text/plain": [
       "<IPython.core.display.Math object>"
      ]
     },
     "execution_count": 14,
     "metadata": {},
     "output_type": "execute_result"
    }
   ],
   "source": [
    "imprimir(r\"\\varepsilon_{y'}(\\theta) = \", eyp_i)"
   ]
  },
  {
   "cell_type": "code",
   "execution_count": 15,
   "metadata": {},
   "outputs": [
    {
     "data": {
      "text/latex": [
       "$\\displaystyle \\gamma_{x'y'}(\\theta) = \\gamma_{xy} \\cos{\\left(2 \\theta \\right)} - \\varepsilon_{x} \\sin{\\left(2 \\theta \\right)} + \\varepsilon_{y} \\sin{\\left(2 \\theta \\right)}$"
      ],
      "text/plain": [
       "<IPython.core.display.Math object>"
      ]
     },
     "execution_count": 15,
     "metadata": {},
     "output_type": "execute_result"
    }
   ],
   "source": [
    "imprimir(r\"\\gamma_{x'y'}(\\theta) = \", gxpyp)"
   ]
  },
  {
   "cell_type": "code",
   "execution_count": 16,
   "metadata": {},
   "outputs": [
    {
     "data": {
      "text/latex": [
       "$\\displaystyle \\boldsymbol{T_{\\underline{\\underline{\\varepsilon}},2D}} = \\left[\\begin{matrix}\\cos^{2}{\\left(\\theta \\right)} & \\sin^{2}{\\left(\\theta \\right)} & \\sin{\\left(\\theta \\right)} \\cos{\\left(\\theta \\right)}\\\\\\sin^{2}{\\left(\\theta \\right)} & \\cos^{2}{\\left(\\theta \\right)} & - \\sin{\\left(\\theta \\right)} \\cos{\\left(\\theta \\right)}\\\\- 2 \\sin{\\left(\\theta \\right)} \\cos{\\left(\\theta \\right)} & 2 \\sin{\\left(\\theta \\right)} \\cos{\\left(\\theta \\right)} & 2 \\cos^{2}{\\left(\\theta \\right)} - 1\\end{matrix}\\right]$"
      ],
      "text/plain": [
       "<IPython.core.display.Math object>"
      ]
     },
     "execution_count": 16,
     "metadata": {},
     "output_type": "execute_result"
    }
   ],
   "source": [
    "# Buscamos el sistema matricial.\n",
    "Tepsilon_2d = linear_eq_to_matrix([exp_i, eyp_i, gxpyp], (ex, ey, gxy))[0]\n",
    "\n",
    "# Simplificamos las expresiones algebŕaicas como en el caso anterior\n",
    "Tepsilon_2d = expand_trig(trigsimp(Tepsilon_2d))\n",
    "imprimir(r\"\\boldsymbol{T_{\\underline{\\underline{\\varepsilon}},2D}} = \", Tepsilon_2d)"
   ]
  },
  {
   "cell_type": "markdown",
   "metadata": {},
   "source": [
    "Sabiendo que\n",
    "\n",
    "$$\\cos 2\\theta = 2\\text{cos}^2\\theta-1 = \\text{cos}^2\\theta-\\text{sin}^2\\theta$$"
   ]
  },
  {
   "cell_type": "markdown",
   "metadata": {},
   "source": [
    "### Identidades\n",
    "\n",
    "Verifiquemos que $\\ma{T}_{\\ma{\\sigma},2D}^{-1} = \\ma{T}_{\\ma{\\varepsilon},2D}^T$:"
   ]
  },
  {
   "cell_type": "code",
   "execution_count": 17,
   "metadata": {},
   "outputs": [
    {
     "data": {
      "image/png": "[encoded data removed]",
      "text/latex": [
       "$\\displaystyle \\left[\\begin{matrix}0 & 0 & 0\\\\0 & 0 & 0\\\\0 & 0 & 0\\end{matrix}\\right]$"
      ],
      "text/plain": [
       "⎡0  0  0⎤\n",
       "⎢       ⎥\n",
       "⎢0  0  0⎥\n",
       "⎢       ⎥\n",
       "⎣0  0  0⎦"
      ]
     },
     "execution_count": 17,
     "metadata": {},
     "output_type": "execute_result"
    }
   ],
   "source": [
    "trigsimp(Tsigma_2d**-1 - Tepsilon_2d.T)"
   ]
  },
  {
   "cell_type": "markdown",
   "metadata": {},
   "source": [
    "Verifiquemos que $\\ma{T}_{\\ma{\\varepsilon},2D}^{-1} = \\ma{T}_{\\ma{\\sigma},2D}^T$:"
   ]
  },
  {
   "cell_type": "code",
   "execution_count": 18,
   "metadata": {
    "tags": []
   },
   "outputs": [
    {
     "data": {
      "image/png": "[encoded data removed]",
      "text/latex": [
       "$\\displaystyle \\left[\\begin{matrix}0 & 0 & 0\\\\0 & 0 & 0\\\\0 & 0 & 0\\end{matrix}\\right]$"
      ],
      "text/plain": [
       "⎡0  0  0⎤\n",
       "⎢       ⎥\n",
       "⎢0  0  0⎥\n",
       "⎢       ⎥\n",
       "⎣0  0  0⎦"
      ]
     },
     "execution_count": 18,
     "metadata": {},
     "output_type": "execute_result"
    }
   ],
   "source": [
    "trigsimp(Tepsilon_2d.inv() - Tsigma_2d.T)  #M.inv() es lo mismo que M**-1"
   ]
  },
  {
   "cell_type": "code",
   "execution_count": null,
   "metadata": {},
   "outputs": [],
   "source": []
  }
 ],
 "metadata": {
  "colab": {
   "authorship_tag": "ABX9TyPZmqM6ghZQX3PZ6huUCQ9o",
   "include_colab_link": true,
   "name": "03_04.ipynb",
   "provenance": []
  },
  "kernelspec": {
   "display_name": "Python 3 (ipykernel)",
   "language": "python",
   "name": "python3"
  },
  "language_info": {
   "codemirror_mode": {
    "name": "ipython",
    "version": 3
   },
   "file_extension": ".py",
   "mimetype": "text/x-python",
   "name": "python",
   "nbconvert_exporter": "python",
   "pygments_lexer": "ipython3",
   "version": "3.11.5"
  },
  "vscode": {
   "interpreter": {
    "hash": "916dbcbb3f70747c44a77c7bcd40155683ae19c65e1c03b4aa3499c5328201f1"
   }
  }
 },
 "nbformat": 4,
 "nbformat_minor": 4
}
