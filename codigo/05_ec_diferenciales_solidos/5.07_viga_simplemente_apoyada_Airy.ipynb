{
 "cells": [
  {
   "cell_type": "markdown",
   "id": "38304fe9",
   "metadata": {},
   "source": [
    "# 5.7. Ejemplo 5.4. Análisis viga simplemente apoyada con Airy\n",
    "\n",
    "## Cálculo de los esfuerzos, deformaciones y desplazamientos en una viga utilizando la función de tensión de Airy"
   ]
  },
  {
   "cell_type": "markdown",
   "id": "4ab6e05f-7175-4fae-b22a-209926c40243",
   "metadata": {},
   "source": [
    "$$\n",
    "\\newcommand{\\ve}[1]{{\\vec{\\boldsymbol{#1}}}}\n",
    "\\newcommand{\\ma}[1]{{\\boldsymbol{#1}}}\n",
    "\\newcommand{\\hve}[1]{{\\,\\hat{\\!\\boldsymbol{#1}}}}\n",
    "\\newcommand{\\tr}{\\operatorname{tr}}\n",
    "\\newcommand{\\dd}{\\operatorname{d} \\!}\n",
    "$$"
   ]
  },
  {
   "cell_type": "markdown",
   "id": "19f37134",
   "metadata": {},
   "source": [
    "|Quién | Correo | Fecha | Qué hizo |\n",
    "| ---  | ---    | ---   | ---      |\n",
    "|Juan Nicolás Ramírez Giraldo | <jnramirezg@unal.edu.co> | Noviembre 22, 2022 | Conversión de código de MAXIMA a Python  |\n",
    "|Diego Andrés Alvarez Marín |   <daalvarez@unal.edu.co>  | Marzo 29, 2023 | Comentarios varios                       |\n",
    "|Diego Andrés Alvarez Marín |   <daalvarez@unal.edu.co>  | Enero 17, 2025 | Comentarios varios y mejorando el código |"
   ]
  },
  {
   "cell_type": "markdown",
   "id": "cdebc040-c274-4a98-840c-15f526dd718b",
   "metadata": {},
   "source": [
    "Calcule los esfuerzos, deformaciones y desplazamientos de la viga mostrada:"
   ]
  },
  {
   "attachments": {
    "a9b15585-6de1-4102-a3da-4d32ec35d96a.png": {
     "image/png": "[encoded data removed]"
    }
   },
   "cell_type": "markdown",
   "id": "1d3d6d24",
   "metadata": {},
   "source": [
    "![image.png](attachment:a9b15585-6de1-4102-a3da-4d32ec35d96a.png)"
   ]
  },
  {
   "cell_type": "markdown",
   "id": "8338d7f1",
   "metadata": {},
   "source": [
    "Importamos las librerias y funciones necesarias:"
   ]
  },
  {
   "cell_type": "code",
   "execution_count": 1,
   "id": "aa9cb753",
   "metadata": {},
   "outputs": [],
   "source": [
    "from sympy import symbols, diff, integrate, solve, factor, expand, collect, Rational, Add\n",
    "import sympy as sp\n",
    "\n",
    "# Para imprimir bonito\n",
    "sp.init_printing()\n",
    "from IPython.display import Math                 \n",
    "def imprimir (texto1, variable, texto2=\"\"):\n",
    "    return Math(texto1 +  rf'{sp.latex(variable)}' + texto2)"
   ]
  },
  {
   "cell_type": "markdown",
   "id": "8c0e18ea",
   "metadata": {},
   "source": [
    "Creamos las variables simbólicas:"
   ]
  },
  {
   "cell_type": "code",
   "execution_count": 2,
   "id": "2f310160",
   "metadata": {},
   "outputs": [],
   "source": [
    "A20, A21, A03, A23 = symbols(\"A20, A21, A03, A23\")  # Constantes de la función de tensión de Airy\n",
    "x, y, z    = symbols(\"x, y, z\")                     # Coordenadas\n",
    "K2         = symbols(\"K_2\")                         # Constante de la ecuación biarmónica de Airy\n",
    "c, L, q    = symbols(\"c, L, q\")                     # Propiedades de la viga\n",
    "E, nu      = symbols(\"E, nu\")                       # Propiedades del material\n",
    "u0, v0, w0 = symbols(\"u0, v0, omega_0\")             # Constante de integración"
   ]
  },
  {
   "cell_type": "code",
   "execution_count": 3,
   "id": "0477000f",
   "metadata": {},
   "outputs": [],
   "source": [
    "t = 1  # [m]: espesor\n",
    "V = 0  # función potencial nula, ya que no se considerarán las fuerzas másicas"
   ]
  },
  {
   "cell_type": "markdown",
   "id": "78aaa19c",
   "metadata": {},
   "source": [
    "Proponemos la función de tensión de Airy:"
   ]
  },
  {
   "cell_type": "code",
   "execution_count": 4,
   "id": "b9be0873",
   "metadata": {},
   "outputs": [
    {
     "data": {
      "text/latex": [
       "$\\displaystyle \\phi(x,y) = A_{03} y^{3} + A_{20} x^{2} + A_{21} x^{2} y + A_{23} x^{2} y^{3} - \\frac{A_{23} y^{5}}{5}$"
      ],
      "text/plain": [
       "<IPython.core.display.Math object>"
      ]
     },
     "execution_count": 4,
     "metadata": {},
     "output_type": "execute_result"
    }
   ],
   "source": [
    "phi = A20*x**2 + A21*x**2*y + A03*y**3 + A23*x**2*y**3 - A23*y**5/5\n",
    "\n",
    "imprimir(r\"\\phi(x,y) = \", phi)"
   ]
  },
  {
   "cell_type": "markdown",
   "id": "dc5345f9",
   "metadata": {},
   "source": [
    "Definimos el laplaciano $\\nabla^2 f := \\frac{\\partial^2 f}{\\partial x^2} +  \\frac{\\partial^2 f}{\\partial y^2}$ y el biarmónico $\\nabla^4 f := \\nabla^2 \\left(\\nabla^2 f\\right)$ de una función $f$:"
   ]
  },
  {
   "cell_type": "code",
   "execution_count": 5,
   "id": "892baabd",
   "metadata": {},
   "outputs": [],
   "source": [
    "lapl = lambda f : diff(f,x,2) + diff(f,y,2)\n",
    "biar = lambda f : lapl(lapl(f))"
   ]
  },
  {
   "cell_type": "markdown",
   "id": "64c06e56",
   "metadata": {},
   "source": [
    "Verificamos que se satisfaga la ecuación $\\nabla^4\\phi=K_2\\nabla^2V$"
   ]
  },
  {
   "cell_type": "code",
   "execution_count": 6,
   "id": "f4ba1664",
   "metadata": {},
   "outputs": [
    {
     "name": "stdout",
     "output_type": "stream",
     "text": [
      "La ecuación biarmónica se satisface.\n"
     ]
    }
   ],
   "source": [
    "if biar(phi) - K2*lapl(V) == 0:\n",
    "    print(\"La ecuación biarmónica se satisface.\")\n",
    "else:\n",
    "    raise Exception(\"La ecuación biarmónica no se satisface.\")"
   ]
  },
  {
   "cell_type": "markdown",
   "id": "bfa2d102-5ff6-4981-9b4d-d802aefbf908",
   "metadata": {},
   "source": [
    "# Cálculo de los esfuerzos"
   ]
  },
  {
   "cell_type": "markdown",
   "id": "f1d1ea2b",
   "metadata": {},
   "source": [
    "Definimos los esfuerzos utilizando la función de tensión de Airy:\n",
    "\\begin{align}\n",
    "\\sigma_x(x,y)  &= \\frac{\\partial^2 \\phi(x,y)}{\\partial y^2} + V(x,y) \\\\\n",
    "\\sigma_y(x,y)  &= \\frac{\\partial^2 \\phi(x,y)}{\\partial x^2} + V(x,y) \\\\\n",
    "\\tau_{xy}(x,y) &=-\\frac{\\partial^2 \\phi(x,y)}{\\partial x \\partial y}\n",
    "\\end{align}"
   ]
  },
  {
   "cell_type": "code",
   "execution_count": 7,
   "id": "3c11bc7e",
   "metadata": {},
   "outputs": [],
   "source": [
    "sx  =  diff(phi, y,2) + V\n",
    "sy  =  diff(phi, x,2) + V\n",
    "txy = -diff(phi, x,1, y,1)"
   ]
  },
  {
   "cell_type": "code",
   "execution_count": 8,
   "id": "a1a3c439-0a0b-44ca-9858-e41979789c9f",
   "metadata": {},
   "outputs": [
    {
     "data": {
      "text/latex": [
       "$\\displaystyle \\sigma_x(x,y) = 2 y \\left(3 A_{03} + 3 A_{23} x^{2} - 2 A_{23} y^{2}\\right)$"
      ],
      "text/plain": [
       "<IPython.core.display.Math object>"
      ]
     },
     "execution_count": 8,
     "metadata": {},
     "output_type": "execute_result"
    }
   ],
   "source": [
    "imprimir(r\"\\sigma_x(x,y) = \", sx)"
   ]
  },
  {
   "cell_type": "code",
   "execution_count": 9,
   "id": "daa30e25-1864-4e0e-8f19-702bd7036936",
   "metadata": {},
   "outputs": [
    {
     "data": {
      "text/latex": [
       "$\\displaystyle \\sigma_y(x,y) = 2 \\left(A_{20} + A_{21} y + A_{23} y^{3}\\right)$"
      ],
      "text/plain": [
       "<IPython.core.display.Math object>"
      ]
     },
     "execution_count": 9,
     "metadata": {},
     "output_type": "execute_result"
    }
   ],
   "source": [
    "imprimir(r\"\\sigma_y(x,y) = \", sy)"
   ]
  },
  {
   "cell_type": "code",
   "execution_count": 10,
   "id": "89d5bf64-6d8c-448d-b846-d0f16d816f14",
   "metadata": {},
   "outputs": [
    {
     "data": {
      "text/latex": [
       "$\\displaystyle \\tau_{xy}(x,y) = - 2 x \\left(A_{21} + 3 A_{23} y^{2}\\right)$"
      ],
      "text/plain": [
       "<IPython.core.display.Math object>"
      ]
     },
     "execution_count": 10,
     "metadata": {},
     "output_type": "execute_result"
    }
   ],
   "source": [
    "imprimir(r\"\\tau_{xy}(x,y) = \", txy)"
   ]
  },
  {
   "cell_type": "markdown",
   "id": "0074f18c",
   "metadata": {
    "tags": []
   },
   "source": [
    "Definimos la fuerza cortante, el momento flector y la fuerza axial:\n",
    "$$\n",
    "\\begin{align}\n",
    "V(x)         &= -\\int_{-c}^{c}\\int_{0}^{t}{\\tau_{xy}(x,y,z)}\\dd z \\dd y \\\\\n",
    "M(x)         &= -\\int_{-c}^{c}\\int_{0}^{t}{y\\sigma_x(x,y,z)}\\dd z \\dd y \\\\\n",
    "f_{\\text{axial}}(x) &= \\phantom{-}\\int_{-c}^{c}\\int_{0}^{t}{\\sigma_x(x,y,z)} \\dd z \\dd y = 0\n",
    "\\end{align}\n",
    "$$"
   ]
  },
  {
   "cell_type": "code",
   "execution_count": 11,
   "id": "71d1e1bc",
   "metadata": {},
   "outputs": [],
   "source": [
    "V   = lambda xx : -integrate(txy.subs(x,xx),   (z,0,t), (y,-c,c))\n",
    "M   = lambda xx : -integrate( sx.subs(x,xx)*y, (z,0,t), (y,-c,c))\n",
    "fax =              integrate( sx,              (z,0,t), (y,-c,c))"
   ]
  },
  {
   "cell_type": "markdown",
   "id": "14507dfc",
   "metadata": {
    "tags": []
   },
   "source": [
    "Establecemos las condiciones de frontera sobre los esfuerzos:\n",
    "\\begin{align*}\n",
    " \\tau_{xy}(x,y=+c,z) &= 0           &&\\text{($\\tau_{xy} = 0$ en el borde superior de la viga)}\\\\\n",
    " \\tau_{xy}(x,y=-c,z) &= 0           &&\\text{($\\tau_{xy} = 0$ en el borde inferior de la viga)}\\\\ \n",
    " \\sigma_y(x,y=+c,z)  &= \\frac{q}{t} &&\\text{(el borde superior soporta la carga distribuida)} \\\\\n",
    " \\sigma_y(x,y=-c,z)  &= 0           &&\\text{(el borde inferior no soporta cargas)} \n",
    "\\end{align*}"
   ]
  },
  {
   "cell_type": "code",
   "execution_count": 12,
   "id": "a6685ff4-d4f4-4185-bd1d-82caa03ce02c",
   "metadata": {
    "tags": []
   },
   "outputs": [],
   "source": [
    "e1 = txy.subs(y, +c) - 0    # = 0\n",
    "e2 = txy.subs(y, -c) - 0    # = 0\n",
    "e3 =  sy.subs(y, +c) - q/t  # = 0\n",
    "e4 =  sy.subs(y, -c) - 0    # = 0"
   ]
  },
  {
   "cell_type": "markdown",
   "id": "5e2c0447-b884-4396-b23f-eb9f607416a2",
   "metadata": {},
   "source": [
    "Establecemos unas condiciones de frontera con respecto a las fuerzas cortantes, los momentos flectores y las fuerzas axiales.\n",
    "\n",
    "La fuerza cortante y el momento flector en los extremos de la viga están dados por:\n",
    "\\begin{align}\n",
    " V(-L)        &= -q L \\\\ \n",
    " V(+L)        &= +q L \\\\ \n",
    " M(-L)        &= 0 \\\\\n",
    " M(+L)        &= 0   \n",
    " \\end{align} \n",
    "mientras que la fuerza axial para todo $x\\in[-L,L]$ es\n",
    "\\begin{equation}\n",
    " f_\\text{axial}(x) = 0.\n",
    "\\end{equation}"
   ]
  },
  {
   "cell_type": "code",
   "execution_count": 13,
   "id": "ea98ad3e-be44-499b-8a7c-14df6efa6803",
   "metadata": {},
   "outputs": [],
   "source": [
    "e5 = V(-L) - (-q*L)         # = 0\n",
    "e6 = V(+L) - (+q*L)         # = 0\n",
    "e7 = M(-L) - 0              # = 0\n",
    "e8 = M(+L) - 0              # = 0\n",
    "e9 = fax   - 0              # = 0 para todo x en [−L, L]"
   ]
  },
  {
   "cell_type": "markdown",
   "id": "ecb90e53",
   "metadata": {},
   "source": [
    "Utilizando las ecuaciones `e1` a `e9` encontramos las constantes `A20`, `A21`, `A03` y `A23`, y las imprimimos:"
   ]
  },
  {
   "cell_type": "code",
   "execution_count": 14,
   "id": "ba7f058f",
   "metadata": {},
   "outputs": [
    {
     "data": {
      "image/png": "[encoded data removed]",
      "text/latex": [
       "$\\displaystyle \\left\\{ A_{03} : \\frac{5 L^{2} q - 2 c^{2} q}{40 c^{3}}, \\  A_{20} : \\frac{q}{4}, \\  A_{21} : \\frac{3 q}{8 c}, \\  A_{23} : - \\frac{q}{8 c^{3}}\\right\\}$"
      ],
      "text/plain": [
       "⎧        2        2                               ⎫\n",
       "⎪     5⋅L ⋅q - 2⋅c ⋅q       q       3⋅q       -q  ⎪\n",
       "⎨A₀₃: ───────────────, A₂₀: ─, A₂₁: ───, A₂₃: ────⎬\n",
       "⎪              3            4       8⋅c          3⎪\n",
       "⎩          40⋅c                               8⋅c ⎭"
      ]
     },
     "execution_count": 14,
     "metadata": {},
     "output_type": "execute_result"
    }
   ],
   "source": [
    "A20210323 = solve([e1,e2,e3,e4,e5,e6,e7,e8,e9], [A20,A21,A03,A23])\n",
    "\n",
    "A20210323"
   ]
  },
  {
   "cell_type": "markdown",
   "id": "fbacfe1d",
   "metadata": {},
   "source": [
    "Reemplazamos `A20`, `A21`, `A03` y `A23` en los esfuerzos `sx`, `sy` y `txy`:"
   ]
  },
  {
   "cell_type": "code",
   "execution_count": 15,
   "id": "92f7a2c5-1ee5-4c47-9919-21aa27a7731f",
   "metadata": {},
   "outputs": [],
   "source": [
    "sx  = factor( sx.subs(A20210323))\n",
    "sy  = factor( sy.subs(A20210323))\n",
    "txy = factor(txy.subs(A20210323))"
   ]
  },
  {
   "cell_type": "markdown",
   "id": "dcf050a0-4669-428d-8ab5-4ad989ccdb89",
   "metadata": {},
   "source": [
    "Y los imprimimos:"
   ]
  },
  {
   "cell_type": "code",
   "execution_count": 16,
   "id": "137bebb7-1fc2-49ae-8eb0-394a568d2311",
   "metadata": {},
   "outputs": [
    {
     "data": {
      "text/latex": [
       "$\\displaystyle \\sigma_x(x,y) = - \\frac{q y \\left(- 15 L^{2} + 6 c^{2} + 15 x^{2} - 10 y^{2}\\right)}{20 c^{3}}$"
      ],
      "text/plain": [
       "<IPython.core.display.Math object>"
      ]
     },
     "execution_count": 16,
     "metadata": {},
     "output_type": "execute_result"
    }
   ],
   "source": [
    "imprimir(r\"\\sigma_x(x,y) = \", sx)"
   ]
  },
  {
   "cell_type": "code",
   "execution_count": 17,
   "id": "0db236c4",
   "metadata": {},
   "outputs": [
    {
     "data": {
      "text/latex": [
       "$\\displaystyle \\sigma_y(x,y) = - \\frac{q \\left(- 2 c + y\\right) \\left(c + y\\right)^{2}}{4 c^{3}}$"
      ],
      "text/plain": [
       "<IPython.core.display.Math object>"
      ]
     },
     "execution_count": 17,
     "metadata": {},
     "output_type": "execute_result"
    }
   ],
   "source": [
    "imprimir(r\"\\sigma_y(x,y) = \", sy)"
   ]
  },
  {
   "cell_type": "code",
   "execution_count": 18,
   "id": "dc67c344",
   "metadata": {},
   "outputs": [
    {
     "data": {
      "text/latex": [
       "$\\displaystyle \\tau_{xy}(x,y) = \\frac{3 q x \\left(- c + y\\right) \\left(c + y\\right)}{4 c^{3}}$"
      ],
      "text/plain": [
       "<IPython.core.display.Math object>"
      ]
     },
     "execution_count": 18,
     "metadata": {},
     "output_type": "execute_result"
    }
   ],
   "source": [
    "imprimir(r\"\\tau_{xy}(x,y) = \", txy)"
   ]
  },
  {
   "cell_type": "markdown",
   "id": "51b34434",
   "metadata": {},
   "source": [
    "Se compara la solución obtenida con las ecuaciones (4.45):\n",
    "\\begin{align}\n",
    "\\sigma_x(x,y,z)  &= -\\frac{q}{2I}\\left(x^2 y -  \\frac{2}{3}y^3 + \\frac{2}{5}c^2 y - L^2 y\\right)\\\\\n",
    "\\sigma_y(x,y,z)  &= -\\frac{q}{2I}\\left(\\frac{1}{3} y^3 - c^2 y - \\frac{2}{3} c^3 \\right)\\\\\n",
    "\\sigma_z(x,y,z)  &= 0 \\\\\n",
    "\\tau_{xy}(x,y,z) &= -\\frac{q}{2I}\\left(c^2-y^2\\right)x \\\\\n",
    "\\tau_{xz}(x,y,z) &= 0 \\\\\n",
    "\\tau_{yz}(x,y,z) &= 0.\n",
    "\\end{align}"
   ]
  },
  {
   "cell_type": "code",
   "execution_count": 19,
   "id": "449f7a2b",
   "metadata": {},
   "outputs": [],
   "source": [
    "I = Ib = 2*t*c**3/3\n",
    "sx2  = -(q/(2*I))*(x**2*y - 2*y**3/3 + 2*c**2*y/5 - L**2*y)\n",
    "sy2  = -(q/(2*I))*(y**3/3 - c**2*y - 2*c**3/3)\n",
    "txy2 = -(q/(2*I))*(c**2 - y**2)*x"
   ]
  },
  {
   "cell_type": "markdown",
   "id": "6d729a8c",
   "metadata": {},
   "source": [
    "El resultado de la siguiente línea es `[0, 0, 0]`. lo que nos dice que ambos conjuntos de ecuaciones son iguales:"
   ]
  },
  {
   "cell_type": "code",
   "execution_count": 20,
   "id": "1b9dceec",
   "metadata": {},
   "outputs": [
    {
     "data": {
      "image/png": "[encoded data removed]",
      "text/latex": [
       "$\\displaystyle \\left[ 0, \\  0, \\  0\\right]$"
      ],
      "text/plain": [
       "[0, 0, 0]"
      ]
     },
     "execution_count": 20,
     "metadata": {},
     "output_type": "execute_result"
    }
   ],
   "source": [
    "factor([sx-sx2, sy-sy2, txy-txy2])"
   ]
  },
  {
   "cell_type": "markdown",
   "id": "da56b78f-f0dc-49d4-876b-acab6a140728",
   "metadata": {},
   "source": [
    "# Cálculo de las deformaciones"
   ]
  },
  {
   "cell_type": "markdown",
   "id": "3b2abb40",
   "metadata": {},
   "source": [
    "Definimos el módulo de rigidez:\n",
    "\\begin{equation}\n",
    "G = \\frac{E}{2(1 + \\nu)}\n",
    "\\end{equation}"
   ]
  },
  {
   "cell_type": "code",
   "execution_count": 21,
   "id": "7d36741c",
   "metadata": {},
   "outputs": [],
   "source": [
    "G = E/(2*(1+nu))"
   ]
  },
  {
   "cell_type": "markdown",
   "id": "c69ab17b",
   "metadata": {},
   "source": [
    "Usamos las ecuaciones de ley de Hooke de tensión plana para materiales isótropos para calcular las deformaciones:\n",
    "\\begin{align*}\n",
    "   \\varepsilon_x & = \\frac{1}{E} \\left(\\sigma_x - \\nu\\sigma_y\\right)& \\gamma_{xy} & = \\frac{1}{G}\\,\\tau_{xy}\\\\\n",
    "   \\varepsilon_y & = \\frac{1}{E} \\left(\\sigma_y - \\nu\\sigma_x\\right)& \\gamma_{yz} & = 0 \\\\\n",
    "   \\varepsilon_z & = -\\frac{\\nu}{E} \\left(\\sigma_x + \\sigma_y \\right)  & \\gamma_{xz} & = 0\n",
    "\\end{align*}"
   ]
  },
  {
   "cell_type": "code",
   "execution_count": 22,
   "id": "ee7286d0-5399-4f2f-b4ab-1745caba6bd3",
   "metadata": {},
   "outputs": [],
   "source": [
    "ex  = factor((1/E)*(sx - nu*sy))\n",
    "ey  = factor((1/E)*(sy - nu*sx))\n",
    "gxy = factor((1/G)*txy)"
   ]
  },
  {
   "cell_type": "code",
   "execution_count": 23,
   "id": "47a1fd87-4cde-48e4-93b4-1be6e3787f2f",
   "metadata": {},
   "outputs": [
    {
     "data": {
      "text/latex": [
       "$\\displaystyle \\varepsilon_x(x,y) = - \\frac{q \\left(- 15 L^{2} y + 10 c^{3} \\nu + 15 c^{2} \\nu y + 6 c^{2} y - 5 \\nu y^{3} + 15 x^{2} y - 10 y^{3}\\right)}{20 E c^{3}}$"
      ],
      "text/plain": [
       "<IPython.core.display.Math object>"
      ]
     },
     "execution_count": 23,
     "metadata": {},
     "output_type": "execute_result"
    }
   ],
   "source": [
    "imprimir(r\"\\varepsilon_x(x,y) = \", ex)"
   ]
  },
  {
   "cell_type": "code",
   "execution_count": 24,
   "id": "eb3598ad",
   "metadata": {
    "tags": []
   },
   "outputs": [
    {
     "data": {
      "text/latex": [
       "$\\displaystyle \\varepsilon_y(x,y) = \\frac{q \\left(- 15 L^{2} \\nu y + 10 c^{3} + 6 c^{2} \\nu y + 15 c^{2} y + 15 \\nu x^{2} y - 10 \\nu y^{3} - 5 y^{3}\\right)}{20 E c^{3}}$"
      ],
      "text/plain": [
       "<IPython.core.display.Math object>"
      ]
     },
     "execution_count": 24,
     "metadata": {},
     "output_type": "execute_result"
    }
   ],
   "source": [
    "imprimir(r\"\\varepsilon_y(x,y) = \", ey)"
   ]
  },
  {
   "cell_type": "code",
   "execution_count": 25,
   "id": "04571014",
   "metadata": {},
   "outputs": [
    {
     "data": {
      "text/latex": [
       "$\\displaystyle \\gamma_{xy}(x,y) = \\frac{3 q x \\left(- c + y\\right) \\left(c + y\\right) \\left(\\nu + 1\\right)}{2 E c^{3}}$"
      ],
      "text/plain": [
       "<IPython.core.display.Math object>"
      ]
     },
     "execution_count": 25,
     "metadata": {},
     "output_type": "execute_result"
    }
   ],
   "source": [
    "imprimir(r\"\\gamma_{xy}(x,y) = \", gxy)"
   ]
  },
  {
   "cell_type": "markdown",
   "id": "07dec0e9-9271-41a2-9b71-27fb909b11ea",
   "metadata": {
    "tags": []
   },
   "source": [
    "# Cálculo de los desplazamientos"
   ]
  },
  {
   "cell_type": "markdown",
   "id": "a9a264a0",
   "metadata": {},
   "source": [
    "De las fórmulas:\n",
    "$$\n",
    "\\begin{align}\n",
    "u(x,y) &= \\int\\varepsilon_x(x',y)\\dd x'+f(y)\\\\\n",
    "v(x,y) &= \\int\\varepsilon_y(x,y')\\dd y'+g(x)\\\\\n",
    "\\frac{\\dd  f(y)}{\\dd y} + \\frac{\\dd g(x)}{\\dd x} &= \\gamma_{xy}(x,y)-\\frac{\\partial}{\\partial y}\\left( \\int\\varepsilon_x(x',y)\\dd  x'\\right) -\\frac{\\partial}{\\partial x}\\left(\\int\\varepsilon_y(x,y')\\dd y' \\right)\n",
    "\\end{align}\n",
    "$$\n",
    "Usamos la tercera ecuación:"
   ]
  },
  {
   "cell_type": "code",
   "execution_count": 26,
   "id": "1b8450a1",
   "metadata": {},
   "outputs": [
    {
     "data": {
      "text/latex": [
       "$\\displaystyle \\frac{\\dd f(y)}{\\dd y} + \\frac{\\dd g(x)}{\\dd x} = \\frac{q x \\left(- 15 L^{2} - 15 c^{2} \\nu - 24 c^{2} + 5 x^{2}\\right)}{20 E c^{3}}$"
      ],
      "text/plain": [
       "<IPython.core.display.Math object>"
      ]
     },
     "execution_count": 26,
     "metadata": {},
     "output_type": "execute_result"
    }
   ],
   "source": [
    "df_dy_dg_dx = gxy - diff(integrate(ex,x),y) - diff(integrate(ey,y),x)\n",
    "\n",
    "imprimir(r\"\\frac{\\dd f(y)}{\\dd y} + \\frac{\\dd g(x)}{\\dd x} = \", factor(df_dy_dg_dx))"
   ]
  },
  {
   "cell_type": "markdown",
   "id": "9365d638-2c7f-4eb3-9731-1042ea0fe2f8",
   "metadata": {},
   "source": [
    "Descomponemos la ecuación diferencial en:\n",
    "$$\n",
    "\\begin{align}\n",
    "\\frac{\\dd f(y)}{\\dd y} &= \\text{términos en función de $y$ únicamente} + \\text{constantes} + \\omega_0=0\\\\\n",
    "\\frac{\\dd g(x)}{\\dd x} &= \\text{términos en función de $x$ únicamente} - \\omega_0=0\n",
    "\\end{align}\n",
    "$$"
   ]
  },
  {
   "cell_type": "code",
   "execution_count": 27,
   "id": "b60f1361-7841-4d97-86e4-3578a507cb2b",
   "metadata": {
    "tags": []
   },
   "outputs": [
    {
     "data": {
      "image/png": "[encoded data removed]",
      "text/latex": [
       "$\\displaystyle 0$"
      ],
      "text/plain": [
       "0"
      ]
     },
     "execution_count": 27,
     "metadata": {},
     "output_type": "execute_result"
    }
   ],
   "source": [
    "terminos_constantes = factor(df_dy_dg_dx.subs([(x,0), (y,0)]))\n",
    "\n",
    "terminos_constantes"
   ]
  },
  {
   "cell_type": "code",
   "execution_count": 28,
   "id": "e2d6574e-33b6-41c4-b44d-8602fa8abce7",
   "metadata": {},
   "outputs": [
    {
     "data": {
      "image/png": "[encoded data removed]",
      "text/latex": [
       "$\\displaystyle 0$"
      ],
      "text/plain": [
       "0"
      ]
     },
     "execution_count": 28,
     "metadata": {},
     "output_type": "execute_result"
    }
   ],
   "source": [
    "terminos_en_y = factor(df_dy_dg_dx.subs(x,0) - terminos_constantes)\n",
    "\n",
    "terminos_en_y"
   ]
  },
  {
   "cell_type": "code",
   "execution_count": 29,
   "id": "b06845bd-ceb9-47d7-a706-4eaa019bddcf",
   "metadata": {},
   "outputs": [
    {
     "data": {
      "image/png": "[encoded data removed]",
      "text/latex": [
       "$\\displaystyle \\frac{q x \\left(- 15 L^{2} - 15 c^{2} \\nu - 24 c^{2} + 5 x^{2}\\right)}{20 E c^{3}}$"
      ],
      "text/plain": [
       "    ⎛      2       2         2      2⎞\n",
       "q⋅x⋅⎝- 15⋅L  - 15⋅c ⋅ν - 24⋅c  + 5⋅x ⎠\n",
       "──────────────────────────────────────\n",
       "                     3                \n",
       "               20⋅E⋅c                 "
      ]
     },
     "execution_count": 29,
     "metadata": {},
     "output_type": "execute_result"
    }
   ],
   "source": [
    "terminos_en_x = factor(df_dy_dg_dx.subs(y,0) - terminos_constantes)\n",
    "\n",
    "terminos_en_x"
   ]
  },
  {
   "cell_type": "code",
   "execution_count": 30,
   "id": "01c20815-3318-450a-88b9-ac6e46112759",
   "metadata": {},
   "outputs": [
    {
     "data": {
      "text/latex": [
       "$\\displaystyle \\frac{\\dd f(y)}{\\dd y} =\\omega_{0}$"
      ],
      "text/plain": [
       "<IPython.core.display.Math object>"
      ]
     },
     "execution_count": 30,
     "metadata": {},
     "output_type": "execute_result"
    }
   ],
   "source": [
    "df_dy = terminos_en_y + terminos_constantes + w0\n",
    "\n",
    "imprimir(r\"\\frac{\\dd f(y)}{\\dd y} =\", df_dy)"
   ]
  },
  {
   "cell_type": "code",
   "execution_count": 31,
   "id": "35fec09f-64e3-4834-8413-af24f9ec925f",
   "metadata": {
    "tags": []
   },
   "outputs": [
    {
     "data": {
      "text/latex": [
       "$\\displaystyle \\frac{\\dd g(x)}{\\dd x} =- \\omega_{0} + \\frac{q x \\left(- 15 L^{2} - 15 c^{2} \\nu - 24 c^{2} + 5 x^{2}\\right)}{20 E c^{3}}$"
      ],
      "text/plain": [
       "<IPython.core.display.Math object>"
      ]
     },
     "execution_count": 31,
     "metadata": {},
     "output_type": "execute_result"
    }
   ],
   "source": [
    "dg_dx = terminos_en_x - w0\n",
    "\n",
    "imprimir(r\"\\frac{\\dd g(x)}{\\dd x} =\", dg_dx)"
   ]
  },
  {
   "cell_type": "markdown",
   "id": "6e9ddf94",
   "metadata": {},
   "source": [
    "De esta forma:"
   ]
  },
  {
   "cell_type": "markdown",
   "id": "d0ee8365",
   "metadata": {},
   "source": [
    "$$\\frac{\\dd f(y)}{\\dd y}+\\frac{\\dd g(x)}{\\dd x}= \\underbrace{\\omega_0 \\vphantom{\\frac{\\bigg(}{E}}}_{\\frac{\\dd f(y)}{\\dd y}} + \\underbrace{\\frac{q x \\left(- 15 L^{2} - 15 c^{2} \\nu - 24 c^{2} + 5 x^{2}\\right)}{20 E c^{3}} - \\omega_0}_{\\frac{\\dd g(x)}{\\dd x}}$$"
   ]
  },
  {
   "cell_type": "markdown",
   "id": "4386a8b8",
   "metadata": {},
   "source": [
    "Ahora, calculamos $f$ y $g$:"
   ]
  },
  {
   "cell_type": "code",
   "execution_count": 32,
   "id": "b6be8259",
   "metadata": {},
   "outputs": [
    {
     "data": {
      "text/latex": [
       "$\\displaystyle f(y) =\\omega_{0} y + u_{0}$"
      ],
      "text/plain": [
       "<IPython.core.display.Math object>"
      ]
     },
     "execution_count": 32,
     "metadata": {},
     "output_type": "execute_result"
    }
   ],
   "source": [
    "f = integrate(df_dy, y) + u0\n",
    "\n",
    "imprimir(\"f(y) =\", f)"
   ]
  },
  {
   "cell_type": "code",
   "execution_count": 33,
   "id": "44d8ab75",
   "metadata": {},
   "outputs": [
    {
     "data": {
      "text/latex": [
       "$\\displaystyle g(x) =- \\omega_{0} x + v_{0} - \\frac{3 L^{2} q x^{2}}{8 E c^{3}} - \\frac{3 \\nu q x^{2}}{8 E c} - \\frac{3 q x^{2}}{5 E c} + \\frac{q x^{4}}{16 E c^{3}}$"
      ],
      "text/plain": [
       "<IPython.core.display.Math object>"
      ]
     },
     "execution_count": 33,
     "metadata": {},
     "output_type": "execute_result"
    }
   ],
   "source": [
    "g = integrate(dg_dx, x) + v0\n",
    "\n",
    "imprimir(\"g(x) =\", expand(g))"
   ]
  },
  {
   "cell_type": "markdown",
   "id": "1ec21cc7",
   "metadata": {},
   "source": [
    "Finalmente, calculamos los desplamientos $u$ y $v$:\n",
    "\\begin{align}\n",
    "       u(x,y) = \\int \\varepsilon_x(x',y) \\dd x' + f(y) \\\\\n",
    "       v(x,y) = \\int \\varepsilon_y(x,y') \\dd y' + g(x)\n",
    "\\end{align}"
   ]
  },
  {
   "cell_type": "code",
   "execution_count": 34,
   "id": "02865281-d20c-471b-9079-8080f0d63128",
   "metadata": {},
   "outputs": [
    {
     "data": {
      "text/latex": [
       "$\\displaystyle u(x,y) =\\omega_{0} y + u_{0} - \\frac{q x^{3} y}{4 E c^{3}} + \\frac{x \\left(15 L^{2} q y - 10 c^{3} \\nu q - 15 c^{2} \\nu q y - 6 c^{2} q y + 5 \\nu q y^{3} + 10 q y^{3}\\right)}{20 E c^{3}}$"
      ],
      "text/plain": [
       "<IPython.core.display.Math object>"
      ]
     },
     "execution_count": 34,
     "metadata": {},
     "output_type": "execute_result"
    }
   ],
   "source": [
    "u = integrate(ex, x) + f\n",
    "\n",
    "imprimir(\"u(x,y) =\", u)"
   ]
  },
  {
   "cell_type": "code",
   "execution_count": 35,
   "id": "82020225-2657-44bb-9a11-f29399b1d59f",
   "metadata": {},
   "outputs": [
    {
     "data": {
      "text/latex": [
       "$\\displaystyle v(x,y) =- \\omega_{0} x + v_{0} + \\frac{q y}{2 E} + \\frac{q x^{4}}{16 E c^{3}} + \\frac{x^{2} \\left(- 15 L^{2} q - 15 c^{2} \\nu q - 24 c^{2} q\\right)}{40 E c^{3}} + \\frac{y^{4} \\left(- 2 \\nu q - q\\right)}{16 E c^{3}} + \\frac{y^{2} \\left(- 15 L^{2} \\nu q + 6 c^{2} \\nu q + 15 c^{2} q + 15 \\nu q x^{2}\\right)}{40 E c^{3}}$"
      ],
      "text/plain": [
       "<IPython.core.display.Math object>"
      ]
     },
     "execution_count": 35,
     "metadata": {},
     "output_type": "execute_result"
    }
   ],
   "source": [
    "v = integrate(ey, y) + g\n",
    "\n",
    "imprimir(\"v(x,y) =\", v)"
   ]
  },
  {
   "cell_type": "markdown",
   "id": "7486dc4b",
   "metadata": {},
   "source": [
    "Sólo resta encontrar los valores de $u_0$, $v_0$ y $\\omega_0$ a partir de las condiciones de frontera y el conocimiento que en el centro de la viga el desplazamiento horizontal es nulo:\n",
    "\\begin{align}\n",
    "u( 0, y) &= 0 &\n",
    "v(-L, 0) &= 0 &\n",
    "v(+L, 0) &= 0\n",
    "\\end{align}"
   ]
  },
  {
   "cell_type": "code",
   "execution_count": 36,
   "id": "c4a1d682",
   "metadata": {},
   "outputs": [],
   "source": [
    "e1 = u.subs([(x, 0)])       - 0  # = 0     el desplazamiento horizontal de la mitad de la viga es nulo\n",
    "e2 = v.subs([(x,+L),(y,0)]) - 0  # = 0     el desplazamiento vertical en el extremo derecho es nulo\n",
    "e3 = v.subs([(x,-L),(y,0)]) - 0  # = 0     el desplazamiento vertical en el extremo izquierdo es nulo"
   ]
  },
  {
   "cell_type": "code",
   "execution_count": 37,
   "id": "d72385cb",
   "metadata": {},
   "outputs": [
    {
     "data": {
      "image/png": "[encoded data removed]",
      "text/latex": [
       "$\\displaystyle \\left\\{ \\omega_{0} : 0, \\  u_{0} : 0, \\  v_{0} : \\frac{25 L^{4} q + 30 L^{2} c^{2} \\nu q + 48 L^{2} c^{2} q}{80 E c^{3}}\\right\\}$"
      ],
      "text/plain": [
       "⎧                      4         2  2           2  2  ⎫\n",
       "⎪                  25⋅L ⋅q + 30⋅L ⋅c ⋅ν⋅q + 48⋅L ⋅c ⋅q⎪\n",
       "⎨ω₀: 0, u₀: 0, v₀: ───────────────────────────────────⎬\n",
       "⎪                                      3              ⎪\n",
       "⎩                                80⋅E⋅c               ⎭"
      ]
     },
     "execution_count": 37,
     "metadata": {},
     "output_type": "execute_result"
    }
   ],
   "source": [
    "u0v0w0 = solve([e1, e2, e3], [u0, v0, w0])\n",
    "\n",
    "u0v0w0"
   ]
  },
  {
   "cell_type": "markdown",
   "id": "5ab5d6c2",
   "metadata": {},
   "source": [
    "Donde las constantes de integración son:"
   ]
  },
  {
   "cell_type": "code",
   "execution_count": 38,
   "id": "4a1a964a",
   "metadata": {},
   "outputs": [
    {
     "data": {
      "text/latex": [
       "$\\displaystyle u_0=0$"
      ],
      "text/plain": [
       "<IPython.core.display.Math object>"
      ]
     },
     "execution_count": 38,
     "metadata": {},
     "output_type": "execute_result"
    }
   ],
   "source": [
    "imprimir(r\"u_0=\", u0v0w0[u0])"
   ]
  },
  {
   "cell_type": "code",
   "execution_count": 39,
   "id": "57f7da10",
   "metadata": {},
   "outputs": [
    {
     "data": {
      "text/latex": [
       "$\\displaystyle v_0=\\frac{L^{2} q \\left(25 L^{2} + 30 c^{2} \\nu + 48 c^{2}\\right)}{80 E c^{3}}$"
      ],
      "text/plain": [
       "<IPython.core.display.Math object>"
      ]
     },
     "execution_count": 39,
     "metadata": {},
     "output_type": "execute_result"
    }
   ],
   "source": [
    "imprimir(r\"v_0=\", collect(u0v0w0[v0],q*L**2))"
   ]
  },
  {
   "cell_type": "code",
   "execution_count": 40,
   "id": "6fe532f5",
   "metadata": {},
   "outputs": [
    {
     "data": {
      "text/latex": [
       "$\\displaystyle \\omega_0=0$"
      ],
      "text/plain": [
       "<IPython.core.display.Math object>"
      ]
     },
     "execution_count": 40,
     "metadata": {},
     "output_type": "execute_result"
    }
   ],
   "source": [
    "imprimir(r\"\\omega_0=\", u0v0w0[w0])"
   ]
  },
  {
   "cell_type": "markdown",
   "id": "c002ab08",
   "metadata": {},
   "source": [
    "Reemplazamos las constantes de integración:"
   ]
  },
  {
   "cell_type": "code",
   "execution_count": 41,
   "id": "65848f8b",
   "metadata": {},
   "outputs": [],
   "source": [
    "u = u.subs(u0v0w0)\n",
    "v = v.subs(u0v0w0)"
   ]
  },
  {
   "cell_type": "markdown",
   "id": "acb7265b",
   "metadata": {},
   "source": [
    "Obtenemos los desplazamientos de la viga:"
   ]
  },
  {
   "cell_type": "code",
   "execution_count": 42,
   "id": "0019ad2d",
   "metadata": {},
   "outputs": [
    {
     "data": {
      "text/latex": [
       "$\\displaystyle u(x,y) = - \\frac{q x^{3} y}{4 E c^{3}} + \\frac{x \\left(15 L^{2} q y - 10 c^{3} \\nu q - 15 c^{2} \\nu q y - 6 c^{2} q y + 5 \\nu q y^{3} + 10 q y^{3}\\right)}{20 E c^{3}}$"
      ],
      "text/plain": [
       "<IPython.core.display.Math object>"
      ]
     },
     "execution_count": 42,
     "metadata": {},
     "output_type": "execute_result"
    }
   ],
   "source": [
    "imprimir(\"u(x,y) = \", u)"
   ]
  },
  {
   "cell_type": "code",
   "execution_count": 43,
   "id": "37e6e1a7",
   "metadata": {},
   "outputs": [
    {
     "data": {
      "text/latex": [
       "$\\displaystyle v(x,y) = \\frac{q y}{2 E} + \\frac{q x^{4}}{16 E c^{3}} + \\frac{x^{2} \\left(- 15 L^{2} q - 15 c^{2} \\nu q - 24 c^{2} q\\right)}{40 E c^{3}} + \\frac{y^{4} \\left(- 2 \\nu q - q\\right)}{16 E c^{3}} + \\frac{y^{2} \\left(- 15 L^{2} \\nu q + 6 c^{2} \\nu q + 15 c^{2} q + 15 \\nu q x^{2}\\right)}{40 E c^{3}} + \\frac{25 L^{4} q + 30 L^{2} c^{2} \\nu q + 48 L^{2} c^{2} q}{80 E c^{3}}$"
      ],
      "text/plain": [
       "<IPython.core.display.Math object>"
      ]
     },
     "execution_count": 43,
     "metadata": {},
     "output_type": "execute_result"
    }
   ],
   "source": [
    "imprimir(\"v(x,y) = \", v)"
   ]
  },
  {
   "cell_type": "markdown",
   "id": "58e360e9-60b0-4bf2-ac06-7cba4f60e494",
   "metadata": {},
   "source": [
    "# Comparación de la teoría de Euler-Bernoulli con lo estimado por la teoría de la elasticidad\n",
    "\n",
    "Nota: falta mejorar bastante la claridad de esta sección"
   ]
  },
  {
   "cell_type": "markdown",
   "id": "efe19e15",
   "metadata": {},
   "source": [
    "Por último, la deflexión vertical de la viga en el punto $x=0$, $y=0$ es:"
   ]
  },
  {
   "cell_type": "code",
   "execution_count": 44,
   "id": "cfe4f5a1",
   "metadata": {},
   "outputs": [
    {
     "data": {
      "text/latex": [
       "$\\displaystyle v(0,0) = \\frac{25 L^{4} q + 30 L^{2} c^{2} \\nu q + 48 L^{2} c^{2} q}{80 E c^{3}}$"
      ],
      "text/plain": [
       "<IPython.core.display.Math object>"
      ]
     },
     "execution_count": 44,
     "metadata": {},
     "output_type": "execute_result"
    }
   ],
   "source": [
    "v_0_0 = v.subs([(x,0), (y,0)])\n",
    "imprimir(r\"v(0,0) = \", v_0_0)"
   ]
  },
  {
   "cell_type": "markdown",
   "id": "1fe12ff8",
   "metadata": {},
   "source": [
    "Reemplazamos $\\frac{2tc^3}{3}$ por $I$:"
   ]
  },
  {
   "cell_type": "code",
   "execution_count": 45,
   "id": "eb7dc20b",
   "metadata": {},
   "outputs": [],
   "source": [
    "I = symbols(\"I\")\n",
    "v_0_0 = v_0_0*Ib/I # Es equivalente a multiplicar por uno."
   ]
  },
  {
   "cell_type": "markdown",
   "id": "b7932e92",
   "metadata": {},
   "source": [
    "Primera forma de factorizar la expresión:"
   ]
  },
  {
   "cell_type": "code",
   "execution_count": 46,
   "id": "e720eaa6",
   "metadata": {},
   "outputs": [
    {
     "data": {
      "text/latex": [
       "$\\displaystyle v(0,0) =\\frac{5 L^{4} q \\left(1 + \\frac{6 c^{2} \\nu}{5 L^{2}} + \\frac{48 c^{2}}{25 L^{2}}\\right)}{24 E I}$"
      ],
      "text/plain": [
       "<IPython.core.display.Math object>"
      ]
     },
     "execution_count": 46,
     "metadata": {},
     "output_type": "execute_result"
    }
   ],
   "source": [
    "ec1 = Add(expand(v_0_0/(Rational(5,24)*q*L**4/(E*I))) * (Rational(5,24)*q*L**4/(E*I)), evaluate=False)\n",
    "imprimir(r\"v(0,0) =\", ec1)"
   ]
  },
  {
   "cell_type": "markdown",
   "id": "33479106",
   "metadata": {},
   "source": [
    "Segunda forma de factorizar la expresión:"
   ]
  },
  {
   "cell_type": "code",
   "execution_count": 47,
   "id": "5a78c78b",
   "metadata": {},
   "outputs": [
    {
     "data": {
      "text/latex": [
       "$\\displaystyle v(0,0) =\\frac{5 (2L)^{4} q \\left(1 + \\frac{c^{2} \\cdot \\left(\\frac{6 \\nu}{5} + \\frac{48}{25}\\right)}{L^{2}}\\right)}{384 E I}$"
      ],
      "text/plain": [
       "<IPython.core.display.Math object>"
      ]
     },
     "execution_count": 47,
     "metadata": {},
     "output_type": "execute_result"
    }
   ],
   "source": [
    "_2L= symbols(\"(2L)\")\n",
    "ec2 = collect(ec1.subs(L, _2L/2).subs(c**2/_2L**2, c**2/((2*L)**2)), c**2/L**2)\n",
    "imprimir(r\"v(0,0) =\", ec2)"
   ]
  },
  {
   "cell_type": "markdown",
   "id": "c189e5ba",
   "metadata": {},
   "source": [
    "En este caso, el parámetro $h/L$ viene representado de forma equivalente por $(2c)/(2L) = c/L$. Por lo tanto, el porcentaje de variación respecto a la teoría de Euler-Bernoulli (revisar [este programa](https://github.com/jnramirezg/medio_continuo/blob/main/codigo/28-analisis_viga_simplemente_apoyada.ipynb)) viene dada por:\n",
    "$$\\left(\\frac{6\\nu}{5}+\\frac{48}{25}\\right)\\left(\\frac{c}{L}\\right)^2$$"
   ]
  },
  {
   "cell_type": "markdown",
   "id": "fb6912a8",
   "metadata": {},
   "source": [
    "Suponiendo $\\nu=0.3$, por ejemplo, para $c/L=[0.05, 0.1, 0.25]$:"
   ]
  },
  {
   "cell_type": "code",
   "execution_count": 48,
   "id": "1097b0bb",
   "metadata": {},
   "outputs": [],
   "source": [
    "nu = 0.3"
   ]
  },
  {
   "cell_type": "code",
   "execution_count": 49,
   "id": "c19e0726",
   "metadata": {},
   "outputs": [
    {
     "data": {
      "image/png": "[encoded data removed]",
      "text/latex": [
       "$\\displaystyle 0.0057$"
      ],
      "text/plain": [
       "0.0057"
      ]
     },
     "execution_count": 49,
     "metadata": {},
     "output_type": "execute_result"
    }
   ],
   "source": [
    "c_L = 0.05\n",
    "(6*nu/5+48/25)*(c_L)**2"
   ]
  },
  {
   "cell_type": "code",
   "execution_count": 50,
   "id": "1a69bb72",
   "metadata": {},
   "outputs": [
    {
     "data": {
      "image/png": "[encoded data removed]",
      "text/latex": [
       "$\\displaystyle 0.0228$"
      ],
      "text/plain": [
       "0.0228"
      ]
     },
     "execution_count": 50,
     "metadata": {},
     "output_type": "execute_result"
    }
   ],
   "source": [
    "c_L = 0.1\n",
    "(6*nu/5+48/25)*(c_L)**2"
   ]
  },
  {
   "cell_type": "code",
   "execution_count": 51,
   "id": "22149ffc",
   "metadata": {},
   "outputs": [
    {
     "data": {
      "image/png": "[encoded data removed]",
      "text/latex": [
       "$\\displaystyle 0.1425$"
      ],
      "text/plain": [
       "0.1425"
      ]
     },
     "execution_count": 51,
     "metadata": {},
     "output_type": "execute_result"
    }
   ],
   "source": [
    "c_L = 0.25\n",
    "(6*nu/5+48/25)*(c_L)**2"
   ]
  },
  {
   "cell_type": "code",
   "execution_count": 52,
   "id": "49ec50c8-987f-448a-9339-deadf69f89e9",
   "metadata": {},
   "outputs": [
    {
     "data": {
      "image/png": "[encoded data removed]",
      "text/plain": [
       "<Figure size 640x480 with 1 Axes>"
      ]
     },
     "metadata": {},
     "output_type": "display_data"
    },
    {
     "data": {
      "text/plain": [
       "<sympy.plotting.plot.Plot at 0x7fdd87a23f90>"
      ]
     },
     "execution_count": 52,
     "metadata": {},
     "output_type": "execute_result"
    }
   ],
   "source": [
    "c_L = symbols('c/L')\n",
    "sp.plot((6*nu/5 + 48/25)*c_L**2, (c_L, 0,0.3))"
   ]
  }
 ],
 "metadata": {
  "kernelspec": {
   "display_name": "Python 3 (ipykernel)",
   "language": "python",
   "name": "python3"
  },
  "language_info": {
   "codemirror_mode": {
    "name": "ipython",
    "version": 3
   },
   "file_extension": ".py",
   "mimetype": "text/x-python",
   "name": "python",
   "nbconvert_exporter": "python",
   "pygments_lexer": "ipython3",
   "version": "3.11.5"
  }
 },
 "nbformat": 4,
 "nbformat_minor": 5
}
