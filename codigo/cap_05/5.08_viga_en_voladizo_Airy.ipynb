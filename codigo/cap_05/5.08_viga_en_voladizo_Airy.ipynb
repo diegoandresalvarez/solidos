{
 "cells": [
  {
   "cell_type": "markdown",
   "id": "2ccd03f8",
   "metadata": {},
   "source": [
    "<a href=\"https://colab.research.google.com/github/jnramirezg/medio_continuo/blob/main/codigo/32-analisis_viga_en_voladizo_airy.ipynb\" target=\"_parent\"><img src=\"https://colab.research.google.com/assets/colab-badge.svg\" alt=\"Open In Colab\"/></a>"
   ]
  },
  {
   "cell_type": "markdown",
   "id": "38304fe9",
   "metadata": {},
   "source": [
    "# Análisis viga en voladizo con Airy (sección 5.14)"
   ]
  },
  {
   "cell_type": "markdown",
   "id": "19f37134",
   "metadata": {},
   "source": [
    "|Quién | Fecha | Qué hizo |\n",
    "| ---  | ---   | ---      |\n",
    "|Juan Nicolás Ramírez, <jnramirezg@unal.edu.co> | 2023-Mar-25 | Conversión de código de MAXIMA a Python|\n",
    "|Diego Andrés Alvarez Marín,   <daalvarez@unal.edu.co>  | 2023-Sep-03 | Comentarios varios y mejorando el código |\n",
    "\n",
    "[Código original](https://github.com/diegoandresalvarez/solidos/blob/master/archivos/codigo/cap_05/5.14_ejer_10_viga_voladizo_Airy.mac)"
   ]
  },
  {
   "attachments": {
    "c4cba19b-a588-474d-9849-0ca9838d687e.png": {
     "image/png": "[encoded data removed]"
    }
   },
   "cell_type": "markdown",
   "id": "6fb81566-94c8-449e-8a22-39ffa782da24",
   "metadata": {},
   "source": [
    "![image.png](attachment:c4cba19b-a588-474d-9849-0ca9838d687e.png)"
   ]
  },
  {
   "cell_type": "markdown",
   "id": "8338d7f1",
   "metadata": {},
   "source": [
    "Importamos las librerias y funciones necesarias:"
   ]
  },
  {
   "cell_type": "code",
   "execution_count": 1,
   "id": "aa9cb753",
   "metadata": {},
   "outputs": [],
   "source": [
    "from sympy import symbols, diff, integrate, solve, factor, expand, collect, Rational, Add\n",
    "import sympy as sp\n",
    "\n",
    "# Para imprimir bonito\n",
    "sp.init_printing()\n",
    "from IPython.display import Math                 \n",
    "def imprimir (texto1, variable, texto2=\"\"):\n",
    "    return Math(texto1 +  rf'{sp.latex(variable)}' + texto2)"
   ]
  },
  {
   "cell_type": "markdown",
   "id": "bf2734f2-fb78-48a1-8d34-43a5337d653b",
   "metadata": {},
   "source": [
    "Creo un macro de $\\LaTeX$ para hacer el código más legible (dar doble clic a esta celda)\n",
    "$\\newcommand{\\dd}{\\operatorname{d} \\!}$"
   ]
  },
  {
   "cell_type": "markdown",
   "id": "8c0e18ea",
   "metadata": {},
   "source": [
    "Creamos las variables simbólicas:"
   ]
  },
  {
   "cell_type": "code",
   "execution_count": 2,
   "id": "2f310160",
   "metadata": {},
   "outputs": [],
   "source": [
    "C1, C2, C3, C4 = symbols(\"C1,C2,C3,C4\")  # Constantes de la función de tensión de Airy\n",
    "x, y, z    = symbols(\"x, y, z\")                     # Coordenadas\n",
    "K2         = symbols(\"K_2\")                         # Constante de la ecuación biarmónica de Airy\n",
    "c, L, q    = symbols(\"c, L, q\")                     # Propiedades de la viga\n",
    "E, nu      = symbols(\"E, nu\")                       # Propiedades del material\n",
    "u0, v0, w0 = symbols(\"u0, v0, omega_0\")             # Constante de integración"
   ]
  },
  {
   "cell_type": "code",
   "execution_count": 3,
   "id": "0477000f",
   "metadata": {},
   "outputs": [],
   "source": [
    "t = 1  # [m]: espesor\n",
    "V = 0  # V=0, ya que no se considerarán las fuerzas másicas"
   ]
  },
  {
   "cell_type": "markdown",
   "id": "78aaa19c",
   "metadata": {},
   "source": [
    "Proponemos la función de tensión de Airy:"
   ]
  },
  {
   "cell_type": "code",
   "execution_count": 4,
   "id": "b9be0873",
   "metadata": {},
   "outputs": [
    {
     "data": {
      "text/latex": [
       "$\\displaystyle \\phi(x,y) = C_{1} \\left(L - x\\right)^{2} + C_{2} y \\left(L - x\\right)^{2} + C_{3} y^{3} + C_{4} y^{5} - 5 C_{4} y^{3} \\left(L - x\\right)^{2}$"
      ],
      "text/plain": [
       "<IPython.core.display.Math object>"
      ]
     },
     "execution_count": 4,
     "metadata": {},
     "output_type": "execute_result"
    }
   ],
   "source": [
    "phi = C1*(L-x)**2 + C2*(L-x)**2*y + C3*y**3 + C4*y**5 - 5*C4*(L-x)**2*y**3\n",
    "imprimir(r\"\\phi(x,y) = \", phi)"
   ]
  },
  {
   "cell_type": "markdown",
   "id": "d162b816-c6b1-419e-ab90-e369e9e3a013",
   "metadata": {},
   "source": [
    "Definimos el laplaciano $\\nabla^2 f := \\frac{\\partial^2 f}{\\partial x^2} +  \\frac{\\partial^2 f}{\\partial y^2}$ y el biarmónico $\\nabla^4 f := \\nabla^2 \\left(\\nabla^2 f\\right)$ de una función $f$:"
   ]
  },
  {
   "cell_type": "code",
   "execution_count": 5,
   "id": "892baabd",
   "metadata": {},
   "outputs": [],
   "source": [
    "lapl = lambda f: diff(f,x,2) + diff(f,y,2)\n",
    "biar = lambda f: lapl(lapl(f))"
   ]
  },
  {
   "cell_type": "markdown",
   "id": "64c06e56",
   "metadata": {},
   "source": [
    "Verificamos que se satisfaga la ecuación $\\nabla^4\\phi=K_2\\nabla^2V$"
   ]
  },
  {
   "cell_type": "code",
   "execution_count": 6,
   "id": "b96b3401-9651-4348-b546-99724b238192",
   "metadata": {},
   "outputs": [
    {
     "name": "stdout",
     "output_type": "stream",
     "text": [
      "La ecuación biarmónica se satisface.\n"
     ]
    }
   ],
   "source": [
    "if biar(phi) - K2*lapl(V) == 0:\n",
    "    print(\"La ecuación biarmónica se satisface.\")\n",
    "else:\n",
    "    raise Exception(\"La ecuación biarmónica no se satisface.\")"
   ]
  },
  {
   "cell_type": "markdown",
   "id": "902d67db-f740-4ae7-97c4-99d05807bd44",
   "metadata": {},
   "source": [
    "# Cálculo de los esfuerzos"
   ]
  },
  {
   "cell_type": "markdown",
   "id": "f1d1ea2b",
   "metadata": {},
   "source": [
    "Definimos los esfuerzos utilizando la función de tensión de Airy:\n",
    "$$\\sigma_x(x,y)=\\frac{\\partial^2 \\phi(x,y)}{\\partial y^2} + V(x,y)$$\n",
    "$$\\sigma_x(x,y)=\\frac{\\partial^2 \\phi(x,y)}{\\partial x^2} + V(x,y)$$\n",
    "$$\\tau_{xy}(x,y)=-\\frac{\\partial^2 \\phi(x,y)}{\\partial x \\partial y}$$"
   ]
  },
  {
   "cell_type": "code",
   "execution_count": 7,
   "id": "3c11bc7e",
   "metadata": {},
   "outputs": [],
   "source": [
    "sx  =  diff(phi, y,2) + V\n",
    "sy  =  diff(phi, x,2) + V\n",
    "txy = -diff(phi, x,1, y,1)"
   ]
  },
  {
   "cell_type": "code",
   "execution_count": 8,
   "id": "abb59bdb-d408-4df5-a515-1f291b1742c8",
   "metadata": {},
   "outputs": [
    {
     "data": {
      "text/latex": [
       "$\\displaystyle \\sigma_x(x,y) = 2 y \\left(3 C_{3} + 10 C_{4} y^{2} - 15 C_{4} \\left(L - x\\right)^{2}\\right)$"
      ],
      "text/plain": [
       "<IPython.core.display.Math object>"
      ]
     },
     "execution_count": 8,
     "metadata": {},
     "output_type": "execute_result"
    }
   ],
   "source": [
    "imprimir(r\"\\sigma_x(x,y) = \", sx)"
   ]
  },
  {
   "cell_type": "code",
   "execution_count": 9,
   "id": "45709d27-fb2c-49d6-b9c3-e17c651d623f",
   "metadata": {},
   "outputs": [
    {
     "data": {
      "text/latex": [
       "$\\displaystyle \\sigma_y(x,y) = 2 \\left(C_{1} + C_{2} y - 5 C_{4} y^{3}\\right)$"
      ],
      "text/plain": [
       "<IPython.core.display.Math object>"
      ]
     },
     "execution_count": 9,
     "metadata": {},
     "output_type": "execute_result"
    }
   ],
   "source": [
    "imprimir(r\"\\sigma_y(x,y) = \", sy)"
   ]
  },
  {
   "cell_type": "code",
   "execution_count": 10,
   "id": "842fea6e-5335-4de0-87bb-4f94411cd156",
   "metadata": {},
   "outputs": [
    {
     "data": {
      "text/latex": [
       "$\\displaystyle \\tau_{xy}(x,y) = - 2 \\left(- C_{2} + 15 C_{4} y^{2}\\right) \\left(L - x\\right)$"
      ],
      "text/plain": [
       "<IPython.core.display.Math object>"
      ]
     },
     "execution_count": 10,
     "metadata": {},
     "output_type": "execute_result"
    }
   ],
   "source": [
    "imprimir(r\"\\tau_{xy}(x,y) = \", txy)"
   ]
  },
  {
   "cell_type": "markdown",
   "id": "3fe04e70-ffe3-4894-8d30-ce96dc208db1",
   "metadata": {
    "tags": []
   },
   "source": [
    "Definimos la fuerza cortante, el momento flector y la fuerza axial:\n",
    "\\begin{align}\n",
    "V(x)         &= -\\int_{-c}^{c}\\int_{0}^{t}{\\tau_{xy}(x,y,z)}\\dd z \\dd y \\\\\n",
    "M(x)         &= -\\int_{-c}^{c}\\int_{0}^{t}{y\\sigma_x(x,y,z)}\\dd z \\dd y \\\\\n",
    "f_{\\text{axial}}(x) &= \\phantom{-}\\int_{-c}^{c}\\int_{0}^{t}{\\sigma_x(x,y,z)} \\dd z \\dd y = 0\n",
    "\\end{align}"
   ]
  },
  {
   "cell_type": "code",
   "execution_count": 11,
   "id": "7b1de521-5674-4acf-8606-0fb72e74f856",
   "metadata": {},
   "outputs": [],
   "source": [
    "V   = lambda xx : -integrate(txy.subs(x,xx),   (z,0,t), (y,-c,c))\n",
    "M   = lambda xx : -integrate( sx.subs(x,xx)*y, (z,0,t), (y,-c,c))\n",
    "fax =              integrate( sx,              (z,0,t), (y,-c,c))"
   ]
  },
  {
   "cell_type": "markdown",
   "id": "b1ba7f39-b126-400b-b652-eed52db79382",
   "metadata": {
    "tags": []
   },
   "source": [
    "Establecemos las condiciones de frontera sobre los esfuerzos:\n",
    "\\begin{align}\n",
    " \\tau_{xy}(x,y=\\pm c,z) &= 0 &&\\text{($\\tau_{xy} = 0$ en el borde superior e inferior de la viga)}\\\\\n",
    " \\sigma_y(x,y=-c,z)     &= 0 &&\\text{(el borde inferior no soporta cargas)}  \\label{eq:cfyviga}\\\\\n",
    " \\sigma_y(x,y=+c,z)     &= \\frac{q}{t} && \\text{(el borde superior soporta la carga distribuida).}\n",
    "\\end{align}"
   ]
  },
  {
   "cell_type": "code",
   "execution_count": 12,
   "id": "5487d0c3-050f-4da9-b560-1b7d4bcfe38c",
   "metadata": {},
   "outputs": [],
   "source": [
    "e1 = txy.subs(y, +c) - 0    # =0\n",
    "e2 = txy.subs(y, -c) - 0    # =0\n",
    "e3 =  sy.subs(y, +c) - q/t  # =0\n",
    "e4 =  sy.subs(y, -c) - 0    # =0"
   ]
  },
  {
   "cell_type": "markdown",
   "id": "31f57eca-52d4-4f69-8a33-bbf2d0d1ef3f",
   "metadata": {},
   "source": [
    "Establecemos unas condiciones de frontera con respecto a las fuerzas cortantes, los momentos flectores y las fuerzas axiales.\n",
    "\n",
    "La fuerza cortante y el momento flector en los extremos de la viga están dados por:\n",
    "\\begin{align}\n",
    " V(0)        &= - q L &\n",
    " V(L)        &= 0 \\\\\n",
    " M(0)        &= \\frac{q L^2}{2} &\n",
    " M(L)        &= 0\n",
    " \\end{align} \n",
    "mientras que la fuerza axial para todo $x\\in[-L,L]$ es\n",
    "\\begin{equation}\n",
    " f_\\text{axial}(x) = 0.\n",
    "\\end{equation}"
   ]
  },
  {
   "cell_type": "code",
   "execution_count": 13,
   "id": "f1f7a3cb-80d7-47fd-899c-2b41496ec8e7",
   "metadata": {},
   "outputs": [],
   "source": [
    "e5 = V( 0) - (-q*L)      # =0\n",
    "e6 = V(+L) - 0           # =0\n",
    "e7 = M( 0) - (q*L**2/2)  # =0\n",
    "e8 = M(+L) - 0           # =0\n",
    "e9 = fax   - 0           # =0 para todo x en [−L, L]"
   ]
  },
  {
   "cell_type": "markdown",
   "id": "ecb90e53",
   "metadata": {},
   "source": [
    "Utilizando las ecuaciones ```e1``` a ```e9``` encontramos las constantes ```C1```, ```C2```, ```C3``` y ```C4```, y las imprimimos:"
   ]
  },
  {
   "cell_type": "code",
   "execution_count": 14,
   "id": "ba7f058f",
   "metadata": {},
   "outputs": [
    {
     "data": {
      "image/png": "[encoded data removed]",
      "text/latex": [
       "$\\displaystyle \\left\\{ C_{1} : \\frac{q}{4}, \\  C_{2} : \\frac{3 q}{8 c}, \\  C_{3} : - \\frac{q}{20 c}, \\  C_{4} : \\frac{q}{40 c^{3}}\\right\\}$"
      ],
      "text/plain": [
       "⎧    q      3⋅q      -q          q  ⎫\n",
       "⎪C₁: ─, C₂: ───, C₃: ────, C₄: ─────⎪\n",
       "⎨    4      8⋅c      20⋅c          3⎬\n",
       "⎪                              40⋅c ⎪\n",
       "⎩                                   ⎭"
      ]
     },
     "execution_count": 14,
     "metadata": {},
     "output_type": "execute_result"
    }
   ],
   "source": [
    "const = solve([e1,e2,e3,e4,e5,e6,e7,e8,e9], [C1,C2,C3,C4])\n",
    "\n",
    "const"
   ]
  },
  {
   "cell_type": "markdown",
   "id": "fbacfe1d",
   "metadata": {},
   "source": [
    "Reemplazamos ```C1```, ```C2```, ```C3``` y ```C4``` en los esfuerzos ```sx```, ```sy``` y ```txy```:"
   ]
  },
  {
   "cell_type": "code",
   "execution_count": 15,
   "id": "439c7f89",
   "metadata": {},
   "outputs": [],
   "source": [
    "sx  = factor(sx.subs(const))\n",
    "sy  = factor(sy.subs(const))\n",
    "txy = factor(txy.subs(const))"
   ]
  },
  {
   "cell_type": "markdown",
   "id": "993298f1-4c17-4101-ad42-1edf47241328",
   "metadata": {},
   "source": [
    "Y los imprimimos:"
   ]
  },
  {
   "cell_type": "code",
   "execution_count": 16,
   "id": "4c59162c-3db3-4513-92b3-4583127fd826",
   "metadata": {},
   "outputs": [
    {
     "data": {
      "text/latex": [
       "$\\displaystyle \\sigma_x(x,y) = - \\frac{q y \\left(15 L^{2} - 30 L x + 6 c^{2} + 15 x^{2} - 10 y^{2}\\right)}{20 c^{3}}$"
      ],
      "text/plain": [
       "<IPython.core.display.Math object>"
      ]
     },
     "execution_count": 16,
     "metadata": {},
     "output_type": "execute_result"
    }
   ],
   "source": [
    "imprimir(r\"\\sigma_x(x,y) = \", sx)"
   ]
  },
  {
   "cell_type": "code",
   "execution_count": 17,
   "id": "82279987-5463-48f9-b37a-19e7123699a6",
   "metadata": {},
   "outputs": [
    {
     "data": {
      "text/latex": [
       "$\\displaystyle \\sigma_y(x,y) = - \\frac{q \\left(- 2 c + y\\right) \\left(c + y\\right)^{2}}{4 c^{3}}$"
      ],
      "text/plain": [
       "<IPython.core.display.Math object>"
      ]
     },
     "execution_count": 17,
     "metadata": {},
     "output_type": "execute_result"
    }
   ],
   "source": [
    "imprimir(r\"\\sigma_y(x,y) = \", sy)"
   ]
  },
  {
   "cell_type": "code",
   "execution_count": 18,
   "id": "24231d93-b88d-4130-abb7-be8f99233d16",
   "metadata": {},
   "outputs": [
    {
     "data": {
      "text/latex": [
       "$\\displaystyle \\tau_{xy}(x,y) = \\frac{3 q \\left(- L + x\\right) \\left(- c + y\\right) \\left(c + y\\right)}{4 c^{3}}$"
      ],
      "text/plain": [
       "<IPython.core.display.Math object>"
      ]
     },
     "execution_count": 18,
     "metadata": {},
     "output_type": "execute_result"
    }
   ],
   "source": [
    "imprimir(r\"\\tau_{xy}(x,y) = \", txy)"
   ]
  },
  {
   "cell_type": "markdown",
   "id": "50526d7f-3858-439f-abf1-436f47332863",
   "metadata": {},
   "source": [
    "# Cálculo de las deformaciones"
   ]
  },
  {
   "cell_type": "markdown",
   "id": "2ef43f8c-4064-44a2-a831-84a382adfc05",
   "metadata": {},
   "source": [
    "Definimos el módulo de rigidez:\n",
    "\\begin{equation}\n",
    "G = \\frac{E}{2(1 + \\nu)}\n",
    "\\end{equation}"
   ]
  },
  {
   "cell_type": "code",
   "execution_count": 19,
   "id": "7d36741c",
   "metadata": {},
   "outputs": [],
   "source": [
    "G = E/(2*(1+nu))"
   ]
  },
  {
   "cell_type": "markdown",
   "id": "aa1b9bb3-bcbb-4e2b-810c-b8e7db8515f5",
   "metadata": {},
   "source": [
    "Usamos las ecuaciones de ley de Hooke de tensión plana para materiales isótropos para calcular las deformaciones:\n",
    "\\begin{align}\n",
    "   \\varepsilon_x & = \\frac{1}{E} \\left(\\sigma_x - \\nu\\sigma_y\\right)& \\gamma_{xy} & = \\frac{1}{G}\\,\\tau_{xy}\\\\\n",
    "   \\varepsilon_y & = \\frac{1}{E} \\left(\\sigma_y - \\nu\\sigma_x\\right)& \\gamma_{yz} & = 0  \\label{eq:epsilontensionplana_orto}\\\\\n",
    "   \\varepsilon_z & = -\\frac{\\nu}{E} \\left(\\sigma_x + \\sigma_y \\right)  & \\gamma_{xz} & = 0.\n",
    "\\end{align}"
   ]
  },
  {
   "cell_type": "code",
   "execution_count": 20,
   "id": "a74f58a7-ea2c-405c-ba41-7a9984bc8b98",
   "metadata": {},
   "outputs": [],
   "source": [
    "ex  = factor((1/E)*(sx - nu*sy))\n",
    "ey  = factor((1/E)*(sy - nu*sx))\n",
    "gxy = factor((1/G)*txy)"
   ]
  },
  {
   "cell_type": "code",
   "execution_count": 21,
   "id": "5df36228-21f7-4fc7-a0c3-c22b688c7e46",
   "metadata": {},
   "outputs": [
    {
     "data": {
      "text/latex": [
       "$\\displaystyle \\varepsilon_x(x,y) = - \\frac{q \\left(15 L^{2} y - 30 L x y + 10 c^{3} \\nu + 15 c^{2} \\nu y + 6 c^{2} y - 5 \\nu y^{3} + 15 x^{2} y - 10 y^{3}\\right)}{20 E c^{3}}$"
      ],
      "text/plain": [
       "<IPython.core.display.Math object>"
      ]
     },
     "execution_count": 21,
     "metadata": {},
     "output_type": "execute_result"
    }
   ],
   "source": [
    "imprimir(r\"\\varepsilon_x(x,y) = \", ex)"
   ]
  },
  {
   "cell_type": "code",
   "execution_count": 22,
   "id": "22fd56e7-5a8f-47ac-a935-b39573e5ad43",
   "metadata": {
    "tags": []
   },
   "outputs": [
    {
     "data": {
      "text/latex": [
       "$\\displaystyle \\varepsilon_y(x,y) = \\frac{q \\left(15 L^{2} \\nu y - 30 L \\nu x y + 10 c^{3} + 6 c^{2} \\nu y + 15 c^{2} y + 15 \\nu x^{2} y - 10 \\nu y^{3} - 5 y^{3}\\right)}{20 E c^{3}}$"
      ],
      "text/plain": [
       "<IPython.core.display.Math object>"
      ]
     },
     "execution_count": 22,
     "metadata": {},
     "output_type": "execute_result"
    }
   ],
   "source": [
    "imprimir(r\"\\varepsilon_y(x,y) = \", ey)"
   ]
  },
  {
   "cell_type": "code",
   "execution_count": 23,
   "id": "f06854eb-f9f1-4823-92fb-a560d10ae985",
   "metadata": {},
   "outputs": [
    {
     "data": {
      "text/latex": [
       "$\\displaystyle \\gamma_{xy}(x,y) = \\frac{3 q \\left(- L + x\\right) \\left(- c + y\\right) \\left(c + y\\right) \\left(\\nu + 1\\right)}{2 E c^{3}}$"
      ],
      "text/plain": [
       "<IPython.core.display.Math object>"
      ]
     },
     "execution_count": 23,
     "metadata": {},
     "output_type": "execute_result"
    }
   ],
   "source": [
    "imprimir(r\"\\gamma_{xy}(x,y) = \", gxy)"
   ]
  },
  {
   "cell_type": "markdown",
   "id": "3a2b4f22-4a6d-4302-a5b1-a9fcc5998261",
   "metadata": {
    "tags": []
   },
   "source": [
    "# Cálculo de los desplazamientos"
   ]
  },
  {
   "cell_type": "markdown",
   "id": "47f8bf6d-f9a3-4cd3-b805-9ef97445fdf9",
   "metadata": {},
   "source": [
    "De las fórmulas:\n",
    "\\begin{align}\n",
    "u(x,y) &= \\int\\varepsilon_x(x',y)\\dd x'+f(y)\\\\\n",
    "v(x,y) &= \\int\\varepsilon_y(x,y')\\dd y'+g(x)\\\\\n",
    "\\frac{\\dd  f(y)}{\\dd y} + \\frac{\\dd g(x)}{\\dd x} &= \\gamma_{xy}(x,y)-\\frac{\\partial}{\\partial y}\\left( \\int\\varepsilon_x(x',y)\\dd  x'\\right) -\\frac{\\partial}{\\partial x}\\left(\\int\\varepsilon_y(x,y')\\dd y' \\right)\n",
    "\\end{align}\n",
    "\n",
    "Usamos la tercera ecuación:"
   ]
  },
  {
   "cell_type": "code",
   "execution_count": 24,
   "id": "c481d7ac-87b8-4c5c-bda9-095d4a399dd6",
   "metadata": {},
   "outputs": [
    {
     "data": {
      "text/latex": [
       "$\\displaystyle \\frac{\\dd f(y)}{\\dd y} + \\frac{\\dd g(x)}{\\dd x} = \\frac{q \\left(15 L^{2} x + 30 L c^{2} \\nu + 30 L c^{2} - 15 L \\nu y^{2} - 15 L x^{2} - 30 L y^{2} - 15 c^{2} \\nu x - 24 c^{2} x + 5 x^{3}\\right)}{20 E c^{3}}$"
      ],
      "text/plain": [
       "<IPython.core.display.Math object>"
      ]
     },
     "execution_count": 24,
     "metadata": {},
     "output_type": "execute_result"
    }
   ],
   "source": [
    "df_dy_dg_dx = factor(gxy - diff(integrate(ex,x),y) - diff(integrate(ey,y),x))\n",
    "\n",
    "imprimir(r\"\\frac{\\dd f(y)}{\\dd y} + \\frac{\\dd g(x)}{\\dd x} = \", df_dy_dg_dx)"
   ]
  },
  {
   "cell_type": "markdown",
   "id": "fc07c600-7db0-40c5-be06-dd73fb8c3ff6",
   "metadata": {},
   "source": [
    "Descomponemos la ecuación diferencial en:\n",
    "\\begin{align}\n",
    "\\frac{\\dd f(y)}{\\dd y} &= \\text{términos en función de $y$ únicamente} + \\text{constantes} + \\omega_0=0\\\\\n",
    "\\frac{\\dd g(x)}{\\dd x} &= \\text{términos en función de $x$ únicamente} - \\omega_0=0\n",
    "\\end{align}"
   ]
  },
  {
   "cell_type": "code",
   "execution_count": 25,
   "id": "72074c56-3c47-4465-b4e4-abcd81ba5836",
   "metadata": {},
   "outputs": [
    {
     "data": {
      "image/png": "[encoded data removed]",
      "text/latex": [
       "$\\displaystyle \\frac{3 L q \\left(\\nu + 1\\right)}{2 E c}$"
      ],
      "text/plain": [
       "3⋅L⋅q⋅(ν + 1)\n",
       "─────────────\n",
       "    2⋅E⋅c    "
      ]
     },
     "execution_count": 25,
     "metadata": {},
     "output_type": "execute_result"
    }
   ],
   "source": [
    "terminos_constantes = factor(df_dy_dg_dx.subs([(x,0), (y,0)]))\n",
    "\n",
    "terminos_constantes"
   ]
  },
  {
   "cell_type": "code",
   "execution_count": 26,
   "id": "5d9f148e-566e-47e3-96bc-da7370c79fb6",
   "metadata": {},
   "outputs": [
    {
     "data": {
      "image/png": "[encoded data removed]",
      "text/latex": [
       "$\\displaystyle - \\frac{3 L q y^{2} \\left(\\nu + 2\\right)}{4 E c^{3}}$"
      ],
      "text/plain": [
       "        2         \n",
       "-3⋅L⋅q⋅y ⋅(ν + 2) \n",
       "──────────────────\n",
       "           3      \n",
       "      4⋅E⋅c       "
      ]
     },
     "execution_count": 26,
     "metadata": {},
     "output_type": "execute_result"
    }
   ],
   "source": [
    "terminos_en_y = factor(df_dy_dg_dx.subs(x,0) - terminos_constantes)\n",
    "\n",
    "terminos_en_y"
   ]
  },
  {
   "cell_type": "code",
   "execution_count": 27,
   "id": "77c13edc-af5c-47b4-a910-6f7dc96bb320",
   "metadata": {},
   "outputs": [
    {
     "data": {
      "image/png": "[encoded data removed]",
      "text/latex": [
       "$\\displaystyle \\frac{q x \\left(15 L^{2} - 15 L x - 15 c^{2} \\nu - 24 c^{2} + 5 x^{2}\\right)}{20 E c^{3}}$"
      ],
      "text/plain": [
       "    ⎛    2                2         2      2⎞\n",
       "q⋅x⋅⎝15⋅L  - 15⋅L⋅x - 15⋅c ⋅ν - 24⋅c  + 5⋅x ⎠\n",
       "─────────────────────────────────────────────\n",
       "                         3                   \n",
       "                   20⋅E⋅c                    "
      ]
     },
     "execution_count": 27,
     "metadata": {},
     "output_type": "execute_result"
    }
   ],
   "source": [
    "terminos_en_x = factor(df_dy_dg_dx.subs(y,0) - terminos_constantes)\n",
    "\n",
    "terminos_en_x"
   ]
  },
  {
   "cell_type": "code",
   "execution_count": 28,
   "id": "833554d2-0b0c-446e-85bd-30c81cdf4c03",
   "metadata": {},
   "outputs": [
    {
     "data": {
      "text/latex": [
       "$\\displaystyle \\frac{\\dd f(y)}{\\dd y} =\\omega_{0} + \\frac{3 L q \\left(\\nu + 1\\right)}{2 E c} - \\frac{3 L q y^{2} \\left(\\nu + 2\\right)}{4 E c^{3}}$"
      ],
      "text/plain": [
       "<IPython.core.display.Math object>"
      ]
     },
     "execution_count": 28,
     "metadata": {},
     "output_type": "execute_result"
    }
   ],
   "source": [
    "df_dy = terminos_en_y + terminos_constantes + w0\n",
    "\n",
    "imprimir(r\"\\frac{\\dd f(y)}{\\dd y} =\", df_dy)"
   ]
  },
  {
   "cell_type": "code",
   "execution_count": 29,
   "id": "309932d3-93a8-463d-9355-5bcca144cdcf",
   "metadata": {
    "scrolled": true,
    "tags": []
   },
   "outputs": [
    {
     "data": {
      "text/latex": [
       "$\\displaystyle \\frac{\\dd g(x)}{\\dd x} =- \\omega_{0} + \\frac{q x \\left(15 L^{2} - 15 L x - 15 c^{2} \\nu - 24 c^{2} + 5 x^{2}\\right)}{20 E c^{3}}$"
      ],
      "text/plain": [
       "<IPython.core.display.Math object>"
      ]
     },
     "execution_count": 29,
     "metadata": {},
     "output_type": "execute_result"
    }
   ],
   "source": [
    "dg_dx = terminos_en_x - w0\n",
    "\n",
    "imprimir(r\"\\frac{\\dd g(x)}{\\dd x} =\", dg_dx)"
   ]
  },
  {
   "cell_type": "markdown",
   "id": "87434ae5-6693-4f41-94b4-ceadd2a62359",
   "metadata": {},
   "source": [
    "De esta forma:\n",
    "\\begin{equation}\n",
    "\\frac{\\dd f(y)}{\\dd y}+\\frac{\\dd g(x)}{\\dd x} = \\underbrace{\\omega_{0} + \\frac{3 L q \\left(\\nu + 1\\right)}{2 E c} - \\frac{3 L q y^{2} \\left(\\nu + 2\\right)}{4 E c^{3}}}_{\\frac{\\dd f(y)}{\\dd y}} + \\underbrace{\\frac{q x \\left(15 L^{2} - 15 L x - 15 c^{2} \\nu - 24 c^{2} + 5 x^{2}\\right)}{20 E c^{3}} -\\omega_{0}}_{\\frac{\\dd g(x)}{\\dd x}}\n",
    "\\end{equation}"
   ]
  },
  {
   "cell_type": "markdown",
   "id": "e979c25f-7b6f-47b1-b205-0ff224fa2699",
   "metadata": {},
   "source": [
    "Ahora, calculamos $f$ y $g$:"
   ]
  },
  {
   "cell_type": "code",
   "execution_count": 30,
   "id": "7dccdd64-3910-4901-bc58-4ac5ee5216ae",
   "metadata": {},
   "outputs": [
    {
     "data": {
      "text/latex": [
       "$\\displaystyle f(y) =u_{0} + \\frac{y \\left(2 E c \\omega_{0} + 3 L \\nu q + 3 L q\\right)}{2 E c} + \\frac{y^{3} \\left(- L \\nu q - 2 L q\\right)}{4 E c^{3}}$"
      ],
      "text/plain": [
       "<IPython.core.display.Math object>"
      ]
     },
     "execution_count": 30,
     "metadata": {},
     "output_type": "execute_result"
    }
   ],
   "source": [
    "f = integrate(df_dy, y) + u0\n",
    "\n",
    "imprimir(\"f(y) =\", f)"
   ]
  },
  {
   "cell_type": "code",
   "execution_count": 31,
   "id": "beeade03-2e33-441b-8ac1-9c2667a93ef9",
   "metadata": {},
   "outputs": [
    {
     "data": {
      "text/latex": [
       "$\\displaystyle g(x) =- \\omega_{0} x + v_{0} + \\frac{3 L^{2} q x^{2}}{8 E c^{3}} - \\frac{L q x^{3}}{4 E c^{3}} - \\frac{3 \\nu q x^{2}}{8 E c} - \\frac{3 q x^{2}}{5 E c} + \\frac{q x^{4}}{16 E c^{3}}$"
      ],
      "text/plain": [
       "<IPython.core.display.Math object>"
      ]
     },
     "execution_count": 31,
     "metadata": {},
     "output_type": "execute_result"
    }
   ],
   "source": [
    "g = integrate(dg_dx, x) + v0\n",
    "\n",
    "imprimir(\"g(x) =\", expand(g))"
   ]
  },
  {
   "cell_type": "markdown",
   "id": "2b937803-5146-42a0-90d7-1b7154749447",
   "metadata": {},
   "source": [
    "Finalmente, calculamos los desplamientos $u$ y $v$:\n",
    "\\begin{align}\n",
    "       u(x,y) = \\int \\varepsilon_x(x',y) \\dd x' + f(y) \\\\\n",
    "       v(x,y) = \\int \\varepsilon_y(x,y') \\dd y' + g(x)\n",
    "\\end{align}"
   ]
  },
  {
   "cell_type": "code",
   "execution_count": 32,
   "id": "2ee59aec-5c99-4616-8940-41189d8ef3cb",
   "metadata": {},
   "outputs": [
    {
     "data": {
      "text/latex": [
       "$\\displaystyle u(x,y) =u_{0} + \\frac{3 L q x^{2} y}{4 E c^{3}} + \\frac{y \\left(2 E c \\omega_{0} + 3 L \\nu q + 3 L q\\right)}{2 E c} - \\frac{q x^{3} y}{4 E c^{3}} + \\frac{x \\left(- 15 L^{2} q y - 10 c^{3} \\nu q - 15 c^{2} \\nu q y - 6 c^{2} q y + 5 \\nu q y^{3} + 10 q y^{3}\\right)}{20 E c^{3}} + \\frac{y^{3} \\left(- L \\nu q - 2 L q\\right)}{4 E c^{3}}$"
      ],
      "text/plain": [
       "<IPython.core.display.Math object>"
      ]
     },
     "execution_count": 32,
     "metadata": {},
     "output_type": "execute_result"
    }
   ],
   "source": [
    "u = integrate(ex, x) + f\n",
    "\n",
    "imprimir(\"u(x,y) =\", u)"
   ]
  },
  {
   "cell_type": "code",
   "execution_count": 33,
   "id": "144bb892-99ab-49ae-b91e-f4e298fc45c5",
   "metadata": {},
   "outputs": [
    {
     "data": {
      "text/latex": [
       "$\\displaystyle v(x,y) =- \\omega_{0} x + v_{0} - \\frac{L q x^{3}}{4 E c^{3}} + \\frac{q y}{2 E} + \\frac{q x^{4}}{16 E c^{3}} + \\frac{x^{2} \\cdot \\left(15 L^{2} q - 15 c^{2} \\nu q - 24 c^{2} q\\right)}{40 E c^{3}} + \\frac{y^{4} \\left(- 2 \\nu q - q\\right)}{16 E c^{3}} + \\frac{y^{2} \\cdot \\left(15 L^{2} \\nu q - 30 L \\nu q x + 6 c^{2} \\nu q + 15 c^{2} q + 15 \\nu q x^{2}\\right)}{40 E c^{3}}$"
      ],
      "text/plain": [
       "<IPython.core.display.Math object>"
      ]
     },
     "execution_count": 33,
     "metadata": {},
     "output_type": "execute_result"
    }
   ],
   "source": [
    "v = integrate(ey, y) + g\n",
    "\n",
    "imprimir(\"v(x,y) =\", v)"
   ]
  },
  {
   "cell_type": "markdown",
   "id": "cbc4578d-e4f9-4782-bdcf-bd857fd64f90",
   "metadata": {},
   "source": [
    "Sólo resta encontrar los valores de $u_0$, $v_0$ y $\\omega_0$ a partir de las condiciones de frontera y el conocimiento que en el empotramiento de la viga los desplazamientos y la rotación son nulas:\n",
    "\\begin{align}\n",
    "u( 0, y)     &= 0 &\n",
    "v(0, y)      &= 0 &\n",
    "\\theta(0, y) &= 0\n",
    "\\end{align}"
   ]
  },
  {
   "cell_type": "code",
   "execution_count": 34,
   "id": "3720693e",
   "metadata": {},
   "outputs": [],
   "source": [
    "rot = (diff(v,x) - diff(u,y))/2  # rotación en un punto"
   ]
  },
  {
   "cell_type": "code",
   "execution_count": 35,
   "id": "c4a1d682",
   "metadata": {},
   "outputs": [],
   "source": [
    "e1 =   u.subs([(x, 0)]) - 0  # = 0   el desplazamiento horizontal en el extremo izquierdo es nulo\n",
    "e2 =   v.subs([(x, 0)]) - 0  # = 0   el desplazamiento vertical en el extremo izquierdo es nulo\n",
    "e3 = rot.subs([(x, 0)]) - 0  # = 0   la rotación en el extremo izquierdo es nulo"
   ]
  },
  {
   "cell_type": "code",
   "execution_count": 36,
   "id": "d72385cb",
   "metadata": {},
   "outputs": [
    {
     "data": {
      "image/png": "[encoded data removed]",
      "text/latex": [
       "$\\displaystyle \\left\\{ \\omega_{0} : \\frac{- 3 L c^{2} \\nu q - 3 L c^{2} q + 3 L q y^{2}}{4 E c^{3}}, \\  u_{0} : \\frac{- 3 L c^{2} \\nu q y - 3 L c^{2} q y + L \\nu q y^{3} - L q y^{3}}{4 E c^{3}}, \\  v_{0} : \\frac{- 30 L^{2} \\nu q y^{2} - 40 c^{3} q y - 12 c^{2} \\nu q y^{2} - 30 c^{2} q y^{2} + 10 \\nu q y^{4} + 5 q y^{4}}{80 E c^{3}}\\right\\}$"
      ],
      "text/plain": [
       "⎧           2            2            2             2              2              3        3            2      2       3           2      2       2    2           4        4⎫\n",
       "⎪    - 3⋅L⋅c ⋅ν⋅q - 3⋅L⋅c ⋅q + 3⋅L⋅q⋅y       - 3⋅L⋅c ⋅ν⋅q⋅y - 3⋅L⋅c ⋅q⋅y + L⋅ν⋅q⋅y  - L⋅q⋅y       - 30⋅L ⋅ν⋅q⋅y  - 40⋅c ⋅q⋅y - 12⋅c ⋅ν⋅q⋅y  - 30⋅c ⋅q⋅y  + 10⋅ν⋅q⋅y  + 5⋅q⋅y ⎪\n",
       "⎨ω₀: ──────────────────────────────────, u₀: ───────────────────────────────────────────────, v₀: ───────────────────────────────────────────────────────────────────────────⎬\n",
       "⎪                       3                                              3                                                                  3                                  ⎪\n",
       "⎩                  4⋅E⋅c                                          4⋅E⋅c                                                             80⋅E⋅c                                   ⎭"
      ]
     },
     "execution_count": 36,
     "metadata": {},
     "output_type": "execute_result"
    }
   ],
   "source": [
    "u0v0w0 = solve([e1, e2, e3],[u0, v0, w0])\n",
    "\n",
    "u0v0w0"
   ]
  },
  {
   "cell_type": "markdown",
   "id": "3f06c8d6-9358-49f3-866a-ef1bc6b75e92",
   "metadata": {},
   "source": [
    "Donde las constantes de integración son:"
   ]
  },
  {
   "cell_type": "code",
   "execution_count": 37,
   "id": "f4a1d25c-5584-483d-b50d-f4a7b244dd7c",
   "metadata": {},
   "outputs": [
    {
     "data": {
      "text/latex": [
       "$\\displaystyle u_0=\\frac{L q y \\left(- 3 c^{2} \\nu - 3 c^{2} + \\nu y^{2} - y^{2}\\right)}{4 E c^{3}}$"
      ],
      "text/plain": [
       "<IPython.core.display.Math object>"
      ]
     },
     "execution_count": 37,
     "metadata": {},
     "output_type": "execute_result"
    }
   ],
   "source": [
    "imprimir(\"u_0=\", factor(u0v0w0[u0]))"
   ]
  },
  {
   "cell_type": "code",
   "execution_count": 38,
   "id": "f71b069f-1141-4d18-831c-da2fadbd3546",
   "metadata": {
    "scrolled": true
   },
   "outputs": [
    {
     "data": {
      "text/latex": [
       "$\\displaystyle v_0=\\frac{q y \\left(- 30 L^{2} \\nu y - 40 c^{3} - 12 c^{2} \\nu y - 30 c^{2} y + 10 \\nu y^{3} + 5 y^{3}\\right)}{80 E c^{3}}$"
      ],
      "text/plain": [
       "<IPython.core.display.Math object>"
      ]
     },
     "execution_count": 38,
     "metadata": {},
     "output_type": "execute_result"
    }
   ],
   "source": [
    "imprimir(\"v_0=\", factor(u0v0w0[v0]))"
   ]
  },
  {
   "cell_type": "code",
   "execution_count": 39,
   "id": "7dd99dda-7950-4de2-a5c3-37ad200da278",
   "metadata": {},
   "outputs": [
    {
     "data": {
      "text/latex": [
       "$\\displaystyle \\omega_0=\\frac{3 L q \\left(- c^{2} \\nu - c^{2} + y^{2}\\right)}{4 E c^{3}}$"
      ],
      "text/plain": [
       "<IPython.core.display.Math object>"
      ]
     },
     "execution_count": 39,
     "metadata": {},
     "output_type": "execute_result"
    }
   ],
   "source": [
    "imprimir(r\"\\omega_0=\", factor(u0v0w0[w0]))"
   ]
  },
  {
   "cell_type": "markdown",
   "id": "c002ab08",
   "metadata": {},
   "source": [
    "Reemplazamos las constantes de integración:"
   ]
  },
  {
   "cell_type": "code",
   "execution_count": 40,
   "id": "65848f8b",
   "metadata": {},
   "outputs": [],
   "source": [
    "u = factor(u.subs(u0v0w0))\n",
    "v = factor(v.subs(u0v0w0))"
   ]
  },
  {
   "cell_type": "markdown",
   "id": "acb7265b",
   "metadata": {},
   "source": [
    "Obtenemos los desplazamientos de la viga:"
   ]
  },
  {
   "cell_type": "code",
   "execution_count": 41,
   "id": "0019ad2d",
   "metadata": {
    "scrolled": true
   },
   "outputs": [
    {
     "data": {
      "text/latex": [
       "$\\displaystyle u(x,y) = - \\frac{q x \\left(15 L^{2} y - 15 L x y + 10 c^{3} \\nu + 15 c^{2} \\nu y + 6 c^{2} y - 5 \\nu y^{3} + 5 x^{2} y - 10 y^{3}\\right)}{20 E c^{3}}$"
      ],
      "text/plain": [
       "<IPython.core.display.Math object>"
      ]
     },
     "execution_count": 41,
     "metadata": {},
     "output_type": "execute_result"
    }
   ],
   "source": [
    "imprimir(r\"u(x,y) = \", u)"
   ]
  },
  {
   "cell_type": "code",
   "execution_count": 42,
   "id": "37e6e1a7",
   "metadata": {},
   "outputs": [
    {
     "data": {
      "text/latex": [
       "$\\displaystyle v(x,y) = \\frac{q x \\left(30 L^{2} x + 60 L c^{2} \\nu + 60 L c^{2} - 60 L \\nu y^{2} - 20 L x^{2} - 60 L y^{2} - 30 c^{2} \\nu x - 48 c^{2} x + 30 \\nu x y^{2} + 5 x^{3}\\right)}{80 E c^{3}}$"
      ],
      "text/plain": [
       "<IPython.core.display.Math object>"
      ]
     },
     "execution_count": 42,
     "metadata": {},
     "output_type": "execute_result"
    }
   ],
   "source": [
    "imprimir(r\"v(x,y) = \", v)"
   ]
  },
  {
   "cell_type": "markdown",
   "id": "ee3dce21-91e8-40a2-b3fd-301e4d678660",
   "metadata": {},
   "source": [
    "# Comparación de la teoría de Euler-Bernoulli con lo estimado por la teoría de la elasticidad\n",
    "\n",
    "Nota: falta mejorar bastante la claridad de esta sección"
   ]
  },
  {
   "cell_type": "markdown",
   "id": "efe19e15",
   "metadata": {},
   "source": [
    "Por último, la deflexión vertical de la viga en el punto $x=L$, $y=0$ es:"
   ]
  },
  {
   "cell_type": "code",
   "execution_count": 43,
   "id": "cfe4f5a1",
   "metadata": {
    "scrolled": true
   },
   "outputs": [
    {
     "data": {
      "text/latex": [
       "$\\displaystyle v(L,0) = \\frac{3 L^{2} q \\left(5 L^{2} + 10 c^{2} \\nu + 4 c^{2}\\right)}{80 E c^{3}}$"
      ],
      "text/plain": [
       "<IPython.core.display.Math object>"
      ]
     },
     "execution_count": 43,
     "metadata": {},
     "output_type": "execute_result"
    }
   ],
   "source": [
    "v_L_0 = v.subs([(x,L), (y,0)])\n",
    "imprimir(r\"v(L,0) = \", factor(v_L_0))"
   ]
  },
  {
   "cell_type": "markdown",
   "id": "1fe12ff8",
   "metadata": {},
   "source": [
    "Reemplazamos $\\frac{2tc^3}{3}$ por $I$:"
   ]
  },
  {
   "cell_type": "code",
   "execution_count": 44,
   "id": "eb7dc20b",
   "metadata": {},
   "outputs": [],
   "source": [
    "I  = symbols(\"I\")\n",
    "Ib = 2*t*c**3/3\n",
    "v_L_0 = v_L_0*Ib/I  # Es equivalente a multiplicar por uno."
   ]
  },
  {
   "cell_type": "markdown",
   "id": "b7932e92",
   "metadata": {},
   "source": [
    "Primera forma de factorizar la expresión:"
   ]
  },
  {
   "cell_type": "code",
   "execution_count": 45,
   "id": "e720eaa6",
   "metadata": {},
   "outputs": [
    {
     "data": {
      "text/latex": [
       "$\\displaystyle v(0,0) =\\frac{L^{4} q \\left(1 + \\frac{2 c^{2} \\nu}{L^{2}} + \\frac{4 c^{2}}{5 L^{2}}\\right)}{8 E I}$"
      ],
      "text/plain": [
       "<IPython.core.display.Math object>"
      ]
     },
     "execution_count": 45,
     "metadata": {},
     "output_type": "execute_result"
    }
   ],
   "source": [
    "ec1 = Add(expand(v_L_0/(Rational(1,8)*q*L**4/(E*I))) * (Rational(1,8)*q*L**4/(E*I)),\n",
    "          evaluate=False)\n",
    "imprimir(r\"v(0,0) =\", ec1)"
   ]
  },
  {
   "cell_type": "markdown",
   "id": "33479106",
   "metadata": {},
   "source": [
    "Segunda forma de factorizar la expresión:"
   ]
  },
  {
   "cell_type": "code",
   "execution_count": 46,
   "id": "5a78c78b",
   "metadata": {},
   "outputs": [
    {
     "data": {
      "text/latex": [
       "$\\displaystyle v(0,0) =\\frac{L^{4} q \\left(\\frac{(2c)^{2} \\left(\\frac{\\nu}{2} + \\frac{1}{5}\\right)}{L^{2}} + 1\\right)}{8 E I}$"
      ],
      "text/plain": [
       "<IPython.core.display.Math object>"
      ]
     },
     "execution_count": 46,
     "metadata": {},
     "output_type": "execute_result"
    }
   ],
   "source": [
    "_2c = symbols(\"(2c)\")\n",
    "ec2 = collect(ec1.subs(c, _2c/2), _2c**2/L**2)\n",
    "imprimir(r\"v(0,0) =\", ec2)"
   ]
  },
  {
   "cell_type": "markdown",
   "id": "c189e5ba",
   "metadata": {},
   "source": [
    "En este caso, el parámetro $h/L$ viene representado de forma equivalente por $2c/L$. Por lo tanto, el % de variación respecto a la teoría de Euler-Bernoulli (revisar [este programa](https://github.com/jnramirezg/medio_continuo/blob/main/codigo/29-modelo_viga_voladizo.ipynb)) viene dado por:\n",
    "$$\\left(\\frac{3\\nu}{2}+\\frac{6}{5}\\right)\\left(\\frac{2c}{L}\\right)^2 = \\left(\\frac{3\\nu}{2}+\\frac{6}{5}\\right)\\left(\\frac{h}{L}\\right)^2$$"
   ]
  },
  {
   "cell_type": "markdown",
   "id": "fb6912a8",
   "metadata": {},
   "source": [
    "Suponiendo $\\nu=0.3$, por ejemplo, para $2c/L=h/L=[0.05, 0.1, 0.25]$:"
   ]
  },
  {
   "cell_type": "code",
   "execution_count": 47,
   "id": "1097b0bb",
   "metadata": {},
   "outputs": [],
   "source": [
    "nu=0.3"
   ]
  },
  {
   "cell_type": "code",
   "execution_count": 48,
   "id": "c19e0726",
   "metadata": {},
   "outputs": [
    {
     "data": {
      "image/png": "[encoded data removed]",
      "text/latex": [
       "$\\displaystyle 0.004125$"
      ],
      "text/plain": [
       "0.004125"
      ]
     },
     "execution_count": 48,
     "metadata": {},
     "output_type": "execute_result"
    }
   ],
   "source": [
    "h_L=0.05\n",
    "(3*nu/2+6/5)*(h_L)**2"
   ]
  },
  {
   "cell_type": "code",
   "execution_count": 49,
   "id": "1a69bb72",
   "metadata": {},
   "outputs": [
    {
     "data": {
      "image/png": "[encoded data removed]",
      "text/latex": [
       "$\\displaystyle 0.0165$"
      ],
      "text/plain": [
       "0.0165"
      ]
     },
     "execution_count": 49,
     "metadata": {},
     "output_type": "execute_result"
    }
   ],
   "source": [
    "h_L=0.1\n",
    "(3*nu/2+6/5)*(h_L)**2"
   ]
  },
  {
   "cell_type": "code",
   "execution_count": 50,
   "id": "22149ffc",
   "metadata": {
    "scrolled": true
   },
   "outputs": [
    {
     "data": {
      "image/png": "[encoded data removed]",
      "text/latex": [
       "$\\displaystyle 0.103125$"
      ],
      "text/plain": [
       "0.103125"
      ]
     },
     "execution_count": 50,
     "metadata": {},
     "output_type": "execute_result"
    }
   ],
   "source": [
    "h_L=0.25\n",
    "(3*nu/2+6/5)*(h_L)**2"
   ]
  }
 ],
 "metadata": {
  "kernelspec": {
   "display_name": "Python 3 (ipykernel)",
   "language": "python",
   "name": "python3"
  },
  "language_info": {
   "codemirror_mode": {
    "name": "ipython",
    "version": 3
   },
   "file_extension": ".py",
   "mimetype": "text/x-python",
   "name": "python",
   "nbconvert_exporter": "python",
   "pygments_lexer": "ipython3",
   "version": "3.10.9"
  }
 },
 "nbformat": 4,
 "nbformat_minor": 5
}
