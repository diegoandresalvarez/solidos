{
 "cells": [
  {
   "cell_type": "markdown",
   "metadata": {},
   "source": [
    "# El vector de Galerkin"
   ]
  },
  {
   "cell_type": "code",
   "execution_count": 1,
   "metadata": {
    "id": "_z9Y3oI2XaTn"
   },
   "outputs": [],
   "source": [
    "from sympy import diff, Function, simplify, symbols, factor, Eq, init_printing, trigsimp, expand, latex, Matrix\n",
    "\n",
    "# Para imprimir bonito\n",
    "init_printing()\n",
    "from IPython.display import Math                 \n",
    "def imprimir (texto1, variable, texto2=\"\"):\n",
    "    return Math(texto1 +  rf'{latex(variable)}' + texto2)"
   ]
  },
  {
   "cell_type": "code",
   "execution_count": 2,
   "metadata": {
    "id": "w9U-4QV-Xfn9"
   },
   "outputs": [],
   "source": [
    "# constantes y variables\n",
    "E, nu   = symbols(\"E, nu\")\n",
    "x, y, z = symbols(\"x, y, z\")\n",
    "X, Y, Z = symbols(\"X, Y, Z\")\n",
    "\n",
    "# constantes de Lamé\n",
    "lamda = (nu*E)/((1 + nu)*(1 - 2*nu))\n",
    "G     = E/(2*(1 + nu))\n",
    "\n",
    "# vector de fuerzas másicas\n",
    "b = Matrix([[ X ],     \n",
    "            [ Y ],      \n",
    "            [ Z ]])"
   ]
  },
  {
   "cell_type": "markdown",
   "metadata": {},
   "source": [
    "Definimos el laplaciano de un campo escalar y vectorial:"
   ]
  },
  {
   "cell_type": "code",
   "execution_count": 3,
   "metadata": {},
   "outputs": [],
   "source": [
    "# laplaciano de un campo escalar\n",
    "lapl     = lambda f : diff(f,x,2) + diff(f,y,2) + diff(f,z,2)\n",
    "\n",
    "# laplaciano de un campo vectorial rectangular (laplaciano vectorial) \n",
    "lapl_vec = lambda v : Matrix([[ lapl(v[0]) ],\n",
    "                              [ lapl(v[1]) ],\n",
    "                              [ lapl(v[2]) ]])"
   ]
  },
  {
   "cell_type": "code",
   "execution_count": 4,
   "metadata": {},
   "outputs": [],
   "source": [
    "# gradiente de un campo escalar\n",
    "grad = lambda f : Matrix([[ diff(f,x) ],\n",
    "                          [ diff(f,y) ],\n",
    "                          [ diff(f,z) ]])"
   ]
  },
  {
   "cell_type": "code",
   "execution_count": 5,
   "metadata": {},
   "outputs": [],
   "source": [
    "# divergencia de un campo vectorial\n",
    "div = lambda v : diff(v[0],x) + diff(v[1],y) + diff(v[2],z)"
   ]
  },
  {
   "cell_type": "markdown",
   "metadata": {},
   "source": [
    "El campo vectorial de desplazamientos $\\boldsymbol{u}$ se puede definir en términos del vector de Galerkin $\\boldsymbol{p}$ como:\n",
    "\\begin{equation*}\n",
    "\\boldsymbol{u} = \\frac{2(1 - \\nu)\\nabla^2 \\boldsymbol{p} - \\nabla(\\nabla \\cdot \\boldsymbol{p})}{2G},\n",
    "\\end{equation*}\n",
    "es decir,\n",
    "\\begin{align*}\n",
    "u(x,y,z) &= \\frac{1-\\nu}{G} \\nabla^2 p_x - \\frac{1}{2G} \\frac{\\partial}{\\partial x}(\\nabla \\cdot \\boldsymbol{p}) \\\\\n",
    "v(x,y,z) &= \\frac{1-\\nu}{G} \\nabla^2 p_y - \\frac{1}{2G} \\frac{\\partial}{\\partial y}(\\nabla \\cdot \\boldsymbol{p}) \\\\\n",
    "w(x,y,z) &= \\frac{1-\\nu}{G} \\nabla^2 p_z - \\frac{1}{2G} \\frac{\\partial}{\\partial z}(\\nabla \\cdot \\boldsymbol{p})\n",
    "\\end{align*}   "
   ]
  },
  {
   "cell_type": "code",
   "execution_count": 6,
   "metadata": {},
   "outputs": [],
   "source": [
    "# vector de Galerkin\n",
    "px = Function(\"p_x\")(x, y, z)\n",
    "py = Function(\"p_y\")(x, y, z)\n",
    "pz = Function(\"p_z\")(x, y, z)\n",
    "p = Matrix([[ px ],\n",
    "            [ py ],\n",
    "            [ pz ]])\n",
    "\n",
    "# definición del campo vectorial de desplazamientos a partir del vector de Galerkin\n",
    "vec_u = (2*(1 - nu)*lapl_vec(p) - grad(div(p)))/(2*G)\n",
    "u, v, w = vec_u"
   ]
  },
  {
   "cell_type": "markdown",
   "metadata": {},
   "source": [
    "Al reemplazar dicha definición del campo vectorial de desplazamientos $\\boldsymbol{u}$ en las ecuaciones de Cauchy-Navier"
   ]
  },
  {
   "cell_type": "code",
   "execution_count": 7,
   "metadata": {},
   "outputs": [],
   "source": [
    "# ecuación de Cauchy-Navier en términos de desplazamientos\n",
    "eq1 = simplify((lamda + G)*grad(div(vec_u)) + G*lapl_vec(vec_u) + b)"
   ]
  },
  {
   "cell_type": "markdown",
   "metadata": {},
   "source": [
    "Se obtiene que:\n",
    "\\begin{equation*}\n",
    "(1 - \\nu)\\nabla^4 \\boldsymbol{p} + \\boldsymbol{b} = \\boldsymbol{0}\n",
    "\\end{equation*}"
   ]
  },
  {
   "cell_type": "code",
   "execution_count": 8,
   "metadata": {},
   "outputs": [],
   "source": [
    "# ecuación de Cauchy-Navier en términos del vector de Galerkin\n",
    "eq2 = (1 - nu)*lapl_vec(lapl_vec(p)) + b"
   ]
  },
  {
   "cell_type": "code",
   "execution_count": 9,
   "metadata": {},
   "outputs": [
    {
     "data": {
      "image/png": "[encoded data removed]",
      "text/latex": [
       "$\\displaystyle \\left[\\begin{matrix}0\\\\0\\\\0\\end{matrix}\\right]$"
      ],
      "text/plain": [
       "⎡0⎤\n",
       "⎢ ⎥\n",
       "⎢0⎥\n",
       "⎢ ⎥\n",
       "⎣0⎦"
      ]
     },
     "execution_count": 9,
     "metadata": {},
     "output_type": "execute_result"
    }
   ],
   "source": [
    "simplify(eq1 - eq2)"
   ]
  },
  {
   "cell_type": "markdown",
   "metadata": {},
   "source": [
    "De aquí se deduce que si las fuerzas másicas $\\boldsymbol{b}$ son nulas, las componentes del vector de Galerkin deben ser funciones biarmónicas:\n",
    "\\begin{equation*}\n",
    "\\nabla^4 \\boldsymbol{p} = \\boldsymbol{0}\n",
    "\\end{equation*}"
   ]
  },
  {
   "cell_type": "markdown",
   "metadata": {},
   "source": [
    "A partir de los desplazamientos se obtienen las deformaciones:\n",
    "\\begin{align*}\n",
    "\\varepsilon_x &= \\frac{\\partial u}{\\partial x}   &   \\gamma_{xy} &= \\frac{\\partial u}{\\partial y} + \\frac{\\partial v}{\\partial x} \\\\\n",
    "\\varepsilon_y &= \\frac{\\partial v}{\\partial y}   &   \\gamma_{xz} &= \\frac{\\partial u}{\\partial z} + \\frac{\\partial w}{\\partial x} \\\\\n",
    "\\varepsilon_z &= \\frac{\\partial w}{\\partial z}   &   \\gamma_{yz} &= \\frac{\\partial v}{\\partial z} + \\frac{\\partial w}{\\partial y}\n",
    "\\end{align*}"
   ]
  },
  {
   "cell_type": "code",
   "execution_count": 10,
   "metadata": {},
   "outputs": [],
   "source": [
    "ex  = diff(u, x)\n",
    "ey  = diff(v, y)\n",
    "ez  = diff(w, z)\n",
    "gxy = diff(u, y) + diff(v, x)\n",
    "gxz = diff(u, z) + diff(w, x)\n",
    "gyz = diff(v, z) + diff(w, y)"
   ]
  },
  {
   "cell_type": "code",
   "execution_count": 11,
   "metadata": {},
   "outputs": [],
   "source": [
    "ex2  = ((1 - nu)/G)*lapl(diff(px,x)) - (1/(2*G))*diff(div(p), x, 2)\n",
    "ey2  = ((1 - nu)/G)*lapl(diff(py,y)) - (1/(2*G))*diff(div(p), y, 2)\n",
    "ez2  = ((1 - nu)/G)*lapl(diff(pz,z)) - (1/(2*G))*diff(div(p), z, 2)\n",
    "gxy2 = ((1 - nu)/G)*lapl(diff(px,y) + diff(py,x)) - (1/G)*diff(div(p), x, y)\n",
    "gxz2 = ((1 - nu)/G)*lapl(diff(px,z) + diff(pz,x)) - (1/G)*diff(div(p), x, z)\n",
    "gyz2 = ((1 - nu)/G)*lapl(diff(py,z) + diff(pz,y)) - (1/G)*diff(div(p), y, z)"
   ]
  },
  {
   "cell_type": "code",
   "execution_count": 12,
   "metadata": {},
   "outputs": [
    {
     "data": {
      "image/png": "[encoded data removed]",
      "text/latex": [
       "$\\displaystyle \\left[ 0, \\  0, \\  0, \\  0, \\  0, \\  0\\right]$"
      ],
      "text/plain": [
       "[0, 0, 0, 0, 0, 0]"
      ]
     },
     "execution_count": 12,
     "metadata": {},
     "output_type": "execute_result"
    }
   ],
   "source": [
    "[ simplify(ex  - ex2),\n",
    "  simplify(ey  - ey2),\n",
    "  simplify(ez  - ez2),\n",
    "  simplify(gxy - gxy2),\n",
    "  simplify(gxz - gxz2),\n",
    "  simplify(gyz - gyz2) ]"
   ]
  },
  {
   "cell_type": "markdown",
   "metadata": {},
   "source": [
    "Aplicando las ecuaciones de Lamé obtenemos los esfuerzos:\n",
    "\\begin{align*}\n",
    "   \\sigma_x &= \\lambda e + 2 G \\varepsilon_x   &   \\tau_{xy} = G\\gamma_{xy} \\\\\n",
    "   \\sigma_y &= \\lambda e + 2 G \\varepsilon_y   &   \\tau_{xz} = G\\gamma_{xz} \\\\\n",
    "   \\sigma_z &= \\lambda e + 2 G \\varepsilon_z   &   \\tau_{yz} = G\\gamma_{yz}   \n",
    "\\end{align*}"
   ]
  },
  {
   "cell_type": "code",
   "execution_count": 13,
   "metadata": {},
   "outputs": [],
   "source": [
    "e = ex + ey + ez"
   ]
  },
  {
   "cell_type": "code",
   "execution_count": 14,
   "metadata": {},
   "outputs": [],
   "source": [
    "sx  = lamda*e + 2*G*ex\n",
    "sy  = lamda*e + 2*G*ey\n",
    "sz  = lamda*e + 2*G*ez\n",
    "txy = G*gxy\n",
    "txz = G*gxz\n",
    "tyz = G*gyz"
   ]
  },
  {
   "cell_type": "code",
   "execution_count": 15,
   "metadata": {},
   "outputs": [],
   "source": [
    "sx2  = 2*(1-nu)*lapl(diff(px,x)) + nu*lapl(div(p)) - diff(div(p), x, 2)\n",
    "sy2  = 2*(1-nu)*lapl(diff(py,y)) + nu*lapl(div(p)) - diff(div(p), y, 2)\n",
    "sz2  = 2*(1-nu)*lapl(diff(pz,z)) + nu*lapl(div(p)) - diff(div(p), z, 2)\n",
    "txy2 = (1 - nu)*lapl(diff(px,y) + diff(py,x)) - diff(div(p), x, y)\n",
    "txz2 = (1 - nu)*lapl(diff(px,z) + diff(pz,x)) - diff(div(p), x, z)\n",
    "tyz2 = (1 - nu)*lapl(diff(py,z) + diff(pz,y)) - diff(div(p), y, z)"
   ]
  },
  {
   "cell_type": "code",
   "execution_count": 16,
   "metadata": {},
   "outputs": [
    {
     "data": {
      "image/png": "[encoded data removed]",
      "text/latex": [
       "$\\displaystyle \\left[ 0, \\  0, \\  0, \\  0, \\  0, \\  0\\right]$"
      ],
      "text/plain": [
       "[0, 0, 0, 0, 0, 0]"
      ]
     },
     "execution_count": 16,
     "metadata": {},
     "output_type": "execute_result"
    }
   ],
   "source": [
    "[ simplify(sx  - sx2),\n",
    "  simplify(sy  - sy2),\n",
    "  simplify(sz  - sz2),\n",
    "  simplify(txy - txy2),\n",
    "  simplify(txz - txz2),\n",
    "  simplify(tyz - tyz2) ]"
   ]
  }
 ],
 "metadata": {
  "colab": {
   "provenance": []
  },
  "kernelspec": {
   "display_name": "Python 3 (ipykernel)",
   "language": "python",
   "name": "python3"
  },
  "language_info": {
   "codemirror_mode": {
    "name": "ipython",
    "version": 3
   },
   "file_extension": ".py",
   "mimetype": "text/x-python",
   "name": "python",
   "nbconvert_exporter": "python",
   "pygments_lexer": "ipython3",
   "version": "3.10.9"
  }
 },
 "nbformat": 4,
 "nbformat_minor": 4
}
