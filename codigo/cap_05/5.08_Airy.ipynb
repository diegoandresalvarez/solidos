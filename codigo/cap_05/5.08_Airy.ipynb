{
 "cells": [
  {
   "cell_type": "code",
   "execution_count": 1,
   "id": "aa9cb753",
   "metadata": {},
   "outputs": [],
   "source": [
    "from sympy import *"
   ]
  },
  {
   "cell_type": "code",
   "execution_count": 2,
   "id": "2f310160",
   "metadata": {},
   "outputs": [],
   "source": [
    "x,y,z = symbols(\"x,y,z\")\n",
    "A20,A21,A03,A23=symbols(\"A20,A21,A03,A23\")\n",
    "c,L,q = symbols(\"c,L,q\")\n",
    "E, nu = symbols(\"E, nu\")\n",
    "u0, v0, w0 = symbols(\"u0, v0, w0\")"
   ]
  },
  {
   "cell_type": "code",
   "execution_count": 3,
   "id": "b9be0873",
   "metadata": {},
   "outputs": [],
   "source": [
    "phi = A20*x**2 + A21*x**2*y + A03*y**3 + A23*x**2*y**3 - A23*y**5/5"
   ]
  },
  {
   "cell_type": "code",
   "execution_count": 4,
   "id": "6b1537e4",
   "metadata": {},
   "outputs": [
    {
     "data": {
      "text/latex": [
       "$\\displaystyle A_{03} y^{3} + A_{20} x^{2} + A_{21} x^{2} y + A_{23} x^{2} y^{3} - \\frac{A_{23} y^{5}}{5}$"
      ],
      "text/plain": [
       "A03*y**3 + A20*x**2 + A21*x**2*y + A23*x**2*y**3 - A23*y**5/5"
      ]
     },
     "execution_count": 4,
     "metadata": {},
     "output_type": "execute_result"
    }
   ],
   "source": [
    "phi"
   ]
  },
  {
   "cell_type": "code",
   "execution_count": 5,
   "id": "0477000f",
   "metadata": {},
   "outputs": [],
   "source": [
    "t = 1\n",
    "V = 0"
   ]
  },
  {
   "cell_type": "code",
   "execution_count": 6,
   "id": "892baabd",
   "metadata": {},
   "outputs": [],
   "source": [
    "lapl = lambda f: diff(f,x,2) + diff(f,y,2)\n",
    "biar = lambda f: lapl(lapl(f))"
   ]
  },
  {
   "cell_type": "code",
   "execution_count": 7,
   "id": "f4ba1664",
   "metadata": {},
   "outputs": [
    {
     "data": {
      "text/latex": [
       "$\\displaystyle 0$"
      ],
      "text/plain": [
       "0"
      ]
     },
     "execution_count": 7,
     "metadata": {},
     "output_type": "execute_result"
    }
   ],
   "source": [
    "biar(phi)"
   ]
  },
  {
   "cell_type": "code",
   "execution_count": 8,
   "id": "3c11bc7e",
   "metadata": {},
   "outputs": [],
   "source": [
    "sx  =  diff(phi,y,2) + V\n",
    "sy  =  diff(phi,x,2) + V\n",
    "txy = -diff(phi,x,1,y,1)"
   ]
  },
  {
   "cell_type": "code",
   "execution_count": 9,
   "id": "71d1e1bc",
   "metadata": {},
   "outputs": [],
   "source": [
    "V   = lambda xx: -integrate(integrate( txy.subs(x,xx), (z,0,t)), (y,-c,c))\n",
    "M   = lambda xx: -integrate(integrate(sx.subs(x,xx)*y, (z,0,t)), (y,-c,c))\n",
    "fax =             integrate(integrate(             sx, (z,0,t)), (y,-c,c))"
   ]
  },
  {
   "cell_type": "code",
   "execution_count": 10,
   "id": "3bfc2063",
   "metadata": {},
   "outputs": [],
   "source": [
    "e1 = txy.subs(y,+c) - 0\n",
    "e2 = txy.subs(y,-c) - 0\n",
    "e3 = sy.subs(y, +c) - q/t\n",
    "e4 = sy.subs(y, -c) - 0"
   ]
  },
  {
   "cell_type": "code",
   "execution_count": 11,
   "id": "4ea48ef5",
   "metadata": {},
   "outputs": [],
   "source": [
    "e5 = V(-L) - (-q*L)\n",
    "e6 = V(+L) - (+q*L)\n",
    "e7 = M(-L) - 0\n",
    "e8 = M(+L) - 0\n",
    "e9 = fax   - 0"
   ]
  },
  {
   "cell_type": "code",
   "execution_count": 12,
   "id": "ba7f058f",
   "metadata": {},
   "outputs": [],
   "source": [
    "ctes = solve([e1,e2,e3,e4,e5,e6,e7,e8,e9], [A20,A21,A03,A23])"
   ]
  },
  {
   "cell_type": "code",
   "execution_count": 13,
   "id": "439c7f89",
   "metadata": {},
   "outputs": [],
   "source": [
    "sx = factor(sx.subs([(A20, ctes[A20]), (A21, ctes[A21]), \n",
    "                     (A03, ctes[A03]), (A23, ctes[A23])]))\n",
    "sy = factor(sy.subs([(A20, ctes[A20]), (A21, ctes[A21]), \n",
    "                     (A03, ctes[A03]), (A23, ctes[A23])]))\n",
    "txy = factor(txy.subs([(A20, ctes[A20]), (A21, ctes[A21]), \n",
    "                       (A03, ctes[A03]), (A23, ctes[A23])]))"
   ]
  },
  {
   "cell_type": "markdown",
   "id": "d9b02bef",
   "metadata": {},
   "source": [
    "$\\displaystyle - \\frac{q y \\left(- 15 L^{2} + 6 c^{2} + 15 x^{2} - 10 y^{2}\\right)}{20 c^{3}}$\n",
    "\n",
    "$\\displaystyle - \\frac{q \\left(- 2 c + y\\right) \\left(c + y\\right)^{2}}{4 c^{3}}$\n",
    "\n",
    "$\\displaystyle \\frac{3 q x \\left(- c + y\\right) \\left(c + y\\right)}{4 c^{3}}$"
   ]
  },
  {
   "cell_type": "code",
   "execution_count": 14,
   "id": "bb2e64f9",
   "metadata": {},
   "outputs": [],
   "source": [
    "G = E/(2*(1+nu))\n",
    "ex  = factor((1/E)*(sx - nu*sy))\n",
    "ey  = factor((1/E)*(sy - nu*sx))\n",
    "gxy = factor((1/G)*txy)"
   ]
  },
  {
   "cell_type": "markdown",
   "id": "5b96dc5b",
   "metadata": {},
   "source": [
    "$\\displaystyle - \\frac{q \\left(- 15 L^{2} y + 10 c^{3} \\nu + 15 c^{2} \\nu y + 6 c^{2} y - 5 \\nu y^{3} + 15 x^{2} y - 10 y^{3}\\right)}{20 E c^{3}}$\n",
    "\n",
    "$\\displaystyle \\frac{q \\left(- 15 L^{2} \\nu y + 10 c^{3} + 6 c^{2} \\nu y + 15 c^{2} y + 15 \\nu x^{2} y - 10 \\nu y^{3} - 5 y^{3}\\right)}{20 E c^{3}}$\n",
    "\n",
    "$\\displaystyle \\frac{3 q x \\left(- c + y\\right) \\left(c + y\\right) \\left(\\nu + 1\\right)}{2 E c^{3}}$"
   ]
  },
  {
   "cell_type": "code",
   "execution_count": 15,
   "id": "1b8450a1",
   "metadata": {},
   "outputs": [],
   "source": [
    "df_dy_dg_dx = gxy - diff(integrate(ex,x),y) - diff(integrate(ey,y),x)"
   ]
  },
  {
   "cell_type": "code",
   "execution_count": 16,
   "id": "a5cf7638",
   "metadata": {},
   "outputs": [],
   "source": [
    "df_dy = factor(expand(df_dy_dg_dx.subs(x,0))) + w0"
   ]
  },
  {
   "cell_type": "code",
   "execution_count": 17,
   "id": "853ea76f",
   "metadata": {},
   "outputs": [],
   "source": [
    "dg_dx = factor(expand(df_dy_dg_dx.subs(y,0))) - w0"
   ]
  },
  {
   "cell_type": "markdown",
   "id": "2c6ccb21",
   "metadata": {},
   "source": [
    "$\\displaystyle - \\omega_{0} + \\frac{q x \\left(- 15 L^{2} - 15 c^{2} \\nu - 24 c^{2} + 5 x^{2}\\right)}{20 E c^{3}}$"
   ]
  },
  {
   "cell_type": "code",
   "execution_count": 18,
   "id": "fcd296d1",
   "metadata": {},
   "outputs": [],
   "source": [
    "f = integrate(df_dy, y) + u0\n",
    "g = integrate(dg_dx, x) + v0"
   ]
  },
  {
   "cell_type": "markdown",
   "id": "aa0f563d",
   "metadata": {},
   "source": [
    "$\\displaystyle \\omega_{0} y + u_{0}$\n",
    "\n",
    "$\\displaystyle - \\omega_{0} x + v_{0} + \\frac{q x^{4}}{16 E c^{3}} + \\frac{x^{2} \\left(- 15 L^{2} q - 15 c^{2} \\nu q - 24 c^{2} q\\right)}{40 E c^{3}}$\n"
   ]
  },
  {
   "cell_type": "code",
   "execution_count": 19,
   "id": "82ffcc91",
   "metadata": {},
   "outputs": [],
   "source": [
    "u = integrate(ex, x) + f\n",
    "v = integrate(ey, y) + g"
   ]
  },
  {
   "cell_type": "code",
   "execution_count": 20,
   "id": "c4a1d682",
   "metadata": {},
   "outputs": [],
   "source": [
    "e1 = u.subs([(x, 0)])       - 0\n",
    "e2 = v.subs([(x,+L),(y,0)]) - 0\n",
    "e3 = v.subs([(x,-L),(y,0)]) - 0"
   ]
  },
  {
   "cell_type": "code",
   "execution_count": 21,
   "id": "d72385cb",
   "metadata": {},
   "outputs": [],
   "source": [
    "ctes = solve([e1,e2,e3],[u0, v0, w0])"
   ]
  },
  {
   "cell_type": "code",
   "execution_count": 22,
   "id": "0019ad2d",
   "metadata": {
    "scrolled": true
   },
   "outputs": [],
   "source": [
    "u = factor(u.subs([(u0, ctes[u0]),(v0, ctes[v0]),(w0, ctes[w0])]))\n",
    "v = factor(v.subs([(u0, ctes[u0]),(v0, ctes[v0]),(w0, ctes[w0])]))"
   ]
  },
  {
   "cell_type": "code",
   "execution_count": 23,
   "id": "cfe4f5a1",
   "metadata": {},
   "outputs": [
    {
     "data": {
      "text/latex": [
       "$\\displaystyle \\frac{q \\left(25 L^{4} + 30 L^{2} c^{2} \\nu + 48 L^{2} c^{2}\\right)}{80 E c^{3}}$"
      ],
      "text/plain": [
       "q*(25*L**4 + 30*L**2*c**2*nu + 48*L**2*c**2)/(80*E*c**3)"
      ]
     },
     "execution_count": 23,
     "metadata": {},
     "output_type": "execute_result"
    }
   ],
   "source": [
    "v.subs([(x,0), (y,0)])"
   ]
  }
 ],
 "metadata": {
  "kernelspec": {
   "display_name": "Python 3",
   "language": "python",
   "name": "python3"
  },
  "language_info": {
   "codemirror_mode": {
    "name": "ipython",
    "version": 3
   },
   "file_extension": ".py",
   "mimetype": "text/x-python",
   "name": "python",
   "nbconvert_exporter": "python",
   "pygments_lexer": "ipython3",
   "version": "3.8.8"
  }
 },
 "nbformat": 4,
 "nbformat_minor": 5
}
