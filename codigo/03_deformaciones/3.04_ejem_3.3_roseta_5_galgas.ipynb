{
 "cells": [
  {
   "cell_type": "markdown",
   "metadata": {
    "id": "VlnNs5PegMvl",
    "tags": []
   },
   "source": [
    "# 3.4. Ejemplo 3.3: más de tres galgas extensométricas\n",
    "\n",
    "|Quién |Correo | Fecha | Qué hizo |\n",
    "| ---  |---    | ---   | ---      |\n",
    "|Michael Heredia Pérez | <mherediap@unal.edu.co> | Julio 16, 2022 | Conversión de código de MATLAB a Python|\n",
    "|Juan Nicolás Ramírez  | <jnramirezg@unal.edu.co> | Septiembre 24, 2022 | Adecuando código|\n",
    "|Michael Heredia Pérez | <mherediap@unal.edu.co> | Marzo 30, 2023 | Mejorando la explicación del procedimiento|\n",
    "|Diego Andrés Alvarez Marín | <daalvarez@unal.edu.co> | Marzo 7, 2024 | Mejorando los comentarios, incluyendo comandos nuevos |"
   ]
  },
  {
   "cell_type": "markdown",
   "metadata": {},
   "source": [
    "$$\n",
    "\\newcommand{\\ve}[1]{{\\vec{\\boldsymbol{#1}}}}\n",
    "\\newcommand{\\ma}[1]{{\\boldsymbol{#1}}}\n",
    "\\newcommand{\\hve}[1]{{\\,\\hat{\\!\\boldsymbol{#1}}}}\n",
    "\\newcommand{\\tr}{\\operatorname{tr}}\n",
    "$$"
   ]
  },
  {
   "cell_type": "markdown",
   "metadata": {},
   "source": [
    "Suponga que tenemos cinco galgas extensométricas, a saber A, B, C, D y E, ubicadas sobre el mismo plano a unas inclinaciones de 0°, 72°, 144°, 216° y 288° tal y como se ilustra en la figura; las deformaciones medidas por las galgas fueron 3.0012×10⁻⁴, 3.4521×10⁻⁴, 1.4935×10⁻³, −4.0924×10⁻⁴ y 1.5207×10⁻³, respectivamente; dichas lecturas no son precisas, ya que tienen unos pequeños errores de medición. \n",
    "\n",
    "* Dadas las lecturas anteriores, estime la mejor aproximación posible de las deformaciones $\\varepsilon_x$ , $\\varepsilon_y$ y $\\varepsilon_{xy}$ ."
   ]
  },
  {
   "cell_type": "markdown",
   "metadata": {},
   "source": [
    "<img src=\"3.04_ejem_3.3_roseta_5_galgas.png\" width=\"400\">"
   ]
  },
  {
   "cell_type": "markdown",
   "metadata": {},
   "source": [
    "Importamos de la librería ```numpy``` para cálculos numéricos, algunas funciones:"
   ]
  },
  {
   "cell_type": "code",
   "execution_count": 1,
   "metadata": {
    "tags": []
   },
   "outputs": [],
   "source": [
    "from numpy import sin, cos, deg2rad, array\n",
    "from numpy.linalg import inv, pinv, lstsq, norm"
   ]
  },
  {
   "cell_type": "markdown",
   "metadata": {},
   "source": [
    "A partir de la formulación del problema definimos las siguientes constantes:"
   ]
  },
  {
   "cell_type": "code",
   "execution_count": 2,
   "metadata": {
    "id": "hfdkKdmCgYaJ",
    "tags": []
   },
   "outputs": [],
   "source": [
    "# Medición              Ángulo [°]\n",
    "eA =  3.0012e-4;        tA =  0\n",
    "eB =  3.4521e-4;        tB =  72\n",
    "eC =  1.4935e-3;        tC = 144\n",
    "eD = -4.0924e-4;        tD = 216\n",
    "eE =  1.5207e-3;        tE = 288"
   ]
  },
  {
   "cell_type": "markdown",
   "metadata": {},
   "source": [
    "Usando la ecuación \n",
    "\n",
    "$$\\varepsilon_{x'} = \\varepsilon_{x} \\cos^{2}{\\left(\\theta \\right)} + \\varepsilon_{y} \\sin^{2}{\\left(\\theta \\right)}+\\varepsilon_{xy} \\sin{\\left(2\\theta \\right)},$$ \n",
    "\n",
    "podemos escribir $\\varepsilon_A$, $\\varepsilon_B$, $\\varepsilon_C$, $\\varepsilon_D$ y $\\varepsilon_E$ en función de $\\varepsilon_x$, $\\varepsilon_y$, $\\varepsilon_{xy}$ y el ángulo de inclinación $\\theta$, de manera que:\n",
    "\n",
    "$$\\varepsilon_{A} = \\varepsilon_{x'}(\\theta_A) = \\varepsilon_{x} \\cos^{2}{\\left(\\theta_A \\right)} + \\varepsilon_{y} \\sin^{2}{\\left(\\theta_A \\right)}+\\varepsilon_{xy} \\sin{\\left(2\\theta_A \\right)}$$\n",
    "$$\\varepsilon_{B} = \\varepsilon_{x'}(\\theta_B) = \\varepsilon_{x} \\cos^{2}{\\left(\\theta_B \\right)} + \\varepsilon_{y} \\sin^{2}{\\left(\\theta_B \\right)}+\\varepsilon_{xy} \\sin{\\left(2\\theta_B \\right)}$$\n",
    "$$\\varepsilon_{C} = \\varepsilon_{x'}(\\theta_C) = \\varepsilon_{x} \\cos^{2}{\\left(\\theta_C \\right)} + \\varepsilon_{y} \\sin^{2}{\\left(\\theta_C \\right)}+\\varepsilon_{xy} \\sin{\\left(2\\theta_C \\right)}$$\n",
    "$$\\varepsilon_{D} = \\varepsilon_{x'}(\\theta_D) = \\varepsilon_{x} \\cos^{2}{\\left(\\theta_D \\right)} + \\varepsilon_{y} \\sin^{2}{\\left(\\theta_D \\right)}+\\varepsilon_{xy} \\sin{\\left(2\\theta_D \\right)}$$\n",
    "$$\\varepsilon_{E} = \\varepsilon_{x'}(\\theta_E) = \\varepsilon_{x} \\cos^{2}{\\left(\\theta_E \\right)} + \\varepsilon_{y} \\sin^{2}{\\left(\\theta_E \\right)}+\\varepsilon_{xy} \\sin{\\left(2\\theta_E \\right)}$$"
   ]
  },
  {
   "cell_type": "markdown",
   "metadata": {},
   "source": [
    "El sistema de ecuaciones anterior se puede escribir como:"
   ]
  },
  {
   "cell_type": "markdown",
   "metadata": {},
   "source": [
    "$$\\begin{bmatrix}\\varepsilon_{A}\\\\ \n",
    "                      \\varepsilon_{B}\\\\\n",
    "                      \\varepsilon_{C}\\\\\n",
    "                      \\varepsilon_{D}\\\\\n",
    "                      \\varepsilon_{E}\\\\\n",
    "\\end{bmatrix} =\n",
    "\\begin{bmatrix}\\cos^{2}{\\left(\\theta_A \\right)} & \\sin^{2}{\\left(\\theta_A \\right)} & \\sin{\\left(2\\theta_A \\right)}\\\\\n",
    "                    \\cos^{2}{\\left(\\theta_B \\right)} & \\sin^{2}{\\left(\\theta_B \\right)} & \\sin{\\left(2\\theta_B \\right)}\\\\\n",
    "                    \\cos^{2}{\\left(\\theta_C \\right)} & \\sin^{2}{\\left(\\theta_C \\right)} & \\sin{\\left(2\\theta_C \\right)}\\\\ \n",
    "                    \\cos^{2}{\\left(\\theta_D \\right)} & \\sin^{2}{\\left(\\theta_D \\right)} & \\sin{\\left(2\\theta_D \\right)}\\\\ \n",
    "                    \\cos^{2}{\\left(\\theta_E \\right)} & \\sin^{2}{\\left(\\theta_E \\right)} & \\sin{\\left(2\\theta_E \\right)}\\\\ \\end{bmatrix}\n",
    "\\begin{bmatrix}\n",
    "\\varepsilon_{x} \\\\ \\varepsilon_{y}\\\\ \\gamma_{xy} \n",
    "\\end{bmatrix}\n",
    "$$\n",
    "\n",
    "\n",
    "esto es un sistema de ecuaciones de la forma $\\ve{b} = \\ma{A} \\ve{x}$."
   ]
  },
  {
   "cell_type": "markdown",
   "metadata": {},
   "source": [
    "Sin embargo, este sistema de ecuaciones no se puede resolver de la forma usual premultiplicando por $\\ma{A}^{−1}$ a ambos lados de la igualdad, ya que la matriz $\\ma{A}$ no es cuadrada (es una matriz de 5x3), y en consecuencia su inversa no existe; sin embargo, se puede resolver utilizando la formulación de mínimos cuadrados, de modo que:\n",
    "\n",
    "$$\\ve{x} = \\underbrace{(\\ma{A}^T\\ma{A})^{-1}\\ma{A}^T}_{\\ma{A}^\\dagger}\\ve{b}$$\n",
    "\n",
    "donde $\\ma{A}^\\dagger$ es la llamada [pseudoinversa de Moore-Penrose](https://en.wikipedia.org/wiki/Moore-Penrose_inverse)."
   ]
  },
  {
   "cell_type": "markdown",
   "metadata": {
    "id": "CZYQt8kwhn3v"
   },
   "source": [
    "En Python no tenemos la función ```cosd()``` ni ```sind()```, las cuales calculan cosenos y senos, respectivamente, con el argumento en grados (*degrees*), podríamos usar la función ```numpy.deg2rad()``` para convertir de grados a radianes y hacer el cálculo, o construir las funciones simplemente:"
   ]
  },
  {
   "cell_type": "code",
   "execution_count": 3,
   "metadata": {
    "id": "RtbtAoGch_Fv",
    "tags": []
   },
   "outputs": [],
   "source": [
    "cosd = lambda t : cos(deg2rad(t)) # coseno de ángulos en grados\n",
    "sind = lambda t : sin(deg2rad(t)) # seno   de ángulos en grados"
   ]
  },
  {
   "cell_type": "markdown",
   "metadata": {},
   "source": [
    "Construimos la matriz: \n",
    "\n",
    "$$\n",
    "\\ma{A}\n",
    "=\n",
    "\\begin{bmatrix}\\cos^{2}{\\left(\\theta_A \\right)} & \\sin^{2}{\\left(\\theta_A \\right)} & \\sin{\\left(2\\theta_A \\right)}\\\\\n",
    "                    \\cos^{2}{\\left(\\theta_B \\right)} & \\sin^{2}{\\left(\\theta_B \\right)} & \\sin{\\left(2\\theta_B \\right)}\\\\\n",
    "                    \\cos^{2}{\\left(\\theta_C \\right)} & \\sin^{2}{\\left(\\theta_C \\right)} & \\sin{\\left(2\\theta_C \\right)}\\\\ \n",
    "                    \\cos^{2}{\\left(\\theta_D \\right)} & \\sin^{2}{\\left(\\theta_D \\right)} & \\sin{\\left(2\\theta_D \\right)}\\\\ \n",
    "                    \\cos^{2}{\\left(\\theta_E \\right)} & \\sin^{2}{\\left(\\theta_E \\right)} & \\sin{\\left(2\\theta_E \\right)}\\end{bmatrix}$$"
   ]
  },
  {
   "cell_type": "code",
   "execution_count": 4,
   "metadata": {
    "id": "pvPPByaOgs25",
    "tags": []
   },
   "outputs": [
    {
     "data": {
      "text/plain": [
       "array([[ 1.        ,  0.        ,  0.        ],\n",
       "       [ 0.0954915 ,  0.9045085 ,  0.58778525],\n",
       "       [ 0.6545085 ,  0.3454915 , -0.95105652],\n",
       "       [ 0.6545085 ,  0.3454915 ,  0.95105652],\n",
       "       [ 0.0954915 ,  0.9045085 , -0.58778525]])"
      ]
     },
     "execution_count": 4,
     "metadata": {},
     "output_type": "execute_result"
    }
   ],
   "source": [
    "A = array([[ cosd(tA)**2,   sind(tA)**2,   sind(2*tA) ],\n",
    "           [ cosd(tB)**2,   sind(tB)**2,   sind(2*tB) ],\n",
    "           [ cosd(tC)**2,   sind(tC)**2,   sind(2*tC) ],\n",
    "           [ cosd(tD)**2,   sind(tD)**2,   sind(2*tD) ],\n",
    "           [ cosd(tE)**2,   sind(tE)**2,   sind(2*tE) ]])\n",
    "\n",
    "A"
   ]
  },
  {
   "cell_type": "markdown",
   "metadata": {},
   "source": [
    "Construimos el vector: \n",
    "\n",
    "$$\n",
    "\\ve{b}=\\begin{pmatrix}\n",
    "\\varepsilon_{A}& \n",
    "\\varepsilon_{B}&\n",
    "\\varepsilon_{C}&\n",
    "\\varepsilon_{D}&\n",
    "\\varepsilon_{E}\n",
    "\\end{pmatrix}^T\n",
    "$$"
   ]
  },
  {
   "cell_type": "code",
   "execution_count": 5,
   "metadata": {
    "id": "SZvgItfzhPj5"
   },
   "outputs": [
    {
     "data": {
      "text/plain": [
       "array([ 0.00030012,  0.00034521,  0.0014935 , -0.00040924,  0.0015207 ])"
      ]
     },
     "execution_count": 5,
     "metadata": {},
     "output_type": "execute_result"
    }
   ],
   "source": [
    "b = array([eA, eB, eC, eD, eE])\n",
    "\n",
    "b"
   ]
  },
  {
   "cell_type": "markdown",
   "metadata": {
    "id": "g1YinQc-uHDE"
   },
   "source": [
    "Aplicamos la ecuación $$\\ve{x} = (\\ma{A}^T\\ma{A})^{-1}\\ma{A}^T\\ve{b}$$ \n",
    "\n",
    "**Nota:** tener en cuenta que tanto ```M.T``` como ```numpy.transpose(M)``` permiten calcular la transpuesta de una matriz ```M```."
   ]
  },
  {
   "cell_type": "code",
   "execution_count": 6,
   "metadata": {
    "colab": {
     "base_uri": "https://localhost:8080/"
    },
    "id": "bdOHm_rCuAUL",
    "outputId": "ed741ac5-e1a5-42fb-f0bb-73a4186da0a7",
    "scrolled": true,
    "tags": []
   },
   "outputs": [
    {
     "data": {
      "text/plain": [
       "array([ 0.00030031,  0.00099981, -0.00100022])"
      ]
     },
     "execution_count": 6,
     "metadata": {},
     "output_type": "execute_result"
    }
   ],
   "source": [
    "x1 = (inv(A.T@A) @ A.T) @ b\n",
    "\n",
    "x1"
   ]
  },
  {
   "cell_type": "markdown",
   "metadata": {
    "id": "i1Cl75F_u7SL"
   },
   "source": [
    "La función ```numpy.linalg.pinv()``` se puede utilizar para calcular $\\ma{A}^\\dagger$, de modo que:"
   ]
  },
  {
   "cell_type": "code",
   "execution_count": 7,
   "metadata": {
    "colab": {
     "base_uri": "https://localhost:8080/"
    },
    "id": "yMRJAj_FuREv",
    "outputId": "fd54343c-8980-4cdb-c83d-755f04b510fa"
   },
   "outputs": [
    {
     "data": {
      "text/plain": [
       "array([ 0.00030031,  0.00099981, -0.00100022])"
      ]
     },
     "execution_count": 7,
     "metadata": {},
     "output_type": "execute_result"
    }
   ],
   "source": [
    "x2 = pinv(A)@b\n",
    "\n",
    "x2"
   ]
  },
  {
   "cell_type": "markdown",
   "metadata": {
    "id": "TRPfUEwvvPnP"
   },
   "source": [
    "En Matlab existe el comando ```A\\b``` para resolver en forma eficiente este sistema de ecuaciones. Su equivalente en Python es el comando ```numpy.linalg.lstsq```:"
   ]
  },
  {
   "cell_type": "code",
   "execution_count": 8,
   "metadata": {
    "colab": {
     "base_uri": "https://localhost:8080/"
    },
    "id": "yMRJAj_FuREv",
    "outputId": "fd54343c-8980-4cdb-c83d-755f04b510fa"
   },
   "outputs": [
    {
     "data": {
      "text/plain": [
       "array([ 0.00030031,  0.00099981, -0.00100022])"
      ]
     },
     "execution_count": 8,
     "metadata": {},
     "output_type": "execute_result"
    }
   ],
   "source": [
    "x3, residuals, rank, s = lstsq(A, b, rcond=None)\n",
    "\n",
    "x3"
   ]
  },
  {
   "cell_type": "markdown",
   "metadata": {},
   "source": [
    "En conclusión, la solución al problema de mínimos cuadrados es:\n",
    "\n",
    "$$\\left[\\begin{matrix}\\varepsilon_{x} \\\\ \\varepsilon_{y}\\\\ \\varepsilon_{xy} \\end{matrix}\\right] = \\left[\\begin{matrix}3.0031\\times10^{-4} \\\\ 9.9981\\times10^{-4}\\\\ -1.0002\\times10^{-3} \\end{matrix}\\right]$$"
   ]
  },
  {
   "cell_type": "markdown",
   "metadata": {},
   "source": [
    "Calculamos los errores entre las tres respuestas:"
   ]
  },
  {
   "cell_type": "code",
   "execution_count": 9,
   "metadata": {
    "tags": []
   },
   "outputs": [
    {
     "data": {
      "text/plain": [
       "6.594944350062753e-19"
      ]
     },
     "execution_count": 9,
     "metadata": {},
     "output_type": "execute_result"
    }
   ],
   "source": [
    "norm(x1 - x2)"
   ]
  },
  {
   "cell_type": "code",
   "execution_count": 10,
   "metadata": {
    "tags": []
   },
   "outputs": [
    {
     "data": {
      "text/plain": [
       "7.19178360604521e-19"
      ]
     },
     "execution_count": 10,
     "metadata": {},
     "output_type": "execute_result"
    }
   ],
   "source": [
    "norm(x1 - x3)"
   ]
  },
  {
   "cell_type": "code",
   "execution_count": 11,
   "metadata": {
    "tags": []
   },
   "outputs": [
    {
     "data": {
      "text/plain": [
       "2.42434975903054e-19"
      ]
     },
     "execution_count": 11,
     "metadata": {},
     "output_type": "execute_result"
    }
   ],
   "source": [
    "norm(x2 - x3)"
   ]
  },
  {
   "cell_type": "markdown",
   "metadata": {},
   "source": [
    "y observamos que al ser el error tan pequeño, ambas se pueden considerar iguales."
   ]
  }
 ],
 "metadata": {
  "colab": {
   "authorship_tag": "ABX9TyN4zSI0JyFdrUTzhkfJa/zT",
   "include_colab_link": true,
   "name": "03_04_03_ejemplo.ipynb",
   "provenance": []
  },
  "kernelspec": {
   "display_name": "Python 3 (ipykernel)",
   "language": "python",
   "name": "python3"
  },
  "language_info": {
   "codemirror_mode": {
    "name": "ipython",
    "version": 3
   },
   "file_extension": ".py",
   "mimetype": "text/x-python",
   "name": "python",
   "nbconvert_exporter": "python",
   "pygments_lexer": "ipython3",
   "version": "3.11.5"
  }
 },
 "nbformat": 4,
 "nbformat_minor": 4
}
