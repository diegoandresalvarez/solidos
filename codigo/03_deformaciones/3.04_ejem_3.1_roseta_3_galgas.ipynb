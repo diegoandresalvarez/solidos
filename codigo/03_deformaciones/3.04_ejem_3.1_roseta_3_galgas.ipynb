{
 "cells": [
  {
   "cell_type": "markdown",
   "metadata": {
    "id": "gB6eDs0dSo3m"
   },
   "source": [
    "# 3.4. Ejercicio 3.1. Roseta de deformación de tres galgas\n",
    "\n",
    "|Quién | Correo |Fecha | Qué hizo |\n",
    "| ---  | ---    | ---  | ---      |\n",
    "|Michael Heredia Pérez | <mherediap@unal.edu.co> | Julio 16, 2022 | Conversión de código de MAXIMA a Python|\n",
    "|Juan Nicolás Ramírez | <jnramirezg@unal.edu.co> | Septiembre 24, 2022 | Adecuando código|\n",
    "|Michael Heredia Pérez | <mherediap@unal.edu.co> | Marzo 30, 2023 | Explicando mejor el procedimiento |\n",
    "|Diego Andrés Alvarez Marín | <mherediap@unal.edu.co> | Marzo 8, 2024 | Comentarios adicionales |"
   ]
  },
  {
   "cell_type": "markdown",
   "metadata": {
    "tags": []
   },
   "source": [
    "$$\n",
    "\\newcommand{\\ve}[1]{{\\vec{\\boldsymbol{#1}}}}\n",
    "\\newcommand{\\ma}[1]{{\\boldsymbol{#1}}}\n",
    "\\newcommand{\\hve}[1]{{\\,\\hat{\\!\\boldsymbol{#1}}}}\n",
    "\\newcommand{\\tr}{\\operatorname{tr}}\n",
    "$$"
   ]
  },
  {
   "cell_type": "code",
   "execution_count": 1,
   "metadata": {
    "tags": []
   },
   "outputs": [],
   "source": [
    "from numpy.linalg import norm\n",
    "from numpy import array, cross, c_"
   ]
  },
  {
   "cell_type": "markdown",
   "metadata": {
    "id": "8LsRLQ7tS5sF"
   },
   "source": [
    "Se define la función vector unitario:\n",
    "\n",
    "$$\n",
    "\\hve{v} = \\frac{\\ve{v}}{\\|\\ve{v}\\|}\n",
    "$$"
   ]
  },
  {
   "cell_type": "code",
   "execution_count": 2,
   "metadata": {
    "id": "jxTc9naKS4lh",
    "tags": []
   },
   "outputs": [],
   "source": [
    "vector_unitario = lambda v : v/norm(v)"
   ]
  },
  {
   "cell_type": "markdown",
   "metadata": {
    "id": "zN4UJxj4TVgR"
   },
   "source": [
    "Se calculan las direcciones para los vectores $\\hve{e}_1'$, $\\hve{e}_2'$ y $\\hve{e}_3'$"
   ]
  },
  {
   "cell_type": "code",
   "execution_count": 3,
   "metadata": {
    "id": "Wu3f2jI7TKST",
    "tags": []
   },
   "outputs": [
    {
     "data": {
      "text/plain": [
       "array([-3, -4,  2])"
      ]
     },
     "execution_count": 3,
     "metadata": {},
     "output_type": "execute_result"
    }
   ],
   "source": [
    "# Identificamos 3 puntos.\n",
    "p_dir_x             = array([1, -2, -3])\n",
    "dir_normal_plano    = array([2,  1,  5])\n",
    "origen_coord_xpypzp = array([4,  2, -5])\n",
    "\n",
    "# La dirección de e1gp respecto al nuevo sistema de coordenadas se calcula como \n",
    "# la distancia normalizada entre (2, 1, 5) y (4, 2, -5), a.k.a. el nuevo oriden \n",
    "# de coordenadas. \n",
    "e1gp = vector_unitario(p_dir_x - origen_coord_xpypzp)\n",
    "\n",
    "p_dir_x - origen_coord_xpypzp"
   ]
  },
  {
   "cell_type": "code",
   "execution_count": 4,
   "metadata": {
    "id": "Wu3f2jI7TKST",
    "tags": []
   },
   "outputs": [],
   "source": [
    "# e3gp está dado respecto a la base xyz, además sale del origen de coordenadas \n",
    "# x'y'z' dado por le punto (4,2,-5), de hecho forman un plano, así que \n",
    "# simplemente se normaliza.\n",
    "e3gp = vector_unitario(dir_normal_plano)"
   ]
  },
  {
   "cell_type": "markdown",
   "metadata": {
    "tags": []
   },
   "source": [
    "Tenemos en cuenta que:\n",
    "\n",
    "$$\\hve{e}_2' = \\hve{e}_3' \\times \\hve{e}_1' = -\\hve{e}_1' \\times \\hve{e}_3'$$\n",
    "\n",
    "ya que los vectores deben formar un sistema de coordenadas de la mano derecha:"
   ]
  },
  {
   "cell_type": "code",
   "execution_count": 5,
   "metadata": {
    "id": "Wu3f2jI7TKST",
    "tags": []
   },
   "outputs": [],
   "source": [
    "e2gp = cross(e3gp, e1gp)          "
   ]
  },
  {
   "cell_type": "markdown",
   "metadata": {
    "id": "ijuW2wJJUhYd"
   },
   "source": [
    "Se define la matriz de transformación $\\ma{T} = \\left[\\hve{e}_1', \\hve{e}_2', \\hve{e}_3'\\right]$ concatenando los vectores columna:"
   ]
  },
  {
   "cell_type": "code",
   "execution_count": 6,
   "metadata": {
    "colab": {
     "base_uri": "https://localhost:8080/"
    },
    "id": "Ec-XYSA2UFrn",
    "outputId": "769324ec-fc1f-494c-b16b-10f2459e34c9",
    "tags": []
   },
   "outputs": [
    {
     "data": {
      "text/plain": [
       "array([[-0.55708601,  0.74586985,  0.36514837],\n",
       "       [-0.74278135, -0.64416033,  0.18257419],\n",
       "       [ 0.37139068, -0.16951588,  0.91287093]])"
      ]
     },
     "execution_count": 6,
     "metadata": {},
     "output_type": "execute_result"
    }
   ],
   "source": [
    "T = c_[e1gp, e2gp, e3gp]\n",
    "\n",
    "T"
   ]
  },
  {
   "cell_type": "markdown",
   "metadata": {
    "id": "RdqLXAKYVVrN"
   },
   "source": [
    "Sabiendo que la lectura de las galgas es:"
   ]
  },
  {
   "cell_type": "code",
   "execution_count": 7,
   "metadata": {
    "tags": []
   },
   "outputs": [],
   "source": [
    "eA =    1e-3  \n",
    "eB =  2.1e-3  \n",
    "eC = -1.7e-3  "
   ]
  },
  {
   "cell_type": "markdown",
   "metadata": {
    "id": "RdqLXAKYVVrN"
   },
   "source": [
    "Determinamos las deformaciones $\\varepsilon_x'$, $\\varepsilon_y'$ y $\\varepsilon_{x'y'}$ a partir de la lectura de las galgas, utilizando las ecuaciones:\n",
    "\n",
    "$\\varepsilon_{x} = \\varepsilon_{A}$\n",
    "\n",
    "$\\varepsilon_{y} = \\varepsilon_{C}$\n",
    "\n",
    "$\\varepsilon_{xy} = \\varepsilon_{B}-\\frac{\\varepsilon_{A}+\\varepsilon_{C}}{2}$"
   ]
  },
  {
   "cell_type": "markdown",
   "metadata": {},
   "source": [
    "<img src=\"3.04_ejem_3.1_roseta_3_galgas.png\" width=\"400\">"
   ]
  },
  {
   "cell_type": "code",
   "execution_count": 8,
   "metadata": {
    "id": "Mwom1GUwUuBZ",
    "tags": []
   },
   "outputs": [],
   "source": [
    "e_xp   = eA\n",
    "e_yp   = eC \n",
    "e_xpyp = eB - (eA + eC)/2"
   ]
  },
  {
   "cell_type": "markdown",
   "metadata": {
    "id": "c9bl47_8V1jK"
   },
   "source": [
    "Se define la matriz de deformaciones $\\ma{\\varepsilon}'$ en $x'$, $y'$, $z'$. Aquí estamos teniendo en cuenta el estado de deformación plana $\\varepsilon_{z'} = \\varepsilon_{x'z'} =  \\varepsilon_{y'z'} = 0$."
   ]
  },
  {
   "cell_type": "code",
   "execution_count": 9,
   "metadata": {
    "id": "IvB9b0TkV0oL",
    "tags": []
   },
   "outputs": [],
   "source": [
    "epsilonP = array([[e_xp,   e_xpyp,        0],\n",
    "                  [e_xpyp,   e_yp,        0],\n",
    "                  [0,           0,        0]])"
   ]
  },
  {
   "cell_type": "markdown",
   "metadata": {
    "id": "7_wZ8slZWbha"
   },
   "source": [
    "Calculamos la matriz de deformaciones $\\ma{\\varepsilon}$ en el sistema de coordenadas globales $x$, $y$, $z$ mediante la ecuación $$\\ma{\\varepsilon} = \\ma{T}\\ma{\\varepsilon}'\\ma{T}^T$$"
   ]
  },
  {
   "cell_type": "code",
   "execution_count": 10,
   "metadata": {
    "colab": {
     "base_uri": "https://localhost:8080/"
    },
    "id": "FwgAVDBRWLfq",
    "outputId": "80cb8f4b-5e51-47c1-d658-82186209398a",
    "tags": []
   },
   "outputs": [
    {
     "data": {
      "text/plain": [
       "array([[-0.00267142,  0.00075242,  0.00091808],\n",
       "       [ 0.00075242,  0.00219083, -0.00073913],\n",
       "       [ 0.00091808, -0.00073913, -0.00021941]])"
      ]
     },
     "execution_count": 10,
     "metadata": {},
     "output_type": "execute_result"
    }
   ],
   "source": [
    "epsilon = T @ epsilonP @ T.T\n",
    "epsilon"
   ]
  },
  {
   "cell_type": "markdown",
   "metadata": {},
   "source": [
    "Extraemos todas las deformaciones:"
   ]
  },
  {
   "cell_type": "code",
   "execution_count": 11,
   "metadata": {
    "tags": []
   },
   "outputs": [
    {
     "name": "stdout",
     "output_type": "stream",
     "text": [
      "e_x  = -0.00267142\n",
      "e_y  =  0.00219083\n",
      "e_z  = -0.00021941\n",
      "e_xy =  0.00075242\n",
      "e_xz =  0.00091808\n",
      "e_yz = -0.00073913\n"
     ]
    }
   ],
   "source": [
    "print(f\"e_x  = {epsilon[0][0]: .8f}\")\n",
    "print(f\"e_y  = {epsilon[1][1]: .8f}\")\n",
    "print(f\"e_z  = {epsilon[2][2]: .8f}\") \n",
    "print(f\"e_xy = {epsilon[0][1]: .8f}\") \n",
    "print(f\"e_xz = {epsilon[0][2]: .8f}\") \n",
    "print(f\"e_yz = {epsilon[1][2]: .8f}\")"
   ]
  },
  {
   "cell_type": "markdown",
   "metadata": {},
   "source": [
    "Observe que en el sistema de coordenadas gloables si existe la deformación longitudinal $\\varepsilon_z$ y las deformaciones angulares en el plano $\\varepsilon_{xz}$ y $\\varepsilon_{yz}$. "
   ]
  }
 ],
 "metadata": {
  "colab": {
   "authorship_tag": "ABX9TyOTlc8VJU12qI9gmqFC/KHJ",
   "include_colab_link": true,
   "name": "03_04_02_ejemplo.ipynb",
   "provenance": []
  },
  "kernelspec": {
   "display_name": "Python 3 (ipykernel)",
   "language": "python",
   "name": "python3"
  },
  "language_info": {
   "codemirror_mode": {
    "name": "ipython",
    "version": 3
   },
   "file_extension": ".py",
   "mimetype": "text/x-python",
   "name": "python",
   "nbconvert_exporter": "python",
   "pygments_lexer": "ipython3",
   "version": "3.11.5"
  }
 },
 "nbformat": 4,
 "nbformat_minor": 4
}
