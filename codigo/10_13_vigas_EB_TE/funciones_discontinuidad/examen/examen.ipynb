{
 "cells": [
  {
   "cell_type": "markdown",
   "id": "18b2cb80-79f1-48fe-b0db-84106b72c6b2",
   "metadata": {},
   "source": [
    "# Viga del examen\n",
    "\n",
    "|Quién | Correo | Fecha | Qué hizo |\n",
    "| ---  | ---    | ---   | ---      |\n",
    "|Diego Andrés Alvarez Marín | <daalvarez@unal.edu.co> | Marzo 31, 2024  | Código inicial |"
   ]
  },
  {
   "cell_type": "markdown",
   "id": "6d21f9ed-653c-42af-be5c-2b9ba380c46a",
   "metadata": {},
   "source": [
    "Utilizando la **teoría de vigas de Euler-Bernoulli**, calcule los diagramas de fuerza cortante, momento flector, ángulo de giro y deflexión vertical de la viga mostrada en la figura:\n",
    "\n",
    "<img src=\"examen.png\" width=\"800\">"
   ]
  },
  {
   "cell_type": "code",
   "execution_count": 1,
   "id": "e73c03bb-5d03-42d5-8e70-bbd9c66d0553",
   "metadata": {},
   "outputs": [],
   "source": [
    "from sympy import init_printing, latex, DiracDelta, Piecewise, integrate, symbols, Eq, plot, piecewise_fold, solve, Interval, Rational, sets\n",
    "from sympy.polys.polyfuncs import interpolate\n",
    "from sympy.abc import x\n",
    "\n",
    "# Para imprimir bonito\n",
    "init_printing()\n",
    "from IPython.display import Math                 \n",
    "def imprimir (texto1, variable, texto2=\"\"):\n",
    "    return Math(texto1 +  rf'{latex(variable)}' + texto2)"
   ]
  },
  {
   "cell_type": "markdown",
   "id": "76ca4c1e-597b-406d-ba24-418729210e9c",
   "metadata": {},
   "source": [
    "Se define una función que hace el código más corto y legible, evitando el uso de las [funciones G de Meijerg](https://en.wikipedia.org/wiki/Meijer_G-function):"
   ]
  },
  {
   "cell_type": "code",
   "execution_count": 2,
   "id": "cc06d4e3-ba77-487e-b76f-00c0e11ec525",
   "metadata": {},
   "outputs": [],
   "source": [
    "integre = lambda f, x : integrate(f, x, meijerg=False)"
   ]
  },
  {
   "cell_type": "markdown",
   "id": "8c5fed8a-8a72-458c-99d6-665935c1757a",
   "metadata": {},
   "source": [
    "Se define la geometría de la viga y las propiedades del material:\n",
    "\n"
   ]
  },
  {
   "cell_type": "code",
   "execution_count": 3,
   "id": "b44217af-3269-4a93-afa3-89e21613693b",
   "metadata": {},
   "outputs": [],
   "source": [
    "# Posición de los apoyos\n",
    "x0 = 0                # [m]\n",
    "x1 = Rational(35, 10) # [m]\n",
    "x2 = 6                # [m]\n",
    "xL = Rational(85, 10) # [m]\n",
    "\n",
    "b = Rational(1, 10)   # [m]   Ancho de la viga\n",
    "h = Rational(3, 10)   # [m]   Altura de la viga\n",
    "E = 210_000_000       # [kPa] Módulo de elasticidad de la viga\n",
    "I = Rational(b*h*h*h, 12)      # [m⁴]  Momento de inercia en z   \n",
    "\n",
    "# constantes de los resortes\n",
    "k1 = 1_000 # [kN/m]\n",
    "k2 = 1_000 # [kN/m]\n",
    "k3 = 1_000 # [kN/m]\n",
    "k4 = 1_000 # [kN/m]"
   ]
  },
  {
   "cell_type": "markdown",
   "id": "8ddc6d94-fc59-4fa0-a345-9636eb4ba5f2",
   "metadata": {},
   "source": [
    "Se definen las cargas distribuidas de acuerdo con la tabla 10.3 del `main.pdf`"
   ]
  },
  {
   "cell_type": "code",
   "execution_count": 4,
   "id": "892ff77b-0410-4714-a835-e4493e9a7b8d",
   "metadata": {},
   "outputs": [],
   "source": [
    "# Caso 5: carga distribuida variable \n",
    "qdist = lambda f,a,b : Piecewise((f, (a < x) & (x < b)), (0, True))\n",
    "\n",
    "# Funcion rectangular: si x>a y x<b retorne 1 sino retorne 0   \n",
    "rect = lambda a,b : Piecewise((1, (a < x) & (x < b)), (0, True))"
   ]
  },
  {
   "cell_type": "markdown",
   "id": "bc3a4b40-b552-404e-8507-c95218a20d4b",
   "metadata": {},
   "source": [
    "Se especifica la carga distribuida $q(x)$. Observe que aqui no se incluyen los momentos en $x$ = 0 m y $x$ = 6 m ni la carga puntual en $x$ = 8.5 m, ya que  estas se tendra en cuenta cuando se planteen las ecuaciones que resuelven las constantes de integración:"
   ]
  },
  {
   "cell_type": "code",
   "execution_count": 5,
   "id": "76949cff-70f6-43a0-8de8-7a166adecb37",
   "metadata": {},
   "outputs": [
    {
     "data": {
      "text/latex": [
       "$\\displaystyle q(x) = \\begin{cases} \\frac{81}{23} - \\frac{25 x}{23} & \\text{for}\\: x > \\frac{7}{5} \\wedge x < 6 \\\\0 & \\text{otherwise} \\end{cases}$"
      ],
      "text/plain": [
       "<IPython.core.display.Math object>"
      ]
     },
     "execution_count": 5,
     "metadata": {},
     "output_type": "execute_result"
    }
   ],
   "source": [
    "xa = Rational(14, 10) # [m]\n",
    "xb = 6                # [m]\n",
    "q  = qdist(interpolate([(xa,2), (xb,-3)], x), xa, xb)   # calcula el polinomio de Lagrange asociado\n",
    "\n",
    "imprimir(\"q(x) = \", q)"
   ]
  },
  {
   "cell_type": "markdown",
   "id": "f192bb35-1add-4ba9-a378-0b68298767ab",
   "metadata": {},
   "source": [
    "Se resuelve la ecuación diferencial tramo por tramo:"
   ]
  },
  {
   "cell_type": "code",
   "execution_count": 6,
   "id": "77f2a7d1-656c-4902-acff-7706c56bd335",
   "metadata": {},
   "outputs": [],
   "source": [
    "# Tramo 1: de x=0m a x=4m\n",
    "C1_1, C1_2, C1_3, C1_4 = symbols('C1_1 C1_2 C1_3 C1_4')\n",
    "q1 = q*rect(x0,x1)\n",
    "V1 = integre(q1,x)       + C1_1\n",
    "M1 = integre(V1,x)       + C1_2\n",
    "t1 = integre(M1/(E*I),x) + C1_3\n",
    "v1 = integre(t1,x)       + C1_4\n",
    "\n",
    "# Tramo 2: de x=4m a x=8m\n",
    "C2_1, C2_2, C2_3, C2_4 = symbols('C2_1 C2_2 C2_3 C2_4')\n",
    "q2 = q*rect(x1,x2)\n",
    "V2 = integre(q2,x)       + C2_1\n",
    "M2 = integre(V2,x)       + C2_2\n",
    "t2 = integre(M2/(E*I),x) + C2_3\n",
    "v2 = integre(t2,x)       + C2_4\n",
    "\n",
    "# Tramo 3: de x=8m a x=12m\n",
    "C3_1, C3_2, C3_3, C3_4 = symbols('C3_1 C3_2 C3_3 C3_4')\n",
    "q3 = q*rect(x2,xL)\n",
    "V3 = integre(q3,x)       + C3_1\n",
    "M3 = integre(V3,x)       + C3_2\n",
    "t3 = integre(M3/(E*I),x) + C3_3\n",
    "v3 = integre(t3,x)       + C3_4"
   ]
  },
  {
   "cell_type": "markdown",
   "id": "650885e7-05a7-478d-9d91-642dc7da2357",
   "metadata": {},
   "source": [
    "Se definen las ecuaciones asociadas a cada apoyo:"
   ]
  },
  {
   "cell_type": "markdown",
   "id": "f01d23eb-3ca6-4487-9340-8fc589b5c38f",
   "metadata": {},
   "source": [
    "Apoyo 1:\n",
    "\n",
    "<img src=\"apoyo_x0.jpg\" width=\"800\">"
   ]
  },
  {
   "cell_type": "code",
   "execution_count": 7,
   "id": "304218fd-8b63-4341-b20a-2fa257033fc4",
   "metadata": {},
   "outputs": [],
   "source": [
    "apoyo_x0 = [\n",
    "              Eq(v1.subs(x,x0), 0),\n",
    "              Eq(M1.subs(x,x0) + 3, 0),\n",
    "           ]"
   ]
  },
  {
   "cell_type": "markdown",
   "id": "a949d9eb-4978-4aa3-9a9c-19e5e7cab9ce",
   "metadata": {},
   "source": [
    "Apoyo 2:\n",
    "\n",
    "<img src=\"apoyo_x1.jpg\" width=\"800\">"
   ]
  },
  {
   "cell_type": "code",
   "execution_count": 8,
   "id": "64d8d437-1da8-4e60-b4b1-58ff1c4daa4c",
   "metadata": {},
   "outputs": [],
   "source": [
    "apoyo_x1 = [\n",
    "              Eq(v1.subs(x,x1), v2.subs(x,x1)),\n",
    "              Eq(V1.subs(x,x1) + (-k1*v1.subs(x,x1)) - V2.subs(x,x1), 0),\n",
    "              Eq(M1.subs(x,x1), 0),\n",
    "              Eq(M2.subs(x,x1), 0),\n",
    "           ]"
   ]
  },
  {
   "cell_type": "markdown",
   "id": "297b5efc-2740-451f-8d50-207fb01846c9",
   "metadata": {},
   "source": [
    "Apoyo 3:\n",
    "\n",
    "<img src=\"apoyo_x2.jpg\" width=\"800\">"
   ]
  },
  {
   "cell_type": "code",
   "execution_count": 9,
   "id": "7c1484de-5c7d-4681-a3f7-0df318af7ea7",
   "metadata": {},
   "outputs": [],
   "source": [
    "apoyo_x2 = [\n",
    "                  Eq(v2.subs(x,x2), v3.subs(x,x2)),\n",
    "                  Eq(t2.subs(x,x2), t3.subs(x,x2)),\n",
    "                  Eq(V2.subs(x,x2) + (-k2*v2.subs(x,x2)) + (-k3*v2.subs(x,x2)) - V3.subs(x,x2), 0),\n",
    "                  Eq(M3.subs(x,x2) - M2.subs(x,x2) + 8, 0),\n",
    "           ]"
   ]
  },
  {
   "cell_type": "markdown",
   "id": "f4bd31cd-8526-426a-b8ce-5d4134cb6489",
   "metadata": {},
   "source": [
    "Apoyo 4:\n",
    "\n",
    "<img src=\"apoyo_xL.jpg\" width=\"800\">"
   ]
  },
  {
   "cell_type": "code",
   "execution_count": 10,
   "id": "c5720152-3e29-43cc-8c3a-5d708e8a1e35",
   "metadata": {},
   "outputs": [],
   "source": [
    "apoyo_xL = [\n",
    "              Eq(t3.subs(x,xL), 0),\n",
    "              Eq(V3.subs(x,xL) + 20 + (-k4*v3.subs(x,xL)), 0)\n",
    "           ]"
   ]
  },
  {
   "cell_type": "markdown",
   "id": "96887334-6ed4-4c84-af49-23805414c444",
   "metadata": {},
   "source": [
    "Se resuelven las ecuaciones para encontrar las constantes de integración::"
   ]
  },
  {
   "cell_type": "code",
   "execution_count": 11,
   "id": "d08f77e4-324e-4d74-b218-7c61032bbe9d",
   "metadata": {},
   "outputs": [],
   "source": [
    "sol = solve([ \n",
    "    *apoyo_x0,\n",
    "    *apoyo_x1,        \n",
    "    *apoyo_x2,\n",
    "    *apoyo_xL,             \n",
    "],    \n",
    "[ \n",
    "    C1_1, C1_2, C1_3, C1_4,\n",
    "    C2_1, C2_2, C2_3, C2_4,\n",
    "    C3_1, C3_2, C3_3, C3_4 \n",
    "])"
   ]
  },
  {
   "cell_type": "markdown",
   "id": "3af4cd71-0e43-4939-bb3e-1ab66234352d",
   "metadata": {},
   "source": [
    "Se fusionan las fórmulas y se reemplaza el valor de las constantes de integración:"
   ]
  },
  {
   "cell_type": "code",
   "execution_count": 12,
   "id": "10c98726-0ddc-43a7-ae0f-3a13e9bb4700",
   "metadata": {},
   "outputs": [],
   "source": [
    "V = (V1*rect(x0,x1) + V2*rect(x1,x2) + V3*rect(x2,xL)).subs(sol)\n",
    "M = (M1*rect(x0,x1) + M2*rect(x1,x2) + M3*rect(x2,xL)).subs(sol)\n",
    "t = (t1*rect(x0,x1) + t2*rect(x1,x2) + t3*rect(x2,xL)).subs(sol)\n",
    "v = (v1*rect(x0,x1) + v2*rect(x1,x2) + v3*rect(x2,xL)).subs(sol)"
   ]
  },
  {
   "cell_type": "markdown",
   "id": "36ccdd5f-a4fa-412c-9504-e02947190715",
   "metadata": {},
   "source": [
    "Se simplifica lo calculado por sympy:"
   ]
  },
  {
   "cell_type": "code",
   "execution_count": 13,
   "id": "12aa4704-cf9b-41bb-8efd-4d564853a496",
   "metadata": {},
   "outputs": [],
   "source": [
    "def simplificar(VMtv, fracciones=True):\n",
    "    # rewrite(Piecewise) escribe la función como una por partes\n",
    "    # as_expr_set_pairs() la expresa como una lista de tuplas\n",
    "    # la tupla tiene dos elementos (función, dominio de validez)\n",
    "    var = piecewise_fold(VMtv.rewrite(Piecewise)).as_expr_set_pairs(Interval(0, xL))\n",
    "    tmp = []\n",
    "    \n",
    "    # ciclo for sobre cada elemento de la tupla\n",
    "    for fun, dominio in var:\n",
    "        # si el dominio es un intervalo o una unión de intervalos\n",
    "        if isinstance(dominio, sets.sets.Interval | sets.sets.Union):\n",
    "            if fracciones:\n",
    "                # intente expresar cualquier número como un fraccionario\n",
    "                tmp.append((fun.nsimplify(), dominio.as_relational(x)))\n",
    "            else:\n",
    "                # intente expresar cualquier fraccionario como un flotante\n",
    "                tmp.append((fun.evalf(),     dominio.as_relational(x)))\n",
    "            # as_relational() escribe el dominio como desigualdades y expresiones lógicas\n",
    "\n",
    "    # exprese la lista de tuplas como una función definida por partes\n",
    "    return Piecewise(*tmp)"
   ]
  },
  {
   "cell_type": "code",
   "execution_count": 14,
   "id": "8273e9d6-dc91-4428-9053-bce0f913cc5f",
   "metadata": {},
   "outputs": [],
   "source": [
    "V = simplificar(V)\n",
    "M = simplificar(M)\n",
    "t = simplificar(t, fracciones=False)\n",
    "v = simplificar(v, fracciones=False)"
   ]
  },
  {
   "cell_type": "markdown",
   "id": "5e7ad279-4d3f-4382-9b19-f7ac5860d919",
   "metadata": {},
   "source": [
    "### Se imprimen los resultados"
   ]
  },
  {
   "cell_type": "code",
   "execution_count": 15,
   "id": "2667b635-daca-418c-b8da-d4cd2f34455f",
   "metadata": {},
   "outputs": [
    {
     "data": {
      "text/latex": [
       "$\\displaystyle V(x) = \\begin{cases} - \\frac{1865843929079}{142600211600} & \\text{for}\\: x > 6 \\wedge x < \\frac{17}{2} \\\\\\frac{2463}{32200} & \\text{for}\\: x \\leq \\frac{7}{5} \\wedge x > 0 \\\\- \\frac{25 x^{2}}{46} + \\frac{81 x}{23} - \\frac{121997}{32200} & \\text{for}\\: x > \\frac{7}{5} \\wedge x < \\frac{7}{2} \\\\- \\frac{25 x^{2}}{46} + \\frac{81 x}{23} - \\frac{32714166571}{6481827800} & \\text{for}\\: x > \\frac{7}{2} \\wedge x < 6 \\end{cases}$"
      ],
      "text/plain": [
       "<IPython.core.display.Math object>"
      ]
     },
     "execution_count": 15,
     "metadata": {},
     "output_type": "execute_result"
    }
   ],
   "source": [
    "imprimir(\"V(x) = \", V)"
   ]
  },
  {
   "cell_type": "code",
   "execution_count": 16,
   "id": "404c797c-a7fe-4bd0-ae82-a7088cc97b0a",
   "metadata": {},
   "outputs": [
    {
     "data": {
      "text/latex": [
       "$\\displaystyle M(x) = \\begin{cases} \\frac{2463 x}{32200} - 3 & \\text{for}\\: x \\leq \\frac{7}{5} \\wedge x > 0 \\\\- \\frac{25 x^{3}}{138} + \\frac{81 x^{2}}{46} - \\frac{121997 x}{32200} - \\frac{1873}{3450} & \\text{for}\\: x > \\frac{7}{5} \\wedge x < \\frac{7}{2} \\\\- \\frac{25 x^{3}}{138} + \\frac{81 x^{2}}{46} - \\frac{32714166571 x}{6481827800} + \\frac{5363153297}{1388963100} & \\text{for}\\: x > \\frac{7}{2} \\wedge x < 6 \\\\\\frac{14619321149591}{213900317400} - \\frac{1865843929079 x}{142600211600} & \\text{for}\\: x > 6 \\wedge x < \\frac{17}{2} \\end{cases}$"
      ],
      "text/plain": [
       "<IPython.core.display.Math object>"
      ]
     },
     "execution_count": 16,
     "metadata": {},
     "output_type": "execute_result"
    }
   ],
   "source": [
    "imprimir(\"M(x) = \", M)"
   ]
  },
  {
   "cell_type": "code",
   "execution_count": 17,
   "id": "34b63044-d259-41f2-bdba-f1fdfa4a99c8",
   "metadata": {},
   "outputs": [
    {
     "data": {
      "text/latex": [
       "$\\displaystyle \\theta(x) = \\begin{cases} 8.09425219363108 \\cdot 10^{-7} x^{2} - 6.34920634920635 \\cdot 10^{-5} x + 0.000459766392980596 & \\text{for}\\: x \\leq \\frac{7}{5} \\wedge x > 0 \\\\- 9.58515451269074 \\cdot 10^{-7} x^{4} + 1.24223602484472 \\cdot 10^{-5} x^{3} - 4.00923461171908 \\cdot 10^{-5} x^{2} - 1.14899164174526 \\cdot 10^{-5} x + 0.000436726135331643 & \\text{for}\\: x > \\frac{7}{5} \\wedge x < \\frac{7}{2} \\\\- 9.58515451269074 \\cdot 10^{-7} x^{4} + 1.24223602484472 \\cdot 10^{-5} x^{3} - 5.34080304996654 \\cdot 10^{-5} x^{2} + 8.1719874259869 \\cdot 10^{-5} x + 0.00139432684737465 & \\text{for}\\: x > \\frac{7}{2} \\wedge x < 6 \\\\- 0.000138459683757539 x^{2} + 0.001446485100978 x - 0.00229141120683082 & \\text{for}\\: x > 6 \\wedge x < \\frac{17}{2} \\end{cases}$"
      ],
      "text/plain": [
       "<IPython.core.display.Math object>"
      ]
     },
     "execution_count": 17,
     "metadata": {},
     "output_type": "execute_result"
    }
   ],
   "source": [
    "imprimir(r\"\\theta(x) = \", t)"
   ]
  },
  {
   "cell_type": "code",
   "execution_count": 18,
   "id": "9676ae43-9d8b-4a48-a4d7-840198ee71c7",
   "metadata": {},
   "outputs": [
    {
     "data": {
      "text/latex": [
       "$\\displaystyle v(x) = \\begin{cases} 2.69808406454369 \\cdot 10^{-7} x^{3} - 3.17460317460317 \\cdot 10^{-5} x^{2} + 0.000459766392980596 x & \\text{for}\\: x \\leq \\frac{7}{5} \\wedge x > 0 \\\\- 1.91703090253815 \\cdot 10^{-7} x^{5} + 3.1055900621118 \\cdot 10^{-6} x^{4} - 1.33641153723969 \\cdot 10^{-5} x^{3} - 5.74495820872632 \\cdot 10^{-6} x^{2} + 0.000436726135331643 x + 7.80633387010199 \\cdot 10^{-6} & \\text{for}\\: x > \\frac{7}{5} \\wedge x < \\frac{7}{2} \\\\- 1.91703090253815 \\cdot 10^{-7} x^{5} + 3.1055900621118 \\cdot 10^{-6} x^{4} - 1.78026768332218 \\cdot 10^{-5} x^{3} + 4.08599371299345 \\cdot 10^{-5} x^{2} + 0.00139432684737465 x - 0.00372440280354615 & \\text{for}\\: x > \\frac{7}{2} \\wedge x < 6 \\\\- 4.61532279191797 \\cdot 10^{-5} x^{3} + 0.000723242550489002 x^{2} - 0.00229141120683082 x + 0.00248213196601041 & \\text{for}\\: x > 6 \\wedge x < \\frac{17}{2} \\end{cases}$"
      ],
      "text/plain": [
       "<IPython.core.display.Math object>"
      ]
     },
     "execution_count": 18,
     "metadata": {},
     "output_type": "execute_result"
    }
   ],
   "source": [
    "imprimir(\"v(x) = \", v)"
   ]
  },
  {
   "cell_type": "markdown",
   "id": "7b9309fa-519b-499e-81fe-9e7d8e9eb856",
   "metadata": {},
   "source": [
    "### Se grafican los resultados "
   ]
  },
  {
   "cell_type": "code",
   "execution_count": 19,
   "id": "80f34a79-ce1a-48b1-8ba5-2ea5998d347e",
   "metadata": {},
   "outputs": [],
   "source": [
    "x_xmin_xmax = (x, x0+0.001, xL-0.001)"
   ]
  },
  {
   "cell_type": "code",
   "execution_count": 20,
   "id": "4d636b42-8157-4a96-8a3c-3bbbc19a2323",
   "metadata": {},
   "outputs": [
    {
     "data": {
      "image/png": "[encoded data removed]",
      "text/plain": [
       "<Figure size 640x480 with 1 Axes>"
      ]
     },
     "metadata": {},
     "output_type": "display_data"
    },
    {
     "data": {
      "text/plain": [
       "<sympy.plotting.plot.Plot at 0x7f2b74e972d0>"
      ]
     },
     "execution_count": 20,
     "metadata": {},
     "output_type": "execute_result"
    }
   ],
   "source": [
    "plot(V, x_xmin_xmax, xlabel='x [m]', ylabel='V(x) [kN]')"
   ]
  },
  {
   "cell_type": "code",
   "execution_count": 21,
   "id": "e990d238-c93d-4826-9b13-f6cee64b7724",
   "metadata": {},
   "outputs": [
    {
     "data": {
      "image/png": "[encoded data removed]",
      "text/plain": [
       "<Figure size 640x480 with 1 Axes>"
      ]
     },
     "metadata": {},
     "output_type": "display_data"
    },
    {
     "data": {
      "text/plain": [
       "<sympy.plotting.plot.Plot at 0x7f2b5d2f1590>"
      ]
     },
     "execution_count": 21,
     "metadata": {},
     "output_type": "execute_result"
    }
   ],
   "source": [
    "plot(M, x_xmin_xmax, xlabel='x [m]', ylabel='M(x) [kN-m]')"
   ]
  },
  {
   "cell_type": "code",
   "execution_count": 22,
   "id": "ce9189e1-2853-4bae-a3d9-36106c47e661",
   "metadata": {},
   "outputs": [
    {
     "data": {
      "image/png": "[encoded data removed]",
      "text/plain": [
       "<Figure size 640x480 with 1 Axes>"
      ]
     },
     "metadata": {},
     "output_type": "display_data"
    },
    {
     "data": {
      "text/plain": [
       "<sympy.plotting.plot.Plot at 0x7f2b759d3190>"
      ]
     },
     "execution_count": 22,
     "metadata": {},
     "output_type": "execute_result"
    }
   ],
   "source": [
    "plot(t, x_xmin_xmax, xlabel='x [m]', ylabel='θ(x) [rad]')"
   ]
  },
  {
   "cell_type": "code",
   "execution_count": 23,
   "id": "6f70d5f8-7e7c-4422-b3d0-cd2fe4ea40be",
   "metadata": {},
   "outputs": [
    {
     "data": {
      "image/png": "[encoded data removed]",
      "text/plain": [
       "<Figure size 640x480 with 1 Axes>"
      ]
     },
     "metadata": {},
     "output_type": "display_data"
    },
    {
     "data": {
      "text/plain": [
       "<sympy.plotting.plot.Plot at 0x7f2b5d085fd0>"
      ]
     },
     "execution_count": 23,
     "metadata": {},
     "output_type": "execute_result"
    }
   ],
   "source": [
    "plot(v, x_xmin_xmax, xlabel='x [m]', ylabel='v(x) [m]')"
   ]
  },
  {
   "cell_type": "markdown",
   "id": "e73b5dce-a794-492f-a852-398e295ec9c8",
   "metadata": {},
   "source": [
    "### Se calculan las reacciones en la viga"
   ]
  },
  {
   "cell_type": "code",
   "execution_count": 24,
   "id": "61fe6b8d-e255-44f6-9ac8-510d41e0467e",
   "metadata": {},
   "outputs": [
    {
     "name": "stdout",
     "output_type": "stream",
     "text": [
      "Ry(x= 0) = 0.07649068322981366 kN\n"
     ]
    }
   ],
   "source": [
    "print(f\"Ry(x= 0) = {float(V1.subs(sol).subs(x,x0))} kN\")"
   ]
  },
  {
   "cell_type": "code",
   "execution_count": 25,
   "id": "b8f52f8b-b65a-4a03-a507-6294ac321200",
   "metadata": {},
   "outputs": [
    {
     "name": "stdout",
     "output_type": "stream",
     "text": [
      "fres1 (x=3.5) = -1.2583321741438427 kN\n"
     ]
    }
   ],
   "source": [
    "print(f\"fres1 (x=3.5) = {float(-k1*v1.subs(sol).subs(x,x1))} kN\")"
   ]
  },
  {
   "cell_type": "code",
   "execution_count": 26,
   "id": "0ba95de1-9418-46eb-984e-763797bc29d6",
   "metadata": {},
   "outputs": [
    {
     "name": "stdout",
     "output_type": "stream",
     "text": [
      "fres2 (x=6.0) = -4.801299312086715 kN\n"
     ]
    }
   ],
   "source": [
    "print(f\"fres2 (x=6.0) = {float(-k2*v2.subs(sol).subs(x,x2))} kN\")"
   ]
  },
  {
   "cell_type": "code",
   "execution_count": 27,
   "id": "786f32c0-25ec-441d-889d-40498275572e",
   "metadata": {},
   "outputs": [
    {
     "name": "stdout",
     "output_type": "stream",
     "text": [
      "fres3 (x=6.0) = -4.801299312086715 kN\n"
     ]
    }
   ],
   "source": [
    "print(f\"fres3 (x=6.0) = {float(-k3*v2.subs(sol).subs(x,x2))} kN\")"
   ]
  },
  {
   "cell_type": "code",
   "execution_count": 28,
   "id": "5cde0509-741c-479d-a79e-321e5e6c0def",
   "metadata": {},
   "outputs": [
    {
     "name": "stdout",
     "output_type": "stream",
     "text": [
      "fres4 (x=8.5) = -6.9155598849125415 kN\n"
     ]
    }
   ],
   "source": [
    "print(f\"fres4 (x=8.5) = {float(-k4*v3.subs(sol).subs(x,xL))} kN\")"
   ]
  },
  {
   "cell_type": "code",
   "execution_count": 29,
   "id": "e57bdd82-1b8a-4808-8352-0cf16d8428f2",
   "metadata": {},
   "outputs": [
    {
     "name": "stdout",
     "output_type": "stream",
     "text": [
      "Rm(x=8.5) = -42.8713199570327 kN m\n"
     ]
    }
   ],
   "source": [
    "print(f\"Rm(x=8.5) = {float(M3.subs(sol).subs(x,xL))} kN m\")"
   ]
  },
  {
   "cell_type": "markdown",
   "id": "4cfca75c-15a7-4126-812e-f841ff841e75",
   "metadata": {
    "tags": []
   },
   "source": [
    "### Se calculan las tracciones/compresiones en los resortes"
   ]
  },
  {
   "cell_type": "code",
   "execution_count": 30,
   "id": "250412a6-fe69-46cb-b58b-7cf206f4705d",
   "metadata": {},
   "outputs": [
    {
     "name": "stdout",
     "output_type": "stream",
     "text": [
      "Resorte 1 (x=3.5) = 1.2583321741438427 kN\n"
     ]
    }
   ],
   "source": [
    "print(f\"Resorte 1 (x=3.5) = {float(+k1*v1.subs(sol).subs(x,x1))} kN\")"
   ]
  },
  {
   "cell_type": "code",
   "execution_count": 31,
   "id": "af68d73a-c9bc-4522-aa7b-28afffad7685",
   "metadata": {},
   "outputs": [
    {
     "name": "stdout",
     "output_type": "stream",
     "text": [
      "Resorte 2 (x=6.0) = -4.801299312086715 kN\n"
     ]
    }
   ],
   "source": [
    "# Se debe dejar el signo menos, ya que el resorte se encuentra arriba\n",
    "print(f\"Resorte 2 (x=6.0) = {float(-k2*v2.subs(sol).subs(x,x2))} kN\")"
   ]
  },
  {
   "cell_type": "code",
   "execution_count": 32,
   "id": "cb2cbb6a-b554-476e-89fa-a0712edcf50e",
   "metadata": {},
   "outputs": [
    {
     "name": "stdout",
     "output_type": "stream",
     "text": [
      "Resorte 3 (x=6.0) = 4.801299312086715 kN\n"
     ]
    }
   ],
   "source": [
    "print(f\"Resorte 3 (x=6.0) = {float(+k3*v2.subs(sol).subs(x,x2))} kN\")"
   ]
  },
  {
   "cell_type": "code",
   "execution_count": 33,
   "id": "853e0897-4026-4dd4-80ff-c30fa53326ab",
   "metadata": {
    "tags": []
   },
   "outputs": [
    {
     "name": "stdout",
     "output_type": "stream",
     "text": [
      "Resorte 4 (x=8.5) = 6.9155598849125415 kN\n"
     ]
    }
   ],
   "source": [
    "print(f\"Resorte 4 (x=8.5) = {float(+k4*v3.subs(sol).subs(x,xL))} kN\")"
   ]
  }
 ],
 "metadata": {
  "kernelspec": {
   "display_name": "Python 3 (ipykernel)",
   "language": "python",
   "name": "python3"
  },
  "language_info": {
   "codemirror_mode": {
    "name": "ipython",
    "version": 3
   },
   "file_extension": ".py",
   "mimetype": "text/x-python",
   "name": "python",
   "nbconvert_exporter": "python",
   "pygments_lexer": "ipython3",
   "version": "3.11.5"
  }
 },
 "nbformat": 4,
 "nbformat_minor": 5
}
