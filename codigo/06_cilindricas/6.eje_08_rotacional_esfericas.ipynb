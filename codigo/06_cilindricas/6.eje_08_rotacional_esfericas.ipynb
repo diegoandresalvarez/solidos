{
 "cells": [
  {
   "cell_type": "markdown",
   "id": "6c9678cd",
   "metadata": {},
   "source": [
    "# Ejercicio propuesto 7. Deducción del rotacional en coordenadas esféricas\n",
    "\n",
    "|Quién | Fecha | Qué hizo |\n",
    "| ---  | ---   | ---      |\n",
    "|Diego Andrés Alvarez, <daalvarez@unal.edu.co>  | Octubre 3, 2023      | Primer código |"
   ]
  },
  {
   "cell_type": "code",
   "execution_count": 1,
   "id": "d5337154",
   "metadata": {},
   "outputs": [],
   "source": [
    "from sympy import init_printing, latex, symbols, sin, cos, diff, simplify, Function, Matrix, expand, trigsimp\n",
    "import sympy as sp\n",
    "\n",
    "# Para imprimir bonito\n",
    "init_printing()\n",
    "from IPython.display import Math                 \n",
    "def imprimir (texto1, variable, texto2=\"\"):\n",
    "    return Math(texto1 +  rf'{latex(variable)}' + texto2)"
   ]
  },
  {
   "cell_type": "code",
   "execution_count": 2,
   "id": "38407efc-3dd2-4513-b42d-7ac288929259",
   "metadata": {},
   "outputs": [],
   "source": [
    "r, t, p = symbols('r, theta, phi')"
   ]
  },
  {
   "cell_type": "markdown",
   "id": "97f0fd6d-f797-4971-8b13-062d2b01339f",
   "metadata": {},
   "source": [
    "Se definen las variables rectangulares $(x, y, z)$ en función de las variables esféricas $(r, \\theta, \\phi)$:"
   ]
  },
  {
   "cell_type": "code",
   "execution_count": 3,
   "id": "6593d0b6-3460-47ff-bdd8-b0d6b9a1218b",
   "metadata": {},
   "outputs": [],
   "source": [
    "x = r*sin(t)*cos(p)\n",
    "y = r*sin(t)*sin(p)\n",
    "z = r*cos(t)"
   ]
  },
  {
   "cell_type": "markdown",
   "id": "f364ba3d-3519-4d63-bc37-b08e83ad44ae",
   "metadata": {},
   "source": [
    "Se calcula la matriz jacobiana de la transformación $(r, \\theta, \\phi) \\mapsto (x,y,z):$"
   ]
  },
  {
   "cell_type": "code",
   "execution_count": 4,
   "id": "84bb17a3-9617-4855-a7ad-a3e7d84e136f",
   "metadata": {},
   "outputs": [
    {
     "data": {
      "text/latex": [
       "$\\displaystyle \\boldsymbol{J}(r, \\theta, \\phi) = \\left[\\begin{matrix}\\sin{\\left(\\theta \\right)} \\cos{\\left(\\phi \\right)} & r \\cos{\\left(\\phi \\right)} \\cos{\\left(\\theta \\right)} & - r \\sin{\\left(\\phi \\right)} \\sin{\\left(\\theta \\right)}\\\\\\sin{\\left(\\phi \\right)} \\sin{\\left(\\theta \\right)} & r \\sin{\\left(\\phi \\right)} \\cos{\\left(\\theta \\right)} & r \\sin{\\left(\\theta \\right)} \\cos{\\left(\\phi \\right)}\\\\\\cos{\\left(\\theta \\right)} & - r \\sin{\\left(\\theta \\right)} & 0\\end{matrix}\\right]$"
      ],
      "text/plain": [
       "<IPython.core.display.Math object>"
      ]
     },
     "execution_count": 4,
     "metadata": {},
     "output_type": "execute_result"
    }
   ],
   "source": [
    "xyz = Matrix([x, y, z])\n",
    "rtp = Matrix([r, t, p])\n",
    "\n",
    "J = xyz.jacobian(rtp)\n",
    "imprimir(r\"\\boldsymbol{J}(r, \\theta, \\phi) = \", J)"
   ]
  },
  {
   "cell_type": "markdown",
   "id": "24ae396d-ac37-4579-8a70-9745d99fbc5c",
   "metadata": {},
   "source": [
    "Lo anterior es equivalente al comando:"
   ]
  },
  {
   "cell_type": "code",
   "execution_count": 5,
   "id": "32ea3483-dd1f-4e60-b77a-4332abc6d07b",
   "metadata": {},
   "outputs": [
    {
     "data": {
      "text/latex": [
       "$\\displaystyle \\boldsymbol{J}(r, \\theta, \\phi) = \\left[\\begin{matrix}\\sin{\\left(\\theta \\right)} \\cos{\\left(\\phi \\right)} & r \\cos{\\left(\\phi \\right)} \\cos{\\left(\\theta \\right)} & - r \\sin{\\left(\\phi \\right)} \\sin{\\left(\\theta \\right)}\\\\\\sin{\\left(\\phi \\right)} \\sin{\\left(\\theta \\right)} & r \\sin{\\left(\\phi \\right)} \\cos{\\left(\\theta \\right)} & r \\sin{\\left(\\theta \\right)} \\cos{\\left(\\phi \\right)}\\\\\\cos{\\left(\\theta \\right)} & - r \\sin{\\left(\\theta \\right)} & 0\\end{matrix}\\right]$"
      ],
      "text/plain": [
       "<IPython.core.display.Math object>"
      ]
     },
     "execution_count": 5,
     "metadata": {},
     "output_type": "execute_result"
    }
   ],
   "source": [
    "J = Matrix([[ diff(x,r), diff(x,t), diff(x,p) ],\n",
    "            [ diff(y,r), diff(y,t), diff(y,p) ],\n",
    "            [ diff(z,r), diff(z,t), diff(z,p) ]])\n",
    "imprimir(r\"\\boldsymbol{J}(r, \\theta, \\phi) = \", J)"
   ]
  },
  {
   "cell_type": "markdown",
   "id": "69468036-c2c3-4662-99ba-d5139fb0cd0b",
   "metadata": {},
   "source": [
    "De acuerdo al [teorema de la función inversa](https://es.wikipedia.org/wiki/Matriz_y_determinante_jacobianos), la matriz inversa de la matriz Jacobiana de una función invertible es la matriz Jacobiana de la función inversa. Recuerde adicionalmente que:\n",
    "$$\\left(\\boldsymbol{A}^T\\right)^{-1} = \\left(\\boldsymbol{A}^{-1}\\right)^T = \\boldsymbol{A}^{-T}$$"
   ]
  },
  {
   "cell_type": "code",
   "execution_count": 6,
   "id": "ca9d4111-49fa-4580-9a7f-48299e6570ad",
   "metadata": {},
   "outputs": [
    {
     "data": {
      "text/latex": [
       "$\\displaystyle \\boldsymbol{J}^{-T}(r, \\theta, \\phi) = \\left[\\begin{matrix}\\sin{\\left(\\theta \\right)} \\cos{\\left(\\phi \\right)} & \\frac{\\cos{\\left(\\phi \\right)} \\cos{\\left(\\theta \\right)}}{r} & - \\frac{\\sin{\\left(\\phi \\right)}}{r \\sin{\\left(\\theta \\right)}}\\\\\\sin{\\left(\\phi \\right)} \\sin{\\left(\\theta \\right)} & \\frac{\\sin{\\left(\\phi \\right)} \\cos{\\left(\\theta \\right)}}{r} & \\frac{\\cos{\\left(\\phi \\right)}}{r \\sin{\\left(\\theta \\right)}}\\\\\\cos{\\left(\\theta \\right)} & - \\frac{\\sin{\\left(\\theta \\right)}}{r} & 0\\end{matrix}\\right]$"
      ],
      "text/plain": [
       "<IPython.core.display.Math object>"
      ]
     },
     "execution_count": 6,
     "metadata": {},
     "output_type": "execute_result"
    }
   ],
   "source": [
    "inv_JT = trigsimp(J.T.inv())\n",
    "imprimir(r\"\\boldsymbol{J}^{-T}(r, \\theta, \\phi) = \", inv_JT)"
   ]
  },
  {
   "cell_type": "markdown",
   "id": "0fb50c93-13aa-4394-8797-dfc6b4074691",
   "metadata": {},
   "source": [
    "Se extraen las derivadas de la ecuación anterior:"
   ]
  },
  {
   "cell_type": "code",
   "execution_count": 7,
   "id": "676be3aa-dc8a-471d-a0a0-2f30f6639797",
   "metadata": {},
   "outputs": [],
   "source": [
    "dr_dx, dt_dx, dp_dx = inv_JT[0,:]\n",
    "dr_dy, dt_dy, dp_dy = inv_JT[1,:]\n",
    "dr_dz, dt_dz, dp_dz = inv_JT[2,:]"
   ]
  },
  {
   "cell_type": "markdown",
   "id": "c49987f0-b22e-4b14-8a0f-0340343ac169",
   "metadata": {},
   "source": [
    "Se definen las primeras derivadas utilizando la regla de la cadena:"
   ]
  },
  {
   "cell_type": "code",
   "execution_count": 8,
   "id": "c92bb024-7417-4115-8fe9-dbc771ee7d23",
   "metadata": {},
   "outputs": [],
   "source": [
    "d_dx = lambda f: diff(f,r)*dr_dx + diff(f,t)*dt_dx + diff(f,p)*dp_dx\n",
    "d_dy = lambda f: diff(f,r)*dr_dy + diff(f,t)*dt_dy + diff(f,p)*dp_dy\n",
    "d_dz = lambda f: diff(f,r)*dr_dz + diff(f,t)*dt_dz + diff(f,p)*dp_dz"
   ]
  },
  {
   "cell_type": "markdown",
   "id": "fc14145c-7104-49f6-9045-e401f52f2747",
   "metadata": {},
   "source": [
    "Se especifica que $f_r$, $f_\\theta$ y $f_\\phi$ son funciones de $r$, $\\theta$ y $\\phi$"
   ]
  },
  {
   "cell_type": "code",
   "execution_count": 9,
   "id": "3e68d282-4a7f-452d-aea2-1b8bf7538ef2",
   "metadata": {},
   "outputs": [],
   "source": [
    "fr = Function('f_r')(r, t, p)\n",
    "ft = Function('f_θ')(r, t, p)\n",
    "fp = Function('f_ϕ')(r, t, p)"
   ]
  },
  {
   "cell_type": "markdown",
   "id": "c314a7c3-072f-4f4b-96d1-d567aff43525",
   "metadata": {},
   "source": [
    "Se define la matriz de transformación de la base $\\{\\hat{\\boldsymbol{r}},\\hat{\\boldsymbol{\\theta}},\\hat{\\boldsymbol{\\phi}}\\}$ a la base $\\{\\hat{\\boldsymbol{i}},\\hat{\\boldsymbol{j}},\\hat{\\boldsymbol{k}}\\}$:\n"
   ]
  },
  {
   "cell_type": "code",
   "execution_count": 10,
   "id": "ffe44863-4c83-45de-ae78-afebfac2a1d8",
   "metadata": {},
   "outputs": [],
   "source": [
    "T = Matrix([[ sin(t)*cos(p),  cos(t)*cos(p),  -sin(p) ],     \n",
    "            [ sin(t)*sin(p),  cos(t)*sin(p),   cos(p) ],      \n",
    "            [        cos(t),        -sin(t),        0 ]])"
   ]
  },
  {
   "cell_type": "markdown",
   "id": "ca36a398-8005-497a-b010-4f33f55d85af",
   "metadata": {},
   "source": [
    "Se define el campo vectorial en coordenadas esféricas con respecto a la base $\\{\\hat{\\boldsymbol{r}},\\hat{\\boldsymbol{\\theta}},\\hat{\\boldsymbol{\\phi}}\\}$:"
   ]
  },
  {
   "cell_type": "code",
   "execution_count": 11,
   "id": "bed149b8-a6f8-44dc-873b-08ea62f6180b",
   "metadata": {},
   "outputs": [],
   "source": [
    "f_esf = Matrix([ fr,     \n",
    "                 ft,      \n",
    "                 fp  ])"
   ]
  },
  {
   "cell_type": "markdown",
   "id": "1f9b6743-4c7d-4ff4-a956-1d0f534a69ac",
   "metadata": {},
   "source": [
    "Se convierte el campo vectorial `f_esf` a su correspondiente en coordenadas rectangulares (con respecto a la base $\\{\\hat{\\boldsymbol{i}},\\hat{\\boldsymbol{j}},\\hat{\\boldsymbol{k}}\\}$)"
   ]
  },
  {
   "cell_type": "code",
   "execution_count": 12,
   "id": "9814f3e5-8f2e-462a-86a4-7a03aa500853",
   "metadata": {},
   "outputs": [],
   "source": [
    "f_rec = T * f_esf"
   ]
  },
  {
   "cell_type": "markdown",
   "id": "2642c1c2-dd7b-4c27-9816-e2844101fa20",
   "metadata": {},
   "source": [
    "Se extraen los componentes de `f_rec`:"
   ]
  },
  {
   "cell_type": "code",
   "execution_count": 13,
   "id": "cb879036-1a30-472c-9c27-9becad32c4e2",
   "metadata": {},
   "outputs": [],
   "source": [
    "fx, fy, fz = f_rec"
   ]
  },
  {
   "cell_type": "markdown",
   "id": "9394055c-ea02-4df2-a77f-b0696aff8ca4",
   "metadata": {},
   "source": [
    "Se especifica el rotacional en coordenadas rectangulares:"
   ]
  },
  {
   "cell_type": "code",
   "execution_count": 14,
   "id": "b54ecf3e-d2b1-477d-8229-eec9c31312a4",
   "metadata": {},
   "outputs": [],
   "source": [
    "rot_f_ijk = trigsimp(Matrix([ d_dy(fz) - d_dz(fy),\n",
    "                              d_dz(fx) - d_dx(fz),\n",
    "                              d_dx(fy) - d_dy(fx) ]))"
   ]
  },
  {
   "cell_type": "markdown",
   "id": "cd0159dc-ba76-44ee-bf7d-44809eccc32c",
   "metadata": {},
   "source": [
    "Se imprime el rotacional en coordenadas cilíndricas con respecto a la base $\\{\\hat{\\boldsymbol{i}}, \\hat{\\boldsymbol{j}}, \\hat{\\boldsymbol{k}}\\}$:"
   ]
  },
  {
   "cell_type": "code",
   "execution_count": 15,
   "id": "98079023-fc8e-444c-a9ff-b1bfc9f07a07",
   "metadata": {},
   "outputs": [
    {
     "data": {
      "text/latex": [
       "$\\displaystyle \\boldsymbol{\\nabla} \\times \\boldsymbol{f}(r, \\theta, \\phi) = \\left[\\begin{matrix}- \\sin{\\left(\\phi \\right)} \\frac{\\partial}{\\partial r} f_{θ}{\\left(r,\\theta,\\phi \\right)} - \\cos{\\left(\\phi \\right)} \\cos{\\left(\\theta \\right)} \\frac{\\partial}{\\partial r} f_{ϕ}{\\left(r,\\theta,\\phi \\right)} - \\frac{f_{θ}{\\left(r,\\theta,\\phi \\right)} \\sin{\\left(\\phi \\right)}}{r} + \\frac{\\sin{\\left(\\phi \\right)} \\frac{\\partial}{\\partial \\theta} f_{r}{\\left(r,\\theta,\\phi \\right)}}{r} + \\frac{\\sin{\\left(\\theta \\right)} \\cos{\\left(\\phi \\right)} \\frac{\\partial}{\\partial \\theta} f_{ϕ}{\\left(r,\\theta,\\phi \\right)}}{r} - \\frac{\\cos{\\left(\\phi \\right)} \\frac{\\partial}{\\partial \\phi} f_{θ}{\\left(r,\\theta,\\phi \\right)}}{r} + \\frac{\\cos{\\left(\\phi \\right)} \\frac{\\partial}{\\partial \\phi} f_{r}{\\left(r,\\theta,\\phi \\right)}}{r \\tan{\\left(\\theta \\right)}}\\\\- \\sin{\\left(\\phi \\right)} \\cos{\\left(\\theta \\right)} \\frac{\\partial}{\\partial r} f_{ϕ}{\\left(r,\\theta,\\phi \\right)} + \\cos{\\left(\\phi \\right)} \\frac{\\partial}{\\partial r} f_{θ}{\\left(r,\\theta,\\phi \\right)} + \\frac{f_{θ}{\\left(r,\\theta,\\phi \\right)} \\cos{\\left(\\phi \\right)}}{r} + \\frac{\\sin{\\left(\\phi \\right)} \\sin{\\left(\\theta \\right)} \\frac{\\partial}{\\partial \\theta} f_{ϕ}{\\left(r,\\theta,\\phi \\right)}}{r} - \\frac{\\sin{\\left(\\phi \\right)} \\frac{\\partial}{\\partial \\phi} f_{θ}{\\left(r,\\theta,\\phi \\right)}}{r} + \\frac{\\sin{\\left(\\phi \\right)} \\frac{\\partial}{\\partial \\phi} f_{r}{\\left(r,\\theta,\\phi \\right)}}{r \\tan{\\left(\\theta \\right)}} - \\frac{\\cos{\\left(\\phi \\right)} \\frac{\\partial}{\\partial \\theta} f_{r}{\\left(r,\\theta,\\phi \\right)}}{r}\\\\\\sin{\\left(\\theta \\right)} \\frac{\\partial}{\\partial r} f_{ϕ}{\\left(r,\\theta,\\phi \\right)} + \\frac{f_{ϕ}{\\left(r,\\theta,\\phi \\right)}}{r \\sin{\\left(\\theta \\right)}} + \\frac{\\cos{\\left(\\theta \\right)} \\frac{\\partial}{\\partial \\theta} f_{ϕ}{\\left(r,\\theta,\\phi \\right)}}{r} - \\frac{\\frac{\\partial}{\\partial \\phi} f_{r}{\\left(r,\\theta,\\phi \\right)}}{r} - \\frac{\\frac{\\partial}{\\partial \\phi} f_{θ}{\\left(r,\\theta,\\phi \\right)}}{r \\tan{\\left(\\theta \\right)}}\\end{matrix}\\right]$"
      ],
      "text/plain": [
       "<IPython.core.display.Math object>"
      ]
     },
     "execution_count": 15,
     "metadata": {},
     "output_type": "execute_result"
    }
   ],
   "source": [
    "imprimir(r\"\\boldsymbol{\\nabla} \\times \\boldsymbol{f}(r, \\theta, \\phi) = \", rot_f_ijk)"
   ]
  },
  {
   "cell_type": "markdown",
   "id": "059dc01c-ab9d-42af-b961-9514757416ee",
   "metadata": {},
   "source": [
    "Se convierte el rotacional calculado anteriormente a uno con respecto a la base $\\{\\hat{\\boldsymbol{r}}, \\hat{\\boldsymbol{\\theta}}, \\hat{\\boldsymbol{\\phi}}\\}$:"
   ]
  },
  {
   "cell_type": "code",
   "execution_count": 16,
   "id": "dfcfac3d-9eb9-4be7-9e4e-4f6e75cd966f",
   "metadata": {},
   "outputs": [
    {
     "data": {
      "text/latex": [
       "$\\displaystyle \\boldsymbol{\\nabla} \\times \\boldsymbol{f}(r, \\theta, \\phi) = \\left[\\begin{matrix}\\frac{f_{ϕ}{\\left(r,\\theta,\\phi \\right)}}{r \\tan{\\left(\\theta \\right)}} + \\frac{\\frac{\\partial}{\\partial \\theta} f_{ϕ}{\\left(r,\\theta,\\phi \\right)}}{r} - \\frac{\\frac{\\partial}{\\partial \\phi} f_{θ}{\\left(r,\\theta,\\phi \\right)}}{r \\sin{\\left(\\theta \\right)}}\\\\- \\frac{\\partial}{\\partial r} f_{ϕ}{\\left(r,\\theta,\\phi \\right)} - \\frac{f_{ϕ}{\\left(r,\\theta,\\phi \\right)}}{r} + \\frac{\\frac{\\partial}{\\partial \\phi} f_{r}{\\left(r,\\theta,\\phi \\right)}}{r \\sin{\\left(\\theta \\right)}}\\\\\\frac{\\partial}{\\partial r} f_{θ}{\\left(r,\\theta,\\phi \\right)} + \\frac{f_{θ}{\\left(r,\\theta,\\phi \\right)}}{r} - \\frac{\\frac{\\partial}{\\partial \\theta} f_{r}{\\left(r,\\theta,\\phi \\right)}}{r}\\end{matrix}\\right]$"
      ],
      "text/plain": [
       "<IPython.core.display.Math object>"
      ]
     },
     "execution_count": 16,
     "metadata": {},
     "output_type": "execute_result"
    }
   ],
   "source": [
    "rot_f_rtp = expand(trigsimp(T.T * rot_f_ijk))\n",
    "\n",
    "imprimir(r\"\\boldsymbol{\\nabla} \\times \\boldsymbol{f}(r, \\theta, \\phi) = \", rot_f_rtp)"
   ]
  },
  {
   "cell_type": "markdown",
   "id": "e3e2282e-f4bf-4cdb-b9dc-ef8eba5f2017",
   "metadata": {},
   "source": [
    "Versión que figura en Wikipedia https://en.wikipedia.org/wiki/Spherical_coordinate_system:"
   ]
  },
  {
   "cell_type": "code",
   "execution_count": 17,
   "id": "019802dc-2ac6-4b2e-8e93-f1432da52765",
   "metadata": {},
   "outputs": [
    {
     "data": {
      "text/latex": [
       "$\\displaystyle \\boldsymbol{\\nabla} \\times \\boldsymbol{f}(r, \\theta, \\phi) = \\left[\\begin{matrix}\\frac{f_{ϕ}{\\left(r,\\theta,\\phi \\right)}}{r \\tan{\\left(\\theta \\right)}} + \\frac{\\frac{\\partial}{\\partial \\theta} f_{ϕ}{\\left(r,\\theta,\\phi \\right)}}{r} - \\frac{\\frac{\\partial}{\\partial \\phi} f_{θ}{\\left(r,\\theta,\\phi \\right)}}{r \\sin{\\left(\\theta \\right)}}\\\\- \\frac{\\partial}{\\partial r} f_{ϕ}{\\left(r,\\theta,\\phi \\right)} - \\frac{f_{ϕ}{\\left(r,\\theta,\\phi \\right)}}{r} + \\frac{\\frac{\\partial}{\\partial \\phi} f_{r}{\\left(r,\\theta,\\phi \\right)}}{r \\sin{\\left(\\theta \\right)}}\\\\\\frac{\\partial}{\\partial r} f_{θ}{\\left(r,\\theta,\\phi \\right)} + \\frac{f_{θ}{\\left(r,\\theta,\\phi \\right)}}{r} - \\frac{\\frac{\\partial}{\\partial \\theta} f_{r}{\\left(r,\\theta,\\phi \\right)}}{r}\\end{matrix}\\right]$"
      ],
      "text/plain": [
       "<IPython.core.display.Math object>"
      ]
     },
     "execution_count": 17,
     "metadata": {},
     "output_type": "execute_result"
    }
   ],
   "source": [
    "rot_f_rtp2 = Matrix([[ (1/(r*sin(t)))*(diff(fp*sin(t), t) - diff(ft, p)) ],\n",
    "                     [ (1/r)*((1/sin(t))*diff(fr, p) - diff(r*fp, r))    ],\n",
    "                     [ (1/r)*(diff(r*ft, r) - diff(fr, t))               ]])\n",
    "\n",
    "rot_f_rtp2 = expand(trigsimp(rot_f_rtp2))\n",
    "\n",
    "imprimir(r\"\\boldsymbol{\\nabla} \\times \\boldsymbol{f}(r, \\theta, \\phi) = \", rot_f_rtp2)"
   ]
  },
  {
   "cell_type": "markdown",
   "id": "02c26108-6e05-475b-8627-5ed85bef1590",
   "metadata": {},
   "source": [
    "Se verifica que ambas formulaciones son equivalentes:"
   ]
  },
  {
   "cell_type": "code",
   "execution_count": 18,
   "id": "7638f4ca-105b-49a6-89dc-ed442ca53f00",
   "metadata": {},
   "outputs": [
    {
     "data": {
      "image/png": "[encoded data removed]",
      "text/latex": [
       "$\\displaystyle \\left[\\begin{matrix}0\\\\0\\\\0\\end{matrix}\\right]$"
      ],
      "text/plain": [
       "⎡0⎤\n",
       "⎢ ⎥\n",
       "⎢0⎥\n",
       "⎢ ⎥\n",
       "⎣0⎦"
      ]
     },
     "execution_count": 18,
     "metadata": {},
     "output_type": "execute_result"
    }
   ],
   "source": [
    "simplify(rot_f_rtp - rot_f_rtp2)"
   ]
  }
 ],
 "metadata": {
  "kernelspec": {
   "display_name": "Python 3 (ipykernel)",
   "language": "python",
   "name": "python3"
  },
  "language_info": {
   "codemirror_mode": {
    "name": "ipython",
    "version": 3
   },
   "file_extension": ".py",
   "mimetype": "text/x-python",
   "name": "python",
   "nbconvert_exporter": "python",
   "pygments_lexer": "ipython3",
   "version": "3.10.9"
  }
 },
 "nbformat": 4,
 "nbformat_minor": 5
}
