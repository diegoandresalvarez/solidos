{
 "cells": [
  {
   "cell_type": "markdown",
   "id": "a08aaf75",
   "metadata": {},
   "source": [
    "# 6.1. Deducción del laplaciano en coordenadas polares"
   ]
  },
  {
   "cell_type": "markdown",
   "id": "35a0d76a-f863-4f52-9810-e5eb12fe0dec",
   "metadata": {},
   "source": [
    "|Quién | Correo | Fecha | Qué hizo |\n",
    "| ---  | ---   | --- | ---      |\n",
    "|Diego Andrés Alvarez Marín | <daalvarez@unal.edu.co>  | Marzo 26, 2023 | Código inicial |"
   ]
  },
  {
   "cell_type": "markdown",
   "id": "eb044ba4-e1ff-457b-9ca7-198f158d79e4",
   "metadata": {},
   "source": [
    "Se inicializan las librerías"
   ]
  },
  {
   "cell_type": "code",
   "execution_count": 1,
   "id": "6181f6cc",
   "metadata": {},
   "outputs": [],
   "source": [
    "from sympy import init_printing, latex, symbols, sin, cos, diff, Function, simplify\n",
    "\n",
    "# Para imprimir bonito\n",
    "init_printing()\n",
    "from IPython.display import Math                 \n",
    "def imprimir (texto1, variable, texto2=\"\"):\n",
    "    return Math(texto1 +  rf'{latex(variable)}' + texto2)"
   ]
  },
  {
   "cell_type": "markdown",
   "id": "aae3a44d-6ebd-4571-a4ba-bee9d988762f",
   "metadata": {},
   "source": [
    "Se crean las variables simbólicas:"
   ]
  },
  {
   "cell_type": "code",
   "execution_count": 2,
   "id": "3c89c9b0-563f-425e-a034-313a9f7b9a15",
   "metadata": {},
   "outputs": [],
   "source": [
    "r, t = symbols('r, theta')"
   ]
  },
  {
   "cell_type": "markdown",
   "id": "50c705e8-a56f-4b0a-8de3-5571090fc01f",
   "metadata": {},
   "source": [
    "Se definen las derivadas:"
   ]
  },
  {
   "cell_type": "code",
   "execution_count": 3,
   "id": "467ffdf2-b0ba-4cd0-af40-84c809191597",
   "metadata": {},
   "outputs": [],
   "source": [
    "# se especifican \"manualmente\" las derivadas\n",
    "dr_dx =  cos(t);     dr_dy =  sin(t)\n",
    "dt_dx = -sin(t)/r;   dt_dy =  cos(t)/r"
   ]
  },
  {
   "cell_type": "markdown",
   "id": "2b9a4fde-9837-4fcb-85cb-4a63baee8f6e",
   "metadata": {},
   "source": [
    "Se especifica \"manualmente\" las primeras derivadas utilizando la regla de la cadena para derivar una función $f(r,\\theta)$ teniendo en cuenta que $r$ y $\\theta$ son funciones de $x$ y de $y$:\n",
    "\\begin{align*}\n",
    "\\frac{\\partial f}{\\partial x} &= \\frac{\\partial f}{\\partial r}\\frac{\\partial r}{\\partial x} + \\frac{\\partial f}{\\partial \\theta} \\frac{\\partial \\theta}{\\partial x} \\\\\n",
    "\\frac{\\partial f}{\\partial y} &= \\frac{\\partial f}{\\partial r}\\frac{\\partial r}{\\partial y} + \\frac{\\partial f}{\\partial \\theta} \\frac{\\partial \\theta}{\\partial y} \\\\\n",
    "\\end{align*}    "
   ]
  },
  {
   "cell_type": "code",
   "execution_count": 4,
   "id": "09b3ac08-e686-46e6-8143-4ce10f013dab",
   "metadata": {},
   "outputs": [],
   "source": [
    "# se definen las primeras derivadas utilizando la regla de la cadena\n",
    "d_dx = lambda f: diff(f,r)*dr_dx + diff(f,t)*dt_dx\n",
    "d_dy = lambda f: diff(f,r)*dr_dy + diff(f,t)*dt_dy"
   ]
  },
  {
   "cell_type": "markdown",
   "id": "d222652c-93a7-46f8-a30c-42ebfe65d70f",
   "metadata": {},
   "source": [
    "Se definen la segundas derivadas:"
   ]
  },
  {
   "cell_type": "code",
   "execution_count": 5,
   "id": "251558e7-52fb-4b88-976b-ba22c9c97656",
   "metadata": {},
   "outputs": [],
   "source": [
    "d2_dx2 = lambda f: d_dx(d_dx(f))\n",
    "d2_dy2 = lambda f: d_dy(d_dy(f))"
   ]
  },
  {
   "cell_type": "code",
   "execution_count": 6,
   "id": "b91f972a-8a35-4026-ab6b-542d33110862",
   "metadata": {},
   "outputs": [],
   "source": [
    "# se especifica que phi es función de r y de t\n",
    "phi = Function('phi')(r, t)\n",
    "\n",
    "# se escribe la fórmula del laplaciano en coordenadas rectangulares\n",
    "lapl = simplify(d2_dx2(phi) + d2_dy2(phi))"
   ]
  },
  {
   "cell_type": "markdown",
   "id": "15d5a83a-0a32-45d9-a41e-8d669a6ad191",
   "metadata": {},
   "source": [
    "Se imprime el laplaciano en coordenadas cilíndricas:"
   ]
  },
  {
   "cell_type": "code",
   "execution_count": 7,
   "id": "e5f90a89-04de-46ce-b63b-1296e89f67da",
   "metadata": {},
   "outputs": [
    {
     "data": {
      "text/latex": [
       "$\\displaystyle \\nabla^2 \\phi(r, \\theta) = \\frac{\\partial^{2}}{\\partial r^{2}} \\phi{\\left(r,\\theta \\right)} + \\frac{\\frac{\\partial}{\\partial r} \\phi{\\left(r,\\theta \\right)}}{r} + \\frac{\\frac{\\partial^{2}}{\\partial \\theta^{2}} \\phi{\\left(r,\\theta \\right)}}{r^{2}}$"
      ],
      "text/plain": [
       "<IPython.core.display.Math object>"
      ]
     },
     "execution_count": 7,
     "metadata": {},
     "output_type": "execute_result"
    }
   ],
   "source": [
    "imprimir(r\"\\nabla^2 \\phi(r, \\theta) = \", lapl)"
   ]
  }
 ],
 "metadata": {
  "kernelspec": {
   "display_name": "Python 3 (ipykernel)",
   "language": "python",
   "name": "python3"
  },
  "language_info": {
   "codemirror_mode": {
    "name": "ipython",
    "version": 3
   },
   "file_extension": ".py",
   "mimetype": "text/x-python",
   "name": "python",
   "nbconvert_exporter": "python",
   "pygments_lexer": "ipython3",
   "version": "3.11.7"
  }
 },
 "nbformat": 4,
 "nbformat_minor": 5
}
