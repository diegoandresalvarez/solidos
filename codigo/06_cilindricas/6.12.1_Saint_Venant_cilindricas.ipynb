{
 "cells": [
  {
   "cell_type": "markdown",
   "id": "8f472e55-14c9-4f2a-a70a-8419d9cf5f07",
   "metadata": {},
   "source": [
    "# 6.10.1 Ecuaciones diferenciales de compatibilidad tridimensionales\n",
    "\n",
    "|Quién | Correo | Fecha | Qué hizo |\n",
    "| ---  | ---   | --- | ---      |\n",
    "|Diego Andrés Alvarez Marín | <daalvarez@unal.edu.co>  | Marzo 26, 2023 | Código inicial |"
   ]
  },
  {
   "cell_type": "markdown",
   "id": "be0dc6ee-769e-4360-9bd8-85975ca11430",
   "metadata": {
    "id": "UyAhKeEIsEqh"
   },
   "source": [
    "## Ecuaciones de compatibilidad de Saint-Venant"
   ]
  },
  {
   "cell_type": "code",
   "execution_count": 1,
   "id": "35f77989-228b-4a41-bf30-2cd2a2932eae",
   "metadata": {
    "id": "API5h85VrvWX"
   },
   "outputs": [],
   "source": [
    "from sympy import sin, cos, diff, Function, simplify, symbols, Matrix, expand"
   ]
  },
  {
   "cell_type": "markdown",
   "id": "d8f88c1f-2f1a-44a6-b840-740e3dbf8dbd",
   "metadata": {
    "id": "L66opn_C5Tr_"
   },
   "source": [
    "Se definen las variables y funciones de interés:"
   ]
  },
  {
   "cell_type": "code",
   "execution_count": 2,
   "id": "fdfb6003-2a47-4b88-bc8e-061507d2fb43",
   "metadata": {
    "id": "S7-I1WarsUgw"
   },
   "outputs": [],
   "source": [
    "r, t, z = symbols(\"r, theta, z\")\n",
    "\n",
    "er  = Function('varepsilon_r')(r, t, z)\n",
    "et  = Function('varepsilon_θ')(r, t, z)\n",
    "ez  = Function('varepsilon_z')(r, t, z)\n",
    "grt = Function('gamma_rθ')(r, t, z);        ert = grt/2\n",
    "grz = Function('gamma_rz')(r, t, z);        erz = grz/2\n",
    "gtz = Function('gamma_θz')(r, t, z);        etz = gtz/2"
   ]
  },
  {
   "cell_type": "markdown",
   "id": "f073c7d6-721d-42ed-a79b-335e6416c764",
   "metadata": {
    "id": "vLtLDIWz5q_9"
   },
   "source": [
    "Se define la matriz de transformación $\\boldsymbol{T}$:"
   ]
  },
  {
   "cell_type": "code",
   "execution_count": 3,
   "id": "f35e727a-e23f-4e19-9288-782fe1dd9680",
   "metadata": {
    "colab": {
     "base_uri": "https://localhost:8080/",
     "height": 78
    },
    "id": "I5V1Uk_Rub9O",
    "outputId": "d858d132-fa45-4ac6-edf6-0856349e6c74"
   },
   "outputs": [],
   "source": [
    "T = Matrix([[ cos(t), -sin(t),       0 ],     \n",
    "            [ sin(t),  cos(t),       0 ],      \n",
    "            [      0,       0,       1 ]])"
   ]
  },
  {
   "cell_type": "markdown",
   "id": "46fbcdac-526f-4d8b-9f69-86b4aeeb13f0",
   "metadata": {
    "id": "gUyQP-4l5Z5y"
   },
   "source": [
    "Se define el tensor de deformaciones en coordenadas cilíndricas $\\underline{\\underline{\\boldsymbol{\\varepsilon}_{\\text{cil}}}}$:"
   ]
  },
  {
   "cell_type": "code",
   "execution_count": 4,
   "id": "40038c10-3fc3-4ea8-b483-3fb698902e03",
   "metadata": {
    "colab": {
     "base_uri": "https://localhost:8080/",
     "height": 78
    },
    "id": "GOVDxdkOtb4j",
    "outputId": "9a07c997-e29d-490a-d17a-a2a5146f8466"
   },
   "outputs": [],
   "source": [
    "eps_cil = Matrix([[  er, ert, erz ],\n",
    "                  [ ert,  et, etz ],                       \n",
    "                  [ erz, etz,  ez ]])"
   ]
  },
  {
   "cell_type": "markdown",
   "id": "b267a2d1-5c38-4351-9306-5bf5dd33eb80",
   "metadata": {
    "id": "9du7Qzz07wKz"
   },
   "source": [
    "Se convierte el tensor de deformaciones $\\underline{\\underline{\\boldsymbol{\\varepsilon}_{\\text{cil}}}}$ de la base $\\{\\hat{\\boldsymbol{r}}, \\hat{\\boldsymbol{\\theta}}, \\hat{\\boldsymbol{z}}\\}$ a la base $\\{\\hat{\\boldsymbol{i}}, \\hat{\\boldsymbol{j}}, \\hat{\\boldsymbol{k}}\\}$ utilizando la ecuación\n",
    "\\begin{equation*}\n",
    "\\underline{\\underline{\\boldsymbol{\\varepsilon}}} =\n",
    "\\boldsymbol{T} \\underline{\\underline{\\boldsymbol{\\varepsilon}_{\\text{cil}}}}\n",
    "\\boldsymbol{T}^T\n",
    "\\end{equation*}"
   ]
  },
  {
   "cell_type": "code",
   "execution_count": 5,
   "id": "0d42496a-13dc-4560-a152-46f8baebe00d",
   "metadata": {
    "id": "YLhi9ppBu7h8"
   },
   "outputs": [],
   "source": [
    "eps = T*eps_cil*T.T"
   ]
  },
  {
   "cell_type": "markdown",
   "id": "3734b753-7134-415f-be59-7e86833c60d0",
   "metadata": {
    "id": "wI_VbHIb8NMn"
   },
   "source": [
    "Extraemos las componentes de las deformaciones del tensor $\\underline{\\underline{\\boldsymbol{\\varepsilon}}}$:"
   ]
  },
  {
   "cell_type": "code",
   "execution_count": 6,
   "id": "7c576a76-736f-4b0c-8a2d-8f6e2a855f47",
   "metadata": {
    "id": "WGpqR1I17g73"
   },
   "outputs": [],
   "source": [
    "ex  =   eps[0,0]\n",
    "ey  =   eps[1,1]\n",
    "ez  =   eps[2,2]\n",
    "gxy = 2*eps[0,1]\n",
    "gxz = 2*eps[0,2]\n",
    "gyz = 2*eps[1,2]"
   ]
  },
  {
   "cell_type": "markdown",
   "id": "a3ae0327-4a6c-488c-ae1b-55f793943400",
   "metadata": {},
   "source": [
    "Definimos las derivadas en coordenadas rectangulares:"
   ]
  },
  {
   "cell_type": "code",
   "execution_count": 7,
   "id": "ccc42efc-93de-4120-9b76-4b1964b38527",
   "metadata": {},
   "outputs": [],
   "source": [
    "dr_dx =    cos(t);   dr_dy = sin(t)\n",
    "dt_dx = -sin(t)/r;   dt_dy = cos(t)/r\n",
    "\n",
    "# se definen las primeras derivadas utilizando la regla de la cadena\n",
    "d_dx = lambda f: diff(f,r)*dr_dx + diff(f,t)*dt_dx\n",
    "d_dy = lambda f: diff(f,r)*dr_dy + diff(f,t)*dt_dy\n",
    "d_dz = lambda f: diff(f,z)\n",
    "\n",
    "# se definen las segundas derivadas\n",
    "d2_dx2  = lambda f: d_dx(d_dx(f))\n",
    "d2_dy2  = lambda f: d_dy(d_dy(f))\n",
    "d2_dz2  = lambda f: d_dz(d_dz(f))\n",
    "d2_dxdy = lambda f: d_dx(d_dy(f))\n",
    "d2_dxdz = lambda f: d_dx(d_dz(f))\n",
    "d2_dydz = lambda f: d_dy(d_dz(f))"
   ]
  },
  {
   "cell_type": "markdown",
   "id": "06043f1b-6af3-4588-a327-6c1057c3160e",
   "metadata": {},
   "source": [
    "Escribimos las ecuaciones de compatibilidad de Saint-Venant en coordenadas rectangulares:\n",
    "\\begin{align*}\n",
    "\\frac{\\partial^2 \\varepsilon_x}{\\partial y^2}+\\frac{\\partial^2 \\varepsilon_y}{\\partial x^2} &= \\frac{\\partial^2 \\gamma_{xy}}{\\partial x \\partial y} &  2\\frac{\\partial^2 \\varepsilon_x}{\\partial y \\partial z} &= \\frac{\\partial}{\\partial x}\\left(-\\frac{\\partial \\gamma_{yz}}{\\partial x}+\\frac{\\partial \\gamma_{xz}}{\\partial y}+\\frac{\\partial \\gamma_{xy}}{\\partial z}\\right) \\\\\n",
    "\\frac{\\partial^2 \\varepsilon_y}{\\partial z^2}+\\frac{\\partial^2 \\varepsilon_z}{\\partial y^2} &= \\frac{\\partial^2 \\gamma_{yz}}{\\partial y \\partial z} &  2\\frac{\\partial^2 \\varepsilon_y}{\\partial x \\partial z} &= \\frac{\\partial}{\\partial y}\\left(\\frac{\\partial \\gamma_{yz}}{\\partial x}-\\frac{\\partial \\gamma_{xz}}{\\partial y}+\\frac{\\partial \\gamma_{xy}}{\\partial z}\\right) \\\\\n",
    "\\frac{\\partial^2 \\varepsilon_z}{\\partial x^2}+\\frac{\\partial^2 \\varepsilon_x}{\\partial z^2} &= \\frac{\\partial^2 \\gamma_{xz}}{\\partial x \\partial z} &  2\\frac{\\partial^2 \\varepsilon_z}{\\partial x \\partial y} &= \\frac{\\partial}{\\partial z}\\left(\\frac{\\partial \\gamma_{yz}}{\\partial x}+\\frac{\\partial \\gamma_{xz}}{\\partial y}-\\frac{\\partial \\gamma_{xy}}{\\partial z}\\right);\n",
    "\\end{align*}\n",
    "(tenga en cuenta que estas ecuaciones se escribieron de modo tal que sus lados derechos son iguales a cero)"
   ]
  },
  {
   "cell_type": "code",
   "execution_count": 8,
   "id": "b6ea0e51-d952-4dee-97ee-eae777e1f01f",
   "metadata": {},
   "outputs": [],
   "source": [
    "e1a = d2_dy2(ex) + d2_dx2(ey) - d2_dxdy(gxy)\n",
    "e2a = d2_dz2(ey) + d2_dy2(ez) - d2_dydz(gyz)\n",
    "e3a = d2_dx2(ez) + d2_dz2(ex) - d2_dxdz(gxz)\n",
    "e4a = 2*d2_dydz(ex) - d_dx(- d_dx(gyz) + d_dy(gxz) + d_dz(gxy))\n",
    "e5a = 2*d2_dxdz(ey) - d_dy(+ d_dx(gyz) - d_dy(gxz) + d_dz(gxy))\n",
    "e6a = 2*d2_dxdy(ez) - d_dz(+ d_dx(gyz) + d_dy(gxz) - d_dz(gxy))"
   ]
  },
  {
   "cell_type": "markdown",
   "id": "dda398cc-6dab-4182-bec6-64a1d9eebd86",
   "metadata": {},
   "source": [
    "Se hace $\\sin(\\theta)=0$ y $\\cos(\\theta)=1$, como en ocasiones anteriores:"
   ]
  },
  {
   "cell_type": "code",
   "execution_count": 9,
   "id": "14aa4285-60af-4c14-bb8e-7a2b4680343c",
   "metadata": {},
   "outputs": [],
   "source": [
    "e1a = simplify(e1a.subs({sin(t): 0, cos(t): 1}))\n",
    "e2a = simplify(e2a.subs({sin(t): 0, cos(t): 1}))\n",
    "e3a = simplify(e3a.subs({sin(t): 0, cos(t): 1}))\n",
    "e4a = simplify(e4a.subs({sin(t): 0, cos(t): 1}))\n",
    "e5a = simplify(e5a.subs({sin(t): 0, cos(t): 1}))\n",
    "e6a = simplify(e6a.subs({sin(t): 0, cos(t): 1}))"
   ]
  },
  {
   "cell_type": "markdown",
   "id": "9640542c-7236-49ab-a09e-db940ff74fcf",
   "metadata": {},
   "source": [
    "Compararemos las ecuaciones obtenidas con las ecuaciones de Saint-Venant que aparecen en la literatura:\n",
    "\\begin{gather*}\n",
    "        \\frac{1}{r^2}\\frac{\\partial^2 \\varepsilon_r}{\\partial \\theta^2} + \\frac{1}{r}\\frac{\\partial}{\\partial r} \\left( r \\frac{\\partial \\varepsilon_\\theta}{\\partial r} - \\left( \\varepsilon_r - \\varepsilon_\\theta \\right) \\right) = \\frac{1}{r}\\frac{\\partial}{\\partial \\theta}\\left(\\frac{\\partial \\gamma_{r\\theta}}{\\partial r} + \\frac{\\gamma_{r \\theta}}{r} \\right) \\\\\n",
    "        %\n",
    "        %\\allowdisplaybreaks\n",
    "        \\frac{1}{r^2}\\frac{\\partial^2 \\varepsilon_z}{\\partial \\theta^2} + \\frac{\\partial^2 \\varepsilon_\\theta}{\\partial z^2} + \\frac{1}{r}\\frac{\\partial \\varepsilon_z}{\\partial r} = \\frac{1}{r}\\frac{\\partial}{\\partial z} \\left( \\frac{\\partial \\gamma_{\\theta z}}{\\partial \\theta} + \\gamma_{rz} \\right) \\\\\n",
    "        %\n",
    "        %\\allowdisplaybreaks\n",
    "        \\frac{\\partial^2 \\varepsilon_z}{\\partial r^2} + \\frac{\\partial^2 \\varepsilon_r}{\\partial z^2} = \\frac{\\partial^2 \\gamma_{rz}}{\\partial r \\partial z} \\\\\n",
    "        %\n",
    "        %\\allowdisplaybreaks\n",
    "        \\frac{2}{r}\\frac{\\partial^2 \\varepsilon_r}{\\partial \\theta \\partial z} = \n",
    "        \\frac{1}{r} \\frac{\\partial}{\\partial r} \\left( r\\frac{\\partial \\gamma_{r\\theta}}{\\partial z} - \\gamma_{\\theta z} \\right) + \\frac{\\partial}{\\partial r} \\left( \\frac{1}{r}\\frac{\\partial \\gamma_{rz}}{\\partial \\theta} - \\frac{\\partial\\gamma_{\\theta z}}{\\partial r} \\right) + \\frac{\n",
    "            1\n",
    "        }{r}\\frac{\\partial \\gamma_{r\\theta}}{\\partial z} + \\frac{\\gamma_{\\theta z}}{r^2} \\\\\n",
    "        %\n",
    "        2\\frac{\\partial}{\\partial z} \\left( \\frac{\\partial \\varepsilon_\\theta}{\\partial r} - \\left( \\frac{\\varepsilon_r - \\varepsilon_\\theta}{r} \\right) \\right) = \\frac{1}{r}\\frac{\\partial}{\\partial \\theta} \\left( \\frac{\\partial \\gamma_{\\theta z}}{\\partial r} - \\frac{1}{r}\\frac{\\partial \\gamma_{rz}}{\\partial \\theta} + \\frac{\\partial \\gamma_{r \\theta}}{\\partial z} \\right) + \\frac{1}{r^2}\\frac{\\partial \\gamma_{\\theta z}}{\\partial \\theta} \\\\\n",
    "        %\n",
    "        \\frac{2}{r}\\frac{\\partial}{\\partial \\theta} \\left( \\frac{\\partial \\varepsilon_z}{\\partial r} - \\frac{\\varepsilon_z}{r} \\right) = \\frac{\\partial}{\\partial z} \\left( \\frac{\\partial \\gamma_{\\theta z}}{\\partial r} + \\frac{1}{r}\\frac{\\partial \\gamma_{rz}}{\\partial \\theta} - \\frac{\\partial \\gamma_{r \\theta}}{\\partial z} - \\frac{\\gamma_{\\theta z}}{r} \\right).\n",
    "\\end{gather*}"
   ]
  },
  {
   "cell_type": "code",
   "execution_count": 10,
   "id": "f32da254-4af9-4f92-abba-b6f73634476d",
   "metadata": {},
   "outputs": [],
   "source": [
    "e1b = (1/r**2)*diff(er,t,2) + (1/r)*diff(r*diff(et,r) - (er-et),r) - (1/r)*diff(diff(grt,r)  + grt/r,t)\n",
    "e2b = (1/r**2)*diff(ez,t,2) + diff(et,z,2) + (1/r)*diff(ez,r) - (1/r)*diff(diff(gtz,t) + grz,z)\n",
    "e3b = diff(ez,r,2) + diff(er,z,2) - diff(grz,r,1,z,1)\n",
    "e4b = (2/r)*diff(er,t,1,z,1) - (1/r)*diff(r*diff(grt,z) - gtz,r) - diff((1/r)*diff(grz,t) - diff(gtz,r),r) - (1/r)*diff(grt,z) - gtz/r**2\n",
    "e5b = 2*diff(diff(et,r) - (er-et)/r,z) - (1/r)*diff(diff(gtz,r) - (1/r)*diff(grz,t) + diff(grt,z),t) - (1/r**2)*diff(gtz,t)\n",
    "e6b = (2/r)*diff(diff(ez,r) - ez/r,t) - diff(diff(gtz,r) + (1/r)*diff(grz,t) - diff(grt,z) - gtz/r,z)"
   ]
  },
  {
   "cell_type": "markdown",
   "id": "cdebac5e-9f13-4d30-9cc9-0f459b039697",
   "metadata": {},
   "source": [
    "Observamos que se obtuvo el vector de ceros, lo que confirma que acabamos de calcular las ecuaciones de Saint-Venant en coordenadas cilindricas:"
   ]
  },
  {
   "cell_type": "code",
   "execution_count": 11,
   "id": "80b9d6ce-90ff-4d5f-b3a2-bfff1f6609e3",
   "metadata": {},
   "outputs": [
    {
     "data": {
      "text/latex": [
       "$\\displaystyle \\left[\\begin{matrix}0\\\\0\\\\0\\\\0\\\\0\\\\0\\end{matrix}\\right]$"
      ],
      "text/plain": [
       "Matrix([\n",
       "[0],\n",
       "[0],\n",
       "[0],\n",
       "[0],\n",
       "[0],\n",
       "[0]])"
      ]
     },
     "execution_count": 11,
     "metadata": {},
     "output_type": "execute_result"
    }
   ],
   "source": [
    "expand(Matrix([ e1a - e1b,\n",
    "                e2a - e2b,\n",
    "                e3a - e3b,\n",
    "                e4a - e4b,\n",
    "                e5a - e5b,\n",
    "                e6a - e6b ]))"
   ]
  }
 ],
 "metadata": {
  "kernelspec": {
   "display_name": "Python 3 (ipykernel)",
   "language": "python",
   "name": "python3"
  },
  "language_info": {
   "codemirror_mode": {
    "name": "ipython",
    "version": 3
   },
   "file_extension": ".py",
   "mimetype": "text/x-python",
   "name": "python",
   "nbconvert_exporter": "python",
   "pygments_lexer": "ipython3",
   "version": "3.11.7"
  }
 },
 "nbformat": 4,
 "nbformat_minor": 5
}
