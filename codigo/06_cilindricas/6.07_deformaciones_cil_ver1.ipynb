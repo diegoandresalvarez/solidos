{
 "cells": [
  {
   "cell_type": "markdown",
   "metadata": {
    "id": "UyAhKeEIsEqh"
   },
   "source": [
    "# 6.7. Componentes de la deformación en coordenadas cilíndricas\n",
    "\n",
    "|Quién | Fecha | Qué hizo |\n",
    "| ---  | ---   | ---      |\n",
    "|Diego Andrés Alvarez, <daalvarez@unal.edu.co>  | Marzo 15, 2023 | Código inicial |\n",
    "\n",
    "Las ecuaciones que transforman las deformaciones de coordenas rectangulares a coordenadas cilíndricas se pueden calcular con el siguiente programa:"
   ]
  },
  {
   "cell_type": "code",
   "execution_count": 1,
   "metadata": {
    "id": "API5h85VrvWX"
   },
   "outputs": [],
   "source": [
    "from sympy import sin, cos, diff, Function, symbols, simplify, expand, init_printing, latex, Matrix\n",
    "import sympy as sp\n",
    "\n",
    "# Para imprimir bonito\n",
    "init_printing()\n",
    "from IPython.display import Math                 \n",
    "def imprimir (texto1, variable, texto2=\"\"):\n",
    "    return Math(texto1 +  rf'{latex(variable)}' + texto2)"
   ]
  },
  {
   "cell_type": "markdown",
   "metadata": {
    "id": "L66opn_C5Tr_"
   },
   "source": [
    "Se definen las variables asociadas a la posición:"
   ]
  },
  {
   "cell_type": "code",
   "execution_count": 2,
   "metadata": {
    "id": "S7-I1WarsUgw"
   },
   "outputs": [],
   "source": [
    "r, t, z = symbols(\"r, theta, z\")"
   ]
  },
  {
   "cell_type": "markdown",
   "metadata": {},
   "source": [
    "Se definen los desplazamientos:"
   ]
  },
  {
   "cell_type": "code",
   "execution_count": 3,
   "metadata": {},
   "outputs": [],
   "source": [
    "ur = Function(\"u_r\")(r, t, z)\n",
    "vt = Function(\"v_θ\")(r, t, z)\n",
    "w  = Function(\"w\")(r, t, z)"
   ]
  },
  {
   "cell_type": "markdown",
   "metadata": {
    "id": "vLtLDIWz5q_9"
   },
   "source": [
    "Se define la matriz de transformación $\\boldsymbol{T}$:"
   ]
  },
  {
   "cell_type": "code",
   "execution_count": 4,
   "metadata": {
    "colab": {
     "base_uri": "https://localhost:8080/",
     "height": 78
    },
    "id": "I5V1Uk_Rub9O",
    "outputId": "d858d132-fa45-4ac6-edf6-0856349e6c74"
   },
   "outputs": [],
   "source": [
    "T = Matrix([[ cos(t), -sin(t),       0 ],     \n",
    "            [ sin(t),  cos(t),       0 ],      \n",
    "            [      0,       0,       1 ]])"
   ]
  },
  {
   "cell_type": "markdown",
   "metadata": {},
   "source": [
    "Se define el vector de desplazamientos en coordenadas cilíndricas y rectangulares:"
   ]
  },
  {
   "cell_type": "code",
   "execution_count": 5,
   "metadata": {},
   "outputs": [],
   "source": [
    "# Vector de fuerzas másicas con respecto a la base {r,t,z}\n",
    "vec_u_cil = Matrix([[ ur ],\n",
    "                    [ vt ],\n",
    "                    [ w  ]])\n",
    "\n",
    "# Se expresa el vector de fuerzas másicas con respecto a la base {i,j,k}\n",
    "vec_u = T * vec_u_cil\n",
    "\n",
    "# Se hace la asignación respectiva de los desplazamientos\n",
    "u, v, w = vec_u"
   ]
  },
  {
   "cell_type": "code",
   "execution_count": 6,
   "metadata": {},
   "outputs": [],
   "source": [
    "# se definen las primeras derivadas utilizando la regla de la cadena\n",
    "d_dx = lambda f: diff(f,r)*cos(t) - diff(f,t)*sin(t)/r\n",
    "d_dy = lambda f: diff(f,r)*sin(t) + diff(f,t)*cos(t)/r\n",
    "d_dz = lambda f: diff(f,z)"
   ]
  },
  {
   "cell_type": "markdown",
   "metadata": {},
   "source": [
    "Y ahora escribamos las ecuaciones que definen la deformación en coordenadas rectangulares:\n",
    "\\begin{align}\n",
    "\\varepsilon_x &= \\frac{\\partial u}{\\partial x} & \\gamma_{xy} &= \\frac{\\partial u}{\\partial y} + \\frac{\\partial v}{\\partial x}\\\\\n",
    "\\varepsilon_y &= \\frac{\\partial v}{\\partial y} & \\gamma_{xz} &= \\frac{\\partial w}{\\partial x} + \\frac{\\partial u}{\\partial z}\\\\\n",
    "\\varepsilon_z &= \\frac{\\partial w}{\\partial z} & \\gamma_{yz} &= \\frac{\\partial w}{\\partial y} + \\frac{\\partial v}{\\partial z}\n",
    "\\end{align}"
   ]
  },
  {
   "cell_type": "code",
   "execution_count": 7,
   "metadata": {},
   "outputs": [],
   "source": [
    "ex  = d_dx(u)\n",
    "ey  = d_dy(v)\n",
    "ez  = d_dz(w)\n",
    "gxy = d_dy(u) + d_dx(v);   exy = gxy/2\n",
    "gxz = d_dz(u) + d_dx(w);   exz = gxz/2\n",
    "gyz = d_dz(v) + d_dy(w);   eyz = gyz/2"
   ]
  },
  {
   "cell_type": "markdown",
   "metadata": {
    "id": "gUyQP-4l5Z5y"
   },
   "source": [
    "Se define el tensor de deformaciones $\\underline{\\underline{\\boldsymbol{\\varepsilon}}}$ (con respecto a la base $\\{\\hat{\\boldsymbol{i}}, \\hat{\\boldsymbol{j}}, \\hat{\\boldsymbol{k}}\\}$):"
   ]
  },
  {
   "cell_type": "code",
   "execution_count": 8,
   "metadata": {
    "colab": {
     "base_uri": "https://localhost:8080/",
     "height": 78
    },
    "id": "GOVDxdkOtb4j",
    "outputId": "9a07c997-e29d-490a-d17a-a2a5146f8466"
   },
   "outputs": [],
   "source": [
    "eps = Matrix([[  ex, exy, exz ],\n",
    "              [ exy,  ey, eyz ],                       \n",
    "              [ exz, eyz,  ez ]])"
   ]
  },
  {
   "cell_type": "markdown",
   "metadata": {
    "id": "9du7Qzz07wKz"
   },
   "source": [
    "Se calcula el tensor de deformaciones $\\underline{\\underline{\\boldsymbol{\\varepsilon}_{\\text{cil}}}}$ con respecto a la base $\\{\\hat{\\boldsymbol{r}}, \\hat{\\boldsymbol{\\theta}}, \\hat{\\boldsymbol{z}}\\}$. Recuerde que \n",
    "\\begin{equation*}\n",
    "\\underline{\\underline{\\boldsymbol{\\varepsilon}_{\\text{cil}}}} = \n",
    "\\boldsymbol{T}^T \\underline{\\underline{\\boldsymbol{\\varepsilon}}} \n",
    "\\boldsymbol{T}.\n",
    "\\end{equation*}"
   ]
  },
  {
   "cell_type": "code",
   "execution_count": 9,
   "metadata": {
    "id": "YLhi9ppBu7h8"
   },
   "outputs": [],
   "source": [
    "eps_cil = expand(simplify(T.T*eps*T))"
   ]
  },
  {
   "cell_type": "markdown",
   "metadata": {
    "id": "wI_VbHIb8NMn"
   },
   "source": [
    "Se extraen los términos de la matriz de deformaciones $\\underline{\\underline{\\boldsymbol{\\varepsilon}_{\\text{cil}}}}$:"
   ]
  },
  {
   "cell_type": "code",
   "execution_count": 10,
   "metadata": {
    "id": "WGpqR1I17g73"
   },
   "outputs": [],
   "source": [
    "er  =   eps_cil[0,0]\n",
    "et  =   eps_cil[1,1]\n",
    "ez  =   eps_cil[2,2]\n",
    "grt = 2*eps_cil[0,1]   # 2*ert\n",
    "grz = 2*eps_cil[0,2]   # 2*erz\n",
    "gtz = 2*eps_cil[1,2]   # 2*etz"
   ]
  },
  {
   "cell_type": "code",
   "execution_count": 11,
   "metadata": {},
   "outputs": [
    {
     "data": {
      "text/latex": [
       "$\\displaystyle \\varepsilon_r(r,\\theta,z) = \\frac{\\partial}{\\partial r} u_{r}{\\left(r,\\theta,z \\right)}$"
      ],
      "text/plain": [
       "<IPython.core.display.Math object>"
      ]
     },
     "execution_count": 11,
     "metadata": {},
     "output_type": "execute_result"
    }
   ],
   "source": [
    "imprimir(r\"\\varepsilon_r(r,\\theta,z) = \", er)"
   ]
  },
  {
   "cell_type": "code",
   "execution_count": 12,
   "metadata": {},
   "outputs": [
    {
     "data": {
      "text/latex": [
       "$\\displaystyle \\varepsilon_\\theta(r,\\theta,z) = \\frac{u_{r}{\\left(r,\\theta,z \\right)}}{r} + \\frac{\\frac{\\partial}{\\partial \\theta} v_{θ}{\\left(r,\\theta,z \\right)}}{r}$"
      ],
      "text/plain": [
       "<IPython.core.display.Math object>"
      ]
     },
     "execution_count": 12,
     "metadata": {},
     "output_type": "execute_result"
    }
   ],
   "source": [
    "imprimir(r\"\\varepsilon_\\theta(r,\\theta,z) = \", et)"
   ]
  },
  {
   "cell_type": "code",
   "execution_count": 13,
   "metadata": {},
   "outputs": [
    {
     "data": {
      "text/latex": [
       "$\\displaystyle \\varepsilon_z(r,\\theta,z) = \\frac{\\partial}{\\partial z} w{\\left(r,\\theta,z \\right)}$"
      ],
      "text/plain": [
       "<IPython.core.display.Math object>"
      ]
     },
     "execution_count": 13,
     "metadata": {},
     "output_type": "execute_result"
    }
   ],
   "source": [
    "imprimir(r\"\\varepsilon_z(r,\\theta,z) = \", ez)"
   ]
  },
  {
   "cell_type": "code",
   "execution_count": 14,
   "metadata": {},
   "outputs": [
    {
     "data": {
      "text/latex": [
       "$\\displaystyle \\gamma_{r\\theta}(r,\\theta,z) = \\frac{\\partial}{\\partial r} v_{θ}{\\left(r,\\theta,z \\right)} - \\frac{v_{θ}{\\left(r,\\theta,z \\right)}}{r} + \\frac{\\frac{\\partial}{\\partial \\theta} u_{r}{\\left(r,\\theta,z \\right)}}{r}$"
      ],
      "text/plain": [
       "<IPython.core.display.Math object>"
      ]
     },
     "execution_count": 14,
     "metadata": {},
     "output_type": "execute_result"
    }
   ],
   "source": [
    "imprimir(r\"\\gamma_{r\\theta}(r,\\theta,z) = \", grt)"
   ]
  },
  {
   "cell_type": "code",
   "execution_count": 15,
   "metadata": {},
   "outputs": [
    {
     "data": {
      "text/latex": [
       "$\\displaystyle \\gamma_{rz}(r,\\theta,z) = \\frac{\\partial}{\\partial z} u_{r}{\\left(r,\\theta,z \\right)} + \\frac{\\partial}{\\partial r} w{\\left(r,\\theta,z \\right)}$"
      ],
      "text/plain": [
       "<IPython.core.display.Math object>"
      ]
     },
     "execution_count": 15,
     "metadata": {},
     "output_type": "execute_result"
    }
   ],
   "source": [
    "imprimir(r\"\\gamma_{rz}(r,\\theta,z) = \", grz)"
   ]
  },
  {
   "cell_type": "code",
   "execution_count": 16,
   "metadata": {
    "tags": []
   },
   "outputs": [
    {
     "data": {
      "text/latex": [
       "$\\displaystyle \\gamma_{\\theta z}(r,\\theta,z) = \\frac{\\partial}{\\partial z} v_{θ}{\\left(r,\\theta,z \\right)} + \\frac{\\frac{\\partial}{\\partial \\theta} w{\\left(r,\\theta,z \\right)}}{r}$"
      ],
      "text/plain": [
       "<IPython.core.display.Math object>"
      ]
     },
     "execution_count": 16,
     "metadata": {},
     "output_type": "execute_result"
    }
   ],
   "source": [
    "imprimir(r\"\\gamma_{\\theta z}(r,\\theta,z) = \", gtz)"
   ]
  }
 ],
 "metadata": {
  "colab": {
   "collapsed_sections": [],
   "include_colab_link": true,
   "provenance": []
  },
  "kernelspec": {
   "display_name": "Python 3 (ipykernel)",
   "language": "python",
   "name": "python3"
  },
  "language_info": {
   "codemirror_mode": {
    "name": "ipython",
    "version": 3
   },
   "file_extension": ".py",
   "mimetype": "text/x-python",
   "name": "python",
   "nbconvert_exporter": "python",
   "pygments_lexer": "ipython3",
   "version": "3.11.7"
  },
  "vscode": {
   "interpreter": {
    "hash": "916dbcbb3f70747c44a77c7bcd40155683ae19c65e1c03b4aa3499c5328201f1"
   }
  }
 },
 "nbformat": 4,
 "nbformat_minor": 4
}
