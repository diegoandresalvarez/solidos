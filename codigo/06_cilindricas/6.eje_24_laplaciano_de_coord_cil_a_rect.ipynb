{
 "cells": [
  {
   "cell_type": "markdown",
   "id": "a08aaf75",
   "metadata": {},
   "source": [
    "# Capítulo 6, ejercicio propuesto 24. Conversión del laplaciano en coordenadas cilíndricas a coordenadas rectangulares"
   ]
  },
  {
   "cell_type": "markdown",
   "id": "96bf0d9c-366c-48c9-a6d5-e10b6494f211",
   "metadata": {},
   "source": [
    "|Quién | Correo | Fecha | Qué hizo |\n",
    "| ---  | ---   | --- | ---      |\n",
    "|Diego Andrés Alvarez Marín | <daalvarez@unal.edu.co>  | Marzo 26, 2023 | Código inicial |"
   ]
  },
  {
   "cell_type": "code",
   "execution_count": 2,
   "id": "6181f6cc",
   "metadata": {},
   "outputs": [],
   "source": [
    "from sympy import init_printing, latex, symbols, sin, cos, diff, Function, simplify, sqrt\n",
    "\n",
    "# Para imprimir bonito\n",
    "init_printing()\n",
    "from IPython.display import Math                 \n",
    "def imprimir (texto1, variable, texto2=\"\"):\n",
    "    return Math(texto1 +  rf'{latex(variable)}' + texto2)"
   ]
  },
  {
   "cell_type": "markdown",
   "id": "aae3a44d-6ebd-4571-a4ba-bee9d988762f",
   "metadata": {},
   "source": [
    "Se crean las variables simbólicas:"
   ]
  },
  {
   "cell_type": "code",
   "execution_count": 4,
   "id": "3c89c9b0-563f-425e-a034-313a9f7b9a15",
   "metadata": {},
   "outputs": [],
   "source": [
    "x, y, z = symbols('x, y, z')\n",
    "r = sqrt(x**2 + y**2)"
   ]
  },
  {
   "cell_type": "markdown",
   "id": "50c705e8-a56f-4b0a-8de3-5571090fc01f",
   "metadata": {},
   "source": [
    "Se definen las derivadas:"
   ]
  },
  {
   "cell_type": "code",
   "execution_count": 6,
   "id": "09b3ac08-e686-46e6-8143-4ce10f013dab",
   "metadata": {},
   "outputs": [],
   "source": [
    "#dx_dr = cos(t);     dy_dr = sin(t)\n",
    "#dx_dt = -r*sin(t);  dy_dt = r*cos(t)\n",
    "\n",
    "dx_dr = x/r;    dy_dr = y/r\n",
    "dx_dt = -y;     dy_dt = x\n",
    "\n",
    "# se definen las primeras derivadas utilizando la regla de la cadena\n",
    "d_dr = lambda f: diff(f,x)*dx_dr + diff(f,y)*dy_dr\n",
    "d_dt = lambda f: diff(f,x)*dx_dt + diff(f,y)*dy_dt"
   ]
  },
  {
   "cell_type": "markdown",
   "id": "d222652c-93a7-46f8-a30c-42ebfe65d70f",
   "metadata": {},
   "source": [
    "Se definen la segundas derivadas:"
   ]
  },
  {
   "cell_type": "code",
   "execution_count": 8,
   "id": "251558e7-52fb-4b88-976b-ba22c9c97656",
   "metadata": {},
   "outputs": [],
   "source": [
    "d2_dt2 = lambda f: d_dt(d_dt(f))\n",
    "d2_dz2 = lambda f: diff(f, z, 2)"
   ]
  },
  {
   "cell_type": "code",
   "execution_count": 9,
   "id": "834ff050-9b81-4718-a6c2-ab4b84239daf",
   "metadata": {},
   "outputs": [],
   "source": [
    "# se especifica que phi es función de x y de y\n",
    "phi = Function('phi')(x, y, z)"
   ]
  },
  {
   "cell_type": "markdown",
   "id": "e8dbedc6-744c-4b85-9c28-1c5a61afe8ed",
   "metadata": {},
   "source": [
    "Se especifica el laplaciano en coordenadas cilíndricas:\n",
    "$$\\nabla^2\\phi(r,\\theta,z) = \\frac{1}{r}\\frac{\\partial}{\\partial r}\\left(r\\frac{\\partial\\phi}{\\partial r}\\right) + \\frac{1}{r^2}\\frac{\\partial^2\\phi}{\\partial \\theta^2} + \\frac{\\partial^2\\phi}{\\partial z^2}.$$"
   ]
  },
  {
   "cell_type": "code",
   "execution_count": 11,
   "id": "feca3901-406e-4850-ac18-bb54e241c65d",
   "metadata": {},
   "outputs": [],
   "source": [
    "lapl = simplify((1/r)*d_dr(r*d_dr(phi)) + (1/(r**2))*d2_dt2(phi) + d2_dz2(phi))"
   ]
  },
  {
   "cell_type": "markdown",
   "id": "15d5a83a-0a32-45d9-a41e-8d669a6ad191",
   "metadata": {},
   "source": [
    "Se imprime el laplaciano en coordenadas rectangulares:"
   ]
  },
  {
   "cell_type": "code",
   "execution_count": 13,
   "id": "e5f90a89-04de-46ce-b63b-1296e89f67da",
   "metadata": {},
   "outputs": [
    {
     "data": {
      "text/latex": [
       "$\\displaystyle \\nabla^2 \\phi(x, y, z) = \\frac{\\partial^{2}}{\\partial x^{2}} \\phi{\\left(x,y,z \\right)} + \\frac{\\partial^{2}}{\\partial y^{2}} \\phi{\\left(x,y,z \\right)} + \\frac{\\partial^{2}}{\\partial z^{2}} \\phi{\\left(x,y,z \\right)}$"
      ],
      "text/plain": [
       "<IPython.core.display.Math object>"
      ]
     },
     "execution_count": 13,
     "metadata": {},
     "output_type": "execute_result"
    }
   ],
   "source": [
    "imprimir(r\"\\nabla^2 \\phi(x, y, z) = \", lapl)"
   ]
  }
 ],
 "metadata": {
  "kernelspec": {
   "display_name": "Python 3 (ipykernel)",
   "language": "python",
   "name": "python3"
  },
  "language_info": {
   "codemirror_mode": {
    "name": "ipython",
    "version": 3
   },
   "file_extension": ".py",
   "mimetype": "text/x-python",
   "name": "python",
   "nbconvert_exporter": "python",
   "pygments_lexer": "ipython3",
   "version": "3.11.7"
  }
 },
 "nbformat": 4,
 "nbformat_minor": 5
}
