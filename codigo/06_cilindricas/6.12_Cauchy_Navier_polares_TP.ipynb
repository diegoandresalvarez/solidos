{
 "cells": [
  {
   "cell_type": "markdown",
   "metadata": {},
   "source": [
    "# Deducción de las ecuaciones diferenciales parciales de Cauchy-Navier en coordenadas polares para tensión plana"
   ]
  },
  {
   "cell_type": "markdown",
   "metadata": {},
   "source": [
    "A continuación se presentarán dos verificaciones independientes de las ecuaciones de Cauchy-Navier en coordenadas polares para tensión plana:"
   ]
  },
  {
   "cell_type": "code",
   "execution_count": 1,
   "metadata": {
    "id": "_z9Y3oI2XaTn"
   },
   "outputs": [],
   "source": [
    "from sympy import sin, cos, diff, Function, simplify, symbols, factor, Eq, init_printing, trigsimp, expand, latex, Matrix\n",
    "\n",
    "# Para imprimir bonito\n",
    "init_printing()\n",
    "from IPython.display import Math                 \n",
    "def imprimir (texto1, variable, texto2=\"\"):\n",
    "    return Math(texto1 +  rf'{latex(variable)}' + texto2)"
   ]
  },
  {
   "cell_type": "code",
   "execution_count": 2,
   "metadata": {
    "id": "w9U-4QV-Xfn9"
   },
   "outputs": [],
   "source": [
    "r, t, z, x, y, E, nu = symbols(\"r, theta, z, x, y, E, nu\")\n",
    "\n",
    "# Se definen las constantes de Lamé\n",
    "lamda = nu*E/((1 + nu)*(1 - 2*nu))\n",
    "G     = E/(2*(1 + nu))\n",
    "\n",
    "# Se definen los desplazamientos en coordenadas cilíndricas\n",
    "ur = Function(\"u_r\")(r, t)\n",
    "vt = Function(\"v_θ\")(r, t)\n",
    "w  = Function(\"w\")(r, t, z)\n",
    "\n",
    "# Se definen las fuerzas másicas en coordenadas cilíndricas\n",
    "br = Function(\"b_r\")(r, t)\n",
    "bt = Function(\"b_θ\")(r, t)\n",
    "bz = 0"
   ]
  },
  {
   "cell_type": "code",
   "execution_count": 3,
   "metadata": {
    "id": "w9U-4QV-Xfn9"
   },
   "outputs": [],
   "source": [
    "# Matriz de transformación de la base {r,t,z} a la base {i,j,k}\n",
    "T = Matrix([[ cos(t), -sin(t),       0 ],     \n",
    "            [ sin(t),  cos(t),       0 ],      \n",
    "            [      0,       0,       1 ]])"
   ]
  },
  {
   "cell_type": "markdown",
   "metadata": {},
   "source": [
    "Se definen los desplazamientos en coordenadas rectangulares y cilíndricas:"
   ]
  },
  {
   "cell_type": "code",
   "execution_count": 4,
   "metadata": {
    "id": "w9U-4QV-Xfn9"
   },
   "outputs": [],
   "source": [
    "# vector de desplazamientos con respecto a la base {r,t,z}\n",
    "u_cil = Matrix([ ur,\n",
    "                 vt,\n",
    "                 w   ])\n",
    "\n",
    "# vector de desplazamientos con respecto a la base {i,j,k}\n",
    "u_rec = T * u_cil\n",
    "\n",
    "# componentes de los desplazamientos en coordenadas rectangulares\n",
    "u, v = u_rec[0], u_rec[1]"
   ]
  },
  {
   "cell_type": "markdown",
   "metadata": {},
   "source": [
    "Se definen las fuerzas másicas en coordenadas rectangulares y cilíndricas:"
   ]
  },
  {
   "cell_type": "code",
   "execution_count": 5,
   "metadata": {
    "id": "w9U-4QV-Xfn9"
   },
   "outputs": [],
   "source": [
    "# vector de fuerzas másicas con respecto a la base {r,t,z}\n",
    "b_cil = Matrix([ br,     \n",
    "                 bt,      \n",
    "                 bz  ])\n",
    "\n",
    "# vector de fuerzas másicas con respecto a la base {i,j,k}\n",
    "b_rec = T * b_cil\n",
    "\n",
    "# componentes de la fuerza másica en coordenadas rectangulares\n",
    "X, Y, Z = b_rec"
   ]
  },
  {
   "cell_type": "code",
   "execution_count": 6,
   "metadata": {
    "id": "w9U-4QV-Xfn9"
   },
   "outputs": [],
   "source": [
    "# se definen las primeras derivadas\n",
    "d_dx   = lambda f: diff(f,r)*cos(t) - diff(f,t)*sin(t)/r\n",
    "d_dy   = lambda f: diff(f,r)*sin(t) + diff(f,t)*cos(t)/r\n",
    "d_dz   = lambda f: diff(f,z)\n",
    "\n",
    "# se definen las segundas derivadas\n",
    "d2_dx2 = lambda f: d_dx(d_dx(f))\n",
    "d2_dy2 = lambda f: d_dy(d_dy(f))"
   ]
  },
  {
   "cell_type": "markdown",
   "metadata": {},
   "source": [
    "Se define la divergencia de un campo vectorial en coordenadas rectangulares y polares:"
   ]
  },
  {
   "cell_type": "code",
   "execution_count": 7,
   "metadata": {
    "id": "w9U-4QV-Xfn9"
   },
   "outputs": [],
   "source": [
    "# divergencia de un campo vectorial en coordenadas rectangulares y cilíndricas\n",
    "div_rec = lambda v: d_dx(v[0]) + d_dy(v[1])                              # + d_dz(v[2])\n",
    "\n",
    "div_pol = lambda v: diff(v[0],r) + v[0]/r + (1/r)*diff(v[1],t)           # + diff(v[2],z)\n",
    "\n",
    "# Observe que en la definición de la divergencia para el caso bidimensional no se debe\n",
    "# tener en cuenta la derivada diff(v[2],z). Si se hace, en el método 1 no se calculan \n",
    "# correctamente las ecuaciones diferenciales de Cauchy-Navier"
   ]
  },
  {
   "cell_type": "markdown",
   "metadata": {},
   "source": [
    "Se define el laplaciano de una función en coordenadas rectangulares y cilíndricas:"
   ]
  },
  {
   "cell_type": "code",
   "execution_count": 8,
   "metadata": {
    "id": "w9U-4QV-Xfn9"
   },
   "outputs": [],
   "source": [
    "# laplaciano en coordenadas rectangulares y cilíndricas para el caso bidimensional\n",
    "lapl_rec = lambda f : simplify(d2_dx2(f) + d2_dy2(f))\n",
    "\n",
    "lapl_pol = lambda f : simplify((1/r)*diff(r*diff(f,r),r) + (1/(r**2))*diff(f,t,2))"
   ]
  },
  {
   "cell_type": "markdown",
   "metadata": {},
   "source": [
    "Se calcula la dilatación cúbica usando las fórmulas en coordenadas rectangulares y cilíndricas:"
   ]
  },
  {
   "cell_type": "code",
   "execution_count": 9,
   "metadata": {},
   "outputs": [
    {
     "data": {
      "image/png": "[encoded data removed]",
      "text/latex": [
       "$\\displaystyle 0$"
      ],
      "text/plain": [
       "0"
      ]
     },
     "execution_count": 9,
     "metadata": {},
     "output_type": "execute_result"
    }
   ],
   "source": [
    "# se calcula la dilatación cúbica\n",
    "e_rec = expand(div_rec(u_rec).subs({sin(t): 0, cos(t): 1}))\n",
    "e_pol = expand(div_pol(u_cil).subs({sin(t): 0, cos(t): 1}))\n",
    "\n",
    "# y se verifica que ambas expresiones sean iguales\n",
    "e_rec - e_pol"
   ]
  },
  {
   "cell_type": "markdown",
   "metadata": {},
   "source": [
    "## Método 1: convirtiendo las ecuaciones de Cauchy-Navier de coordenadas rectangulares"
   ]
  },
  {
   "cell_type": "markdown",
   "metadata": {},
   "source": [
    "Se escriben las ecuaciones de Cauchy-Navier en coordenadas rectangulares:\n",
    "$$\n",
    "\\begin{align}\n",
    " G \\nabla^2 u + \\frac{E}{2(1-\\nu)} \\frac{\\partial}{\\partial x}\\left(\\frac{\\partial u }{\\partial x} + \\frac{\\partial v}{\\partial y}\\right) + X &= 0 \\\\\n",
    " G \\nabla^2 v + \\frac{E}{2(1-\\nu)} \\frac{\\partial}{\\partial y}\\left(\\frac{\\partial u }{\\partial x} + \\frac{\\partial v}{\\partial y}\\right) + Y &= 0. \n",
    "\\end{align} \n",
    "$$"
   ]
  },
  {
   "cell_type": "code",
   "execution_count": 10,
   "metadata": {
    "id": "w9U-4QV-Xfn9"
   },
   "outputs": [],
   "source": [
    "eqCN_rec = Matrix([ G*(lapl_rec(u)) + (E/(2*(1 - nu)))*d_dx(d_dx(u) + d_dy(v)) + X,\n",
    "                    G*(lapl_rec(v)) + (E/(2*(1 - nu)))*d_dy(d_dx(u) + d_dy(v)) + Y  ])\n",
    "\n",
    "eqCN_rec = Matrix(eqCN_rec).subs({sin(t): 0, cos(t): 1})"
   ]
  },
  {
   "cell_type": "markdown",
   "metadata": {},
   "source": [
    "Se escriben las ecuaciones de Cauchy-Navier en coordenadas polares:\n",
    "$$\n",
    "\\begin{align}\n",
    "    \\frac{E}{2(1-\\nu)} \\frac{\\partial e}{\\partial r} + G\\left(\\nabla^2 u_r - \\frac{u_r}{r^2} - \\frac{2}{r^2} \\frac{\\partial v_\\theta}{\\partial \\theta} \\right) + b_r &= 0 \\\\\n",
    "    \\frac{E}{2(1-\\nu)} \\frac{1}{r} \\frac{\\partial e}{\\partial \\theta} + G\\left(\\nabla^2 v_\\theta - \\frac{v_\\theta}{r^2} + \\frac{2}{r^2} \\frac{\\partial u_r}{\\partial \\theta} \\right) + b_\\theta&= 0.\n",
    "\\end{align}\n",
    "$$"
   ]
  },
  {
   "cell_type": "code",
   "execution_count": 11,
   "metadata": {
    "id": "w9U-4QV-Xfn9"
   },
   "outputs": [],
   "source": [
    "eqCN_pol = Matrix([ (E/(2*(1 - nu)))*diff(e_pol,r)   + G*(lapl_pol(ur) - (ur/(r*r)) - (2/(r*r))*diff(vt, t)) + br,\n",
    "                    (E/(2*(1 - nu)))*diff(e_pol,t)/r + G*(lapl_pol(vt) - (vt/(r*r)) + (2/(r*r))*diff(ur, t)) + bt  ])"
   ]
  },
  {
   "cell_type": "markdown",
   "metadata": {},
   "source": [
    "Se verifica que ambos conjuntos de ecuaciones sean equivalentes:"
   ]
  },
  {
   "cell_type": "code",
   "execution_count": 12,
   "metadata": {
    "colab": {
     "base_uri": "https://localhost:8080/"
    },
    "id": "tKyTV9hkhFiF",
    "outputId": "e7919054-2ab5-4685-fa6a-5cb705da181b"
   },
   "outputs": [
    {
     "data": {
      "image/png": "[encoded data removed]",
      "text/latex": [
       "$\\displaystyle \\left[\\begin{matrix}0\\\\0\\end{matrix}\\right]$"
      ],
      "text/plain": [
       "⎡0⎤\n",
       "⎢ ⎥\n",
       "⎣0⎦"
      ]
     },
     "execution_count": 12,
     "metadata": {},
     "output_type": "execute_result"
    }
   ],
   "source": [
    "simplify(eqCN_rec - eqCN_pol)"
   ]
  },
  {
   "cell_type": "markdown",
   "metadata": {},
   "source": [
    "## Método 2: reemplazando la ley de Hooke en términos de desplazamientos las ecuaciones diferenciales de equilibrio"
   ]
  },
  {
   "cell_type": "markdown",
   "metadata": {},
   "source": [
    "Se definen las deformaciones para coordenadas polares:\n",
    "$$\n",
    "\\begin{align}\n",
    "        \\varepsilon_r(r,\\theta) &= \\frac{\\partial u_r(r,\\theta)}{\\partial r} \\\\\n",
    "        \\varepsilon_\\theta(r,\\theta) &= \\frac{u_r(r,\\theta)}{r}  + \\frac{1}{r}\\frac{\\partial v_\\theta(r,\\theta)}{\\partial \\theta} \\\\\n",
    "        \\varepsilon_z(r,\\theta,z) &= \\begin{cases}\n",
    "            \\frac{\\partial w(r, \\theta, z)}{\\partial z} & \\text{en tensión plana}     \\\\\n",
    "                                                      0 & \\text{en deformación plana}                                  \n",
    "        \\end{cases} \\\\\n",
    "        \\gamma_{r\\theta}(r,\\theta)  &= \\frac{1}{r}\\frac{\\partial u_r(r,\\theta)}{\\partial \\theta} + \\frac{\\partial v_\\theta(r,\\theta)}{\\partial r} - \\frac{v_\\theta(r,\\theta)}{r} \\\\\n",
    "         \\gamma_{rz}(r,\\theta) &= 0 \\\\\n",
    "        \\gamma_{\\theta z}(r,\\theta) &= 0.\n",
    "\\end{align}\n",
    "$$"
   ]
  },
  {
   "cell_type": "code",
   "execution_count": 13,
   "metadata": {},
   "outputs": [],
   "source": [
    "er  = diff(ur,r)\n",
    "et  = ur/r + diff(vt,t)/r\n",
    "grt = diff(ur,t)/r + diff(vt,r) - vt/r"
   ]
  },
  {
   "cell_type": "markdown",
   "metadata": {},
   "source": [
    "Se define la ley de Hooke para coordenadas polares en tensión plana:\n",
    "$$\n",
    "\\begin{align}\n",
    "\\sigma_r      &= \\frac{E}{1-\\nu^2} \\left(\\varepsilon_r + \\nu \\varepsilon_\\theta \\right) & \\tau_{r\\theta}  &= G \\gamma_{r\\theta} \\\\\n",
    "\\sigma_\\theta &= \\frac{E}{1-\\nu^2} \\left(\\varepsilon_\\theta + \\nu \\varepsilon_r \\right) & \\tau_{rz}       &= 0 \\\\\n",
    "\\sigma_z      &= 0                                                                      & \\tau_{\\theta z} &= 0.\n",
    "\\end{align}\n",
    "$$"
   ]
  },
  {
   "cell_type": "code",
   "execution_count": 14,
   "metadata": {},
   "outputs": [],
   "source": [
    "sr  = (E/(1 - nu*nu))*(er + nu*et)\n",
    "st  = (E/(1 - nu*nu))*(et + nu*er)\n",
    "trt = G*grt"
   ]
  },
  {
   "cell_type": "markdown",
   "metadata": {},
   "source": [
    "Se reemplazan las deformaciones en términos de desplazamiento en las ecuaciones de equilibrio para coordenadas polares:\n",
    "$$\n",
    "\\begin{align}\n",
    " \\frac{\\partial \\sigma_r(r,\\theta)}{\\partial r} + \\frac{1}{r}\\frac{\\partial \\tau_{r\\theta}(r,\\theta)}{\\partial \\theta} + \\frac{\\sigma_r(r,\\theta) - \\sigma_\\theta(r,\\theta)}{r} + b_r(r,\\theta) &= 0 \\\\\n",
    " \\frac{\\partial \\tau_{r\\theta}(r,\\theta)}{\\partial r} + \\frac{1}{r}\\frac{\\partial \\sigma_\\theta(r,\\theta)}{\\partial \\theta}  + \\frac{2 \\tau_{r\\theta}(r,\\theta)}{r} + b_\\theta(r,\\theta) &= 0\n",
    "\\end{align}\n",
    "$$"
   ]
  },
  {
   "cell_type": "code",
   "execution_count": 15,
   "metadata": {},
   "outputs": [],
   "source": [
    "eqEQ_pol = Matrix([ diff(sr,r)  + diff(trt,t)/r + (sr - st)/r + br,\n",
    "                    diff(trt,r) + diff(st,t)/r  + 2*trt/r     + bt ])"
   ]
  },
  {
   "cell_type": "markdown",
   "metadata": {},
   "source": [
    "y de este modo se obtienen las ecuaciones diferenciales de Cauchy-Navier para el caso de coordenadas polares:"
   ]
  },
  {
   "cell_type": "code",
   "execution_count": 16,
   "metadata": {},
   "outputs": [
    {
     "data": {
      "image/png": "[encoded data removed]",
      "text/latex": [
       "$\\displaystyle \\left[\\begin{matrix}0\\\\0\\end{matrix}\\right]$"
      ],
      "text/plain": [
       "⎡0⎤\n",
       "⎢ ⎥\n",
       "⎣0⎦"
      ]
     },
     "execution_count": 16,
     "metadata": {},
     "output_type": "execute_result"
    }
   ],
   "source": [
    "simplify(eqCN_rec - eqEQ_pol)"
   ]
  }
 ],
 "metadata": {
  "colab": {
   "provenance": []
  },
  "kernelspec": {
   "display_name": "Python 3 (ipykernel)",
   "language": "python",
   "name": "python3"
  },
  "language_info": {
   "codemirror_mode": {
    "name": "ipython",
    "version": 3
   },
   "file_extension": ".py",
   "mimetype": "text/x-python",
   "name": "python",
   "nbconvert_exporter": "python",
   "pygments_lexer": "ipython3",
   "version": "3.11.5"
  }
 },
 "nbformat": 4,
 "nbformat_minor": 4
}
