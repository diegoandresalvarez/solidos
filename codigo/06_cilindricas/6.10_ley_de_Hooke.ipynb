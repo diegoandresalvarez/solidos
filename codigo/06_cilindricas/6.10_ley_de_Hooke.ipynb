{
 "cells": [
  {
   "cell_type": "markdown",
   "metadata": {
    "id": "UyAhKeEIsEqh"
   },
   "source": [
    "# 6.9. Ley de Hooke en coordenadas cilíndricas\n",
    "\n",
    "|Quién | Fecha | Qué hizo |\n",
    "| ---  | ---   | ---      |\n",
    "|Diego Andrés Alvarez, <daalvarez@unal.edu.co>  | Marzo 22, 2023 | Código inicial |"
   ]
  },
  {
   "cell_type": "code",
   "execution_count": 1,
   "metadata": {
    "id": "API5h85VrvWX"
   },
   "outputs": [],
   "source": [
    "from sympy import sin, cos, simplify, symbols, factor, Eq, init_printing, latex, Matrix, solve\n",
    "\n",
    "# Para imprimir bonito\n",
    "init_printing()\n",
    "from IPython.display import Math                 \n",
    "def imprimir (texto1, variable, texto2=\"\"):\n",
    "    return Math(texto1 +  rf'{latex(variable)}' + texto2)"
   ]
  },
  {
   "cell_type": "markdown",
   "metadata": {
    "id": "vLtLDIWz5q_9"
   },
   "source": [
    "Se define la matriz de transformación $\\boldsymbol{T}$:"
   ]
  },
  {
   "cell_type": "code",
   "execution_count": 2,
   "metadata": {
    "colab": {
     "base_uri": "https://localhost:8080/",
     "height": 78
    },
    "id": "I5V1Uk_Rub9O",
    "outputId": "d858d132-fa45-4ac6-edf6-0856349e6c74",
    "tags": []
   },
   "outputs": [],
   "source": [
    "t = symbols('θ')\n",
    "\n",
    "T = Matrix([[ cos(t), -sin(t),       0 ],     \n",
    "            [ sin(t),  cos(t),       0 ],      \n",
    "            [      0,       0,       1 ]])"
   ]
  },
  {
   "cell_type": "markdown",
   "metadata": {
    "id": "L66opn_C5Tr_"
   },
   "source": [
    "Se definen los esfuerzos y deformaciones en coordenadas cilíndricas:"
   ]
  },
  {
   "cell_type": "code",
   "execution_count": 3,
   "metadata": {
    "id": "S7-I1WarsUgw"
   },
   "outputs": [],
   "source": [
    "sr, st, sz, trt, trz, ttz = symbols(\"sigma_r,      sigma_θ,      sigma_z,      tau_rθ,   tau_rz,   tau_θz\")\n",
    "er, et, ez, grt, grz, gtz = symbols(\"varepsilon_r, varepsilon_θ, varepsilon_z, gamma_rθ, gamma_rz, gamma_θz\")\n",
    "ert = grt/2\n",
    "erz = grz/2\n",
    "etz = gtz/2"
   ]
  },
  {
   "cell_type": "markdown",
   "metadata": {
    "id": "gUyQP-4l5Z5y"
   },
   "source": [
    "Se define el tensor de tensiones en coordenadas cilíndricas $\\underline{\\underline{\\boldsymbol{\\sigma}}}_{\\text{cil}}$ con respecto a la base $\\{\\hat{\\boldsymbol{r}}, \\hat{\\boldsymbol{\\theta}}, \\hat{\\boldsymbol{z}}\\}$:"
   ]
  },
  {
   "cell_type": "code",
   "execution_count": 4,
   "metadata": {
    "colab": {
     "base_uri": "https://localhost:8080/",
     "height": 78
    },
    "id": "GOVDxdkOtb4j",
    "outputId": "9a07c997-e29d-490a-d17a-a2a5146f8466"
   },
   "outputs": [],
   "source": [
    "sigma_cil = Matrix([[  sr, trt, trz ],\n",
    "                    [ trt,  st, ttz ],                       \n",
    "                    [ trz, ttz,  sz ]])"
   ]
  },
  {
   "cell_type": "markdown",
   "metadata": {
    "id": "gUyQP-4l5Z5y"
   },
   "source": [
    "Se define el tensor de deformaciones en coordenadas cilíndricas $\\underline{\\underline{\\boldsymbol{\\varepsilon}}}_{\\text{cil}}$ con respecto a la base $\\{\\hat{\\boldsymbol{r}}, \\hat{\\boldsymbol{\\theta}}, \\hat{\\boldsymbol{z}}\\}$:"
   ]
  },
  {
   "cell_type": "code",
   "execution_count": 5,
   "metadata": {
    "colab": {
     "base_uri": "https://localhost:8080/",
     "height": 78
    },
    "id": "GOVDxdkOtb4j",
    "outputId": "9a07c997-e29d-490a-d17a-a2a5146f8466",
    "tags": []
   },
   "outputs": [],
   "source": [
    "eps_cil = Matrix([[  er, ert, erz ],\n",
    "                  [ ert,  et, etz ],                       \n",
    "                  [ erz, etz,  ez ]])"
   ]
  },
  {
   "cell_type": "markdown",
   "metadata": {
    "id": "9du7Qzz07wKz"
   },
   "source": [
    "Se calcula el tensor de tensiones $\\underline{\\underline{\\boldsymbol{\\sigma}}}_{\\text{cil}}$ con respecto a la base $\\{\\hat{\\boldsymbol{i}}, \\hat{\\boldsymbol{j}}, \\hat{\\boldsymbol{k}}\\}$. Recuerde que $$\\underline{\\underline{\\boldsymbol{\\sigma}}} = \\boldsymbol{T} \\underline{\\underline{\\boldsymbol{\\sigma}}}_{\\text{cil}} \\boldsymbol{T}^T.$$"
   ]
  },
  {
   "cell_type": "code",
   "execution_count": 6,
   "metadata": {
    "id": "YLhi9ppBu7h8"
   },
   "outputs": [],
   "source": [
    "sigma = T*sigma_cil*T.T"
   ]
  },
  {
   "cell_type": "markdown",
   "metadata": {
    "id": "9du7Qzz07wKz"
   },
   "source": [
    "Se calcula el tensor de deformaciones $\\underline{\\underline{\\boldsymbol{\\varepsilon}}}$  con respecto a la base $\\{\\hat{\\boldsymbol{i}}, \\hat{\\boldsymbol{j}}, \\hat{\\boldsymbol{k}}\\}$. Recuerde que $$\\underline{\\underline{\\boldsymbol{\\varepsilon}}} = \\boldsymbol{T} \\underline{\\underline{\\boldsymbol{\\varepsilon}}}_{\\text{cil}} \\boldsymbol{T}^T.$$"
   ]
  },
  {
   "cell_type": "code",
   "execution_count": 7,
   "metadata": {
    "id": "YLhi9ppBu7h8"
   },
   "outputs": [],
   "source": [
    "eps = T*eps_cil*T.T"
   ]
  },
  {
   "cell_type": "markdown",
   "metadata": {
    "id": "wI_VbHIb8NMn"
   },
   "source": [
    "Se extraen los términos de la matriz de tensiones $\\underline{\\underline{\\boldsymbol{\\sigma}}}$:"
   ]
  },
  {
   "cell_type": "code",
   "execution_count": 8,
   "metadata": {
    "id": "WGpqR1I17g73",
    "tags": []
   },
   "outputs": [],
   "source": [
    "sx  = factor(sigma[0,0])\n",
    "sy  = factor(sigma[1,1])\n",
    "sz  = factor(sigma[2,2])\n",
    "txy = factor(sigma[0,1])\n",
    "txz = factor(sigma[0,2])\n",
    "tyz = factor(sigma[1,2])"
   ]
  },
  {
   "cell_type": "markdown",
   "metadata": {
    "id": "wI_VbHIb8NMn"
   },
   "source": [
    "Se extraen los términos de la matriz de deformaciones $\\underline{\\underline{\\boldsymbol{\\varepsilon}}}$:"
   ]
  },
  {
   "cell_type": "code",
   "execution_count": 9,
   "metadata": {
    "id": "WGpqR1I17g73"
   },
   "outputs": [],
   "source": [
    "ex  =   eps[0,0]\n",
    "ey  =   eps[1,1]\n",
    "ez  =   eps[2,2]\n",
    "gxy = 2*eps[0,1]\n",
    "gxz = 2*eps[0,2]\n",
    "gyz = 2*eps[1,2]"
   ]
  },
  {
   "cell_type": "code",
   "execution_count": 10,
   "metadata": {},
   "outputs": [],
   "source": [
    "# Se define la ley de Hooke en coordenadas rectangulares:\n",
    "# \n",
    "# E, G, nu = symbols('E, G, nu')\n",
    "# \n",
    "# eq1 = ex  - (1/E)*(sx - nu*(sy + sz))\n",
    "# eq2 = ey  - (1/E)*(sy - nu*(sx + sz))\n",
    "# eq3 = ez  - (1/E)*(sz - nu*(sx + sy))\n",
    "# eq4 = gxy - txy/G\n",
    "# eq5 = gxz - txz/G\n",
    "# eq6 = gyz - tyz/G\n",
    "# \n",
    "# eq1 = eq1.expand().collect([sin(t)**2, cos(t)**2, sin(t)*cos(t)])\n",
    "# eq2 = eq2.expand().collect([sin(t)**2, cos(t)**2, sin(t)*cos(t)])\n",
    "# eq3 = eq3.simplify()\n",
    "# eq4 = eq4.expand().collect([sin(t)**2, cos(t)**2, sin(t)*cos(t)])\n",
    "# eq5 = eq5.expand().collect([sin(t), cos(t)])\n",
    "# eq6 = eq6.expand().collect([sin(t), cos(t)])"
   ]
  },
  {
   "cell_type": "code",
   "execution_count": 11,
   "metadata": {},
   "outputs": [],
   "source": [
    "# imprimir(\"\", eq1, \" = 0\")\n",
    "# Aquí sz se multiplica por (sin² t + cos² t) y en la expresión de grt se factorizan los términos para obtener G"
   ]
  },
  {
   "cell_type": "code",
   "execution_count": 12,
   "metadata": {},
   "outputs": [],
   "source": [
    "# imprimir(\"\", eq2, \" = 0\")\n",
    "# Aquí sz se multiplica por (sin² t + cos² t) y en la expresión de grt se factorizan los términos para obtener G"
   ]
  },
  {
   "cell_type": "code",
   "execution_count": 13,
   "metadata": {},
   "outputs": [],
   "source": [
    "# imprimir(\"\", eq3, \" = 0\")"
   ]
  },
  {
   "cell_type": "code",
   "execution_count": 14,
   "metadata": {},
   "outputs": [],
   "source": [
    "# imprimir(\"\", eq4, \" = 0\")\n",
    "# Al calcular a mano 2(er - et) se observa que el factor que acompaña a sin(t)*cos(t) se anula"
   ]
  },
  {
   "cell_type": "code",
   "execution_count": 15,
   "metadata": {},
   "outputs": [],
   "source": [
    "# imprimir(\"\", eq5, \" = 0\")"
   ]
  },
  {
   "cell_type": "code",
   "execution_count": 16,
   "metadata": {},
   "outputs": [],
   "source": [
    "# imprimir(\"\", eq6, \" = 0\")"
   ]
  },
  {
   "cell_type": "markdown",
   "metadata": {},
   "source": [
    "Se define la ley de Hooke en coordenadas rectangulares:"
   ]
  },
  {
   "cell_type": "code",
   "execution_count": 17,
   "metadata": {},
   "outputs": [],
   "source": [
    "E, G, nu = symbols('E, G, nu')\n",
    "\n",
    "eq1 = Eq(ex,  (1/E)*(sx - nu*(sy + sz)))\n",
    "eq2 = Eq(ey,  (1/E)*(sy - nu*(sx + sz)))\n",
    "eq3 = Eq(ez,  (1/E)*(sz - nu*(sx + sy)))\n",
    "eq4 = Eq(gxy, txy/G)\n",
    "eq5 = Eq(gyz, txz/G)\n",
    "eq6 = Eq(gxz, tyz/G)"
   ]
  },
  {
   "cell_type": "markdown",
   "metadata": {},
   "source": [
    "Para despejar los términos comunes entre paréntesis de las ecuaciones anteriores basta evaluar las igualdades en $\\sin(\\theta)=0$ y $\\cos(\\theta)=1$, tal y como se ha hecho en los códigos anteriores:"
   ]
  },
  {
   "cell_type": "code",
   "execution_count": 18,
   "metadata": {},
   "outputs": [],
   "source": [
    "eq1 = eq1.subs({sin(t): 0, cos(t): 1})\n",
    "eq2 = eq2.subs({sin(t): 0, cos(t): 1})\n",
    "eq3 = eq3.subs({sin(t): 0, cos(t): 1})\n",
    "eq4 = eq4.subs({sin(t): 0, cos(t): 1})\n",
    "eq5 = eq5.subs({sin(t): 0, cos(t): 1})\n",
    "eq6 = eq6.subs({sin(t): 0, cos(t): 1})"
   ]
  },
  {
   "cell_type": "code",
   "execution_count": 19,
   "metadata": {},
   "outputs": [
    {
     "data": {
      "image/png": "[encoded data removed]",
      "text/latex": [
       "$\\displaystyle \\varepsilon_{r} = \\frac{- \\nu \\left(\\sigma_{z} + \\sigma_{θ}\\right) + \\sigma_{r}}{E}$"
      ],
      "text/plain": [
       "              -ν⋅(σ_z + σ_θ) + σᵣ\n",
       "varepsilonᵣ = ───────────────────\n",
       "                       E         "
      ]
     },
     "execution_count": 19,
     "metadata": {},
     "output_type": "execute_result"
    }
   ],
   "source": [
    "eq1"
   ]
  },
  {
   "cell_type": "code",
   "execution_count": 20,
   "metadata": {},
   "outputs": [
    {
     "data": {
      "image/png": "[encoded data removed]",
      "text/latex": [
       "$\\displaystyle \\varepsilon_{θ} = \\frac{- \\nu \\left(\\sigma_{r} + \\sigma_{z}\\right) + \\sigma_{θ}}{E}$"
      ],
      "text/plain": [
       "               -ν⋅(σᵣ + σ_z) + σ_θ\n",
       "varepsilon_θ = ───────────────────\n",
       "                        E         "
      ]
     },
     "execution_count": 20,
     "metadata": {},
     "output_type": "execute_result"
    }
   ],
   "source": [
    "eq2"
   ]
  },
  {
   "cell_type": "code",
   "execution_count": 21,
   "metadata": {},
   "outputs": [
    {
     "data": {
      "image/png": "[encoded data removed]",
      "text/latex": [
       "$\\displaystyle \\varepsilon_{z} = \\frac{- \\nu \\left(\\sigma_{r} + \\sigma_{θ}\\right) + \\sigma_{z}}{E}$"
      ],
      "text/plain": [
       "               -ν⋅(σᵣ + σ_θ) + σ_z\n",
       "varepsilon_z = ───────────────────\n",
       "                        E         "
      ]
     },
     "execution_count": 21,
     "metadata": {},
     "output_type": "execute_result"
    }
   ],
   "source": [
    "eq3"
   ]
  },
  {
   "cell_type": "code",
   "execution_count": 22,
   "metadata": {},
   "outputs": [
    {
     "data": {
      "image/png": "[encoded data removed]",
      "text/latex": [
       "$\\displaystyle \\gamma_{rθ} = \\frac{\\tau_{rθ}}{G}$"
      ],
      "text/plain": [
       "       τ_rθ\n",
       "γ_rθ = ────\n",
       "        G  "
      ]
     },
     "execution_count": 22,
     "metadata": {},
     "output_type": "execute_result"
    }
   ],
   "source": [
    "eq4"
   ]
  },
  {
   "cell_type": "code",
   "execution_count": 23,
   "metadata": {},
   "outputs": [
    {
     "data": {
      "image/png": "[encoded data removed]",
      "text/latex": [
       "$\\displaystyle \\gamma_{θz} = \\frac{\\tau_{rz}}{G}$"
      ],
      "text/plain": [
       "       τ_rz\n",
       "γ_θz = ────\n",
       "        G  "
      ]
     },
     "execution_count": 23,
     "metadata": {},
     "output_type": "execute_result"
    }
   ],
   "source": [
    "eq5"
   ]
  },
  {
   "cell_type": "code",
   "execution_count": 24,
   "metadata": {},
   "outputs": [
    {
     "data": {
      "image/png": "[encoded data removed]",
      "text/latex": [
       "$\\displaystyle \\gamma_{rz} = \\frac{\\tau_{θz}}{G}$"
      ],
      "text/plain": [
       "       τ_θz\n",
       "γ_rz = ────\n",
       "        G  "
      ]
     },
     "execution_count": 24,
     "metadata": {},
     "output_type": "execute_result"
    }
   ],
   "source": [
    "eq6"
   ]
  },
  {
   "cell_type": "markdown",
   "metadata": {},
   "source": [
    "Se despejan los esfuerzos para encontrar las ecuaciones de Lamé:"
   ]
  },
  {
   "cell_type": "code",
   "execution_count": 25,
   "metadata": {},
   "outputs": [],
   "source": [
    "sol = solve([eq1, eq2, eq3, eq4, eq5, eq6], [sr, st, sz, trt, trz, ttz])"
   ]
  },
  {
   "cell_type": "code",
   "execution_count": 26,
   "metadata": {},
   "outputs": [
    {
     "data": {
      "image/png": "[encoded data removed]",
      "text/latex": [
       "$\\displaystyle \\left\\{ \\sigma_{r} : \\frac{E \\nu \\varepsilon_{r} - E \\nu \\varepsilon_{z} - E \\nu \\varepsilon_{θ} - E \\varepsilon_{r}}{2 \\nu^{2} + \\nu - 1}, \\  \\sigma_{z} : \\frac{- E \\nu \\varepsilon_{r} + E \\nu \\varepsilon_{z} - E \\nu \\varepsilon_{θ} - E \\varepsilon_{z}}{2 \\nu^{2} + \\nu - 1}, \\  \\sigma_{θ} : \\frac{- E \\nu \\varepsilon_{r} - E \\nu \\varepsilon_{z} + E \\nu \\varepsilon_{θ} - E \\varepsilon_{θ}}{2 \\nu^{2} + \\nu - 1}, \\  \\tau_{rz} : G \\gamma_{θz}, \\  \\tau_{rθ} : G \\gamma_{rθ}, \\  \\tau_{θz} : G \\gamma_{rz}\\right\\}$"
      ],
      "text/plain": [
       "⎧    E⋅ν⋅varepsilonᵣ - E⋅ν⋅varepsilon_z - E⋅ν⋅varepsilon_θ - E⋅varepsilonᵣ       -E⋅ν⋅varepsilonᵣ + E⋅ν⋅varepsilon_z - E⋅ν⋅varepsilon_θ - E⋅varepsilon_z       -E⋅ν⋅varepsilonᵣ - E⋅ν⋅varepsilon_z + E⋅ν⋅varepsilon_θ - E⋅varepsilon_θ    \n",
       "⎪σᵣ: ─────────────────────────────────────────────────────────────────────, σ_z: ───────────────────────────────────────────────────────────────────────, σ_θ: ───────────────────────────────────────────────────────────────────────, τ_\n",
       "⎨                                    2                                                                            2                                                                             2                                         \n",
       "⎪                                 2⋅ν  + ν - 1                                                                 2⋅ν  + ν - 1                                                                  2⋅ν  + ν - 1                                 \n",
       "⎩                                                                                                                                                                                                                                         \n",
       "\n",
       "                                      ⎫\n",
       "rz: G⋅γ_θz, τ_rθ: G⋅γ_rθ, τ_θz: G⋅γ_rz⎪\n",
       "                                      ⎬\n",
       "                                      ⎪\n",
       "                                      ⎭"
      ]
     },
     "execution_count": 26,
     "metadata": {},
     "output_type": "execute_result"
    }
   ],
   "source": [
    "sol"
   ]
  },
  {
   "cell_type": "code",
   "execution_count": 27,
   "metadata": {},
   "outputs": [
    {
     "data": {
      "image/png": "[encoded data removed]",
      "text/latex": [
       "$\\displaystyle \\frac{E \\left(\\nu \\varepsilon_{r} - \\nu \\varepsilon_{z} - \\nu \\varepsilon_{θ} - \\varepsilon_{r}\\right)}{\\left(\\nu + 1\\right) \\left(2 \\nu - 1\\right)}$"
      ],
      "text/plain": [
       "E⋅(ν⋅varepsilonᵣ - ν⋅varepsilon_z - ν⋅varepsilon_θ - varepsilonᵣ)\n",
       "─────────────────────────────────────────────────────────────────\n",
       "                        (ν + 1)⋅(2⋅ν - 1)                        "
      ]
     },
     "execution_count": 27,
     "metadata": {},
     "output_type": "execute_result"
    }
   ],
   "source": [
    "sol[sr].factor()"
   ]
  }
 ],
 "metadata": {
  "colab": {
   "collapsed_sections": [],
   "include_colab_link": true,
   "provenance": []
  },
  "kernelspec": {
   "display_name": "Python 3 (ipykernel)",
   "language": "python",
   "name": "python3"
  },
  "language_info": {
   "codemirror_mode": {
    "name": "ipython",
    "version": 3
   },
   "file_extension": ".py",
   "mimetype": "text/x-python",
   "name": "python",
   "nbconvert_exporter": "python",
   "pygments_lexer": "ipython3",
   "version": "3.10.9"
  },
  "vscode": {
   "interpreter": {
    "hash": "916dbcbb3f70747c44a77c7bcd40155683ae19c65e1c03b4aa3499c5328201f1"
   }
  }
 },
 "nbformat": 4,
 "nbformat_minor": 4
}
