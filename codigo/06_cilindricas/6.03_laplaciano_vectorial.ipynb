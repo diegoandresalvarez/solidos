{
 "cells": [
  {
   "cell_type": "markdown",
   "id": "8685156b-d921-48a8-9676-d60de594c12d",
   "metadata": {},
   "source": [
    "# 6.3. El laplaciano vectorial en coordenadas intrínsecas, rectangulares y cilíndricas (ejemplos 6.2 y 6.4)"
   ]
  },
  {
   "cell_type": "markdown",
   "id": "39504060-302c-4c59-b3e5-e89f5ef61625",
   "metadata": {
    "tags": []
   },
   "source": [
    "$$\n",
    "\\newcommand{\\ve}[1]{{\\boldsymbol{#1}}}\n",
    "\\newcommand{\\ma}[1]{{\\boldsymbol{#1}}}\n",
    "\\newcommand{\\hate}{\\ve{\\hat e}}\n",
    "\\newcommand{\\hati}{\\ve{\\hat i}}\n",
    "\\newcommand{\\hatj}{\\ve{\\hat j}}\n",
    "\\newcommand{\\hatk}{\\ve{\\hat k}}\n",
    "\\newcommand{\\hatr}{\\ve{\\hat r}}\n",
    "\\newcommand{\\hatt}{\\ve{\\hat \\theta}}\n",
    "\\newcommand{\\hatz}{\\ve{\\hat z}}\n",
    "$$"
   ]
  },
  {
   "cell_type": "code",
   "execution_count": 1,
   "id": "75edd0e8-b72e-4702-b54c-407de6bbec2b",
   "metadata": {},
   "outputs": [],
   "source": [
    "from sympy import init_printing, latex, symbols, diff, simplify, Function, Matrix, expand, sin, cos, trigsimp\n",
    "\n",
    "# Para imprimir bonito\n",
    "init_printing()\n",
    "from IPython.display import Math                 \n",
    "def imprimir (texto1, variable, texto2=\"\"):\n",
    "    return Math(texto1 +  rf'{latex(variable)}' + texto2)"
   ]
  },
  {
   "cell_type": "markdown",
   "id": "bb2bab07-96d6-4ac1-a875-19656981ac54",
   "metadata": {},
   "source": [
    "Se definen las variables simbólicas necesarias:"
   ]
  },
  {
   "cell_type": "code",
   "execution_count": 2,
   "id": "d9dfc027-ed66-4dca-8af8-5cd753e35a80",
   "metadata": {},
   "outputs": [],
   "source": [
    "x, y, z = symbols('x, y, z')\n",
    "r, t    = symbols('r, theta')"
   ]
  },
  {
   "cell_type": "markdown",
   "id": "0072548b-72a7-4e78-af53-602633040343",
   "metadata": {},
   "source": [
    "## Ejemplo 6.4. Conversión del laplaciano vectorial de coordenadas intrínsecas a coordenadas rectangulares"
   ]
  },
  {
   "cell_type": "markdown",
   "id": "42b2e432-b6a8-4e5f-b3d3-d664d5936af8",
   "metadata": {},
   "source": [
    "Se define el laplaciano en coordenadas rectangulares:\n",
    "$$\n",
    "\\nabla^2\\phi(x,y,z) := \\frac{\\partial^2 \\phi}{\\partial x^2} + \\frac{\\partial^2 \\phi}{\\partial y^2} + \\frac{\\partial^2\\phi}{\\partial z^2}\n",
    "$$"
   ]
  },
  {
   "cell_type": "code",
   "execution_count": 3,
   "id": "e8e38843-8bd5-47e0-ab80-c9f9a177cc9c",
   "metadata": {
    "tags": []
   },
   "outputs": [],
   "source": [
    "laplr = lambda phi : diff(phi,x,2) + diff(phi,y,2) + diff(phi,z,2)"
   ]
  },
  {
   "cell_type": "markdown",
   "id": "d64ba301-cb14-4809-806b-688ae0002a37",
   "metadata": {
    "tags": []
   },
   "source": [
    "Se define el gradiente en coordenadas rectangulares:\n",
    "$$\n",
    " \\ve{\\nabla}\\phi(x,y,z) :=\n",
    "       \\frac{\\partial \\phi}{\\partial x}\\hati\n",
    "     + \\frac{\\partial \\phi}{\\partial y}\\hatj\n",
    "     + \\frac{\\partial \\phi}{\\partial z}\\hatk\n",
    "$$     "
   ]
  },
  {
   "cell_type": "code",
   "execution_count": 4,
   "id": "f45c22a9-faeb-4fde-91bf-3b23c3eee8cf",
   "metadata": {
    "tags": []
   },
   "outputs": [],
   "source": [
    "grad = lambda phi : Matrix([ diff(phi,x),\n",
    "                             diff(phi,y),\n",
    "                             diff(phi,z) ])"
   ]
  },
  {
   "cell_type": "markdown",
   "id": "bb20416c-b43d-4872-9134-9872b8620eab",
   "metadata": {
    "tags": []
   },
   "source": [
    "Se define la divergencia en coordenadas rectangulares:\n",
    "$$\n",
    "\\ve{\\nabla} \\cdot \\ve{f}(x,y,z) = \\operatorname{div} \\ve{f}(x,y,z) := \\frac{\\partial f_x}{\\partial x}+\\frac{\\partial f_y}{\\partial y}+\\frac{\\partial f_z}{\\partial z}\n",
    "$$"
   ]
  },
  {
   "cell_type": "code",
   "execution_count": 5,
   "id": "192b7463-9978-46ac-a387-b287218f6073",
   "metadata": {
    "tags": []
   },
   "outputs": [],
   "source": [
    "div = lambda f : diff(f[0],x) + diff(f[1],y) + diff(f[2],z)"
   ]
  },
  {
   "cell_type": "markdown",
   "id": "847dd2dc-8748-40be-b9ca-0361b89176dc",
   "metadata": {
    "tags": []
   },
   "source": [
    "Se define el rotacional en coordenadas rectangulares:\n",
    "$$\n",
    "\\ve{\\nabla} \\times \\ve{f}(x,y,z) = \\operatorname{rot}\\ve{f}(x,y,z) := \\left(\\frac{\\partial f_z}{\\partial y} - \\frac{\\partial f_y}{\\partial z}\\right) \\hati +\n",
    "\t\\left(\\frac{\\partial f_x}{\\partial z} - \\frac{\\partial f_z}{\\partial x}\\right) \\hatj +\n",
    "\t\\left(\\frac{\\partial f_y}{\\partial x} - \\frac{\\partial f_x}{\\partial y}\\right) \\hatk\n",
    "$$"
   ]
  },
  {
   "cell_type": "code",
   "execution_count": 6,
   "id": "a3c08723-dfe7-4bdd-a6ba-d260a305d2bb",
   "metadata": {
    "tags": []
   },
   "outputs": [],
   "source": [
    "rot = lambda f : Matrix([ diff(f[2],y) - diff(f[1],z),\n",
    "                          diff(f[0],z) - diff(f[2],x),\n",
    "                          diff(f[1],x) - diff(f[0],y)  ])"
   ]
  },
  {
   "cell_type": "markdown",
   "id": "e4e45f26-aa15-45a7-8d60-03bad3b5f6d9",
   "metadata": {
    "tags": []
   },
   "source": [
    "Se define el laplaciano vectorial en coordenadas rectangulares:\n",
    "$$\n",
    "        \\ve{\\nabla}^2\\ve{f}(x,y,z) := \\begin{bmatrix}\n",
    "            \\nabla^2 f_x \\\\ \n",
    "            \\nabla^2 f_y \\\\ \n",
    "            \\nabla^2 f_z\n",
    "        \\end{bmatrix}_{\\left\\{\\hati, \\hatj, \\hatk\\right\\}}\n",
    "$$        "
   ]
  },
  {
   "cell_type": "code",
   "execution_count": 7,
   "id": "58761073-bab0-4732-a4e7-2ee1414392f6",
   "metadata": {
    "tags": []
   },
   "outputs": [],
   "source": [
    "lapl_vec_r = lambda f : Matrix([ laplr(f[0]),\n",
    "                                 laplr(f[1]),\n",
    "                                 laplr(f[2]) ])"
   ]
  },
  {
   "cell_type": "markdown",
   "id": "92ac0973-407a-427a-b9b6-7de9eafb080f",
   "metadata": {
    "tags": []
   },
   "source": [
    "Se define el campo vectorial $\\ve{f}(x,y,z) := f_x(x,y,z) \\hati + f_y(x,y,z) \\hatj + f_z(x,y,z) \\hatk$"
   ]
  },
  {
   "cell_type": "code",
   "execution_count": 8,
   "id": "8d78a50d-e071-47e9-85b2-8904bc761f7b",
   "metadata": {
    "tags": []
   },
   "outputs": [],
   "source": [
    "# se especifica que fx, fy y fz son funciones de x, y y z\n",
    "fx = Function('f_x')(x, y, z)\n",
    "fy = Function('f_y')(x, y, z)\n",
    "fz = Function('f_z')(x, y, z)\n",
    "\n",
    "f_r = Matrix([fx, fy, fz])"
   ]
  },
  {
   "cell_type": "markdown",
   "id": "b4d3d9d2-d0c2-4ddb-a152-83f9d865cfef",
   "metadata": {},
   "source": [
    "Finalmente, se verifica que el laplaciano vectorial en coordenadas intrínsecas está dado por:\n",
    "$$\n",
    "\\begin{align*}\n",
    "        \\nabla^2 \\ve{f} :=& \\nabla(\\nabla \\cdot \\ve{f}) - \\nabla \\times (\\nabla \\times \\ve{f}) \\\\\n",
    "                         =& \\operatorname{grad}(\\operatorname{div} \\ve{f}) - \\operatorname{rot}(\\operatorname{rot} \\ve{f})\n",
    "\\end{align*}                        \n",
    "$$"
   ]
  },
  {
   "cell_type": "code",
   "execution_count": 9,
   "id": "aa7ad10d-45ff-425c-9be7-8391e93b4361",
   "metadata": {
    "tags": []
   },
   "outputs": [
    {
     "data": {
      "image/png": "[encoded data removed]",
      "text/latex": [
       "$\\displaystyle \\left[\\begin{matrix}0\\\\0\\\\0\\end{matrix}\\right]$"
      ],
      "text/plain": [
       "⎡0⎤\n",
       "⎢ ⎥\n",
       "⎢0⎥\n",
       "⎢ ⎥\n",
       "⎣0⎦"
      ]
     },
     "execution_count": 9,
     "metadata": {},
     "output_type": "execute_result"
    }
   ],
   "source": [
    "eq1 = lapl_vec_r(f_r)\n",
    "eq2 = grad(div(f_r)) - rot(rot(f_r))\n",
    "expand(eq1 - eq2)"
   ]
  },
  {
   "cell_type": "markdown",
   "id": "efd832b3-5b09-4bd5-a19d-be6e0faaeddd",
   "metadata": {
    "tags": []
   },
   "source": [
    "## Ejemplo 6.4. Conversión del laplaciano vectorial de coordenadas intrínsecas a coordenadas cilíndricas"
   ]
  },
  {
   "cell_type": "markdown",
   "id": "3144c09b-9cc5-45a5-baa7-bace3f2c8c51",
   "metadata": {},
   "source": [
    "Se define el laplaciano en coordenadas cilíndricas:\n",
    "$$\n",
    "\\nabla^2\\phi(r,\\theta,z) := \\frac{1}{r}\\frac{\\partial}{\\partial r}\\left(r\\frac{\\partial\\phi}{\\partial r}\\right) + \\frac{1}{r^2}\\frac{\\partial^2\\phi}{\\partial \\theta^2} + \\frac{\\partial^2\\phi}{\\partial z^2}\n",
    "$$"
   ]
  },
  {
   "cell_type": "code",
   "execution_count": 10,
   "id": "d2e7092d-f839-44f9-b7f7-87596cbc85ea",
   "metadata": {
    "tags": []
   },
   "outputs": [],
   "source": [
    "laplc = lambda phi : (1/r)*diff(r*diff(phi,r),r) + (1/(r**2))*diff(phi,t,2) + diff(phi,z,2)"
   ]
  },
  {
   "cell_type": "markdown",
   "id": "439ad889-cd4b-42f6-8a21-6deadf65399d",
   "metadata": {
    "tags": []
   },
   "source": [
    "Se define el gradiente en coordenadas cilíndricas:\n",
    "\n",
    "$$\n",
    "    \\nabla\\phi(r,\\theta,z) :=\n",
    "      \\frac{\\partial \\phi}{\\partial r} \\hatr\n",
    "     + \\frac{1}{r}\\frac{\\partial \\phi}{\\partial\\theta}\\hatt\n",
    "     + \\frac{\\partial \\phi}{\\partial z}\\hatz\n",
    "$$     "
   ]
  },
  {
   "cell_type": "code",
   "execution_count": 11,
   "id": "e6af4f2d-cf9e-4235-bef9-b3f74fdec5f0",
   "metadata": {
    "tags": []
   },
   "outputs": [],
   "source": [
    "grad = lambda phi : Matrix([       diff(phi,r),\n",
    "                             (1/r)*diff(phi,t),\n",
    "                                   diff(phi,z) ])"
   ]
  },
  {
   "cell_type": "markdown",
   "id": "eaed165f-624c-4fb3-ae66-311ef409a2fd",
   "metadata": {
    "tags": []
   },
   "source": [
    "Se define la divergencia en coordenadas cilíndricas:\n",
    "\n",
    "$$\n",
    "\\ve{\\nabla} \\cdot \\ve{f}(r,\\theta,z) =\n",
    "    \\operatorname{div}\\ve{f}(r,\\theta,z) \n",
    "       := \\frac{1}{r}\\frac{\\partial(r f_r)}{\\partial r} + \n",
    "          \\frac{1}{r}\\frac{\\partial f_\\theta}{\\partial \\theta} + \n",
    "          \\frac{\\partial f_z}{\\partial z}\n",
    "$$"
   ]
  },
  {
   "cell_type": "code",
   "execution_count": 12,
   "id": "4608faf7-2ebb-40d6-abfa-6379f04d648e",
   "metadata": {
    "tags": []
   },
   "outputs": [],
   "source": [
    "div = lambda f : (1/r)*diff(r*f[0],r) + (1/r)*diff(f[1],t) + diff(f[2],z)"
   ]
  },
  {
   "cell_type": "markdown",
   "id": "d23ccd48-b5e7-450b-8649-421b7ea6f7d5",
   "metadata": {
    "tags": []
   },
   "source": [
    "Se define el rotacional en coordenadas cilíndricas:\n",
    "$$\n",
    "\\ve{\\nabla} \\times \\ve{f}(r,\\theta,z) =\n",
    "   \\operatorname{rot}\\ve{f}(r,\\theta,z) := \n",
    "\\left(\\frac{1}{r} \\frac{\\partial f_z}{\\partial \\theta} - \\frac{\\partial f_\\theta}{\\partial z}\\right) \\hatr\n",
    "+ \n",
    "\\left(\\frac{\\partial f_r}{\\partial z} - \\frac{\\partial f_z}{\\partial r}\\right) \\hatt\n",
    "+\n",
    "\\frac{1}{r}\\left(\\frac{\\partial (r f_\\theta)}{\\partial r} - \\frac{\\partial f_r}{\\partial \\theta}\\right) \\hatz\n",
    "$$"
   ]
  },
  {
   "cell_type": "code",
   "execution_count": 13,
   "id": "a23dc901-86ea-4c22-934f-391acb09b9a7",
   "metadata": {
    "tags": []
   },
   "outputs": [],
   "source": [
    "rot = lambda f : Matrix([ (1/r)*diff(f[2],t)   - diff(f[1],z),\n",
    "                                diff(f[0],z)   - diff(f[2],r),\n",
    "                         (1/r)*(diff(r*f[1],r) - diff(f[0],t)) ])"
   ]
  },
  {
   "cell_type": "markdown",
   "id": "8fc9de8c-aea3-4bb7-ba85-30b2f4dc7733",
   "metadata": {
    "tags": []
   },
   "source": [
    "Se define el laplaciano vectorial en coordenadas cilíndricas:\n",
    "$$\n",
    "    \\ve{\\nabla}^2\\ve{f}(r,\\theta,z) := \\begin{bmatrix}\n",
    "        \\nabla^2 f_r(r,\\theta,z) - \\frac{f_r(r,\\theta,z)}{r^2} - \\frac{2}{r^2} \\frac{\\partial f_\\theta(r,\\theta,z)}{\\partial \\theta} \\\\\n",
    "        \\nabla^2 f_\\theta(r,\\theta,z) - \\frac{f_\\theta(r,\\theta,z)}{r^2} + \\frac{2}{r^2} \\frac{\\partial f_r(r,\\theta,z)}{\\partial \\theta} \\\\\n",
    "        \\nabla^2 f_z(r,\\theta,z) \\label{eq:lapl_vec_cil}\n",
    "    \\end{bmatrix}\n",
    "$$    "
   ]
  },
  {
   "cell_type": "code",
   "execution_count": 14,
   "id": "e21d06af-7711-413f-a861-5febb6ab2598",
   "metadata": {
    "tags": []
   },
   "outputs": [],
   "source": [
    "lapl_vec_c = lambda f : Matrix([ laplc(f[0]) - f[0]/(r**2) - (2/(r**2))*diff(f[1],t),\n",
    "                                 laplc(f[1]) - f[1]/(r**2) + (2/(r**2))*diff(f[0],t),\n",
    "                                 laplc(f[2]) ])"
   ]
  },
  {
   "cell_type": "markdown",
   "id": "ae7b30f6-43eb-4f36-a975-457d8f21a9ef",
   "metadata": {
    "tags": []
   },
   "source": [
    "Se define el campo vectorial: \n",
    "$$\n",
    "\\ve{f}(r,\\theta,z) := f_r(r,\\theta,z) \\hatr + f_\\theta(r,\\theta,z) \\hatt + f_z(r,\\theta,z) \\hatk\n",
    "$$"
   ]
  },
  {
   "cell_type": "code",
   "execution_count": 15,
   "id": "b0b36309-0c2e-4e0b-b579-4c4f9889791c",
   "metadata": {
    "tags": []
   },
   "outputs": [],
   "source": [
    "# se especifica que fr, ft y fz son funciones de r, t y z\n",
    "fr = Function('f_r')(r, t, z)\n",
    "ft = Function('f_theta')(r, t, z)\n",
    "fz = Function('f_z')(r, t, z)\n",
    "\n",
    "f_c = Matrix([fr, ft, fz])"
   ]
  },
  {
   "cell_type": "markdown",
   "id": "e276aacd-058b-4f84-847b-9b218b39f2d6",
   "metadata": {
    "tags": []
   },
   "source": [
    "Finalmente, se verifica que el laplaciano vectorial en coordenadas intrínsecas está dado por:\n",
    "$$\n",
    "\\begin{align*}\n",
    "        \\nabla^2 \\ve{f} &= \\nabla(\\nabla \\cdot \\ve{f}) - \\nabla \\times (\\nabla \\times \\ve{f}) \\\\\n",
    "                        &= \\operatorname{grad}(\\operatorname{div} \\ve{f}) - \\operatorname{rot}(\\operatorname{rot} \\ve{f})\n",
    "\\end{align*}                        \n",
    "$$    "
   ]
  },
  {
   "cell_type": "code",
   "execution_count": 16,
   "id": "485bf94d-d04c-4334-87e6-f7b5d7ecf542",
   "metadata": {
    "tags": []
   },
   "outputs": [
    {
     "data": {
      "image/png": "[encoded data removed]",
      "text/latex": [
       "$\\displaystyle \\left[\\begin{matrix}0\\\\0\\\\0\\end{matrix}\\right]$"
      ],
      "text/plain": [
       "⎡0⎤\n",
       "⎢ ⎥\n",
       "⎢0⎥\n",
       "⎢ ⎥\n",
       "⎣0⎦"
      ]
     },
     "execution_count": 16,
     "metadata": {},
     "output_type": "execute_result"
    }
   ],
   "source": [
    "eq1 = lapl_vec_c(f_c)\n",
    "eq2 = grad(div(f_c)) - rot(rot(f_c))\n",
    "expand(eq1 - eq2)"
   ]
  },
  {
   "cell_type": "markdown",
   "id": "80d5147e-1bb7-4f7f-8e60-4abd4bd5fc45",
   "metadata": {
    "tags": []
   },
   "source": [
    "## Ejemplo 6.2. Se convierte el laplaciano vectorial de coordenadas rectangulares a coordenadas cilíndricas"
   ]
  },
  {
   "cell_type": "markdown",
   "id": "63482d71-5848-4c9c-ab0e-3fc8d54dcb78",
   "metadata": {
    "tags": []
   },
   "source": [
    "Se define la matriz de transformación $\\boldsymbol{T}$:"
   ]
  },
  {
   "cell_type": "code",
   "execution_count": 17,
   "id": "048c552c-d6a5-417a-8132-028b0a462714",
   "metadata": {
    "tags": []
   },
   "outputs": [],
   "source": [
    "T = Matrix([[ cos(t), -sin(t),   0 ],\n",
    "            [ sin(t),  cos(t),   0 ],\n",
    "            [      0,       0,   1 ]]) "
   ]
  },
  {
   "cell_type": "markdown",
   "id": "5fc2200f-b8e0-489d-a5f4-d228fbfe2640",
   "metadata": {},
   "source": [
    "Se definen las primeras derivadas:"
   ]
  },
  {
   "cell_type": "code",
   "execution_count": 18,
   "id": "b0fc9810-a35d-4173-865a-b6d4c129566f",
   "metadata": {},
   "outputs": [],
   "source": [
    "# se definen las primeras derivadas utilizando la regla de la cadena\n",
    "d_dx = lambda f: diff(f,r)*cos(t) - diff(f,t)*sin(t)/r\n",
    "d_dy = lambda f: diff(f,r)*sin(t) + diff(f,t)*cos(t)/r\n",
    "d_dz = lambda f: diff(f,z)"
   ]
  },
  {
   "cell_type": "markdown",
   "id": "a13fd53f-f410-4cd9-877b-478e48b557b0",
   "metadata": {},
   "source": [
    "Se definen la segundas derivadas:"
   ]
  },
  {
   "cell_type": "code",
   "execution_count": 19,
   "id": "57db6969-8ab4-4007-b214-21fd4cbbdf5d",
   "metadata": {},
   "outputs": [],
   "source": [
    "d2_dx2 = lambda f: d_dx(d_dx(f))\n",
    "d2_dy2 = lambda f: d_dy(d_dy(f))\n",
    "d2_dz2 = lambda f: d_dz(d_dz(f))"
   ]
  },
  {
   "cell_type": "markdown",
   "id": "5fea18cf-b656-45aa-a035-05320452a36f",
   "metadata": {},
   "source": [
    "Se define el laplaciano en coordenadas rectangulares:\n",
    "$$\n",
    "\\nabla^2\\phi(x,y,z) := \\frac{\\partial^2 \\phi}{\\partial x^2} + \\frac{\\partial^2 \\phi}{\\partial y^2} + \\frac{\\partial^2\\phi}{\\partial z^2}\n",
    "$$"
   ]
  },
  {
   "cell_type": "code",
   "execution_count": 20,
   "id": "eefc1731-296c-4cf8-9895-7b14bc1c7996",
   "metadata": {},
   "outputs": [],
   "source": [
    "# se escribe la fórmula del laplaciano en coordenadas rectangulares\n",
    "laplr = lambda phi : simplify(d2_dx2(phi) + d2_dy2(phi) + d2_dz2(phi))"
   ]
  },
  {
   "cell_type": "markdown",
   "id": "b51f6ed2-7151-4db0-9b20-659f79a26d57",
   "metadata": {
    "tags": []
   },
   "source": [
    "Se define el laplaciano vectorial en coordenadas rectangulares:\n",
    "$$\n",
    "\\ve{\\nabla}^2\\ve{f}(x,y,z) := \\begin{bmatrix}\n",
    "            \\nabla^2 f_x(x,y,z) \\\\ \n",
    "            \\nabla^2 f_y(x,y,z) \\\\ \n",
    "            \\nabla^2 f_z(x,y,z)\n",
    "        \\end{bmatrix}\n",
    "$$        "
   ]
  },
  {
   "cell_type": "code",
   "execution_count": 21,
   "id": "32ca0df3-234e-4884-910a-085a99995848",
   "metadata": {
    "tags": []
   },
   "outputs": [],
   "source": [
    "lapl_vec_r = lambda f : Matrix([ laplr(f[0]),\n",
    "                                 laplr(f[1]),\n",
    "                                 laplr(f[2]) ])"
   ]
  },
  {
   "cell_type": "markdown",
   "id": "e0515a22-a4be-4955-a5b3-e30e82c50424",
   "metadata": {
    "tags": []
   },
   "source": [
    "Se transforma el campo vectorial $\\ve{f}$ de la base $\\left\\{\\hatr,\\hatt,\\hatk\\right\\}$ a la base $\\left\\{\\hati,\\hatj,\\hatk\\right\\}$:"
   ]
  },
  {
   "cell_type": "code",
   "execution_count": 22,
   "id": "a7322525-3d4e-44de-8e3b-a464be6dcf6e",
   "metadata": {
    "tags": []
   },
   "outputs": [],
   "source": [
    "f_r = T*f_c"
   ]
  },
  {
   "cell_type": "markdown",
   "id": "6918969b-154a-4471-ba90-e3185f7fdedd",
   "metadata": {
    "tags": []
   },
   "source": [
    "Finalmente, se verifica que el laplaciano vectorial en coordenadas rectangulares es equivalente al laplaciano vectorial en coordenadas cilíndricas:"
   ]
  },
  {
   "cell_type": "code",
   "execution_count": 23,
   "id": "030f29f4-8d32-4b2a-90a3-523b50e0062b",
   "metadata": {
    "tags": []
   },
   "outputs": [
    {
     "data": {
      "image/png": "[encoded data removed]",
      "text/latex": [
       "$\\displaystyle \\left[\\begin{matrix}0\\\\0\\\\0\\end{matrix}\\right]$"
      ],
      "text/plain": [
       "⎡0⎤\n",
       "⎢ ⎥\n",
       "⎢0⎥\n",
       "⎢ ⎥\n",
       "⎣0⎦"
      ]
     },
     "execution_count": 23,
     "metadata": {},
     "output_type": "execute_result"
    }
   ],
   "source": [
    "vlr = lapl_vec_r(f_r)\n",
    "vlc = lapl_vec_c(f_c)\n",
    "\n",
    "trigsimp(simplify(vlr - T*vlc))"
   ]
  }
 ],
 "metadata": {
  "kernelspec": {
   "display_name": "Python 3 (ipykernel)",
   "language": "python",
   "name": "python3"
  },
  "language_info": {
   "codemirror_mode": {
    "name": "ipython",
    "version": 3
   },
   "file_extension": ".py",
   "mimetype": "text/x-python",
   "name": "python",
   "nbconvert_exporter": "python",
   "pygments_lexer": "ipython3",
   "version": "3.11.5"
  }
 },
 "nbformat": 4,
 "nbformat_minor": 5
}
