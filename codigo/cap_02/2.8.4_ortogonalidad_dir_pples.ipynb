{
 "cells": [
  {
   "cell_type": "markdown",
   "metadata": {
    "id": "R1qOyKK_Sofe"
   },
   "source": [
    "# 2.8.4. Verificación ortogonalidad direcciones principales\n",
    "\n",
    "|Quién | Correo |Fecha | Qué hizo |\n",
    "| ---  | ---    |---   | ---      |\n",
    "|Michael Heredia Pérez | <mherediap@unal.edu.co> | Julio 15, 2022 | Conversión de código de MAXIMA a Python|\n",
    "|Juan Nicolás Ramírez | <jnramirezg@unal.edu.co> | Septiembre 19, 2022 | Enlazando con el ejemplo |\n",
    "|Diego Andrés Alvarez Marín| <daalvarez@unal.edu.co> | Febrero 22, 2024 | Mejorando los comentarios |"
   ]
  },
  {
   "cell_type": "markdown",
   "metadata": {},
   "source": [
    "$$\n",
    "\\newcommand{\\ve}[1]{{\\vec{\\boldsymbol{#1}}}}\n",
    "\\newcommand{\\ma}[1]{{\\boldsymbol{#1}}}\n",
    "\\newcommand{\\hve}[1]{{\\,\\hat{\\!\\boldsymbol{#1}}}}\n",
    "$$"
   ]
  },
  {
   "cell_type": "markdown",
   "metadata": {},
   "source": [
    "Importamos algunas funciones necesarias de ```numpy``` e importamos el submódulo ```linalg``` de ```numpy``` (álgebra lineal)."
   ]
  },
  {
   "cell_type": "code",
   "execution_count": 6,
   "metadata": {
    "tags": []
   },
   "outputs": [],
   "source": [
    "from numpy import array, dot, array2string\n",
    "from numpy.linalg import eigh\n",
    "\n",
    "# imprime todo con 4 cifras decimales\n",
    "num_decimales = 4\n",
    "np.set_printoptions(precision=num_decimales)\n",
    "\n",
    "# función para imprimir los vectores o matrices de numpy bonitos\n",
    "def imprimir_vect(vec):\n",
    "    return f\"{array2string(vec, formatter={'float': lambda x: f'{x: .{num_decimales}f}'}, separator=', ')}\""
   ]
  },
  {
   "cell_type": "markdown",
   "metadata": {},
   "source": [
    "Retomando el ejemplo 2.4 del <font color='blue'>main.pdf</font>, calculamos sus direcciones principales:"
   ]
  },
  {
   "cell_type": "code",
   "execution_count": 7,
   "metadata": {
    "tags": []
   },
   "outputs": [],
   "source": [
    "# Se definen los esfuerzos.\n",
    "sx,   sy,  sz = 1, 3, 0  # [Pa]\n",
    "txy, txz, tyz = 0, 0, 2  # [Pa]\n",
    "\n",
    "# Se construye la matriz de tensiones (esfuerzos).\n",
    "sigma = array([[sx,  txy, txz],\n",
    "               [txy,  sy, tyz],\n",
    "               [txz, tyz,  sz]])\n",
    "\n",
    "valp, vecp = eigh(sigma) # Cálculo de valores y vectores propios.\n",
    "\n",
    "n3, n2, n1 = vecp.T[0], vecp.T[1], vecp.T[2]  # Asignación de direcciones principales."
   ]
  },
  {
   "cell_type": "markdown",
   "metadata": {},
   "source": [
    "Se obtiene que las direcciones principales son:"
   ]
  },
  {
   "cell_type": "code",
   "execution_count": 8,
   "metadata": {
    "tags": []
   },
   "outputs": [
    {
     "name": "stdout",
     "output_type": "stream",
     "text": [
      "n1 = [-0.0000, -0.8944, -0.4472]\n"
     ]
    }
   ],
   "source": [
    "print(\"n1 = \" + imprimir_vect(n1))"
   ]
  },
  {
   "cell_type": "code",
   "execution_count": 9,
   "metadata": {
    "tags": []
   },
   "outputs": [
    {
     "name": "stdout",
     "output_type": "stream",
     "text": [
      "n2 = [ 1.0000,  0.0000,  0.0000]\n"
     ]
    }
   ],
   "source": [
    "print(\"n2 = \" + imprimir_vect(n2))"
   ]
  },
  {
   "cell_type": "code",
   "execution_count": 10,
   "metadata": {
    "tags": []
   },
   "outputs": [
    {
     "name": "stdout",
     "output_type": "stream",
     "text": [
      "n3 = [ 0.0000,  0.4472, -0.8944]\n"
     ]
    }
   ],
   "source": [
    "print(\"n3 = \" + imprimir_vect(n3))"
   ]
  },
  {
   "cell_type": "markdown",
   "metadata": {},
   "source": [
    "En el <font color='blue'>main.pdf</font> se presenta la ecuación:\n",
    "\n",
    "$\\hve{n}_i \\cdot \\hve{n}_j = 0$ (para $i\\neq j$)"
   ]
  },
  {
   "cell_type": "markdown",
   "metadata": {},
   "source": [
    "Hacemos $\\hve{n}_1 \\cdot \\hve{n}_2$:"
   ]
  },
  {
   "cell_type": "code",
   "execution_count": 3,
   "metadata": {
    "colab": {
     "base_uri": "https://localhost:8080/"
    },
    "id": "i6G5-xZdTS9I",
    "outputId": "91a9957d-0a6c-4b02-abcb-b31ebe684e94"
   },
   "outputs": [
    {
     "data": {
      "text/plain": [
       "0.0"
      ]
     },
     "execution_count": 3,
     "metadata": {},
     "output_type": "execute_result"
    }
   ],
   "source": [
    "dot(n1, n2)  # Alternativamente se puede escribir como n1.T*n2 o numpy.transpose(n1)*n2"
   ]
  },
  {
   "cell_type": "markdown",
   "metadata": {},
   "source": [
    "Hacemos $\\hve{n}_1 \\cdot \\hve{n}_3$:"
   ]
  },
  {
   "cell_type": "code",
   "execution_count": 4,
   "metadata": {
    "colab": {
     "base_uri": "https://localhost:8080/"
    },
    "id": "5Z8AP48ATcpd",
    "outputId": "ea2addd9-dc54-44e8-f0e3-33a11241e24c"
   },
   "outputs": [
    {
     "data": {
      "text/plain": [
       "0.0"
      ]
     },
     "execution_count": 4,
     "metadata": {},
     "output_type": "execute_result"
    }
   ],
   "source": [
    "dot(n1, n3)  # Alternativamente se puede escribir como n1.T*n3 o numpy.transpose(n1)*n3"
   ]
  },
  {
   "cell_type": "markdown",
   "metadata": {},
   "source": [
    "Hacemos $\\hve{n}_2 \\cdot \\hve{n}_3$:"
   ]
  },
  {
   "cell_type": "code",
   "execution_count": 5,
   "metadata": {
    "colab": {
     "base_uri": "https://localhost:8080/"
    },
    "id": "X3mk0c3hTfNK",
    "outputId": "c5ca619d-abe2-482b-baac-bd0044d2249c"
   },
   "outputs": [
    {
     "data": {
      "text/plain": [
       "0.0"
      ]
     },
     "execution_count": 5,
     "metadata": {},
     "output_type": "execute_result"
    }
   ],
   "source": [
    "dot(n2, n3)  # Alternativamente se puede escribir como n2.T*n3 o numpy.transpose(n2)*n3"
   ]
  }
 ],
 "metadata": {
  "colab": {
   "authorship_tag": "ABX9TyM45bk5FCHGOcQZHXJ9wJzb",
   "include_colab_link": true,
   "provenance": []
  },
  "kernelspec": {
   "display_name": "Python 3 (ipykernel)",
   "language": "python",
   "name": "python3"
  },
  "language_info": {
   "codemirror_mode": {
    "name": "ipython",
    "version": 3
   },
   "file_extension": ".py",
   "mimetype": "text/x-python",
   "name": "python",
   "nbconvert_exporter": "python",
   "pygments_lexer": "ipython3",
   "version": "3.11.5"
  }
 },
 "nbformat": 4,
 "nbformat_minor": 4
}
