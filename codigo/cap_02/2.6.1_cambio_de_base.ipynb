{
 "cells": [
  {
   "cell_type": "markdown",
   "metadata": {
    "id": "UyAhKeEIsEqh"
   },
   "source": [
    "# 2.6.1. Particularización de la matriz de tensiones al caso tridimensional"
   ]
  },
  {
   "cell_type": "markdown",
   "metadata": {},
   "source": [
    "$$\n",
    "\\newcommand{\\ve}[1]{{\\vec{\\boldsymbol{#1}}}}\n",
    "\\newcommand{\\ma}[1]{{\\boldsymbol{#1}}}\n",
    "\\newcommand{\\hve}[1]{{\\,\\hat{\\!\\boldsymbol{#1}}}}\n",
    "$$   "
   ]
  },
  {
   "cell_type": "markdown",
   "metadata": {
    "id": "UyAhKeEIsEqh"
   },
   "source": [
    "|Quién | Correo |Fecha | Qué hizo |\n",
    "| ---  | ---    |---   | ---      |\n",
    "|Michael Heredia Pérez | <mherediap@unal.edu.co> | Julio 13, 2022      | Conversión de código de MAXIMA a Python|\n",
    "|Diego Andrés Alvarez | <daalvarez@unal.edu.co>  | Septiembre 12, 2022 | Verificando $\\sigma_{x_i'x_j'} = \\hve{e}_i'^T \\ma{\\sigma} \\hve{e}_j'$         |\n",
    "|Juan Nicolás Ramírez | <jnramirezg@unal.edu.co> | Febrero 16, 2023 |  Simplificando programa                |\n",
    "|Diego Andrés Alvarez | <daalvarez@unal.edu.co>  | Febrero 12, 2024     | Mejorando comentarios                  |"
   ]
  },
  {
   "cell_type": "markdown",
   "metadata": {
    "id": "UyAhKeEIsEqh"
   },
   "source": [
    "Las ecuaciones que transforman los esfuerzos a otro sistema de coordenadas se pueden calcular con el siguiente programa y la ecuación $\\ma{\\sigma}' = \\ma{T}^T\\ma{\\sigma}\\ma{T}$:"
   ]
  },
  {
   "cell_type": "code",
   "execution_count": 1,
   "metadata": {
    "id": "API5h85VrvWX"
   },
   "outputs": [],
   "source": [
    "from sympy import init_printing, latex, symbols, Matrix, factor, linear_eq_to_matrix, expand\n",
    "\n",
    "# Para imprimir bonito\n",
    "init_printing()\n",
    "from IPython.display import Math                 \n",
    "def imprimir (texto1, variable, texto2=\"\"):\n",
    "    return Math(texto1 +  rf'{latex(variable)}' + texto2)"
   ]
  },
  {
   "cell_type": "markdown",
   "metadata": {
    "id": "L66opn_C5Tr_"
   },
   "source": [
    "Se definen las variables simbólicas necesarias:"
   ]
  },
  {
   "cell_type": "code",
   "execution_count": 2,
   "metadata": {
    "id": "S7-I1WarsUgw"
   },
   "outputs": [],
   "source": [
    "sx, sy, sz    = symbols(\"sigma_x, sigma_y, sigma_z\")\n",
    "txy, txz, tyz = symbols(\"tau_xy,  tau_xz,  tau_yz\")\n",
    "\n",
    "a1, a2, a3    = symbols(\"alpha_1:4\")\n",
    "b1, b2, b3    = symbols(\"beta_1:4\")\n",
    "g1, g2, g3    = symbols(\"gamma_1:4\")"
   ]
  },
  {
   "cell_type": "markdown",
   "metadata": {
    "id": "gUyQP-4l5Z5y"
   },
   "source": [
    "Se define la matriz de tensiones en coordenadas rectangulares $\\ma{\\sigma}$:\n",
    "\n",
    "$$\n",
    "\\ma{\\sigma} = \n",
    "\\begin{bmatrix}\n",
    "\t\\sigma_x  & \\tau_{xy} & \\tau_{xz}\\\\\n",
    "\t\\tau_{xy} & \\sigma_y  & \\tau_{yz}\\\\\n",
    "\t\\tau_{xz} & \\tau_{yz} & \\sigma_z\n",
    "\\end{bmatrix}\n",
    "$$        "
   ]
  },
  {
   "cell_type": "code",
   "execution_count": 3,
   "metadata": {
    "colab": {
     "base_uri": "https://localhost:8080/",
     "height": 78
    },
    "id": "GOVDxdkOtb4j",
    "outputId": "9a07c997-e29d-490a-d17a-a2a5146f8466"
   },
   "outputs": [
    {
     "data": {
      "text/latex": [
       "$\\displaystyle \\ma{\\sigma} = \\left[\\begin{matrix}\\sigma_{x} & \\tau_{xy} & \\tau_{xz}\\\\\\tau_{xy} & \\sigma_{y} & \\tau_{yz}\\\\\\tau_{xz} & \\tau_{yz} & \\sigma_{z}\\end{matrix}\\right]$"
      ],
      "text/plain": [
       "<IPython.core.display.Math object>"
      ]
     },
     "execution_count": 3,
     "metadata": {},
     "output_type": "execute_result"
    }
   ],
   "source": [
    "sigma = Matrix([[ sx, txy, txz],\n",
    "                [txy,  sy, tyz],\n",
    "                [txz, tyz,  sz]])\n",
    "\n",
    "imprimir(r\"\\ma{\\sigma} = \", sigma)"
   ]
  },
  {
   "cell_type": "markdown",
   "metadata": {
    "id": "vLtLDIWz5q_9"
   },
   "source": [
    "Se define la matriz de transformación $\\ma{T}$:\n",
    "\n",
    "$$ \\ma{T} = \n",
    "\\begin{bmatrix}\n",
    "\\alpha_1 & \\alpha_2 & \\alpha_3 \\\\\n",
    "\\beta_1  & \\beta_2  & \\beta_3  \\\\\n",
    "\\gamma_1 & \\gamma_2 & \\gamma_3 \n",
    "\\end{bmatrix},\n",
    "$$\n"
   ]
  },
  {
   "cell_type": "code",
   "execution_count": 4,
   "metadata": {
    "colab": {
     "base_uri": "https://localhost:8080/",
     "height": 78
    },
    "id": "I5V1Uk_Rub9O",
    "outputId": "d858d132-fa45-4ac6-edf6-0856349e6c74"
   },
   "outputs": [
    {
     "data": {
      "text/latex": [
       "$\\displaystyle \\ma{T} = \\left[\\begin{matrix}\\alpha_{1} & \\alpha_{2} & \\alpha_{3}\\\\\\beta_{1} & \\beta_{2} & \\beta_{3}\\\\\\gamma_{1} & \\gamma_{2} & \\gamma_{3}\\end{matrix}\\right]$"
      ],
      "text/plain": [
       "<IPython.core.display.Math object>"
      ]
     },
     "execution_count": 4,
     "metadata": {},
     "output_type": "execute_result"
    }
   ],
   "source": [
    "T = Matrix([[a1, a2, a3],     \n",
    "            [b1, b2, b3],      \n",
    "            [g1, g2, g3]])\n",
    "\n",
    "imprimir(r\"\\ma{T} = \", T)"
   ]
  },
  {
   "cell_type": "markdown",
   "metadata": {
    "id": "9du7Qzz07wKz"
   },
   "source": [
    "Se calcula la matriz de tensiones $\\ma{\\sigma}'$ en el sistema de coordenadas especificadas por los vectores definidos en la matriz $\\ma{T}$ usando la ecuación:\n",
    "\n",
    "$$\n",
    "\\ma{\\sigma}' = \\ma{T}^T\\ma{\\sigma}\\ma{T}\n",
    "$$"
   ]
  },
  {
   "cell_type": "code",
   "execution_count": 5,
   "metadata": {
    "id": "YLhi9ppBu7h8"
   },
   "outputs": [],
   "source": [
    "sigmaP = factor(T.T*sigma*T)"
   ]
  },
  {
   "cell_type": "markdown",
   "metadata": {
    "id": "wI_VbHIb8NMn"
   },
   "source": [
    "Se extraen los términos de la matriz de tensiones $\\ma{\\sigma}'$:"
   ]
  },
  {
   "cell_type": "code",
   "execution_count": 6,
   "metadata": {
    "id": "WGpqR1I17g73"
   },
   "outputs": [],
   "source": [
    "sxp   = sigmaP[0,0]  # elemento 1,1 de la matriz sigmaP\n",
    "syp   = sigmaP[1,1]  # elemento 2,2 de la matriz sigmaP\n",
    "szp   = sigmaP[2,2]  # elemento 3,3 de la matriz sigmaP\n",
    "typzp = sigmaP[1,2]  # elemento 2,3 de la matriz sigmaP\n",
    "txpzp = sigmaP[0,2]  # elemento 1,3 de la matriz sigmaP \n",
    "txpyp = sigmaP[0,1]  # elemento 1,2 de la matriz sigmaP "
   ]
  },
  {
   "cell_type": "code",
   "execution_count": 7,
   "metadata": {
    "colab": {
     "base_uri": "https://localhost:8080/",
     "height": 38
    },
    "id": "k_7k9Lsq8lYS",
    "outputId": "da1326c2-c1d3-4552-8daa-891c226a2a56"
   },
   "outputs": [
    {
     "data": {
      "text/latex": [
       "$\\displaystyle \\sigma_{x'} = \\alpha_{1} \\left(\\alpha_{1} \\sigma_{x} + \\beta_{1} \\tau_{xy} + \\gamma_{1} \\tau_{xz}\\right) + \\beta_{1} \\left(\\alpha_{1} \\tau_{xy} + \\beta_{1} \\sigma_{y} + \\gamma_{1} \\tau_{yz}\\right) + \\gamma_{1} \\left(\\alpha_{1} \\tau_{xz} + \\beta_{1} \\tau_{yz} + \\gamma_{1} \\sigma_{z}\\right)$"
      ],
      "text/plain": [
       "<IPython.core.display.Math object>"
      ]
     },
     "execution_count": 7,
     "metadata": {},
     "output_type": "execute_result"
    }
   ],
   "source": [
    "imprimir(r\"\\sigma_{x'} = \", sxp)"
   ]
  },
  {
   "cell_type": "code",
   "execution_count": 8,
   "metadata": {
    "colab": {
     "base_uri": "https://localhost:8080/",
     "height": 38
    },
    "id": "zkEVdn9JnSmh",
    "outputId": "4cd2aeac-6e95-4576-b096-db10b61b97df"
   },
   "outputs": [
    {
     "data": {
      "text/latex": [
       "$\\displaystyle \\sigma_{y'} = \\alpha_{2} \\left(\\alpha_{2} \\sigma_{x} + \\beta_{2} \\tau_{xy} + \\gamma_{2} \\tau_{xz}\\right) + \\beta_{2} \\left(\\alpha_{2} \\tau_{xy} + \\beta_{2} \\sigma_{y} + \\gamma_{2} \\tau_{yz}\\right) + \\gamma_{2} \\left(\\alpha_{2} \\tau_{xz} + \\beta_{2} \\tau_{yz} + \\gamma_{2} \\sigma_{z}\\right)$"
      ],
      "text/plain": [
       "<IPython.core.display.Math object>"
      ]
     },
     "execution_count": 8,
     "metadata": {},
     "output_type": "execute_result"
    }
   ],
   "source": [
    "imprimir(r\"\\sigma_{y'} = \", syp)"
   ]
  },
  {
   "cell_type": "code",
   "execution_count": 9,
   "metadata": {
    "colab": {
     "base_uri": "https://localhost:8080/",
     "height": 38
    },
    "id": "fPXaS8Y9nSmj",
    "outputId": "1ca13f8f-2539-410f-a425-c189670fadd4"
   },
   "outputs": [
    {
     "data": {
      "text/latex": [
       "$\\displaystyle \\sigma_{z'} = \\alpha_{3} \\left(\\alpha_{3} \\sigma_{x} + \\beta_{3} \\tau_{xy} + \\gamma_{3} \\tau_{xz}\\right) + \\beta_{3} \\left(\\alpha_{3} \\tau_{xy} + \\beta_{3} \\sigma_{y} + \\gamma_{3} \\tau_{yz}\\right) + \\gamma_{3} \\left(\\alpha_{3} \\tau_{xz} + \\beta_{3} \\tau_{yz} + \\gamma_{3} \\sigma_{z}\\right)$"
      ],
      "text/plain": [
       "<IPython.core.display.Math object>"
      ]
     },
     "execution_count": 9,
     "metadata": {},
     "output_type": "execute_result"
    }
   ],
   "source": [
    "imprimir(r\"\\sigma_{z'} = \", szp)"
   ]
  },
  {
   "cell_type": "code",
   "execution_count": 10,
   "metadata": {
    "colab": {
     "base_uri": "https://localhost:8080/",
     "height": 38
    },
    "id": "n_0ofZwEnSml",
    "outputId": "f96c4b39-2f37-4377-880e-e24f93fec235"
   },
   "outputs": [
    {
     "data": {
      "text/latex": [
       "$\\displaystyle \\tau_{y'z'} = \\alpha_{3} \\left(\\alpha_{2} \\sigma_{x} + \\beta_{2} \\tau_{xy} + \\gamma_{2} \\tau_{xz}\\right) + \\beta_{3} \\left(\\alpha_{2} \\tau_{xy} + \\beta_{2} \\sigma_{y} + \\gamma_{2} \\tau_{yz}\\right) + \\gamma_{3} \\left(\\alpha_{2} \\tau_{xz} + \\beta_{2} \\tau_{yz} + \\gamma_{2} \\sigma_{z}\\right)$"
      ],
      "text/plain": [
       "<IPython.core.display.Math object>"
      ]
     },
     "execution_count": 10,
     "metadata": {},
     "output_type": "execute_result"
    }
   ],
   "source": [
    "imprimir(r\"\\tau_{y'z'} = \", typzp)"
   ]
  },
  {
   "cell_type": "code",
   "execution_count": 11,
   "metadata": {
    "colab": {
     "base_uri": "https://localhost:8080/",
     "height": 38
    },
    "id": "xgwALI5M85co",
    "outputId": "a66af31a-e111-480d-901a-c7bf7f0de520"
   },
   "outputs": [
    {
     "data": {
      "text/latex": [
       "$\\displaystyle \\tau_{x'z'} = \\alpha_{3} \\left(\\alpha_{1} \\sigma_{x} + \\beta_{1} \\tau_{xy} + \\gamma_{1} \\tau_{xz}\\right) + \\beta_{3} \\left(\\alpha_{1} \\tau_{xy} + \\beta_{1} \\sigma_{y} + \\gamma_{1} \\tau_{yz}\\right) + \\gamma_{3} \\left(\\alpha_{1} \\tau_{xz} + \\beta_{1} \\tau_{yz} + \\gamma_{1} \\sigma_{z}\\right)$"
      ],
      "text/plain": [
       "<IPython.core.display.Math object>"
      ]
     },
     "execution_count": 11,
     "metadata": {},
     "output_type": "execute_result"
    }
   ],
   "source": [
    "imprimir(r\"\\tau_{x'z'} = \", txpzp)"
   ]
  },
  {
   "cell_type": "code",
   "execution_count": 12,
   "metadata": {
    "colab": {
     "base_uri": "https://localhost:8080/",
     "height": 38
    },
    "id": "FoKC5l4q9DTt",
    "outputId": "e7483510-3e24-4536-c9e1-9579b0a36bef"
   },
   "outputs": [
    {
     "data": {
      "text/latex": [
       "$\\displaystyle \\tau_{x'y'} = \\alpha_{2} \\left(\\alpha_{1} \\sigma_{x} + \\beta_{1} \\tau_{xy} + \\gamma_{1} \\tau_{xz}\\right) + \\beta_{2} \\left(\\alpha_{1} \\tau_{xy} + \\beta_{1} \\sigma_{y} + \\gamma_{1} \\tau_{yz}\\right) + \\gamma_{2} \\left(\\alpha_{1} \\tau_{xz} + \\beta_{1} \\tau_{yz} + \\gamma_{1} \\sigma_{z}\\right)$"
      ],
      "text/plain": [
       "<IPython.core.display.Math object>"
      ]
     },
     "execution_count": 12,
     "metadata": {},
     "output_type": "execute_result"
    }
   ],
   "source": [
    "imprimir(r\"\\tau_{x'y'} = \", txpyp)"
   ]
  },
  {
   "cell_type": "markdown",
   "metadata": {
    "id": "4m9kyexVBjVN"
   },
   "source": [
    "Las ecuaciones anteriores pueden expresarse de forma matricial, como $\\ma{\\sigma'} = \\ma{T}_{\\ma{\\sigma}} \\ma{\\sigma}$, es decir,\n",
    "\n",
    "$$\n",
    "\t\\underbrace{\n",
    "   \\begin{pmatrix}\n",
    "      \\sigma_{x'}\\\\\n",
    "      \\sigma_{y'}\\\\\n",
    "      \\sigma_{z'}\\\\\n",
    "      \\tau_{y'z'}\\\\\n",
    "      \\tau_{x'z'}\\\\\n",
    "      \\tau_{x'y'}\n",
    "   \\end{pmatrix}}_{\\ve{\\sigma}'}\n",
    "   =\n",
    "   \\underbrace{\\begin{pmatrix}\n",
    "      \\alpha_1^2         & \\beta_1^2        & \\gamma_1^2         & 2 \\gamma_1\\ \\beta_1                 & 2 \\gamma_1\\ \\alpha_1                  & 2 \\alpha_1\\ \\beta_1                \\\\\n",
    "      \\alpha_2^2         & \\beta_2^2        & \\gamma_2^2         & 2 \\gamma_2\\ \\beta_2                 & 2 \\gamma_2\\ \\alpha_2                  & 2 \\alpha_2\\ \\beta_2                \\\\\n",
    "      \\alpha_3^2         & \\beta_3^2        & \\gamma_3^2         & 2 \\gamma_3\\ \\beta_3                 & 2 \\gamma_3\\ \\alpha_3                  & 2 \\alpha_3\\ \\beta_3                \\\\\n",
    "      \\alpha_2\\ \\alpha_3 & \\beta_2\\ \\beta_3 & \\gamma_2\\ \\gamma_3 & \\gamma_2\\ \\beta_3+\\beta_2\\ \\gamma_3 & \\gamma_2\\ \\alpha_3+\\alpha_2\\ \\gamma_3 & \\alpha_2\\ \\beta_3+\\beta_2\\ \\alpha_3\\\\\n",
    "      \\alpha_1\\ \\alpha_3 & \\beta_1\\ \\beta_3 & \\gamma_1\\ \\gamma_3 & \\gamma_1\\ \\beta_3+\\beta_1\\ \\gamma_3 & \\gamma_1\\ \\alpha_3+\\alpha_1\\ \\gamma_3 & \\alpha_1\\ \\beta_3+\\beta_1\\ \\alpha_3\\\\\n",
    "      \\alpha_1\\ \\alpha_2 & \\beta_1\\ \\beta_2 & \\gamma_1\\ \\gamma_2 & \\gamma_1\\ \\beta_2+\\beta_1\\ \\gamma_2 & \\gamma_1\\ \\alpha_2+\\alpha_1\\ \\gamma_2 & \\alpha_1\\ \\beta_2+\\beta_1\\ \\alpha_2\n",
    "   \\end{pmatrix}}_{\\ma{T}_\\ve{\\sigma}}\n",
    "   \\underbrace{\n",
    "   \\begin{pmatrix}\n",
    "      \\sigma_x\\\\\n",
    "      \\sigma_y\\\\\n",
    "      \\sigma_z\\\\\n",
    "      \\tau_{yz}\\\\\n",
    "      \\tau_{xz}\\\\\n",
    "      \\tau_{xy}\n",
    "   \\end{pmatrix}}_{\\ve{\\sigma}};\n",
    "$$\n",
    "\n",
    "por medio del siguiente comando de `sympy` se puede calcular la matriz $\\ma{T}_\\ve{\\sigma}$:"
   ]
  },
  {
   "cell_type": "code",
   "execution_count": 13,
   "metadata": {
    "id": "w_L98PIEBriY"
   },
   "outputs": [],
   "source": [
    "Tsigma = linear_eq_to_matrix((sxp, syp, szp, typzp, txpzp, txpyp), \n",
    "                             (sx,  sy,  sz,  tyz,   txz,   txy) )[0]"
   ]
  },
  {
   "cell_type": "code",
   "execution_count": 14,
   "metadata": {
    "colab": {
     "base_uri": "https://localhost:8080/",
     "height": 140
    },
    "id": "JbmxJuhTnSmr",
    "outputId": "86228613-b143-401c-eded-c19babae57a1"
   },
   "outputs": [
    {
     "data": {
      "text/latex": [
       "$\\displaystyle \\ma{T}_{\\ma{\\sigma}} = \\left[\\begin{matrix}\\alpha_{1}^{2} & \\beta_{1}^{2} & \\gamma_{1}^{2} & 2 \\beta_{1} \\gamma_{1} & 2 \\alpha_{1} \\gamma_{1} & 2 \\alpha_{1} \\beta_{1}\\\\\\alpha_{2}^{2} & \\beta_{2}^{2} & \\gamma_{2}^{2} & 2 \\beta_{2} \\gamma_{2} & 2 \\alpha_{2} \\gamma_{2} & 2 \\alpha_{2} \\beta_{2}\\\\\\alpha_{3}^{2} & \\beta_{3}^{2} & \\gamma_{3}^{2} & 2 \\beta_{3} \\gamma_{3} & 2 \\alpha_{3} \\gamma_{3} & 2 \\alpha_{3} \\beta_{3}\\\\\\alpha_{2} \\alpha_{3} & \\beta_{2} \\beta_{3} & \\gamma_{2} \\gamma_{3} & \\beta_{2} \\gamma_{3} + \\beta_{3} \\gamma_{2} & \\alpha_{2} \\gamma_{3} + \\alpha_{3} \\gamma_{2} & \\alpha_{2} \\beta_{3} + \\alpha_{3} \\beta_{2}\\\\\\alpha_{1} \\alpha_{3} & \\beta_{1} \\beta_{3} & \\gamma_{1} \\gamma_{3} & \\beta_{1} \\gamma_{3} + \\beta_{3} \\gamma_{1} & \\alpha_{1} \\gamma_{3} + \\alpha_{3} \\gamma_{1} & \\alpha_{1} \\beta_{3} + \\alpha_{3} \\beta_{1}\\\\\\alpha_{1} \\alpha_{2} & \\beta_{1} \\beta_{2} & \\gamma_{1} \\gamma_{2} & \\beta_{1} \\gamma_{2} + \\beta_{2} \\gamma_{1} & \\alpha_{1} \\gamma_{2} + \\alpha_{2} \\gamma_{1} & \\alpha_{1} \\beta_{2} + \\alpha_{2} \\beta_{1}\\end{matrix}\\right]$"
      ],
      "text/plain": [
       "<IPython.core.display.Math object>"
      ]
     },
     "execution_count": 14,
     "metadata": {},
     "output_type": "execute_result"
    }
   ],
   "source": [
    "imprimir(r'\\ma{T}_{\\ma{\\sigma}} = ', Tsigma)"
   ]
  },
  {
   "cell_type": "markdown",
   "metadata": {},
   "source": [
    "Las ecuaciones anteriores se pueden escribir alternativamente como:\n",
    "\\begin{align*}\n",
    "        \\sigma_{x'} =& \\hve{e}_1'^T \\ma{\\sigma} \\hve{e}_1' & \\tau_{y'z'} =& \\hve{e}_2'^T \\ma{\\sigma} \\hve{e}_3' = \\hve{e}_3'^T \\ma{\\sigma} \\hve{e}_2' \\\\\n",
    "        \\sigma_{y'} =& \\hve{e}_2'^T \\ma{\\sigma} \\hve{e}_2' & \\tau_{x'z'} =& \\hve{e}_1'^T \\ma{\\sigma} \\hve{e}_3' = \\hve{e}_3'^T \\ma{\\sigma} \\hve{e}_1' \\\\\n",
    "        \\sigma_{z'} =& \\hve{e}_3'^T \\ma{\\sigma} \\hve{e}_3' & \\tau_{x'y'} =& \\hve{e}_1'^T \\ma{\\sigma} \\hve{e}_2' = \\hve{e}_2'^T \\ma{\\sigma} \\hve{e}_1'.\n",
    "\\end{align*}\n",
    "\n",
    "Esto se comprueba con el siguiente código:"
   ]
  },
  {
   "cell_type": "code",
   "execution_count": 15,
   "metadata": {},
   "outputs": [],
   "source": [
    "# Se extran los vectores e1g, e2g y e3g:\n",
    "e1g = T[:,0]\n",
    "e2g = T[:,1]\n",
    "e3g = T[:,2]"
   ]
  },
  {
   "cell_type": "markdown",
   "metadata": {},
   "source": [
    "Observe que todas las restas dan cero, lo que garantiza que las ecuaciones anteriores se satisfacen:"
   ]
  },
  {
   "cell_type": "code",
   "execution_count": 16,
   "metadata": {},
   "outputs": [
    {
     "data": {
      "image/png": "[encoded data removed]",
      "text/latex": [
       "$\\displaystyle \\left[\\begin{matrix}0\\\\0\\\\0\\\\0\\\\0\\\\0\\\\0\\\\0\\\\0\\end{matrix}\\right]$"
      ],
      "text/plain": [
       "⎡0⎤\n",
       "⎢ ⎥\n",
       "⎢0⎥\n",
       "⎢ ⎥\n",
       "⎢0⎥\n",
       "⎢ ⎥\n",
       "⎢0⎥\n",
       "⎢ ⎥\n",
       "⎢0⎥\n",
       "⎢ ⎥\n",
       "⎢0⎥\n",
       "⎢ ⎥\n",
       "⎢0⎥\n",
       "⎢ ⎥\n",
       "⎢0⎥\n",
       "⎢ ⎥\n",
       "⎣0⎦"
      ]
     },
     "execution_count": 16,
     "metadata": {},
     "output_type": "execute_result"
    }
   ],
   "source": [
    "expand(Matrix([\n",
    "    sxp   - (e1g.T*sigma*e1g)[0],\n",
    "    syp   - (e2g.T*sigma*e2g)[0],\n",
    "    szp   - (e3g.T*sigma*e3g)[0],\n",
    "    txpyp - (e1g.T*sigma*e2g)[0],\n",
    "    txpyp - (e2g.T*sigma*e1g)[0],\n",
    "    txpzp - (e1g.T*sigma*e3g)[0],\n",
    "    txpzp - (e3g.T*sigma*e1g)[0],\n",
    "    typzp - (e2g.T*sigma*e3g)[0],\n",
    "    typzp - (e3g.T*sigma*e2g)[0]    \n",
    "]))"
   ]
  }
 ],
 "metadata": {
  "colab": {
   "collapsed_sections": [],
   "include_colab_link": true,
   "provenance": []
  },
  "kernelspec": {
   "display_name": "Python 3 (ipykernel)",
   "language": "python",
   "name": "python3"
  },
  "language_info": {
   "codemirror_mode": {
    "name": "ipython",
    "version": 3
   },
   "file_extension": ".py",
   "mimetype": "text/x-python",
   "name": "python",
   "nbconvert_exporter": "python",
   "pygments_lexer": "ipython3",
   "version": "3.10.9"
  },
  "vscode": {
   "interpreter": {
    "hash": "916dbcbb3f70747c44a77c7bcd40155683ae19c65e1c03b4aa3499c5328201f1"
   }
  }
 },
 "nbformat": 4,
 "nbformat_minor": 4
}
