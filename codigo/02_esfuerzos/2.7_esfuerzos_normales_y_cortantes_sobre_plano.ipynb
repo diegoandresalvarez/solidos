{
 "cells": [
  {
   "cell_type": "markdown",
   "metadata": {
    "id": "2pOZDC-bnLTv"
   },
   "source": [
    "# 2.7. Esfuerzos normales y tangenciales sobre un plano\n",
    "\n",
    "|Quién | Correo | Fecha | Qué hizo |\n",
    "| ---  | --- | ---  | ---      |\n",
    "|Michael Heredia Pérez | <mherediap@unal.edu.co> | Julio 14, 2022 | Conversión de código de MAXIMA a Python|\n",
    "|Michael Heredia Pérez | <mherediap@unal.edu.co> | Septiembre 7, 2022 | Mejorando legibilidad|\n",
    "|Diego Andrés Alvarez | <daalvarez@unal.edu.co>  | Septiembre 7, 2022 | Cálculo de los esfuerzos cortantes sobre los planos normales a los vectores $\\hat{\\boldsymbol{e}}_1 \\equiv \\boldsymbol{\\hat i}$, $\\hat{\\boldsymbol{e}}_2 \\equiv \\boldsymbol{\\hat j}$ y $\\hat{\\boldsymbol{e}}_3 \\equiv \\boldsymbol{\\hat k}$                  |\n",
    "|Juan Nicolás Ramírez | <jnramirezg@unal.edu.co> | Septiembre 8, 2022 |  Simplificando programa                |\n",
    "\n",
    "Verificación de las operaciones realizadas."
   ]
  },
  {
   "cell_type": "markdown",
   "metadata": {},
   "source": [
    "$$\n",
    "\\newcommand{\\ve}[1]{{\\vec{\\boldsymbol{#1}}}}\n",
    "\\newcommand{\\ma}[1]{{\\boldsymbol{#1}}}\n",
    "\\newcommand{\\hve}[1]{{\\,\\hat{\\!\\boldsymbol{#1}}}}\n",
    "$$"
   ]
  },
  {
   "cell_type": "code",
   "execution_count": 1,
   "metadata": {
    "id": "MyIMIKxnnG0j"
   },
   "outputs": [],
   "source": [
    "from sympy import init_printing, latex, Matrix, expand, symbols\n",
    "\n",
    "# Para imprimir bonito\n",
    "init_printing()\n",
    "from IPython.display import Math                 \n",
    "def imprimir (texto1, variable, texto2=\"\"):\n",
    "    return Math(texto1 +  rf'{latex(variable)}' + texto2)"
   ]
  },
  {
   "cell_type": "markdown",
   "metadata": {
    "id": "5Ik7bF5VnsYs"
   },
   "source": [
    "Se definen las variables simbólicas necesarias."
   ]
  },
  {
   "cell_type": "code",
   "execution_count": 2,
   "metadata": {
    "colab": {
     "base_uri": "https://localhost:8080/",
     "height": 38
    },
    "id": "wBkCUDEunnka",
    "outputId": "ae5fa7ae-6272-400a-9525-f9cb956bac8c"
   },
   "outputs": [],
   "source": [
    "sx, sy, sz        = symbols(\"sigma_x, sigma_y, sigma_z\")\n",
    "txy, txz, tyz     = symbols(\"tau_xy, tau_xz, tau_yz\")\n",
    "alfa, beta, gamma = symbols(\"alpha, beta, gamma\")"
   ]
  },
  {
   "cell_type": "markdown",
   "metadata": {
    "id": "RNSrWyIin2MM"
   },
   "source": [
    "Se define la matriz de tensiones en coordenadas rectangulares $\\ma{\\sigma}$:\n",
    "\n",
    "$$\n",
    "\\ma{\\sigma} = \n",
    "\\begin{bmatrix}\n",
    "\t\\sigma_x  & \\tau_{xy} & \\tau_{xz}\\\\\n",
    "\t\\tau_{xy} & \\sigma_y  & \\tau_{yz}\\\\\n",
    "\t\\tau_{xz} & \\tau_{yz} & \\sigma_z\n",
    "\\end{bmatrix}\n",
    "$$        "
   ]
  },
  {
   "cell_type": "code",
   "execution_count": 3,
   "metadata": {
    "colab": {
     "base_uri": "https://localhost:8080/",
     "height": 78
    },
    "id": "DW_E0619n1OI",
    "outputId": "1eb85b13-4257-40fd-f1db-4301ffbbca53"
   },
   "outputs": [
    {
     "data": {
      "text/latex": [
       "$\\displaystyle \\ma{\\sigma} = \\left[\\begin{matrix}\\sigma_{x} & \\tau_{xy} & \\tau_{xz}\\\\\\tau_{xy} & \\sigma_{y} & \\tau_{yz}\\\\\\tau_{xz} & \\tau_{yz} & \\sigma_{z}\\end{matrix}\\right]$"
      ],
      "text/plain": [
       "<IPython.core.display.Math object>"
      ]
     },
     "execution_count": 3,
     "metadata": {},
     "output_type": "execute_result"
    }
   ],
   "source": [
    "sigma = Matrix([[ sx, txy, txz],\n",
    "                [txy,  sy, tyz],\n",
    "                [txz, tyz,  sz]])\n",
    "imprimir(r\"\\ma{\\sigma} = \", sigma)"
   ]
  },
  {
   "cell_type": "markdown",
   "metadata": {
    "id": "ZjLI-hiHojv7"
   },
   "source": [
    "Se define el vector columna $\\hve{n}$, almacenándolo en la variable ```ng``` (n gorrito):"
   ]
  },
  {
   "cell_type": "code",
   "execution_count": 4,
   "metadata": {
    "colab": {
     "base_uri": "https://localhost:8080/",
     "height": 78
    },
    "id": "lvVcnHAuoWP4",
    "outputId": "3a3c838a-0c22-42f1-a2be-1a0ccef4c5ba"
   },
   "outputs": [
    {
     "data": {
      "text/latex": [
       "$\\displaystyle \\hve{n} = \\left[\\begin{matrix}\\alpha\\\\\\beta\\\\\\gamma\\end{matrix}\\right]$"
      ],
      "text/plain": [
       "<IPython.core.display.Math object>"
      ]
     },
     "execution_count": 4,
     "metadata": {},
     "output_type": "execute_result"
    }
   ],
   "source": [
    "ng = Matrix([alfa, beta, gamma])\n",
    "imprimir(r\"\\hve{n} = \", ng)"
   ]
  },
  {
   "cell_type": "markdown",
   "metadata": {
    "id": "tLNdzbgYo-75"
   },
   "source": [
    "Se calcula el vector $\\ve{q}$"
   ]
  },
  {
   "cell_type": "code",
   "execution_count": 5,
   "metadata": {
    "colab": {
     "base_uri": "https://localhost:8080/",
     "height": 78
    },
    "id": "mc6xwpRJo8TW",
    "outputId": "116e4647-add4-4c00-9654-3af44f9b2c92"
   },
   "outputs": [
    {
     "data": {
      "text/latex": [
       "$\\displaystyle \\ve{q} = \\left[\\begin{matrix}\\alpha \\sigma_{x} + \\beta \\tau_{xy} + \\gamma \\tau_{xz}\\\\\\alpha \\tau_{xy} + \\beta \\sigma_{y} + \\gamma \\tau_{yz}\\\\\\alpha \\tau_{xz} + \\beta \\tau_{yz} + \\gamma \\sigma_{z}\\end{matrix}\\right]$"
      ],
      "text/plain": [
       "<IPython.core.display.Math object>"
      ]
     },
     "execution_count": 5,
     "metadata": {},
     "output_type": "execute_result"
    }
   ],
   "source": [
    "q = sigma*ng\n",
    "imprimir(r\"\\ve{q} = \", q)"
   ]
  },
  {
   "cell_type": "markdown",
   "metadata": {
    "id": "PNexUSzwpNoR"
   },
   "source": [
    "Se hace el producto punto $\\left \\langle \\ve{q}, \\hve{n} \\right \\rangle$ para obtener el escalar $\\sigma_n$ "
   ]
  },
  {
   "cell_type": "code",
   "execution_count": 6,
   "metadata": {
    "colab": {
     "base_uri": "https://localhost:8080/",
     "height": 38
    },
    "id": "KNY9-geapHll",
    "outputId": "2e7fa766-3f1b-4684-ff68-6add1907b096"
   },
   "outputs": [
    {
     "data": {
      "text/latex": [
       "$\\displaystyle \\sigma_n = \\alpha^{2} \\sigma_{x} + 2 \\alpha \\beta \\tau_{xy} + 2 \\alpha \\gamma \\tau_{xz} + \\beta^{2} \\sigma_{y} + 2 \\beta \\gamma \\tau_{yz} + \\gamma^{2} \\sigma_{z}$"
      ],
      "text/plain": [
       "<IPython.core.display.Math object>"
      ]
     },
     "execution_count": 6,
     "metadata": {},
     "output_type": "execute_result"
    }
   ],
   "source": [
    "sigma_n = expand(q.dot(ng))       # es equivalente a: sigma_n = sp.expand(q.T*ng)[0]\n",
    "imprimir(r\"\\sigma_n = \", sigma_n)"
   ]
  },
  {
   "cell_type": "markdown",
   "metadata": {
    "id": "DVUFj0DVqTlX"
   },
   "source": [
    "Finalmente, se calcula el valor del esfuerzo cortante (su magnitud) sabiendo que:  \n",
    "\n",
    "$$|\\tau_n| := \\left \\| \\boldsymbol{\\sigma_s} \\right \\|$$ \n",
    "\n",
    "Teniendo en cuenta que $\\left \\| \\ve{q} \\right \\|^2 = \\ve{q} \\cdot\\ve{q}$, y utilizando Pitágoras, resulta que:\n",
    "\n",
    "$$ \\left \\| \\boldsymbol{q} \\right \\|^2 = \\ve{q} \\cdot\\ve{q} = \\sigma_n^2 + \\tau_n^2;$$\n",
    "\n",
    "de donde se deduce que $$\\tau_n^2 = \\ve{q} \\cdot \\ve{q} - \\sigma_n^2.$$"
   ]
  },
  {
   "cell_type": "code",
   "execution_count": 8,
   "metadata": {
    "colab": {
     "base_uri": "https://localhost:8080/",
     "height": 41
    },
    "id": "ea9LeRLzp5M0",
    "outputId": "a4658c07-d55e-4dcf-d4a4-446ade1c0cf1"
   },
   "outputs": [
    {
     "data": {
      "text/latex": [
       "$\\displaystyle \\tau_n^2 = \\left(\\alpha \\sigma_{x} + \\beta \\tau_{xy} + \\gamma \\tau_{xz}\\right)^{2} + \\left(\\alpha \\tau_{xy} + \\beta \\sigma_{y} + \\gamma \\tau_{yz}\\right)^{2} + \\left(\\alpha \\tau_{xz} + \\beta \\tau_{yz} + \\gamma \\sigma_{z}\\right)^{2} - \\left(\\alpha^{2} \\sigma_{x} + 2 \\alpha \\beta \\tau_{xy} + 2 \\alpha \\gamma \\tau_{xz} + \\beta^{2} \\sigma_{y} + 2 \\beta \\gamma \\tau_{yz} + \\gamma^{2} \\sigma_{z}\\right)^{2}$"
      ],
      "text/plain": [
       "<IPython.core.display.Math object>"
      ]
     },
     "execution_count": 8,
     "metadata": {},
     "output_type": "execute_result"
    }
   ],
   "source": [
    "taun2 = q.dot(q) - sigma_n**2        # sp.Transpose(q)*q = q.T * q  \n",
    "imprimir(r\"\\tau_n^2 = \", taun2)  "
   ]
  },
  {
   "cell_type": "markdown",
   "metadata": {},
   "source": [
    "Calculemos los esfuerzos cortantes sobre los planos normales a los vectores $\\hat{\\boldsymbol{e}}_1 \\equiv \\boldsymbol{\\hat i}$, $\\hat{\\boldsymbol{e}}_2 \\equiv \\boldsymbol{\\hat j}$ y $\\hat{\\boldsymbol{e}}_3 \\equiv \\boldsymbol{\\hat k}$, respectivamente:"
   ]
  },
  {
   "cell_type": "code",
   "execution_count": 9,
   "metadata": {},
   "outputs": [
    {
     "data": {
      "image/png": "[encoded data removed]",
      "text/latex": [
       "$\\displaystyle \\tau_{xy}^{2} + \\tau_{xz}^{2}$"
      ],
      "text/plain": [
       "    2       2\n",
       "τ_xy  + τ_xz "
      ]
     },
     "execution_count": 9,
     "metadata": {},
     "output_type": "execute_result"
    }
   ],
   "source": [
    "taun2.subs([(alfa,1), (beta,0), (gamma, 0)])"
   ]
  },
  {
   "cell_type": "code",
   "execution_count": 10,
   "metadata": {},
   "outputs": [
    {
     "data": {
      "image/png": "[encoded data removed]",
      "text/latex": [
       "$\\displaystyle \\tau_{xy}^{2} + \\tau_{yz}^{2}$"
      ],
      "text/plain": [
       "    2       2\n",
       "τ_xy  + τ_yz "
      ]
     },
     "execution_count": 10,
     "metadata": {},
     "output_type": "execute_result"
    }
   ],
   "source": [
    "taun2.subs([(alfa,0), (beta,1), (gamma, 0)])"
   ]
  },
  {
   "cell_type": "code",
   "execution_count": 11,
   "metadata": {},
   "outputs": [
    {
     "data": {
      "image/png": "[encoded data removed]",
      "text/latex": [
       "$\\displaystyle \\tau_{xz}^{2} + \\tau_{yz}^{2}$"
      ],
      "text/plain": [
       "    2       2\n",
       "τ_xz  + τ_yz "
      ]
     },
     "execution_count": 11,
     "metadata": {},
     "output_type": "execute_result"
    }
   ],
   "source": [
    "taun2.subs([(alfa,0), (beta,0), (gamma, 1)])"
   ]
  }
 ],
 "metadata": {
  "colab": {
   "authorship_tag": "ABX9TyMxSLZF8aJ6qHwFpqrN6+5+",
   "collapsed_sections": [],
   "include_colab_link": true,
   "provenance": []
  },
  "kernelspec": {
   "display_name": "Python 3 (ipykernel)",
   "language": "python",
   "name": "python3"
  },
  "language_info": {
   "codemirror_mode": {
    "name": "ipython",
    "version": 3
   },
   "file_extension": ".py",
   "mimetype": "text/x-python",
   "name": "python",
   "nbconvert_exporter": "python",
   "pygments_lexer": "ipython3",
   "version": "3.11.5"
  }
 },
 "nbformat": 4,
 "nbformat_minor": 4
}
