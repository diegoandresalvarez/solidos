{
 "cells": [
  {
   "cell_type": "markdown",
   "id": "50eb5222-7128-4e73-9c07-a461c39ba68a",
   "metadata": {},
   "source": [
    "# 2.9.4. Círculo de Mohr 3D interactivo\n",
    "\n",
    "**Basado en:** https://github.com/nicoguaro/notebooks_examples/blob/master/Mohr_circle.ipynb\n",
    "\n",
    "|Quién | Correo | Fecha | Qué hizo |\n",
    "| ---  | ---    | ---   | ---      |\n",
    "| Juan Nicolás Ramírez Giraldo | <jnramirezg@unal.edu.co> | Marzo 31, 2023     | Adaptando el código              |\n",
    "| Diego Andrés Alvarez Marín   | <daalvarez@unal.edu.co>  | Noviembre 23, 2024 | Mejorando la claridad del código |"
   ]
  },
  {
   "cell_type": "markdown",
   "id": "99a0e7da-4529-45d7-93e5-52facaad93f5",
   "metadata": {},
   "source": [
    "Instale `ipywidgets` si es la primera vez que ejecuta este código. Se hace con el comando\n",
    "\n",
    "`conda install ipywidgets`"
   ]
  },
  {
   "cell_type": "markdown",
   "id": "d318dac2-b7e7-41e4-9dfd-edfb772d4b1d",
   "metadata": {},
   "source": [
    "Importamos librerías y funciones necesarias:"
   ]
  },
  {
   "cell_type": "code",
   "execution_count": 1,
   "id": "e2d11b80-25a4-405e-a5d0-8270d19d0dc3",
   "metadata": {},
   "outputs": [],
   "source": [
    "from numpy import array, isclose\n",
    "from numpy.linalg import eigvalsh\n",
    "import matplotlib.pyplot as plt\n",
    "\n",
    "from ipywidgets import interact, IntSlider"
   ]
  },
  {
   "cell_type": "markdown",
   "id": "dd5666c6-3c30-4120-a4cc-a22eb90e4664",
   "metadata": {},
   "source": [
    "El círculo de Mohr en 3D se muestra en el siguiente gráfico:\n",
    "\n",
    "<img src=\"Circulo_Mohr_3D.png\" width=\"600\">"
   ]
  },
  {
   "cell_type": "code",
   "execution_count": 2,
   "id": "e1b1dd77-0368-43e6-9127-4195a8d04e36",
   "metadata": {},
   "outputs": [],
   "source": [
    "def circulo_mohr_3d(sx, sy, sz, tyz, txz, txy):\n",
    "\n",
    "    # se define el tensor de esfuerzos\n",
    "    sigma = array([[ sx, txy, txz],\n",
    "                   [txy,  sy, tyz],\n",
    "                   [txz, tyz,  sz]])  \n",
    "\n",
    "    # se calculan los esfuerzos principales (eigvalsh los retorna en ordenados ascendentemente)\n",
    "    s3, s2, s1 = eigvalsh(sigma)\n",
    "\n",
    "    # se crea el lienzo\n",
    "    plt.figure(figsize=(8,8))\n",
    "\n",
    "    # el gráfico se hace en un cuadrado\n",
    "    plt.axis('square')        \n",
    "\n",
    "    # se definen los tres círculos\n",
    "    C1 = plt.Circle(xy=((s2+s3)/2, 0), radius=(s2-s3)/2, edgecolor='r', facecolor='white' )\n",
    "    C2 = plt.Circle(xy=((s1+s3)/2, 0), radius=(s1-s3)/2, edgecolor='r', facecolor='orange')\n",
    "    C3 = plt.Circle(xy=((s1+s2)/2, 0), radius=(s1-s2)/2, edgecolor='r', facecolor='white' )\n",
    "\n",
    "    # y se grafican los círculos\n",
    "    ax = plt.gca()     \n",
    "    ax.add_artist(C2)\n",
    "    ax.add_artist(C1)\n",
    "    ax.add_artist(C3)\n",
    "\n",
    "    # radio del círculo más grande\n",
    "    R2 = (s1-s3)/2\n",
    "\n",
    "    if isclose(R2, 0):\n",
    "        # caso especial en el que no existe ningún círculo\n",
    "        plt.plot(s1, 0, \"o\")        \n",
    "        \n",
    "        offset = 0.07       \n",
    "        plt.text(s1 + offset, +offset, rf\"$\\sigma_1 = \\sigma_2 = \\sigma_3$ = {s1:.1f} Pa\", fontsize=12)\n",
    "\n",
    "        ax.set_xlim(s1 - 1, s1 + 1)\n",
    "        ax.set_ylim(s1 - 1, s1 + 1)\n",
    "    else:\n",
    "        # se grafican los puntos asociados a los esfuerzos principales\n",
    "        plt.plot(s1, 0, \"om\")\n",
    "        plt.plot(s2, 0, \"oc\")\n",
    "        plt.plot(s3, 0, \"oy\")\n",
    "\n",
    "        # junto con sus textos explicativos\n",
    "        offset = 0.07*abs(R2)        \n",
    "        plt.text(s1 + offset, +offset, rf\"$\\sigma_1$ = {s1:.1f} Pa\", fontsize=12, color=\"m\")\n",
    "        plt.text(s2 + offset, -offset, rf\"$\\sigma_2$ = {s2:.1f} Pa\", fontsize=12, color=\"c\")\n",
    "        plt.text(s3 + offset, +offset, rf\"$\\sigma_3$ = {s3:.1f} Pa\", fontsize=12, color=\"y\")\n",
    "\n",
    "        # definimos los límites del gráfico\n",
    "        ax.set_xlim(s3 - 0.1*abs(R2), s1 + 0.1*abs(R2))\n",
    "        ax.set_ylim(-1.1*R2, +1.1*R2)\n",
    "    \n",
    "    # se grafica la cuadrícula \n",
    "    ax.grid('on')\n",
    "    \n",
    "    # se grafican los ejes x y y con una línea más gruesa\n",
    "    ax.axhline(linewidth=2, color=\"k\")\n",
    "    ax.axvline(linewidth=2, color=\"k\")        \n",
    "\n",
    "    # se colocan las etiquetas a los ejes\n",
    "    ax.set_xlabel(r'$\\sigma_n$ [Pa]')\n",
    "    ax.set_ylabel(r'$\\tau_n$ [Pa]')    \n",
    "\n",
    "    # finalmente, se muestra el gráfico\n",
    "    plt.show()"
   ]
  },
  {
   "cell_type": "code",
   "execution_count": 3,
   "id": "06d42d92-4955-464e-bb03-aea31bd8b89b",
   "metadata": {},
   "outputs": [
    {
     "data": {
      "application/vnd.jupyter.widget-view+json": {
       "model_id": "a06393a974bb461b8f2fe0be3d409729",
       "version_major": 2,
       "version_minor": 0
      },
      "text/plain": [
       "interactive(children=(IntSlider(value=0, description='$\\\\sigma_x $ [Pa]', min=-100), IntSlider(value=0, descri…"
      ]
     },
     "metadata": {},
     "output_type": "display_data"
    }
   ],
   "source": [
    "interact(circulo_mohr_3d, \n",
    "         sx  = IntSlider(description=r'$\\sigma_x $ [Pa]', min=-100, max=100, value=0), \n",
    "         sy  = IntSlider(description=r'$\\sigma_y $ [Pa]', min=-100, max=100, value=0), \n",
    "         sz  = IntSlider(description=r'$\\sigma_z $ [Pa]', min=-100, max=100, value=0), \n",
    "         tyz = IntSlider(description=r'$\\tau_{yz}$ [Pa]', min=-100, max=100, value=0), \n",
    "         txz = IntSlider(description=r'$\\tau_{xz}$ [Pa]', min=-100, max=100, value=0), \n",
    "         txy = IntSlider(description=r'$\\tau_{xy}$ [Pa]', min=-100, max=100, value=0))\n",
    "\n",
    "# para que no imprima el mensaje final\n",
    "None"
   ]
  }
 ],
 "metadata": {
  "kernelspec": {
   "display_name": "Python 3 (ipykernel)",
   "language": "python",
   "name": "python3"
  },
  "language_info": {
   "codemirror_mode": {
    "name": "ipython",
    "version": 3
   },
   "file_extension": ".py",
   "mimetype": "text/x-python",
   "name": "python",
   "nbconvert_exporter": "python",
   "pygments_lexer": "ipython3",
   "version": "3.11.7"
  }
 },
 "nbformat": 4,
 "nbformat_minor": 5
}
