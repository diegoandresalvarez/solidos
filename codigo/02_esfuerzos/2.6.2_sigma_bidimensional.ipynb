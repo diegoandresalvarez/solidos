{
 "cells": [
  {
   "cell_type": "markdown",
   "metadata": {
    "id": "NAoS6ednVeVF"
   },
   "source": [
    "# 2.6.2. Particularización de la matriz de tensiones al caso bidimensional\n",
    "\n",
    "|Quién | Correo | Fecha | Qué hizo |\n",
    "| ---  | ---  | --- | ---      |\n",
    "|Michael Heredia Pérez | <mherediap@unal.edu.co> | Julio 13, 2022       | Conversión de código de MAXIMA a Python|\n",
    "|Michael Heredia Pérez | <mherediap@unal.edu.co> | Agosto 31, 2022      | Mejorando presentación                 |\n",
    "|Diego Andrés Alvarez  | <daalvarez@unal.edu.co>  | Septiembre 12, 2022 | Mejorando comentarios                  |\n",
    "|Juan Nicolás Ramírez  | <jnramirezg@unal.edu.co> | Febrero 2, 2023     |  Simplificando programa                |"
   ]
  },
  {
   "cell_type": "markdown",
   "metadata": {},
   "source": [
    "$$\n",
    "\\newcommand{\\ve}[1]{{\\vec{\\boldsymbol{#1}}}}\n",
    "\\newcommand{\\ma}[1]{{\\boldsymbol{#1}}}\n",
    "\\newcommand{\\hve}[1]{{\\,\\hat{\\!\\boldsymbol{#1}}}}\n",
    "$$"
   ]
  },
  {
   "cell_type": "code",
   "execution_count": 1,
   "metadata": {
    "id": "NqmgovsLVSru"
   },
   "outputs": [],
   "source": [
    "from sympy import init_printing, latex, symbols, sin, cos, Matrix, trigsimp, linear_eq_to_matrix, fu\n",
    "\n",
    "# Para imprimir bonito\n",
    "init_printing()\n",
    "from IPython.display import Math                 \n",
    "def imprimir (texto1, variable, texto2=\"\"):\n",
    "    return Math(texto1 +  rf'{latex(variable)}' + texto2)"
   ]
  },
  {
   "cell_type": "markdown",
   "metadata": {
    "id": "lw_gSrDMVm_E"
   },
   "source": [
    "Se definen las variables simbólicas necesarias."
   ]
  },
  {
   "cell_type": "code",
   "execution_count": 2,
   "metadata": {
    "colab": {
     "base_uri": "https://localhost:8080/",
     "height": 38
    },
    "id": "39gUJGhAVlSZ",
    "outputId": "1d8f3dc6-171c-4878-ee1f-019a9dcc00a7"
   },
   "outputs": [],
   "source": [
    "sx, sy, txy, t = symbols(\"sigma_x, sigma_y, tau_xy, theta\")"
   ]
  },
  {
   "cell_type": "markdown",
   "metadata": {
    "id": "ymtFOkhGV-gC"
   },
   "source": [
    "Se define la matriz de transformación $\\ma{T}$:\n",
    "\n",
    "$$ \\ma{T} = \n",
    "\\begin{bmatrix}\n",
    "\\cos{\\left(\\theta \\right)} & - \\sin{\\left(\\theta \\right)} & 0\\\\\n",
    "\\sin{\\left(\\theta \\right)} & \\cos{\\left(\\theta \\right)} & 0\\\\\n",
    "0 & 0 & 1\n",
    "\\end{bmatrix}\n",
    "$$"
   ]
  },
  {
   "cell_type": "code",
   "execution_count": 3,
   "metadata": {
    "colab": {
     "base_uri": "https://localhost:8080/",
     "height": 79
    },
    "id": "SrWOcBWeV9QC",
    "outputId": "b277baf8-0e8c-4d0f-fec8-d0752e1db81d"
   },
   "outputs": [
    {
     "data": {
      "text/latex": [
       "$\\displaystyle \\ma{T} = \\left[\\begin{matrix}\\cos{\\left(\\theta \\right)} & - \\sin{\\left(\\theta \\right)} & 0\\\\\\sin{\\left(\\theta \\right)} & \\cos{\\left(\\theta \\right)} & 0\\\\0 & 0 & 1\\end{matrix}\\right]$"
      ],
      "text/plain": [
       "<IPython.core.display.Math object>"
      ]
     },
     "execution_count": 3,
     "metadata": {},
     "output_type": "execute_result"
    }
   ],
   "source": [
    "T = Matrix([[cos(t), -sin(t),  0],\n",
    "            [sin(t),  cos(t),  0],\n",
    "            [     0,       0,  1]])\n",
    "\n",
    "imprimir(r\"\\ma{T} = \", T)"
   ]
  },
  {
   "cell_type": "markdown",
   "metadata": {
    "id": "htL68YaKYbje"
   },
   "source": [
    "Se define la matriz de tensiones en coordenadas rectangulares $\\ma{\\sigma}$:\n",
    "\n",
    "$$\n",
    "\\ma{\\sigma} = \n",
    "\\begin{bmatrix}\n",
    "\t\\sigma_x  & \\tau_{xy} & \\tau_{xz}\\\\\n",
    "\t\\tau_{xy} & \\sigma_y  & \\tau_{yz}\\\\\n",
    "\t\\tau_{xz} & \\tau_{yz} & \\sigma_z\n",
    "\\end{bmatrix}\n",
    "$$        "
   ]
  },
  {
   "cell_type": "code",
   "execution_count": 4,
   "metadata": {
    "colab": {
     "base_uri": "https://localhost:8080/",
     "height": 79
    },
    "id": "xNJkvFn5YQcb",
    "outputId": "06e3baf3-03fa-49ae-9ccf-51e329c6fd09"
   },
   "outputs": [
    {
     "data": {
      "text/latex": [
       "$\\displaystyle \\ma{\\sigma} = \\left[\\begin{matrix}\\sigma_{x} & \\tau_{xy} & 0\\\\\\tau_{xy} & \\sigma_{y} & 0\\\\0 & 0 & 0\\end{matrix}\\right]$"
      ],
      "text/plain": [
       "<IPython.core.display.Math object>"
      ]
     },
     "execution_count": 4,
     "metadata": {},
     "output_type": "execute_result"
    }
   ],
   "source": [
    "sigma = Matrix([[ sx, txy,  0],\n",
    "                [txy,  sy,  0],\n",
    "                [  0,   0,  0]])\n",
    "\n",
    "imprimir(r\"\\ma{\\sigma} = \", sigma)"
   ]
  },
  {
   "cell_type": "markdown",
   "metadata": {
    "id": "2bAWBKBSYxv9"
   },
   "source": [
    "Se calcula la matriz de tensiones $\\ma{\\sigma}'$ en el sistema de coordenadas especificadas por los vectores definidos en la matriz $\\ma{T}$ usando la ecuación:\n",
    "\n",
    "$$\n",
    "\\ma{\\sigma}' = \\ma{T}^T\\ma{\\sigma}\\ma{T}\n",
    "$$"
   ]
  },
  {
   "cell_type": "code",
   "execution_count": 5,
   "metadata": {
    "id": "Qq6EL7jfZIFY"
   },
   "outputs": [],
   "source": [
    "sigmaP = T.T*sigma*T\n",
    "# sp.Transpose(R) es lo mismo que R.T"
   ]
  },
  {
   "cell_type": "markdown",
   "metadata": {
    "id": "wHf---nubOI4"
   },
   "source": [
    "No contamos con la función ```trigreduce()``` de MAXIMA, pero podemos llegar a un resultado similar, poco simplificado utilizando ``trigsimp()``:"
   ]
  },
  {
   "cell_type": "code",
   "execution_count": 6,
   "metadata": {
    "id": "Jv6jXNc_bM23"
   },
   "outputs": [
    {
     "data": {
      "text/latex": [
       "$\\displaystyle \\ma{\\sigma'} = \\left[\\begin{matrix}\\frac{\\sigma_{x} \\cos{\\left(2 \\theta \\right)}}{2} + \\frac{\\sigma_{x}}{2} - \\frac{\\sigma_{y} \\cos{\\left(2 \\theta \\right)}}{2} + \\frac{\\sigma_{y}}{2} + \\tau_{xy} \\sin{\\left(2 \\theta \\right)} & - \\frac{\\sigma_{x} \\sin{\\left(2 \\theta \\right)}}{2} + \\frac{\\sigma_{y} \\sin{\\left(2 \\theta \\right)}}{2} + \\tau_{xy} \\cos{\\left(2 \\theta \\right)} & 0\\\\- \\frac{\\sigma_{x} \\sin{\\left(2 \\theta \\right)}}{2} + \\frac{\\sigma_{y} \\sin{\\left(2 \\theta \\right)}}{2} + \\tau_{xy} \\cos{\\left(2 \\theta \\right)} & - \\frac{\\sigma_{x} \\cos{\\left(2 \\theta \\right)}}{2} + \\frac{\\sigma_{x}}{2} + \\frac{\\sigma_{y} \\cos{\\left(2 \\theta \\right)}}{2} + \\frac{\\sigma_{y}}{2} - \\tau_{xy} \\sin{\\left(2 \\theta \\right)} & 0\\\\0 & 0 & 0\\end{matrix}\\right]$"
      ],
      "text/plain": [
       "<IPython.core.display.Math object>"
      ]
     },
     "execution_count": 6,
     "metadata": {},
     "output_type": "execute_result"
    }
   ],
   "source": [
    "# trigsimp() escribe la expresión en términos del ángulo doble\n",
    "sigmaP = trigsimp(sigmaP)\n",
    "imprimir(r\"\\ma{\\sigma'} = \", sigmaP)"
   ]
  },
  {
   "cell_type": "markdown",
   "metadata": {
    "id": "MQ6FMqXYZOtE"
   },
   "source": [
    "Se extraen los términos de la matriz de tensiones $\\ma{\\sigma'}$"
   ]
  },
  {
   "cell_type": "code",
   "execution_count": 7,
   "metadata": {
    "id": "qP9lhILFMYWZ"
   },
   "outputs": [],
   "source": [
    "sxp   = sigmaP[0,0]  # elemento 1,1 de la matriz sigmaP\n",
    "syp   = sigmaP[1,1]  # elemento 2,2 de la matriz sigmaP\n",
    "txpyp = sigmaP[0,1]  # elemento 1,2 de la matriz sigmaP "
   ]
  },
  {
   "cell_type": "code",
   "execution_count": 8,
   "metadata": {
    "colab": {
     "base_uri": "https://localhost:8080/",
     "height": 53
    },
    "id": "y6Iv1rviMk63",
    "outputId": "af974e81-45e5-4e3e-cd92-9730d18ee014"
   },
   "outputs": [
    {
     "data": {
      "text/latex": [
       "$\\displaystyle \\sigma_{x'}(\\theta) = \\frac{\\sigma_{x} \\cos{\\left(2 \\theta \\right)}}{2} + \\frac{\\sigma_{x}}{2} - \\frac{\\sigma_{y} \\cos{\\left(2 \\theta \\right)}}{2} + \\frac{\\sigma_{y}}{2} + \\tau_{xy} \\sin{\\left(2 \\theta \\right)}$"
      ],
      "text/plain": [
       "<IPython.core.display.Math object>"
      ]
     },
     "execution_count": 8,
     "metadata": {},
     "output_type": "execute_result"
    }
   ],
   "source": [
    "imprimir(r\"\\sigma_{x'}(\\theta) = \", sxp)"
   ]
  },
  {
   "cell_type": "code",
   "execution_count": 9,
   "metadata": {
    "colab": {
     "base_uri": "https://localhost:8080/",
     "height": 53
    },
    "id": "TFlUZccLMt8Z",
    "outputId": "6237e07f-d411-4031-909e-794e16526b9e"
   },
   "outputs": [
    {
     "data": {
      "text/latex": [
       "$\\displaystyle \\sigma_{y'}(\\theta) = - \\frac{\\sigma_{x} \\cos{\\left(2 \\theta \\right)}}{2} + \\frac{\\sigma_{x}}{2} + \\frac{\\sigma_{y} \\cos{\\left(2 \\theta \\right)}}{2} + \\frac{\\sigma_{y}}{2} - \\tau_{xy} \\sin{\\left(2 \\theta \\right)}$"
      ],
      "text/plain": [
       "<IPython.core.display.Math object>"
      ]
     },
     "execution_count": 9,
     "metadata": {},
     "output_type": "execute_result"
    }
   ],
   "source": [
    "imprimir(r\"\\sigma_{y'}(\\theta) = \", syp)"
   ]
  },
  {
   "cell_type": "code",
   "execution_count": 10,
   "metadata": {
    "colab": {
     "base_uri": "https://localhost:8080/",
     "height": 53
    },
    "id": "hOTb4UrjMxaY",
    "outputId": "cf3830c0-6d85-4fd7-aa86-fa88a243d178"
   },
   "outputs": [
    {
     "data": {
      "text/latex": [
       "$\\displaystyle \\tau_{x'y'}(\\theta) = - \\frac{\\sigma_{x} \\sin{\\left(2 \\theta \\right)}}{2} + \\frac{\\sigma_{y} \\sin{\\left(2 \\theta \\right)}}{2} + \\tau_{xy} \\cos{\\left(2 \\theta \\right)}$"
      ],
      "text/plain": [
       "<IPython.core.display.Math object>"
      ]
     },
     "execution_count": 10,
     "metadata": {},
     "output_type": "execute_result"
    }
   ],
   "source": [
    "imprimir(r\"\\tau_{x'y'}(\\theta) = \", txpyp)"
   ]
  },
  {
   "cell_type": "markdown",
   "metadata": {
    "id": "LifgiCfgHoxg"
   },
   "source": [
    "Las tres ecuaciones anteriores las podemos expresar de forma matricial como:\n",
    "\n",
    "$$\n",
    "\\begin{pmatrix}\n",
    "\\sigma_{x'}\\\\\n",
    "\\sigma_{y'}\\\\\n",
    "\\tau_{x'y'}\n",
    "\\end{pmatrix}\n",
    "=\n",
    "\\underbrace{%\n",
    "   \\begin{pmatrix}\n",
    "   \\cos^2\\theta           & \\sin^2\\theta          &  2\\sin\\theta\\cos\\theta \\\\\n",
    "   \\sin^2\\theta           & \\cos^2\\theta          & -2\\sin\\theta\\cos\\theta \\\\\n",
    "   -\\sin\\theta\\cos\\theta  & \\sin\\theta\\cos\\theta  & \\cos^2\\theta - \\sin^2\\theta\n",
    "   \\end{pmatrix}}_{\\ma{T}_{\\ve{\\sigma},\\text{2D}}}\n",
    "\\begin{pmatrix}\n",
    "\\sigma_x\\\\\n",
    "\\sigma_y\\\\\n",
    "\\tau_{xy}\n",
    "\\end{pmatrix}.\n",
    "$$\n",
    "\n",
    "Por lo tanto, usamos la función ```linear_eq_to_matrix()``` para encontrar la matriz $\\ma{T}_{\\ve{\\sigma},\\text{2D}}$:"
   ]
  },
  {
   "cell_type": "code",
   "execution_count": 11,
   "metadata": {
    "colab": {
     "base_uri": "https://localhost:8080/",
     "height": 82
    },
    "id": "7ayiWcYgIE_2",
    "outputId": "26cb10e8-9341-4b26-f3bf-41d15c0716af"
   },
   "outputs": [
    {
     "data": {
      "text/latex": [
       "$\\displaystyle \\ma{T}_{\\ve{\\sigma},\\text{2D}} = \\left[\\begin{matrix}\\cos^{2}{\\left(\\theta \\right)} & \\sin^{2}{\\left(\\theta \\right)} & \\sin{\\left(2 \\theta \\right)}\\\\\\sin^{2}{\\left(\\theta \\right)} & \\cos^{2}{\\left(\\theta \\right)} & - \\sin{\\left(2 \\theta \\right)}\\\\- \\frac{\\sin{\\left(2 \\theta \\right)}}{2} & \\frac{\\sin{\\left(2 \\theta \\right)}}{2} & \\cos{\\left(2 \\theta \\right)}\\end{matrix}\\right]$"
      ],
      "text/plain": [
       "<IPython.core.display.Math object>"
      ]
     },
     "execution_count": 11,
     "metadata": {},
     "output_type": "execute_result"
    }
   ],
   "source": [
    "Tsigma_2D = trigsimp(linear_eq_to_matrix([sxp, syp, txpyp], [sx, sy, txy])[0])\n",
    "imprimir(r\"\\ma{T}_{\\ve{\\sigma},\\text{2D}} = \", Tsigma_2D)"
   ]
  },
  {
   "cell_type": "markdown",
   "metadata": {},
   "source": [
    "En Python tenemos los [algoritmos de Fu et. al.](https://docs.sympy.org/latest/modules/simplify/fu.html) para llevar a cabo las equivalencias trigonométricas. La función ```TR11``` nos ayuda a reducir las expresiones en función del ángulo sencillo:"
   ]
  },
  {
   "cell_type": "code",
   "execution_count": 12,
   "metadata": {},
   "outputs": [
    {
     "data": {
      "text/latex": [
       "$\\displaystyle \\ma{T}_{\\ve{\\sigma},\\text{2D}} = \\left[\\begin{matrix}\\cos^{2}{\\left(\\theta \\right)} & \\sin^{2}{\\left(\\theta \\right)} & 2 \\sin{\\left(\\theta \\right)} \\cos{\\left(\\theta \\right)}\\\\\\sin^{2}{\\left(\\theta \\right)} & \\cos^{2}{\\left(\\theta \\right)} & - 2 \\sin{\\left(\\theta \\right)} \\cos{\\left(\\theta \\right)}\\\\- \\sin{\\left(\\theta \\right)} \\cos{\\left(\\theta \\right)} & \\sin{\\left(\\theta \\right)} \\cos{\\left(\\theta \\right)} & - \\sin^{2}{\\left(\\theta \\right)} + \\cos^{2}{\\left(\\theta \\right)}\\end{matrix}\\right]$"
      ],
      "text/plain": [
       "<IPython.core.display.Math object>"
      ]
     },
     "execution_count": 12,
     "metadata": {},
     "output_type": "execute_result"
    }
   ],
   "source": [
    "from sympy.simplify.fu import TR11\n",
    "imprimir(r\"\\ma{T}_{\\ve{\\sigma},\\text{2D}} = \", TR11(Tsigma_2D))"
   ]
  }
 ],
 "metadata": {
  "colab": {
   "authorship_tag": "ABX9TyO+7tcK551bXHfc+/d0SvaJ",
   "include_colab_link": true,
   "provenance": []
  },
  "kernelspec": {
   "display_name": "Python 3 (ipykernel)",
   "language": "python",
   "name": "python3"
  },
  "language_info": {
   "codemirror_mode": {
    "name": "ipython",
    "version": 3
   },
   "file_extension": ".py",
   "mimetype": "text/x-python",
   "name": "python",
   "nbconvert_exporter": "python",
   "pygments_lexer": "ipython3",
   "version": "3.11.5"
  }
 },
 "nbformat": 4,
 "nbformat_minor": 4
}
