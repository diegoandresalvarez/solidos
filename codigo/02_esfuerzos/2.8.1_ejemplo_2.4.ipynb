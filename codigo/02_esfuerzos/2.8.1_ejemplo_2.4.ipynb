{
 "cells": [
  {
   "cell_type": "markdown",
   "metadata": {
    "id": "V0dH9NeusLZT"
   },
   "source": [
    "# 2.8.1. Ejemplo 2.4.\n",
    "\n",
    "|Quién | Correo | Fecha | Qué hizo |\n",
    "| ---  | ---   | --- | ---      |\n",
    "|Michael Heredia Pérez | <mherediap@unal.edu.co> | Julio 14, 2022 | Conversión de código de MAXIMA a Python|\n",
    "|Juan Nicolás Ramírez | <mherediap@unal.edu.co> | Septiembre 15, 2022 | Adecuando código|\n",
    "|Michael Heredia Pérez | <mherediap@unal.edu.co> | Septiembre 19, 2022 | Cambiando comando ```.eig``` por ```.eigh``` |\n",
    "|Diego Andrés Alvarez | <daalvarez@unal.edu.co>  | Febrero 19, 2024 | Mejorando los comentarios |\n"
   ]
  },
  {
   "cell_type": "markdown",
   "metadata": {},
   "source": [
    "$$\n",
    "\\newcommand{\\ve}[1]{{\\vec{\\boldsymbol{#1}}}}\n",
    "\\newcommand{\\ma}[1]{{\\boldsymbol{#1}}}\n",
    "\\newcommand{\\hve}[1]{{\\,\\hat{\\!\\boldsymbol{#1}}}}\n",
    "$$"
   ]
  },
  {
   "cell_type": "code",
   "execution_count": 1,
   "metadata": {
    "id": "sQl0V2z8r8kj"
   },
   "outputs": [],
   "source": [
    "import numpy as np\n",
    "from sympy import init_printing, latex, symbols, Matrix\n",
    "\n",
    "# Para imprimir bonito\n",
    "init_printing()\n",
    "from IPython.display import Math                 \n",
    "def imprimir (texto1, variable, texto2=\"\"):\n",
    "    return Math(texto1 +  rf'{latex(variable)}' + texto2)"
   ]
  },
  {
   "cell_type": "markdown",
   "metadata": {
    "id": "V0dH9NeusLZT"
   },
   "source": [
    "Considere un punto de un sólido bidimensional en el cual los esfuerzos son $\\sigma_x=$ 3 Pa, $\\sigma_y=$ 2 Pa y $\\tau_{xy}=$ -4 Pa:"
   ]
  },
  {
   "cell_type": "code",
   "execution_count": 2,
   "metadata": {
    "colab": {
     "base_uri": "https://localhost:8080/"
    },
    "id": "vXfD3uQbtsA1",
    "outputId": "82ed97c9-4385-45d1-d80f-4679d90b53ae"
   },
   "outputs": [],
   "source": [
    "# Se definen los componentes de la matriz sigma\n",
    "sx  =  3  # Pa\n",
    "sy  =  2  # Pa\n",
    "txy = -4  # Pa  "
   ]
  },
  {
   "cell_type": "markdown",
   "metadata": {
    "id": "V0dH9NeusLZT"
   },
   "source": [
    "Se pide:\n",
    "1. Plantear la matriz de tensiones  $\\ma{\\sigma}$ correspondiente.\n",
    "2. Calcular el polinomio característico asociado a  $\\ma{\\sigma}$.\n",
    "3. Calcular la dirección y magnitud de los esfuerzos principales."
   ]
  },
  {
   "cell_type": "markdown",
   "metadata": {
    "id": "Ygyme2K0-SDv"
   },
   "source": [
    "## 1. Matriz de esfuerzos $\\ma{\\sigma}$"
   ]
  },
  {
   "cell_type": "code",
   "execution_count": 3,
   "metadata": {
    "colab": {
     "base_uri": "https://localhost:8080/"
    },
    "id": "vXfD3uQbtsA1",
    "outputId": "82ed97c9-4385-45d1-d80f-4679d90b53ae"
   },
   "outputs": [
    {
     "data": {
      "text/latex": [
       "$\\displaystyle \\ma{\\sigma} =\\left[\\begin{matrix}3 & -4\\\\-4 & 2\\end{matrix}\\right]$"
      ],
      "text/plain": [
       "<IPython.core.display.Math object>"
      ]
     },
     "execution_count": 3,
     "metadata": {},
     "output_type": "execute_result"
    }
   ],
   "source": [
    "# Se define la matriz sigma\n",
    "sigma = np.array([[ sx, txy], \n",
    "                  [txy, sy ]])\n",
    "\n",
    "# Visualizamos la matriz de esfuerzos\n",
    "imprimir(r\"\\ma{\\sigma} =\", Matrix(sigma))"
   ]
  },
  {
   "cell_type": "markdown",
   "metadata": {
    "id": "olpoRf-buipU"
   },
   "source": [
    "## 2. Polinomio característico\n",
    "\n",
    "Para obtener los coeficientes del polinomio característico empleamos el comando ```numpy.poly()```:"
   ]
  },
  {
   "cell_type": "code",
   "execution_count": 4,
   "metadata": {
    "colab": {
     "base_uri": "https://localhost:8080/"
    },
    "id": "McWqJBxcuiM6",
    "outputId": "ab4bdd9c-abf1-494d-d7d4-ba3c6659a8ac"
   },
   "outputs": [
    {
     "data": {
      "text/plain": [
       "array([  1.,  -5., -10.])"
      ]
     },
     "execution_count": 4,
     "metadata": {},
     "output_type": "execute_result"
    }
   ],
   "source": [
    "np.poly(sigma)"
   ]
  },
  {
   "cell_type": "markdown",
   "metadata": {},
   "source": [
    "Lo interpretamos como: \n",
    "\n",
    "$$\\sigma_n^2 - 5\\sigma_n -10=0$$\n",
    "\n",
    "Y mediante la función ```numpy.roots()``` calculamos la raíces del polinomio característico, es decir, los esfuerzos principales:"
   ]
  },
  {
   "cell_type": "code",
   "execution_count": 5,
   "metadata": {},
   "outputs": [
    {
     "data": {
      "text/plain": [
       "array([ 6.53112887, -1.53112887])"
      ]
     },
     "execution_count": 5,
     "metadata": {},
     "output_type": "execute_result"
    }
   ],
   "source": [
    "np.roots(np.poly(sigma))"
   ]
  },
  {
   "cell_type": "markdown",
   "metadata": {},
   "source": [
    "No olvidar que debemos garantizar por definición en el <font color='blue'>main.pdf</font> que:\n",
    "$$(\\sigma_1)_{xy} \\geq (\\sigma_2)_{xy}$$"
   ]
  },
  {
   "cell_type": "markdown",
   "metadata": {
    "id": "EtdRwYWeu2DU"
   },
   "source": [
    "## 3. Dirección y magnitud de los esfuerzos principales\n",
    "\n",
    "Para calcular los valores y vectores propios de la matriz de esfuerzos $\\ma{\\sigma}$ con ```numpy```, empleamos el comando ```np.linalg.eigh()``` el cual retorna una lista de dos entradas, la primera contiene los valores propios y la segunda contiene los vectores propios. \n",
    "\n",
    "*Nota*: según la documentación de ```numpy``` existen dos comandos para obtener los valores propios de una matriz [np.linalg.eigh()](https://numpy.org/doc/stable/reference/generated/numpy.linalg.eigh.html) y [np.linalg.eig()](https://numpy.org/doc/stable/reference/generated/numpy.linalg.eig.html). La función ```eigh()``` se usa en vez de ```eig()``` debido a que ```eigh()``` está especialmente diseñada para el cálculo de los valores propios de matrices hermíticas; se dice que una matriz es *hermítica* cuando esta es igual a su transpuesta conjugada; en el caso de que la matriz sea real, el concepto de matriz hermítica es equivalente al concepto de matriz simétrica; en consecuencia ```eigh()``` es mucho más eficiente numéricamente hablando que ```eig()```, además en comparación a esta última, ```eigh()``` retorna los valores propios ordenados de menor a mayor; esto es posible ya que los valores propios de una matriz hermítica, y por lo tanto simétrica, son siempre números reales."
   ]
  },
  {
   "cell_type": "code",
   "execution_count": 6,
   "metadata": {
    "id": "IkFFzZzSv0yn"
   },
   "outputs": [],
   "source": [
    "valp, vecp = np.linalg.eigh(sigma)"
   ]
  },
  {
   "cell_type": "markdown",
   "metadata": {
    "id": "HRz-xNvaydd9"
   },
   "source": [
    "Los valores propios representan la magnitud de los esfuerzos principales, estos se almacenaron en el vector `valp`, y gracias al comando `np.linalg.eigh()` estos quedan ordenados de menor a mayor."
   ]
  },
  {
   "cell_type": "markdown",
   "metadata": {
    "id": "HRz-xNvaydd9"
   },
   "source": [
    "Los valores propios representan la magnitud de los esfuerzos principales $(\\sigma_1)_{xy}$ y $(\\sigma_2)_{xy}$:"
   ]
  },
  {
   "cell_type": "code",
   "execution_count": 7,
   "metadata": {
    "colab": {
     "base_uri": "https://localhost:8080/"
    },
    "id": "TRxGRniWySkS",
    "outputId": "d153651e-2b9f-4ea9-b395-21276c8a5f05"
   },
   "outputs": [
    {
     "data": {
      "text/plain": [
       "array([-1.53112887,  6.53112887])"
      ]
     },
     "execution_count": 7,
     "metadata": {},
     "output_type": "execute_result"
    }
   ],
   "source": [
    "valp  # tenga en cuenta que eigh siempre retorna los valores propios ordenados de menor a mayor"
   ]
  },
  {
   "cell_type": "markdown",
   "metadata": {},
   "source": [
    "Almacenamos en memoria como ```s1``` y ```s2```, respectivamente, para $(\\sigma_1)_{xy}$ y $(\\sigma_2)_{xy}$, garantizando que $(\\sigma_1)_{xy} \\geq (\\sigma_2)_{xy}$. En particular, ```eigh()``` genera los valores propios ordenados de menor a mayor:"
   ]
  },
  {
   "cell_type": "code",
   "execution_count": 8,
   "metadata": {},
   "outputs": [],
   "source": [
    "s2_xy, s1_xy = valp "
   ]
  },
  {
   "cell_type": "code",
   "execution_count": 9,
   "metadata": {
    "colab": {
     "base_uri": "https://localhost:8080/"
    },
    "id": "agwqVfBfAk6H",
    "outputId": "282408cd-b134-4591-cd23-fe670f1ba711"
   },
   "outputs": [
    {
     "name": "stdout",
     "output_type": "stream",
     "text": [
      "σ1_xy = 6.531 Pa\n"
     ]
    }
   ],
   "source": [
    "print(f\"σ1_xy = {s1_xy:.3f} Pa\")"
   ]
  },
  {
   "cell_type": "code",
   "execution_count": 10,
   "metadata": {},
   "outputs": [
    {
     "name": "stdout",
     "output_type": "stream",
     "text": [
      "σ2_xy = -1.531 Pa\n"
     ]
    }
   ],
   "source": [
    "print(f\"σ2_xy = {s2_xy:.3f} Pa\")"
   ]
  },
  {
   "cell_type": "markdown",
   "metadata": {
    "id": "6SAkdTahy3ET"
   },
   "source": [
    "Los vectores propios representan las direcciones principales $\\hve{n}_1$ y $\\hve{n}_2$."
   ]
  },
  {
   "cell_type": "markdown",
   "metadata": {
    "id": "HRz-xNvaydd9"
   },
   "source": [
    "Los vectores propios representan las direcciones principales, estos se almacenan en el arreglo `vecp`, y corresponden a sus columnas:"
   ]
  },
  {
   "cell_type": "code",
   "execution_count": 11,
   "metadata": {},
   "outputs": [
    {
     "data": {
      "text/plain": [
       "array([-1.53112887,  6.53112887])"
      ]
     },
     "execution_count": 11,
     "metadata": {},
     "output_type": "execute_result"
    }
   ],
   "source": [
    "valp"
   ]
  },
  {
   "cell_type": "code",
   "execution_count": 12,
   "metadata": {
    "colab": {
     "base_uri": "https://localhost:8080/"
    },
    "id": "p4j2ykdeyTaQ",
    "outputId": "7bc73eef-fd8d-4511-fca8-310ab3495cfc"
   },
   "outputs": [
    {
     "data": {
      "text/plain": [
       "array([[-0.66180256, -0.74967818],\n",
       "       [-0.74967818,  0.66180256]])"
      ]
     },
     "execution_count": 12,
     "metadata": {},
     "output_type": "execute_result"
    }
   ],
   "source": [
    "vecp"
   ]
  },
  {
   "cell_type": "markdown",
   "metadata": {},
   "source": [
    "Al valor propio ```s1 = 6.53112887``` le asociamos la _columna_ ```[-0.74967818, 0.66180256]``` como vector propio ```n1g``` (dirección principal 1).\n",
    "\n",
    "Al valor propio ```s2 = -1.53112887``` le asociamos la _columna_ ```[-0.66180256, -0.74967818]]``` como vector propio ```n2g``` (dirección principal 2)."
   ]
  },
  {
   "cell_type": "code",
   "execution_count": 13,
   "metadata": {},
   "outputs": [],
   "source": [
    "# Extraigo los resultados (cuidado con el orden)\n",
    "n2g, n1g = vecp[:,0], vecp[:,1]"
   ]
  },
  {
   "cell_type": "code",
   "execution_count": 14,
   "metadata": {},
   "outputs": [
    {
     "data": {
      "text/latex": [
       "$\\displaystyle \\hve{n}^T_1 =\\mathtt{\\text{[-0.74967818  0.66180256]}}$"
      ],
      "text/plain": [
       "<IPython.core.display.Math object>"
      ]
     },
     "execution_count": 14,
     "metadata": {},
     "output_type": "execute_result"
    }
   ],
   "source": [
    "imprimir(r\"\\hve{n}^T_1 =\", n1g)"
   ]
  },
  {
   "cell_type": "code",
   "execution_count": 15,
   "metadata": {},
   "outputs": [
    {
     "data": {
      "text/latex": [
       "$\\displaystyle \\hve{n}^T_2 =\\mathtt{\\text{[-0.66180256 -0.74967818]}}$"
      ],
      "text/plain": [
       "<IPython.core.display.Math object>"
      ]
     },
     "execution_count": 15,
     "metadata": {},
     "output_type": "execute_result"
    }
   ],
   "source": [
    "imprimir(r\"\\hve{n}^T_2 =\", n2g)"
   ]
  },
  {
   "cell_type": "markdown",
   "metadata": {},
   "source": [
    "Verificamos que ```n1g``` sea unitario, calculando su norma con ```np.linalg.norm()```:"
   ]
  },
  {
   "cell_type": "code",
   "execution_count": 16,
   "metadata": {},
   "outputs": [
    {
     "data": {
      "image/png": "[encoded data removed]",
      "text/latex": [
       "$\\displaystyle 1.0$"
      ],
      "text/plain": [
       "1.0000000000000002"
      ]
     },
     "execution_count": 16,
     "metadata": {},
     "output_type": "execute_result"
    }
   ],
   "source": [
    "np.linalg.norm(n1g)"
   ]
  },
  {
   "cell_type": "markdown",
   "metadata": {},
   "source": [
    "Verificamos que ```n2g``` sea unitario, calculando su norma con ```np.linalg.norm()```:"
   ]
  },
  {
   "cell_type": "code",
   "execution_count": 17,
   "metadata": {},
   "outputs": [
    {
     "data": {
      "image/png": "[encoded data removed]",
      "text/latex": [
       "$\\displaystyle 1.0$"
      ],
      "text/plain": [
       "1.0000000000000002"
      ]
     },
     "execution_count": 17,
     "metadata": {},
     "output_type": "execute_result"
    }
   ],
   "source": [
    "np.linalg.norm(n2g)"
   ]
  },
  {
   "cell_type": "markdown",
   "metadata": {},
   "source": [
    "Por lo tanto, ```n1g``` y ```n2g``` son los vectores unitarios buscados que representan a  $\\hve{n}_1$ y $\\hve{n}_2$."
   ]
  },
  {
   "cell_type": "markdown",
   "metadata": {
    "id": "MBugHluyBYUC"
   },
   "source": [
    "Así mismo, se puede calcular el ángulo de inclinación de los planos principales sobre los cuales actúan los esfuerzos principales:"
   ]
  },
  {
   "cell_type": "code",
   "execution_count": 18,
   "metadata": {
    "colab": {
     "base_uri": "https://localhost:8080/"
    },
    "id": "DXsbW3pJBjMb",
    "outputId": "b7ed34bd-5d1c-499b-c355-4ffbad68d1b1"
   },
   "outputs": [
    {
     "name": "stdout",
     "output_type": "stream",
     "text": [
      "θ1 = -41.4375°\n",
      "θ2 =  48.5625°\n"
     ]
    }
   ],
   "source": [
    "# Calculamos el ángulo de inclinación del plano principal donde actúa s1 y s2 y \n",
    "# se convierte de radianes a grados:\n",
    "t1 = np.rad2deg(np.arctan2(-n1g[1],-n1g[0]))\n",
    "t2 = np.rad2deg(np.arctan2(-n2g[1],-n2g[0]))\n",
    "\n",
    "print(f\"θ1 = {t1: .4f}°\")\n",
    "print(f\"θ2 = {t2: .4f}°\")"
   ]
  },
  {
   "cell_type": "markdown",
   "metadata": {},
   "source": [
    "En resumen:\n",
    "\n",
    "* al esfuerzo principal $(\\sigma_1)_{xy}$ = 6.53 Pa le asociamos la dirección principal $\\hve{n}_1 = [0.75, -0.66]^T$ descrita por el ángulo $\\theta_1 = -41.44^\\circ$,\n",
    "\n",
    "* al esfuerzo principal $(\\sigma_2)_{xy}$ = -1.53 Pa le asociamos la dirección principal $\\hve{n}_2 = [0.66, 0.75]^T$ descrita por el ángulo $\\theta_2=48.56^\\circ$."
   ]
  },
  {
   "cell_type": "markdown",
   "metadata": {
    "id": "xdorepGCEFxE"
   },
   "source": [
    "Y gráficamente, nuestro sólido queda de la siguiente forma:"
   ]
  },
  {
   "cell_type": "markdown",
   "metadata": {
    "id": "ySN4kpEGDzk3"
   },
   "source": [
    "<img src=\"fig_ejem_2.8.1.png\" width=\"600\">"
   ]
  },
  {
   "cell_type": "markdown",
   "metadata": {
    "id": "XBJpvg99D3Qh"
   },
   "source": [
    "**Nota:** Es importante revisar el sentido de los vectores directores para así calcular correctamente el ángulo de inclinación de los planos."
   ]
  }
 ],
 "metadata": {
  "colab": {
   "authorship_tag": "ABX9TyO9WGmAtPWgPbK3ZRvhSlKG",
   "include_colab_link": true,
   "provenance": []
  },
  "kernelspec": {
   "display_name": "Python 3 (ipykernel)",
   "language": "python",
   "name": "python3"
  },
  "language_info": {
   "codemirror_mode": {
    "name": "ipython",
    "version": 3
   },
   "file_extension": ".py",
   "mimetype": "text/x-python",
   "name": "python",
   "nbconvert_exporter": "python",
   "pygments_lexer": "ipython3",
   "version": "3.11.5"
  },
  "vscode": {
   "interpreter": {
    "hash": "916dbcbb3f70747c44a77c7bcd40155683ae19c65e1c03b4aa3499c5328201f1"
   }
  }
 },
 "nbformat": 4,
 "nbformat_minor": 4
}
