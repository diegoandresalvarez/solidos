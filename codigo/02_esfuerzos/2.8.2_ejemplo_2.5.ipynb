{
 "cells": [
  {
   "cell_type": "markdown",
   "metadata": {
    "id": "EmIIUCONzP7n"
   },
   "source": [
    "# 2.8.2. Ejemplo 2.5\n",
    "\n",
    "|Quién | Correo | Fecha | Qué hizo |\n",
    "| ---  | ---    | ---   | ---      |\n",
    "|Michael Heredia Pérez | <mherediap@unal.edu.co>  | Julio 14, 2022 | Conversión de código de MAXIMA a Python|\n",
    "|Juan Nicolás Ramírez  | <jnramirezg@unal.edu.co> | Septiembre 18, 2022 | Agregando cálculos de esf. y dir. pples |\n",
    "|Diego Andrés Alvarez  | <daalvarez@unal.edu.co>  | Febrero 22, 2024 | Mejorando los comentarios |\n",
    "\n"
   ]
  },
  {
   "cell_type": "markdown",
   "metadata": {},
   "source": [
    "$$\n",
    "\\newcommand{\\ve}[1]{{\\vec{\\boldsymbol{#1}}}}\n",
    "\\newcommand{\\ma}[1]{{\\boldsymbol{#1}}}\n",
    "\\newcommand{\\hve}[1]{{\\,\\hat{\\!\\boldsymbol{#1}}}}\n",
    "$$"
   ]
  },
  {
   "cell_type": "markdown",
   "metadata": {},
   "source": [
    "Consideremos un punto $P$ de un sólido sometido los esfuerzos:\n",
    "\n",
    "$\\sigma_x=1$ Pa, \n",
    "\n",
    "$\\sigma_y=3$ Pa,\n",
    "\n",
    "$\\sigma_z = \\tau_{xy} = \\tau_{xz} = 0$ Pa,\n",
    "\n",
    "$\\tau_{yz}= 2$ Pa.\n",
    "\n",
    "Se pide:\n",
    "\n",
    "* Plantear la matriz de tensiones $\\ma{\\sigma}$ correspondiente.\n",
    "* Calcular el polinomio característico asociado a $\\ma{\\sigma}$.\n",
    "* Calcular la dirección y magnitud de los esfuerzos principales."
   ]
  },
  {
   "cell_type": "markdown",
   "metadata": {},
   "source": [
    " Importamos algunas funciones necesarias de ```numpy``` e importamos el submódulo ```linalg``` de ```numpy``` (álgebra lineal)."
   ]
  },
  {
   "cell_type": "code",
   "execution_count": 1,
   "metadata": {
    "id": "zAmG_inly3EO"
   },
   "outputs": [],
   "source": [
    "from numpy import array, poly, roots, arctan, rad2deg, cross, column_stack, sort, c_\n",
    "from numpy.linalg import eigh, norm, det"
   ]
  },
  {
   "cell_type": "markdown",
   "metadata": {},
   "source": [
    "## Matriz de tensiones\n",
    "Definimos las componentes de esfuerzos dadas como variables numéricas:"
   ]
  },
  {
   "cell_type": "code",
   "execution_count": 2,
   "metadata": {},
   "outputs": [],
   "source": [
    "sx,   sy,  sz = 1, 3, 0  # [Pa]\n",
    "txy, txz, tyz = 0, 0, 2  # [Pa]"
   ]
  },
  {
   "cell_type": "markdown",
   "metadata": {},
   "source": [
    "Definimos la matriz de tensiones $\\ma{\\sigma}$ en tres dimensiones:"
   ]
  },
  {
   "cell_type": "code",
   "execution_count": 3,
   "metadata": {},
   "outputs": [
    {
     "data": {
      "text/plain": [
       "array([[1, 0, 0],\n",
       "       [0, 3, 2],\n",
       "       [0, 2, 0]])"
      ]
     },
     "execution_count": 3,
     "metadata": {},
     "output_type": "execute_result"
    }
   ],
   "source": [
    "sigma = array([[sx,  txy, txz],\n",
    "               [txy,  sy, tyz],\n",
    "               [txz, tyz,  sz]])\n",
    "sigma"
   ]
  },
  {
   "cell_type": "markdown",
   "metadata": {},
   "source": [
    "## Polinomio característico\n",
    "\n",
    "Obtenemos los coeficientes del polinomio característico mediante ```numpy.poly()```:"
   ]
  },
  {
   "cell_type": "code",
   "execution_count": 4,
   "metadata": {},
   "outputs": [
    {
     "data": {
      "text/plain": [
       "array([ 1., -4., -1.,  4.])"
      ]
     },
     "execution_count": 4,
     "metadata": {},
     "output_type": "execute_result"
    }
   ],
   "source": [
    "poly(sigma)"
   ]
  },
  {
   "cell_type": "markdown",
   "metadata": {},
   "source": [
    "Pero como el polinomio que definimos en el <font color='blue'>main.pdf</font> tiene la forma $-\\sigma_n^3+I_1\\sigma_n^2-I_2\\sigma_n+I_3 = 0$, multiplicamos por -1:"
   ]
  },
  {
   "cell_type": "code",
   "execution_count": 5,
   "metadata": {
    "tags": []
   },
   "outputs": [
    {
     "data": {
      "text/plain": [
       "array([-1.,  4.,  1., -4.])"
      ]
     },
     "execution_count": 5,
     "metadata": {},
     "output_type": "execute_result"
    }
   ],
   "source": [
    "pol = -poly(sigma)\n",
    "\n",
    "pol"
   ]
  },
  {
   "cell_type": "markdown",
   "metadata": {},
   "source": [
    "Lo interpretamos como:\n",
    "$$-\\sigma_n^3+ 4\\sigma_n^2 + \\sigma_n -4=0$$."
   ]
  },
  {
   "cell_type": "markdown",
   "metadata": {},
   "source": [
    "Así, los invariantes de esfuerzos son $I_1 =4Pa$, $I_2=-1Pa^2$ y $I_3=-4Pa^3$."
   ]
  },
  {
   "cell_type": "markdown",
   "metadata": {},
   "source": [
    "Y mediante la función ```numpy.roots()``` calculamos la raíces del polinomio característico, es decir, los esfuerzos principales:"
   ]
  },
  {
   "cell_type": "code",
   "execution_count": 6,
   "metadata": {
    "tags": []
   },
   "outputs": [
    {
     "data": {
      "text/plain": [
       "array([-1.,  1.,  4.])"
      ]
     },
     "execution_count": 6,
     "metadata": {},
     "output_type": "execute_result"
    }
   ],
   "source": [
    "esf_ppales = sort(roots(pol))  # sort() los ordena de menor a mayor\n",
    "esf_ppales"
   ]
  },
  {
   "cell_type": "markdown",
   "metadata": {},
   "source": [
    "No olvidar que debemos garantizar por definición en el <font color='blue'>main.pdf</font> que:\n",
    "$$\\sigma_1 \\geq \\sigma_2 \\geq \\sigma_3$$\n",
    "\n",
    "Por lo que a la hora de definir los esfuerzos principales en variables ```s1```, ```s2``` y ```s3``` debemos prestar atención."
   ]
  },
  {
   "cell_type": "markdown",
   "metadata": {
    "tags": []
   },
   "source": [
    "Procedemos a graficar el polinomio característico:"
   ]
  },
  {
   "cell_type": "code",
   "execution_count": 7,
   "metadata": {
    "tags": []
   },
   "outputs": [
    {
     "data": {
      "image/png": "[encoded data removed]",
      "text/plain": [
       "<Figure size 640x480 with 1 Axes>"
      ]
     },
     "metadata": {},
     "output_type": "display_data"
    }
   ],
   "source": [
    "import matplotlib.pyplot as plt\n",
    "from numpy import polyval, linspace\n",
    "\n",
    "sigman = linspace(-2, 5, 100)\n",
    "p = polyval(pol, sigman)\n",
    "plt.plot(sigman, p)\n",
    "plt.grid('on')\n",
    "plt.plot(esf_ppales, [0, 0, 0], 'ro')\n",
    "plt.annotate(r'$\\sigma_3$', xy=(esf_ppales[0], 0), xytext=(esf_ppales[0], 15), arrowprops=dict(facecolor='black', shrink=0.05))\n",
    "plt.annotate(r'$\\sigma_2$', xy=(esf_ppales[1], 0), xytext=(esf_ppales[1], 15), arrowprops=dict(facecolor='black', shrink=0.05))\n",
    "plt.annotate(r'$\\sigma_1$', xy=(esf_ppales[2], 0), xytext=(esf_ppales[2], 15), arrowprops=dict(facecolor='black', shrink=0.05))\n",
    "plt.title('Polinomio característico')\n",
    "plt.xlabel(r'$\\sigma_n$ [Pa]')\n",
    "plt.show()"
   ]
  },
  {
   "cell_type": "markdown",
   "metadata": {},
   "source": [
    "## Esfuerzos y direcciones principales"
   ]
  },
  {
   "cell_type": "markdown",
   "metadata": {},
   "source": [
    "Es posible calcular simultáneamente los valores ```valp``` y vectores propios ```vecp``` (esfuerzos y direcciones principales) con la función ```numpy.linalg.eigh()```:"
   ]
  },
  {
   "cell_type": "code",
   "execution_count": 8,
   "metadata": {},
   "outputs": [],
   "source": [
    "valp, vecp = eigh(sigma)"
   ]
  },
  {
   "cell_type": "markdown",
   "metadata": {},
   "source": [
    "**Nota:** refiérase a la documentación para entender porqué se usa el comando [np.linalg.eigh](https://numpy.org/doc/stable/reference/generated/numpy.linalg.eigh.html) en lugar del [np.linalg.eig](https://numpy.org/doc/stable/reference/generated/numpy.linalg.eig.html). La función ```eigh()``` se usa en vez de ```eig()``` debido a que su algoritmo interno está hecho para matrices simétricas, es decir, es más eficiente."
   ]
  },
  {
   "cell_type": "markdown",
   "metadata": {},
   "source": [
    "Los valores propios representan la magnitud de los esfuerzos principales $\\sigma_1$, $\\sigma_2$ y $\\sigma_3$:"
   ]
  },
  {
   "cell_type": "code",
   "execution_count": 9,
   "metadata": {},
   "outputs": [
    {
     "data": {
      "text/plain": [
       "array([-1.,  1.,  4.])"
      ]
     },
     "execution_count": 9,
     "metadata": {},
     "output_type": "execute_result"
    }
   ],
   "source": [
    "valp"
   ]
  },
  {
   "cell_type": "markdown",
   "metadata": {},
   "source": [
    "Almacenamos en memoria como ```s1```, ```s2``` y ```s3```, teniendo en cuenta que $\\sigma_1 \\geq \\sigma_2 \\geq \\sigma_3$, o sea, $\\sigma_1 = 4$Pa, $\\sigma_2 = 1$Pa y $\\sigma_3 = -1$Pa. En particular, ```eigh()``` genera los valores propios ordenados de menor a mayor."
   ]
  },
  {
   "cell_type": "code",
   "execution_count": 10,
   "metadata": {},
   "outputs": [],
   "source": [
    "s3, s2, s1 = valp"
   ]
  },
  {
   "cell_type": "markdown",
   "metadata": {},
   "source": [
    "Los vectores propios representan las direcciones $\\hve{n}_1$, $\\hve{n}_2$ y $\\hve{n}_3$ de los esfuerzos principales:"
   ]
  },
  {
   "cell_type": "code",
   "execution_count": 11,
   "metadata": {},
   "outputs": [
    {
     "data": {
      "text/plain": [
       "array([[ 0.        ,  1.        , -0.        ],\n",
       "       [ 0.4472136 ,  0.        , -0.89442719],\n",
       "       [-0.89442719,  0.        , -0.4472136 ]])"
      ]
     },
     "execution_count": 11,
     "metadata": {},
     "output_type": "execute_result"
    }
   ],
   "source": [
    "vecp"
   ]
  },
  {
   "cell_type": "markdown",
   "metadata": {},
   "source": [
    "Al valor propio ```s1 = 4``` le asociamos la _columna_ ```[0.0, -0.89442719, -0.4472136]``` como vector propio ```ng1``` (dirección principal 1).\n",
    "\n",
    "Al valor propio ```s2 = 1``` le asociamos la _columna_ ```[1.0, 0.0, 0.0]]``` como vector propio ```ng2``` (dirección principal 2).\n",
    "\n",
    "Al valor propio ```s3 = -1``` le asociamos la _columna_ ```[0.0, 0.4472136, -0.89442719]``` como vector propio ```ng3``` (dirección principal 3)."
   ]
  },
  {
   "cell_type": "markdown",
   "metadata": {},
   "source": [
    "Con el siguiente comando asignamos cada vector propio, a partir de las columnas de `vecp`:"
   ]
  },
  {
   "cell_type": "code",
   "execution_count": 12,
   "metadata": {},
   "outputs": [],
   "source": [
    "ng3, ng2, ng1 = vecp[:,0], vecp[:,1], vecp[:,2]"
   ]
  },
  {
   "cell_type": "markdown",
   "metadata": {},
   "source": [
    "Verificamos que ```ng1``` sea unitario, calculando su norma con ```norm()```:"
   ]
  },
  {
   "cell_type": "code",
   "execution_count": 13,
   "metadata": {},
   "outputs": [
    {
     "data": {
      "text/plain": [
       "0.9999999999999999"
      ]
     },
     "execution_count": 13,
     "metadata": {},
     "output_type": "execute_result"
    }
   ],
   "source": [
    "norm(ng1)"
   ]
  },
  {
   "cell_type": "markdown",
   "metadata": {},
   "source": [
    "Verificamos que ```ng2``` sea unitario, calculando su norma con ```LA.norm()```:"
   ]
  },
  {
   "cell_type": "code",
   "execution_count": 14,
   "metadata": {},
   "outputs": [
    {
     "data": {
      "text/plain": [
       "1.0"
      ]
     },
     "execution_count": 14,
     "metadata": {},
     "output_type": "execute_result"
    }
   ],
   "source": [
    "norm(ng2)"
   ]
  },
  {
   "cell_type": "markdown",
   "metadata": {},
   "source": [
    "Verificamos que ```ng3``` sea unitario, calculando su norma con ```LA.norm()```:"
   ]
  },
  {
   "cell_type": "code",
   "execution_count": 15,
   "metadata": {},
   "outputs": [
    {
     "data": {
      "text/plain": [
       "0.9999999999999999"
      ]
     },
     "execution_count": 15,
     "metadata": {},
     "output_type": "execute_result"
    }
   ],
   "source": [
    "norm(ng3)"
   ]
  },
  {
   "cell_type": "markdown",
   "metadata": {},
   "source": [
    "Por lo tanto, ```ng1```, ```ng2``` y ```ng3``` son los vectores unitarios buscados que representan a $\\hve{n}_1$, $\\hve{n}_2$ y $\\hve{n}_3$."
   ]
  },
  {
   "cell_type": "markdown",
   "metadata": {
    "id": "yQfKLGCszgpS"
   },
   "source": [
    "## Verificación 1 del sistema de coordenadas de la mano derecha\n",
    "\n",
    "Como veremos más adelante, las direcciones principales forman una *base ortonormal*, únicamente nos hace falta verificar que cumplan con la regla de la mano derecha.\n",
    "En ```numpy``` para hacer un productor cruz, usamos la función ```numpy.cross()```."
   ]
  },
  {
   "cell_type": "code",
   "execution_count": 16,
   "metadata": {},
   "outputs": [
    {
     "data": {
      "text/plain": [
       "array([ 0.        , -0.4472136 ,  0.89442719])"
      ]
     },
     "execution_count": 16,
     "metadata": {},
     "output_type": "execute_result"
    }
   ],
   "source": [
    "cross(ng1, ng2)"
   ]
  },
  {
   "cell_type": "code",
   "execution_count": 17,
   "metadata": {},
   "outputs": [
    {
     "data": {
      "text/plain": [
       "array([ 0.        ,  0.4472136 , -0.89442719])"
      ]
     },
     "execution_count": 17,
     "metadata": {},
     "output_type": "execute_result"
    }
   ],
   "source": [
    "ng3"
   ]
  },
  {
   "cell_type": "markdown",
   "metadata": {},
   "source": [
    "En particular, no se cumple con $\\hve{n}_1 \\times \\hve{n}_2 = \\hve{n}_3$, pero sí se cumple $\\hve{n}_1 \\times \\hve{n}_2 = -\\hve{n}_3$.\n",
    "\n",
    "De esta manera, para tener una base que cumpla con la regla de la mano derecha, solo es necesario cambiarle el sentido a cualquiera de los tres vectores unitarios. El gráfico que aparece abajo resulta al cambiarle el sentido a $\\hve{n}_1$:"
   ]
  },
  {
   "cell_type": "code",
   "execution_count": 18,
   "metadata": {
    "id": "WU9PPeRczfat"
   },
   "outputs": [],
   "source": [
    "ng1 = -ng1"
   ]
  },
  {
   "cell_type": "code",
   "execution_count": 19,
   "metadata": {},
   "outputs": [
    {
     "data": {
      "text/plain": [
       "array([0., 0., 0.])"
      ]
     },
     "execution_count": 19,
     "metadata": {},
     "output_type": "execute_result"
    }
   ],
   "source": [
    "cross(ng1, ng2) - ng3"
   ]
  },
  {
   "cell_type": "markdown",
   "metadata": {
    "tags": []
   },
   "source": [
    "## Verificación 2 del sistema de coordenadas de la mano derecha\n",
    "\n",
    "Recuerde que el determinante de la matriz $\\ma{T}$ debe ser igual a +1 si las tres columnas forman un sistema de coordenadas de la mano derecha.\n",
    "\n",
    "Construimos la matriz de transformación $\\ma{T}$, teniendo en cuenta que:\n",
    "\n",
    "$$\\ma{T} = \\left[\\hve{n}_1, \\hve{n}_2, \\hve{n}_3\\right]$$"
   ]
  },
  {
   "cell_type": "code",
   "execution_count": 20,
   "metadata": {},
   "outputs": [
    {
     "data": {
      "text/plain": [
       "array([[ 0.        ,  1.        ,  0.        ],\n",
       "       [ 0.89442719,  0.        ,  0.4472136 ],\n",
       "       [ 0.4472136 ,  0.        , -0.89442719]])"
      ]
     },
     "execution_count": 20,
     "metadata": {},
     "output_type": "execute_result"
    }
   ],
   "source": [
    "T = column_stack([ng1, ng2, ng3])  # es equivalente a np.c_[ng1, ng2, ng3]\n",
    "T"
   ]
  },
  {
   "cell_type": "markdown",
   "metadata": {
    "tags": []
   },
   "source": [
    "Verificamos que $\\det(\\ma{T}) = +1$:"
   ]
  },
  {
   "cell_type": "code",
   "execution_count": 21,
   "metadata": {},
   "outputs": [
    {
     "data": {
      "text/plain": [
       "1.0"
      ]
     },
     "execution_count": 21,
     "metadata": {},
     "output_type": "execute_result"
    }
   ],
   "source": [
    "det(T)"
   ]
  },
  {
   "cell_type": "markdown",
   "metadata": {
    "id": "1zgeN9JD1czD"
   },
   "source": [
    "## Verificación de la no existencia de esfuerzos cortantes"
   ]
  },
  {
   "cell_type": "markdown",
   "metadata": {
    "id": "BRjr3Nrk2pFP"
   },
   "source": [
    "Para verificar que para el nuevo sistema de coordenadas propuesto, la matriz de esfuerzos transformada $\\ma{\\sigma}' = \\ma{T}^T \\ma{\\sigma} \\ma{T},$ no presenta esfuerzos cortantes hacemos:"
   ]
  },
  {
   "cell_type": "code",
   "execution_count": 22,
   "metadata": {
    "colab": {
     "base_uri": "https://localhost:8080/"
    },
    "id": "x8rUtQig2m8g",
    "outputId": "addd0d09-3262-42f2-93a4-77c8fe79ee49"
   },
   "outputs": [
    {
     "data": {
      "text/plain": [
       "array([[ 4.,  0., -0.],\n",
       "       [ 0.,  1.,  0.],\n",
       "       [ 0.,  0., -1.]])"
      ]
     },
     "execution_count": 22,
     "metadata": {},
     "output_type": "execute_result"
    }
   ],
   "source": [
    "sigmaP = T.T@sigma@T\n",
    "\n",
    "sigmaP.round(5) # se imprimen solo 5 decimales"
   ]
  },
  {
   "cell_type": "markdown",
   "metadata": {},
   "source": [
    "Esto quiere decir que al inclinar un cubo de acuerdo con las direcciones principales no tendremos esfuerzos cortantes y los únicos esfuerzos observados serán los esfuerzos principales:\n",
    "    \n",
    "<img src=\"fig_sec_2.8.4_ejem_2.5.png\" width=\"600\">"
   ]
  }
 ],
 "metadata": {
  "colab": {
   "authorship_tag": "ABX9TyPAcX7LGBE3MjAoKXkvUpes",
   "include_colab_link": true,
   "name": "02_08_02_ejemplos_vf.ipynb",
   "provenance": []
  },
  "kernelspec": {
   "display_name": "Python 3 (ipykernel)",
   "language": "python",
   "name": "python3"
  },
  "language_info": {
   "codemirror_mode": {
    "name": "ipython",
    "version": 3
   },
   "file_extension": ".py",
   "mimetype": "text/x-python",
   "name": "python",
   "nbconvert_exporter": "python",
   "pygments_lexer": "ipython3",
   "version": "3.11.5"
  }
 },
 "nbformat": 4,
 "nbformat_minor": 4
}
