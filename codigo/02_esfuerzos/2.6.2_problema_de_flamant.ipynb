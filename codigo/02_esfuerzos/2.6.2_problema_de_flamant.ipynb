{
 "cells": [
  {
   "cell_type": "markdown",
   "metadata": {
    "id": "U5leorZWcI5W"
   },
   "source": [
    "# 2.6.2. Problema de Flamant\n",
    "\n",
    "|Quién | Correo |Fecha | Qué hizo |\n",
    "| ---  | ---    | ---  | ---      |\n",
    "|Michael Heredia Pérez | <mherediap@unal.edu.co> | Julio 14, 2022 | Conversión de código de MAXIMA a Python|\n",
    "|Juan Nicolás Ramírez Giraldo | <jnramirezg@unal.edu.co> | Febrero 16, 2023 |  Simplificando programa                |\n",
    "|Diego Andrés Alvarez Marín | <daalvarez@unal.edu.co> | Febrero 19, 2024 |  Mejorando los comentarios                |"
   ]
  },
  {
   "cell_type": "markdown",
   "metadata": {},
   "source": [
    "$$\n",
    "\\newcommand{\\ve}[1]{{\\vec{\\boldsymbol{#1}}}}\n",
    "\\newcommand{\\ma}[1]{{\\boldsymbol{#1}}}\n",
    "\\newcommand{\\hve}[1]{{\\,\\hat{\\!\\boldsymbol{#1}}}}\n",
    "$$"
   ]
  },
  {
   "cell_type": "code",
   "execution_count": 1,
   "metadata": {},
   "outputs": [],
   "source": [
    "from sympy import init_printing, latex, Matrix, trigsimp, symbols, sin, cos, pi\n",
    "\n",
    "# Para imprimir bonito\n",
    "init_printing()\n",
    "from IPython.display import Math                 \n",
    "def imprimir (texto1, variable, texto2=\"\"):\n",
    "    return Math(texto1 +  rf'{latex(variable)}' + texto2)"
   ]
  },
  {
   "cell_type": "markdown",
   "metadata": {},
   "source": [
    "Consideremos el sólido elástico de espesor $t$ (que podría ser incluso infinito) mostrado en figura:\n",
    "\n",
    "<img src=\"Flamant.png\" width=\"600\">\n",
    "\n",
    "Este está sometido a la acción de una carga puntual longitudinal de intensidad $P$. Este ejemplo es el llamado *problema de Flamant* que se analizará en el capítulo 7."
   ]
  },
  {
   "cell_type": "markdown",
   "metadata": {
    "id": "ONmKfn9adYzk"
   },
   "source": [
    "Definimos las variables simbólicas necesarias:"
   ]
  },
  {
   "cell_type": "code",
   "execution_count": 2,
   "metadata": {
    "colab": {
     "base_uri": "https://localhost:8080/",
     "height": 38
    },
    "id": "BlTtQ5oXdAqS",
    "outputId": "be652dc0-0114-45ba-df0d-366f32832951"
   },
   "outputs": [],
   "source": [
    "sx, sy, txy = symbols(\"sigma_x, sigma_y, tau_xy\")\n",
    "t, r, P = symbols(\"theta, r, P\")"
   ]
  },
  {
   "cell_type": "markdown",
   "metadata": {},
   "source": [
    "Recordemos que las fórmulas de conversión de coordenadas rectangulares a polares son $x = r \\cos(\\theta)$ y $y = r \\sin(\\theta)$:"
   ]
  },
  {
   "cell_type": "code",
   "execution_count": 3,
   "metadata": {
    "id": "sjRJjUpndh64"
   },
   "outputs": [],
   "source": [
    "x = r*cos(t)\n",
    "y = r*sin(t)"
   ]
  },
  {
   "cell_type": "markdown",
   "metadata": {},
   "source": [
    "Con respecto a los ejes mostrados en dicha figura, podemos demostrar que las componentes del esfuerzo están dadas por:\n",
    "\n",
    "$$\n",
    "\\begin{align*}\n",
    "\\sigma_x  = \\frac{2Px^2y}{\\pi(x^2+y^2)^2} &\n",
    "\\sigma_y  = \\frac{2Py^3}{\\pi(x^2+y^2)^2} &\n",
    "\\tau_{xy} = \\frac{2Pxy^2}{\\pi(x^2+y^2)}\n",
    "\\end{align*}\n",
    "$$"
   ]
  },
  {
   "cell_type": "code",
   "execution_count": 4,
   "metadata": {
    "id": "ly7fy_lbrwmt"
   },
   "outputs": [],
   "source": [
    "sx  = trigsimp(-(2*P*x**2*y) / (pi*(x**2 + y**2)**2))\n",
    "sy  = trigsimp(-(2*P*y**3)   / (pi*(x**2 + y**2)**2))\n",
    "txy = trigsimp(-(2*P*x*y**2) / (pi*(x**2 + y**2)**2))"
   ]
  },
  {
   "cell_type": "markdown",
   "metadata": {},
   "source": [
    "Se pide reescribir las componentes de esfuerzo $\\sigma_x$, $\\sigma_y$ y $\\tau_{xy}$ en función de los ejes $x'$ y $y'$."
   ]
  },
  {
   "cell_type": "markdown",
   "metadata": {
    "id": "S7rvpaIpd9X_"
   },
   "source": [
    "Con la aplicación de simplificaciones trigonométricas mediante el comando ```trigsimp()```, se obtiene:"
   ]
  },
  {
   "cell_type": "code",
   "execution_count": 5,
   "metadata": {
    "colab": {
     "base_uri": "https://localhost:8080/",
     "height": 54
    },
    "id": "mT8ApPZ-r3-u",
    "outputId": "6dfdb80c-a0a4-4aee-870b-e26f2eb6498f"
   },
   "outputs": [
    {
     "data": {
      "text/latex": [
       "$\\displaystyle \\sigma_{x} = - \\frac{2 P \\sin{\\left(\\theta \\right)} \\cos^{2}{\\left(\\theta \\right)}}{\\pi r}$"
      ],
      "text/plain": [
       "<IPython.core.display.Math object>"
      ]
     },
     "execution_count": 5,
     "metadata": {},
     "output_type": "execute_result"
    }
   ],
   "source": [
    "imprimir(r\"\\sigma_x = \", sx)"
   ]
  },
  {
   "cell_type": "code",
   "execution_count": 6,
   "metadata": {
    "colab": {
     "base_uri": "https://localhost:8080/",
     "height": 55
    },
    "id": "dvRxjvatr6-E",
    "outputId": "b5434918-f80c-459a-d3d0-f036fef92e52"
   },
   "outputs": [
    {
     "data": {
      "text/latex": [
       "$\\displaystyle \\sigma_{y} = - \\frac{2 P \\sin^{3}{\\left(\\theta \\right)}}{\\pi r}$"
      ],
      "text/plain": [
       "<IPython.core.display.Math object>"
      ]
     },
     "execution_count": 6,
     "metadata": {},
     "output_type": "execute_result"
    }
   ],
   "source": [
    "imprimir(r\"\\sigma_y = \", sy)"
   ]
  },
  {
   "cell_type": "code",
   "execution_count": 7,
   "metadata": {
    "colab": {
     "base_uri": "https://localhost:8080/",
     "height": 55
    },
    "id": "m6PWOTQIr_Xv",
    "outputId": "6901f2f8-fd64-4519-c59d-75e4a62c2f45"
   },
   "outputs": [
    {
     "data": {
      "text/latex": [
       "$\\displaystyle \\tau_{xy} = - \\frac{2 P \\sin^{2}{\\left(\\theta \\right)} \\cos{\\left(\\theta \\right)}}{\\pi r}$"
      ],
      "text/plain": [
       "<IPython.core.display.Math object>"
      ]
     },
     "execution_count": 7,
     "metadata": {},
     "output_type": "execute_result"
    }
   ],
   "source": [
    "imprimir(r\"\\tau_{xy} = \", txy)"
   ]
  },
  {
   "cell_type": "markdown",
   "metadata": {
    "id": "ODCwPLWrfvL-"
   },
   "source": [
    "Definimos la matriz de tensiones $\\ma{\\sigma}$ en dos dimensiones:"
   ]
  },
  {
   "cell_type": "code",
   "execution_count": 8,
   "metadata": {
    "colab": {
     "base_uri": "https://localhost:8080/",
     "height": 68
    },
    "id": "AeDXUUYTfqRi",
    "outputId": "285e2ef8-ea93-4bc6-a497-949689dabf73"
   },
   "outputs": [
    {
     "data": {
      "text/latex": [
       "$\\displaystyle \\ma{\\sigma} = \\left[\\begin{matrix}- \\frac{2 P \\sin{\\left(\\theta \\right)} \\cos^{2}{\\left(\\theta \\right)}}{\\pi r} & - \\frac{2 P \\sin^{2}{\\left(\\theta \\right)} \\cos{\\left(\\theta \\right)}}{\\pi r}\\\\- \\frac{2 P \\sin^{2}{\\left(\\theta \\right)} \\cos{\\left(\\theta \\right)}}{\\pi r} & - \\frac{2 P \\sin^{3}{\\left(\\theta \\right)}}{\\pi r}\\end{matrix}\\right]$"
      ],
      "text/plain": [
       "<IPython.core.display.Math object>"
      ]
     },
     "execution_count": 8,
     "metadata": {},
     "output_type": "execute_result"
    }
   ],
   "source": [
    "sigma = Matrix([[ sx, txy],\n",
    "                [txy,  sy]])\n",
    "\n",
    "imprimir(r\"\\ma{\\sigma} = \", sigma)"
   ]
  },
  {
   "cell_type": "markdown",
   "metadata": {
    "id": "gtBJku-Rgdtu"
   },
   "source": [
    "Definimos la matriz de transformación $\\ma{T}$ en dos dimensiones:"
   ]
  },
  {
   "cell_type": "markdown",
   "metadata": {},
   "source": [
    "$\\ma{T} = \\left[\\begin{matrix}\\cos{\\left(\\theta \\right)} & - \\sin{\\left(\\theta \\right)}\\\\\\sin{\\left(\\theta \\right)} & \\cos{\\left(\\theta \\right)}\\end{matrix}\\right]$"
   ]
  },
  {
   "cell_type": "code",
   "execution_count": 9,
   "metadata": {
    "colab": {
     "base_uri": "https://localhost:8080/",
     "height": 58
    },
    "id": "Gj7tuwnRgIEZ",
    "outputId": "4c465e18-b84e-4713-8fdd-c33ca6bfb440",
    "scrolled": true
   },
   "outputs": [],
   "source": [
    "T = Matrix([[cos(t), -sin(t)],\n",
    "            [sin(t),  cos(t)]])"
   ]
  },
  {
   "cell_type": "markdown",
   "metadata": {
    "id": "uVTNHZUVgVYs"
   },
   "source": [
    "Calculamos la matriz de tensiones $\\ma{\\sigma}'$ en el sistema de coordenadas especificadas por los vectores definidos en la matriz $\\ma{T}$, mediante la siguiente ecuación:\n",
    "\n",
    "$$\n",
    "\\ma{\\sigma}' =  \\ma{T}^T \\ma{\\sigma} \\ma{T}.\n",
    "$$"
   ]
  },
  {
   "cell_type": "code",
   "execution_count": 10,
   "metadata": {
    "colab": {
     "base_uri": "https://localhost:8080/",
     "height": 61
    },
    "id": "A53EXCOsgTxJ",
    "outputId": "8f0141b5-c090-4365-cab3-fc3cbf1cdc56"
   },
   "outputs": [
    {
     "data": {
      "text/latex": [
       "$\\displaystyle \\ma{\\sigma}' = \\left[\\begin{matrix}- \\frac{2 P \\sin{\\left(\\theta \\right)}}{\\pi r} & 0\\\\0 & 0\\end{matrix}\\right]$"
      ],
      "text/plain": [
       "<IPython.core.display.Math object>"
      ]
     },
     "execution_count": 10,
     "metadata": {},
     "output_type": "execute_result"
    }
   ],
   "source": [
    "sigmaP = trigsimp(T.T * sigma * T)\n",
    "\n",
    "imprimir(r\"\\ma{\\sigma}' = \", sigmaP)"
   ]
  },
  {
   "cell_type": "markdown",
   "metadata": {
    "id": "7ymJe--ng3-7"
   },
   "source": [
    "Extraemos los valores asociados a $\\sigma_x'$ (```sxp```), $\\sigma_y'$ (```syp```) y $\\tau_{x'y'}$ (```txpyp```):"
   ]
  },
  {
   "cell_type": "code",
   "execution_count": 11,
   "metadata": {
    "id": "Ilq7YZcQgw_h"
   },
   "outputs": [],
   "source": [
    "sxp   = sigmaP[0,0]\n",
    "syp   = sigmaP[1,1]\n",
    "txpyp = sigmaP[1,0]"
   ]
  },
  {
   "cell_type": "markdown",
   "metadata": {},
   "source": [
    "Para así, obtener:"
   ]
  },
  {
   "cell_type": "code",
   "execution_count": 12,
   "metadata": {
    "colab": {
     "base_uri": "https://localhost:8080/",
     "height": 53
    },
    "id": "jY7Z65KJtjby",
    "outputId": "1963e05a-1ee6-4c10-ce91-78aa70cba4ea"
   },
   "outputs": [
    {
     "data": {
      "text/latex": [
       "$\\displaystyle \\sigma_{x'} = - \\frac{2 P \\sin{\\left(\\theta \\right)}}{\\pi r}$"
      ],
      "text/plain": [
       "<IPython.core.display.Math object>"
      ]
     },
     "execution_count": 12,
     "metadata": {},
     "output_type": "execute_result"
    }
   ],
   "source": [
    "imprimir(r\"\\sigma_{x'} = \", sxp)"
   ]
  },
  {
   "cell_type": "code",
   "execution_count": 13,
   "metadata": {
    "colab": {
     "base_uri": "https://localhost:8080/",
     "height": 38
    },
    "id": "5gp2MZMnhIVX",
    "outputId": "49a3c3d5-ff3a-4ecf-c4bb-a97ca5a49376"
   },
   "outputs": [
    {
     "data": {
      "text/latex": [
       "$\\displaystyle \\sigma_{y'} = 0$"
      ],
      "text/plain": [
       "<IPython.core.display.Math object>"
      ]
     },
     "execution_count": 13,
     "metadata": {},
     "output_type": "execute_result"
    }
   ],
   "source": [
    "imprimir(r\"\\sigma_{y'} = \", syp)"
   ]
  },
  {
   "cell_type": "code",
   "execution_count": 14,
   "metadata": {
    "colab": {
     "base_uri": "https://localhost:8080/",
     "height": 38
    },
    "id": "kN9oWP8PhNJW",
    "outputId": "3605e307-8ee5-48fe-fbf5-8674a3cb54b9"
   },
   "outputs": [
    {
     "data": {
      "text/latex": [
       "$\\displaystyle \\tau_{x'y'} = 0$"
      ],
      "text/plain": [
       "<IPython.core.display.Math object>"
      ]
     },
     "execution_count": 14,
     "metadata": {},
     "output_type": "execute_result"
    }
   ],
   "source": [
    "imprimir(r\"\\tau_{x'y'} = \", txpyp)"
   ]
  },
  {
   "cell_type": "markdown",
   "metadata": {
    "id": "qfq5_Y5rNWRQ"
   },
   "source": [
    "Observemos que, al transformar los esfuerzos al sistema de coordenadas expresado por los ejes $x'$ y $y'$ se simplifica notablemente las ecuaciones, por lo que es preferible trabajar con esta última formulación. Finalmente, notemos que cuando $r \\rightarrow 0$ el esfuerzo tiende a infinito, lo cual no es físicamente posible. En la realidad lo que pasaría es que existiría fluencia en el material alrededor de la carga puntual; sin embargo, los esfuerzos alejados de dicha carga puntual sí se podrían estimar por las ecuaciones anteriores, en virtud del *Principio de Saint-Venant* que veremos en el capítulo 5."
   ]
  }
 ],
 "metadata": {
  "colab": {
   "authorship_tag": "ABX9TyOtMLop03Lj+xLMlqsAmpEu",
   "include_colab_link": true,
   "provenance": []
  },
  "kernelspec": {
   "display_name": "Python 3 (ipykernel)",
   "language": "python",
   "name": "python3"
  },
  "language_info": {
   "codemirror_mode": {
    "name": "ipython",
    "version": 3
   },
   "file_extension": ".py",
   "mimetype": "text/x-python",
   "name": "python",
   "nbconvert_exporter": "python",
   "pygments_lexer": "ipython3",
   "version": "3.10.9"
  }
 },
 "nbformat": 4,
 "nbformat_minor": 4
}
