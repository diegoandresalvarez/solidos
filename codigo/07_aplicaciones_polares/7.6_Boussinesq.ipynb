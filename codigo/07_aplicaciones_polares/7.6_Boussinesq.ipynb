{
 "cells": [
  {
   "cell_type": "markdown",
   "id": "7431ae22-15e9-4383-9f0c-263bfa6bfc36",
   "metadata": {},
   "source": [
    "# El problema de Boussinesq: cargas puntuales en medios seminfinitos"
   ]
  },
  {
   "cell_type": "code",
   "execution_count": 1,
   "id": "2bdb76f5-8ecf-4374-8b3f-a0f5bdcee3cc",
   "metadata": {},
   "outputs": [],
   "source": [
    "from sympy import init_printing, latex, symbols, pi, sqrt, log, simplify, diff, Eq, integrate, oo, solve, Matrix, factor\n",
    "\n",
    "# Para imprimir bonito\n",
    "init_printing()\n",
    "from IPython.display import Math                 \n",
    "def imprimir (texto1, variable, texto2=\"\"):\n",
    "    return Math(texto1 +  rf'{latex(variable)}' + texto2)"
   ]
  },
  {
   "cell_type": "code",
   "execution_count": 2,
   "id": "a4900ee0-2477-4df1-a5c1-f75c28e1467f",
   "metadata": {},
   "outputs": [],
   "source": [
    "# el radio r solo puede tomar valores positivos\n",
    "r = symbols('r', positive=True) # r > 0\n",
    "\n",
    "# el medio semiinfinito se encuentra para z<0, por lo que a<0\n",
    "a = symbols('a', negative=True)\n",
    "\n",
    "t = symbols('theta')\n",
    "A, B, R, z, P, nu, E= symbols('A, B, R, z, P, nu, E')"
   ]
  },
  {
   "cell_type": "code",
   "execution_count": 3,
   "id": "08b1682e-7a2a-49bb-812f-f37bbf71e269",
   "metadata": {},
   "outputs": [],
   "source": [
    "# la función de tensión de Love solo depende de r y z\n",
    "R = sqrt(r**2 + z**2)\n",
    "phi = B*R + A*z*log(R + z) # log(R+z) es el logaritmo natural de R+z"
   ]
  },
  {
   "cell_type": "markdown",
   "id": "9072316b-803e-4225-845f-3db44f23cb8c",
   "metadata": {},
   "source": [
    "Se define el laplaciano en el caso axisimétrico:"
   ]
  },
  {
   "cell_type": "code",
   "execution_count": 4,
   "id": "44b383e5-49d4-4074-a730-4a0fee8dfdff",
   "metadata": {},
   "outputs": [],
   "source": [
    "lapl = lambda f : (1/r)*diff(r*diff(f,r),r) + diff(f,z,2)"
   ]
  },
  {
   "cell_type": "code",
   "execution_count": 5,
   "id": "42fad2b2-0ce4-40ac-b9cb-09aee8dc8968",
   "metadata": {},
   "outputs": [],
   "source": [
    "# se calcula el biarmónico de la función de tensión de Love\n",
    "bphi = simplify(lapl(lapl(phi)))"
   ]
  },
  {
   "cell_type": "code",
   "execution_count": 6,
   "id": "58c77cdf-944a-483d-b65b-4f2387924210",
   "metadata": {},
   "outputs": [
    {
     "name": "stdout",
     "output_type": "stream",
     "text": [
      "El biarmónico se satisface\n"
     ]
    }
   ],
   "source": [
    "# se verifica si el biarmónico se satisface\n",
    "if bphi == 0:\n",
    "    print(\"El biarmónico se satisface\")\n",
    "else:\n",
    "    raise Exception(\"El biarmónico NO se satisface\")"
   ]
  },
  {
   "cell_type": "markdown",
   "id": "a625e3be-2f0f-4939-a8b6-814c77b7eafb",
   "metadata": {},
   "source": [
    "Se definen los esfuerzos por medio de la función de tensión de Love:"
   ]
  },
  {
   "cell_type": "code",
   "execution_count": 7,
   "id": "5b0d713c-94c4-4ba5-a644-ea2ccdda275a",
   "metadata": {},
   "outputs": [],
   "source": [
    "sr  = simplify(diff(    nu*lapl(phi) -       diff(phi,r,2), z))\n",
    "st  = simplify(diff(    nu*lapl(phi) - (1/r)*diff(phi,r),   z))\n",
    "sz  = simplify(diff((2-nu)*lapl(phi) -       diff(phi,z,2), z))\n",
    "trz = simplify(diff((1-nu)*lapl(phi) -       diff(phi,z,2), r))"
   ]
  },
  {
   "cell_type": "markdown",
   "id": "61316d87-ddd7-40cb-acc2-78305334f4be",
   "metadata": {},
   "source": [
    "Se definen los desplazamientos empleando la función de tensión de Love:"
   ]
  },
  {
   "cell_type": "code",
   "execution_count": 8,
   "id": "2bde67fe-4946-4121-a82e-5ef994105c18",
   "metadata": {},
   "outputs": [],
   "source": [
    "ur = simplify(-((1+nu)/E)*diff(phi,r,1,z,1))\n",
    "w  = simplify( ((1+nu)/E)*(2*(1-nu)*lapl(phi) - diff(phi,z,2)))"
   ]
  },
  {
   "cell_type": "markdown",
   "id": "aaf526fe-fab6-4f9d-9fc6-fe4e65b214d4",
   "metadata": {},
   "source": [
    "## Verificación de las condiciones de frontera"
   ]
  },
  {
   "cell_type": "markdown",
   "id": "f0429ecc-59b6-42df-bd96-183ed5e4de61",
   "metadata": {},
   "source": [
    "$\\sigma_z$ en el plano $z = 0$ vale cero para $r>0$:"
   ]
  },
  {
   "cell_type": "code",
   "execution_count": 9,
   "id": "de2c2fa8-8cfd-420a-8c65-0842fe37f4c0",
   "metadata": {},
   "outputs": [
    {
     "data": {
      "text/plain": [
       "True"
      ]
     },
     "execution_count": 9,
     "metadata": {},
     "output_type": "execute_result"
    }
   ],
   "source": [
    "sz.subs(z, 0) == 0"
   ]
  },
  {
   "cell_type": "markdown",
   "id": "6c149719-8857-4e38-a3fc-66587aea23c0",
   "metadata": {},
   "source": [
    "$\\tau_{rz}$ en el plano $z = 0$ vale cero para $r>0$:"
   ]
  },
  {
   "cell_type": "code",
   "execution_count": 10,
   "id": "89afe33e-0bac-457b-a512-8446f9427306",
   "metadata": {},
   "outputs": [
    {
     "data": {
      "image/png": "[encoded data removed]",
      "text/latex": [
       "$\\displaystyle \\frac{2 A \\nu + 2 B \\nu - B}{r^{2}} = 0$"
      ],
      "text/plain": [
       "2⋅A⋅ν + 2⋅B⋅ν - B    \n",
       "───────────────── = 0\n",
       "         2           \n",
       "        r            "
      ]
     },
     "execution_count": 10,
     "metadata": {},
     "output_type": "execute_result"
    }
   ],
   "source": [
    "eq1 = simplify(Eq(trz.subs(z, 0), 0))\n",
    "eq1"
   ]
  },
  {
   "cell_type": "markdown",
   "id": "3c303d13-01a7-4d09-8877-07169c8e91f6",
   "metadata": {},
   "source": [
    " Sobre cualquier plano $z=a$, la integral de los sz vale +P"
   ]
  },
  {
   "cell_type": "code",
   "execution_count": 11,
   "id": "d1b341f6-d7bc-468e-a31b-aad88fc6e0b6",
   "metadata": {},
   "outputs": [],
   "source": [
    "# eq2 = Eq(integrate(sz.subs(z,a) * 2*pi*r, (r, 0, oo)) - P, 0)"
   ]
  },
  {
   "cell_type": "markdown",
   "id": "ed65ce8a-8789-47e7-a66f-e16ab7ef3ecb",
   "metadata": {},
   "source": [
    "SYMPY no es capaz de resolver la línea anterior. Sin embargo, MAXIMA si lo hace y su resultado es:"
   ]
  },
  {
   "cell_type": "code",
   "execution_count": 12,
   "id": "bbd5caec-8977-47bf-ab2b-c9634ea99b16",
   "metadata": {},
   "outputs": [],
   "source": [
    "eq2 = Eq(2*pi*(-2*(A + B)*nu + 2*B + A) - P, 0)"
   ]
  },
  {
   "cell_type": "code",
   "execution_count": 13,
   "id": "1d9afd1c-9afb-4936-9105-111a9d0a089f",
   "metadata": {},
   "outputs": [
    {
     "data": {
      "image/png": "[encoded data removed]",
      "text/latex": [
       "$\\displaystyle \\left\\{ A : \\frac{- 2 P \\nu + P}{2 \\pi}, \\  B : \\frac{P \\nu}{\\pi}\\right\\}$"
      ],
      "text/plain": [
       "⎧   -2⋅P⋅ν + P     P⋅ν⎫\n",
       "⎨A: ──────────, B: ───⎬\n",
       "⎩      2⋅π          π ⎭"
      ]
     },
     "execution_count": 13,
     "metadata": {},
     "output_type": "execute_result"
    }
   ],
   "source": [
    "const_AB = solve([eq1, eq2], [A, B])\n",
    "const_AB"
   ]
  },
  {
   "cell_type": "code",
   "execution_count": 14,
   "id": "26571c30-5aff-49b5-9c6e-bc225597a71a",
   "metadata": {},
   "outputs": [],
   "source": [
    "# Se reemplazan las constantes A y B en los esfuerzos y desplazamientos\n",
    "sol1 = [sr, st, sz, trz, ur, w]\n",
    "\n",
    "sol1 = [expr.subs(const_AB) for expr in sol1]"
   ]
  },
  {
   "cell_type": "markdown",
   "id": "840d6eb7-fcd1-4615-bf64-cb921b48173d",
   "metadata": {},
   "source": [
    "Estos son los esfuerzos y desplazamientos como usualmente aparecen en la literatura:"
   ]
  },
  {
   "cell_type": "code",
   "execution_count": 15,
   "id": "4465e7eb-a049-4677-8aa5-0ae9f1a3ac95",
   "metadata": {},
   "outputs": [],
   "source": [
    "srL  = (P/(2*pi*R**2))*(-3*r**2*z/R**3 + (1-2*nu)*R/(R+z))\n",
    "stL  = ((1-2*nu)*P/(2*pi*R**2))*(z/R - R/(R+z))\n",
    "szL  = -3*P*z**3/(2*pi*R**5)\n",
    "trzL = -3*P*r*z**2/(2*pi*R**5)\n",
    "urL  = ((1+nu)*P/(2*pi*E*R))*(r*z/R**2 - (1-2*nu)*r/(R+z))\n",
    "wL   = ((1+nu)*P/(2*pi*E*R))*(2*(1-nu) + z**2/R**2)\n",
    "\n",
    "sol2 = [srL, stL, szL, trzL, urL, wL]"
   ]
  },
  {
   "cell_type": "markdown",
   "id": "c8ba9e95-c70b-45cc-ab8c-b0053d40220f",
   "metadata": {},
   "source": [
    "Esta última línea imprime `[0, 0, 0, 0, 0, 0]`, lo cual indica que obtuvimos los mismos resultados reportados en la literatura:"
   ]
  },
  {
   "cell_type": "code",
   "execution_count": 16,
   "id": "2df432aa-23f7-4c11-a6f5-9d937b845fbb",
   "metadata": {},
   "outputs": [
    {
     "data": {
      "image/png": "[encoded data removed]",
      "text/latex": [
       "$\\displaystyle \\left[\\begin{matrix}0 & 0 & 0 & 0 & 0 & 0\\end{matrix}\\right]$"
      ],
      "text/plain": [
       "[0  0  0  0  0  0]"
      ]
     },
     "execution_count": 16,
     "metadata": {},
     "output_type": "execute_result"
    }
   ],
   "source": [
    "simplify(Matrix(sol1) - Matrix(sol2)).T"
   ]
  }
 ],
 "metadata": {
  "kernelspec": {
   "display_name": "Python 3 (ipykernel)",
   "language": "python",
   "name": "python3"
  },
  "language_info": {
   "codemirror_mode": {
    "name": "ipython",
    "version": 3
   },
   "file_extension": ".py",
   "mimetype": "text/x-python",
   "name": "python",
   "nbconvert_exporter": "python",
   "pygments_lexer": "ipython3",
   "version": "3.10.9"
  }
 },
 "nbformat": 4,
 "nbformat_minor": 5
}
