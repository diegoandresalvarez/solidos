{
 "cells": [
  {
   "cell_type": "markdown",
   "id": "8685156b-d921-48a8-9676-d60de594c12d",
   "metadata": {},
   "source": [
    "# 11.8. Cálculo de $M_x$, $M_y$, $M_{xy}$, $Q_x$ y $Q_y$"
   ]
  },
  {
   "cell_type": "markdown",
   "id": "39504060-302c-4c59-b3e5-e89f5ef61625",
   "metadata": {
    "tags": []
   },
   "source": [
    "$$\n",
    "\\newcommand{\\ve}[1]{{\\boldsymbol{#1}}}\n",
    "\\newcommand{\\ma}[1]{{\\boldsymbol{#1}}}\n",
    "\\newcommand{\\hate}{\\ve{\\hat e}}\n",
    "\\newcommand{\\hati}{\\ve{\\hat i}}\n",
    "\\newcommand{\\hatj}{\\ve{\\hat j}}\n",
    "\\newcommand{\\hatk}{\\ve{\\hat k}}\n",
    "\\newcommand{\\hatr}{\\ve{\\hat r}}\n",
    "\\newcommand{\\hatt}{\\ve{\\hat \\theta}}\n",
    "\\newcommand{\\hatz}{\\ve{\\hat z}}\n",
    "$$"
   ]
  },
  {
   "cell_type": "code",
   "execution_count": 1,
   "id": "75edd0e8-b72e-4702-b54c-407de6bbec2b",
   "metadata": {},
   "outputs": [],
   "source": [
    "from sympy import init_printing, latex, symbols, Function, diff, integrate, factor, simplify\n",
    "\n",
    "# Para imprimir bonito\n",
    "init_printing()\n",
    "from IPython.display import Math                 \n",
    "def imprimir (texto1, variable, texto2=\"\"):\n",
    "    return Math(texto1 +  rf'{latex(variable)}' + texto2)"
   ]
  },
  {
   "cell_type": "markdown",
   "id": "bb2bab07-96d6-4ac1-a875-19656981ac54",
   "metadata": {},
   "source": [
    "Se definen las variables simbólicas necesarias:"
   ]
  },
  {
   "cell_type": "code",
   "execution_count": 2,
   "id": "d9dfc027-ed66-4dca-8af8-5cd753e35a80",
   "metadata": {},
   "outputs": [],
   "source": [
    "x, y, z, D, E, nu, t = symbols('x y z D E nu t')\n",
    "w = Function('w')(x, y)"
   ]
  },
  {
   "cell_type": "markdown",
   "id": "b80174e2-d0ca-4f83-8111-5acbdf250f46",
   "metadata": {},
   "source": [
    "Se calcula el módulo de rigidez de la losa:"
   ]
  },
  {
   "cell_type": "code",
   "execution_count": 3,
   "id": "2706aa26-4ca0-4d4d-a3cb-bf4ffb49e8d0",
   "metadata": {},
   "outputs": [],
   "source": [
    "G = E/(2*(1 + nu))"
   ]
  },
  {
   "cell_type": "markdown",
   "id": "81fe709c-d7d8-4e4c-9587-03b919bcfabe",
   "metadata": {},
   "source": [
    "Se define el campo vectorial de desplazamientos para una losa:"
   ]
  },
  {
   "cell_type": "code",
   "execution_count": 4,
   "id": "872716f7-9c44-467e-b22c-45c65f4bdee6",
   "metadata": {},
   "outputs": [],
   "source": [
    "u = -z*diff(w, x)\n",
    "v = -z*diff(w, y)"
   ]
  },
  {
   "cell_type": "markdown",
   "id": "71c686aa-87f5-4ddf-905a-6f1e30dcd0f9",
   "metadata": {},
   "source": [
    "Se calculan las deformaciones:"
   ]
  },
  {
   "cell_type": "code",
   "execution_count": 5,
   "id": "1450e398-6697-4fde-94a9-451ee05693a0",
   "metadata": {},
   "outputs": [],
   "source": [
    "ex  = diff(u, x)\n",
    "ey  = diff(v, y)\n",
    "ez  = diff(w, z)\n",
    "gxy = diff(u, y) + diff(v, x)\n",
    "gxz = diff(w, x) + diff(u, z)\n",
    "gyz = diff(w, y) + diff(v, z)"
   ]
  },
  {
   "cell_type": "markdown",
   "id": "3aeac1d9-e809-4845-bf2d-9b384da1c172",
   "metadata": {},
   "source": [
    "Se calculan los esfuerzos utilizando la ley de Hooke (para tensión plana):"
   ]
  },
  {
   "cell_type": "code",
   "execution_count": 6,
   "id": "b6ab5fb4-46d4-4cd6-8d61-cef87e5e68b2",
   "metadata": {},
   "outputs": [],
   "source": [
    "sx  = (E/(1 - nu**2))*(ex + nu*ey)\n",
    "sy  = (E/(1 - nu**2))*(ey + nu*ex)\n",
    "txy = G*gxy"
   ]
  },
  {
   "cell_type": "markdown",
   "id": "42293aa0-f275-49f3-a7a6-d3c7d590de98",
   "metadata": {},
   "source": [
    "Se calculan los esfuerzos $\\tau_{xz}$, $\\tau_{yz}$ y $\\sigma_z$ integrando las ecuaciones diferenciales de equilibrio:"
   ]
  },
  {
   "cell_type": "code",
   "execution_count": 7,
   "id": "f7b7e604-9e8b-43f8-aed7-3b40ba25de41",
   "metadata": {},
   "outputs": [
    {
     "data": {
      "text/latex": [
       "$\\displaystyle \\tau_{xz}(x,y) = \\frac{E \\left(t^{2} - 4 z^{2}\\right) \\left(\\frac{\\partial^{3}}{\\partial x^{3}} w{\\left(x,y \\right)} + \\frac{\\partial^{3}}{\\partial y^{2}\\partial x} w{\\left(x,y \\right)}\\right)}{8 \\left(\\nu^{2} - 1\\right)}$"
      ],
      "text/plain": [
       "<IPython.core.display.Math object>"
      ]
     },
     "execution_count": 7,
     "metadata": {},
     "output_type": "execute_result"
    }
   ],
   "source": [
    "dtxz_dz = -(diff(sx, x) + diff(txy, y))\n",
    "txz = simplify(integrate(dtxz_dz, (z, -t/2, z)))\n",
    "imprimir(r\"\\tau_{xz}(x,y) = \", txz)"
   ]
  },
  {
   "cell_type": "code",
   "execution_count": 8,
   "id": "f883d9ad-bf1d-46e7-bee2-e51577dc01fd",
   "metadata": {},
   "outputs": [
    {
     "data": {
      "text/latex": [
       "$\\displaystyle \\tau_{yz}(x,y) = \\frac{E \\left(t^{2} - 4 z^{2}\\right) \\left(\\frac{\\partial^{3}}{\\partial y^{3}} w{\\left(x,y \\right)} + \\frac{\\partial^{3}}{\\partial y\\partial x^{2}} w{\\left(x,y \\right)}\\right)}{8 \\left(\\nu^{2} - 1\\right)}$"
      ],
      "text/plain": [
       "<IPython.core.display.Math object>"
      ]
     },
     "execution_count": 8,
     "metadata": {},
     "output_type": "execute_result"
    }
   ],
   "source": [
    "dtyz_dz = -(diff(txy, x) + diff(sy, y))\n",
    "tyz = simplify(integrate(dtyz_dz, (z, -t/2, z)))\n",
    "imprimir(r\"\\tau_{yz}(x,y) = \", tyz)"
   ]
  },
  {
   "cell_type": "code",
   "execution_count": 9,
   "id": "e5303e2b-c49c-4c27-8ca1-058a8bbb606f",
   "metadata": {},
   "outputs": [
    {
     "data": {
      "text/latex": [
       "$\\displaystyle \\sigma_z(x,y) = \\frac{E \\left(- t^{3} - 3 t^{2} z + 4 z^{3}\\right) \\left(\\frac{\\partial^{4}}{\\partial x^{4}} w{\\left(x,y \\right)} + \\frac{\\partial^{4}}{\\partial y^{4}} w{\\left(x,y \\right)} + 2 \\frac{\\partial^{4}}{\\partial y^{2}\\partial x^{2}} w{\\left(x,y \\right)}\\right)}{24 \\left(\\nu^{2} - 1\\right)}$"
      ],
      "text/plain": [
       "<IPython.core.display.Math object>"
      ]
     },
     "execution_count": 9,
     "metadata": {},
     "output_type": "execute_result"
    }
   ],
   "source": [
    "dsz_dz = -(diff(txz, x) + diff(tyz, y))\n",
    "sz  = simplify(integrate(dsz_dz, (z, -t/2, z)))\n",
    "imprimir(r\"\\sigma_z(x,y) = \", sz)"
   ]
  },
  {
   "cell_type": "markdown",
   "id": "e376dfa7-6dcb-483d-af37-ba4469d7df1c",
   "metadata": {},
   "source": [
    "A partir de la rigidez a la flexión de la placa:\n",
    "$$\n",
    "D = \\frac{E t^3}{12(1 - \\nu^2)},\n",
    "$$\n",
    "se define el módulo de elasticidad como:\n",
    "$$\n",
    "E = \\frac{12 D (1 - \\nu^2)}{t^3}\n",
    "$$\n",
    "y se reemplaza en los esfuerzos calculados:"
   ]
  },
  {
   "cell_type": "code",
   "execution_count": 10,
   "id": "782fa9a3-1181-4a71-a5d1-bdcfdc849e53",
   "metadata": {},
   "outputs": [],
   "source": [
    "sx  =  sx.subs(E, 12*D*(1 - nu**2)/t**3)\n",
    "sy  =  sy.subs(E, 12*D*(1 - nu**2)/t**3)\n",
    "txy = txy.subs(E, 12*D*(1 - nu**2)/t**3)"
   ]
  },
  {
   "cell_type": "markdown",
   "id": "f3afd667-fe86-4cfb-8250-57adb28229ea",
   "metadata": {},
   "source": [
    "Se calculan los momentos de flexión y de torsión:"
   ]
  },
  {
   "cell_type": "code",
   "execution_count": 11,
   "id": "68fee5f1-3c11-427a-9b26-74a8e0eac071",
   "metadata": {},
   "outputs": [],
   "source": [
    "Mx  = simplify(integrate(z * sx,  (z, -t/2, t/2)))\n",
    "My  = simplify(integrate(z * sy,  (z, -t/2, t/2)))\n",
    "Mxy = simplify(integrate(z * txy, (z, -t/2, t/2)))"
   ]
  },
  {
   "cell_type": "code",
   "execution_count": 12,
   "id": "dc62ba99-9a0e-47ec-a0ab-c7d5f13e87ca",
   "metadata": {},
   "outputs": [
    {
     "data": {
      "text/latex": [
       "$\\displaystyle M_x(x,y) = D \\left(- \\nu \\frac{\\partial^{2}}{\\partial y^{2}} w{\\left(x,y \\right)} - \\frac{\\partial^{2}}{\\partial x^{2}} w{\\left(x,y \\right)}\\right)$"
      ],
      "text/plain": [
       "<IPython.core.display.Math object>"
      ]
     },
     "execution_count": 12,
     "metadata": {},
     "output_type": "execute_result"
    }
   ],
   "source": [
    "imprimir(r\"M_x(x,y) = \", Mx)"
   ]
  },
  {
   "cell_type": "code",
   "execution_count": 13,
   "id": "85d077fb-949c-4816-af09-676bf3450e31",
   "metadata": {},
   "outputs": [
    {
     "data": {
      "text/latex": [
       "$\\displaystyle M_y(x,y) = D \\left(- \\nu \\frac{\\partial^{2}}{\\partial x^{2}} w{\\left(x,y \\right)} - \\frac{\\partial^{2}}{\\partial y^{2}} w{\\left(x,y \\right)}\\right)$"
      ],
      "text/plain": [
       "<IPython.core.display.Math object>"
      ]
     },
     "execution_count": 13,
     "metadata": {},
     "output_type": "execute_result"
    }
   ],
   "source": [
    "imprimir(r\"M_y(x,y) = \", My)"
   ]
  },
  {
   "cell_type": "code",
   "execution_count": 14,
   "id": "1d2a9d6b-c466-4422-b5f9-eb02507b7f49",
   "metadata": {},
   "outputs": [
    {
     "data": {
      "text/latex": [
       "$\\displaystyle M_{xy}(x,y) = D \\left(\\nu - 1\\right) \\frac{\\partial^{2}}{\\partial y\\partial x} w{\\left(x,y \\right)}$"
      ],
      "text/plain": [
       "<IPython.core.display.Math object>"
      ]
     },
     "execution_count": 14,
     "metadata": {},
     "output_type": "execute_result"
    }
   ],
   "source": [
    "imprimir(r\"M_{xy}(x,y) = \", Mxy)"
   ]
  },
  {
   "cell_type": "markdown",
   "id": "a57e8871-b582-4678-8fc9-b34f599116e7",
   "metadata": {},
   "source": [
    "Se calculan las fuerzas cortantes:"
   ]
  },
  {
   "cell_type": "code",
   "execution_count": 15,
   "id": "112bbd32-bf10-4058-88c0-b6acc25c9c78",
   "metadata": {},
   "outputs": [],
   "source": [
    "Qx = simplify(integrate(txz, (z, -t/2, t/2)))\n",
    "Qy = simplify(integrate(tyz, (z, -t/2, t/2)))"
   ]
  },
  {
   "cell_type": "code",
   "execution_count": 16,
   "id": "38adfc20-8136-49df-a893-f1c5176d545b",
   "metadata": {},
   "outputs": [
    {
     "data": {
      "text/latex": [
       "$\\displaystyle Q_x(x,y) = \\frac{E t^{3} \\left(\\frac{\\partial^{3}}{\\partial x^{3}} w{\\left(x,y \\right)} + \\frac{\\partial^{3}}{\\partial y^{2}\\partial x} w{\\left(x,y \\right)}\\right)}{12 \\left(\\nu^{2} - 1\\right)}$"
      ],
      "text/plain": [
       "<IPython.core.display.Math object>"
      ]
     },
     "execution_count": 16,
     "metadata": {},
     "output_type": "execute_result"
    }
   ],
   "source": [
    "imprimir(r\"Q_x(x,y) = \", Qx)"
   ]
  },
  {
   "cell_type": "code",
   "execution_count": 17,
   "id": "f0f6dcb9-6c86-41b8-b709-7e1b47ba6413",
   "metadata": {},
   "outputs": [
    {
     "data": {
      "text/latex": [
       "$\\displaystyle Q_y(x,y) = \\frac{E t^{3} \\left(\\frac{\\partial^{3}}{\\partial y^{3}} w{\\left(x,y \\right)} + \\frac{\\partial^{3}}{\\partial y\\partial x^{2}} w{\\left(x,y \\right)}\\right)}{12 \\left(\\nu^{2} - 1\\right)}$"
      ],
      "text/plain": [
       "<IPython.core.display.Math object>"
      ]
     },
     "execution_count": 17,
     "metadata": {},
     "output_type": "execute_result"
    }
   ],
   "source": [
    "imprimir(r\"Q_y(x,y) = \", Qy)"
   ]
  }
 ],
 "metadata": {
  "kernelspec": {
   "display_name": "Python 3 (ipykernel)",
   "language": "python",
   "name": "python3"
  },
  "language_info": {
   "codemirror_mode": {
    "name": "ipython",
    "version": 3
   },
   "file_extension": ".py",
   "mimetype": "text/x-python",
   "name": "python",
   "nbconvert_exporter": "python",
   "pygments_lexer": "ipython3",
   "version": "3.11.7"
  }
 },
 "nbformat": 4,
 "nbformat_minor": 5
}
