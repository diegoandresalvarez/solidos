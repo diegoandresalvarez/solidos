{
 "cells": [
  {
   "cell_type": "markdown",
   "id": "18b2cb80-79f1-48fe-b0db-84106b72c6b2",
   "metadata": {},
   "source": [
    "# Viga del ejemplo 4\n",
    "\n",
    "|Quién | Correo | Fecha | Qué hizo |\n",
    "| ---  | ---    | ---   | ---      |\n",
    "|Diego Andrés Alvarez Marín | <daalvarez@unal.edu.co> | Febrero 12, 2024  | Conversión de código de Maxima a Python |"
   ]
  },
  {
   "cell_type": "markdown",
   "id": "6d21f9ed-653c-42af-be5c-2b9ba380c46a",
   "metadata": {},
   "source": [
    "Utilizando la **teoría de vigas de Euler-Bernoulli**, calcule los diagramas de fuerza cortante, momento flector, ángulo de giro y deflexión vertical de la viga mostrada en la figura:\n",
    "\n",
    "<img src=\"viga_4.png\" width=\"600\">"
   ]
  },
  {
   "cell_type": "code",
   "execution_count": 1,
   "id": "e73c03bb-5d03-42d5-8e70-bbd9c66d0553",
   "metadata": {},
   "outputs": [],
   "source": [
    "from sympy import init_printing, latex, DiracDelta, Piecewise, integrate, symbols, Eq, plot, piecewise_fold, solve, Interval, Rational, sets\n",
    "from sympy.abc import x\n",
    "\n",
    "# Para imprimir bonito\n",
    "init_printing()\n",
    "from IPython.display import Math                 \n",
    "def imprimir (texto1, variable, texto2=\"\"):\n",
    "    return Math(texto1 +  rf'{latex(variable)}' + texto2)"
   ]
  },
  {
   "cell_type": "markdown",
   "id": "76ca4c1e-597b-406d-ba24-418729210e9c",
   "metadata": {},
   "source": [
    "Se define una función que hace el código más corto y legible, evitando el uso de las [funciones G de Meijerg](https://en.wikipedia.org/wiki/Meijer_G-function):"
   ]
  },
  {
   "cell_type": "code",
   "execution_count": 2,
   "id": "cc06d4e3-ba77-487e-b76f-00c0e11ec525",
   "metadata": {},
   "outputs": [],
   "source": [
    "integre = lambda f, x : integrate(f, x, meijerg=False)"
   ]
  },
  {
   "cell_type": "markdown",
   "id": "8c5fed8a-8a72-458c-99d6-665935c1757a",
   "metadata": {},
   "source": [
    "Se define la geometría de la viga y las propiedades del material:"
   ]
  },
  {
   "cell_type": "code",
   "execution_count": 3,
   "id": "b44217af-3269-4a93-afa3-89e21613693b",
   "metadata": {},
   "outputs": [],
   "source": [
    "L = 12              # [m]   Longitud de la viga\n",
    "b = Rational(1, 10) # [m]   Ancho de la viga\n",
    "h = Rational(3, 10) # [m]   Altura de la viga\n",
    "E = 210_000_000     # [kPa] Módulo de elasticidad de la viga\n",
    "I = (b*h*h*h)/12    # [m⁴]  Momento de inercia en z   "
   ]
  },
  {
   "cell_type": "markdown",
   "id": "8ddc6d94-fc59-4fa0-a345-9636eb4ba5f2",
   "metadata": {},
   "source": [
    "Se definen las cargas distribuidas de acuerdo con la tabla 10.3 del `main.pdf`"
   ]
  },
  {
   "cell_type": "code",
   "execution_count": 4,
   "id": "892ff77b-0410-4714-a835-e4493e9a7b8d",
   "metadata": {},
   "outputs": [],
   "source": [
    "# Caso 2: carga puntual \n",
    "qpunt = lambda p,a : p*DiracDelta(x-a)\n",
    "\n",
    "# Caso 5: carga distribuida variable \n",
    "qdist = lambda f,a,b : Piecewise((f, (a < x) & (x < b)), (0, True))\n",
    "\n",
    "# Funcion rectangular: si x>a y x<b retorne 1 sino retorne 0   \n",
    "rect = lambda a,b : Piecewise((1, (a < x) & (x < b)), (0, True))\n",
    "\n",
    "# Momento flector\n",
    "mflec = lambda m,a : -m*DiracDelta(x-a, 1)"
   ]
  },
  {
   "cell_type": "markdown",
   "id": "3e77836c-ec8e-442e-b24d-fb3740ea5f03",
   "metadata": {},
   "source": [
    "### Forma 1:"
   ]
  },
  {
   "cell_type": "markdown",
   "id": "bc3a4b40-b552-404e-8507-c95218a20d4b",
   "metadata": {},
   "source": [
    "Se especifica la carga distribuida $q(x)$. Observe que aqui no se incluye el momento de -16 kN m en $x$ = 8 m, ya que  este se tendra en cuenta cuando se planteen las ecuaciones que resuelven las constantes de integración:"
   ]
  },
  {
   "cell_type": "code",
   "execution_count": 5,
   "id": "76949cff-70f6-43a0-8de8-7a166adecb37",
   "metadata": {},
   "outputs": [],
   "source": [
    "q = qdist(-Rational(1,18)*x*x + Rational(4,9)*x - Rational(26,9),4,10) + qpunt(-15,6) + mflec(27,2)"
   ]
  },
  {
   "cell_type": "markdown",
   "id": "f192bb35-1add-4ba9-a378-0b68298767ab",
   "metadata": {},
   "source": [
    "Se resuelve la ecuación diferencial tramo por tramo:"
   ]
  },
  {
   "cell_type": "code",
   "execution_count": 6,
   "id": "77f2a7d1-656c-4902-acff-7706c56bd335",
   "metadata": {},
   "outputs": [],
   "source": [
    "# Tramo 1: de x=0m a x=4m\n",
    "C1_1, C1_2, C1_3, C1_4 = symbols('C1_1 C1_2 C1_3 C1_4')\n",
    "q1 = q*rect(0,4)\n",
    "V1 = integre(q1,x)       + C1_1\n",
    "M1 = integre(V1,x)       + C1_2\n",
    "t1 = integre(M1/(E*I),x) + C1_3\n",
    "v1 = integre(t1,x)       + C1_4\n",
    "\n",
    "# Tramo 2: de x=4m a x=8m\n",
    "C2_1, C2_2, C2_3, C2_4 = symbols('C2_1 C2_2 C2_3 C2_4')\n",
    "q2 = q*rect(4,8)\n",
    "V2 = integre(q2,x)       + C2_1\n",
    "M2 = integre(V2,x)       + C2_2\n",
    "t2 = integre(M2/(E*I),x) + C2_3\n",
    "v2 = integre(t2,x)       + C2_4\n",
    "\n",
    "# Tramo 3: de x=8m a x=12m\n",
    "C3_1, C3_2, C3_3, C3_4 = symbols('C3_1 C3_2 C3_3 C3_4')\n",
    "q3 = q*rect(8,12)\n",
    "V3 = integre(q3,x)       + C3_1\n",
    "M3 = integre(V3,x)       + C3_2\n",
    "t3 = integre(M3/(E*I),x) + C3_3\n",
    "v3 = integre(t3,x)       + C3_4"
   ]
  },
  {
   "cell_type": "markdown",
   "id": "aafbccd4-a322-4d73-9e52-c64d1b5a6a97",
   "metadata": {},
   "source": [
    "### Forma 2:"
   ]
  },
  {
   "cell_type": "raw",
   "id": "7078a8d9-ef7d-4aa3-b4aa-482d6bfed558",
   "metadata": {},
   "source": [
    "# Integral del momento flector\n",
    "int_mflec = lambda m,a : -m*DiracDelta(x-a)\n",
    "\n",
    "# Se descompone el vector de cargas q(x)     \n",
    "q_sin_momento = qpunt(-5,1) + qdist(-3*x/2,2,4)\n",
    "int_momentos  = int_mflec(-8,3.5) + int_mflec(3,5)\n",
    "\n",
    "# Se resuelve la ecuación diferencial\n",
    "C1, C2, C3, C4 = sp.symbols('C1 C2 C3 C4')\n",
    "V = integre(q_sin_momento, x) + int_momentos + C1\n",
    "M = integre(V, x)                            + C2\n",
    "t = integre(M/(E*I), x)                      + C3\n",
    "v = integre(t, x)                            + C4"
   ]
  },
  {
   "cell_type": "markdown",
   "id": "cb2779a7-c9fe-4bc3-aefd-2c42b3731a8d",
   "metadata": {},
   "source": [
    "Se resuelve la ecuación diferencial tramo por tramo:"
   ]
  },
  {
   "cell_type": "raw",
   "id": "b42947b0-1531-48ad-a035-1e4826dc9c7e",
   "metadata": {},
   "source": [
    "# Tramo 1: de x=0m a x=4m\n",
    "C1_1, C1_2, C1_3, C1_4 = symbols('C1_1 C1_2 C1_3 C1_4')\n",
    "q1 = q*rect(0,4)               # restriccion de q al tramo 1   \n",
    "V1 = integre(q1, x)       + C1_1\n",
    "M1 = integre(V1, x)       + C1_2\n",
    "t1 = integre(M1/(E*I), x) + C1_3\n",
    "v1 = integre(t1, x)       + C1_4\n",
    "\n",
    "# Tramo 2: de x=4m a x=8m\n",
    "C2_1, C2_2, C2_3, C2_4 = symbols('C2_1 C2_2 C2_3 C2_4')\n",
    "q2 = q*rect(4,8)               # restriccion de q al tramo 2   \n",
    "V2 = integre(q2, x)       + C2_1\n",
    "M2 = integre(V2, x)       + C2_2\n",
    "t2 = integre(M2/(E*I), x) + C2_3\n",
    "v2 = integre(t2, x)       + C2_4\n",
    "\n",
    "# Tramo 3: de x=8m a x=12m\n",
    "C3_1, C3_2, C3_3, C3_4 = symbols('C3_1 C3_2 C3_3 C3_4')\n",
    "q3 = q*rect(8,12)              # restriccion de q al tramo 3   \n",
    "V3 = integre(q3, x)       + C3_1\n",
    "M3 = integre(V3, x)       + C3_2\n",
    "t3 = integre(M3/(E*I), x) + C3_3\n",
    "v3 = integre(t3, x)       + C3_4"
   ]
  },
  {
   "cell_type": "markdown",
   "id": "f88888c6-0f88-4f6c-9a71-170a041c6cf4",
   "metadata": {},
   "source": [
    "Se encuentran las constantes de integración que satisfacen las condiciones de frontera:"
   ]
  },
  {
   "cell_type": "code",
   "execution_count": 7,
   "id": "d08f77e4-324e-4d74-b218-7c61032bbe9d",
   "metadata": {},
   "outputs": [],
   "source": [
    "sol = solve([ \n",
    "      Eq(v1.subs(x,0), 0),            # despl vertical en apoyo en x=0 es 0\n",
    "      Eq(M1.subs(x,0), 0),            # momento flector en x=0 es 0\n",
    "        \n",
    "      Eq(v1.subs(x,4), v2.subs(x,4)), # continuidad en despl vertical en x=4\n",
    "      Eq(V1.subs(x,4), V2.subs(x,4)), # continuidad en cortante en x=4\n",
    "      Eq(M1.subs(x,4), 0),            # momento flector en x=4 es 0 (rotula)\n",
    "      Eq(M2.subs(x,4), 0),            # momento flector en x=4 es 0 (rotula)\n",
    "        \n",
    "      Eq(v2.subs(x,8), 0),            # despl vertical en apoyo en x=8 es 0\n",
    "      Eq(v3.subs(x,8), 0),            # despl vertical en apoyo en x=8 es 0\n",
    "      Eq(t2.subs(x,8), t3.subs(x,8)), # continuidad en theta en x=8\n",
    "      Eq(M3.subs(x,8), M2.subs(x,8) + 16),  # continuidad en momento en x=8\n",
    "      # note que en la ecuacion anterior se incluyo la acción del \n",
    "      # momento flector ubicado en x=8m\n",
    "             \n",
    "      Eq(v3.subs(x,12), 0),           # desplazamiento vertical en x=12 es 0\n",
    "      Eq(M3.subs(x,12), 0)            # momento flector en x=12 es 0\n",
    "],    \n",
    "[ \n",
    "    C1_1, C1_2, C1_3, C1_4,\n",
    "    C2_1, C2_2, C2_3, C2_4,\n",
    "    C3_1, C3_2, C3_3, C3_4 \n",
    "])"
   ]
  },
  {
   "cell_type": "markdown",
   "id": "3af4cd71-0e43-4939-bb3e-1ab66234352d",
   "metadata": {},
   "source": [
    "Se fusionan las fórmulas y se reemplaza el valor de las constantes de integración:"
   ]
  },
  {
   "cell_type": "code",
   "execution_count": 8,
   "id": "10c98726-0ddc-43a7-ae0f-3a13e9bb4700",
   "metadata": {},
   "outputs": [],
   "source": [
    "V = (V1*rect(0,4) + V2*rect(4,8) + V3*rect(8,12)).subs(sol)\n",
    "M = (M1*rect(0,4) + M2*rect(4,8) + M3*rect(8,12)).subs(sol)\n",
    "t = (t1*rect(0,4) + t2*rect(4,8) + t3*rect(8,12)).subs(sol)\n",
    "v = (v1*rect(0,4) + v2*rect(4,8) + v3*rect(8,12)).subs(sol)"
   ]
  },
  {
   "cell_type": "markdown",
   "id": "36ccdd5f-a4fa-412c-9504-e02947190715",
   "metadata": {},
   "source": [
    "Se simplifica lo calculado por sympy:"
   ]
  },
  {
   "cell_type": "code",
   "execution_count": 9,
   "id": "12aa4704-cf9b-41bb-8efd-4d564853a496",
   "metadata": {},
   "outputs": [],
   "source": [
    "def simplificar(VMtv, fracciones=True):\n",
    "    # rewrite(Piecewise) escribe la función como una por partes\n",
    "    # as_expr_set_pairs() la expresa como una lista de tuplas\n",
    "    # la tupla tiene dos elementos (función, dominio de validez)\n",
    "    var = piecewise_fold(VMtv.rewrite(Piecewise)).as_expr_set_pairs(Interval(0, L))\n",
    "    tmp = []\n",
    "    \n",
    "    # ciclo for sobre cada elemento de la tupla\n",
    "    for fun, dominio in var:\n",
    "        # si el dominio es un intervalo o una unión de intervalos\n",
    "        if isinstance(dominio, sets.sets.Interval | sets.sets.Union):\n",
    "            if fracciones:\n",
    "                # intente expresar cualquier número como un fraccionario\n",
    "                tmp.append((fun.nsimplify(), dominio.as_relational(x)))\n",
    "            else:\n",
    "                # intente expresar cualquier fraccionario como un flotante\n",
    "                tmp.append((fun.evalf(),     dominio.as_relational(x)))\n",
    "            # as_relational() escribe el dominio como desigualdades y expresiones lógicas\n",
    "\n",
    "    # exprese la lista de tuplas como una función definida por partes\n",
    "    return Piecewise(*tmp)"
   ]
  },
  {
   "cell_type": "code",
   "execution_count": 10,
   "id": "01daa9ab-2311-4c83-9650-5492f563563a",
   "metadata": {},
   "outputs": [
    {
     "name": "stdout",
     "output_type": "stream",
     "text": [
      "CPU times: user 37.7 s, sys: 51.1 ms, total: 37.7 s\n",
      "Wall time: 37.7 s\n"
     ]
    }
   ],
   "source": [
    "%%time\n",
    "V = simplificar(V)"
   ]
  },
  {
   "cell_type": "code",
   "execution_count": 11,
   "id": "7a1e50bd-83ce-4772-a105-ad59bec538fa",
   "metadata": {},
   "outputs": [
    {
     "name": "stdout",
     "output_type": "stream",
     "text": [
      "CPU times: user 3min 4s, sys: 216 ms, total: 3min 4s\n",
      "Wall time: 3min 4s\n"
     ]
    }
   ],
   "source": [
    "%%time\n",
    "M = simplificar(M)"
   ]
  },
  {
   "cell_type": "code",
   "execution_count": 12,
   "id": "e11c5dc3-c3dc-47eb-abdb-d62cc5ec4369",
   "metadata": {},
   "outputs": [
    {
     "name": "stdout",
     "output_type": "stream",
     "text": [
      "CPU times: user 2min 47s, sys: 180 ms, total: 2min 47s\n",
      "Wall time: 2min 47s\n"
     ]
    }
   ],
   "source": [
    "%%time\n",
    "t = simplificar(t, fracciones=False)"
   ]
  },
  {
   "cell_type": "code",
   "execution_count": 13,
   "id": "8465aaf2-d06e-414d-ac00-f32e8a57b42f",
   "metadata": {},
   "outputs": [
    {
     "name": "stdout",
     "output_type": "stream",
     "text": [
      "CPU times: user 3min 20s, sys: 264 ms, total: 3min 20s\n",
      "Wall time: 3min 20s\n"
     ]
    }
   ],
   "source": [
    "%%time\n",
    "v = simplificar(v, fracciones=False)"
   ]
  },
  {
   "cell_type": "markdown",
   "id": "5e7ad279-4d3f-4382-9b19-f7ac5860d919",
   "metadata": {},
   "source": [
    "### Se imprimen los resultados"
   ]
  },
  {
   "cell_type": "code",
   "execution_count": 14,
   "id": "2667b635-daca-418c-b8da-d4cd2f34455f",
   "metadata": {},
   "outputs": [
    {
     "data": {
      "text/latex": [
       "$\\displaystyle V(x) = \\begin{cases} \\frac{27}{4} & \\text{for}\\: x > 0 \\wedge x < 4 \\wedge x \\neq 2 \\\\- \\frac{x^{3}}{54} + \\frac{2 x^{2}}{9} - \\frac{26 x}{9} + \\frac{1721}{108} & \\text{for}\\: x > 4 \\wedge x < 6 \\\\- \\frac{x^{3}}{54} + \\frac{2 x^{2}}{9} - \\frac{26 x}{9} + \\frac{101}{108} & \\text{for}\\: x > 6 \\wedge x < 8 \\\\- \\frac{x^{3}}{54} + \\frac{2 x^{2}}{9} - \\frac{26 x}{9} + \\frac{2639}{108} & \\text{for}\\: x > 8 \\wedge x < 10 \\\\- \\frac{3}{4} & \\text{for}\\: x \\geq 10 \\wedge x < 12 \\end{cases}$"
      ],
      "text/plain": [
       "<IPython.core.display.Math object>"
      ]
     },
     "execution_count": 14,
     "metadata": {},
     "output_type": "execute_result"
    }
   ],
   "source": [
    "imprimir(\"V(x) = \", V)"
   ]
  },
  {
   "cell_type": "code",
   "execution_count": 15,
   "id": "404c797c-a7fe-4bd0-ae82-a7088cc97b0a",
   "metadata": {},
   "outputs": [
    {
     "data": {
      "text/latex": [
       "$\\displaystyle M(x) = \\begin{cases} \\frac{27 x}{4} & \\text{for}\\: x > 0 \\wedge x < 2 \\\\\\frac{27 x}{4} - 27 & \\text{for}\\: x > 2 \\wedge x < 4 \\\\- \\frac{x^{4}}{216} + \\frac{2 x^{3}}{27} - \\frac{13 x^{2}}{9} + \\frac{1721 x}{108} - \\frac{1193}{27} & \\text{for}\\: x > 4 \\wedge x < 6 \\\\- \\frac{x^{4}}{216} + \\frac{2 x^{3}}{27} - \\frac{13 x^{2}}{9} + \\frac{101 x}{108} + \\frac{1237}{27} & \\text{for}\\: x > 6 \\wedge x < 8 \\\\- \\frac{x^{4}}{216} + \\frac{2 x^{3}}{27} - \\frac{13 x^{2}}{9} + \\frac{2639 x}{108} - \\frac{3407}{27} & \\text{for}\\: x > 8 \\wedge x < 10 \\\\9 - \\frac{3 x}{4} & \\text{for}\\: x \\geq 10 \\wedge x < 12 \\end{cases}$"
      ],
      "text/plain": [
       "<IPython.core.display.Math object>"
      ]
     },
     "execution_count": 15,
     "metadata": {},
     "output_type": "execute_result"
    }
   ],
   "source": [
    "imprimir(\"M(x) = \", M)"
   ]
  },
  {
   "cell_type": "code",
   "execution_count": 16,
   "id": "34b63044-d259-41f2-bdba-f1fdfa4a99c8",
   "metadata": {},
   "outputs": [
    {
     "data": {
      "text/latex": [
       "$\\displaystyle \\theta(x) = \\begin{cases} 7.14285714285714 \\cdot 10^{-5} x^{2} - 0.000223998954863152 & \\text{for}\\: x > 0 \\wedge x < 2 \\\\7.14285714285714 \\cdot 10^{-5} x^{2} - 0.000571428571428571 x + 0.00091885818799399 & \\text{for}\\: x > 2 \\wedge x < 4 \\\\- 1.95963158926122 \\cdot 10^{-8} x^{5} + 3.91926317852244 \\cdot 10^{-7} x^{4} - 1.01900842641583 \\cdot 10^{-5} x^{3} + 0.000168626298255928 x^{2} - 0.000935136194395454 x + 0.00158427069044353 & \\text{for}\\: x > 4 \\wedge x < 6 \\\\- 1.95963158926122 \\cdot 10^{-8} x^{5} + 3.91926317852244 \\cdot 10^{-7} x^{4} - 1.01900842641583 \\cdot 10^{-5} x^{3} + 9.89613952576916 \\cdot 10^{-6} x^{2} + 0.000969625710366451 x - 0.00413001502384218 & \\text{for}\\: x > 6 \\wedge x < 8 \\\\- 1.95963158926122 \\cdot 10^{-8} x^{5} + 3.91926317852244 \\cdot 10^{-7} x^{4} - 1.01900842641583 \\cdot 10^{-5} x^{3} + 0.000258573388203018 x^{2} - 0.00267058592984519 x + 0.00907633418250702 & \\text{for}\\: x > 8 \\wedge x < 10 \\\\- 7.93650793650794 \\cdot 10^{-6} x^{2} + 0.00019047619047619 x - 0.00111375008165132 & \\text{for}\\: x \\geq 10 \\wedge x < 12 \\end{cases}$"
      ],
      "text/plain": [
       "<IPython.core.display.Math object>"
      ]
     },
     "execution_count": 16,
     "metadata": {},
     "output_type": "execute_result"
    }
   ],
   "source": [
    "imprimir(r\"\\theta(x) = \", t)"
   ]
  },
  {
   "cell_type": "code",
   "execution_count": 17,
   "id": "9676ae43-9d8b-4a48-a4d7-840198ee71c7",
   "metadata": {},
   "outputs": [
    {
     "data": {
      "text/latex": [
       "$\\displaystyle v(x) = \\begin{cases} 2.38095238095238 \\cdot 10^{-5} x^{3} - 0.000223998954863152 x & \\text{for}\\: x > 0 \\wedge x < 2 \\\\2.38095238095238 \\cdot 10^{-5} x^{3} - 0.000285714285714286 x^{2} + 0.00091885818799399 x - 0.00114285714285714 & \\text{for}\\: x > 2 \\wedge x < 4 \\\\- 3.2660526487687 \\cdot 10^{-9} x^{6} + 7.83852635704487 \\cdot 10^{-8} x^{5} - 2.54752106603958 \\cdot 10^{-6} x^{4} + 5.62087660853093 \\cdot 10^{-5} x^{3} - 0.000467568097197727 x^{2} + 0.00158427069044353 x - 0.00238312103991116 & \\text{for}\\: x > 4 \\wedge x < 6 \\\\- 3.2660526487687 \\cdot 10^{-9} x^{6} + 7.83852635704487 \\cdot 10^{-8} x^{5} - 2.54752106603958 \\cdot 10^{-6} x^{4} + 3.29871317525639 \\cdot 10^{-6} x^{3} + 0.000484812855183226 x^{2} - 0.00413001502384218 x + 0.00904545038866027 & \\text{for}\\: x > 6 \\wedge x < 8 \\\\- 3.2660526487687 \\cdot 10^{-9} x^{6} + 7.83852635704487 \\cdot 10^{-8} x^{5} - 2.54752106603958 \\cdot 10^{-6} x^{4} + 8.61911294010059 \\cdot 10^{-5} x^{3} - 0.00133529296492259 x^{2} + 0.00907633418250702 x - 0.0225594878829447 & \\text{for}\\: x > 8 \\wedge x < 10 \\\\- 2.64550264550265 \\cdot 10^{-6} x^{3} + 9.52380952380952 \\cdot 10^{-5} x^{2} - 0.00111375008165132 x + 0.00422214383695865 & \\text{for}\\: x \\geq 10 \\wedge x < 12 \\end{cases}$"
      ],
      "text/plain": [
       "<IPython.core.display.Math object>"
      ]
     },
     "execution_count": 17,
     "metadata": {},
     "output_type": "execute_result"
    }
   ],
   "source": [
    "imprimir(\"v(x) = \", v)"
   ]
  },
  {
   "cell_type": "markdown",
   "id": "7b9309fa-519b-499e-81fe-9e7d8e9eb856",
   "metadata": {},
   "source": [
    "### Se grafican los resultados "
   ]
  },
  {
   "cell_type": "code",
   "execution_count": 18,
   "id": "80f34a79-ce1a-48b1-8ba5-2ea5998d347e",
   "metadata": {},
   "outputs": [],
   "source": [
    "x_xmin_xmax = (x, 0+0.001, L-0.001)"
   ]
  },
  {
   "cell_type": "code",
   "execution_count": 19,
   "id": "4d636b42-8157-4a96-8a3c-3bbbc19a2323",
   "metadata": {},
   "outputs": [
    {
     "data": {
      "image/png": "[encoded data removed]",
      "text/plain": [
       "<Figure size 640x480 with 1 Axes>"
      ]
     },
     "metadata": {},
     "output_type": "display_data"
    },
    {
     "data": {
      "text/plain": [
       "<sympy.plotting.plot.Plot at 0x7fd9cd963490>"
      ]
     },
     "execution_count": 19,
     "metadata": {},
     "output_type": "execute_result"
    }
   ],
   "source": [
    "plot(V, x_xmin_xmax, xlabel='x [m]', ylabel='V(x) [kN]')"
   ]
  },
  {
   "cell_type": "code",
   "execution_count": 20,
   "id": "e990d238-c93d-4826-9b13-f6cee64b7724",
   "metadata": {},
   "outputs": [
    {
     "data": {
      "image/png": "[encoded data removed]",
      "text/plain": [
       "<Figure size 640x480 with 1 Axes>"
      ]
     },
     "metadata": {},
     "output_type": "display_data"
    },
    {
     "data": {
      "text/plain": [
       "<sympy.plotting.plot.Plot at 0x7fd9bc2fd690>"
      ]
     },
     "execution_count": 20,
     "metadata": {},
     "output_type": "execute_result"
    }
   ],
   "source": [
    "plot(M, x_xmin_xmax, xlabel='x [m]', ylabel='M(x) [kN-m]')"
   ]
  },
  {
   "cell_type": "code",
   "execution_count": 21,
   "id": "ce9189e1-2853-4bae-a3d9-36106c47e661",
   "metadata": {},
   "outputs": [
    {
     "data": {
      "image/png": "[encoded data removed]",
      "text/plain": [
       "<Figure size 640x480 with 1 Axes>"
      ]
     },
     "metadata": {},
     "output_type": "display_data"
    },
    {
     "data": {
      "text/plain": [
       "<sympy.plotting.plot.Plot at 0x7fd9d9a37850>"
      ]
     },
     "execution_count": 21,
     "metadata": {},
     "output_type": "execute_result"
    }
   ],
   "source": [
    "plot(t, x_xmin_xmax, xlabel='x [m]', ylabel='θ(x) [rad]')"
   ]
  },
  {
   "cell_type": "code",
   "execution_count": 22,
   "id": "6f70d5f8-7e7c-4422-b3d0-cd2fe4ea40be",
   "metadata": {},
   "outputs": [
    {
     "data": {
      "image/png": "[encoded data removed]",
      "text/plain": [
       "<Figure size 640x480 with 1 Axes>"
      ]
     },
     "metadata": {},
     "output_type": "display_data"
    },
    {
     "data": {
      "text/plain": [
       "<sympy.plotting.plot.Plot at 0x7fd9bc358910>"
      ]
     },
     "execution_count": 22,
     "metadata": {},
     "output_type": "execute_result"
    }
   ],
   "source": [
    "plot(v, x_xmin_xmax, xlabel='x [m]', ylabel='v(x) [m]')"
   ]
  },
  {
   "cell_type": "markdown",
   "id": "e73b5dce-a794-492f-a852-398e295ec9c8",
   "metadata": {},
   "source": [
    "### Se calculan las reacciones en la viga "
   ]
  },
  {
   "cell_type": "code",
   "execution_count": 23,
   "id": "61fe6b8d-e255-44f6-9ac8-510d41e0467e",
   "metadata": {},
   "outputs": [
    {
     "name": "stdout",
     "output_type": "stream",
     "text": [
      "Fy(x= 0) = 16.75 kN\n"
     ]
    }
   ],
   "source": [
    "print(f\"Fy(x= 0) = {float((V1+10).subs(sol).subs(x,  0))} kN\")  # reacción en x=0"
   ]
  },
  {
   "cell_type": "code",
   "execution_count": 24,
   "id": "b8f52f8b-b65a-4a03-a507-6294ac321200",
   "metadata": {},
   "outputs": [
    {
     "name": "stdout",
     "output_type": "stream",
     "text": [
      "Fy(x= 8) = 23.5 kN\n"
     ]
    }
   ],
   "source": [
    "print(f\"Fy(x= 8) = {float((V3-V2).subs(sol).subs(x,  8))} kN\")  # reacción en x=8"
   ]
  },
  {
   "cell_type": "code",
   "execution_count": 25,
   "id": "8ada8e82-48ea-428a-8c67-1a378f4f4861",
   "metadata": {},
   "outputs": [
    {
     "name": "stdout",
     "output_type": "stream",
     "text": [
      "Fy(x=12) = 0.75 kN\n"
     ]
    }
   ],
   "source": [
    "print(f\"Fy(x=12) = {float(    -V3.subs(sol).subs(x, 12))} kN\")  # reacción en x=12"
   ]
  }
 ],
 "metadata": {
  "kernelspec": {
   "display_name": "Python 3 (ipykernel)",
   "language": "python",
   "name": "python3"
  },
  "language_info": {
   "codemirror_mode": {
    "name": "ipython",
    "version": 3
   },
   "file_extension": ".py",
   "mimetype": "text/x-python",
   "name": "python",
   "nbconvert_exporter": "python",
   "pygments_lexer": "ipython3",
   "version": "3.11.5"
  }
 },
 "nbformat": 4,
 "nbformat_minor": 5
}
