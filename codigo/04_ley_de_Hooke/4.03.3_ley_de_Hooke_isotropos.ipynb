{
 "cells": [
  {
   "cell_type": "markdown",
   "metadata": {
    "id": "Q1np-HmVdZu3"
   },
   "source": [
    "# 4.3.3. Ley de Hooke generalizada para materiales isótropos\n",
    "\n",
    "|Quién | Correo |Fecha | Qué hizo |\n",
    "| ---  | ---    | ---  | ---      |\n",
    "|Michael Heredia Pérez  | <mherediap@unal.edu.co> | Agosto 4, 2022 | Conversión de código de MAXIMA a Python|\n",
    "|Juan Nicolás Ramírez   | <jnramirezg@unal.edu.co> | Octubre 3, 2023 | Adecuando código a particularidades pedagógicas|\n",
    "|Diego Andrés Alvarez Marín | <daalvarez@unal.edu.co> | Marzo 26, 2024 | Mejorando los comentarios|"
   ]
  },
  {
   "cell_type": "markdown",
   "metadata": {},
   "source": [
    "$$\n",
    "\\newcommand{\\ve}[1]{{\\vec{\\boldsymbol{#1}}}}\n",
    "\\newcommand{\\ma}[1]{{\\boldsymbol{#1}}}\n",
    "\\newcommand{\\hve}[1]{{\\,\\hat{\\!\\boldsymbol{#1}}}}\n",
    "\\newcommand{\\tr}{\\operatorname{tr}}\n",
    "$$"
   ]
  },
  {
   "cell_type": "code",
   "execution_count": 1,
   "metadata": {
    "id": "S325VqiidXcS"
   },
   "outputs": [],
   "source": [
    "from sympy import init_printing, latex, symbols, solve, factor, Matrix, simplify, linear_eq_to_matrix, trace, eye\n",
    "\n",
    "# Para imprimir bonito\n",
    "init_printing()\n",
    "from IPython.display import Math                 \n",
    "def imprimir (texto1, variable, texto2=\"\"):\n",
    "    return Math(texto1 +  rf'{latex(variable)}' + texto2)"
   ]
  },
  {
   "cell_type": "markdown",
   "metadata": {
    "id": "Rf_vMddLdwSe"
   },
   "source": [
    "Defino las variables:"
   ]
  },
  {
   "cell_type": "code",
   "execution_count": 2,
   "metadata": {
    "colab": {
     "base_uri": "https://localhost:8080/",
     "height": 38
    },
    "id": "mREL25dldtdI",
    "outputId": "08239943-c1c6-4f68-9d27-1065f604ec0d"
   },
   "outputs": [],
   "source": [
    "ex, ey, ez    = symbols(\"varepsilon_x, varepsilon_y, varepsilon_z\")\n",
    "s_x, s_y, s_z = symbols(\"sigma_x, sigma_y, sigma_z\")\n",
    "E, nu         = symbols(\"E, nu\")"
   ]
  },
  {
   "cell_type": "markdown",
   "metadata": {
    "id": "yG9BmbkYecDU"
   },
   "source": [
    "A partir de las ecuaciones:\n",
    " \n",
    "$\\varepsilon_x = \\displaystyle\\frac{1}{E}\\left(\\sigma_x- \\nu(\\sigma_y+\\sigma_z)\\right)$\n",
    "\n",
    "$\\varepsilon_y = \\displaystyle\\frac{1}{E}\\left(\\sigma_y- \\nu(\\sigma_x+\\sigma_z)\\right)$\n",
    "\n",
    "$\\varepsilon_z = \\displaystyle\\frac{1}{E}\\left(\\sigma_z- \\nu(\\sigma_x+\\sigma_y)\\right)$\n",
    "\n",
    "despejamos $\\sigma_x$, $\\sigma_y$ y $\\sigma_z$.\n",
    "\n",
    "Recuerde que en Python, se pueden escribir las ecuaciones sin el comando `sp.Eq()` igualando la ecuación a cero:"
   ]
  },
  {
   "cell_type": "code",
   "execution_count": 3,
   "metadata": {
    "colab": {
     "base_uri": "https://localhost:8080/",
     "height": 58
    },
    "id": "LmWtV--qd-8J",
    "outputId": "68779f95-abd5-4e72-e63b-091750e932ff"
   },
   "outputs": [],
   "source": [
    " eq_ex = ex - (1/E)*(s_x - nu*(s_y + s_z))\n",
    " eq_ey = ey - (1/E)*(s_y - nu*(s_x + s_z))\n",
    " eq_ez = ez - (1/E)*(s_z - nu*(s_x + s_y))"
   ]
  },
  {
   "cell_type": "markdown",
   "metadata": {
    "id": "cV3kpEB3e5ZT"
   },
   "source": [
    "Despejo $\\sigma_x$, $\\sigma_y$ y $\\sigma_z$ de las ecuaciones:"
   ]
  },
  {
   "cell_type": "code",
   "execution_count": 4,
   "metadata": {
    "colab": {
     "base_uri": "https://localhost:8080/",
     "height": 58
    },
    "id": "uOKTXvJeerr_",
    "outputId": "5373ee68-7de3-4e0c-cca3-8434243f2486"
   },
   "outputs": [
    {
     "data": {
      "image/png": "[encoded data removed]",
      "text/latex": [
       "$\\displaystyle \\left\\{ \\sigma_{x} : \\frac{E \\left(\\nu \\varepsilon_{x} - \\nu \\varepsilon_{y} - \\nu \\varepsilon_{z} - \\varepsilon_{x}\\right)}{\\left(\\nu + 1\\right) \\left(2 \\nu - 1\\right)}, \\  \\sigma_{y} : - \\frac{E \\left(\\nu \\varepsilon_{x} - \\nu \\varepsilon_{y} + \\nu \\varepsilon_{z} + \\varepsilon_{y}\\right)}{\\left(\\nu + 1\\right) \\left(2 \\nu - 1\\right)}, \\  \\sigma_{z} : - \\frac{E \\left(\\nu \\varepsilon_{x} + \\nu \\varepsilon_{y} - \\nu \\varepsilon_{z} + \\varepsilon_{z}\\right)}{\\left(\\nu + 1\\right) \\left(2 \\nu - 1\\right)}\\right\\}$"
      ],
      "text/plain": [
       "⎧    E⋅(ν⋅varepsilonₓ - ν⋅varepsilon_y - ν⋅varepsilon_z - varepsilonₓ)       -E⋅(ν⋅varepsilonₓ - ν⋅varepsilon_y + ν⋅varepsilon_z + varepsilon_y)        -E⋅(ν⋅varepsilonₓ + ν⋅varepsilon_y - ν⋅varepsilon_z + varepsilon_z) ⎫\n",
       "⎨σₓ: ─────────────────────────────────────────────────────────────────, σ_y: ────────────────────────────────────────────────────────────────────, σ_z: ────────────────────────────────────────────────────────────────────⎬\n",
       "⎩                            (ν + 1)⋅(2⋅ν - 1)                                                        (ν + 1)⋅(2⋅ν - 1)                                                          (ν + 1)⋅(2⋅ν - 1)                          ⎭"
      ]
     },
     "execution_count": 4,
     "metadata": {},
     "output_type": "execute_result"
    }
   ],
   "source": [
    "sol = factor(solve([eq_ex, eq_ey, eq_ez], [s_x, s_y, s_z]))\n",
    "sol"
   ]
  },
  {
   "cell_type": "markdown",
   "metadata": {},
   "source": [
    "Estas ecuaciones pueden reescribirse como:\n",
    "\n",
    "$\\sigma_x=\\lambda e + 2G\\varepsilon_x$\n",
    "\n",
    "$\\sigma_y=\\lambda e + 2G\\varepsilon_y$\n",
    "\n",
    "$\\sigma_z=\\lambda e + 2G\\varepsilon_z$\n",
    "\n",
    "aquí $e = \\varepsilon_{x} + \\varepsilon_{y} + \\varepsilon_{z}$ representa la dilatación cúbica"
   ]
  },
  {
   "cell_type": "code",
   "execution_count": 5,
   "metadata": {
    "colab": {
     "base_uri": "https://localhost:8080/",
     "height": 38
    },
    "id": "6hD_xVVHF7Tn",
    "outputId": "c6eac37e-d935-4185-d69e-5b1980ec1fed"
   },
   "outputs": [],
   "source": [
    "e = ex + ey + ez"
   ]
  },
  {
   "cell_type": "markdown",
   "metadata": {},
   "source": [
    "y $\\lambda$ y $G$ son las constantes de Lamé:\n",
    "\n",
    "$\\displaystyle \\lambda = \\frac{\\nu E}{(1+\\nu)(1-2\\nu)}$\n",
    "\n",
    "$\\displaystyle G= \\frac{E}{2(1+\\nu)}$"
   ]
  },
  {
   "cell_type": "code",
   "execution_count": 6,
   "metadata": {
    "colab": {
     "base_uri": "https://localhost:8080/",
     "height": 58
    },
    "id": "CUx7ZsfxF_zd",
    "outputId": "448241dd-6fcd-4c27-88e0-96dc7368a2d2"
   },
   "outputs": [],
   "source": [
    "# Recuerde que \"lambda\" es una palabra reservada de Python\n",
    "lamda = nu*E/((1 + nu)*(1 - 2*nu)) # primera constante de Lamé\n",
    "G     = E/(2*(1 + nu))             # segunda constante de Lamé"
   ]
  },
  {
   "cell_type": "markdown",
   "metadata": {
    "scrolled": true
   },
   "source": [
    "Ahora verificamos que la forma obtenida es equivalente con la que se presentó anteriormente:"
   ]
  },
  {
   "cell_type": "code",
   "execution_count": 7,
   "metadata": {
    "id": "b30m4rRQGEvt"
   },
   "outputs": [],
   "source": [
    "sx = lamda*e + 2*G*ex\n",
    "sy = lamda*e + 2*G*ey\n",
    "sz = lamda*e + 2*G*ez"
   ]
  },
  {
   "cell_type": "code",
   "execution_count": 8,
   "metadata": {},
   "outputs": [
    {
     "data": {
      "text/latex": [
       "$\\displaystyle \\left[\\begin{matrix}0\\\\0\\\\0\\end{matrix}\\right]$"
      ],
      "text/plain": [
       "⎡0⎤\n",
       "⎢ ⎥\n",
       "⎢0⎥\n",
       "⎢ ⎥\n",
       "⎣0⎦"
      ]
     },
     "execution_count": 8,
     "metadata": {},
     "output_type": "execute_result"
    }
   ],
   "source": [
    "simplify(Matrix([sol[s_x] - sx,\n",
    "                 sol[s_y] - sy,\n",
    "                 sol[s_z] - sz]))"
   ]
  },
  {
   "cell_type": "markdown",
   "metadata": {
    "id": "SScbuKsEFvE_"
   },
   "source": [
    "## Coeficientes de la matriz constitutiva $\\boldsymbol{D}$\n",
    "\n",
    "Se definen las variables las deformaciones angulares:"
   ]
  },
  {
   "cell_type": "code",
   "execution_count": 9,
   "metadata": {
    "colab": {
     "base_uri": "https://localhost:8080/",
     "height": 38
    },
    "id": "btnBE896Fw9Z",
    "outputId": "d1033027-4b37-49cf-e86b-4db1fafdd531"
   },
   "outputs": [],
   "source": [
    "gxy, gxz, gyz = symbols(\"gamma_xy, gamma_xz, gamma_yz\")"
   ]
  },
  {
   "cell_type": "markdown",
   "metadata": {},
   "source": [
    "y se definen los esfuerzos cortantes:\n",
    "\n",
    "$\\tau_{xy}=G\\gamma_{xy}$\n",
    "\n",
    "$\\tau_{xz}=G\\gamma_{xz}$\n",
    "\n",
    "$\\tau_{yz}=G\\gamma_{yz}$"
   ]
  },
  {
   "cell_type": "code",
   "execution_count": 10,
   "metadata": {
    "id": "b30m4rRQGEvt"
   },
   "outputs": [],
   "source": [
    "txy = G*gxy\n",
    "txz = G*gxz\n",
    "tyz = G*gyz"
   ]
  },
  {
   "cell_type": "markdown",
   "metadata": {
    "id": "y-YcCDx6GTUJ"
   },
   "source": [
    "Se despeja la matriz constitutiva $\\ma{D}$ para el caso isótropo. En Maxima se emplea el comando `coefmatrix()`, pero en `Python+sympy` tenemos `linear_eq_to_matrix()`:"
   ]
  },
  {
   "cell_type": "code",
   "execution_count": 11,
   "metadata": {
    "colab": {
     "base_uri": "https://localhost:8080/",
     "height": 153
    },
    "id": "_cnRUzH9GQ3e",
    "outputId": "4286b3ff-a14c-4bd8-91b7-5d3f743a40f4"
   },
   "outputs": [
    {
     "data": {
      "text/latex": [
       "$\\displaystyle \\ma{D} = \\left[\\begin{matrix}\\frac{E \\nu}{\\left(1 - 2 \\nu\\right) \\left(\\nu + 1\\right)} + \\frac{2 E}{2 \\nu + 2} & \\frac{E \\nu}{\\left(1 - 2 \\nu\\right) \\left(\\nu + 1\\right)} & \\frac{E \\nu}{\\left(1 - 2 \\nu\\right) \\left(\\nu + 1\\right)} & 0 & 0 & 0\\\\\\frac{E \\nu}{\\left(1 - 2 \\nu\\right) \\left(\\nu + 1\\right)} & \\frac{E \\nu}{\\left(1 - 2 \\nu\\right) \\left(\\nu + 1\\right)} + \\frac{2 E}{2 \\nu + 2} & \\frac{E \\nu}{\\left(1 - 2 \\nu\\right) \\left(\\nu + 1\\right)} & 0 & 0 & 0\\\\\\frac{E \\nu}{\\left(1 - 2 \\nu\\right) \\left(\\nu + 1\\right)} & \\frac{E \\nu}{\\left(1 - 2 \\nu\\right) \\left(\\nu + 1\\right)} & \\frac{E \\nu}{\\left(1 - 2 \\nu\\right) \\left(\\nu + 1\\right)} + \\frac{2 E}{2 \\nu + 2} & 0 & 0 & 0\\\\0 & 0 & 0 & \\frac{E}{2 \\nu + 2} & 0 & 0\\\\0 & 0 & 0 & 0 & \\frac{E}{2 \\nu + 2} & 0\\\\0 & 0 & 0 & 0 & 0 & \\frac{E}{2 \\nu + 2}\\end{matrix}\\right]$"
      ],
      "text/plain": [
       "<IPython.core.display.Math object>"
      ]
     },
     "execution_count": 11,
     "metadata": {},
     "output_type": "execute_result"
    }
   ],
   "source": [
    "D = linear_eq_to_matrix([sx, sy, sz, txy, txz, tyz], \n",
    "                        [ex, ey, ez, gxy, gxz, gyz])[0]\n",
    "imprimir(r\"\\ma{D} = \", D)"
   ]
  },
  {
   "cell_type": "markdown",
   "metadata": {},
   "source": [
    "Podemos factorizar la matriz $\\frac{E}{1+\\nu}$ de la matriz $\\boldsymbol{D}$ "
   ]
  },
  {
   "cell_type": "code",
   "execution_count": 12,
   "metadata": {},
   "outputs": [
    {
     "data": {
      "text/latex": [
       "$\\displaystyle \\ma{D} = \\frac{E}{1+\\nu}\\left[\\begin{matrix}\\frac{\\nu - 1}{2 \\nu - 1} & - \\frac{\\nu}{2 \\nu - 1} & - \\frac{\\nu}{2 \\nu - 1} & 0 & 0 & 0\\\\- \\frac{\\nu}{2 \\nu - 1} & \\frac{\\nu - 1}{2 \\nu - 1} & - \\frac{\\nu}{2 \\nu - 1} & 0 & 0 & 0\\\\- \\frac{\\nu}{2 \\nu - 1} & - \\frac{\\nu}{2 \\nu - 1} & \\frac{\\nu - 1}{2 \\nu - 1} & 0 & 0 & 0\\\\0 & 0 & 0 & \\frac{1}{2} & 0 & 0\\\\0 & 0 & 0 & 0 & \\frac{1}{2} & 0\\\\0 & 0 & 0 & 0 & 0 & \\frac{1}{2}\\end{matrix}\\right]$"
      ],
      "text/plain": [
       "<IPython.core.display.Math object>"
      ]
     },
     "execution_count": 12,
     "metadata": {},
     "output_type": "execute_result"
    }
   ],
   "source": [
    "imprimir(r\"\\ma{D} = \\frac{E}{1+\\nu}\", simplify(D / (E/(1+nu))))"
   ]
  },
  {
   "cell_type": "markdown",
   "metadata": {
    "id": "7bRv5xGMIS7r"
   },
   "source": [
    "**Nota:** Podrá pensar que el resultado es el negativo de lo que debería ser, pero no lo es, simplemente debe factorizar (-1) de los términos fraccionarios asociados a los esfuerzos normales."
   ]
  },
  {
   "cell_type": "markdown",
   "metadata": {},
   "source": [
    "Finalmente, la ley de Hooke generalizada para materiales isótropos en forma matricial es:\n",
    "\n",
    "$$\n",
    "\\underbrace{%\n",
    "\\begin{bmatrix}\n",
    "\\sigma_x\\\\ \\sigma_y\\\\ \\sigma_z\\\\ \\tau_{yz}\\\\ \\tau_{xz}\\\\ \\tau_{xy}\\\\\\end{bmatrix}}_{\\ve{\\sigma}}\n",
    "=\n",
    "\\underbrace{%\n",
    "\\frac{E}{1+\\nu}\n",
    "\\begin{bmatrix}\n",
    "\\frac{1-\\nu}{1-2\\nu} & \\frac{\\nu}{1-2\\nu}   &   \\frac{\\nu}{1-2\\nu} &           0 &           0 & 0\\\\\n",
    "\\frac{\\nu}{1-2\\nu}   & \\frac{1-\\nu}{1-2\\nu} &   \\frac{\\nu}{1-2\\nu} &           0 &           0 & 0\\\\\n",
    "\\frac{\\nu}{1-2\\nu}   & \\frac{\\nu}{1-2\\nu}   & \\frac{1-\\nu}{1-2\\nu} &           0 &           0 & 0\\\\\n",
    "                        0 &                         0 &                         0 & \\frac{1}{2} &           0 & 0\\\\\n",
    "                        0 &                         0 &                         0 &           0 & \\frac{1}{2} & 0\\\\\n",
    "                        0 &                         0 &                         0 &           0 &           0 & \\frac{1}{2}\n",
    "\\end{bmatrix}}_{\\ma{D}}\n",
    "\\underbrace{%\n",
    "\\begin{bmatrix}\n",
    "\\varepsilon_x\\\\ \\varepsilon_y\\\\ \\varepsilon_z\\\\ \\gamma_{yz}\\\\ \\gamma_{xz}\\\\ \\gamma_{xy}\\\\\n",
    "\\end{bmatrix}}_{\\ve{\\varepsilon}}$$"
   ]
  },
  {
   "cell_type": "markdown",
   "metadata": {},
   "source": [
    "## Cálculo de la matriz de conformidad"
   ]
  },
  {
   "cell_type": "code",
   "execution_count": 13,
   "metadata": {},
   "outputs": [
    {
     "data": {
      "text/latex": [
       "$\\displaystyle \\ma{S} = \\left[\\begin{matrix}\\frac{1}{E} & - \\frac{\\nu}{E} & - \\frac{\\nu}{E} & 0 & 0 & 0\\\\- \\frac{\\nu}{E} & \\frac{1}{E} & - \\frac{\\nu}{E} & 0 & 0 & 0\\\\- \\frac{\\nu}{E} & - \\frac{\\nu}{E} & \\frac{1}{E} & 0 & 0 & 0\\\\0 & 0 & 0 & \\frac{2 \\left(\\nu + 1\\right)}{E} & 0 & 0\\\\0 & 0 & 0 & 0 & \\frac{2 \\left(\\nu + 1\\right)}{E} & 0\\\\0 & 0 & 0 & 0 & 0 & \\frac{2 \\left(\\nu + 1\\right)}{E}\\end{matrix}\\right]$"
      ],
      "text/plain": [
       "<IPython.core.display.Math object>"
      ]
     },
     "execution_count": 13,
     "metadata": {},
     "output_type": "execute_result"
    }
   ],
   "source": [
    "S = simplify(D**-1)\n",
    "imprimir(r\"\\ma{S} = \", S)"
   ]
  },
  {
   "cell_type": "markdown",
   "metadata": {},
   "source": [
    "## Sistema matricial con la ecuación 4.17\n",
    "\n",
    "El sistema de ecuaciones anterior se puede expresar como una relación entre la matriz de tensiones $\\ma{\\sigma}$ y la de deformaciones matemáticas $\\ma{\\varepsilon}$:\n",
    "\n",
    "$$\\ma{\\sigma} = \\lambda \\operatorname{tr}(\\ma{\\varepsilon}) + 2G\\ma{\\varepsilon}$$\n",
    "\n",
    "Lo cual en notación tensorial se escribe como:\n",
    "\n",
    "$$  \\sigma_{ij} = \\lambda \\delta_{ij}\\varepsilon_{kk} + 2G\\varepsilon_{ij}  $$"
   ]
  },
  {
   "cell_type": "code",
   "execution_count": 14,
   "metadata": {},
   "outputs": [],
   "source": [
    "# Defino las deformaciones angulares matemáticas\n",
    "exy = gxy/2\n",
    "exz = gxz/2\n",
    "eyz = gyz/2\n",
    "\n",
    "# Defino el tensor de deformaciones\n",
    "epsilon = Matrix([[ ex,  exy,  exz],\n",
    "                  [exy,   ey,  eyz],\n",
    "                  [exz,  eyz,  ez ]])\n",
    "\n",
    "# La matriz identidad de orden 3:\n",
    "I = eye(3)\n",
    "\n",
    "sigma = factor(lamda*trace(epsilon)*I + 2*G*epsilon)"
   ]
  },
  {
   "cell_type": "markdown",
   "metadata": {},
   "source": [
    "Ahora, verificamos que ambas expresiones son equivalentes:"
   ]
  },
  {
   "cell_type": "code",
   "execution_count": 15,
   "metadata": {},
   "outputs": [
    {
     "data": {
      "text/latex": [
       "$\\displaystyle \\left[\\begin{matrix}0 & 0 & 0\\\\0 & 0 & 0\\\\0 & 0 & 0\\end{matrix}\\right]$"
      ],
      "text/plain": [
       "⎡0  0  0⎤\n",
       "⎢       ⎥\n",
       "⎢0  0  0⎥\n",
       "⎢       ⎥\n",
       "⎣0  0  0⎦"
      ]
     },
     "execution_count": 15,
     "metadata": {},
     "output_type": "execute_result"
    }
   ],
   "source": [
    "simplify(sigma - Matrix([[ sx,  txy,  txz],\n",
    "                         [txy,   sy,  tyz],\n",
    "                         [txz,  tyz,  sz ]]))"
   ]
  },
  {
   "cell_type": "markdown",
   "metadata": {},
   "source": [
    "**NOTA:** Tenga en cuenta que las ecuaciones anteriores son válidas para materiales con comportamiento **elástico, lineal e isótropo**."
   ]
  }
 ],
 "metadata": {
  "colab": {
   "authorship_tag": "ABX9TyOsOvDSLbrIfUPtlfnq3r14",
   "collapsed_sections": [],
   "include_colab_link": true,
   "name": "04_03_03.ipynb",
   "provenance": []
  },
  "kernelspec": {
   "display_name": "Python 3 (ipykernel)",
   "language": "python",
   "name": "python3"
  },
  "language_info": {
   "codemirror_mode": {
    "name": "ipython",
    "version": 3
   },
   "file_extension": ".py",
   "mimetype": "text/x-python",
   "name": "python",
   "nbconvert_exporter": "python",
   "pygments_lexer": "ipython3",
   "version": "3.11.7"
  },
  "vscode": {
   "interpreter": {
    "hash": "916dbcbb3f70747c44a77c7bcd40155683ae19c65e1c03b4aa3499c5328201f1"
   }
  }
 },
 "nbformat": 4,
 "nbformat_minor": 4
}
