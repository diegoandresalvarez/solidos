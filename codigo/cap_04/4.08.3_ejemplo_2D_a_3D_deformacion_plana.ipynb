{
 "cells": [
  {
   "cell_type": "markdown",
   "metadata": {
    "id": "ZiuVgBpBNpeb"
   },
   "source": [
    "# 4.8.3. Relación entre los esfuerzos principales obtenidos en el análisis bidimensional y tridimensional (para el caso de deformación plana)\n",
    "\n",
    "|Quién | Correo | Fecha | Qué hizo |\n",
    "| ---  | ---    | ---   | ---      |\n",
    "|Michael Heredia Pérez      | <mherediap@unal.edu.co> | Julio 20, 2022   | Conversión de código de MATLAB a Python     |\n",
    "|Michael Heredia Pérez      | <mherediap@unal.edu.co> | Octubre 12, 2022 | Completando el código                       |\n",
    "|Diego Andrés Alvarez Marín | <daalvarez@unal.edu.co> | Febrero 8, 2024  | Comentarios adicionales y mejora del código |"
   ]
  },
  {
   "cell_type": "code",
   "execution_count": 1,
   "metadata": {
    "id": "JLVyHVSCNGTs"
   },
   "outputs": [],
   "source": [
    "import numpy as np\n",
    "\n",
    "# imprime todo con 4 cifras decimales\n",
    "num_decimales = 4\n",
    "np.set_printoptions(precision=num_decimales)\n",
    "\n",
    "# función para imprimir los vectores o matrices de numpy bonitos\n",
    "def imprimir_vect(vec):\n",
    "    return f\"{np.array2string(vec, formatter={'float': lambda x: f'{x: .{num_decimales}f}'}, separator=', ')}\""
   ]
  },
  {
   "cell_type": "markdown",
   "metadata": {},
   "source": [
    "Asumamos las siguientes cantidades:"
   ]
  },
  {
   "cell_type": "code",
   "execution_count": 2,
   "metadata": {},
   "outputs": [],
   "source": [
    "nu = 0.30  # coeficiente de Poisson\n",
    "\n",
    "sx  = -1   # [Pa]\n",
    "sy  =  2   # [Pa]\n",
    "txy = -3   # [Pa]"
   ]
  },
  {
   "cell_type": "markdown",
   "metadata": {},
   "source": [
    "En el caso de deformación plana se tiene adicionalmente que:"
   ]
  },
  {
   "cell_type": "code",
   "execution_count": 3,
   "metadata": {},
   "outputs": [],
   "source": [
    "ez  = 0\n",
    "gxz = 0\n",
    "gyz = 0"
   ]
  },
  {
   "cell_type": "markdown",
   "metadata": {},
   "source": [
    "por lo que a partir de la ley de Hooke tenemos que:\n",
    "\\begin{align*}\n",
    "\\tau_{xz} &= G\\gamma_{xz} = 0 \\text{ Pa} \\\\\n",
    "\\tau_{yz} &= G\\gamma_{yz} = 0 \\text{ Pa} \\\\\n",
    "\\sigma_z  &= \\nu(\\sigma_x + \\sigma_y)\n",
    "\\end{align*}"
   ]
  },
  {
   "cell_type": "code",
   "execution_count": 4,
   "metadata": {},
   "outputs": [],
   "source": [
    "txz = 0\n",
    "tyz = 0\n",
    "sz  = nu*(sx + sy)"
   ]
  },
  {
   "cell_type": "markdown",
   "metadata": {},
   "source": [
    "De donde resulta que:"
   ]
  },
  {
   "cell_type": "code",
   "execution_count": 5,
   "metadata": {},
   "outputs": [
    {
     "name": "stdout",
     "output_type": "stream",
     "text": [
      "σz =  0.3000 Pa\n"
     ]
    }
   ],
   "source": [
    "print(f\"σz = {sz: .{num_decimales}f} Pa\")"
   ]
  },
  {
   "cell_type": "markdown",
   "metadata": {},
   "source": [
    "## Solución del problema de forma bidimensional"
   ]
  },
  {
   "cell_type": "markdown",
   "metadata": {
    "id": "3WJWjq03PoHr"
   },
   "source": [
    "Para calcular los esfuerzos y direcciones principales asociados ensamblamos la matriz de esfuerzos\n",
    "\\begin{equation*}\n",
    "\\boldsymbol{\\sigma} =\n",
    "\\begin{pmatrix} \n",
    "  \\sigma_x   & \\tau_{xy} \\\\ \n",
    "  \\tau_{xy}  & \\sigma_y \n",
    "\\end{pmatrix}\n",
    "\\end{equation*}"
   ]
  },
  {
   "cell_type": "code",
   "execution_count": 6,
   "metadata": {
    "colab": {
     "base_uri": "https://localhost:8080/"
    },
    "id": "FiZXRDZBPmJZ",
    "outputId": "1cf52374-9551-443d-9263-91f3f33ff742"
   },
   "outputs": [
    {
     "data": {
      "text/plain": [
       "array([[-1, -3],\n",
       "       [-3,  2]])"
      ]
     },
     "execution_count": 6,
     "metadata": {},
     "output_type": "execute_result"
    }
   ],
   "source": [
    "sigma = np.array([[  sx, txy ],\n",
    "                  [ txy,  sy ]])\n",
    "\n",
    "sigma"
   ]
  },
  {
   "cell_type": "markdown",
   "metadata": {},
   "source": [
    "y le calculamos sus valores y vectores propios"
   ]
  },
  {
   "cell_type": "code",
   "execution_count": 7,
   "metadata": {
    "id": "jASDK_9wRmH6"
   },
   "outputs": [],
   "source": [
    "valp, vecp = np.linalg.eigh(sigma)"
   ]
  },
  {
   "cell_type": "code",
   "execution_count": 8,
   "metadata": {},
   "outputs": [
    {
     "data": {
      "text/plain": [
       "array([-2.8541,  3.8541])"
      ]
     },
     "execution_count": 8,
     "metadata": {},
     "output_type": "execute_result"
    }
   ],
   "source": [
    "# imprimimos los valores propios s2xy, s1xy\n",
    "valp"
   ]
  },
  {
   "cell_type": "code",
   "execution_count": 9,
   "metadata": {
    "colab": {
     "base_uri": "https://localhost:8080/"
    },
    "id": "HwA33qiURu-B",
    "outputId": "d84d088f-7d43-47b9-b507-054c52f095e9"
   },
   "outputs": [
    {
     "data": {
      "text/plain": [
       "array([[-0.8507, -0.5257],\n",
       "       [-0.5257,  0.8507]])"
      ]
     },
     "execution_count": 9,
     "metadata": {},
     "output_type": "execute_result"
    }
   ],
   "source": [
    "# imprimimos los vectores propios correspondientes [n2_2D, n1_2D]\n",
    "vecp"
   ]
  },
  {
   "cell_type": "code",
   "execution_count": 10,
   "metadata": {},
   "outputs": [],
   "source": [
    "# eigh() arroja los valores propios ordenados de menor a mayor (en orden ascendente), por lo que\n",
    "s2xy,  s1xy  = valp\n",
    "n2_2D, n1_2D = vecp.T"
   ]
  },
  {
   "cell_type": "code",
   "execution_count": 11,
   "metadata": {},
   "outputs": [
    {
     "name": "stdout",
     "output_type": "stream",
     "text": [
      "σ1_xy =  3.8541 Pa,    n1_2D = [-0.5257,  0.8507]\n",
      "σ2_xy = -2.8541 Pa,    n2_2D = [-0.8507, -0.5257]\n"
     ]
    }
   ],
   "source": [
    "print(f\"σ1_xy = {s1xy: .{num_decimales}f} Pa,    n1_2D = \" + imprimir_vect(n1_2D))\n",
    "print(f\"σ2_xy = {s2xy: .{num_decimales}f} Pa,    n2_2D = \" + imprimir_vect(n2_2D))"
   ]
  },
  {
   "cell_type": "markdown",
   "metadata": {},
   "source": [
    "## Solución del problema de forma tridimensional"
   ]
  },
  {
   "cell_type": "markdown",
   "metadata": {
    "id": "3WJWjq03PoHr"
   },
   "source": [
    "Para calcular los esfuerzos y direcciones principales asociados ensamblamos la matriz de esfuerzos\n",
    "\\begin{equation*}\n",
    "\\boldsymbol{\\sigma} =\n",
    "\\begin{pmatrix} \n",
    "  \\sigma_x   & \\tau_{xy} & 0 \\\\ \n",
    "  \\tau_{xy}  & \\sigma_y  & 0 \\\\\n",
    "   0         &     0     & \\nu(\\sigma_x + \\sigma_y) \n",
    "\\end{pmatrix} \\label{eq:mattensdefplana}\n",
    "\\end{equation*}"
   ]
  },
  {
   "cell_type": "code",
   "execution_count": 12,
   "metadata": {
    "colab": {
     "base_uri": "https://localhost:8080/"
    },
    "id": "FiZXRDZBPmJZ",
    "outputId": "1cf52374-9551-443d-9263-91f3f33ff742"
   },
   "outputs": [
    {
     "data": {
      "text/plain": [
       "array([[-1. , -3. ,  0. ],\n",
       "       [-3. ,  2. ,  0. ],\n",
       "       [ 0. ,  0. ,  0.3]])"
      ]
     },
     "execution_count": 12,
     "metadata": {},
     "output_type": "execute_result"
    }
   ],
   "source": [
    "sigma = np.array([[ sx, txy,            0],\n",
    "                  [txy,  sy,            0],\n",
    "                  [  0,   0, nu*(sx + sy)]])\n",
    "\n",
    "sigma"
   ]
  },
  {
   "cell_type": "markdown",
   "metadata": {},
   "source": [
    "y le calculamos sus valores y vectores propios"
   ]
  },
  {
   "cell_type": "code",
   "execution_count": 13,
   "metadata": {
    "id": "jASDK_9wRmH6"
   },
   "outputs": [],
   "source": [
    "valp, vecp = np.linalg.eigh(sigma)"
   ]
  },
  {
   "cell_type": "code",
   "execution_count": 14,
   "metadata": {},
   "outputs": [
    {
     "data": {
      "text/plain": [
       "array([-2.8541,  0.3   ,  3.8541])"
      ]
     },
     "execution_count": 14,
     "metadata": {},
     "output_type": "execute_result"
    }
   ],
   "source": [
    "# imprimimos los valores propios s3, s2, s1\n",
    "valp"
   ]
  },
  {
   "cell_type": "code",
   "execution_count": 15,
   "metadata": {
    "colab": {
     "base_uri": "https://localhost:8080/"
    },
    "id": "HwA33qiURu-B",
    "outputId": "d84d088f-7d43-47b9-b507-054c52f095e9"
   },
   "outputs": [
    {
     "data": {
      "text/plain": [
       "array([[-0.8507,  0.    , -0.5257],\n",
       "       [-0.5257,  0.    ,  0.8507],\n",
       "       [-0.    ,  1.    ,  0.    ]])"
      ]
     },
     "execution_count": 15,
     "metadata": {},
     "output_type": "execute_result"
    }
   ],
   "source": [
    "# imprimimos los vectores propios correspondientes [n3, n2, n1]\n",
    "vecp"
   ]
  },
  {
   "cell_type": "code",
   "execution_count": 16,
   "metadata": {},
   "outputs": [],
   "source": [
    "# eigh() arroja los valores propios ordenados de menor a mayor (en orden ascendente), por lo que\n",
    "s3, s2, s1 = valp\n",
    "n3, n2, n1 = vecp.T"
   ]
  },
  {
   "cell_type": "markdown",
   "metadata": {},
   "source": [
    "Observe que $\\sigma_1 \\geq \\sigma_2 \\geq \\sigma_3$:"
   ]
  },
  {
   "cell_type": "code",
   "execution_count": 17,
   "metadata": {},
   "outputs": [
    {
     "name": "stdout",
     "output_type": "stream",
     "text": [
      "σ1 =  3.8541 Pa,    n1 = [-0.5257,  0.8507,  0.0000]\n",
      "σ2 =  0.3000 Pa,    n2 = [ 0.0000,  0.0000,  1.0000]\n",
      "σ3 = -2.8541 Pa,    n3 = [-0.8507, -0.5257, -0.0000]\n"
     ]
    }
   ],
   "source": [
    "print(f\"σ1 = {s1: .{num_decimales}f} Pa,    n1 = \" + imprimir_vect(n1))\n",
    "print(f\"σ2 = {s2: .{num_decimales}f} Pa,    n2 = \" + imprimir_vect(n2))\n",
    "print(f\"σ3 = {s3: .{num_decimales}f} Pa,    n3 = \" + imprimir_vect(n3))"
   ]
  },
  {
   "cell_type": "markdown",
   "metadata": {
    "id": "q-jSWd5lStdu"
   },
   "source": [
    "Verificamos que los vectores principales formen un sistema coordenado de la mano derecha, a partir del producto cruz $\\boldsymbol{\\hat{n}}_3 = \\boldsymbol{\\hat{n}}_1 \\times \\boldsymbol{\\hat{n}}_2$:"
   ]
  },
  {
   "cell_type": "code",
   "execution_count": 18,
   "metadata": {
    "colab": {
     "base_uri": "https://localhost:8080/"
    },
    "id": "KikYoefEUqGw",
    "outputId": "2fb3d14a-cc26-478c-df6a-a07fa6493a29"
   },
   "outputs": [
    {
     "name": "stdout",
     "output_type": "stream",
     "text": [
      "n3_calculado =  [ 0.8507,  0.5257, -0.0000]\n"
     ]
    }
   ],
   "source": [
    "n3_calculado = np.cross(n1, n2)\n",
    "\n",
    "print(\"n3_calculado = \", imprimir_vect(n3_calculado))"
   ]
  },
  {
   "cell_type": "markdown",
   "metadata": {},
   "source": [
    "Fíjese que obtenemos el vector $\\boldsymbol{\\hat{n}}_3$ con sentido contrario; esto se puede solucionar considerando en sentido contrario a $\\boldsymbol{\\hat{n}}_2$:"
   ]
  },
  {
   "cell_type": "code",
   "execution_count": 19,
   "metadata": {},
   "outputs": [
    {
     "name": "stdout",
     "output_type": "stream",
     "text": [
      "n3_calculado =  [-0.8507, -0.5257,  0.0000]\n"
     ]
    }
   ],
   "source": [
    "# Calculo n3 = n1 x -n2\n",
    "n3_calculado = np.cross(n1, -n2)\n",
    "\n",
    "print(\"n3_calculado = \", imprimir_vect(n3_calculado))"
   ]
  },
  {
   "cell_type": "markdown",
   "metadata": {},
   "source": [
    "A diferencia del código de Matlab usado en el `main.pdf`, aquí el ajuste de signos es diferente."
   ]
  },
  {
   "cell_type": "markdown",
   "metadata": {},
   "source": [
    "En conclusión:"
   ]
  },
  {
   "cell_type": "code",
   "execution_count": 20,
   "metadata": {},
   "outputs": [],
   "source": [
    "n1_3D =  n1\n",
    "n2_3D = -n2\n",
    "n3_3D =  n3"
   ]
  },
  {
   "cell_type": "markdown",
   "metadata": {},
   "source": [
    "## Análisis de resultados"
   ]
  },
  {
   "cell_type": "markdown",
   "metadata": {},
   "source": [
    "En el caso bidimensional se tiene que:"
   ]
  },
  {
   "cell_type": "code",
   "execution_count": 24,
   "metadata": {},
   "outputs": [
    {
     "name": "stdout",
     "output_type": "stream",
     "text": [
      "σ1_xy =  3.8541 Pa,    n1_2D = [-0.5257,  0.8507]\n",
      "σ2_xy = -2.8541 Pa,    n2_2D = [-0.8507, -0.5257]\n",
      "σz    =  0.3000 Pa\n"
     ]
    }
   ],
   "source": [
    "print(f\"σ1_xy = {s1xy: .{num_decimales}f} Pa,    n1_2D = \" + imprimir_vect(n1_2D))\n",
    "print(f\"σ2_xy = {s2xy: .{num_decimales}f} Pa,    n2_2D = \" + imprimir_vect(n2_2D))\n",
    "print(f\"σz    = {  sz: .{num_decimales}f} Pa\")"
   ]
  },
  {
   "cell_type": "markdown",
   "metadata": {},
   "source": [
    "Y en el tridimensional que:"
   ]
  },
  {
   "cell_type": "code",
   "execution_count": 22,
   "metadata": {},
   "outputs": [
    {
     "name": "stdout",
     "output_type": "stream",
     "text": [
      "σ1   =  3.8541 Pa,    n1_3D = [-0.5257,  0.8507,  0.0000]\n",
      "σ2   =  0.3000 Pa,    n2_3D = [-0.0000, -0.0000, -1.0000]\n",
      "σ3   = -2.8541 Pa,    n3_3D = [-0.8507, -0.5257, -0.0000]\n"
     ]
    }
   ],
   "source": [
    "print(f\"σ1   = {s1: .{num_decimales}f} Pa,    n1_3D = \" + imprimir_vect(n1_3D))\n",
    "print(f\"σ2   = {s2: .{num_decimales}f} Pa,    n2_3D = \" + imprimir_vect(n2_3D))\n",
    "print(f\"σ3   = {s3: .{num_decimales}f} Pa,    n3_3D = \" + imprimir_vect(n3_3D))"
   ]
  },
  {
   "cell_type": "markdown",
   "metadata": {},
   "source": [
    "Con respecto a los esfuerzos principales se cumple que:\n",
    "\\begin{align*}\n",
    "\\sigma_1 &= \\max\\left(\\left(\\sigma_1\\right)_{xy},\\ \\left(\\sigma_2\\right)_{xy},\\ \\nu\\left(\\sigma_x + \\sigma_y\\right)\\right) \\\\\n",
    "\\sigma_2 &= \\operatorname{mediana}\\left(\\left(\\sigma_1\\right)_{xy},\\ \\left(\\sigma_2\\right)_{xy},\\ \\nu\\left(\\sigma_x + \\sigma_y\\right)\\right) \\\\\n",
    "\\sigma_3 &= \\min\\left(\\left(\\sigma_1\\right)_{xy},\\ \\left(\\sigma_2\\right)_{xy},\\ \\nu\\left(\\sigma_x + \\sigma_y\\right)\\right).\n",
    "\\end{align*}"
   ]
  },
  {
   "cell_type": "code",
   "execution_count": 23,
   "metadata": {},
   "outputs": [
    {
     "name": "stdout",
     "output_type": "stream",
     "text": [
      "σ1 =  3.8541 Pa\n",
      "σ2 =  0.3000 Pa\n",
      "σ3 = -2.8541 Pa\n"
     ]
    }
   ],
   "source": [
    "s1 = np.max   ([s1xy, s2xy, nu*(sx + sy)])\n",
    "s2 = np.median([s1xy, s2xy, nu*(sx + sy)])\n",
    "s3 = np.min   ([s1xy, s2xy, nu*(sx + sy)])\n",
    "\n",
    "print(f\"σ1 = {s1: .{num_decimales}f} Pa\")\n",
    "print(f\"σ2 = {s2: .{num_decimales}f} Pa\")\n",
    "print(f\"σ3 = {s3: .{num_decimales}f} Pa\")"
   ]
  },
  {
   "cell_type": "markdown",
   "metadata": {},
   "source": [
    "En resumen, se tiene que dos de los valores propios corresponden a $(\\sigma_1)_{xy}$ y $(\\sigma_2)_{xy}$, mientras que el otro corresponde a $\\sigma_z$. Los vectores propios asociados son los mismos calculados en el caso bidimensional para los dos primeros, agregando un 0 en la componente $z$, mientras que el vector propio asociado a $\\sigma_z$ tiene la dirección de $[0,0, \\pm 1]^T$ , siendo necesario ajustar su sentido. "
   ]
  },
  {
   "cell_type": "markdown",
   "metadata": {},
   "source": [
    "## Cálculo del esfuerzo cortante máximo"
   ]
  },
  {
   "cell_type": "markdown",
   "metadata": {
    "tags": []
   },
   "source": [
    "El esfuerzo cortante máximo se calcula como:\n",
    "$$\n",
    "\\tau_{\\text{máx}} = \\frac{\\sigma_1-\\sigma_3}{2}\n",
    "$$\n",
    "y se presenta en los planos ortogonales a los vectores $\\frac{\\boldsymbol{\\hat{n}}_1 - \\boldsymbol{\\hat{n}}_3}{\\|\\boldsymbol{\\hat{n}}_1 - \\boldsymbol{\\hat{n}}_3\\|}$ y $\\frac{\\boldsymbol{\\hat{n}}_1 + \\boldsymbol{\\hat{n}}_3}{\\|\\boldsymbol{\\hat{n}}_1 + \\boldsymbol{\\hat{n}}_3\\|}$."
   ]
  },
  {
   "cell_type": "code",
   "execution_count": 26,
   "metadata": {},
   "outputs": [
    {
     "data": {
      "text/plain": [
       "3.3541019662496847"
      ]
     },
     "execution_count": 26,
     "metadata": {},
     "output_type": "execute_result"
    }
   ],
   "source": [
    "tmax = (s1 - s3)/2\n",
    "\n",
    "tmax"
   ]
  },
  {
   "cell_type": "code",
   "execution_count": 29,
   "metadata": {},
   "outputs": [
    {
     "data": {
      "text/plain": [
       "array([0.2298, 0.9732, 0.    ])"
      ]
     },
     "execution_count": 29,
     "metadata": {},
     "output_type": "execute_result"
    }
   ],
   "source": [
    "(n1 - n3)/np.linalg.norm(n1 - n3)"
   ]
  },
  {
   "cell_type": "code",
   "execution_count": 30,
   "metadata": {},
   "outputs": [
    {
     "data": {
      "text/plain": [
       "array([-0.9732,  0.2298,  0.    ])"
      ]
     },
     "execution_count": 30,
     "metadata": {},
     "output_type": "execute_result"
    }
   ],
   "source": [
    "(n1 + n3)/np.linalg.norm(n1 + n3)"
   ]
  },
  {
   "cell_type": "markdown",
   "metadata": {
    "tags": []
   },
   "source": [
    "por lo tanto, el esfuerzo cortante máximo es 3.3541 Pa y se presenta en los planos con vector normal $\\frac{\\boldsymbol{\\hat{n}}_1 - \\boldsymbol{\\hat{n}}_3}{\\|\\boldsymbol{\\hat{n}}_1 - \\boldsymbol{\\hat{n}}_3\\|} = [0.2298,\\ 0.9732,\\ 0]^T$ y $\\frac{\\boldsymbol{\\hat{n}}_1 + \\boldsymbol{\\hat{n}}_3}{\\|\\boldsymbol{\\hat{n}}_1 + \\boldsymbol{\\hat{n}}_3\\|} = [-0.9732,\\ 0.2298,\\ 0]^T$."
   ]
  },
  {
   "cell_type": "markdown",
   "metadata": {
    "tags": []
   },
   "source": [
    "Tenga en cuenta que el esfuerzo cortante máximo también se podría calcular mediante:\n",
    "$$\n",
    "\\tau_{\\text{máx}} = \\max\\left(\\frac{\\left|\\left(\\sigma_1\\right)_{xy} -\\nu\\left(\\sigma_x + \\sigma_y\\right)\\right|}{2},\\ \\frac{\\left|\\left(\\sigma_2\\right)_{xy} - \\nu\\left(\\sigma_x + \\sigma_y\\right)\\right|}{2},\\ \\frac{\\left|\\left(\\sigma_1\\right)_{xy} - \\left(\\sigma_2\\right)_{xy}\\right|}{2}\\right);\n",
    "$$\n",
    "sin embargo, la fórmula de arriba es preferible, ya que es más sencilla."
   ]
  }
 ],
 "metadata": {
  "colab": {
   "authorship_tag": "ABX9TyMaipVYtL5pmjAGcXq3QWts",
   "include_colab_link": true,
   "name": "04_08_03_ejemplo_DP.ipynb",
   "provenance": []
  },
  "kernelspec": {
   "display_name": "Python 3 (ipykernel)",
   "language": "python",
   "name": "python3"
  },
  "language_info": {
   "codemirror_mode": {
    "name": "ipython",
    "version": 3
   },
   "file_extension": ".py",
   "mimetype": "text/x-python",
   "name": "python",
   "nbconvert_exporter": "python",
   "pygments_lexer": "ipython3",
   "version": "3.11.7"
  },
  "vscode": {
   "interpreter": {
    "hash": "916dbcbb3f70747c44a77c7bcd40155683ae19c65e1c03b4aa3499c5328201f1"
   }
  }
 },
 "nbformat": 4,
 "nbformat_minor": 4
}
