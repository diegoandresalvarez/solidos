{
 "cells": [
  {
   "cell_type": "markdown",
   "id": "07dce1d5",
   "metadata": {},
   "source": [
    "# 4.3.5. Ley de Hooke generalizada para materiales ortótropos\n",
    "|Quién | Correo | Fecha | Qué hizo |\n",
    "| ---  | ---    | ---   | ---      |\n",
    "|Juan Nicolás Ramírez Giraldo | <jnramirezg@unal.edu.co> | Octubre 3, 2022 | Conversión de código de MAXIMA a Python|\n",
    "|Diego Andrés Alvarez Marín | <daalvarez@unal.edu.co> | Marzo 27, 2023 | Conversión de código de MAXIMA a Python|"
   ]
  },
  {
   "cell_type": "markdown",
   "id": "abd354ff-f947-4ea9-973e-42c67673f8d1",
   "metadata": {},
   "source": [
    "$$\n",
    "\\newcommand{\\ve}[1]{{\\vec{\\boldsymbol{#1}}}}\n",
    "\\newcommand{\\ma}[1]{{\\boldsymbol{#1}}}\n",
    "\\newcommand{\\hve}[1]{{\\,\\hat{\\!\\boldsymbol{#1}}}}\n",
    "\\newcommand{\\tr}{\\operatorname{tr}}\n",
    "$$"
   ]
  },
  {
   "cell_type": "code",
   "execution_count": 1,
   "id": "f49a1fee",
   "metadata": {},
   "outputs": [],
   "source": [
    "from sympy import init_printing, latex, symbols, linear_eq_to_matrix, simplify\n",
    "\n",
    "# Para imprimir bonito\n",
    "init_printing()\n",
    "from IPython.display import Math                 \n",
    "def imprimir (texto1, variable, texto2=\"\"):\n",
    "    return Math(texto1 +  rf'{latex(variable)}' + texto2)"
   ]
  },
  {
   "cell_type": "code",
   "execution_count": 2,
   "id": "5e935258",
   "metadata": {},
   "outputs": [],
   "source": [
    "sx,   sy,  sz = symbols(\"     sigma_x      sigma_y      sigma_z\")\n",
    "txy, txz, tyz = symbols(\"      tau_xy       tau_xz       tau_yz\")\n",
    "ex,   ey,  ez = symbols(\"varepsilon_x varepsilon_y varepsilon_z\")\n",
    "gxy, gxz, gyz = symbols(\"    gamma_xy     gamma_xz     gamma_yz\")"
   ]
  },
  {
   "cell_type": "code",
   "execution_count": 3,
   "id": "e3269d0a",
   "metadata": {},
   "outputs": [],
   "source": [
    "Ex,     Ey,   Ez = symbols(\"  E_x   E_y   E_z\")\n",
    "Gxy,   Gxz,  Gyz = symbols(\" G_xy  G_xz  G_yz \")\n",
    "nuxy, nuxz, nuyz = symbols(\"nu_xy nu_xz nu_yz \")\n",
    "nuyx, nuzx, nuzy = symbols(\"nu_yx nu_zx nu_zy \")"
   ]
  },
  {
   "cell_type": "markdown",
   "id": "8b7f00fe",
   "metadata": {},
   "source": [
    "A partir de las ecuaciones:\n",
    "\n",
    "\\begin{align*}\n",
    "\\varepsilon_x &= \\frac{1}{E}\\sigma_x - \\frac{\\nu_{yx}}{E}\\sigma_y - \\frac{\\nu_{zx}}{E}\\sigma_z\\\\\n",
    "\\varepsilon_y &= -\\frac{\\nu_{xy}}{E}\\sigma_x + \\frac{1}{E}\\sigma_y - \\frac{\\nu_{zy}}{E}\\sigma_z\\\\\n",
    "\\varepsilon_y &= -\\frac{\\nu_{xz}}{E}\\sigma_x - \\frac{\\nu_{yz}}{E}\\sigma_y + \\frac{1}{E}\\sigma_z\\\\\n",
    "\\gamma_{xy}   &= \\frac{1}{G_{yz}}\\tau_{xy}\\\\\n",
    "\\gamma_{xz}   &= \\frac{1}{G_{xz}}\\tau_{xz}\\\\\n",
    "\\gamma_{yz}   &= \\frac{1}{G_{xy}}\\tau_{yz}\n",
    "\\end{align*}"
   ]
  },
  {
   "cell_type": "code",
   "execution_count": 4,
   "id": "82b0c919",
   "metadata": {},
   "outputs": [],
   "source": [
    "ex =       sx/Ex - nuyx*sy/Ey - nuzx*sz/Ez\n",
    "ey = -nuxy*sx/Ex +      sy/Ey - nuzy*sz/Ez\n",
    "ez = -nuxz*sx/Ex - nuyz*sy/Ey +      sz/Ez\n",
    "gyz = tyz/Gyz\n",
    "gxz = txz/Gxz\n",
    "gxy = txy/Gxy"
   ]
  },
  {
   "cell_type": "markdown",
   "id": "0d905e12",
   "metadata": {},
   "source": [
    "Extraemos la matriz de conformidad $\\ma{S}$:"
   ]
  },
  {
   "cell_type": "code",
   "execution_count": 5,
   "id": "a124058b",
   "metadata": {
    "scrolled": true
   },
   "outputs": [
    {
     "data": {
      "text/latex": [
       "$\\displaystyle \\ma{S} = \\left[\\begin{matrix}\\frac{1}{E_{x}} & - \\frac{\\nu_{yx}}{E_{y}} & - \\frac{\\nu_{zx}}{E_{z}} & 0 & 0 & 0\\\\- \\frac{\\nu_{xy}}{E_{x}} & \\frac{1}{E_{y}} & - \\frac{\\nu_{zy}}{E_{z}} & 0 & 0 & 0\\\\- \\frac{\\nu_{xz}}{E_{x}} & - \\frac{\\nu_{yz}}{E_{y}} & \\frac{1}{E_{z}} & 0 & 0 & 0\\\\0 & 0 & 0 & \\frac{1}{G_{yz}} & 0 & 0\\\\0 & 0 & 0 & 0 & \\frac{1}{G_{xz}} & 0\\\\0 & 0 & 0 & 0 & 0 & \\frac{1}{G_{xy}}\\end{matrix}\\right]$"
      ],
      "text/plain": [
       "<IPython.core.display.Math object>"
      ]
     },
     "execution_count": 5,
     "metadata": {},
     "output_type": "execute_result"
    }
   ],
   "source": [
    "S = linear_eq_to_matrix([ex, ey, ez, gyz, gxz, gxy], \n",
    "                        [sx, sy, sz, tyz, txz, txy])[0]\n",
    "imprimir(r\"\\ma{S} = \", S)"
   ]
  },
  {
   "cell_type": "markdown",
   "id": "b395fb07",
   "metadata": {},
   "source": [
    "Ahora, calculamos la matriz constitutiva $\\ma{D}=\\ma{S}^{-1}$:"
   ]
  },
  {
   "cell_type": "code",
   "execution_count": 11,
   "id": "1284e877",
   "metadata": {},
   "outputs": [
    {
     "data": {
      "text/latex": [
       "$\\displaystyle \\ma{D} = \\left[\\begin{matrix}\\frac{E_{x} \\nu_{yz} \\nu_{zy} - E_{x}}{\\nu_{xy} \\nu_{yx} + \\nu_{xy} \\nu_{yz} \\nu_{zx} + \\nu_{xz} \\nu_{yx} \\nu_{zy} + \\nu_{xz} \\nu_{zx} + \\nu_{yz} \\nu_{zy} - 1} & \\frac{- E_{x} \\nu_{yx} - E_{x} \\nu_{yz} \\nu_{zx}}{\\nu_{xy} \\nu_{yx} + \\nu_{xy} \\nu_{yz} \\nu_{zx} + \\nu_{xz} \\nu_{yx} \\nu_{zy} + \\nu_{xz} \\nu_{zx} + \\nu_{yz} \\nu_{zy} - 1} & \\frac{- E_{x} \\nu_{yx} \\nu_{zy} - E_{x} \\nu_{zx}}{\\nu_{xy} \\nu_{yx} + \\nu_{xy} \\nu_{yz} \\nu_{zx} + \\nu_{xz} \\nu_{yx} \\nu_{zy} + \\nu_{xz} \\nu_{zx} + \\nu_{yz} \\nu_{zy} - 1} & 0 & 0 & 0\\\\\\frac{- E_{y} \\nu_{xy} - E_{y} \\nu_{xz} \\nu_{zy}}{\\nu_{xy} \\nu_{yx} + \\nu_{xy} \\nu_{yz} \\nu_{zx} + \\nu_{xz} \\nu_{yx} \\nu_{zy} + \\nu_{xz} \\nu_{zx} + \\nu_{yz} \\nu_{zy} - 1} & \\frac{E_{y} \\nu_{xz} \\nu_{zx} - E_{y}}{\\nu_{xy} \\nu_{yx} + \\nu_{xy} \\nu_{yz} \\nu_{zx} + \\nu_{xz} \\nu_{yx} \\nu_{zy} + \\nu_{xz} \\nu_{zx} + \\nu_{yz} \\nu_{zy} - 1} & \\frac{- E_{y} \\nu_{xy} \\nu_{zx} - E_{y} \\nu_{zy}}{\\nu_{xy} \\nu_{yx} + \\nu_{xy} \\nu_{yz} \\nu_{zx} + \\nu_{xz} \\nu_{yx} \\nu_{zy} + \\nu_{xz} \\nu_{zx} + \\nu_{yz} \\nu_{zy} - 1} & 0 & 0 & 0\\\\\\frac{- E_{z} \\nu_{xy} \\nu_{yz} - E_{z} \\nu_{xz}}{\\nu_{xy} \\nu_{yx} + \\nu_{xy} \\nu_{yz} \\nu_{zx} + \\nu_{xz} \\nu_{yx} \\nu_{zy} + \\nu_{xz} \\nu_{zx} + \\nu_{yz} \\nu_{zy} - 1} & \\frac{- E_{z} \\nu_{xz} \\nu_{yx} - E_{z} \\nu_{yz}}{\\nu_{xy} \\nu_{yx} + \\nu_{xy} \\nu_{yz} \\nu_{zx} + \\nu_{xz} \\nu_{yx} \\nu_{zy} + \\nu_{xz} \\nu_{zx} + \\nu_{yz} \\nu_{zy} - 1} & \\frac{E_{z} \\nu_{xy} \\nu_{yx} - E_{z}}{\\nu_{xy} \\nu_{yx} + \\nu_{xy} \\nu_{yz} \\nu_{zx} + \\nu_{xz} \\nu_{yx} \\nu_{zy} + \\nu_{xz} \\nu_{zx} + \\nu_{yz} \\nu_{zy} - 1} & 0 & 0 & 0\\\\0 & 0 & 0 & G_{yz} & 0 & 0\\\\0 & 0 & 0 & 0 & G_{xz} & 0\\\\0 & 0 & 0 & 0 & 0 & G_{xy}\\end{matrix}\\right]$"
      ],
      "text/plain": [
       "<IPython.core.display.Math object>"
      ]
     },
     "execution_count": 11,
     "metadata": {},
     "output_type": "execute_result"
    }
   ],
   "source": [
    "D = S**-1\n",
    "imprimir(r\"\\ma{D} = \", D)"
   ]
  },
  {
   "cell_type": "markdown",
   "id": "129b7564",
   "metadata": {},
   "source": [
    "reemplazamos el término:\n",
    "$$\\Delta = \\displaystyle\\frac{1-\\nu_{yz}\\nu_{zy} - \\nu_{xz}\\nu_{zx} - \\nu_{xy}\\nu_{yx} - \\nu_{xz}\\nu_{yx}\\nu_{zy} - \\nu_{xy}\\nu_{yz}\\nu_{zx}}{E_x E_y E_z}$$"
   ]
  },
  {
   "cell_type": "markdown",
   "id": "0cb6dfe4",
   "metadata": {},
   "source": [
    "La variable ```delta_``` contiene la parte derecha de la iguadad y la variable ```delta``` contiene el símbolo $\\Delta$:"
   ]
  },
  {
   "cell_type": "code",
   "execution_count": 12,
   "id": "a9e65755",
   "metadata": {},
   "outputs": [],
   "source": [
    "delta_ = (1-nuyz*nuzy - nuxz*nuzx - nuxy*nuyx - nuxz*nuyx*nuzy - nuxy*nuyz*nuzx)/(Ex*Ey*Ez)\n",
    "delta = symbols(\"Delta\") "
   ]
  },
  {
   "cell_type": "markdown",
   "id": "96b5bd90",
   "metadata": {},
   "source": [
    "Substituimos ```delta_``` por ```delta```:"
   ]
  },
  {
   "cell_type": "code",
   "execution_count": 13,
   "id": "587df93d",
   "metadata": {
    "scrolled": true
   },
   "outputs": [
    {
     "data": {
      "text/latex": [
       "$\\displaystyle \\ma{D} = \\left[\\begin{matrix}\\frac{- \\nu_{yz} \\nu_{zy} + 1}{\\Delta E_{y} E_{z}} & \\frac{\\nu_{yx} + \\nu_{yz} \\nu_{zx}}{\\Delta E_{y} E_{z}} & \\frac{\\nu_{yx} \\nu_{zy} + \\nu_{zx}}{\\Delta E_{y} E_{z}} & 0 & 0 & 0\\\\\\frac{\\nu_{xy} + \\nu_{xz} \\nu_{zy}}{\\Delta E_{x} E_{z}} & \\frac{- \\nu_{xz} \\nu_{zx} + 1}{\\Delta E_{x} E_{z}} & \\frac{\\nu_{xy} \\nu_{zx} + \\nu_{zy}}{\\Delta E_{x} E_{z}} & 0 & 0 & 0\\\\\\frac{\\nu_{xy} \\nu_{yz} + \\nu_{xz}}{\\Delta E_{x} E_{y}} & \\frac{\\nu_{xz} \\nu_{yx} + \\nu_{yz}}{\\Delta E_{x} E_{y}} & \\frac{- \\nu_{xy} \\nu_{yx} + 1}{\\Delta E_{x} E_{y}} & 0 & 0 & 0\\\\0 & 0 & 0 & G_{yz} & 0 & 0\\\\0 & 0 & 0 & 0 & G_{xz} & 0\\\\0 & 0 & 0 & 0 & 0 & G_{xy}\\end{matrix}\\right]$"
      ],
      "text/plain": [
       "<IPython.core.display.Math object>"
      ]
     },
     "execution_count": 13,
     "metadata": {},
     "output_type": "execute_result"
    }
   ],
   "source": [
    "D = simplify(D*delta_/delta).subs(delta_,delta)\n",
    "imprimir(r\"\\ma{D} = \", D)"
   ]
  },
  {
   "cell_type": "markdown",
   "id": "93d411ea",
   "metadata": {},
   "source": [
    "De aquí obtenemos que la ley de Hooke generalizada para materiales ortótropos en forma matricial es:\n",
    "\n",
    "$$\n",
    "\\underbrace{%\n",
    "\\begin{bmatrix}\n",
    "\\sigma_x\\\\ \\sigma_y\\\\ \\sigma_z\\\\ \\tau_{yz}\\\\ \\tau_{xz}\\\\ \\tau_{xy}\\\\\n",
    "\\end{bmatrix}\n",
    "}_{\\ve{\\sigma}}\n",
    "=\n",
    "\\underbrace{%\n",
    "\\begin{bmatrix}\n",
    "\\frac{1- \\nu_{yz} \\nu_{zy}}{ E_{y} E_{z} \\Delta} \n",
    "& \\frac{\\nu_{yz} \\nu_{zx}+ \\nu_{yx}}{ E_{y} E_{z} \\Delta} \n",
    "& \\frac{\\nu_{yx} \\nu_{zy} + \\nu_{zx}}{ E_{y} E_{z} \\Delta} & 0 & 0 & 0\\\\\n",
    "\\frac{\\nu_{xz} \\nu_{zy}+ \\nu_{xy}  }{ E_{x} E_{z} \\Delta} \n",
    "& \\frac{1- \\nu_{xz} \\nu_{zx}}{ E_{x} E_{z} \\Delta} \n",
    "& \\frac{\\nu_{zy}+\\nu_{xy} \\nu_{zx} }{ E_{x} E_{z} \\Delta} & 0 & 0 & 0\\\\\n",
    "\\frac{\\nu_{xy} \\nu_{yz} + \\nu_{xz}}{ E_{x} E_{y} \\Delta} \n",
    "& \\frac{\\nu_{yz}+\\nu_{xz} \\nu_{yx}}{ E_{x} E_{y} \\Delta} \n",
    "& \\frac{1- \\nu_{xy} \\nu_{yx}}{ E_{x} E_{y} \\Delta} & 0 & 0 & 0\\\\0 & 0 & 0 & G_{yz} & 0 & 0\\\\\n",
    "0 & 0 & 0 & 0 & G_{xz} & 0\\\\\n",
    "0 & 0 & 0 & 0 & 0 & G_{xy}\n",
    "\\end{bmatrix}}_{\\ma{D}}\n",
    "\\underbrace{%\n",
    "\\begin{bmatrix}\n",
    "\\varepsilon_x\\\\ \\varepsilon_y\\\\ \\varepsilon_z\\\\ \\gamma_{yz}\\\\ \\gamma_{xz}\\\\ \\gamma_{xy}\\\\\n",
    "\\end{bmatrix}}_{\\ve{\\varepsilon}}$$"
   ]
  },
  {
   "cell_type": "markdown",
   "id": "52babbb5",
   "metadata": {},
   "source": [
    "Donde:\n",
    "$$\\Delta = \\displaystyle\\frac{1-\\nu_{yz}\\nu_{zy} - \\nu_{xz}\\nu_{zx} - \\nu_{xy}\\nu_{yx} - 2\\nu_{xy}\\nu_{yz}\\nu_{zx}}{E_x E_y E_z}$$\n",
    "\n",
    "**Nota:** $\\nu_{xz}\\nu_{yx}\\nu_{zy} + \\nu_{xy}\\nu_{yz}\\nu_{zx} = 2\\nu_{xy}\\nu_{yz}\\nu_{zx}$, pues $\\nu_{xz}\\nu_{yx}\\nu_{zy} = \\nu_{xy}\\nu_{yz}\\nu_{zx}$, gracias a que:\n",
    "\n",
    "$$\\nu_{xy}=\\displaystyle\\frac{E_x}{E_y}\\nu_{yx}$$\n",
    "$$\\nu_{yz}=\\displaystyle\\frac{E_y}{E_z}\\nu_{zy}$$\n",
    "$$\\nu_{zx}=\\displaystyle\\frac{E_z}{E_x}\\nu_{xz}$$"
   ]
  }
 ],
 "metadata": {
  "kernelspec": {
   "display_name": "Python 3 (ipykernel)",
   "language": "python",
   "name": "python3"
  },
  "language_info": {
   "codemirror_mode": {
    "name": "ipython",
    "version": 3
   },
   "file_extension": ".py",
   "mimetype": "text/x-python",
   "name": "python",
   "nbconvert_exporter": "python",
   "pygments_lexer": "ipython3",
   "version": "3.11.7"
  }
 },
 "nbformat": 4,
 "nbformat_minor": 5
}
