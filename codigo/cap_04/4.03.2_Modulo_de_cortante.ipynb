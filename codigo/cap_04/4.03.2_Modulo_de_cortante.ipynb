{
 "cells": [
  {
   "cell_type": "markdown",
   "metadata": {
    "id": "9uHmKa6oMc6N"
   },
   "source": [
    "# 4.3.2. Deformación de un sólido sometido a esfuerzos tangenciales\n",
    "|Quién | Correo | Fecha | Qué hizo |\n",
    "| ---  | ---    |  ---  | ---      |\n",
    "|Michael Heredia Pérez | <mherediap@unal.edu.co> | Julio 19, 2022 | Conversión de código de MAXIMA a Python|\n",
    "|Juan Nicolás Ramírez | <jnramirezg@unal.edu.co> | Septiembre 25, 2022 | Adecuando código a particularidades pedagógicas|\n",
    "|Diego Andrés Alvarez MarínAlvarez| <daalvarez@unal.edu.co> | Marzo 26, 2024 | Mejorando los comentarios|"
   ]
  },
  {
   "cell_type": "code",
   "execution_count": 1,
   "metadata": {
    "id": "Uxf_0x1SMOAO"
   },
   "outputs": [],
   "source": [
    "from sympy import init_printing, latex, symbols, solve, Eq\n",
    "\n",
    "# Para imprimir bonito\n",
    "init_printing()\n",
    "from IPython.display import Math                 \n",
    "def imprimir (texto1, variable, texto2=\"\"):\n",
    "    return Math(texto1 +  rf'{latex(variable)}' + texto2)"
   ]
  },
  {
   "cell_type": "markdown",
   "metadata": {
    "id": "QZRqayP0QdX6"
   },
   "source": [
    "Definimos las variables simbólicas"
   ]
  },
  {
   "cell_type": "code",
   "execution_count": 2,
   "metadata": {
    "colab": {
     "base_uri": "https://localhost:8080/",
     "height": 38
    },
    "id": "8czbb7eoQcy7",
    "outputId": "fa7fa923-a408-400c-a8db-5884e31e11fb"
   },
   "outputs": [],
   "source": [
    "tau, nu, gamma, E = symbols(\"tau, nu, gamma, E\")"
   ]
  },
  {
   "cell_type": "markdown",
   "metadata": {},
   "source": [
    "Reemplazamos las siguientes ecuaciones:\n",
    "\\begin{align*}\n",
    "\\varepsilon_x &=-\\frac{\\tau(1+\\nu)}{E} \\\\\n",
    "\\varepsilon_y &=\\frac{\\tau(1+\\nu)}{E}\n",
    "\\end{align*}"
   ]
  },
  {
   "cell_type": "code",
   "execution_count": 3,
   "metadata": {
    "colab": {
     "base_uri": "https://localhost:8080/",
     "height": 58
    },
    "id": "QOzqFzI5RDP0",
    "outputId": "2853f6d1-8977-4163-9d95-d91e9dece09f"
   },
   "outputs": [],
   "source": [
    "ex = -tau*(1 + nu)/E\n",
    "ey =  tau*(1 + nu)/E"
   ]
  },
  {
   "cell_type": "markdown",
   "metadata": {},
   "source": [
    "en\n",
    "\\begin{equation*}\n",
    "\\displaystyle\\frac{1-\\frac{\\gamma}{2}}{1+\\frac{\\gamma}{2}} = \\frac{1+\\varepsilon_x}{1+\\varepsilon_y}\n",
    "\\end{equation*}"
   ]
  },
  {
   "cell_type": "code",
   "execution_count": 4,
   "metadata": {
    "colab": {
     "base_uri": "https://localhost:8080/",
     "height": 56
    },
    "id": "ZMWXeFTET_3e",
    "outputId": "e5d7178a-ae4d-4a3f-8dd7-9bcea2151657"
   },
   "outputs": [
    {
     "data": {
      "image/png": "[encoded data removed]",
      "text/latex": [
       "$\\displaystyle \\frac{E \\gamma}{2 \\left(\\nu + 1\\right)}$"
      ],
      "text/plain": [
       "   E⋅γ   \n",
       "─────────\n",
       "2⋅(ν + 1)"
      ]
     },
     "execution_count": 4,
     "metadata": {},
     "output_type": "execute_result"
    }
   ],
   "source": [
    "tau_sol = solve(Eq((1 - gamma/2)/(1 + gamma/2), (1 + ex)/(1 + ey)), tau)[0]    \n",
    "tau_sol"
   ]
  },
  {
   "cell_type": "markdown",
   "metadata": {},
   "source": [
    "Por lo tanto, \n",
    "\n",
    "$$\n",
    "\\tau=\\displaystyle \\underbrace{\\frac{E}{2 \\left(\\nu + 1\\right)}}_G\\gamma\n",
    "$$\n",
    "\n",
    "Esta expresión es la que relaciona la deformación angular $\\gamma$ con los esfuerzos cortantes aplicados sobre un sólido sometido a condiciones de esfuerzo cortante puro.\n",
    "\n",
    "La constante:"
   ]
  },
  {
   "cell_type": "code",
   "execution_count": 5,
   "metadata": {
    "colab": {
     "base_uri": "https://localhost:8080/",
     "height": 56
    },
    "id": "o9UnN3ix27e7",
    "outputId": "4a325ace-47a1-4d69-c936-94da36685f76"
   },
   "outputs": [
    {
     "data": {
      "text/latex": [
       "$\\displaystyle G = \\frac{E}{2 \\left(\\nu + 1\\right)}$"
      ],
      "text/plain": [
       "<IPython.core.display.Math object>"
      ]
     },
     "execution_count": 5,
     "metadata": {},
     "output_type": "execute_result"
    }
   ],
   "source": [
    "G = tau_sol/gamma\n",
    "imprimir(\"G = \", G)"
   ]
  },
  {
   "cell_type": "markdown",
   "metadata": {},
   "source": [
    "se conoce como el *módulo de elasticidad tangencial* o *módulo de cortante*. y relaciona la deformación angular\n",
    "con los esfuerzos cortantes aplicados sobre un sólido sometido a condiciones de esfuerzo cortante puro."
   ]
  }
 ],
 "metadata": {
  "colab": {
   "authorship_tag": "ABX9TyP8AYr1faRBNxl+OmLg0kxQ",
   "include_colab_link": true,
   "name": "04_03_02.ipynb",
   "provenance": []
  },
  "kernelspec": {
   "display_name": "Python 3 (ipykernel)",
   "language": "python",
   "name": "python3"
  },
  "language_info": {
   "codemirror_mode": {
    "name": "ipython",
    "version": 3
   },
   "file_extension": ".py",
   "mimetype": "text/x-python",
   "name": "python",
   "nbconvert_exporter": "python",
   "pygments_lexer": "ipython3",
   "version": "3.11.7"
  },
  "vscode": {
   "interpreter": {
    "hash": "916dbcbb3f70747c44a77c7bcd40155683ae19c65e1c03b4aa3499c5328201f1"
   }
  }
 },
 "nbformat": 4,
 "nbformat_minor": 4
}
