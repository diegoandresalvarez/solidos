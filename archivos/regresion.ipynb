{
 "cells": [
  {
   "cell_type": "markdown",
   "id": "97b0c797",
   "metadata": {},
   "source": [
    "# Mínimos cuadrados"
   ]
  },
  {
   "cell_type": "code",
   "execution_count": 1,
   "id": "be477510",
   "metadata": {},
   "outputs": [],
   "source": [
    "import numpy as np\n",
    "import matplotlib.pyplot as plt\n",
    "plt.rcParams['figure.figsize'] = [12, 5]\n",
    "\n",
    "from scipy import optimize"
   ]
  },
  {
   "cell_type": "markdown",
   "id": "7773ad54",
   "metadata": {},
   "source": [
    "Vamos a hacer mínimos cuadrados ajustando los datos a una parábola. Primero que todo se simularán las lecturas y se graficarán."
   ]
  },
  {
   "cell_type": "code",
   "execution_count": 2,
   "id": "d56b7f97",
   "metadata": {},
   "outputs": [
    {
     "data": {
      "image/png": "[encoded data removed]",
      "text/plain": [
       "<Figure size 864x360 with 1 Axes>"
      ]
     },
     "metadata": {
      "needs_background": "light"
     },
     "output_type": "display_data"
    }
   ],
   "source": [
    "# se define el polinomio -5x^2 + x + 3 (que es la solución al problema)\n",
    "coefEX = [-5, 1, 3]\n",
    "f = np.poly1d(coefEX)\n",
    "\n",
    "# se muestrean \"m\" datos del polinomio; se simula el error en la medición con un ruido gausiano\n",
    "m = 20\n",
    "\n",
    "xi = np.linspace(0, 2, m)\n",
    "yi = f(xi) + 0.8*np.random.randn(m)\n",
    "\n",
    "# se grafican los datos\n",
    "plt.plot(xi, yi, 'or')\n",
    "plt.xlabel('x')\n",
    "plt.ylabel('y')\n",
    "plt.show()"
   ]
  },
  {
   "cell_type": "markdown",
   "id": "a6549824",
   "metadata": {},
   "source": [
    "## Usando regresión lineal"
   ]
  },
  {
   "cell_type": "code",
   "execution_count": 3,
   "id": "8a4f3e6b",
   "metadata": {},
   "outputs": [
    {
     "data": {
      "text/plain": [
       "array([[0.        , 0.        , 1.        ],\n",
       "       [0.01108033, 0.10526316, 1.        ],\n",
       "       [0.04432133, 0.21052632, 1.        ],\n",
       "       [0.09972299, 0.31578947, 1.        ],\n",
       "       [0.17728532, 0.42105263, 1.        ],\n",
       "       [0.27700831, 0.52631579, 1.        ],\n",
       "       [0.39889197, 0.63157895, 1.        ],\n",
       "       [0.54293629, 0.73684211, 1.        ],\n",
       "       [0.70914127, 0.84210526, 1.        ],\n",
       "       [0.89750693, 0.94736842, 1.        ],\n",
       "       [1.10803324, 1.05263158, 1.        ],\n",
       "       [1.34072022, 1.15789474, 1.        ],\n",
       "       [1.59556787, 1.26315789, 1.        ],\n",
       "       [1.87257618, 1.36842105, 1.        ],\n",
       "       [2.17174515, 1.47368421, 1.        ],\n",
       "       [2.49307479, 1.57894737, 1.        ],\n",
       "       [2.8365651 , 1.68421053, 1.        ],\n",
       "       [3.20221607, 1.78947368, 1.        ],\n",
       "       [3.5900277 , 1.89473684, 1.        ],\n",
       "       [4.        , 2.        , 1.        ]])"
      ]
     },
     "execution_count": 3,
     "metadata": {},
     "output_type": "execute_result"
    }
   ],
   "source": [
    "# se arma la matriz la matriz de Vandermonde A y se asigna el vector b\n",
    "N = len(coefEX)\n",
    "A = np.vander(xi, N)\n",
    "# La línea anterior es equivalente a:\n",
    "# A = np.column_stack([x**(N-1-i) for i in range(N)])\n",
    "# A = np.c_[xi**2, xi, np.ones(m)]\n",
    "b = yi\n",
    "A"
   ]
  },
  {
   "cell_type": "markdown",
   "id": "8f24d946",
   "metadata": {},
   "source": [
    "Se calcula la pseudoinversa de Moore-Penrose $\\mathbf{A}^\\dagger$ usando dos diferentes métodos:"
   ]
  },
  {
   "cell_type": "code",
   "execution_count": 4,
   "id": "5b2695a6",
   "metadata": {},
   "outputs": [
    {
     "data": {
      "text/plain": [
       "4.218847493575595e-15"
      ]
     },
     "execution_count": 4,
     "metadata": {},
     "output_type": "execute_result"
    }
   ],
   "source": [
    "# método 1\n",
    "Amp = np.linalg.inv(A.T @ A) @ A.T\n",
    "\n",
    "# método 2\n",
    "Amp2 = np.linalg.pinv(A)\n",
    "\n",
    "# comparamos ambos métodos y observamos que las respuestas son prácticamente iguales\n",
    "# np.all(np.isclose(Amp, Amp2))\n",
    "np.max(np.abs(Amp - Amp2))"
   ]
  },
  {
   "cell_type": "markdown",
   "id": "0758a391",
   "metadata": {},
   "source": [
    "Estimamos ahora los coeficientes del polinomio (con tres diferentes métodos) y observamos que son prácticamente los originales:"
   ]
  },
  {
   "cell_type": "code",
   "execution_count": 5,
   "id": "e0292cf3",
   "metadata": {
    "scrolled": true
   },
   "outputs": [
    {
     "name": "stdout",
     "output_type": "stream",
     "text": [
      "Los coeficientes originales son:  [-5, 1, 3]\n"
     ]
    },
    {
     "data": {
      "text/plain": [
       "array([-4.44558179, -0.01260381,  3.37084571])"
      ]
     },
     "execution_count": 5,
     "metadata": {},
     "output_type": "execute_result"
    }
   ],
   "source": [
    "print('Los coeficientes originales son: ', coefEX)\n",
    "\n",
    "#%timeit Amp @ b\n",
    "coefEST = Amp @ b\n",
    "coefEST"
   ]
  },
  {
   "cell_type": "code",
   "execution_count": 6,
   "id": "60424e67",
   "metadata": {},
   "outputs": [
    {
     "name": "stdout",
     "output_type": "stream",
     "text": [
      "Los coeficientes originales son:  [-5, 1, 3]\n"
     ]
    },
    {
     "data": {
      "text/plain": [
       "array([-4.44558179, -0.01260381,  3.37084571])"
      ]
     },
     "execution_count": 6,
     "metadata": {},
     "output_type": "execute_result"
    }
   ],
   "source": [
    "print('Los coeficientes originales son: ', coefEX)\n",
    "\n",
    "#%timeit np.linalg.lstsq(A, b, rcond=None)[0]\n",
    "coefEST2 = np.linalg.lstsq(A, b, rcond=None)[0]\n",
    "coefEST2"
   ]
  },
  {
   "cell_type": "code",
   "execution_count": 7,
   "id": "c01289bb",
   "metadata": {},
   "outputs": [
    {
     "name": "stdout",
     "output_type": "stream",
     "text": [
      "Los coeficientes originales son:  [-5, 1, 3]\n"
     ]
    },
    {
     "data": {
      "text/plain": [
       "array([-4.44558179, -0.01260381,  3.37084571])"
      ]
     },
     "execution_count": 7,
     "metadata": {},
     "output_type": "execute_result"
    }
   ],
   "source": [
    "print('Los coeficientes originales son: ', coefEX)\n",
    "\n",
    "#%timeit np.polyfit(xi, yi, 2)\n",
    "coefEST3 = np.polyfit(xi, yi, 2)\n",
    "coefEST3"
   ]
  },
  {
   "cell_type": "markdown",
   "id": "552c3435",
   "metadata": {},
   "source": [
    "Como ya se calcularon los coeficientes, procedemos a graficar la aproximación por mínimos cuadrados:"
   ]
  },
  {
   "cell_type": "code",
   "execution_count": 8,
   "id": "0c6fda23",
   "metadata": {},
   "outputs": [
    {
     "data": {
      "image/png": "[encoded data removed]",
      "text/plain": [
       "<Figure size 864x360 with 1 Axes>"
      ]
     },
     "metadata": {
      "needs_background": "light"
     },
     "output_type": "display_data"
    }
   ],
   "source": [
    "x = np.linspace(0, 2, 200)\n",
    "y = np.polyval(coefEST, x)\n",
    "\n",
    "plt.plot(xi,  yi, 'or', label='puntos muestreados')\n",
    "plt.plot(x,    y, 'c-', label='solución estimada')\n",
    "plt.plot(x, f(x), 'b-', label='solución exacta')\n",
    "plt.legend()\n",
    "plt.xlabel('x')\n",
    "plt.ylabel('y')\n",
    "plt.show()"
   ]
  },
  {
   "cell_type": "markdown",
   "id": "09c102ac",
   "metadata": {},
   "source": [
    "## Usando una regresión no lineal"
   ]
  },
  {
   "cell_type": "markdown",
   "id": "a9b0758f",
   "metadata": {},
   "source": [
    "### Primero se define la función, el error y los coeficientes iniciales\n",
    "\n",
    "Inicialmente, se define la función que deseamos ajustar en términos de los coeficientes desconocidos y una función de error:"
   ]
  },
  {
   "cell_type": "code",
   "execution_count": 9,
   "id": "7ded7ff1",
   "metadata": {},
   "outputs": [],
   "source": [
    "def fun(x, a, b, c):\n",
    "    return a*x**2 + b*x + c\n",
    "\n",
    "def error(coef, x, y):\n",
    "    return y - fun(x, *coef)\n",
    "\n",
    "# valores iniciales de los coeficientes (para comenzar a realizar la minimización)\n",
    "coef_ini = [1, 1, 1]"
   ]
  },
  {
   "cell_type": "markdown",
   "id": "b8d0b53d",
   "metadata": {},
   "source": [
    "### Método 1: función optimize.leastsq()"
   ]
  },
  {
   "cell_type": "code",
   "execution_count": 10,
   "id": "3cac0081",
   "metadata": {},
   "outputs": [
    {
     "name": "stdout",
     "output_type": "stream",
     "text": [
      "Los coeficientes originales son:  [-5, 1, 3]\n"
     ]
    },
    {
     "data": {
      "text/plain": [
       "array([-4.44558202, -0.01260352,  3.37084563])"
      ]
     },
     "execution_count": 10,
     "metadata": {},
     "output_type": "execute_result"
    }
   ],
   "source": [
    "print('Los coeficientes originales son: ', coefEX)\n",
    "\n",
    "#%timeit optimize.leastsq(error, coef_ini, args=(x, y))\n",
    "coefEST4, _ = optimize.leastsq(error, coef_ini, args=(xi, yi))\n",
    "coefEST4"
   ]
  },
  {
   "cell_type": "code",
   "execution_count": 11,
   "id": "b007d68a",
   "metadata": {},
   "outputs": [
    {
     "data": {
      "image/png": "[encoded data removed]",
      "text/plain": [
       "<Figure size 864x360 with 1 Axes>"
      ]
     },
     "metadata": {
      "needs_background": "light"
     },
     "output_type": "display_data"
    }
   ],
   "source": [
    "y = fun(x, *coefEST4)\n",
    "\n",
    "plt.plot(xi, yi,  'or', label='puntos muestreados')\n",
    "plt.plot(x,   y,  'c-', label='solución estimada')\n",
    "plt.plot(x, f(x), 'b-', label='solución exacta')\n",
    "plt.legend()\n",
    "plt.xlabel('x')\n",
    "plt.ylabel('y')\n",
    "plt.show()"
   ]
  },
  {
   "cell_type": "markdown",
   "id": "c4434e47",
   "metadata": {},
   "source": [
    "### Método 2: función optimize.minimize()\n",
    "En este caso se define una función de pérdida (que es MSE) y se minimiza dicha función:"
   ]
  },
  {
   "cell_type": "code",
   "execution_count": 12,
   "id": "292249cd",
   "metadata": {},
   "outputs": [
    {
     "name": "stdout",
     "output_type": "stream",
     "text": [
      "Los coeficientes originales son:  [-5, 1, 3]\n",
      "[-4.44558145 -0.01260437  3.3708456 ]\n"
     ]
    }
   ],
   "source": [
    "print('Los coeficientes originales son: ', coefEX)\n",
    "\n",
    "MSE = lambda p, x, y : sum(error(p, x, y)**2)\n",
    "\n",
    "coefEST5 = optimize.minimize(MSE, coef_ini, method='L-BFGS-B', args=(xi, yi))\n",
    "print(coefEST5.x)"
   ]
  },
  {
   "cell_type": "markdown",
   "id": "8e52d819",
   "metadata": {},
   "source": [
    "### Método 3: función optimize.curve_fit()"
   ]
  },
  {
   "cell_type": "code",
   "execution_count": 13,
   "id": "6b32b1e0",
   "metadata": {},
   "outputs": [
    {
     "name": "stdout",
     "output_type": "stream",
     "text": [
      "Los coeficientes originales son:  [-5, 1, 3]\n"
     ]
    },
    {
     "data": {
      "text/plain": [
       "array([-4.44558221, -0.01260289,  3.37084537])"
      ]
     },
     "execution_count": 13,
     "metadata": {},
     "output_type": "execute_result"
    }
   ],
   "source": [
    "print('Los coeficientes originales son: ', coefEX)\n",
    "\n",
    "coefEST6, _ = optimize.curve_fit(fun, xi, yi, coef_ini)\n",
    "coefEST6"
   ]
  },
  {
   "cell_type": "code",
   "execution_count": null,
   "id": "9876b650",
   "metadata": {},
   "outputs": [],
   "source": []
  }
 ],
 "metadata": {
  "kernelspec": {
   "display_name": "Python 3",
   "language": "python",
   "name": "python3"
  },
  "language_info": {
   "codemirror_mode": {
    "name": "ipython",
    "version": 3
   },
   "file_extension": ".py",
   "mimetype": "text/x-python",
   "name": "python",
   "nbconvert_exporter": "python",
   "pygments_lexer": "ipython3",
   "version": "3.8.8"
  }
 },
 "nbformat": 4,
 "nbformat_minor": 5
}
