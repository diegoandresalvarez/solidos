{
 "cells": [
  {
   "cell_type": "markdown",
   "id": "97b0c797",
   "metadata": {},
   "source": [
    "# Mínimos cuadrados"
   ]
  },
  {
   "cell_type": "code",
   "execution_count": 1,
   "id": "be477510",
   "metadata": {},
   "outputs": [],
   "source": [
    "import numpy as np\n",
    "import matplotlib.pyplot as plt\n",
    "\n",
    "from scipy import optimize"
   ]
  },
  {
   "cell_type": "markdown",
   "id": "7773ad54",
   "metadata": {},
   "source": [
    "Vamos a hacer mínimos cuadrados ajustando los datos a una parábola"
   ]
  },
  {
   "cell_type": "code",
   "execution_count": 2,
   "id": "d56b7f97",
   "metadata": {},
   "outputs": [
    {
     "data": {
      "image/png": "[encoded data removed]",
      "text/plain": [
       "<Figure size 432x288 with 1 Axes>"
      ]
     },
     "metadata": {
      "needs_background": "light"
     },
     "output_type": "display_data"
    }
   ],
   "source": [
    "# se define el polinomio -5x^2 + x + 3\n",
    "f = np.poly1d([-5, 1, 3])\n",
    "\n",
    "# se muestrean 20 datos con ruido del polinomio\n",
    "n = 20\n",
    "x = np.linspace(0, 2, n)\n",
    "y = f(x) + 0.5*np.random.normal(size=n)\n",
    "xn = np.linspace(0, 2, 200)\n",
    "\n",
    "# se grafican los datos\n",
    "plt.plot(x, y, 'or')\n",
    "plt.show()"
   ]
  },
  {
   "cell_type": "code",
   "execution_count": 3,
   "id": "8a4f3e6b",
   "metadata": {},
   "outputs": [
    {
     "data": {
      "text/plain": [
       "array([[0.        , 0.        , 1.        ],\n",
       "       [0.01108033, 0.10526316, 1.        ],\n",
       "       [0.04432133, 0.21052632, 1.        ],\n",
       "       [0.09972299, 0.31578947, 1.        ],\n",
       "       [0.17728532, 0.42105263, 1.        ],\n",
       "       [0.27700831, 0.52631579, 1.        ],\n",
       "       [0.39889197, 0.63157895, 1.        ],\n",
       "       [0.54293629, 0.73684211, 1.        ],\n",
       "       [0.70914127, 0.84210526, 1.        ],\n",
       "       [0.89750693, 0.94736842, 1.        ],\n",
       "       [1.10803324, 1.05263158, 1.        ],\n",
       "       [1.34072022, 1.15789474, 1.        ],\n",
       "       [1.59556787, 1.26315789, 1.        ],\n",
       "       [1.87257618, 1.36842105, 1.        ],\n",
       "       [2.17174515, 1.47368421, 1.        ],\n",
       "       [2.49307479, 1.57894737, 1.        ],\n",
       "       [2.8365651 , 1.68421053, 1.        ],\n",
       "       [3.20221607, 1.78947368, 1.        ],\n",
       "       [3.5900277 , 1.89473684, 1.        ],\n",
       "       [4.        , 2.        , 1.        ]])"
      ]
     },
     "execution_count": 3,
     "metadata": {},
     "output_type": "execute_result"
    }
   ],
   "source": [
    "# se arma la matriz A y se asigna el vector b\n",
    "A = np.c_[x**2, x, np.ones(n)]\n",
    "b = y\n",
    "A"
   ]
  },
  {
   "cell_type": "code",
   "execution_count": 4,
   "id": "5b2695a6",
   "metadata": {},
   "outputs": [
    {
     "data": {
      "text/plain": [
       "4.218847493575595e-15"
      ]
     },
     "execution_count": 4,
     "metadata": {},
     "output_type": "execute_result"
    }
   ],
   "source": [
    "Amp1 = np.linalg.inv(A.T @ A) @ A.T\n",
    "Amp2 = np.linalg.pinv(A)\n",
    "np.max(np.abs(Amp1 - Amp2))"
   ]
  },
  {
   "cell_type": "code",
   "execution_count": 5,
   "id": "e0292cf3",
   "metadata": {
    "scrolled": true
   },
   "outputs": [
    {
     "data": {
      "text/plain": [
       "array([-4.13224204, -0.92601037,  3.74242188])"
      ]
     },
     "execution_count": 5,
     "metadata": {},
     "output_type": "execute_result"
    }
   ],
   "source": [
    "coef1 = Amp1 @ b\n",
    "coef1"
   ]
  },
  {
   "cell_type": "code",
   "execution_count": 15,
   "id": "60424e67",
   "metadata": {},
   "outputs": [
    {
     "name": "stdout",
     "output_type": "stream",
     "text": [
      "38.1 µs ± 1.94 µs per loop (mean ± std. dev. of 7 runs, 10000 loops each)\n"
     ]
    },
    {
     "data": {
      "text/plain": [
       "array([-4.13224204, -0.92601037,  3.74242188])"
      ]
     },
     "execution_count": 15,
     "metadata": {},
     "output_type": "execute_result"
    }
   ],
   "source": [
    "%timeit np.linalg.lstsq(A, b, rcond=None)\n",
    "coef2 = np.linalg.lstsq(A, b, rcond=None)[0]\n",
    "coef2"
   ]
  },
  {
   "cell_type": "code",
   "execution_count": 7,
   "id": "c01289bb",
   "metadata": {},
   "outputs": [
    {
     "data": {
      "text/plain": [
       "array([-4.13224204, -0.92601037,  3.74242188])"
      ]
     },
     "execution_count": 7,
     "metadata": {},
     "output_type": "execute_result"
    }
   ],
   "source": [
    "coef3 = np.polyfit(x, y, 2)\n",
    "coef3"
   ]
  },
  {
   "cell_type": "code",
   "execution_count": 8,
   "id": "0c6fda23",
   "metadata": {},
   "outputs": [
    {
     "data": {
      "image/png": "[encoded data removed]",
      "text/plain": [
       "<Figure size 432x288 with 1 Axes>"
      ]
     },
     "metadata": {
      "needs_background": "light"
     },
     "output_type": "display_data"
    }
   ],
   "source": [
    "yn = np.polyval(coef3, xn)\n",
    "\n",
    "plt.plot(x, y, 'or')\n",
    "plt.plot(xn, yn)\n",
    "plt.show()"
   ]
  },
  {
   "cell_type": "markdown",
   "id": "09c102ac",
   "metadata": {},
   "source": [
    "Ahora usando una regresión no lineal"
   ]
  },
  {
   "cell_type": "code",
   "execution_count": 9,
   "id": "3cac0081",
   "metadata": {},
   "outputs": [
    {
     "data": {
      "text/plain": [
       "array([-4.13224206, -0.92601033,  3.74242186])"
      ]
     },
     "execution_count": 9,
     "metadata": {},
     "output_type": "execute_result"
    }
   ],
   "source": [
    "def f(x, a, b, c):\n",
    "    return a*x**2 + b*x + c\n",
    "\n",
    "def error(p, x, y):\n",
    "    return y - f(x, *p)\n",
    "\n",
    "coef_ini = [1, 1, 1]\n",
    "\n",
    "coef4, pcov = optimize.leastsq(error, coef_ini, args=(x, y))\n",
    "coef4"
   ]
  },
  {
   "cell_type": "code",
   "execution_count": 10,
   "id": "b007d68a",
   "metadata": {},
   "outputs": [
    {
     "data": {
      "image/png": "[encoded data removed]",
      "text/plain": [
       "<Figure size 432x288 with 1 Axes>"
      ]
     },
     "metadata": {
      "needs_background": "light"
     },
     "output_type": "display_data"
    }
   ],
   "source": [
    "yn = f(xn, *coef4)\n",
    "\n",
    "plt.plot(x, y, 'or')\n",
    "plt.plot(xn, yn)\n",
    "plt.show()"
   ]
  },
  {
   "cell_type": "code",
   "execution_count": 11,
   "id": "0d6b8564",
   "metadata": {},
   "outputs": [
    {
     "name": "stdout",
     "output_type": "stream",
     "text": [
      "102 µs ± 2.32 µs per loop (mean ± std. dev. of 7 runs, 10000 loops each)\n"
     ]
    }
   ],
   "source": [
    "%timeit optimize.leastsq(error, coef_ini, args=(x, y))"
   ]
  },
  {
   "cell_type": "code",
   "execution_count": 12,
   "id": "292249cd",
   "metadata": {},
   "outputs": [
    {
     "name": "stdout",
     "output_type": "stream",
     "text": [
      "[-4.13224212 -0.9260099   3.74242128]\n"
     ]
    }
   ],
   "source": [
    "def MSE(p, x, y):\n",
    "    return sum(error(p, x, y)**2)\n",
    "\n",
    "coef5 = optimize.minimize(MSE, coef_ini, method='L-BFGS-B', args=(x, y))\n",
    "print(coef5.x)"
   ]
  },
  {
   "cell_type": "code",
   "execution_count": 13,
   "id": "6b32b1e0",
   "metadata": {},
   "outputs": [
    {
     "data": {
      "text/plain": [
       "array([-4.13224204, -0.92601038,  3.74242188])"
      ]
     },
     "execution_count": 13,
     "metadata": {},
     "output_type": "execute_result"
    }
   ],
   "source": [
    "coef6, pcov = optimize.curve_fit(f, x, y)\n",
    "coef6"
   ]
  },
  {
   "cell_type": "code",
   "execution_count": null,
   "id": "9876b650",
   "metadata": {},
   "outputs": [],
   "source": []
  }
 ],
 "metadata": {
  "kernelspec": {
   "display_name": "Python 3",
   "language": "python",
   "name": "python3"
  },
  "language_info": {
   "codemirror_mode": {
    "name": "ipython",
    "version": 3
   },
   "file_extension": ".py",
   "mimetype": "text/x-python",
   "name": "python",
   "nbconvert_exporter": "python",
   "pygments_lexer": "ipython3",
   "version": "3.8.8"
  }
 },
 "nbformat": 4,
 "nbformat_minor": 5
}
