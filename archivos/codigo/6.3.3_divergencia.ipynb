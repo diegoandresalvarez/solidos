{
 "cells": [
  {
   "cell_type": "code",
   "execution_count": 1,
   "id": "d5337154",
   "metadata": {},
   "outputs": [],
   "source": [
    "import sympy as sp\n",
    "from sympy import sin, cos, diff, simplify, Matrix\n",
    "\n",
    "sp.init_printing()"
   ]
  },
  {
   "cell_type": "code",
   "execution_count": 2,
   "id": "e458751e",
   "metadata": {},
   "outputs": [],
   "source": [
    "r, t, z = sp.symbols('r, theta, z')\n",
    "\n",
    "# se especifican \"manualmente\" las derivadas\n",
    "dr_dx =  cos(t);     dr_dy =  sin(t)\n",
    "dt_dx = -sin(t)/r;   dt_dy =  cos(t)/r\n",
    "\n",
    "# se definen las primeras derivadas utilizando la regla de la cadena\n",
    "d_dx = lambda f: diff(f,r)*dr_dx + diff(f,t)*dt_dx # + diff(f,z)*dz_dx (dz_dx = 0)\n",
    "d_dy = lambda f: diff(f,r)*dr_dy + diff(f,t)*dt_dy # + diff(f,z)*dz_dy (dz_dy = 0)\n",
    "d_dz = lambda f: diff(f,z)"
   ]
  },
  {
   "cell_type": "code",
   "execution_count": 3,
   "id": "91bc3237",
   "metadata": {},
   "outputs": [
    {
     "data": {
      "image/png": "[encoded data removed]",
      "text/latex": [
       "$\\displaystyle \\frac{\\partial}{\\partial r} \\operatorname{f_{r}}{\\left(r,\\theta,z \\right)} + \\frac{\\partial}{\\partial z} \\operatorname{f_{z}}{\\left(r,\\theta,z \\right)} + \\frac{\\operatorname{f_{r}}{\\left(r,\\theta,z \\right)}}{r} + \\frac{\\frac{\\partial}{\\partial \\theta} \\operatorname{f_{\\theta}}{\\left(r,\\theta,z \\right)}}{r}$"
      ],
      "text/plain": [
       "                                                   ∂                  \n",
       "                                                   ──(fₜₕₑₜₐ(r, θ, z))\n",
       "∂                 ∂                  fᵣ(r, θ, z)   ∂θ                 \n",
       "──(fᵣ(r, θ, z)) + ──(f_z(r, θ, z)) + ─────────── + ───────────────────\n",
       "∂r                ∂z                      r                 r         "
      ]
     },
     "execution_count": 3,
     "metadata": {},
     "output_type": "execute_result"
    }
   ],
   "source": [
    "# se especifica que fr, ft y fz son funciones de r, t y z\n",
    "fr = sp.Function('f_r')(r, t, z)\n",
    "ft = sp.Function('f_theta')(r, t, z)\n",
    "fz = sp.Function('f_z')(r, t, z)\n",
    "\n",
    "# se definen las funciones fx y fy\n",
    "fx = fr*cos(t) - ft*sin(t)\n",
    "fy = fr*sin(t) + ft*cos(t)\n",
    "\n",
    "# se especifica la divergencia en coordenadas rectangulares\n",
    "div_rect = simplify(d_dx(fx) + d_dy(fy) + d_dz(fz))\n",
    "\n",
    "div_rect"
   ]
  }
 ],
 "metadata": {
  "kernelspec": {
   "display_name": "Python 3",
   "language": "python",
   "name": "python3"
  },
  "language_info": {
   "codemirror_mode": {
    "name": "ipython",
    "version": 3
   },
   "file_extension": ".py",
   "mimetype": "text/x-python",
   "name": "python",
   "nbconvert_exporter": "python",
   "pygments_lexer": "ipython3",
   "version": "3.8.8"
  }
 },
 "nbformat": 4,
 "nbformat_minor": 5
}
