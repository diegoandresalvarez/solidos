{
 "cells": [
  {
   "cell_type": "markdown",
   "id": "099f7286-9212-4916-ba1c-af715c75fec1",
   "metadata": {},
   "source": [
    "# 6.12.1. Función de tensión de Airy en coordenadas polares\n",
    "\n",
    "|Quién | Fecha | Qué hizo |\n",
    "| ---  | ---   | ---      |\n",
    "|Diego Andrés Alvarez, <daalvarez@unal.edu.co>  | Marzo 24, 2023      | Adaptando el código de MAXIMA a PYTHON |"
   ]
  },
  {
   "cell_type": "markdown",
   "id": "f7c7e831-afe5-43dc-af73-5dcd55612644",
   "metadata": {},
   "source": [
    "## Cálculo de los esfuerzos en términos de la función de tensión de Airy en coordenadas polares"
   ]
  },
  {
   "cell_type": "code",
   "execution_count": 1,
   "id": "b4c85e70-2268-42ff-a06e-5e608dd6f45c",
   "metadata": {
    "id": "API5h85VrvWX"
   },
   "outputs": [],
   "source": [
    "from sympy import init_printing, latex, sin, cos, symbols, diff, Function, Eq, solve, trigsimp, expand\n",
    "\n",
    "# Para imprimir bonito\n",
    "init_printing()\n",
    "from IPython.display import Math                 \n",
    "def imprimir (texto1, variable, texto2=\"\"):\n",
    "    return Math(texto1 +  rf'{latex(variable)}' + texto2)"
   ]
  },
  {
   "cell_type": "markdown",
   "id": "4d280551-c02c-466d-9aa4-0427ddf3f96e",
   "metadata": {
    "id": "L66opn_C5Tr_"
   },
   "source": [
    "Se definen las variables y funciones simbólicas necesarias:"
   ]
  },
  {
   "cell_type": "code",
   "execution_count": 2,
   "id": "2c460130-d16d-4c0d-9182-acf70b9473b2",
   "metadata": {},
   "outputs": [],
   "source": [
    "r, t        = symbols('r, theta')\n",
    "sr, st, trt = symbols(\"sigma_r, sigma_θ, tau_rθ\")\n",
    "phi         = Function('phi')(r, t)"
   ]
  },
  {
   "cell_type": "markdown",
   "id": "5c72496e-b43f-4d6b-828c-4bd39743b4c5",
   "metadata": {},
   "source": [
    "Se definen las primeras derivadas utilizando la regla de la cadena:"
   ]
  },
  {
   "cell_type": "code",
   "execution_count": 3,
   "id": "be466bac-0aa8-4523-ad6c-e241db44121f",
   "metadata": {},
   "outputs": [],
   "source": [
    "d_dx = lambda f: diff(f,r)*cos(t) - diff(f,t)*sin(t)/r\n",
    "d_dy = lambda f: diff(f,r)*sin(t) + diff(f,t)*cos(t)/r\n",
    "d_dz = lambda f: diff(f,z)"
   ]
  },
  {
   "cell_type": "markdown",
   "id": "1bda08b6-f4c1-4fcd-a5c7-d8529871d7a7",
   "metadata": {},
   "source": [
    "Se especifican los esfuerzos $\\sigma_x$, $\\sigma_y$ y $\\tau_{xy}$ en función de $\\sigma_r$, $\\sigma_\\theta$ y $\\tau_{r\\theta}$:\n",
    "\\begin{align}\n",
    "\\sigma_x  &= \\sigma_r\\cos^2\\theta + \\sigma_\\theta\\sin^2\\theta - \\tau_{r\\theta}\\sin 2\\theta \\\\\n",
    "\\sigma_y  &= \\sigma_r\\sin^2\\theta + \\sigma_\\theta\\cos^2\\theta + \\tau_{r\\theta}\\sin 2\\theta \\\\\n",
    "\\tau_{xy} &= \\frac{1}{2}\\left(\\sigma_r - \\sigma_\\theta\\right)\\sin 2\\theta + \\tau_{r\\theta}\\cos 2\\theta\n",
    "\\end{align}"
   ]
  },
  {
   "cell_type": "code",
   "execution_count": 4,
   "id": "0d94a165-00db-415f-92bd-606cf0e79e2a",
   "metadata": {},
   "outputs": [],
   "source": [
    "sx  = sr*cos(t)**2 + st*sin(t)**2 - trt*sin(2*t)\n",
    "sy  = sr*sin(t)**2 + st*cos(t)**2 + trt*sin(2*t)\n",
    "txy = (sr - st)*sin(2*t)/2  + trt*cos(2*t)"
   ]
  },
  {
   "cell_type": "markdown",
   "id": "5f12cb08-713e-4857-a7c8-a9556d9bd5e1",
   "metadata": {},
   "source": [
    "Relaciones de Airy para los esfuerzos, ecuación (***) cuando no se tienen fuerzas másicas, esto es haciendo $V(x,y)=0$:\n",
    "\\begin{align}\n",
    "\\sigma_x(x,y)  & = \\frac{\\partial^2 \\phi(x,y)}{\\partial y^2} + V(x,y) \\\\\n",
    "\\sigma_y(x,y)  & = \\frac{\\partial^2 \\phi(x,y)}{\\partial x^2} + V(x,y) \\\\    \n",
    "\\tau_{xy}(x,y) & = -\\frac{\\partial^2 \\phi(x,y)}{\\partial x \\partial y}.\n",
    "\\end{align}"
   ]
  },
  {
   "cell_type": "code",
   "execution_count": 5,
   "id": "27f19782-078c-46a1-83c5-d9c21608046c",
   "metadata": {},
   "outputs": [],
   "source": [
    "eq1 = Eq(sx,   d_dy(d_dy(phi)))\n",
    "eq2 = Eq(sy,   d_dx(d_dx(phi)))\n",
    "eq3 = Eq(txy, -d_dx(d_dy(phi)))"
   ]
  },
  {
   "cell_type": "markdown",
   "id": "2e87e5a8-0187-43a4-90bf-99050ef0362b",
   "metadata": {},
   "source": [
    "Se calculan $\\sigma_r$, $\\sigma_\\theta$ y $\\tau_{r\\theta}$ en términos de la función de tensión de Airy $\\phi$:"
   ]
  },
  {
   "cell_type": "code",
   "execution_count": 6,
   "id": "ca91007c-8f80-4a1b-b710-5eec8a1714f2",
   "metadata": {},
   "outputs": [],
   "source": [
    "sol = trigsimp(solve([eq1, eq2, eq3], [sr, st, trt]))\n",
    "sr  = sol[sr].expand()\n",
    "st  = sol[st]\n",
    "trt = sol[trt].expand()"
   ]
  },
  {
   "cell_type": "code",
   "execution_count": 7,
   "id": "9b1dccca-963a-4818-8d23-d252b1ecb1ce",
   "metadata": {},
   "outputs": [
    {
     "data": {
      "text/latex": [
       "$\\displaystyle \\sigma_r(r, \\theta) = \\frac{\\frac{\\partial}{\\partial r} \\phi{\\left(r,\\theta \\right)}}{r} + \\frac{\\frac{\\partial^{2}}{\\partial \\theta^{2}} \\phi{\\left(r,\\theta \\right)}}{r^{2}}$"
      ],
      "text/plain": [
       "<IPython.core.display.Math object>"
      ]
     },
     "execution_count": 7,
     "metadata": {},
     "output_type": "execute_result"
    }
   ],
   "source": [
    "imprimir(r\"\\sigma_r(r, \\theta) = \", sr)"
   ]
  },
  {
   "cell_type": "code",
   "execution_count": 8,
   "id": "132d8091-a2ea-4594-abb9-81c2bf693d76",
   "metadata": {},
   "outputs": [
    {
     "data": {
      "text/latex": [
       "$\\displaystyle \\sigma_\\theta(r, \\theta) = \\frac{\\partial^{2}}{\\partial r^{2}} \\phi{\\left(r,\\theta \\right)}$"
      ],
      "text/plain": [
       "<IPython.core.display.Math object>"
      ]
     },
     "execution_count": 8,
     "metadata": {},
     "output_type": "execute_result"
    }
   ],
   "source": [
    "imprimir(r\"\\sigma_\\theta(r, \\theta) = \", st)"
   ]
  },
  {
   "cell_type": "code",
   "execution_count": 9,
   "id": "1ac8b610-1482-4eb7-b2cc-fd37150a5053",
   "metadata": {},
   "outputs": [
    {
     "data": {
      "text/latex": [
       "$\\displaystyle \\tau_{r\\theta}(r, \\theta) = - \\frac{\\frac{\\partial^{2}}{\\partial \\theta\\partial r} \\phi{\\left(r,\\theta \\right)}}{r} + \\frac{\\frac{\\partial}{\\partial \\theta} \\phi{\\left(r,\\theta \\right)}}{r^{2}}$"
      ],
      "text/plain": [
       "<IPython.core.display.Math object>"
      ]
     },
     "execution_count": 9,
     "metadata": {},
     "output_type": "execute_result"
    }
   ],
   "source": [
    "imprimir(r\"\\tau_{r\\theta}(r, \\theta) = \", trt)"
   ]
  },
  {
   "cell_type": "markdown",
   "id": "f9c66509-d532-4071-9a6a-953390ba1c1b",
   "metadata": {},
   "source": [
    "## Verificación de que la función de tensión de Airy satisface las ecuaciones de equilibrio"
   ]
  },
  {
   "cell_type": "markdown",
   "id": "3aa0d71a-aaaa-45c8-93cb-1b2d03cc9d0b",
   "metadata": {},
   "source": [
    "Se define el laplaciano en coordenadas polares:\n",
    "\\begin{equation}\n",
    "     \\nabla^2 \\phi = \\frac{\\partial^2 \\phi}{\\partial x^2} + \\frac{\\partial^2 \\phi}{\\partial y^2} \n",
    "     = \\frac{\\partial^2 \\phi}{\\partial r^2} + \\frac{1}{r}\\frac{\\partial \\phi}{\\partial r} + \\frac{1}{r^2}\\frac{\\partial^2 \\phi}{\\partial \\theta^2}\n",
    "\\end{equation}"
   ]
  },
  {
   "cell_type": "code",
   "execution_count": 10,
   "id": "4dc9d831-098f-4580-b14b-eae6c8b9d091",
   "metadata": {},
   "outputs": [],
   "source": [
    "lapl = lambda f : diff(f,r,2) + (1/r)*diff(f,r) + (1/r**2)*diff(f,t,2)"
   ]
  },
  {
   "cell_type": "markdown",
   "id": "9ff15035-4ba9-4869-a5d2-4b3cd94c11a0",
   "metadata": {},
   "source": [
    "Se reemplaza en las ecuaciones diferenciales de equilibrio\n",
    "\\begin{align}\n",
    " \\frac{\\partial \\sigma_r}{\\partial r} + \\frac{1}{r}\\frac{\\partial \\tau_{r\\theta}}{\\partial \\theta} + \\frac{\\sigma_r - \\sigma_\\theta}{r} + b_r &= 0 \\\\\n",
    " \\frac{\\partial \\tau_{r\\theta}}{\\partial r} + \\frac{1}{r}\\frac{\\partial \\sigma_\\theta}{\\partial \\theta}  + \\frac{2 \\tau_{r\\theta}}{r} + b_\\theta &= 0\n",
    "\\end{align}\n",
    "asumiendo que las fuerzas másicas son nulas, esto es $b_r = b_\\theta = 0$:"
   ]
  },
  {
   "cell_type": "code",
   "execution_count": 11,
   "id": "c171b7b8-9e7c-4750-9e67-611ca11172c5",
   "metadata": {},
   "outputs": [
    {
     "data": {
      "text/latex": [
       "$\\displaystyle 0 = 0$"
      ],
      "text/plain": [
       "<IPython.core.display.Math object>"
      ]
     },
     "execution_count": 11,
     "metadata": {},
     "output_type": "execute_result"
    }
   ],
   "source": [
    "# Primera ecuación de equilibrio:\n",
    "eq1 = expand(diff(sr,r) + (1/r)*diff(trt,t) + (sr - st)/r) # == 0\n",
    "imprimir(\"\", eq1, \" = 0\")"
   ]
  },
  {
   "cell_type": "code",
   "execution_count": 12,
   "id": "3c0e5be1-727a-4f51-a84b-40c02950d0fc",
   "metadata": {
    "tags": []
   },
   "outputs": [
    {
     "data": {
      "text/latex": [
       "$\\displaystyle 0 = 0$"
      ],
      "text/plain": [
       "<IPython.core.display.Math object>"
      ]
     },
     "execution_count": 12,
     "metadata": {},
     "output_type": "execute_result"
    }
   ],
   "source": [
    "# Segunda ecuación de equilibrio:\n",
    "eq2 = expand(diff(trt,r) + (1/r)*diff(st,t) + 2*trt/r) # == 0\n",
    "imprimir(\"\", eq2, \" = 0\")"
   ]
  },
  {
   "cell_type": "markdown",
   "id": "ed4f59b8-8d15-4dcf-a4a9-1106e771f148",
   "metadata": {},
   "source": [
    "Se reemplaza en la ecuación diferencial bidimensional de compatibilidad en términos de esfuerzos\n",
    "\\begin{equation}\n",
    "\\left(\\frac{\\partial^2}{\\partial r^2} + \\frac{1}{r}\\frac{\\partial}{\\partial r} + \\frac{1}{r^2}\\frac{\\partial^2}{\\partial \\theta^2}\\right)\\left(\\sigma_r + \\sigma_\\theta\\right) =K_1 \\left(\\frac{\\partial b_r}{\\partial r} + \\frac{b_r}{r} + \\frac{1}{r}\\frac{\\partial b_\\theta}{\\partial \\theta}\\right)\n",
    "\\end{equation}\n",
    "asumiendo que las fuerzas másicas son nulas, esto es $b_r = b_\\theta = 0$:"
   ]
  },
  {
   "cell_type": "code",
   "execution_count": 13,
   "id": "deaa19c8-88f3-4153-9f93-2479c467f33e",
   "metadata": {},
   "outputs": [
    {
     "data": {
      "text/latex": [
       "$\\displaystyle \\frac{\\partial^{4}}{\\partial r^{4}} \\phi{\\left(r,\\theta \\right)} + \\frac{2 \\frac{\\partial^{3}}{\\partial r^{3}} \\phi{\\left(r,\\theta \\right)}}{r} - \\frac{\\frac{\\partial^{2}}{\\partial r^{2}} \\phi{\\left(r,\\theta \\right)}}{r^{2}} + \\frac{2 \\frac{\\partial^{4}}{\\partial \\theta^{2}\\partial r^{2}} \\phi{\\left(r,\\theta \\right)}}{r^{2}} + \\frac{\\frac{\\partial}{\\partial r} \\phi{\\left(r,\\theta \\right)}}{r^{3}} - \\frac{2 \\frac{\\partial^{3}}{\\partial \\theta^{2}\\partial r} \\phi{\\left(r,\\theta \\right)}}{r^{3}} + \\frac{4 \\frac{\\partial^{2}}{\\partial \\theta^{2}} \\phi{\\left(r,\\theta \\right)}}{r^{4}} + \\frac{\\frac{\\partial^{4}}{\\partial \\theta^{4}} \\phi{\\left(r,\\theta \\right)}}{r^{4}} = 0$"
      ],
      "text/plain": [
       "<IPython.core.display.Math object>"
      ]
     },
     "execution_count": 13,
     "metadata": {},
     "output_type": "execute_result"
    }
   ],
   "source": [
    "eq3 = expand(lapl(sr + st)) # == 0\n",
    "imprimir(\"\", eq3, \" = 0\")"
   ]
  },
  {
   "cell_type": "markdown",
   "id": "fd4f5950-deed-4bd3-ab8d-3e02acc8ac85",
   "metadata": {},
   "source": [
    "Se calcula el biarmónico de la función de tensión de Airy en coordenadas polares:"
   ]
  },
  {
   "cell_type": "code",
   "execution_count": 14,
   "id": "a2f28ffa-d8bd-4ad3-840b-1262b1c5a0dc",
   "metadata": {},
   "outputs": [
    {
     "data": {
      "text/latex": [
       "$\\displaystyle \\nabla^4 \\phi(r, \\theta) = \\frac{\\partial^{4}}{\\partial r^{4}} \\phi{\\left(r,\\theta \\right)} + \\frac{2 \\frac{\\partial^{3}}{\\partial r^{3}} \\phi{\\left(r,\\theta \\right)}}{r} - \\frac{\\frac{\\partial^{2}}{\\partial r^{2}} \\phi{\\left(r,\\theta \\right)}}{r^{2}} + \\frac{2 \\frac{\\partial^{4}}{\\partial \\theta^{2}\\partial r^{2}} \\phi{\\left(r,\\theta \\right)}}{r^{2}} + \\frac{\\frac{\\partial}{\\partial r} \\phi{\\left(r,\\theta \\right)}}{r^{3}} - \\frac{2 \\frac{\\partial^{3}}{\\partial \\theta^{2}\\partial r} \\phi{\\left(r,\\theta \\right)}}{r^{3}} + \\frac{4 \\frac{\\partial^{2}}{\\partial \\theta^{2}} \\phi{\\left(r,\\theta \\right)}}{r^{4}} + \\frac{\\frac{\\partial^{4}}{\\partial \\theta^{4}} \\phi{\\left(r,\\theta \\right)}}{r^{4}}$"
      ],
      "text/plain": [
       "<IPython.core.display.Math object>"
      ]
     },
     "execution_count": 14,
     "metadata": {},
     "output_type": "execute_result"
    }
   ],
   "source": [
    "biarm = expand(lapl(lapl(phi)))\n",
    "\n",
    "imprimir(r\"\\nabla^4 \\phi(r, \\theta) = \", biarm)"
   ]
  },
  {
   "cell_type": "markdown",
   "id": "248ea9fc-0cf8-40d0-bc76-dc827ead7c62",
   "metadata": {},
   "source": [
    "Observe que la ecuación diferencial bidimensional de compatibilidad en términos de esfuerzos se reduce al biarmónico de $\\phi$:"
   ]
  },
  {
   "cell_type": "code",
   "execution_count": 15,
   "id": "8369c48d-729f-4cf7-8282-497330d9fe94",
   "metadata": {},
   "outputs": [
    {
     "data": {
      "image/png": "[encoded data removed]",
      "text/latex": [
       "$\\displaystyle 0$"
      ],
      "text/plain": [
       "0"
      ]
     },
     "execution_count": 15,
     "metadata": {},
     "output_type": "execute_result"
    }
   ],
   "source": [
    "eq3 - biarm"
   ]
  }
 ],
 "metadata": {
  "kernelspec": {
   "display_name": "Python 3 (ipykernel)",
   "language": "python",
   "name": "python3"
  },
  "language_info": {
   "codemirror_mode": {
    "name": "ipython",
    "version": 3
   },
   "file_extension": ".py",
   "mimetype": "text/x-python",
   "name": "python",
   "nbconvert_exporter": "python",
   "pygments_lexer": "ipython3",
   "version": "3.9.13"
  }
 },
 "nbformat": 4,
 "nbformat_minor": 5
}
