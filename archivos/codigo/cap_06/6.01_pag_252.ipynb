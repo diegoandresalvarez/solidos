{
 "cells": [
  {
   "cell_type": "code",
   "execution_count": 1,
   "id": "6181f6cc",
   "metadata": {},
   "outputs": [],
   "source": [
    "import sympy as sp\n",
    "from sympy import sin, cos, diff, simplify\n",
    "\n",
    "sp.init_printing()"
   ]
  },
  {
   "cell_type": "code",
   "execution_count": 2,
   "id": "f7a6bbb4",
   "metadata": {},
   "outputs": [],
   "source": [
    "r, t = sp.symbols('r, theta')\n",
    "\n",
    "# se especifican \"manualmente\" las derivadas\n",
    "dr_dx =  cos(t);     dr_dy =  sin(t)\n",
    "dt_dx = -sin(t)/r;   dt_dy =  cos(t)/r\n",
    "\n",
    "# se definen las primeras derivadas utilizando la regla de la cadena\n",
    "d_dx = lambda f: diff(f,r)*dr_dx + diff(f,t)*dt_dx\n",
    "d_dy = lambda f: diff(f,r)*dr_dy + diff(f,t)*dt_dy\n",
    "\n",
    "# se definen las segundas derivadas\n",
    "d2_dx2 = lambda f: d_dx(d_dx(f))\n",
    "d2_dy2 = lambda f: d_dy(d_dy(f))"
   ]
  },
  {
   "cell_type": "code",
   "execution_count": 3,
   "id": "30378c2f",
   "metadata": {},
   "outputs": [
    {
     "data": {
      "image/png": "[encoded data removed]",
      "text/latex": [
       "$\\displaystyle \\frac{\\partial^{2}}{\\partial r^{2}} \\phi{\\left(r,\\theta \\right)} + \\frac{\\frac{\\partial}{\\partial r} \\phi{\\left(r,\\theta \\right)}}{r} + \\frac{\\frac{\\partial^{2}}{\\partial \\theta^{2}} \\phi{\\left(r,\\theta \\right)}}{r^{2}}$"
      ],
      "text/plain": [
       "                               2         \n",
       "                              ∂          \n",
       "               ∂             ───(φ(r, θ))\n",
       "  2            ──(φ(r, θ))     2         \n",
       " ∂             ∂r            ∂θ          \n",
       "───(φ(r, θ)) + ─────────── + ────────────\n",
       "  2                 r              2     \n",
       "∂r                                r      "
      ]
     },
     "execution_count": 3,
     "metadata": {},
     "output_type": "execute_result"
    }
   ],
   "source": [
    "# se especifica que phi es función de r y de t\n",
    "phi = sp.Function('phi')(r, t)\n",
    "\n",
    "# se escribe la fórmula del laplaciano en coordenadas rectangulares\n",
    "simplify(d2_dx2(phi) + d2_dy2(phi))"
   ]
  }
 ],
 "metadata": {
  "kernelspec": {
   "display_name": "Python 3",
   "language": "python",
   "name": "python3"
  },
  "language_info": {
   "codemirror_mode": {
    "name": "ipython",
    "version": 3
   },
   "file_extension": ".py",
   "mimetype": "text/x-python",
   "name": "python",
   "nbconvert_exporter": "python",
   "pygments_lexer": "ipython3",
   "version": "3.8.8"
  }
 },
 "nbformat": 4,
 "nbformat_minor": 5
}
