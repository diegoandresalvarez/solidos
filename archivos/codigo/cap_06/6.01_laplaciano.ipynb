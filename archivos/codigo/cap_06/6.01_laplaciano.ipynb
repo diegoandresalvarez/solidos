{
 "cells": [
  {
   "cell_type": "markdown",
   "id": "a08aaf75",
   "metadata": {},
   "source": [
    "# 6.1. Deducción del laplaciano en coordenadas polares"
   ]
  },
  {
   "cell_type": "markdown",
   "id": "eb044ba4-e1ff-457b-9ca7-198f158d79e4",
   "metadata": {},
   "source": [
    "Se inicializan las librerías"
   ]
  },
  {
   "cell_type": "code",
   "execution_count": 1,
   "id": "6181f6cc",
   "metadata": {},
   "outputs": [],
   "source": [
    "from sympy import init_printing, latex, symbols, sin, cos, diff, Function, simplify\n",
    "\n",
    "# Para imprimir bonito\n",
    "from IPython.display import Math\n",
    "init_printing()                  \n",
    "def imprimir (texto, variable):\n",
    "    return Math(texto +  rf'{latex(variable)}')"
   ]
  },
  {
   "cell_type": "markdown",
   "id": "50c705e8-a56f-4b0a-8de3-5571090fc01f",
   "metadata": {},
   "source": [
    "Se definen las derivadas"
   ]
  },
  {
   "cell_type": "code",
   "execution_count": 2,
   "id": "f7a6bbb4",
   "metadata": {},
   "outputs": [],
   "source": [
    "r, t = symbols('r, theta')\n",
    "\n",
    "# se especifican \"manualmente\" las derivadas\n",
    "dr_dx =  cos(t);     dr_dy =  sin(t)\n",
    "dt_dx = -sin(t)/r;   dt_dy =  cos(t)/r\n",
    "\n",
    "# se definen las primeras derivadas utilizando la regla de la cadena\n",
    "d_dx = lambda f: diff(f,r)*dr_dx + diff(f,t)*dt_dx\n",
    "d_dy = lambda f: diff(f,r)*dr_dy + diff(f,t)*dt_dy\n",
    "\n",
    "# se definen las segundas derivadas\n",
    "d2_dx2 = lambda f: d_dx(d_dx(f))\n",
    "d2_dy2 = lambda f: d_dy(d_dy(f))"
   ]
  },
  {
   "cell_type": "code",
   "execution_count": 3,
   "id": "b91f972a-8a35-4026-ab6b-542d33110862",
   "metadata": {},
   "outputs": [],
   "source": [
    "# se especifica que phi es función de r y de t\n",
    "phi = Function('phi')(r, t)\n",
    "\n",
    "# se escribe la fórmula del laplaciano en coordenadas rectangulares\n",
    "lapl = simplify(d2_dx2(phi) + d2_dy2(phi))"
   ]
  },
  {
   "cell_type": "markdown",
   "id": "15d5a83a-0a32-45d9-a41e-8d669a6ad191",
   "metadata": {},
   "source": [
    "Se imprime el laplaciano en coordenadas cilíndricas:"
   ]
  },
  {
   "cell_type": "code",
   "execution_count": 4,
   "id": "e5f90a89-04de-46ce-b63b-1296e89f67da",
   "metadata": {},
   "outputs": [
    {
     "data": {
      "text/latex": [
       "$\\displaystyle \\nabla^2 \\phi(r, \\theta) = \\frac{\\partial^{2}}{\\partial r^{2}} \\phi{\\left(r,\\theta \\right)} + \\frac{\\frac{\\partial}{\\partial r} \\phi{\\left(r,\\theta \\right)}}{r} + \\frac{\\frac{\\partial^{2}}{\\partial \\theta^{2}} \\phi{\\left(r,\\theta \\right)}}{r^{2}}$"
      ],
      "text/plain": [
       "<IPython.core.display.Math object>"
      ]
     },
     "execution_count": 4,
     "metadata": {},
     "output_type": "execute_result"
    }
   ],
   "source": [
    "imprimir(r\"\\nabla^2 \\phi(r, \\theta) = \", lapl)"
   ]
  }
 ],
 "metadata": {
  "kernelspec": {
   "display_name": "Python 3 (ipykernel)",
   "language": "python",
   "name": "python3"
  },
  "language_info": {
   "codemirror_mode": {
    "name": "ipython",
    "version": 3
   },
   "file_extension": ".py",
   "mimetype": "text/x-python",
   "name": "python",
   "nbconvert_exporter": "python",
   "pygments_lexer": "ipython3",
   "version": "3.9.13"
  }
 },
 "nbformat": 4,
 "nbformat_minor": 5
}
