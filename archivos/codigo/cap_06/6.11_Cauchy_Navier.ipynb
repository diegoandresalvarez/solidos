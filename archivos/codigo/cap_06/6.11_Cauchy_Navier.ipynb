{
  "nbformat": 4,
  "nbformat_minor": 0,
  "metadata": {
    "colab": {
      "provenance": []
    },
    "kernelspec": {
      "name": "python3",
      "display_name": "Python 3"
    },
    "language_info": {
      "name": "python"
    }
  },
  "cells": [
    {
      "cell_type": "code",
      "source": [
        "from sympy import sin, cos, diff, Function, simplify, symbols, factor, Eq, init_printing, trigsimp, expand, latex, Matrix\n",
        "\n",
        "# Para imprimir bonito\n",
        "init_printing()\n",
        "from IPython.display import Math                 \n",
        "def imprimir (texto1, variable, texto2=\"\"):\n",
        "    return Math(texto1 +  rf'{latex(variable)}' + texto2)"
      ],
      "metadata": {
        "id": "_z9Y3oI2XaTn"
      },
      "execution_count": null,
      "outputs": []
    },
    {
      "cell_type": "code",
      "source": [
        "# ECUACIONES DIFERENCIALES PARCIALES DE CAUCHY-NAVIER EN COORDENADAS CILINDRICAS \n",
        " \n",
        "r, t, z, x, y, lamda, G = symbols(\"r, theta, z, x, y, lamda, G\")\n",
        "\n",
        "# Se especifica las deformaciones como funciones de r, theta, z:\n",
        "\n",
        "er  = Function('varepsilon_r')(r, t, z)\n",
        "et  = Function('varepsilon_θ')(r, t, z)\n",
        "ez  = Function('varepsilon_z')(r, t, z)\n",
        "grt = Function('gamma_rθ')(r, t, z);        ert = grt/2\n",
        "grz = Function('gamma_rz')(r, t, z);        erz = grz/2\n",
        "gtz = Function('gamma_θz')(r, t, z);        etz = gtz/2\n",
        "\n",
        "# Se define la matriz de deformaciones en coordenadas cilíndricas:\n",
        "eps_cil = Matrix([[  er, ert, erz ],\n",
        "                  [ ert,  et, etz ],                       \n",
        "                  [ erz, etz,  ez ]])\n",
        "\n",
        "#Matriz de transformación\n",
        "T = Matrix([[ cos(t), -sin(t),       0 ],     \n",
        "            [ sin(t),  cos(t),       0 ],      \n",
        "            [      0,       0,       1 ]])\n",
        "\n",
        "eps = T*eps_cil*T.T \n",
        "\n",
        "# Se extraen los términos de la matriz de deformaciones epsilon:\n",
        "ex  = eps[0,0]\n",
        "ey  = eps[1,1]\n",
        "ez  = eps[2,2]\n",
        "gxy = 2*eps[0,1]\n",
        "gxz = 2*eps[0,2]\n",
        "gyz = 2*eps[1,2]\n",
        "\n",
        "e = ex+ey+ez\n",
        "\n",
        "ur = Function(\"u_r\")(r, t, z)\n",
        "vt = Function(\"v_θ\")(r, t, z)\n",
        "w  = Function(\"w\")(r, t, z)\n",
        "\n",
        "# Vector de fuerzas másicas con respecto a la base {rP,tP,zP}\n",
        "des_cil = Matrix([[ ur ],\n",
        "                  [ vt ],\n",
        "                  [ w  ]])\n",
        "\n",
        "# Se expresa el vector de fuerzas másicas con respecto a la base {i,j,k}\n",
        "des = T * des_cil\n",
        "\n",
        "# Se hace la asignación respectiva de los desplazamientos\n",
        "u, v = des[0], des[1]\n",
        "\n",
        "br = Function(\"b_r\")(r, t, z)\n",
        "bt = Function(\"b_θ\")(r, t, z)\n",
        "bz = Function(\"b_z\")(r, t, z)\n",
        "\n",
        "# Vector de fuerzas másicas con respecto a la base {rP,tP,zP}\n",
        "bcil = Matrix([[ br ],     \n",
        "               [ bt ],      \n",
        "               [ bz ]])\n",
        "\n",
        "# Se expresa el vector de fuerzas másicas con respecto a la base {i,j,k}\n",
        "b = T * bcil\n",
        "\n",
        "# Se hace la asignación respectiva de las fuerzas másicas\n",
        "X, Y, Z = b\n",
        "\n",
        "# se definen las primeras derivadas\n",
        "d_dx = lambda f: diff(f,r)*cos(t) - diff(f,t)*sin(t)/r\n",
        "d_dy = lambda f: diff(f,r)*sin(t) + diff(f,t)*cos(t)/r\n",
        "d_dz = lambda f: diff(f,z)\n",
        "\n",
        "# se definen las segundas derivadas\n",
        "d2_dx2 = lambda f: d_dx(d_dx(f))\n",
        "d2_dy2 = lambda f: d_dy(d_dy(f))\n",
        "d2_dz2 = lambda f: d_dz(d_dz(f))\n",
        "\n",
        "# Se definen los lapacianos de ur, vt y w\n",
        "laplur = simplify(d2_dx2(ur) + d2_dy2(ur) + d2_dz2(ur))\n",
        "laplvt = simplify(d2_dx2(vt) + d2_dy2(vt) + d2_dz2(vt))\n",
        "laplw = simplify(d2_dx2(w) + d2_dy2(w) + d2_dz2(w))\n",
        "\n",
        "# Reemplazamos los términos que están ahora en coordenadas cilindricas en las ecuaciones de Cauchy Navier (5.56) anteriormente deducidas\n",
        "s1 = (lamda+G)*d_dx(e)+G*(d2_dx2(u)+d2_dy2(u)+d2_dz2(u))+ X\n",
        "s11 = trigsimp(expand(s1))\n",
        "s2 = (lamda+G)*d_dy(e)+G*(d2_dx2(v)+d2_dy2(v)+d2_dz2(v))+ Y\n",
        "s21 = trigsimp(expand(s2))\n",
        "s3 = (lamda+G)*d_dz(e)+G*(d2_dx2(w)+d2_dy2(w)+d2_dz2(w))+ Z\n",
        "s31 = trigsimp(expand(s3))\n",
        "\n",
        "# Para despejar los términos comunes entre paréntesis de las ecuaciones anteriores basta evaluar las igualdades en sen(theta)=0 y cos(theta)=1 \n",
        "s11 = s11.subs({sin(t): 0, cos(t): 1})\n",
        "s21 = s11.subs({sin(t): 0, cos(t): 1})\n",
        "s31 = s31.subs({sin(t): 0, cos(t): 1})\n",
        "\n",
        "# Evaluo la ecuación dada en la sección 6.11, que debe ser igual a s11, s21 y s31 respectivamente\n",
        "s12 = (lamda+G)*diff(e,r)+G*(laplur-(ur/(r*r))-(2/(r*r))*diff(vt, t)) + br\n",
        "s12 = s12.subs({sin(t): 0, cos(t): 1})\n",
        "s22 = (lamda+G)*diff(e,t)+G*(laplvt-(vt/(r*r))-(2/(r*r))*diff(ur, t)) + bt\n",
        "s22 = s12.subs({sin(t): 0, cos(t): 1})\n",
        "s32 = (lamda+G)*diff(e,z)+G*(laplw) + bz\n",
        "s32 = s32.subs({sin(t): 0, cos(t): 1})"
      ],
      "metadata": {
        "id": "w9U-4QV-Xfn9"
      },
      "execution_count": null,
      "outputs": []
    },
    {
      "cell_type": "code",
      "source": [
        "simplify(s11 - s12) == 0"
      ],
      "metadata": {
        "colab": {
          "base_uri": "https://localhost:8080/"
        },
        "id": "tKyTV9hkhFiF",
        "outputId": "e7919054-2ab5-4685-fa6a-5cb705da181b"
      },
      "execution_count": null,
      "outputs": [
        {
          "output_type": "execute_result",
          "data": {
            "text/plain": [
              "True"
            ]
          },
          "metadata": {},
          "execution_count": 8
        }
      ]
    },
    {
      "cell_type": "code",
      "source": [
        "simplify(s21 - s22) == 0"
      ],
      "metadata": {
        "colab": {
          "base_uri": "https://localhost:8080/"
        },
        "id": "UEuIDEdXhFmk",
        "outputId": "6583e8a3-3b67-431d-ec03-350e712edb03"
      },
      "execution_count": null,
      "outputs": [
        {
          "output_type": "execute_result",
          "data": {
            "text/plain": [
              "True"
            ]
          },
          "metadata": {},
          "execution_count": 9
        }
      ]
    },
    {
      "cell_type": "code",
      "source": [
        "simplify(s31 - s32) == 0"
      ],
      "metadata": {
        "colab": {
          "base_uri": "https://localhost:8080/"
        },
        "id": "D-jOIGE-hFyK",
        "outputId": "72f3f3be-61d6-4c7b-f848-7087c50fc59f"
      },
      "execution_count": null,
      "outputs": [
        {
          "output_type": "execute_result",
          "data": {
            "text/plain": [
              "True"
            ]
          },
          "metadata": {},
          "execution_count": 10
        }
      ]
    },
    {
      "cell_type": "code",
      "source": [],
      "metadata": {
        "id": "NkLYQKdl5E84"
      },
      "execution_count": null,
      "outputs": []
    }
  ]
}