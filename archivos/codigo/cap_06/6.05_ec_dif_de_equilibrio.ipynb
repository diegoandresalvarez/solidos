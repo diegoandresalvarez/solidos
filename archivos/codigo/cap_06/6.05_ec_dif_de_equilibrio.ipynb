{
 "cells": [
  {
   "cell_type": "markdown",
   "metadata": {
    "id": "UyAhKeEIsEqh"
   },
   "source": [
    "# 6.5. Ecuaciones diferenciales de equilibrio en coordenadas cilíndricas\n",
    "\n",
    "|Quién | Fecha | Qué hizo |\n",
    "| ---  | ---   | ---      |\n",
    "|Diego Andrés Alvarez, <daalvarez@unal.edu.co>  | Marzo 15, 2023 | Código inicial |\n",
    "\n",
    "De acuerdo con la ecuación (<font color='blue'>6.25</font>) y la matriz de transformación $\\boldsymbol{T}$ definida en la ecuación (<font color='blue'>6.6</font>), las ecuaciones que transforman los esfuerzos de coordenas cilíndricas a coordenadas rectangulares se pueden calcular con el siguiente programa:"
   ]
  },
  {
   "cell_type": "code",
   "execution_count": 1,
   "metadata": {
    "id": "API5h85VrvWX"
   },
   "outputs": [],
   "source": [
    "from sympy import sin, cos, diff, Function, simplify, Matrix, factor, symbols, init_printing, latex\n",
    "\n",
    "# Para imprimir bonito\n",
    "init_printing()\n",
    "from IPython.display import Math                 \n",
    "def imprimir (texto1, variable, texto2=\"\"):\n",
    "    return Math(texto1 +  rf'{latex(variable)}' + texto2)"
   ]
  },
  {
   "cell_type": "markdown",
   "metadata": {
    "id": "L66opn_C5Tr_"
   },
   "source": [
    "Se definen las variables y funciones simbólicas necesarias:"
   ]
  },
  {
   "cell_type": "code",
   "execution_count": 2,
   "metadata": {
    "id": "S7-I1WarsUgw"
   },
   "outputs": [],
   "source": [
    "r, t, z = symbols(\"r, theta, z\")\n",
    "\n",
    "# se especifica que sr, st, sz, trt, trz y ttz son funciones de r, t y z\n",
    "sr  = Function('sigma_r')(r, t, z)\n",
    "st  = Function('sigma_θ')(r, t, z)\n",
    "sz  = Function('sigma_z')(r, t, z)\n",
    "trt = Function('tau_rθ')(r, t, z)\n",
    "trz = Function('tau_rz')(r, t, z)\n",
    "ttz = Function('tau_θz')(r, t, z)"
   ]
  },
  {
   "cell_type": "markdown",
   "metadata": {
    "id": "gUyQP-4l5Z5y"
   },
   "source": [
    "Se define la matriz de tensiones en coordenadas cilíndricas $\\underline{\\underline{\\boldsymbol{\\sigma}}}_{\\text{cil}}$:"
   ]
  },
  {
   "cell_type": "code",
   "execution_count": 3,
   "metadata": {
    "colab": {
     "base_uri": "https://localhost:8080/",
     "height": 78
    },
    "id": "GOVDxdkOtb4j",
    "outputId": "9a07c997-e29d-490a-d17a-a2a5146f8466"
   },
   "outputs": [],
   "source": [
    "sigma_cil = Matrix([[  sr, trt, trz ],\n",
    "                    [ trt,  st, ttz ],                       \n",
    "                    [ trz, ttz,  sz ]])"
   ]
  },
  {
   "cell_type": "markdown",
   "metadata": {
    "id": "vLtLDIWz5q_9"
   },
   "source": [
    "Se define la matriz de transformación $\\boldsymbol{T}$:"
   ]
  },
  {
   "cell_type": "code",
   "execution_count": 4,
   "metadata": {
    "colab": {
     "base_uri": "https://localhost:8080/",
     "height": 78
    },
    "id": "I5V1Uk_Rub9O",
    "outputId": "d858d132-fa45-4ac6-edf6-0856349e6c74"
   },
   "outputs": [],
   "source": [
    "T = Matrix([[ cos(t), -sin(t),       0 ],     \n",
    "            [ sin(t),  cos(t),       0 ],      \n",
    "            [      0,       0,       1 ]])"
   ]
  },
  {
   "cell_type": "markdown",
   "metadata": {
    "id": "9du7Qzz07wKz"
   },
   "source": [
    "Se calcula la matriz de tensiones $\\underline{\\underline{\\boldsymbol{\\sigma}}}_{\\text{cil}}$ en el sistema de coordenadas especificadas por los vectores definidos en la matriz $\\boldsymbol{T}$. Recuerde que $$\\underline{\\underline{\\boldsymbol{\\sigma}}} = \\boldsymbol{T} \\underline{\\underline{\\boldsymbol{\\sigma}}}_{\\text{cil}} \\boldsymbol{T}^T$$."
   ]
  },
  {
   "cell_type": "code",
   "execution_count": 5,
   "metadata": {
    "id": "YLhi9ppBu7h8"
   },
   "outputs": [],
   "source": [
    "sigma = T*sigma_cil*T.T            # ecuación (6.25)"
   ]
  },
  {
   "cell_type": "markdown",
   "metadata": {
    "id": "wI_VbHIb8NMn"
   },
   "source": [
    "Se extraen los términos de la matriz de tensiones $\\underline{\\underline{\\boldsymbol{\\sigma}}}$:"
   ]
  },
  {
   "cell_type": "code",
   "execution_count": 6,
   "metadata": {
    "id": "WGpqR1I17g73"
   },
   "outputs": [],
   "source": [
    "sx  = factor(sigma[0,0])  # elemento 1,1 de la matriz sigma\n",
    "sy  = factor(sigma[1,1])\n",
    "sz  = factor(sigma[2,2])\n",
    "txy = factor(sigma[0,1])  # elemento 1,2 de la matriz sigma\n",
    "txz = factor(sigma[0,2])  # elemento 1,3 de la matriz sigma\n",
    "tyz = factor(sigma[1,2])  # elemento 2,3 de la matriz sigma"
   ]
  },
  {
   "cell_type": "markdown",
   "metadata": {},
   "source": [
    "Se define el vector de fuerzas másicas:"
   ]
  },
  {
   "cell_type": "code",
   "execution_count": 7,
   "metadata": {},
   "outputs": [],
   "source": [
    "br = Function(\"b_r\")(r, t, z)\n",
    "bt = Function(\"b_θ\")(r, t, z)\n",
    "bz = Function(\"b_z\")(r, t, z)\n",
    "\n",
    "# Vector de fuerzas másicas con respecto a la base {rP,tP,zP}\n",
    "bcil = Matrix([[ br ],     \n",
    "               [ bt ],      \n",
    "               [ bz ]])\n",
    "\n",
    "# Se expresa el vector de fuerzas másicas con respecto a la base {i,j,k}\n",
    "b = T * bcil"
   ]
  },
  {
   "cell_type": "markdown",
   "metadata": {},
   "source": [
    "El vector de fuerzas másicas con respecto a la base $\\{\\hat{\\boldsymbol{i}}, \\hat{\\boldsymbol{j}},\\ \\hat{\\boldsymbol{k}}\\}$ es:"
   ]
  },
  {
   "cell_type": "code",
   "execution_count": 8,
   "metadata": {
    "tags": []
   },
   "outputs": [
    {
     "data": {
      "text/latex": [
       "$\\displaystyle \\boldsymbol{b} = \\left[\\begin{matrix}\\operatorname{b_{r}}{\\left(r,\\theta,z \\right)} \\cos{\\left(\\theta \\right)} - \\operatorname{b_{θ}}{\\left(r,\\theta,z \\right)} \\sin{\\left(\\theta \\right)}\\\\\\operatorname{b_{r}}{\\left(r,\\theta,z \\right)} \\sin{\\left(\\theta \\right)} + \\operatorname{b_{θ}}{\\left(r,\\theta,z \\right)} \\cos{\\left(\\theta \\right)}\\\\\\operatorname{b_{z}}{\\left(r,\\theta,z \\right)}\\end{matrix}\\right]$"
      ],
      "text/plain": [
       "<IPython.core.display.Math object>"
      ]
     },
     "execution_count": 8,
     "metadata": {},
     "output_type": "execute_result"
    }
   ],
   "source": [
    "imprimir(r\"\\boldsymbol{b} = \", b)"
   ]
  },
  {
   "cell_type": "code",
   "execution_count": 9,
   "metadata": {},
   "outputs": [],
   "source": [
    "# Se hace la asignación respectiva de las fuerzas másicas\n",
    "X, Y, Z = b"
   ]
  },
  {
   "cell_type": "code",
   "execution_count": 10,
   "metadata": {},
   "outputs": [],
   "source": [
    "# se definen las primeras derivadas\n",
    "d_dx = lambda f: diff(f,r)*cos(t) - diff(f,t)*sin(t)/r\n",
    "d_dy = lambda f: diff(f,r)*sin(t) + diff(f,t)*cos(t)/r\n",
    "d_dz = lambda f: diff(f,z)"
   ]
  },
  {
   "cell_type": "code",
   "execution_count": 11,
   "metadata": {},
   "outputs": [],
   "source": [
    "# Las ecuaciones diferenciales de equilibrio \"rectangulares\" (solo la parte izquierda)\n",
    "eq1 = simplify(d_dx(sx)  + d_dy(txy) + d_dz(txz) + X) # == 0\n",
    "eq2 = simplify(d_dx(txy) + d_dy(sy)  + d_dz(tyz) + Y) # == 0\n",
    "eq3 = simplify(d_dx(txz) + d_dy(tyz) + d_dz(sz)  + Z) # == 0"
   ]
  },
  {
   "cell_type": "code",
   "execution_count": 12,
   "metadata": {},
   "outputs": [
    {
     "data": {
      "image/png": "[encoded data removed]",
      "text/latex": [
       "$\\displaystyle \\left(- \\operatorname{b_{θ}}{\\left(r,\\theta,z \\right)} - \\frac{\\partial}{\\partial r} \\tau_{rθ}{\\left(r,\\theta,z \\right)} - \\frac{\\partial}{\\partial z} \\tau_{θz}{\\left(r,\\theta,z \\right)} - \\frac{2 \\tau_{rθ}{\\left(r,\\theta,z \\right)}}{r} - \\frac{\\frac{\\partial}{\\partial \\theta} \\sigma_{θ}{\\left(r,\\theta,z \\right)}}{r}\\right) \\sin{\\left(\\theta \\right)} + \\left(\\operatorname{b_{r}}{\\left(r,\\theta,z \\right)} + \\frac{\\partial}{\\partial r} \\sigma_{r}{\\left(r,\\theta,z \\right)} + \\frac{\\partial}{\\partial z} \\tau_{rz}{\\left(r,\\theta,z \\right)} + \\frac{\\sigma_{r}{\\left(r,\\theta,z \\right)}}{r} - \\frac{\\sigma_{θ}{\\left(r,\\theta,z \\right)}}{r} + \\frac{\\frac{\\partial}{\\partial \\theta} \\tau_{rθ}{\\left(r,\\theta,z \\right)}}{r}\\right) \\cos{\\left(\\theta \\right)}$"
      ],
      "text/plain": [
       "⎛                                                                          ∂               ⎞          ⎛                                                                                 ∂                ⎞       \n",
       "⎜                                                                          ──(σ_θ(r, θ, z))⎟          ⎜                                                                                 ──(τ_rθ(r, θ, z))⎟       \n",
       "⎜                ∂                   ∂                   2⋅τ_rθ(r, θ, z)   ∂θ              ⎟          ⎜              ∂                 ∂                   σᵣ(r, θ, z)   σ_θ(r, θ, z)   ∂θ               ⎟       \n",
       "⎜-b_θ(r, θ, z) - ──(τ_rθ(r, θ, z)) - ──(τ_θz(r, θ, z)) - ─────────────── - ────────────────⎟⋅sin(θ) + ⎜bᵣ(r, θ, z) + ──(σᵣ(r, θ, z)) + ──(τ_rz(r, θ, z)) + ─────────── - ──────────── + ─────────────────⎟⋅cos(θ)\n",
       "⎝                ∂r                  ∂z                         r                 r        ⎠          ⎝              ∂r                ∂z                       r             r                 r        ⎠       "
      ]
     },
     "execution_count": 12,
     "metadata": {},
     "output_type": "execute_result"
    }
   ],
   "source": [
    "eq1.collect([sin(t), cos(t)])"
   ]
  },
  {
   "cell_type": "code",
   "execution_count": 13,
   "metadata": {},
   "outputs": [
    {
     "data": {
      "image/png": "[encoded data removed]",
      "text/latex": [
       "$\\displaystyle \\left(\\operatorname{b_{θ}}{\\left(r,\\theta,z \\right)} + \\frac{\\partial}{\\partial r} \\tau_{rθ}{\\left(r,\\theta,z \\right)} + \\frac{\\partial}{\\partial z} \\tau_{θz}{\\left(r,\\theta,z \\right)} + \\frac{2 \\tau_{rθ}{\\left(r,\\theta,z \\right)}}{r} + \\frac{\\frac{\\partial}{\\partial \\theta} \\sigma_{θ}{\\left(r,\\theta,z \\right)}}{r}\\right) \\cos{\\left(\\theta \\right)} + \\left(\\operatorname{b_{r}}{\\left(r,\\theta,z \\right)} + \\frac{\\partial}{\\partial r} \\sigma_{r}{\\left(r,\\theta,z \\right)} + \\frac{\\partial}{\\partial z} \\tau_{rz}{\\left(r,\\theta,z \\right)} + \\frac{\\sigma_{r}{\\left(r,\\theta,z \\right)}}{r} - \\frac{\\sigma_{θ}{\\left(r,\\theta,z \\right)}}{r} + \\frac{\\frac{\\partial}{\\partial \\theta} \\tau_{rθ}{\\left(r,\\theta,z \\right)}}{r}\\right) \\sin{\\left(\\theta \\right)}$"
      ],
      "text/plain": [
       "⎛                                                                         ∂               ⎞          ⎛                                                                                 ∂                ⎞       \n",
       "⎜                                                                         ──(σ_θ(r, θ, z))⎟          ⎜                                                                                 ──(τ_rθ(r, θ, z))⎟       \n",
       "⎜               ∂                   ∂                   2⋅τ_rθ(r, θ, z)   ∂θ              ⎟          ⎜              ∂                 ∂                   σᵣ(r, θ, z)   σ_θ(r, θ, z)   ∂θ               ⎟       \n",
       "⎜b_θ(r, θ, z) + ──(τ_rθ(r, θ, z)) + ──(τ_θz(r, θ, z)) + ─────────────── + ────────────────⎟⋅cos(θ) + ⎜bᵣ(r, θ, z) + ──(σᵣ(r, θ, z)) + ──(τ_rz(r, θ, z)) + ─────────── - ──────────── + ─────────────────⎟⋅sin(θ)\n",
       "⎝               ∂r                  ∂z                         r                 r        ⎠          ⎝              ∂r                ∂z                       r             r                 r        ⎠       "
      ]
     },
     "execution_count": 13,
     "metadata": {},
     "output_type": "execute_result"
    }
   ],
   "source": [
    "eq2.collect([sin(t), cos(t)])"
   ]
  },
  {
   "cell_type": "markdown",
   "metadata": {},
   "source": [
    "Se evalúan las ecuaciones `eq1` y `eq2` cuando $\\theta \\to 0$:"
   ]
  },
  {
   "cell_type": "code",
   "execution_count": 14,
   "metadata": {},
   "outputs": [],
   "source": [
    "eq1 = eq1.subs({-sin(t): 0, cos(t): 1})\n",
    "eq2 = eq2.subs({ sin(t): 0, cos(t): 1})"
   ]
  },
  {
   "cell_type": "code",
   "execution_count": 15,
   "metadata": {},
   "outputs": [
    {
     "data": {
      "image/png": "[encoded data removed]",
      "text/latex": [
       "$\\displaystyle \\operatorname{b_{z}}{\\left(r,\\theta,z \\right)} + \\frac{\\partial}{\\partial z} \\sigma_{z}{\\left(r,\\theta,z \\right)} + \\frac{\\partial}{\\partial r} \\tau_{rz}{\\left(r,\\theta,z \\right)} + \\frac{\\tau_{rz}{\\left(r,\\theta,z \\right)}}{r} + \\frac{\\frac{\\partial}{\\partial \\theta} \\tau_{θz}{\\left(r,\\theta,z \\right)}}{r}$"
      ],
      "text/plain": [
       "                                                                      ∂                \n",
       "                                                                      ──(τ_θz(r, θ, z))\n",
       "               ∂                  ∂                   τ_rz(r, θ, z)   ∂θ               \n",
       "b_z(r, θ, z) + ──(σ_z(r, θ, z)) + ──(τ_rz(r, θ, z)) + ───────────── + ─────────────────\n",
       "               ∂z                 ∂r                        r                 r        "
      ]
     },
     "execution_count": 15,
     "metadata": {},
     "output_type": "execute_result"
    }
   ],
   "source": [
    "eq3"
   ]
  },
  {
   "cell_type": "code",
   "execution_count": 16,
   "metadata": {},
   "outputs": [
    {
     "data": {
      "text/latex": [
       "$\\displaystyle \\sum F_r = 0 \\quad \\Longrightarrow \\quad \\operatorname{b_{r}}{\\left(r,\\theta,z \\right)} + \\frac{\\partial}{\\partial r} \\sigma_{r}{\\left(r,\\theta,z \\right)} + \\frac{\\partial}{\\partial z} \\tau_{rz}{\\left(r,\\theta,z \\right)} + \\frac{\\sigma_{r}{\\left(r,\\theta,z \\right)}}{r} - \\frac{\\sigma_{θ}{\\left(r,\\theta,z \\right)}}{r} + \\frac{\\frac{\\partial}{\\partial \\theta} \\tau_{rθ}{\\left(r,\\theta,z \\right)}}{r} = 0$"
      ],
      "text/plain": [
       "<IPython.core.display.Math object>"
      ]
     },
     "execution_count": 16,
     "metadata": {},
     "output_type": "execute_result"
    }
   ],
   "source": [
    "imprimir(r\"\\sum F_r = 0 \\quad \\Longrightarrow \\quad \", eq1, \" = 0\")"
   ]
  },
  {
   "cell_type": "code",
   "execution_count": 17,
   "metadata": {},
   "outputs": [
    {
     "data": {
      "text/latex": [
       "$\\displaystyle \\sum F_\\theta = 0 \\quad \\Longrightarrow \\quad \\operatorname{b_{θ}}{\\left(r,\\theta,z \\right)} + \\frac{\\partial}{\\partial r} \\tau_{rθ}{\\left(r,\\theta,z \\right)} + \\frac{\\partial}{\\partial z} \\tau_{θz}{\\left(r,\\theta,z \\right)} + \\frac{2 \\tau_{rθ}{\\left(r,\\theta,z \\right)}}{r} + \\frac{\\frac{\\partial}{\\partial \\theta} \\sigma_{θ}{\\left(r,\\theta,z \\right)}}{r} = 0$"
      ],
      "text/plain": [
       "<IPython.core.display.Math object>"
      ]
     },
     "execution_count": 17,
     "metadata": {},
     "output_type": "execute_result"
    }
   ],
   "source": [
    "imprimir(r\"\\sum F_\\theta = 0 \\quad \\Longrightarrow \\quad \", eq2, \" = 0\")"
   ]
  },
  {
   "cell_type": "code",
   "execution_count": 18,
   "metadata": {},
   "outputs": [
    {
     "data": {
      "text/latex": [
       "$\\displaystyle \\sum F_z = 0 \\quad \\Longrightarrow \\quad \\operatorname{b_{z}}{\\left(r,\\theta,z \\right)} + \\frac{\\partial}{\\partial z} \\sigma_{z}{\\left(r,\\theta,z \\right)} + \\frac{\\partial}{\\partial r} \\tau_{rz}{\\left(r,\\theta,z \\right)} + \\frac{\\tau_{rz}{\\left(r,\\theta,z \\right)}}{r} + \\frac{\\frac{\\partial}{\\partial \\theta} \\tau_{θz}{\\left(r,\\theta,z \\right)}}{r} = 0$"
      ],
      "text/plain": [
       "<IPython.core.display.Math object>"
      ]
     },
     "execution_count": 18,
     "metadata": {},
     "output_type": "execute_result"
    }
   ],
   "source": [
    "imprimir(r\"\\sum F_z = 0 \\quad \\Longrightarrow \\quad \", eq3, \" = 0\")"
   ]
  }
 ],
 "metadata": {
  "colab": {
   "collapsed_sections": [],
   "include_colab_link": true,
   "provenance": []
  },
  "kernelspec": {
   "display_name": "Python 3 (ipykernel)",
   "language": "python",
   "name": "python3"
  },
  "language_info": {
   "codemirror_mode": {
    "name": "ipython",
    "version": 3
   },
   "file_extension": ".py",
   "mimetype": "text/x-python",
   "name": "python",
   "nbconvert_exporter": "python",
   "pygments_lexer": "ipython3",
   "version": "3.9.13"
  },
  "vscode": {
   "interpreter": {
    "hash": "916dbcbb3f70747c44a77c7bcd40155683ae19c65e1c03b4aa3499c5328201f1"
   }
  }
 },
 "nbformat": 4,
 "nbformat_minor": 4
}
