{
 "cells": [
  {
   "cell_type": "code",
   "execution_count": 1,
   "id": "d771220e",
   "metadata": {},
   "outputs": [],
   "source": [
    "import sympy as sp\n",
    "from sympy import sin, cos, diff, simplify, Matrix\n",
    "\n",
    "sp.init_printing()"
   ]
  },
  {
   "cell_type": "code",
   "execution_count": 2,
   "id": "0b6c4744",
   "metadata": {},
   "outputs": [],
   "source": [
    "r, t, z = sp.symbols('r, theta, z')\n",
    "\n",
    "# se especifican \"manualmente\" las derivadas\n",
    "dr_dx =  cos(t);     dr_dy =  sin(t)\n",
    "dt_dx = -sin(t)/r;   dt_dy =  cos(t)/r\n",
    "\n",
    "# se definen las primeras derivadas utilizando la regla de la cadena\n",
    "d_dx = lambda f: diff(f,r)*dr_dx + diff(f,t)*dt_dx # + diff(f,z)*dz_dx (dz_dx = 0)\n",
    "d_dy = lambda f: diff(f,r)*dr_dy + diff(f,t)*dt_dy # + diff(f,z)*dz_dy (dz_dy = 0)\n",
    "d_dz = lambda f: diff(f,z)"
   ]
  },
  {
   "cell_type": "code",
   "execution_count": 3,
   "id": "b6635532",
   "metadata": {},
   "outputs": [
    {
     "data": {
      "image/png": "[encoded data removed]",
      "text/latex": [
       "$\\displaystyle \\left[\\begin{matrix}\\frac{\\partial}{\\partial r} \\phi{\\left(r,\\theta,z \\right)}\\\\\\frac{\\frac{\\partial}{\\partial \\theta} \\phi{\\left(r,\\theta,z \\right)}}{r}\\\\\\frac{\\partial}{\\partial z} \\phi{\\left(r,\\theta,z \\right)}\\end{matrix}\\right]$"
      ],
      "text/plain": [
       "⎡∂             ⎤\n",
       "⎢──(φ(r, θ, z))⎥\n",
       "⎢∂r            ⎥\n",
       "⎢              ⎥\n",
       "⎢∂             ⎥\n",
       "⎢──(φ(r, θ, z))⎥\n",
       "⎢∂θ            ⎥\n",
       "⎢──────────────⎥\n",
       "⎢      r       ⎥\n",
       "⎢              ⎥\n",
       "⎢∂             ⎥\n",
       "⎢──(φ(r, θ, z))⎥\n",
       "⎣∂z            ⎦"
      ]
     },
     "execution_count": 3,
     "metadata": {},
     "output_type": "execute_result"
    }
   ],
   "source": [
    "# se define la matriz de transformación T\n",
    "T = Matrix([[ cos(t), -sin(t), 0 ],\n",
    "            [ sin(t),  cos(t), 0 ],\n",
    "            [      0,       0, 1 ]])\n",
    "\n",
    "# se especifica que phi es función de r y de t\n",
    "phi = sp.Function('phi')(r, t, z)\n",
    "\n",
    "# laplaciano en coordenadas rectangulares\n",
    "grad_phi_rect = Matrix([[ d_dx(phi) ],\n",
    "                        [ d_dy(phi) ],\n",
    "                        [ d_dz(phi) ]])\n",
    "\n",
    "# se convierte el laplaciano de coordenadas rectangulares a coordenadas cilíndricas\n",
    "grad_phi_cil = simplify(T.T * grad_phi_rect)\n",
    "\n",
    "grad_phi_cil"
   ]
  }
 ],
 "metadata": {
  "kernelspec": {
   "display_name": "Python 3",
   "language": "python",
   "name": "python3"
  },
  "language_info": {
   "codemirror_mode": {
    "name": "ipython",
    "version": 3
   },
   "file_extension": ".py",
   "mimetype": "text/x-python",
   "name": "python",
   "nbconvert_exporter": "python",
   "pygments_lexer": "ipython3",
   "version": "3.8.8"
  }
 },
 "nbformat": 4,
 "nbformat_minor": 5
}
