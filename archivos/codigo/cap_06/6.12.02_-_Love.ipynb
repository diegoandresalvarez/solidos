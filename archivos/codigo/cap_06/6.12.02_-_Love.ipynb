{
 "cells": [
  {
   "cell_type": "markdown",
   "id": "099f7286-9212-4916-ba1c-af715c75fec1",
   "metadata": {},
   "source": [
    "# 6.12.1. Función de tensión de Love (en coordenadas axisimétricas)\n",
    "\n",
    "|Quién | Fecha | Qué hizo |\n",
    "| ---  | ---   | ---      |\n",
    "|Diego Andrés Alvarez, <daalvarez@unal.edu.co>  | Marzo 24, 2023      | Adaptando el código de MAXIMA a PYTHON |"
   ]
  },
  {
   "cell_type": "markdown",
   "id": "f7c7e831-afe5-43dc-af73-5dcd55612644",
   "metadata": {},
   "source": [
    "## Cálculo de los esfuerzos en términos de la función de tensión de Love"
   ]
  },
  {
   "cell_type": "code",
   "execution_count": 1,
   "id": "b4c85e70-2268-42ff-a06e-5e608dd6f45c",
   "metadata": {
    "id": "API5h85VrvWX"
   },
   "outputs": [],
   "source": [
    "from sympy import init_printing, latex, sin, cos, symbols, diff, Function, Eq, solve, trigsimp, expand, simplify\n",
    "\n",
    "# Para imprimir bonito\n",
    "init_printing()\n",
    "from IPython.display import Math                 \n",
    "def imprimir (texto1, variable, texto2=\"\"):\n",
    "    return Math(texto1 +  rf'{latex(variable)}' + texto2)"
   ]
  },
  {
   "cell_type": "markdown",
   "id": "4d280551-c02c-466d-9aa4-0427ddf3f96e",
   "metadata": {
    "id": "L66opn_C5Tr_"
   },
   "source": [
    "Se definen las variables y funciones simbólicas necesarias:"
   ]
  },
  {
   "cell_type": "code",
   "execution_count": 2,
   "id": "2c460130-d16d-4c0d-9182-acf70b9473b2",
   "metadata": {},
   "outputs": [],
   "source": [
    "r, z, E, nu = symbols('r, z, E, nu')\n",
    "phi         = Function('phi')(r, z)    # función de tensión de Love"
   ]
  },
  {
   "cell_type": "markdown",
   "id": "3aa0d71a-aaaa-45c8-93cb-1b2d03cc9d0b",
   "metadata": {},
   "source": [
    "Se define el laplaciano en coordenadas axisimétricas:\n",
    "\\begin{equation}\n",
    "\\nabla^2\\phi = \\frac{1}{r}\\frac{\\partial}{\\partial r}\\left(r\\frac{\\partial\\phi}{\\partial r}\\right) + \\frac{\\partial^2\\phi}{\\partial z^2} = \\frac{\\partial^2 \\phi}{\\partial r^2} + \\frac{1}{r}\\frac{\\partial \\phi}{\\partial r} + \\frac{\\partial^2\\phi}{\\partial z^2}\n",
    "\\end{equation}"
   ]
  },
  {
   "cell_type": "code",
   "execution_count": 3,
   "id": "4dc9d831-098f-4580-b14b-eae6c8b9d091",
   "metadata": {},
   "outputs": [],
   "source": [
    "lapl = lambda f : (1/r)*diff(r*diff(f,r),r) + diff(f,z,2)"
   ]
  },
  {
   "cell_type": "markdown",
   "id": "a5847f7e-0c55-4a9f-9002-6908d728fc3d",
   "metadata": {},
   "source": [
    "Se calcula el biarmónico $\\nabla^4\\phi$ de la función de tensión de Love:"
   ]
  },
  {
   "cell_type": "code",
   "execution_count": 4,
   "id": "a6b251fe-a259-43b8-aaaa-b940357c0bc1",
   "metadata": {},
   "outputs": [],
   "source": [
    "bphi = expand(lapl(lapl(phi)))"
   ]
  },
  {
   "cell_type": "markdown",
   "id": "7f7c29bc-0b77-40bc-b6ac-8e2f194d389c",
   "metadata": {},
   "source": [
    "Se definen los esfuerzos utilizando la función de tensión de Love:\n",
    "\\begin{align}    \n",
    "    \\sigma_r(r,z)      &= \\frac{\\partial}{\\partial z}\\left(\\nu\\nabla^2\\phi(r,z) - \\frac{\\partial^2 \\phi(r,z)}{\\partial r^2}\\right)\\\\\n",
    "    \\sigma_\\theta(r,z) &= \\frac{\\partial}{\\partial z}\\left(\\nu\\nabla^2\\phi(r,z) - \\frac{1}{r}\\frac{\\partial \\phi(r,z)}{\\partial r}\\right)\\\\\n",
    "    \\sigma_z(r,z)      &= \\frac{\\partial}{\\partial z}\\left((2-\\nu)\\nabla^2\\phi(r,z) - \\frac{\\partial^2 \\phi(r,z)}{\\partial z^2}\\right)\\\\\n",
    "    \\tau_{rz}(r,z)     &= \\frac{\\partial}{\\partial r}\\left((1-\\nu)\\nabla^2\\phi(r,z) - \\frac{\\partial^2 \\phi(r,z)}{\\partial z^2}\\right)\n",
    "\\end{align}"
   ]
  },
  {
   "cell_type": "code",
   "execution_count": 5,
   "id": "b2fd8772-7423-42e5-b54d-c6d0377ba0b3",
   "metadata": {},
   "outputs": [],
   "source": [
    "sr  = diff(nu*lapl(phi) - diff(phi,r,2),     z)\n",
    "st  = diff(nu*lapl(phi) - (1/r)*diff(phi,r), z)\n",
    "sz  = diff((2-nu)*lapl(phi) - diff(phi,z,2), z)\n",
    "trz = diff((1-nu)*lapl(phi) - diff(phi,z,2), r)"
   ]
  },
  {
   "cell_type": "markdown",
   "id": "84953a4d-b8e8-4207-910c-c5a318a57731",
   "metadata": {},
   "source": [
    "Se definen los desplazamientos utilizando la función de tensión de Love:\n",
    "\\begin{align}\n",
    "u_r(r,z) &= -\\frac{1+\\nu}{E}\\frac{\\partial^2 \\phi(r,z)}{\\partial r \\partial z}\\\\\n",
    "w(r,z) &= \\frac{1+\\nu}{E}\\left[2(1-\\nu)\\nabla^2\\phi(r,z) - \\frac{\\partial^2 \\phi(r,z)}{\\partial z^2}\\right].\n",
    "\\end{align}"
   ]
  },
  {
   "cell_type": "code",
   "execution_count": 6,
   "id": "ec8dfd42-5dda-4076-a3f4-2816e1be02c8",
   "metadata": {},
   "outputs": [],
   "source": [
    "ur = -((1+nu)/E)*diff(phi, r,1, z,1)\n",
    "w  =  ((1+nu)/E)*(2*(1-nu)*lapl(phi) - diff(phi,z,2))"
   ]
  },
  {
   "cell_type": "markdown",
   "id": "f0b73dc6-aaed-467f-bf34-9e177f842cc4",
   "metadata": {},
   "source": [
    "Se reemplazan los esfuerzos en las ecuaciones de equilibrio, para el caso axisimétrico, haciendo la fuerza másica constante ($b_r = b_\\theta = 0$):\n",
    "\\begin{align}\n",
    "   \\frac{\\partial \\sigma_r}{\\partial r} +  \\frac{\\partial \\tau_{rz}}{\\partial z} + \\frac{\\sigma_r - \\sigma_\\theta}{r} + b_r &= 0 \\\\\n",
    "   \\frac{\\partial \\tau_{rz}}{\\partial r} + \\frac{\\partial \\sigma_z}{\\partial z} + \\frac{\\tau_{rz}}{r} + b_z &= 0\n",
    "\\end{align}"
   ]
  },
  {
   "cell_type": "code",
   "execution_count": 7,
   "id": "15a34623-e783-4e68-8d80-00c6ad0b796c",
   "metadata": {},
   "outputs": [
    {
     "data": {
      "text/latex": [
       "$\\displaystyle 0 = 0$"
      ],
      "text/plain": [
       "<IPython.core.display.Math object>"
      ]
     },
     "execution_count": 7,
     "metadata": {},
     "output_type": "execute_result"
    }
   ],
   "source": [
    "# Primera ecuación de equilibrio:\n",
    "eq1 = expand(diff(sr,r) + diff(trz,z) + (sr - st)/r) # == 0\n",
    "imprimir(\"\", eq1, \" = 0\")"
   ]
  },
  {
   "cell_type": "code",
   "execution_count": 8,
   "id": "7680aeed-e870-4fba-8067-283483be7821",
   "metadata": {
    "tags": []
   },
   "outputs": [
    {
     "data": {
      "text/latex": [
       "$\\displaystyle 0 = 0$"
      ],
      "text/plain": [
       "<IPython.core.display.Math object>"
      ]
     },
     "execution_count": 8,
     "metadata": {},
     "output_type": "execute_result"
    }
   ],
   "source": [
    "# Segunda ecuación de equilibrio:\n",
    "eq2 = diff(trz,r) + diff(sz,z) + trz/r # == 0\n",
    "imprimir(\"\", expand(eq2 - (1-nu)*bphi), \" = 0\")"
   ]
  },
  {
   "cell_type": "markdown",
   "id": "4ea115ad-c081-490d-bf0f-7d2804182671",
   "metadata": {},
   "source": [
    "De aquí se deduce que la primera ecuación de equilibrio desaparece y la segunda, se convierte en:\n",
    "\\begin{equation}\n",
    "(1 - \\nu)\\nabla^4\\phi(r,z) = 0\n",
    "\\end{equation}"
   ]
  },
  {
   "cell_type": "markdown",
   "id": "88d27daf-9135-4409-bed6-55f401ff68b7",
   "metadata": {},
   "source": [
    "Se reemplazan los esfuerzos en las ecuaciones de compatibilidad:"
   ]
  },
  {
   "cell_type": "code",
   "execution_count": 9,
   "id": "1aaeccf8-e0bb-4064-8419-a67747a169af",
   "metadata": {},
   "outputs": [],
   "source": [
    "Theta = sr + st + sz\n",
    "co1 = lapl(sr) - (2/r**2)*(sr - st) + (1/(1+nu))*diff(Theta,r,2)\n",
    "co2 = lapl(st) + (2/r**2)*(sr - st) + (1/(1+nu))*(1/r)*diff(Theta,r)\n",
    "co3 = lapl(sz) + (1/(1+nu))*diff(Theta,z,2)\n",
    "co4 = lapl(trz) - (1/r**2)*trz + (1/(1+nu))*diff(Theta,r,1,z,1)"
   ]
  },
  {
   "cell_type": "markdown",
   "id": "678a5702-2452-428e-ae84-79fc8776715f",
   "metadata": {},
   "source": [
    "Se verifica la equivalencia de las anteriores expresiones:"
   ]
  },
  {
   "cell_type": "code",
   "execution_count": 10,
   "id": "82941db5-7d60-4911-a754-8e9e549e5969",
   "metadata": {},
   "outputs": [
    {
     "data": {
      "text/latex": [
       "$\\displaystyle 0 = 0$"
      ],
      "text/plain": [
       "<IPython.core.display.Math object>"
      ]
     },
     "execution_count": 10,
     "metadata": {},
     "output_type": "execute_result"
    }
   ],
   "source": [
    "imprimir(\"\", simplify(co1 - nu*diff(bphi,z)), \" = 0\")"
   ]
  },
  {
   "cell_type": "code",
   "execution_count": 11,
   "id": "e502ca88-1ca8-4b7f-80f0-f65c56d99654",
   "metadata": {},
   "outputs": [
    {
     "data": {
      "text/latex": [
       "$\\displaystyle 0 = 0$"
      ],
      "text/plain": [
       "<IPython.core.display.Math object>"
      ]
     },
     "execution_count": 11,
     "metadata": {},
     "output_type": "execute_result"
    }
   ],
   "source": [
    "imprimir(\"\", simplify(co2 - nu*diff(bphi,z)), \" = 0\")"
   ]
  },
  {
   "cell_type": "code",
   "execution_count": 12,
   "id": "037fd907-6338-4ce7-9567-8457aa9966ce",
   "metadata": {},
   "outputs": [
    {
     "data": {
      "text/latex": [
       "$\\displaystyle 0 = 0$"
      ],
      "text/plain": [
       "<IPython.core.display.Math object>"
      ]
     },
     "execution_count": 12,
     "metadata": {},
     "output_type": "execute_result"
    }
   ],
   "source": [
    "imprimir(\"\", simplify(co3 - (2-nu)*diff(bphi,z)), \" = 0\")"
   ]
  },
  {
   "cell_type": "code",
   "execution_count": 13,
   "id": "ff2888cb-bd8e-438c-ae93-dec42f9fb07d",
   "metadata": {},
   "outputs": [
    {
     "data": {
      "text/latex": [
       "$\\displaystyle 0 = 0$"
      ],
      "text/plain": [
       "<IPython.core.display.Math object>"
      ]
     },
     "execution_count": 13,
     "metadata": {},
     "output_type": "execute_result"
    }
   ],
   "source": [
    "imprimir(\"\", simplify(co4 - (1-nu)*diff(bphi,r)), \" = 0\")"
   ]
  },
  {
   "cell_type": "code",
   "execution_count": null,
   "id": "eb68fe77-94be-4e09-adb0-cea26d4b37ff",
   "metadata": {},
   "outputs": [],
   "source": []
  },
  {
   "cell_type": "markdown",
   "id": "5c72496e-b43f-4d6b-828c-4bd39743b4c5",
   "metadata": {
    "tags": []
   },
   "source": [
    "Se definen las primeras derivadas utilizando la regla de la cadena:"
   ]
  },
  {
   "cell_type": "code",
   "execution_count": 14,
   "id": "be466bac-0aa8-4523-ad6c-e241db44121f",
   "metadata": {
    "tags": []
   },
   "outputs": [],
   "source": [
    "d_dx = lambda f: diff(f,r)*cos(t) - diff(f,t)*sin(t)/r\n",
    "d_dy = lambda f: diff(f,r)*sin(t) + diff(f,t)*cos(t)/r\n",
    "d_dz = lambda f: diff(f,z)"
   ]
  },
  {
   "cell_type": "markdown",
   "id": "1bda08b6-f4c1-4fcd-a5c7-d8529871d7a7",
   "metadata": {},
   "source": [
    "Se especifican los esfuerzos $\\sigma_x$, $\\sigma_y$ y $\\tau_{xy}$ en función de $\\sigma_r$, $\\sigma_\\theta$ y $\\tau_{r\\theta}$:\n",
    "\\begin{align}\n",
    "\\sigma_x  &= \\sigma_r\\cos^2\\theta + \\sigma_\\theta\\sin^2\\theta - \\tau_{r\\theta}\\sin 2\\theta \\\\\n",
    "\\sigma_y  &= \\sigma_r\\sin^2\\theta + \\sigma_\\theta\\cos^2\\theta + \\tau_{r\\theta}\\sin 2\\theta \\\\\n",
    "\\tau_{xy} &= \\frac{1}{2}\\left(\\sigma_r - \\sigma_\\theta\\right)\\sin 2\\theta + \\tau_{r\\theta}\\cos 2\\theta\n",
    "\\end{align}"
   ]
  },
  {
   "cell_type": "code",
   "execution_count": 15,
   "id": "0d94a165-00db-415f-92bd-606cf0e79e2a",
   "metadata": {},
   "outputs": [
    {
     "ename": "NameError",
     "evalue": "name 't' is not defined",
     "output_type": "error",
     "traceback": [
      "\u001b[0;31m---------------------------------------------------------------------------\u001b[0m",
      "\u001b[0;31mNameError\u001b[0m                                 Traceback (most recent call last)",
      "\u001b[0;32m/tmp/ipykernel_52827/2144996551.py\u001b[0m in \u001b[0;36m<module>\u001b[0;34m\u001b[0m\n\u001b[0;32m----> 1\u001b[0;31m \u001b[0msx\u001b[0m  \u001b[0;34m=\u001b[0m \u001b[0msr\u001b[0m\u001b[0;34m*\u001b[0m\u001b[0mcos\u001b[0m\u001b[0;34m(\u001b[0m\u001b[0mt\u001b[0m\u001b[0;34m)\u001b[0m\u001b[0;34m**\u001b[0m\u001b[0;36m2\u001b[0m \u001b[0;34m+\u001b[0m \u001b[0mst\u001b[0m\u001b[0;34m*\u001b[0m\u001b[0msin\u001b[0m\u001b[0;34m(\u001b[0m\u001b[0mt\u001b[0m\u001b[0;34m)\u001b[0m\u001b[0;34m**\u001b[0m\u001b[0;36m2\u001b[0m \u001b[0;34m-\u001b[0m \u001b[0mtrt\u001b[0m\u001b[0;34m*\u001b[0m\u001b[0msin\u001b[0m\u001b[0;34m(\u001b[0m\u001b[0;36m2\u001b[0m\u001b[0;34m*\u001b[0m\u001b[0mt\u001b[0m\u001b[0;34m)\u001b[0m\u001b[0;34m\u001b[0m\u001b[0;34m\u001b[0m\u001b[0m\n\u001b[0m\u001b[1;32m      2\u001b[0m \u001b[0msy\u001b[0m  \u001b[0;34m=\u001b[0m \u001b[0msr\u001b[0m\u001b[0;34m*\u001b[0m\u001b[0msin\u001b[0m\u001b[0;34m(\u001b[0m\u001b[0mt\u001b[0m\u001b[0;34m)\u001b[0m\u001b[0;34m**\u001b[0m\u001b[0;36m2\u001b[0m \u001b[0;34m+\u001b[0m \u001b[0mst\u001b[0m\u001b[0;34m*\u001b[0m\u001b[0mcos\u001b[0m\u001b[0;34m(\u001b[0m\u001b[0mt\u001b[0m\u001b[0;34m)\u001b[0m\u001b[0;34m**\u001b[0m\u001b[0;36m2\u001b[0m \u001b[0;34m+\u001b[0m \u001b[0mtrt\u001b[0m\u001b[0;34m*\u001b[0m\u001b[0msin\u001b[0m\u001b[0;34m(\u001b[0m\u001b[0;36m2\u001b[0m\u001b[0;34m*\u001b[0m\u001b[0mt\u001b[0m\u001b[0;34m)\u001b[0m\u001b[0;34m\u001b[0m\u001b[0;34m\u001b[0m\u001b[0m\n\u001b[1;32m      3\u001b[0m \u001b[0mtxy\u001b[0m \u001b[0;34m=\u001b[0m \u001b[0;34m(\u001b[0m\u001b[0msr\u001b[0m \u001b[0;34m-\u001b[0m \u001b[0mst\u001b[0m\u001b[0;34m)\u001b[0m\u001b[0;34m*\u001b[0m\u001b[0msin\u001b[0m\u001b[0;34m(\u001b[0m\u001b[0;36m2\u001b[0m\u001b[0;34m*\u001b[0m\u001b[0mt\u001b[0m\u001b[0;34m)\u001b[0m\u001b[0;34m/\u001b[0m\u001b[0;36m2\u001b[0m  \u001b[0;34m+\u001b[0m \u001b[0mtrt\u001b[0m\u001b[0;34m*\u001b[0m\u001b[0mcos\u001b[0m\u001b[0;34m(\u001b[0m\u001b[0;36m2\u001b[0m\u001b[0;34m*\u001b[0m\u001b[0mt\u001b[0m\u001b[0;34m)\u001b[0m\u001b[0;34m\u001b[0m\u001b[0;34m\u001b[0m\u001b[0m\n",
      "\u001b[0;31mNameError\u001b[0m: name 't' is not defined"
     ]
    }
   ],
   "source": [
    "sx  = sr*cos(t)**2 + st*sin(t)**2 - trt*sin(2*t)\n",
    "sy  = sr*sin(t)**2 + st*cos(t)**2 + trt*sin(2*t)\n",
    "txy = (sr - st)*sin(2*t)/2  + trt*cos(2*t)"
   ]
  },
  {
   "cell_type": "markdown",
   "id": "5f12cb08-713e-4857-a7c8-a9556d9bd5e1",
   "metadata": {},
   "source": [
    "Relaciones de Airy para los esfuerzos, ecuación (***) cuando no se tienen fuerzas másicas, esto es haciendo $V(x,y)=0$:\n",
    "\\begin{align}\n",
    "\\sigma_x(x,y)  & = \\frac{\\partial^2 \\phi(x,y)}{\\partial y^2} + V(x,y) \\\\\n",
    "\\sigma_y(x,y)  & = \\frac{\\partial^2 \\phi(x,y)}{\\partial x^2} + V(x,y) \\\\    \n",
    "\\tau_{xy}(x,y) & = -\\frac{\\partial^2 \\phi(x,y)}{\\partial x \\partial y}.\n",
    "\\end{align}"
   ]
  },
  {
   "cell_type": "code",
   "execution_count": null,
   "id": "27f19782-078c-46a1-83c5-d9c21608046c",
   "metadata": {},
   "outputs": [],
   "source": [
    "eq1 = Eq(sx,   d_dy(d_dy(phi)))\n",
    "eq2 = Eq(sy,   d_dx(d_dx(phi)))\n",
    "eq3 = Eq(txy, -d_dx(d_dy(phi)))"
   ]
  },
  {
   "cell_type": "markdown",
   "id": "2e87e5a8-0187-43a4-90bf-99050ef0362b",
   "metadata": {},
   "source": [
    "Se calculan $\\sigma_r$, $\\sigma_\\theta$ y $\\tau_{r\\theta}$ en términos de la función de tensión de Airy $\\phi$:"
   ]
  },
  {
   "cell_type": "code",
   "execution_count": null,
   "id": "ca91007c-8f80-4a1b-b710-5eec8a1714f2",
   "metadata": {},
   "outputs": [],
   "source": [
    "sol = trigsimp(solve([eq1, eq2, eq3], [sr, st, trt]))\n",
    "sr  = sol[sr].expand()\n",
    "st  = sol[st]\n",
    "trt = sol[trt].expand()"
   ]
  },
  {
   "cell_type": "code",
   "execution_count": null,
   "id": "9b1dccca-963a-4818-8d23-d252b1ecb1ce",
   "metadata": {},
   "outputs": [],
   "source": [
    "imprimir(r\"\\sigma_r(r, \\theta) = \", sr)"
   ]
  },
  {
   "cell_type": "code",
   "execution_count": null,
   "id": "132d8091-a2ea-4594-abb9-81c2bf693d76",
   "metadata": {},
   "outputs": [],
   "source": [
    "imprimir(r\"\\sigma_\\theta(r, \\theta) = \", st)"
   ]
  },
  {
   "cell_type": "code",
   "execution_count": null,
   "id": "1ac8b610-1482-4eb7-b2cc-fd37150a5053",
   "metadata": {},
   "outputs": [],
   "source": [
    "imprimir(r\"\\tau_{r\\theta}(r, \\theta) = \", trt)"
   ]
  },
  {
   "cell_type": "markdown",
   "id": "f9c66509-d532-4071-9a6a-953390ba1c1b",
   "metadata": {},
   "source": [
    "## Verificación de que la función de tensión de Airy satisface las ecuaciones de equilibrio"
   ]
  },
  {
   "cell_type": "markdown",
   "id": "9ff15035-4ba9-4869-a5d2-4b3cd94c11a0",
   "metadata": {},
   "source": [
    "Se reemplaza en las ecuaciones diferenciales de equilibrio\n",
    "\\begin{align}\n",
    " \\frac{\\partial \\sigma_r}{\\partial r} + \\frac{1}{r}\\frac{\\partial \\tau_{r\\theta}}{\\partial \\theta} + \\frac{\\sigma_r - \\sigma_\\theta}{r} + b_r &= 0 \\\\\n",
    " \\frac{\\partial \\tau_{r\\theta}}{\\partial r} + \\frac{1}{r}\\frac{\\partial \\sigma_\\theta}{\\partial \\theta}  + \\frac{2 \\tau_{r\\theta}}{r} + b_\\theta &= 0\n",
    "\\end{align}\n",
    "asumiendo que las fuerzas másicas son nulas, esto es $b_r = b_\\theta = 0$:"
   ]
  },
  {
   "cell_type": "code",
   "execution_count": null,
   "id": "c171b7b8-9e7c-4750-9e67-611ca11172c5",
   "metadata": {},
   "outputs": [],
   "source": [
    "# Primera ecuación de equilibrio:\n",
    "eq1 = expand(diff(sr,r) + (1/r)*diff(trt,t) + (sr - st)/r) # == 0\n",
    "imprimir(\"\", eq1, \" = 0\")"
   ]
  },
  {
   "cell_type": "code",
   "execution_count": null,
   "id": "3c0e5be1-727a-4f51-a84b-40c02950d0fc",
   "metadata": {},
   "outputs": [],
   "source": [
    "# Segunda ecuación de equilibrio:\n",
    "eq2 = expand(diff(trt,r) + (1/r)*diff(st,t) + 2*trt/r) # == 0\n",
    "imprimir(\"\", eq2, \" = 0\")"
   ]
  },
  {
   "cell_type": "markdown",
   "id": "ed4f59b8-8d15-4dcf-a4a9-1106e771f148",
   "metadata": {},
   "source": [
    "Se reemplaza en la ecuación diferencial bidimensional de compatibilidad en términos de esfuerzos\n",
    "\\begin{equation}\n",
    "\\left(\\frac{\\partial^2}{\\partial r^2} + \\frac{1}{r}\\frac{\\partial}{\\partial r} + \\frac{1}{r^2}\\frac{\\partial^2}{\\partial \\theta^2}\\right)\\left(\\sigma_r + \\sigma_\\theta\\right) =K_1 \\left(\\frac{\\partial b_r}{\\partial r} + \\frac{b_r}{r} + \\frac{1}{r}\\frac{\\partial b_\\theta}{\\partial \\theta}\\right)\n",
    "\\end{equation}\n",
    "asumiendo que las fuerzas másicas son nulas, esto es $b_r = b_\\theta = 0$:"
   ]
  },
  {
   "cell_type": "code",
   "execution_count": null,
   "id": "deaa19c8-88f3-4153-9f93-2479c467f33e",
   "metadata": {},
   "outputs": [],
   "source": [
    "eq3 = expand(lapl(sr + st)) # == 0\n",
    "imprimir(\"\", eq3, \" = 0\")"
   ]
  },
  {
   "cell_type": "markdown",
   "id": "fd4f5950-deed-4bd3-ab8d-3e02acc8ac85",
   "metadata": {},
   "source": [
    "Se calcula el biarmónico de la función de tensión de Airy en coordenadas polares:"
   ]
  },
  {
   "cell_type": "code",
   "execution_count": null,
   "id": "a2f28ffa-d8bd-4ad3-840b-1262b1c5a0dc",
   "metadata": {},
   "outputs": [],
   "source": [
    "biarm = expand(lapl(lapl(phi)))\n",
    "\n",
    "imprimir(r\"\\nabla^4 \\phi(r, \\theta) = \", biarm)"
   ]
  },
  {
   "cell_type": "markdown",
   "id": "248ea9fc-0cf8-40d0-bc76-dc827ead7c62",
   "metadata": {},
   "source": [
    "Observe que la ecuación diferencial bidimensional de compatibilidad en términos de esfuerzos se reduce al biarmónico de $\\phi$:"
   ]
  },
  {
   "cell_type": "code",
   "execution_count": null,
   "id": "8369c48d-729f-4cf7-8282-497330d9fe94",
   "metadata": {},
   "outputs": [],
   "source": [
    "eq3 - biarm"
   ]
  },
  {
   "cell_type": "code",
   "execution_count": null,
   "id": "f62e80cc-9b45-4885-9547-ca5650e6b45f",
   "metadata": {},
   "outputs": [],
   "source": [
    "/* Las constantes de Lamé: */\n",
    "lamda : E*nu/((1 + nu)*(1 - 2*nu))$\n",
    "G     : E/(2*(1 + nu))$\n",
    "\n",
    "/* Dilatación cúbica para el caso axisimétrico, ecuación (*\\eqref{eq:e_coord_cil}*) */\n",
    "e : diff(ur,r) + ur/r + diff(w,z)$\n",
    "\n",
    "/* Se reemplazan los desplazamientos en las ecuaciones de Cauchy- */\n",
    "/* Navier (*\\eqref{eq:CN_axisimetrico}*) asumiendo que las fuerzas másicas son nulas: br = bz = 0 */\n",
    "cn1 : (lamda + G)*diff(e,r) + G*(lapl(ur) - ur/r^2)$\n",
    "cn2 : (lamda + G)*diff(e,z) + G*lapl(w)$\n",
    "factor(cn1 - 0);                      /* Imprime 0 */\n",
    "factor(cn2 - (1-nu)*bphi);            /* Imprime 0 */"
   ]
  },
  {
   "cell_type": "code",
   "execution_count": null,
   "id": "ff063e9e-474e-45cb-90ef-de6148bfe1b3",
   "metadata": {},
   "outputs": [],
   "source": []
  }
 ],
 "metadata": {
  "kernelspec": {
   "display_name": "Python 3 (ipykernel)",
   "language": "python",
   "name": "python3"
  },
  "language_info": {
   "codemirror_mode": {
    "name": "ipython",
    "version": 3
   },
   "file_extension": ".py",
   "mimetype": "text/x-python",
   "name": "python",
   "nbconvert_exporter": "python",
   "pygments_lexer": "ipython3",
   "version": "3.9.13"
  }
 },
 "nbformat": 4,
 "nbformat_minor": 5
}
