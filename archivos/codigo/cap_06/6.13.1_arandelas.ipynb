{
 "cells": [
  {
   "cell_type": "markdown",
   "id": "9b0fb0dd-fb38-4b4d-8f72-90f21c63094d",
   "metadata": {},
   "source": [
    "# 6.13.1 Cálculos de los discos y arandelas de sección constante sujetos a un estado de tensiones axisimétrico"
   ]
  },
  {
   "cell_type": "code",
   "execution_count": 1,
   "id": "d4aec804-696c-4684-830e-1111d9cb8fa5",
   "metadata": {},
   "outputs": [],
   "source": [
    "from sympy import init_printing, latex, symbols, diff, Function, dsolve, simplify, Eq, solve, expand #, trigsimp\n",
    "import sympy as sp\n",
    "\n",
    "# Para imprimir bonito\n",
    "init_printing()\n",
    "from IPython.display import Math                 \n",
    "def imprimir (texto1, variable, texto2=\"\"):\n",
    "    return Math(texto1 +  rf'{latex(variable)}' + texto2)"
   ]
  },
  {
   "cell_type": "markdown",
   "id": "b7071284-4f55-4df2-872c-f68cc352b913",
   "metadata": {},
   "source": [
    "Se definen las variables:"
   ]
  },
  {
   "cell_type": "code",
   "execution_count": 2,
   "id": "a23d2ffd-7def-4a08-83a7-1b52da4e4b50",
   "metadata": {},
   "outputs": [],
   "source": [
    "r  = symbols('r')\n",
    "ur = Function('u_r')(r)\n",
    "#w  = Function('w')(r)\n",
    "\n",
    "# propiedades del material\n",
    "E, nu, G = symbols('E nu G')\n",
    "rho      = symbols('rho')\n",
    "\n",
    "# la velocidad angular\n",
    "omega    = symbols('omega')"
   ]
  },
  {
   "cell_type": "markdown",
   "id": "a5dbb4e6-8e63-4c80-acce-f87d28fbfcc3",
   "metadata": {},
   "source": [
    "Las deformaciones se relacionan con los desplazamientos mediante:"
   ]
  },
  {
   "cell_type": "code",
   "execution_count": 3,
   "id": "e55d886d-8b5c-4936-a496-8e7113ad65cf",
   "metadata": {},
   "outputs": [],
   "source": [
    "er  = diff(ur, r)\n",
    "et  = ur/r"
   ]
  },
  {
   "cell_type": "markdown",
   "id": "6c04f737-7652-4911-a7a3-e96b8a417d32",
   "metadata": {},
   "source": [
    "La ley de Hooke para tensión plana es:"
   ]
  },
  {
   "cell_type": "code",
   "execution_count": 4,
   "id": "529854be-dc50-443b-afa3-cdf8675d8dd1",
   "metadata": {},
   "outputs": [],
   "source": [
    "sr = (E/(1 - nu**2))*(er + nu*et)\n",
    "st = (E/(1 - nu**2))*(et + nu*er)"
   ]
  },
  {
   "cell_type": "markdown",
   "id": "c8ed282b-1ad1-4072-98e6-a2641c2780d0",
   "metadata": {},
   "source": [
    "Recordemos que la ecuación diferencial de equilibrio para el caso polar + axisimétrico (caso 3) es:\n",
    "$$\n",
    " \\frac{\\operatorname{d}\\! \\sigma_r}{\\operatorname{d}\\! r} + \\frac{\\sigma_r - \\sigma_\\theta}{r} + b_r = 0\n",
    "$$\n",
    "\n",
    "Si la arandela gira con una velocidad angular $\\omega$, entonces la fuerza másica corresponde a $b_r = \\rho \\omega^2 r$."
   ]
  },
  {
   "cell_type": "code",
   "execution_count": 5,
   "id": "081005e7-f036-42f8-b4af-ec5571d983cd",
   "metadata": {},
   "outputs": [
    {
     "data": {
      "text/latex": [
       "$\\displaystyle \\frac{- E r^{2} \\frac{d^{2}}{d r^{2}} \\operatorname{u_{r}}{\\left(r \\right)} - E r \\frac{d}{d r} \\operatorname{u_{r}}{\\left(r \\right)} + E \\operatorname{u_{r}}{\\left(r \\right)} + \\nu^{2} \\omega^{2} r^{3} \\rho - \\omega^{2} r^{3} \\rho}{r^{2} \\left(\\nu^{2} - 1\\right)} = 0$"
      ],
      "text/plain": [
       "<IPython.core.display.Math object>"
      ]
     },
     "execution_count": 5,
     "metadata": {},
     "output_type": "execute_result"
    }
   ],
   "source": [
    "# se define la fuerza másica\n",
    "br = rho*omega**2*r\n",
    "\n",
    "eq = simplify(diff(sr, r) + (sr-st)/r + br) # == 0\n",
    "\n",
    "imprimir(\"\", eq, \" = 0\")"
   ]
  },
  {
   "cell_type": "markdown",
   "id": "3e95e7c3-f059-4e3f-a411-56b35147e79a",
   "metadata": {},
   "source": [
    "es decir,"
   ]
  },
  {
   "cell_type": "code",
   "execution_count": 6,
   "id": "0bf99990-5fae-47d4-b944-884330576932",
   "metadata": {},
   "outputs": [
    {
     "data": {
      "text/latex": [
       "$\\displaystyle r^{2} \\frac{d^{2}}{d r^{2}} \\operatorname{u_{r}}{\\left(r \\right)} + r \\frac{d}{d r} \\operatorname{u_{r}}{\\left(r \\right)} - \\operatorname{u_{r}}{\\left(r \\right)} - \\frac{\\nu^{2} \\omega^{2} r^{3} \\rho}{E} + \\frac{\\omega^{2} r^{3} \\rho}{E} = 0$"
      ],
      "text/plain": [
       "<IPython.core.display.Math object>"
      ]
     },
     "execution_count": 6,
     "metadata": {},
     "output_type": "execute_result"
    }
   ],
   "source": [
    "eq = simplify((-r**2*(nu**2 - 1)/E)*eq)\n",
    "\n",
    "imprimir(\"\", eq, \" = 0\")"
   ]
  },
  {
   "cell_type": "code",
   "execution_count": 7,
   "id": "c63586b4-c018-4915-958b-a11774b92e69",
   "metadata": {
    "tags": []
   },
   "outputs": [
    {
     "data": {
      "image/png": "[encoded data removed]",
      "text/latex": [
       "$\\displaystyle \\operatorname{u_{r}}{\\left(r \\right)} = \\frac{C_{1}}{r} + C_{2} r + \\frac{\\nu^{2} \\omega^{2} r^{3} \\rho}{8 E} - \\frac{\\omega^{2} r^{3} \\rho}{8 E}$"
      ],
      "text/plain": [
       "                     2  2  3      2  3  \n",
       "        C₁          ν ⋅ω ⋅r ⋅ρ   ω ⋅r ⋅ρ\n",
       "uᵣ(r) = ── + C₂⋅r + ────────── - ───────\n",
       "        r              8⋅E         8⋅E  "
      ]
     },
     "execution_count": 7,
     "metadata": {},
     "output_type": "execute_result"
    }
   ],
   "source": [
    "sol = dsolve(eq, ur).expand()\n",
    "\n",
    "sol"
   ]
  },
  {
   "cell_type": "markdown",
   "id": "06311b68-b08c-439c-ace6-12e9b12fcbf6",
   "metadata": {},
   "source": [
    "Observe que las constantes quedaron diferentes a como están en el libro, por lo que toca organizarlas:"
   ]
  },
  {
   "cell_type": "code",
   "execution_count": 8,
   "id": "6b4b08d1-de74-46f2-a72f-28c04e376004",
   "metadata": {},
   "outputs": [],
   "source": [
    "C1, C2, C3 = sp.symbols('C1, C2, C3')\n",
    "sol = sol.subs({C1:C3, C2:C1, C3:C2})"
   ]
  },
  {
   "cell_type": "code",
   "execution_count": 9,
   "id": "5689b683-130f-4d7f-a0b0-9c3c05ab78ef",
   "metadata": {},
   "outputs": [
    {
     "data": {
      "text/latex": [
       "$\\displaystyle u_r(r,\\theta) = C_{1} r + \\frac{C_{2}}{r} + \\frac{\\nu^{2} \\omega^{2} r^{3} \\rho}{8 E} - \\frac{\\omega^{2} r^{3} \\rho}{8 E}$"
      ],
      "text/plain": [
       "<IPython.core.display.Math object>"
      ]
     },
     "execution_count": 9,
     "metadata": {},
     "output_type": "execute_result"
    }
   ],
   "source": [
    "ur = sol.rhs\n",
    "\n",
    "imprimir(r\"u_r(r,\\theta) = \", ur)"
   ]
  },
  {
   "cell_type": "code",
   "execution_count": 10,
   "id": "c182f26d-40eb-42b1-9ec4-476a26b27e78",
   "metadata": {},
   "outputs": [
    {
     "data": {
      "image/png": "[encoded data removed]",
      "text/latex": [
       "$\\displaystyle \\left[ \\right]$"
      ],
      "text/plain": [
       "[]"
      ]
     },
     "execution_count": 10,
     "metadata": {},
     "output_type": "execute_result"
    }
   ],
   "source": [
    "ri, re, pi, pe = sp.symbols('r_i, r_e, p_i, p_e')\n",
    "\n",
    "\n",
    "sol = sp.solve([ Eq(sr.subs(r,ri), -pi),\n",
    "                 Eq(sr.subs(r,re), -pe) ], [C1, C2])\n",
    "\n",
    "sol"
   ]
  },
  {
   "cell_type": "code",
   "execution_count": 11,
   "id": "6d8c104f-c652-43c2-ab3f-1e34dda06d0c",
   "metadata": {},
   "outputs": [],
   "source": [
    "ur = ur.subs(sol)"
   ]
  },
  {
   "cell_type": "code",
   "execution_count": 12,
   "id": "a674c85d-2322-4677-97da-bf5f01714211",
   "metadata": {},
   "outputs": [],
   "source": [
    "er  = expand(diff(ur, r))\n",
    "et  = expand(ur/r)"
   ]
  },
  {
   "cell_type": "code",
   "execution_count": 13,
   "id": "b46c5ef1-025a-428f-8203-8b5cf4dfb05f",
   "metadata": {},
   "outputs": [
    {
     "data": {
      "text/latex": [
       "$\\displaystyle \\varepsilon_r(r,\\theta) = C_{1} - \\frac{C_{2}}{r^{2}} + \\frac{3 \\nu^{2} \\omega^{2} r^{2} \\rho}{8 E} - \\frac{3 \\omega^{2} r^{2} \\rho}{8 E}$"
      ],
      "text/plain": [
       "<IPython.core.display.Math object>"
      ]
     },
     "execution_count": 13,
     "metadata": {},
     "output_type": "execute_result"
    }
   ],
   "source": [
    "imprimir(r\"\\varepsilon_r(r,\\theta) = \", er)"
   ]
  },
  {
   "cell_type": "code",
   "execution_count": 14,
   "id": "78d835b3-9713-408d-b029-aae3d4b95eec",
   "metadata": {},
   "outputs": [
    {
     "data": {
      "text/latex": [
       "$\\displaystyle \\varepsilon_\\theta(r,\\theta) = C_{1} + \\frac{C_{2}}{r^{2}} + \\frac{\\nu^{2} \\omega^{2} r^{2} \\rho}{8 E} - \\frac{\\omega^{2} r^{2} \\rho}{8 E}$"
      ],
      "text/plain": [
       "<IPython.core.display.Math object>"
      ]
     },
     "execution_count": 14,
     "metadata": {},
     "output_type": "execute_result"
    }
   ],
   "source": [
    "imprimir(r\"\\varepsilon_\\theta(r,\\theta) = \", et)"
   ]
  },
  {
   "cell_type": "code",
   "execution_count": 15,
   "id": "51158b5d-3e9e-4826-8c79-2a64fea88f16",
   "metadata": {},
   "outputs": [],
   "source": [
    "sr = expand((E/(1 - nu**2))*(er + nu*et))\n",
    "st = expand((E/(1 - nu**2))*(et + nu*er))"
   ]
  },
  {
   "cell_type": "code",
   "execution_count": 16,
   "id": "ab00b5f7-7631-4829-adf4-ec752360d6ec",
   "metadata": {},
   "outputs": [
    {
     "data": {
      "text/latex": [
       "$\\displaystyle \\sigma_r(r,\\theta) = \\frac{C_{1} E \\nu}{1 - \\nu^{2}} + \\frac{C_{1} E}{1 - \\nu^{2}} + \\frac{C_{2} E \\nu}{- \\nu^{2} r^{2} + r^{2}} - \\frac{C_{2} E}{- \\nu^{2} r^{2} + r^{2}} + \\frac{\\nu^{3} \\omega^{2} r^{2} \\rho}{8 - 8 \\nu^{2}} + \\frac{3 \\nu^{2} \\omega^{2} r^{2} \\rho}{8 - 8 \\nu^{2}} - \\frac{\\nu \\omega^{2} r^{2} \\rho}{8 - 8 \\nu^{2}} - \\frac{3 \\omega^{2} r^{2} \\rho}{8 - 8 \\nu^{2}}$"
      ],
      "text/plain": [
       "<IPython.core.display.Math object>"
      ]
     },
     "execution_count": 16,
     "metadata": {},
     "output_type": "execute_result"
    }
   ],
   "source": [
    "imprimir(r\"\\sigma_r(r,\\theta) = \", sr)"
   ]
  },
  {
   "cell_type": "code",
   "execution_count": 17,
   "id": "615a9548-6508-4c5d-8c3a-a9cbd4337eae",
   "metadata": {},
   "outputs": [
    {
     "data": {
      "text/latex": [
       "$\\displaystyle \\sigma_\\theta(r,\\theta) = \\frac{C_{1} E \\nu}{1 - \\nu^{2}} + \\frac{C_{1} E}{1 - \\nu^{2}} - \\frac{C_{2} E \\nu}{- \\nu^{2} r^{2} + r^{2}} + \\frac{C_{2} E}{- \\nu^{2} r^{2} + r^{2}} + \\frac{3 \\nu^{3} \\omega^{2} r^{2} \\rho}{8 - 8 \\nu^{2}} + \\frac{\\nu^{2} \\omega^{2} r^{2} \\rho}{8 - 8 \\nu^{2}} - \\frac{3 \\nu \\omega^{2} r^{2} \\rho}{8 - 8 \\nu^{2}} - \\frac{\\omega^{2} r^{2} \\rho}{8 - 8 \\nu^{2}}$"
      ],
      "text/plain": [
       "<IPython.core.display.Math object>"
      ]
     },
     "execution_count": 17,
     "metadata": {},
     "output_type": "execute_result"
    }
   ],
   "source": [
    "imprimir(r\"\\sigma_\\theta(r,\\theta) = \", st)"
   ]
  },
  {
   "cell_type": "code",
   "execution_count": 18,
   "id": "8f3f252c-883b-44d1-b940-c94bb6e0559a",
   "metadata": {},
   "outputs": [
    {
     "ename": "TypeError",
     "evalue": "list indices must be integers or slices, not Symbol",
     "output_type": "error",
     "traceback": [
      "\u001b[0;31m---------------------------------------------------------------------------\u001b[0m",
      "\u001b[0;31mTypeError\u001b[0m                                 Traceback (most recent call last)",
      "\u001b[0;32m<ipython-input-18-1153f40a06f9>\u001b[0m in \u001b[0;36m<module>\u001b[0;34m\u001b[0m\n\u001b[0;32m----> 1\u001b[0;31m \u001b[0msol\u001b[0m\u001b[0;34m[\u001b[0m\u001b[0mC1\u001b[0m\u001b[0;34m]\u001b[0m\u001b[0;34m.\u001b[0m\u001b[0mfactor\u001b[0m\u001b[0;34m(\u001b[0m\u001b[0;34m)\u001b[0m\u001b[0;34m\u001b[0m\u001b[0;34m\u001b[0m\u001b[0m\n\u001b[0m",
      "\u001b[0;31mTypeError\u001b[0m: list indices must be integers or slices, not Symbol"
     ]
    }
   ],
   "source": [
    "sol[C1].factor()"
   ]
  },
  {
   "cell_type": "code",
   "execution_count": null,
   "id": "6288a5ab-1eaa-48c8-8316-44a6dee408d3",
   "metadata": {},
   "outputs": [],
   "source": [
    "sol[C2].factor()"
   ]
  },
  {
   "cell_type": "code",
   "execution_count": null,
   "id": "de22742c-2429-4c07-b937-e4da7424abe6",
   "metadata": {},
   "outputs": [],
   "source": []
  }
 ],
 "metadata": {
  "kernelspec": {
   "display_name": "Python 3",
   "language": "python",
   "name": "python3"
  },
  "language_info": {
   "codemirror_mode": {
    "name": "ipython",
    "version": 3
   },
   "file_extension": ".py",
   "mimetype": "text/x-python",
   "name": "python",
   "nbconvert_exporter": "python",
   "pygments_lexer": "ipython3",
   "version": "3.8.8"
  }
 },
 "nbformat": 4,
 "nbformat_minor": 5
}
