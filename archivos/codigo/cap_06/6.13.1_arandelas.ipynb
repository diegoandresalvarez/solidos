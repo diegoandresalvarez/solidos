{
 "cells": [
  {
   "cell_type": "markdown",
   "id": "9b0fb0dd-fb38-4b4d-8f72-90f21c63094d",
   "metadata": {},
   "source": [
    "# 6.13.1 Cálculos de los discos y arandelas de sección constante sujetos a un estado de tensiones axisimétrico"
   ]
  },
  {
   "cell_type": "code",
   "execution_count": 1,
   "id": "d4aec804-696c-4684-830e-1111d9cb8fa5",
   "metadata": {},
   "outputs": [],
   "source": [
    "from sympy import init_printing, latex, symbols, diff, Function, dsolve, simplify, solve, expand, factor, Eq\n",
    "\n",
    "# Para imprimir bonito\n",
    "init_printing()\n",
    "from IPython.display import Math                 \n",
    "def imprimir (texto1, variable, texto2=\"\"):\n",
    "    return Math(texto1 +  rf'{latex(variable)}' + texto2)"
   ]
  },
  {
   "cell_type": "markdown",
   "id": "b7071284-4f55-4df2-872c-f68cc352b913",
   "metadata": {},
   "source": [
    "Se definen las variables:"
   ]
  },
  {
   "cell_type": "code",
   "execution_count": 2,
   "id": "a23d2ffd-7def-4a08-83a7-1b52da4e4b50",
   "metadata": {},
   "outputs": [],
   "source": [
    "r  = symbols('r')\n",
    "ur = Function('u_r')(r)\n",
    "\n",
    "# propiedades del material\n",
    "E, nu, G, rho = symbols('E, nu, G, rho')\n",
    "\n",
    "# la velocidad angular\n",
    "omega = symbols('omega')"
   ]
  },
  {
   "cell_type": "markdown",
   "id": "25c4d286-7fb4-4faa-98b2-272466cd9dd6",
   "metadata": {},
   "source": [
    "Si la arandela gira con una velocidad angular $\\omega$, entonces la fuerza másica corresponde a $b_r = \\rho \\omega^2 r$:"
   ]
  },
  {
   "cell_type": "code",
   "execution_count": 3,
   "id": "9833b730-24ca-4682-abf5-3b6515b06a64",
   "metadata": {},
   "outputs": [],
   "source": [
    "br = rho*omega**2*r"
   ]
  },
  {
   "cell_type": "markdown",
   "id": "a5dbb4e6-8e63-4c80-acce-f87d28fbfcc3",
   "metadata": {},
   "source": [
    "Las deformaciones se relacionan con los desplazamientos mediante:\n",
    "\\begin{align}\n",
    "   \\varepsilon_r(r)      &= \\frac{\\operatorname{d} u_r(r)}{\\operatorname{d} r} & \n",
    "   \\varepsilon_\\theta(r) &= \\frac{u_r(r)}{r}                                   & \n",
    "   \\varepsilon_z(r)      &= 0  \\\\\n",
    "   \\gamma_{r\\theta}(r)   &= 0   &\n",
    "   \\gamma_{r z}(r)       &= 0   &\n",
    "   \\gamma_{\\theta z}(r)  &= 0\n",
    "\\end{align}"
   ]
  },
  {
   "cell_type": "code",
   "execution_count": 4,
   "id": "e55d886d-8b5c-4936-a496-8e7113ad65cf",
   "metadata": {},
   "outputs": [],
   "source": [
    "er  = diff(ur, r)\n",
    "et  = ur/r"
   ]
  },
  {
   "cell_type": "markdown",
   "id": "6c04f737-7652-4911-a7a3-e96b8a417d32",
   "metadata": {},
   "source": [
    "Calculamos los esfuerzos a partir de las deformaciones utilizando la ley de Hooke para tensión plana:\n",
    "\\begin{align}\n",
    "\\sigma_r        &= \\frac{E}{1-\\nu^2} \\left(\\varepsilon_r + \\nu \\varepsilon_\\theta \\right) &\n",
    "\\sigma_\\theta   &= \\frac{E}{1-\\nu^2} \\left(\\varepsilon_\\theta + \\nu \\varepsilon_r \\right) &\n",
    "\\sigma_z        &= 0 \\\\\n",
    "\\tau_{r\\theta}  &= G \\gamma_{r\\theta} &\n",
    "\\tau_{rz}       &= 0 &\n",
    "\\tau_{\\theta z} &= 0.\n",
    "\\end{align}"
   ]
  },
  {
   "cell_type": "code",
   "execution_count": 5,
   "id": "529854be-dc50-443b-afa3-cdf8675d8dd1",
   "metadata": {},
   "outputs": [],
   "source": [
    "sr = (E/(1 - nu**2))*(er + nu*et)\n",
    "st = (E/(1 - nu**2))*(et + nu*er)"
   ]
  },
  {
   "cell_type": "markdown",
   "id": "c8ed282b-1ad1-4072-98e6-a2641c2780d0",
   "metadata": {},
   "source": [
    "Recordemos que la ecuación diferencial de equilibrio para el caso polar + axisimétrico (caso 3) es:\n",
    "$$\n",
    " \\frac{\\operatorname{d}\\! \\sigma_r}{\\operatorname{d}\\! r} + \\frac{\\sigma_r - \\sigma_\\theta}{r} + b_r = 0\n",
    "$$"
   ]
  },
  {
   "cell_type": "code",
   "execution_count": 6,
   "id": "081005e7-f036-42f8-b4af-ec5571d983cd",
   "metadata": {},
   "outputs": [
    {
     "data": {
      "text/latex": [
       "$\\displaystyle \\frac{- E r^{2} \\frac{d^{2}}{d r^{2}} u_{r}{\\left(r \\right)} - E r \\frac{d}{d r} u_{r}{\\left(r \\right)} + E u_{r}{\\left(r \\right)} + \\nu^{2} \\omega^{2} r^{3} \\rho - \\omega^{2} r^{3} \\rho}{r^{2} \\left(\\nu^{2} - 1\\right)} = 0$"
      ],
      "text/plain": [
       "<IPython.core.display.Math object>"
      ]
     },
     "execution_count": 6,
     "metadata": {},
     "output_type": "execute_result"
    }
   ],
   "source": [
    "eq = simplify(diff(sr, r) + (sr-st)/r + br) # == 0\n",
    "\n",
    "imprimir(\"\", eq, \" = 0\")"
   ]
  },
  {
   "cell_type": "markdown",
   "id": "3e95e7c3-f059-4e3f-a411-56b35147e79a",
   "metadata": {},
   "source": [
    "es decir,"
   ]
  },
  {
   "cell_type": "code",
   "execution_count": 7,
   "id": "0bf99990-5fae-47d4-b944-884330576932",
   "metadata": {},
   "outputs": [
    {
     "data": {
      "text/latex": [
       "$\\displaystyle r^{2} \\frac{d^{2}}{d r^{2}} u_{r}{\\left(r \\right)} + r \\frac{d}{d r} u_{r}{\\left(r \\right)} - u_{r}{\\left(r \\right)} - \\frac{\\nu^{2} \\omega^{2} r^{3} \\rho}{E} + \\frac{\\omega^{2} r^{3} \\rho}{E} = 0$"
      ],
      "text/plain": [
       "<IPython.core.display.Math object>"
      ]
     },
     "execution_count": 7,
     "metadata": {},
     "output_type": "execute_result"
    }
   ],
   "source": [
    "eq = simplify((-r**2*(nu**2 - 1)/E)*eq)\n",
    "\n",
    "imprimir(\"\", eq, \" = 0\")"
   ]
  },
  {
   "cell_type": "markdown",
   "id": "1dfc012f-aff9-4b7e-b1e9-fe68ecad2d0b",
   "metadata": {},
   "source": [
    "Esta es una ecuación diferencial de Cauchy-Euler. Procedemos a resolver dicha ecuación diferencial:"
   ]
  },
  {
   "cell_type": "code",
   "execution_count": 8,
   "id": "c63586b4-c018-4915-958b-a11774b92e69",
   "metadata": {
    "tags": []
   },
   "outputs": [
    {
     "data": {
      "image/png": "[encoded data removed]",
      "text/latex": [
       "$\\displaystyle u_{r}{\\left(r \\right)} = \\frac{C_{1}}{r} + C_{2} r + \\frac{\\nu^{2} \\omega^{2} r^{3} \\rho}{8 E} - \\frac{\\omega^{2} r^{3} \\rho}{8 E}$"
      ],
      "text/plain": [
       "                     2  2  3      2  3  \n",
       "        C₁          ν ⋅ω ⋅r ⋅ρ   ω ⋅r ⋅ρ\n",
       "uᵣ(r) = ── + C₂⋅r + ────────── - ───────\n",
       "        r              8⋅E         8⋅E  "
      ]
     },
     "execution_count": 8,
     "metadata": {},
     "output_type": "execute_result"
    }
   ],
   "source": [
    "sol = dsolve(eq, ur).expand()\n",
    "\n",
    "sol"
   ]
  },
  {
   "cell_type": "markdown",
   "id": "06311b68-b08c-439c-ace6-12e9b12fcbf6",
   "metadata": {},
   "source": [
    "Observe que las constantes quedaron diferentes a como están en el libro, por lo que toca organizarlas:"
   ]
  },
  {
   "cell_type": "code",
   "execution_count": 9,
   "id": "6b4b08d1-de74-46f2-a72f-28c04e376004",
   "metadata": {},
   "outputs": [],
   "source": [
    "C1, C2, C3 = symbols('C1, C2, C3')\n",
    "sol = sol.subs({C1:C3, C2:C1, C3:C2})\n",
    "ur  = sol.rhs"
   ]
  },
  {
   "cell_type": "code",
   "execution_count": 10,
   "id": "5689b683-130f-4d7f-a0b0-9c3c05ab78ef",
   "metadata": {},
   "outputs": [
    {
     "data": {
      "text/latex": [
       "$\\displaystyle u_r(r) = C_{1} r + \\frac{C_{2}}{r} + \\frac{\\nu^{2} \\omega^{2} r^{3} \\rho}{8 E} - \\frac{\\omega^{2} r^{3} \\rho}{8 E}$"
      ],
      "text/plain": [
       "<IPython.core.display.Math object>"
      ]
     },
     "execution_count": 10,
     "metadata": {},
     "output_type": "execute_result"
    }
   ],
   "source": [
    "imprimir(\"u_r(r) = \", ur)"
   ]
  },
  {
   "cell_type": "markdown",
   "id": "ed07776a-3647-4666-9032-4a59b96e00ec",
   "metadata": {},
   "source": [
    "Calculamos las deformaciones a partir de los desplazamientos:\n",
    "\\begin{align}\n",
    "   \\varepsilon_r(r)      &= \\frac{\\operatorname{d} u_r(r)}{\\operatorname{d} r} & \n",
    "   \\varepsilon_\\theta(r) &= \\frac{u_r(r)}{r}                                   & \n",
    "   \\varepsilon_z(r)      &= 0  \\\\\n",
    "   \\gamma_{r\\theta}(r)   &= 0   &\n",
    "   \\gamma_{r z}(r)       &= 0   &\n",
    "   \\gamma_{\\theta z}(r)  &= 0\n",
    "\\end{align}"
   ]
  },
  {
   "cell_type": "code",
   "execution_count": 11,
   "id": "f0a7b7e0-0578-4d68-b261-0a739f4de0ad",
   "metadata": {},
   "outputs": [],
   "source": [
    "er  = expand(diff(ur, r))\n",
    "et  = expand(ur/r)\n",
    "grt = 0"
   ]
  },
  {
   "cell_type": "code",
   "execution_count": 12,
   "id": "b46c5ef1-025a-428f-8203-8b5cf4dfb05f",
   "metadata": {},
   "outputs": [
    {
     "data": {
      "text/latex": [
       "$\\displaystyle \\varepsilon_r(r) = C_{1} - \\frac{C_{2}}{r^{2}} + \\frac{3 \\nu^{2} \\omega^{2} r^{2} \\rho}{8 E} - \\frac{3 \\omega^{2} r^{2} \\rho}{8 E}$"
      ],
      "text/plain": [
       "<IPython.core.display.Math object>"
      ]
     },
     "execution_count": 12,
     "metadata": {},
     "output_type": "execute_result"
    }
   ],
   "source": [
    "imprimir(r\"\\varepsilon_r(r) = \", er)"
   ]
  },
  {
   "cell_type": "code",
   "execution_count": 13,
   "id": "78d835b3-9713-408d-b029-aae3d4b95eec",
   "metadata": {},
   "outputs": [
    {
     "data": {
      "text/latex": [
       "$\\displaystyle \\varepsilon_\\theta(r) = C_{1} + \\frac{C_{2}}{r^{2}} + \\frac{\\nu^{2} \\omega^{2} r^{2} \\rho}{8 E} - \\frac{\\omega^{2} r^{2} \\rho}{8 E}$"
      ],
      "text/plain": [
       "<IPython.core.display.Math object>"
      ]
     },
     "execution_count": 13,
     "metadata": {},
     "output_type": "execute_result"
    }
   ],
   "source": [
    "imprimir(r\"\\varepsilon_\\theta(r) = \", et)"
   ]
  },
  {
   "cell_type": "code",
   "execution_count": 14,
   "id": "67e7a7cf-a089-4d82-8997-ad07a04d639f",
   "metadata": {},
   "outputs": [
    {
     "data": {
      "text/latex": [
       "$\\displaystyle \\gamma_{r\\theta}(r) = 0$"
      ],
      "text/plain": [
       "<IPython.core.display.Math object>"
      ]
     },
     "execution_count": 14,
     "metadata": {},
     "output_type": "execute_result"
    }
   ],
   "source": [
    "imprimir(r\"\\gamma_{r\\theta}(r) = \", grt)"
   ]
  },
  {
   "cell_type": "markdown",
   "id": "877419d3-7033-4149-a041-6a16f700672b",
   "metadata": {},
   "source": [
    "Calculamos los esfuerzos a partir de las deformaciones utilizando la ley de Hooke para tensión plana:\n",
    "\\begin{align}\n",
    "\\sigma_r        &= \\frac{E}{1-\\nu^2} \\left(\\varepsilon_r + \\nu \\varepsilon_\\theta \\right) &\n",
    "\\sigma_\\theta   &= \\frac{E}{1-\\nu^2} \\left(\\varepsilon_\\theta + \\nu \\varepsilon_r \\right) &\n",
    "\\sigma_z        &= 0 \\\\\n",
    "\\tau_{r\\theta}  &= G \\gamma_{r\\theta} &\n",
    "\\tau_{rz}       &= 0 &\n",
    "\\tau_{\\theta z} &= 0.\n",
    "\\end{align}"
   ]
  },
  {
   "cell_type": "code",
   "execution_count": 15,
   "id": "d30a8427-13ad-4559-92b1-f4a9e165c1fe",
   "metadata": {},
   "outputs": [],
   "source": [
    "sr  = E/(1 - nu**2)*(er + nu*et)\n",
    "st  = E/(1 - nu**2)*(et + nu*er)\n",
    "trt = G*grt"
   ]
  },
  {
   "cell_type": "code",
   "execution_count": 16,
   "id": "ab00b5f7-7631-4829-adf4-ec752360d6ec",
   "metadata": {},
   "outputs": [
    {
     "data": {
      "text/latex": [
       "$\\displaystyle \\sigma_r(r) = \\frac{E \\left(C_{1} - \\frac{C_{2}}{r^{2}} + \\nu \\left(C_{1} + \\frac{C_{2}}{r^{2}} + \\frac{\\nu^{2} \\omega^{2} r^{2} \\rho}{8 E} - \\frac{\\omega^{2} r^{2} \\rho}{8 E}\\right) + \\frac{3 \\nu^{2} \\omega^{2} r^{2} \\rho}{8 E} - \\frac{3 \\omega^{2} r^{2} \\rho}{8 E}\\right)}{1 - \\nu^{2}}$"
      ],
      "text/plain": [
       "<IPython.core.display.Math object>"
      ]
     },
     "execution_count": 16,
     "metadata": {},
     "output_type": "execute_result"
    }
   ],
   "source": [
    "imprimir(r\"\\sigma_r(r) = \", sr)"
   ]
  },
  {
   "cell_type": "code",
   "execution_count": 17,
   "id": "615a9548-6508-4c5d-8c3a-a9cbd4337eae",
   "metadata": {},
   "outputs": [
    {
     "data": {
      "text/latex": [
       "$\\displaystyle \\sigma_\\theta(r) = \\frac{E \\left(C_{1} + \\frac{C_{2}}{r^{2}} + \\nu \\left(C_{1} - \\frac{C_{2}}{r^{2}} + \\frac{3 \\nu^{2} \\omega^{2} r^{2} \\rho}{8 E} - \\frac{3 \\omega^{2} r^{2} \\rho}{8 E}\\right) + \\frac{\\nu^{2} \\omega^{2} r^{2} \\rho}{8 E} - \\frac{\\omega^{2} r^{2} \\rho}{8 E}\\right)}{1 - \\nu^{2}}$"
      ],
      "text/plain": [
       "<IPython.core.display.Math object>"
      ]
     },
     "execution_count": 17,
     "metadata": {},
     "output_type": "execute_result"
    }
   ],
   "source": [
    "imprimir(r\"\\sigma_\\theta(r) = \", st)"
   ]
  },
  {
   "cell_type": "code",
   "execution_count": 18,
   "id": "c39a1117-f2e1-4010-8052-307225c49c56",
   "metadata": {},
   "outputs": [
    {
     "data": {
      "text/latex": [
       "$\\displaystyle \\tau_{r\\theta}(r) = 0$"
      ],
      "text/plain": [
       "<IPython.core.display.Math object>"
      ]
     },
     "execution_count": 18,
     "metadata": {},
     "output_type": "execute_result"
    }
   ],
   "source": [
    "imprimir(r\"\\tau_{r\\theta}(r) = \", trt)"
   ]
  },
  {
   "cell_type": "markdown",
   "id": "84f72be3-d8a5-4b07-a7af-4dd2c62faa7b",
   "metadata": {},
   "source": [
    "Para encontrar las constantes de integración $C_1$ y $C_2$ debemos tener en cuenta las condiciones de frontera. En particular analizaremos los siguientes casos:\n",
    "* Caso 1: El disco está sujeto a unas presiones $p_i$ y $p_e$ en su radio interior $r_i$ y exterior $r_e$.\n",
    "* Caso 2: El disco no cuenta con un hueco interior y solo está sujeto a una presión $p_e$ en su radio exterior $r_e$."
   ]
  },
  {
   "cell_type": "markdown",
   "id": "f69ad4c9-fa50-4adb-8443-697aeee1765e",
   "metadata": {},
   "source": [
    "## Caso 1: el disco está sujeto a unas presiones $p_i$ y $p_e$ en su radio interior $r_i$ y exterior $r_e$\n",
    "\n",
    "En este caso, las condiciones de frontera son:\n",
    "\\begin{align}\n",
    "\\sigma_r(r_i) &= -p_i & \\sigma_r(r_e) &= -p_e.\n",
    "\\end{align}"
   ]
  },
  {
   "cell_type": "markdown",
   "id": "436088f9-d399-4d5b-a73e-90140ef78bec",
   "metadata": {},
   "source": [
    "Procedemos a calcular las constantes de integración:"
   ]
  },
  {
   "cell_type": "code",
   "execution_count": 19,
   "id": "5341ef8f-0f45-4e66-a6d4-8f5a56067596",
   "metadata": {},
   "outputs": [
    {
     "data": {
      "image/png": "[encoded data removed]",
      "text/latex": [
       "$\\displaystyle \\left\\{ C_{1} : \\frac{- \\nu^{2} \\omega^{2} r_{e}^{4} \\rho + \\nu^{2} \\omega^{2} r_{i}^{4} \\rho - 2 \\nu \\omega^{2} r_{e}^{4} \\rho + 2 \\nu \\omega^{2} r_{i}^{4} \\rho + 8 \\nu p_{e} r_{e}^{2} - 8 \\nu p_{i} r_{i}^{2} + 3 \\omega^{2} r_{e}^{4} \\rho - 3 \\omega^{2} r_{i}^{4} \\rho - 8 p_{e} r_{e}^{2} + 8 p_{i} r_{i}^{2}}{8 E r_{e}^{2} - 8 E r_{i}^{2}}, \\  C_{2} : \\frac{\\nu^{2} \\omega^{2} r_{e}^{4} r_{i}^{2} \\rho - \\nu^{2} \\omega^{2} r_{e}^{2} r_{i}^{4} \\rho + 4 \\nu \\omega^{2} r_{e}^{4} r_{i}^{2} \\rho - 4 \\nu \\omega^{2} r_{e}^{2} r_{i}^{4} \\rho - 8 \\nu p_{e} r_{e}^{2} r_{i}^{2} + 8 \\nu p_{i} r_{e}^{2} r_{i}^{2} + 3 \\omega^{2} r_{e}^{4} r_{i}^{2} \\rho - 3 \\omega^{2} r_{e}^{2} r_{i}^{4} \\rho - 8 p_{e} r_{e}^{2} r_{i}^{2} + 8 p_{i} r_{e}^{2} r_{i}^{2}}{8 E r_{e}^{2} - 8 E r_{i}^{2}}\\right\\}$"
      ],
      "text/plain": [
       "⎧       2  2   4      2  2   4          2   4          2   4              2            2      2   4        2   4            2          2       2  2   4   2      2  2   2   4          2   4   2          2   2   4              2   2    \n",
       "⎪    - ν ⋅ω ⋅rₑ ⋅ρ + ν ⋅ω ⋅rᵢ ⋅ρ - 2⋅ν⋅ω ⋅rₑ ⋅ρ + 2⋅ν⋅ω ⋅rᵢ ⋅ρ + 8⋅ν⋅pₑ⋅rₑ  - 8⋅ν⋅pᵢ⋅rᵢ  + 3⋅ω ⋅rₑ ⋅ρ - 3⋅ω ⋅rᵢ ⋅ρ - 8⋅pₑ⋅rₑ  + 8⋅pᵢ⋅rᵢ       ν ⋅ω ⋅rₑ ⋅rᵢ ⋅ρ - ν ⋅ω ⋅rₑ ⋅rᵢ ⋅ρ + 4⋅ν⋅ω ⋅rₑ ⋅rᵢ ⋅ρ - 4⋅ν⋅ω ⋅rₑ ⋅rᵢ ⋅ρ - 8⋅ν⋅pₑ⋅rₑ ⋅rᵢ  + 8\n",
       "⎨C₁: ───────────────────────────────────────────────────────────────────────────────────────────────────────────────────────────────────, C₂: ────────────────────────────────────────────────────────────────────────────────────────────\n",
       "⎪                                                                   2         2                                                                                                                                                 2         \n",
       "⎩                                                             8⋅E⋅rₑ  - 8⋅E⋅rᵢ                                                                                                                                            8⋅E⋅rₑ  - 8⋅E⋅rᵢ\n",
       "\n",
       "        2   2      2   4   2        2   2   4            2   2          2   2⎫\n",
       "⋅ν⋅pᵢ⋅rₑ ⋅rᵢ  + 3⋅ω ⋅rₑ ⋅rᵢ ⋅ρ - 3⋅ω ⋅rₑ ⋅rᵢ ⋅ρ - 8⋅pₑ⋅rₑ ⋅rᵢ  + 8⋅pᵢ⋅rₑ ⋅rᵢ ⎪\n",
       "─────────────────────────────────────────────────────────────────────────────⎬\n",
       "2                                                                            ⎪\n",
       "                                                                             ⎭"
      ]
     },
     "execution_count": 19,
     "metadata": {},
     "output_type": "execute_result"
    }
   ],
   "source": [
    "ri, re, pi, pe = symbols('r_i, r_e, p_i, p_e')\n",
    "\n",
    "sol = solve([ Eq(sr.subs(r,ri), -pi),\n",
    "              Eq(sr.subs(r,re), -pe) ], [C1, C2])\n",
    "\n",
    "sol"
   ]
  },
  {
   "cell_type": "code",
   "execution_count": 20,
   "id": "6d8c104f-c652-43c2-ab3f-1e34dda06d0c",
   "metadata": {},
   "outputs": [
    {
     "data": {
      "text/latex": [
       "$\\displaystyle C_1 = - \\frac{\\left(\\nu - 1\\right) \\left(\\nu \\omega^{2} r_{e}^{4} \\rho - \\nu \\omega^{2} r_{i}^{4} \\rho + 3 \\omega^{2} r_{e}^{4} \\rho - 3 \\omega^{2} r_{i}^{4} \\rho - 8 p_{e} r_{e}^{2} + 8 p_{i} r_{i}^{2}\\right)}{8 E \\left(r_{e} - r_{i}\\right) \\left(r_{e} + r_{i}\\right)}$"
      ],
      "text/plain": [
       "<IPython.core.display.Math object>"
      ]
     },
     "execution_count": 20,
     "metadata": {},
     "output_type": "execute_result"
    }
   ],
   "source": [
    "imprimir(\"C_1 = \", sol[C1].factor())"
   ]
  },
  {
   "cell_type": "code",
   "execution_count": 21,
   "id": "8f3f252c-883b-44d1-b940-c94bb6e0559a",
   "metadata": {},
   "outputs": [
    {
     "data": {
      "text/latex": [
       "$\\displaystyle C_2 = \\frac{r_{e}^{2} r_{i}^{2} \\left(\\nu + 1\\right) \\left(\\nu \\omega^{2} r_{e}^{2} \\rho - \\nu \\omega^{2} r_{i}^{2} \\rho + 3 \\omega^{2} r_{e}^{2} \\rho - 3 \\omega^{2} r_{i}^{2} \\rho - 8 p_{e} + 8 p_{i}\\right)}{8 E \\left(r_{e} - r_{i}\\right) \\left(r_{e} + r_{i}\\right)}$"
      ],
      "text/plain": [
       "<IPython.core.display.Math object>"
      ]
     },
     "execution_count": 21,
     "metadata": {},
     "output_type": "execute_result"
    }
   ],
   "source": [
    "imprimir(\"C_2 = \", sol[C2].factor())"
   ]
  },
  {
   "cell_type": "markdown",
   "id": "c3458233-1590-49e4-8a44-1cf3cbd75ace",
   "metadata": {},
   "source": [
    "En el caso particular que la velocidad angular $\\omega$ del disco sea cero, las constantes anteriores se reducen a:"
   ]
  },
  {
   "cell_type": "code",
   "execution_count": 22,
   "id": "f9b3d1da-b2a7-463f-bf1a-19b339d6416c",
   "metadata": {},
   "outputs": [
    {
     "data": {
      "text/latex": [
       "$\\displaystyle C_1 = \\frac{\\left(\\nu - 1\\right) \\left(p_{e} r_{e}^{2} - p_{i} r_{i}^{2}\\right)}{E \\left(r_{e} - r_{i}\\right) \\left(r_{e} + r_{i}\\right)}$"
      ],
      "text/plain": [
       "<IPython.core.display.Math object>"
      ]
     },
     "execution_count": 22,
     "metadata": {},
     "output_type": "execute_result"
    }
   ],
   "source": [
    "imprimir(\"C_1 = \", sol[C1].subs(omega, 0).factor())"
   ]
  },
  {
   "cell_type": "code",
   "execution_count": 23,
   "id": "abeef6ea-3200-45d2-a473-fd8d1fff1751",
   "metadata": {},
   "outputs": [
    {
     "data": {
      "text/latex": [
       "$\\displaystyle C_2 = - \\frac{r_{e}^{2} r_{i}^{2} \\left(\\nu + 1\\right) \\left(p_{e} - p_{i}\\right)}{E \\left(r_{e} - r_{i}\\right) \\left(r_{e} + r_{i}\\right)}$"
      ],
      "text/plain": [
       "<IPython.core.display.Math object>"
      ]
     },
     "execution_count": 23,
     "metadata": {},
     "output_type": "execute_result"
    }
   ],
   "source": [
    "imprimir(\"C_2 = \", sol[C2].subs(omega, 0).factor())"
   ]
  },
  {
   "cell_type": "markdown",
   "id": "74c07076-56d1-4a2f-9c70-1e69a96b500d",
   "metadata": {},
   "source": [
    "y por lo tanto, los esfuerzos al interior del disco estarían dados por:"
   ]
  },
  {
   "cell_type": "code",
   "execution_count": 24,
   "id": "9e06d1ca-7530-45e1-bbb6-0277c70f120c",
   "metadata": {},
   "outputs": [
    {
     "data": {
      "text/latex": [
       "$\\displaystyle \\sigma_r(r) = - \\frac{p_{e} r^{2} r_{e}^{2} - p_{e} r_{e}^{2} r_{i}^{2} - p_{i} r^{2} r_{i}^{2} + p_{i} r_{e}^{2} r_{i}^{2}}{r^{2} \\left(r_{e} - r_{i}\\right) \\left(r_{e} + r_{i}\\right)}$"
      ],
      "text/plain": [
       "<IPython.core.display.Math object>"
      ]
     },
     "execution_count": 24,
     "metadata": {},
     "output_type": "execute_result"
    }
   ],
   "source": [
    "imprimir(r\"\\sigma_r(r) = \", sr.subs(sol).subs(omega, 0).factor())"
   ]
  },
  {
   "cell_type": "code",
   "execution_count": 25,
   "id": "8db4859c-e230-4541-9a90-24b1f08ed245",
   "metadata": {},
   "outputs": [
    {
     "data": {
      "text/latex": [
       "$\\displaystyle \\sigma_\\theta(r) = - \\frac{p_{e} r^{2} r_{e}^{2} + p_{e} r_{e}^{2} r_{i}^{2} - p_{i} r^{2} r_{i}^{2} - p_{i} r_{e}^{2} r_{i}^{2}}{r^{2} \\left(r_{e} - r_{i}\\right) \\left(r_{e} + r_{i}\\right)}$"
      ],
      "text/plain": [
       "<IPython.core.display.Math object>"
      ]
     },
     "execution_count": 25,
     "metadata": {},
     "output_type": "execute_result"
    }
   ],
   "source": [
    "imprimir(r\"\\sigma_\\theta(r) = \", st.subs(sol).subs(omega, 0).factor())"
   ]
  },
  {
   "cell_type": "markdown",
   "id": "c7bc98c0-bb20-4c9e-8bc7-a8f34885f66a",
   "metadata": {},
   "source": [
    "Finalmente, si la velocidad angular $\\omega$ del disco es cero, el desplazamiento radial de la arandela estaría dado por:"
   ]
  },
  {
   "cell_type": "code",
   "execution_count": 26,
   "id": "28cee28d-1369-40fd-8b0c-5c66bce86678",
   "metadata": {},
   "outputs": [
    {
     "data": {
      "text/latex": [
       "$\\displaystyle u_r(r) = \\frac{\\nu p_{e} r^{2} r_{e}^{2} - \\nu p_{e} r_{e}^{2} r_{i}^{2} - \\nu p_{i} r^{2} r_{i}^{2} + \\nu p_{i} r_{e}^{2} r_{i}^{2} - p_{e} r^{2} r_{e}^{2} - p_{e} r_{e}^{2} r_{i}^{2} + p_{i} r^{2} r_{i}^{2} + p_{i} r_{e}^{2} r_{i}^{2}}{E r \\left(r_{e} - r_{i}\\right) \\left(r_{e} + r_{i}\\right)}$"
      ],
      "text/plain": [
       "<IPython.core.display.Math object>"
      ]
     },
     "execution_count": 26,
     "metadata": {},
     "output_type": "execute_result"
    }
   ],
   "source": [
    "imprimir(r\"u_r(r) = \", ur.subs(sol).subs(omega, 0).factor())"
   ]
  },
  {
   "cell_type": "markdown",
   "id": "a05d70db-dc6e-4594-bf16-8e2bfe9fc3ae",
   "metadata": {},
   "source": [
    "## Caso 2: el disco no cuenta con un hueco interior y solo está sujeto a una presión $p_e$ en su radio exterior $r_e$\n",
    "\n",
    "En este caso, en el eje del disco ($r=0$) no existen desplazamientos y por lo tanto, las condiciones de frontera se convierten en:\n",
    "\\begin{align}\n",
    "   u_r(0)        &= 0     &\n",
    "   \\sigma_r(r_e) &= -p_e.\n",
    "\\end{align}\n",
    "\n",
    "Recordemos que los desplazamientos son:"
   ]
  },
  {
   "cell_type": "code",
   "execution_count": 27,
   "id": "bda99fe0-f934-4044-9563-15515bc87277",
   "metadata": {},
   "outputs": [
    {
     "data": {
      "text/latex": [
       "$\\displaystyle u_r(r) = C_{1} r + \\frac{C_{2}}{r} + \\frac{\\nu^{2} \\omega^{2} r^{3} \\rho}{8 E} - \\frac{\\omega^{2} r^{3} \\rho}{8 E}$"
      ],
      "text/plain": [
       "<IPython.core.display.Math object>"
      ]
     },
     "execution_count": 27,
     "metadata": {},
     "output_type": "execute_result"
    }
   ],
   "source": [
    "imprimir(r\"u_r(r) = \", ur)"
   ]
  },
  {
   "cell_type": "markdown",
   "id": "20da3fa0-b492-44fa-bbbb-871b2fb0bd08",
   "metadata": {},
   "source": [
    "Procedemos a calcular las constantes de integración:"
   ]
  },
  {
   "cell_type": "code",
   "execution_count": 28,
   "id": "75c9ffa4-360d-452f-94a1-c6eb219fac0b",
   "metadata": {},
   "outputs": [
    {
     "data": {
      "image/png": "[encoded data removed]",
      "text/latex": [
       "$\\displaystyle \\left\\{ C_{1} : \\frac{- \\nu^{2} \\omega^{2} r_{e}^{2} \\rho - 2 \\nu \\omega^{2} r_{e}^{2} \\rho + 8 \\nu p_{e} + 3 \\omega^{2} r_{e}^{2} \\rho - 8 p_{e}}{8 E}, \\  C_{2} : 0\\right\\}$"
      ],
      "text/plain": [
       "⎧       2  2   2          2   2                 2   2                ⎫\n",
       "⎪    - ν ⋅ω ⋅rₑ ⋅ρ - 2⋅ν⋅ω ⋅rₑ ⋅ρ + 8⋅ν⋅pₑ + 3⋅ω ⋅rₑ ⋅ρ - 8⋅pₑ       ⎪\n",
       "⎨C₁: ─────────────────────────────────────────────────────────, C₂: 0⎬\n",
       "⎪                               8⋅E                                  ⎪\n",
       "⎩                                                                    ⎭"
      ]
     },
     "execution_count": 28,
     "metadata": {},
     "output_type": "execute_result"
    }
   ],
   "source": [
    "sol = solve([ Eq(ur.subs(r,0), 0),\n",
    "              Eq(sr.subs(r,re), -pe) ], [C1, C2])\n",
    "\n",
    "sol"
   ]
  },
  {
   "cell_type": "code",
   "execution_count": 29,
   "id": "3ba2771e-b649-4e3a-9f20-41e158af6080",
   "metadata": {},
   "outputs": [
    {
     "data": {
      "text/latex": [
       "$\\displaystyle C_1 = - \\frac{\\left(\\nu - 1\\right) \\left(\\nu \\omega^{2} r_{e}^{2} \\rho + 3 \\omega^{2} r_{e}^{2} \\rho - 8 p_{e}\\right)}{8 E}$"
      ],
      "text/plain": [
       "<IPython.core.display.Math object>"
      ]
     },
     "execution_count": 29,
     "metadata": {},
     "output_type": "execute_result"
    }
   ],
   "source": [
    "imprimir(\"C_1 = \", sol[C1].factor())"
   ]
  },
  {
   "cell_type": "code",
   "execution_count": 30,
   "id": "86069b81-49ef-4438-8e18-edd31a515651",
   "metadata": {},
   "outputs": [
    {
     "data": {
      "text/latex": [
       "$\\displaystyle C_2 = 0$"
      ],
      "text/plain": [
       "<IPython.core.display.Math object>"
      ]
     },
     "execution_count": 30,
     "metadata": {},
     "output_type": "execute_result"
    }
   ],
   "source": [
    "imprimir(\"C_2 = \", sol[C2].factor())"
   ]
  },
  {
   "cell_type": "markdown",
   "id": "f7e6aca8-161d-4d81-a762-740777dff309",
   "metadata": {},
   "source": [
    "Es obvio que en este caso $C_2 = 0$, porque de lo contrario tendríamos desplazamientos infinitos $u_r$ para $r=0$, lo cual es físicamente imposible.\n",
    "\n",
    "En el caso particular que la velocidad angular $\\omega$ del disco sea cero, las constantes anteriores se reducen a:"
   ]
  },
  {
   "cell_type": "code",
   "execution_count": 31,
   "id": "50fa0041-84a8-4aa4-9166-cf998e0ec2c8",
   "metadata": {},
   "outputs": [
    {
     "data": {
      "text/latex": [
       "$\\displaystyle C_1 = \\frac{p_{e} \\left(\\nu - 1\\right)}{E}$"
      ],
      "text/plain": [
       "<IPython.core.display.Math object>"
      ]
     },
     "execution_count": 31,
     "metadata": {},
     "output_type": "execute_result"
    }
   ],
   "source": [
    "imprimir(\"C_1 = \", sol[C1].subs(omega, 0).factor())"
   ]
  },
  {
   "cell_type": "code",
   "execution_count": 32,
   "id": "9691ef6f-31d6-41d5-ad2f-66062896a21a",
   "metadata": {},
   "outputs": [
    {
     "data": {
      "text/latex": [
       "$\\displaystyle C_2 = 0$"
      ],
      "text/plain": [
       "<IPython.core.display.Math object>"
      ]
     },
     "execution_count": 32,
     "metadata": {},
     "output_type": "execute_result"
    }
   ],
   "source": [
    "imprimir(\"C_2 = \", sol[C2].subs(omega, 0).factor())"
   ]
  },
  {
   "cell_type": "markdown",
   "id": "67793e25-5621-4fc1-ba06-879a14a22321",
   "metadata": {},
   "source": [
    "y por lo tanto, los esfuerzos al interior del disco estarían dados por:"
   ]
  },
  {
   "cell_type": "code",
   "execution_count": 33,
   "id": "a0aecbb5-ec0a-4cf5-8ce9-27b7ecde78b9",
   "metadata": {},
   "outputs": [
    {
     "data": {
      "text/latex": [
       "$\\displaystyle \\sigma_r(r) = - p_{e}$"
      ],
      "text/plain": [
       "<IPython.core.display.Math object>"
      ]
     },
     "execution_count": 33,
     "metadata": {},
     "output_type": "execute_result"
    }
   ],
   "source": [
    "imprimir(r\"\\sigma_r(r) = \", sr.subs(sol).subs(omega,0).factor())"
   ]
  },
  {
   "cell_type": "code",
   "execution_count": 34,
   "id": "dbffdc9a-aef3-497b-b034-362c1c9d7ef8",
   "metadata": {},
   "outputs": [
    {
     "data": {
      "text/latex": [
       "$\\displaystyle \\sigma_\\theta(r) = - p_{e}$"
      ],
      "text/plain": [
       "<IPython.core.display.Math object>"
      ]
     },
     "execution_count": 34,
     "metadata": {},
     "output_type": "execute_result"
    }
   ],
   "source": [
    "imprimir(r\"\\sigma_\\theta(r) = \", st.subs(sol).subs(omega,0).factor())"
   ]
  },
  {
   "cell_type": "markdown",
   "id": "408c0630-bbae-4855-8047-82e3ec329360",
   "metadata": {},
   "source": [
    "es decir, se obtiene una distribución igual de esfuerzos normales a compresión de magnitud $p_e$ en todos los puntos de dicho disco y en todas las direcciones de su plano."
   ]
  }
 ],
 "metadata": {
  "kernelspec": {
   "display_name": "Python 3 (ipykernel)",
   "language": "python",
   "name": "python3"
  },
  "language_info": {
   "codemirror_mode": {
    "name": "ipython",
    "version": 3
   },
   "file_extension": ".py",
   "mimetype": "text/x-python",
   "name": "python",
   "nbconvert_exporter": "python",
   "pygments_lexer": "ipython3",
   "version": "3.10.9"
  }
 },
 "nbformat": 4,
 "nbformat_minor": 5
}
