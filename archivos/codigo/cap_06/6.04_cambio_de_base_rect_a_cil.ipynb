{
 "cells": [
  {
   "cell_type": "markdown",
   "metadata": {
    "colab_type": "text",
    "id": "view-in-github"
   },
   "source": [
    "<a href=\"https://colab.research.google.com/github/michaelherediaperez/mecanica_de_solidos_un/blob/main/codigos/cap_02/02_06_01_cambio_de_base.ipynb\" target=\"_parent\"><img src=\"https://colab.research.google.com/assets/colab-badge.svg\" alt=\"Open In Colab\"/></a>"
   ]
  },
  {
   "cell_type": "markdown",
   "metadata": {
    "id": "UyAhKeEIsEqh"
   },
   "source": [
    "# 6.4. Conversión del tensor de esfuerzos de coordenadas cilíndricas a coordenadas rectangulares\n",
    "\n",
    "|Quién | Fecha | Qué hizo |\n",
    "| ---  | ---   | ---      |\n",
    "|Michael Heredia Pérez, <mherediap@unal.edu.co> | Julio 13, 2022      | Conversión de código de MAXIMA a Python|\n",
    "|Diego Andrés Alvarez, <daalvarez@unal.edu.co>  | Agosto 29, 2022     | Mejorando comentarios                  |\n",
    "|Diego Andrés Alvarez, <daalvarez@unal.edu.co>  | Marzo 13, 2023      | Adaptando el código a coordenadas cilíndricas |\n",
    "\n",
    "De acuerdo con la ecuación (<font color='blue'>6.25</font>) y la matriz de transformación $\\boldsymbol{T}$ definida en la ecuación (<font color='blue'>6.6</font>), las ecuaciones que transforman los esfuerzos de coordenas cilíndricas a coordenadas rectangulares se pueden calcular con el siguiente programa:"
   ]
  },
  {
   "cell_type": "code",
   "execution_count": 1,
   "metadata": {
    "id": "API5h85VrvWX"
   },
   "outputs": [],
   "source": [
    "import sympy as sp\n",
    "from sympy import sin, cos\n",
    "\n",
    "# Para imprimir bonito\n",
    "sp.init_printing()\n",
    "from IPython.display import Math                 \n",
    "def imprimir (texto, variable):\n",
    "    return Math(texto +  rf'{sp.latex(variable)}')"
   ]
  },
  {
   "cell_type": "markdown",
   "metadata": {
    "id": "L66opn_C5Tr_"
   },
   "source": [
    "Se definen las variables simbólicas necesarias:"
   ]
  },
  {
   "cell_type": "code",
   "execution_count": 2,
   "metadata": {
    "id": "S7-I1WarsUgw"
   },
   "outputs": [],
   "source": [
    "sr, st, sz    = sp.symbols(\"sigma_r, sigma_θ, sigma_z\")\n",
    "trt, trz, ttz = sp.symbols(\"tau_rθ,  tau_rz,  tau_θz\")\n",
    "r, t          = sp.symbols(\"r theta\")"
   ]
  },
  {
   "cell_type": "markdown",
   "metadata": {
    "id": "gUyQP-4l5Z5y"
   },
   "source": [
    "Se define la matriz de tensiones en coordenadas cilíndricas $\\underline{\\underline{\\boldsymbol{\\sigma}}}_{\\text{cil}}$:"
   ]
  },
  {
   "cell_type": "code",
   "execution_count": 3,
   "metadata": {
    "colab": {
     "base_uri": "https://localhost:8080/",
     "height": 78
    },
    "id": "GOVDxdkOtb4j",
    "outputId": "9a07c997-e29d-490a-d17a-a2a5146f8466"
   },
   "outputs": [
    {
     "data": {
      "text/latex": [
       "$\\displaystyle \\underline{\\underline{\\boldsymbol{\\sigma}}}_{\\text{cil}} = \\left[\\begin{matrix}\\sigma_{r} & \\tau_{rθ} & \\tau_{rz}\\\\\\tau_{rθ} & \\sigma_{θ} & \\tau_{θz}\\\\\\tau_{rz} & \\tau_{θz} & \\sigma_{z}\\end{matrix}\\right]$"
      ],
      "text/plain": [
       "<IPython.core.display.Math object>"
      ]
     },
     "execution_count": 3,
     "metadata": {},
     "output_type": "execute_result"
    }
   ],
   "source": [
    "sigma_cil = sp.Matrix([[  sr, trt, trz ],\n",
    "                       [ trt,  st, ttz ],                       \n",
    "                       [ trz, ttz,  sz ]])\n",
    "\n",
    "imprimir(r\"\\underline{\\underline{\\boldsymbol{\\sigma}}}_{\\text{cil}} = \", sigma_cil)"
   ]
  },
  {
   "cell_type": "markdown",
   "metadata": {
    "id": "vLtLDIWz5q_9"
   },
   "source": [
    "Se define la matriz de transformación $\\boldsymbol{T}$:"
   ]
  },
  {
   "cell_type": "code",
   "execution_count": 4,
   "metadata": {
    "colab": {
     "base_uri": "https://localhost:8080/",
     "height": 78
    },
    "id": "I5V1Uk_Rub9O",
    "outputId": "d858d132-fa45-4ac6-edf6-0856349e6c74"
   },
   "outputs": [
    {
     "data": {
      "text/latex": [
       "$\\displaystyle \\boldsymbol{T} = \\left[\\begin{matrix}\\cos{\\left(\\theta \\right)} & - \\sin{\\left(\\theta \\right)} & 0\\\\\\sin{\\left(\\theta \\right)} & \\cos{\\left(\\theta \\right)} & 0\\\\0 & 0 & 1\\end{matrix}\\right]$"
      ],
      "text/plain": [
       "<IPython.core.display.Math object>"
      ]
     },
     "execution_count": 4,
     "metadata": {},
     "output_type": "execute_result"
    }
   ],
   "source": [
    "T = sp.Matrix([[ cos(t), -sin(t),       0 ],     \n",
    "               [ sin(t),  cos(t),       0 ],      \n",
    "               [      0,       0,       1 ]])\n",
    "\n",
    "imprimir(r\"\\boldsymbol{T} = \", T)"
   ]
  },
  {
   "cell_type": "markdown",
   "metadata": {
    "id": "9du7Qzz07wKz"
   },
   "source": [
    "Se calcula la matriz de tensiones $\\underline{\\underline{\\boldsymbol{\\sigma}}}_{\\text{cil}}$ en el sistema de coordenadas especificadas por los vectores definidos en la matriz $\\boldsymbol{T}$. Recuerde que\n",
    "\n",
    "\\begin{equation*}\n",
    "\\underline{\\underline{\\boldsymbol{\\sigma}}} = \\boldsymbol{T} \\underline{\\underline{\\boldsymbol{\\sigma}}}_{\\text{cil}} \\boldsymbol{T}^T.\n",
    "\\end{equation*}"
   ]
  },
  {
   "cell_type": "code",
   "execution_count": 5,
   "metadata": {
    "id": "YLhi9ppBu7h8"
   },
   "outputs": [],
   "source": [
    "sigma = T*sigma_cil*T.T            # ecuación (6.25)"
   ]
  },
  {
   "cell_type": "markdown",
   "metadata": {
    "id": "wI_VbHIb8NMn"
   },
   "source": [
    "Se extraen los términos de la matriz de tensiones $\\underline{\\underline{\\boldsymbol{\\sigma}}}$:"
   ]
  },
  {
   "cell_type": "code",
   "execution_count": 6,
   "metadata": {
    "id": "WGpqR1I17g73"
   },
   "outputs": [],
   "source": [
    "sx  = sp.factor(sigma[0,0])  # elemento 1,1 de la matriz sigma\n",
    "sy  = sp.factor(sigma[1,1])\n",
    "sz  = sp.factor(sigma[2,2])\n",
    "txy = sp.factor(sigma[0,1])  # elemento 1,2 de la matriz sigma\n",
    "txz = sp.factor(sigma[0,2])  # elemento 1,3 de la matriz sigma\n",
    "tyz = sp.factor(sigma[1,2])  # elemento 2,3 de la matriz sigma"
   ]
  },
  {
   "cell_type": "code",
   "execution_count": 7,
   "metadata": {
    "colab": {
     "base_uri": "https://localhost:8080/",
     "height": 38
    },
    "id": "k_7k9Lsq8lYS",
    "outputId": "da1326c2-c1d3-4552-8daa-891c226a2a56"
   },
   "outputs": [
    {
     "data": {
      "text/latex": [
       "$\\displaystyle \\sigma_{x} = \\sigma_{r} \\cos^{2}{\\left(\\theta \\right)} + \\sigma_{θ} \\sin^{2}{\\left(\\theta \\right)} - 2 \\tau_{rθ} \\sin{\\left(\\theta \\right)} \\cos{\\left(\\theta \\right)}$"
      ],
      "text/plain": [
       "<IPython.core.display.Math object>"
      ]
     },
     "execution_count": 7,
     "metadata": {},
     "output_type": "execute_result"
    }
   ],
   "source": [
    "imprimir(r\"\\sigma_{x} = \", sx)"
   ]
  },
  {
   "cell_type": "code",
   "execution_count": 8,
   "metadata": {
    "colab": {
     "base_uri": "https://localhost:8080/",
     "height": 38
    },
    "id": "zkEVdn9JnSmh",
    "outputId": "4cd2aeac-6e95-4576-b096-db10b61b97df"
   },
   "outputs": [
    {
     "data": {
      "text/latex": [
       "$\\displaystyle \\sigma_{y} = \\sigma_{r} \\sin^{2}{\\left(\\theta \\right)} + \\sigma_{θ} \\cos^{2}{\\left(\\theta \\right)} + 2 \\tau_{rθ} \\sin{\\left(\\theta \\right)} \\cos{\\left(\\theta \\right)}$"
      ],
      "text/plain": [
       "<IPython.core.display.Math object>"
      ]
     },
     "execution_count": 8,
     "metadata": {},
     "output_type": "execute_result"
    }
   ],
   "source": [
    "imprimir(r\"\\sigma_{y} = \", sy)"
   ]
  },
  {
   "cell_type": "code",
   "execution_count": 9,
   "metadata": {
    "colab": {
     "base_uri": "https://localhost:8080/",
     "height": 38
    },
    "id": "fPXaS8Y9nSmj",
    "outputId": "1ca13f8f-2539-410f-a425-c189670fadd4"
   },
   "outputs": [
    {
     "data": {
      "text/latex": [
       "$\\displaystyle \\sigma_{z} = \\sigma_{z}$"
      ],
      "text/plain": [
       "<IPython.core.display.Math object>"
      ]
     },
     "execution_count": 9,
     "metadata": {},
     "output_type": "execute_result"
    }
   ],
   "source": [
    "imprimir(r\"\\sigma_{z} = \", sz)"
   ]
  },
  {
   "cell_type": "code",
   "execution_count": 10,
   "metadata": {
    "colab": {
     "base_uri": "https://localhost:8080/",
     "height": 38
    },
    "id": "FoKC5l4q9DTt",
    "outputId": "e7483510-3e24-4536-c9e1-9579b0a36bef"
   },
   "outputs": [
    {
     "data": {
      "text/latex": [
       "$\\displaystyle \\tau_{xy} = \\sigma_{r} \\sin{\\left(\\theta \\right)} \\cos{\\left(\\theta \\right)} - \\sigma_{θ} \\sin{\\left(\\theta \\right)} \\cos{\\left(\\theta \\right)} - \\tau_{rθ} \\sin^{2}{\\left(\\theta \\right)} + \\tau_{rθ} \\cos^{2}{\\left(\\theta \\right)}$"
      ],
      "text/plain": [
       "<IPython.core.display.Math object>"
      ]
     },
     "execution_count": 10,
     "metadata": {},
     "output_type": "execute_result"
    }
   ],
   "source": [
    "imprimir(r\"\\tau_{xy} = \", txy)"
   ]
  },
  {
   "cell_type": "code",
   "execution_count": 11,
   "metadata": {
    "colab": {
     "base_uri": "https://localhost:8080/",
     "height": 38
    },
    "id": "xgwALI5M85co",
    "outputId": "a66af31a-e111-480d-901a-c7bf7f0de520"
   },
   "outputs": [
    {
     "data": {
      "text/latex": [
       "$\\displaystyle \\tau_{xz} = \\tau_{rz} \\cos{\\left(\\theta \\right)} - \\tau_{θz} \\sin{\\left(\\theta \\right)}$"
      ],
      "text/plain": [
       "<IPython.core.display.Math object>"
      ]
     },
     "execution_count": 11,
     "metadata": {},
     "output_type": "execute_result"
    }
   ],
   "source": [
    "imprimir(r\"\\tau_{xz} = \", txz)"
   ]
  },
  {
   "cell_type": "code",
   "execution_count": 12,
   "metadata": {
    "colab": {
     "base_uri": "https://localhost:8080/",
     "height": 38
    },
    "id": "n_0ofZwEnSml",
    "outputId": "f96c4b39-2f37-4377-880e-e24f93fec235"
   },
   "outputs": [
    {
     "data": {
      "text/latex": [
       "$\\displaystyle \\tau_{y z} = \\tau_{rz} \\sin{\\left(\\theta \\right)} + \\tau_{θz} \\cos{\\left(\\theta \\right)}$"
      ],
      "text/plain": [
       "<IPython.core.display.Math object>"
      ]
     },
     "execution_count": 12,
     "metadata": {},
     "output_type": "execute_result"
    }
   ],
   "source": [
    "imprimir(r\"\\tau_{yz} = \", tyz)"
   ]
  }
 ],
 "metadata": {
  "colab": {
   "collapsed_sections": [],
   "include_colab_link": true,
   "provenance": []
  },
  "kernelspec": {
   "display_name": "Python 3 (ipykernel)",
   "language": "python",
   "name": "python3"
  },
  "language_info": {
   "codemirror_mode": {
    "name": "ipython",
    "version": 3
   },
   "file_extension": ".py",
   "mimetype": "text/x-python",
   "name": "python",
   "nbconvert_exporter": "python",
   "pygments_lexer": "ipython3",
   "version": "3.9.13"
  },
  "vscode": {
   "interpreter": {
    "hash": "916dbcbb3f70747c44a77c7bcd40155683ae19c65e1c03b4aa3499c5328201f1"
   }
  }
 },
 "nbformat": 4,
 "nbformat_minor": 4
}
